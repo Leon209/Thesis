{
 "cells": [
  {
   "cell_type": "markdown",
   "id": "ab280034-3a34-4e49-b7ba-c8ab37232491",
   "metadata": {},
   "source": [
    "# Dataset Generation"
   ]
  },
  {
   "cell_type": "code",
   "execution_count": 2,
   "id": "a6e210ba-0d83-45f7-83dd-e45deacaf56f",
   "metadata": {},
   "outputs": [
    {
     "name": "stdout",
     "output_type": "stream",
     "text": [
      "/work/lurny/files/Thesis\n"
     ]
    }
   ],
   "source": [
    "from skmultiflow.data import SEAGenerator \n",
    "from skmultiflow.data import HyperplaneGenerator\n",
    "from skmultiflow.data import RandomRBFGeneratorDrift\n",
    "from skmultiflow.drift_detection.adwin import ADWIN\n",
    "import matplotlib.pyplot as plt\n",
    "import numpy as np\n",
    "import pandas as pd\n",
    "import os\n",
    "os.chdir(\"..\")\n",
    "print(os.getcwd())"
   ]
  },
  {
   "cell_type": "markdown",
   "id": "8f8a006a-2670-4ab8-8b60-d2e371452626",
   "metadata": {
    "tags": []
   },
   "source": [
    "## Rotating Hyperplane"
   ]
  },
  {
   "cell_type": "code",
   "execution_count": 10,
   "id": "fab90eef-04ad-4df8-8e76-3105183f0454",
   "metadata": {},
   "outputs": [],
   "source": [
    "stream = HyperplaneGenerator(mag_change=0.001)"
   ]
  },
  {
   "cell_type": "code",
   "execution_count": 11,
   "id": "f697d958-147a-4d5b-8540-3498522ac592",
   "metadata": {},
   "outputs": [
    {
     "name": "stdout",
     "output_type": "stream",
     "text": [
      "(100000, 11)\n"
     ]
    }
   ],
   "source": [
    "temp = stream.next_sample(100000)\n",
    "stacked_data = np.column_stack((temp[0],temp[1]))\n",
    "print(stacked_data.shape)\n",
    "stream_data = pd.DataFrame(stacked_data)"
   ]
  },
  {
   "cell_type": "markdown",
   "id": "326867ac-cc16-4ddf-8863-f0c3d06d3e88",
   "metadata": {},
   "source": [
    "## RBF different speed"
   ]
  },
  {
   "cell_type": "code",
   "execution_count": 22,
   "id": "0d1f3d8b-053d-4b14-a643-7469cb154c23",
   "metadata": {},
   "outputs": [],
   "source": [
    "#(1,0.01) (2,0.001) (3,0.0001) (4, 0.00001) (5, 0.000001)\n",
    "stream = RandomRBFGeneratorDrift(change_speed = 0.000001)\n",
    "\n",
    "temp = stream.next_sample(250000)\n",
    "stacked_data = np.column_stack((temp[0],temp[1]))\n",
    "data = pd.DataFrame(data = stacked_data)#, columns = feature_names)\n",
    "data.to_csv('datasets_streaming/rbf_5.csv', index=False)"
   ]
  },
  {
   "cell_type": "code",
   "execution_count": 23,
   "id": "9efc4af8-bf94-4791-b7a7-e655c7120780",
   "metadata": {},
   "outputs": [
    {
     "data": {
      "text/plain": [
       "0.0    125396\n",
       "1.0    124604\n",
       "Name: 10, dtype: int64"
      ]
     },
     "execution_count": 23,
     "metadata": {},
     "output_type": "execute_result"
    }
   ],
   "source": [
    "test = pd.read_csv('datasets_streaming/rbf_5.csv')\n",
    "test['10'].value_counts()"
   ]
  },
  {
   "cell_type": "markdown",
   "id": "cf148b56-b56d-4241-83f8-a2df56568d51",
   "metadata": {
    "jp-MarkdownHeadingCollapsed": true,
    "tags": []
   },
   "source": [
    "## RBF_f"
   ]
  },
  {
   "cell_type": "code",
   "execution_count": 9,
   "id": "21cac7b9-b9e8-4831-9146-972e5d19bc7b",
   "metadata": {},
   "outputs": [],
   "source": [
    "stream = RandomRBFGeneratorDrift(change_speed = 0.01)\n",
    "\n",
    "temp = stream.next_sample(250000)\n",
    "stacked_data = np.column_stack((temp[0],temp[1]))\n",
    "data = pd.DataFrame(data = stacked_data)#, columns = feature_names)\n",
    "data.to_csv('datasets_streaming/rbf_f.csv', index=False)"
   ]
  },
  {
   "cell_type": "code",
   "execution_count": 14,
   "id": "938e227b-003d-4ea6-91c0-e7f15ea33729",
   "metadata": {},
   "outputs": [
    {
     "data": {
      "text/plain": [
       "0.0    135073\n",
       "1.0    114927\n",
       "Name: 10, dtype: int64"
      ]
     },
     "execution_count": 14,
     "metadata": {},
     "output_type": "execute_result"
    }
   ],
   "source": [
    "test = pd.read_csv('datasets_streaming/rbf_f.csv')\n",
    "test['10'].value_counts()"
   ]
  },
  {
   "cell_type": "markdown",
   "id": "b72387e1-a314-45e3-b57e-9e6cc8fb6533",
   "metadata": {
    "jp-MarkdownHeadingCollapsed": true,
    "tags": []
   },
   "source": [
    "## RBF_m"
   ]
  },
  {
   "cell_type": "code",
   "execution_count": 13,
   "id": "cba9973e-0d59-43c4-9358-183d36d0c0e6",
   "metadata": {},
   "outputs": [],
   "source": [
    "stream = RandomRBFGeneratorDrift(change_speed = 0.0001)\n",
    "\n",
    "temp = stream.next_sample(250000)\n",
    "stacked_data = np.column_stack((temp[0],temp[1]))\n",
    "data = pd.DataFrame(data = stacked_data)#, columns = feature_names)\n",
    "data.to_csv('datasets_streaming/rbf_m.csv', index=False)"
   ]
  },
  {
   "cell_type": "code",
   "execution_count": 15,
   "id": "bb89ba33-20c5-4b10-8b88-5344cde4bbe4",
   "metadata": {},
   "outputs": [
    {
     "data": {
      "text/plain": [
       "0.0    133921\n",
       "1.0    116079\n",
       "Name: 10, dtype: int64"
      ]
     },
     "execution_count": 15,
     "metadata": {},
     "output_type": "execute_result"
    }
   ],
   "source": [
    "test = pd.read_csv('datasets_streaming/rbf_m.csv')\n",
    "test['10'].value_counts()"
   ]
  },
  {
   "cell_type": "markdown",
   "id": "b7adb3e4-7d22-4565-9eec-afcb7bac1fe5",
   "metadata": {
    "jp-MarkdownHeadingCollapsed": true,
    "tags": []
   },
   "source": [
    "## Adwin"
   ]
  },
  {
   "cell_type": "code",
   "execution_count": 15,
   "id": "6096a072-86d6-4998-9e94-f3afceae7163",
   "metadata": {},
   "outputs": [
    {
     "data": {
      "text/plain": [
       "[0.8312193586308629,\n",
       " 0.18967413312268327,\n",
       " 0.35762446682406135,\n",
       " 0.07825689756631858,\n",
       " 0.9170027100471186,\n",
       " 0.6640050854867362,\n",
       " 0.10053494587076721,\n",
       " 0.5953246878564363,\n",
       " 0.931994368803802,\n",
       " 0.17373542062324887,\n",
       " 1.0]"
      ]
     },
     "execution_count": 15,
     "metadata": {},
     "output_type": "execute_result"
    }
   ],
   "source": [
    "stream_data.iloc[0,:].tolist()"
   ]
  },
  {
   "cell_type": "code",
   "execution_count": 2,
   "id": "e5eb22cc-335a-4a9b-a319-64c25da490c1",
   "metadata": {},
   "outputs": [],
   "source": [
    "data_stream = np.random.randint(2, size=2000)"
   ]
  },
  {
   "cell_type": "code",
   "execution_count": 3,
   "id": "990c6702-a055-4cf1-9c61-4254c6d90107",
   "metadata": {},
   "outputs": [
    {
     "data": {
      "text/plain": [
       "array([0, 0, 0, ..., 1, 1, 1])"
      ]
     },
     "execution_count": 3,
     "metadata": {},
     "output_type": "execute_result"
    }
   ],
   "source": [
    "data_stream"
   ]
  },
  {
   "cell_type": "code",
   "execution_count": 5,
   "id": "ec68b348-8130-45cc-903a-9a431e19b7e2",
   "metadata": {},
   "outputs": [
    {
     "name": "stdout",
     "output_type": "stream",
     "text": [
      "Change detected in data: 6 - at index: 1023\n",
      "Change detected in data: 7 - at index: 1055\n",
      "Change detected in data: 6 - at index: 1087\n"
     ]
    }
   ],
   "source": [
    "# Imports\n",
    "import numpy as np\n",
    "from skmultiflow.drift_detection.adwin import ADWIN\n",
    "adwin = ADWIN()\n",
    "# Simulating a data stream as a normal distribution of 1's and 0's\n",
    "data_stream = np.random.randint(2, size=2000)\n",
    "# Changing the data concept from index 999 to 2000\n",
    "for i in range(999, 2000):\n",
    "    data_stream[i] = np.random.randint(4, high=8)\n",
    "# Adding stream elements to ADWIN and verifying if drift occurred\n",
    "for i in range(2000):\n",
    "    adwin.add_element(data_stream[i])\n",
    "    if adwin.detected_change():\n",
    "        print('Change detected in data: ' + str(data_stream[i]) + ' - at index: ' + str(i))"
   ]
  },
  {
   "cell_type": "code",
   "execution_count": 7,
   "id": "9886821c-1358-4558-b8c4-b9127e0675b7",
   "metadata": {},
   "outputs": [
    {
     "data": {
      "text/plain": [
       "6"
      ]
     },
     "execution_count": 7,
     "metadata": {},
     "output_type": "execute_result"
    }
   ],
   "source": [
    "data_stream[1023]"
   ]
  },
  {
   "cell_type": "code",
   "execution_count": 15,
   "id": "0bbeb6dd-2b56-4b8a-86a4-7ae1c460658b",
   "metadata": {},
   "outputs": [],
   "source": [
    "from utilities.utilities_GDT import *"
   ]
  },
  {
   "cell_type": "code",
   "execution_count": 32,
   "id": "e527c1a8-d593-453a-bf3a-58cdb0e33d24",
   "metadata": {},
   "outputs": [],
   "source": [
    "X_data, y_data, nominal_features, ordinal_features = load_dataset_for_streams(identifier = 'BIN:sea_g', \n",
    "                                                                              max_total_samples = 1000000)"
   ]
  },
  {
   "cell_type": "code",
   "execution_count": 33,
   "id": "07a211c9-31d2-4df4-88d9-1c3385467d59",
   "metadata": {},
   "outputs": [
    {
     "data": {
      "text/plain": [
       "1.0    599100\n",
       "0.0    400900\n",
       "Name: class, dtype: int64"
      ]
     },
     "execution_count": 33,
     "metadata": {},
     "output_type": "execute_result"
    }
   ],
   "source": [
    "y_data.value_counts()"
   ]
  },
  {
   "cell_type": "markdown",
   "id": "6b3c9d63-c362-42cb-bc07-d9ee973cc845",
   "metadata": {
    "tags": []
   },
   "source": [
    "## Plots"
   ]
  },
  {
   "cell_type": "code",
   "execution_count": 2,
   "id": "ece62ae4-d0b6-431e-9b31-7dbff5dd50f5",
   "metadata": {},
   "outputs": [],
   "source": [
    "import math\n",
    "def split_df_chunks(data_df,chunk_size):\n",
    "    total_length     = len(data_df)\n",
    "    normal_chunk_num = math.floor(total_length/chunk_size)\n",
    "    chunks = []\n",
    "    for i in range(normal_chunk_num):\n",
    "        chunk = data_df[(i*chunk_size):((i+1)*chunk_size)]\n",
    "        chunks.append(chunk)\n",
    "\n",
    "    return chunks"
   ]
  },
  {
   "cell_type": "code",
   "execution_count": 27,
   "id": "dd3a065d-4540-4df2-82af-b2ed204a6ad6",
   "metadata": {},
   "outputs": [],
   "source": [
    "full_dataset = pd.read_csv('datasets_streaming/sea_a.csv')['class']\n",
    "data = split_df_chunks(full_dataset, 2500)\n",
    "dist = np.array([])\n",
    "for d in data:\n",
    "    dist = np.append(dist,d.value_counts(1)[1]*100)\n"
   ]
  },
  {
   "cell_type": "code",
   "execution_count": 37,
   "id": "c33b78a9-ead7-477b-826c-c19b48358e4c",
   "metadata": {},
   "outputs": [],
   "source": [
    "full_dataset = pd.read_csv('datasets_streaming/NEweather_class.csv')['0']\n",
    "\n",
    "data = split_df_chunks(full_dataset, 1000)\n",
    "dist = np.array([])\n",
    "for d in data:\n",
    "    dist = np.append(dist,d.value_counts(1)[1]*100)"
   ]
  },
  {
   "cell_type": "code",
   "execution_count": 38,
   "id": "d1329510-bb8d-49db-9658-124e68eb3be3",
   "metadata": {},
   "outputs": [
    {
     "data": {
      "image/png": "[encoded data removed]",
      "text/plain": [
       "<Figure size 640x480 with 1 Axes>"
      ]
     },
     "metadata": {},
     "output_type": "display_data"
    }
   ],
   "source": [
    "X = np.arange(0, len(dist), 1)\n",
    "\n",
    "plt.plot(X, dist, color='r', label='% of class 1', linewidth=1)\n",
    "\n",
    "  \n",
    "# Naming the x-axis, y-axis and the whole graph\n",
    "plt.ylabel(\"%\")\n",
    "#plt.title()\n",
    "plt.legend()\n",
    "ax = plt.gca()\n",
    "ax.axes.xaxis.set_ticklabels([])\n",
    "#plt.savefig('results/'+'sea_g'+'/class_dist.png', dpi = 300.0)\n",
    "plt.show()"
   ]
  },
  {
   "cell_type": "code",
   "execution_count": null,
   "id": "636bf6a6-9327-4a1b-88ca-baa18b0af2c9",
   "metadata": {},
   "outputs": [],
   "source": []
  }
 ],
 "metadata": {
  "kernelspec": {
   "display_name": "env",
   "language": "python",
   "name": "env"
  },
  "language_info": {
   "codemirror_mode": {
    "name": "ipython",
    "version": 3
   },
   "file_extension": ".py",
   "mimetype": "text/x-python",
   "name": "python",
   "nbconvert_exporter": "python",
   "pygments_lexer": "ipython3",
   "version": "3.9.2"
  }
 },
 "nbformat": 4,
 "nbformat_minor": 5
}
