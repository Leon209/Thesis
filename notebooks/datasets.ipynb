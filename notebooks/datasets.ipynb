{
 "cells": [
  {
   "cell_type": "markdown",
   "id": "ab280034-3a34-4e49-b7ba-c8ab37232491",
   "metadata": {},
   "source": [
    "# Dataset Generation"
   ]
  },
  {
   "cell_type": "code",
   "execution_count": 1,
   "id": "a6e210ba-0d83-45f7-83dd-e45deacaf56f",
   "metadata": {},
   "outputs": [
    {
     "name": "stdout",
     "output_type": "stream",
     "text": [
      "/work/lurny/files/Thesis\n"
     ]
    }
   ],
   "source": [
    "from skmultiflow.data import SEAGenerator \n",
    "from skmultiflow.data import HyperplaneGenerator\n",
    "from skmultiflow.data import RandomRBFGeneratorDrift\n",
    "import numpy as np\n",
    "import pandas as pd\n",
    "import os\n",
    "os.chdir(\"..\")\n",
    "print(os.getcwd())"
   ]
  },
  {
   "cell_type": "markdown",
   "id": "af251e73-a399-4b9d-9c89-c425b3302b81",
   "metadata": {},
   "source": [
    "## SEA"
   ]
  },
  {
   "cell_type": "code",
   "execution_count": 7,
   "id": "c6c6273f-497e-43c0-8794-f6c1bfd29271",
   "metadata": {},
   "outputs": [],
   "source": [
    "stream = SEAGenerator(balance_classes = True, noise_percentage=0.1)"
   ]
  },
  {
   "cell_type": "code",
   "execution_count": 8,
   "id": "e389e71d-6a83-4fcf-aa6a-98120eefacbc",
   "metadata": {},
   "outputs": [
    {
     "data": {
      "text/plain": [
       "'SEA Generator - 1 target(s), 2 classes, 3 features'"
      ]
     },
     "execution_count": 8,
     "metadata": {},
     "output_type": "execute_result"
    }
   ],
   "source": [
    "stream.get_data_info()"
   ]
  },
  {
   "cell_type": "code",
   "execution_count": 9,
   "id": "f2da348e-9a35-4eb3-a9c1-e11537af7496",
   "metadata": {},
   "outputs": [
    {
     "name": "stdout",
     "output_type": "stream",
     "text": [
      "(50000, 4)\n",
      "(50000, 4)\n",
      "(50000, 4)\n",
      "(50000, 4)\n"
     ]
    }
   ],
   "source": [
    "stream_data = np.empty((0, 4), float)\n",
    "for i in range(4):\n",
    "    temp = stream.next_sample(50000)\n",
    "    stream.generate_drift()\n",
    "    stacked_data = np.column_stack((temp[0],temp[1]))\n",
    "    print(stacked_data.shape)\n",
    "    stream_data = np.concatenate((stream_data, stacked_data), axis=0)\n",
    "stream_data = pd.DataFrame(stacked_data)   "
   ]
  },
  {
   "cell_type": "markdown",
   "id": "8f8a006a-2670-4ab8-8b60-d2e371452626",
   "metadata": {},
   "source": [
    "## Rotating Hyperplane"
   ]
  },
  {
   "cell_type": "code",
   "execution_count": 10,
   "id": "fab90eef-04ad-4df8-8e76-3105183f0454",
   "metadata": {},
   "outputs": [],
   "source": [
    "stream = HyperplaneGenerator(mag_change=0.001)"
   ]
  },
  {
   "cell_type": "code",
   "execution_count": 11,
   "id": "f697d958-147a-4d5b-8540-3498522ac592",
   "metadata": {},
   "outputs": [
    {
     "name": "stdout",
     "output_type": "stream",
     "text": [
      "(100000, 11)\n"
     ]
    }
   ],
   "source": [
    "temp = stream.next_sample(100000)\n",
    "stacked_data = np.column_stack((temp[0],temp[1]))\n",
    "print(stacked_data.shape)\n",
    "stream_data = pd.DataFrame(stacked_data)"
   ]
  },
  {
   "cell_type": "markdown",
   "id": "cf148b56-b56d-4241-83f8-a2df56568d51",
   "metadata": {},
   "source": [
    "## RBF_f"
   ]
  },
  {
   "cell_type": "code",
   "execution_count": 4,
   "id": "594cfd07-18e5-4898-90c3-ea9051ed366a",
   "metadata": {},
   "outputs": [],
   "source": [
    "stream = RandomRBFGeneratorDrift(change_speed = 0.001)"
   ]
  },
  {
   "cell_type": "code",
   "execution_count": 5,
   "id": "87cae30e-0489-4dda-b3db-66979fe23c59",
   "metadata": {},
   "outputs": [
    {
     "name": "stdout",
     "output_type": "stream",
     "text": [
      "(100000, 11)\n"
     ]
    }
   ],
   "source": [
    "temp = stream.next_sample(100000)\n",
    "stacked_data = np.column_stack((temp[0],temp[1]))\n",
    "print(stacked_data.shape)\n",
    "stream_data = pd.DataFrame(stacked_data)"
   ]
  },
  {
   "cell_type": "markdown",
   "id": "b72387e1-a314-45e3-b57e-9e6cc8fb6533",
   "metadata": {},
   "source": [
    "## RBF_m"
   ]
  },
  {
   "cell_type": "code",
   "execution_count": 12,
   "id": "7e0cd17f-4fe4-40e9-8bd4-f0e8aced16e7",
   "metadata": {},
   "outputs": [],
   "source": [
    "stream = RandomRBFGeneratorDrift(change_speed = 0.0001)"
   ]
  },
  {
   "cell_type": "code",
   "execution_count": 13,
   "id": "105c1be9-2258-4fe1-84a8-9f9c8fae6fed",
   "metadata": {},
   "outputs": [],
   "source": [
    "temp = stream.next_sample(100000)\n",
    "stacked_data = np.column_stack((temp[0],temp[1]))\n",
    "stream_data = pd.DataFrame(data = stacked_data, columns = feature_names)"
   ]
  },
  {
   "cell_type": "code",
   "execution_count": 17,
   "id": "71e86a5c-6d49-46d9-9edc-b4a85a673389",
   "metadata": {},
   "outputs": [],
   "source": [
    "        feature_names = [\n",
    "                        'att1', #numeric\n",
    "                        'att2', #numeric\n",
    "                        'att3', #numeric\n",
    "                        'att4', #numeric\n",
    "                        'att5', #numeric\n",
    "                        'att6', #numeric\n",
    "                        'att7', #numeric     \n",
    "                        'att8', #numeric\n",
    "                        'att9', #numeric\n",
    "                        'att10',#numeric\n",
    "                        'class' #binary\n",
    "                        ]"
   ]
  },
  {
   "cell_type": "code",
   "execution_count": 18,
   "id": "284f8e93-7564-4658-97c6-ae9164545563",
   "metadata": {},
   "outputs": [
    {
     "name": "stdout",
     "output_type": "stream",
     "text": [
      "(100000, 11)\n"
     ]
    }
   ],
   "source": [
    "print(stacked_data.shape)\n",
    "stream_data = pd.DataFrame(data = stacked_data, columns = feature_names)"
   ]
  },
  {
   "cell_type": "code",
   "execution_count": 19,
   "id": "ad46f4ec-a225-4dd5-b425-663e5700bc0e",
   "metadata": {},
   "outputs": [
    {
     "data": {
      "text/html": [
       "<div>\n",
       "<style scoped>\n",
       "    .dataframe tbody tr th:only-of-type {\n",
       "        vertical-align: middle;\n",
       "    }\n",
       "\n",
       "    .dataframe tbody tr th {\n",
       "        vertical-align: top;\n",
       "    }\n",
       "\n",
       "    .dataframe thead th {\n",
       "        text-align: right;\n",
       "    }\n",
       "</style>\n",
       "<table border=\"1\" class=\"dataframe\">\n",
       "  <thead>\n",
       "    <tr style=\"text-align: right;\">\n",
       "      <th></th>\n",
       "      <th>att1</th>\n",
       "      <th>att2</th>\n",
       "      <th>att3</th>\n",
       "      <th>att4</th>\n",
       "      <th>att5</th>\n",
       "      <th>att6</th>\n",
       "      <th>att7</th>\n",
       "      <th>att8</th>\n",
       "      <th>att9</th>\n",
       "      <th>att10</th>\n",
       "      <th>class</th>\n",
       "    </tr>\n",
       "  </thead>\n",
       "  <tbody>\n",
       "    <tr>\n",
       "      <th>0</th>\n",
       "      <td>0.102034</td>\n",
       "      <td>0.125037</td>\n",
       "      <td>0.330736</td>\n",
       "      <td>0.676068</td>\n",
       "      <td>0.690732</td>\n",
       "      <td>1.028711</td>\n",
       "      <td>0.007201</td>\n",
       "      <td>0.880675</td>\n",
       "      <td>0.586631</td>\n",
       "      <td>0.513293</td>\n",
       "      <td>1.0</td>\n",
       "    </tr>\n",
       "    <tr>\n",
       "      <th>1</th>\n",
       "      <td>0.026614</td>\n",
       "      <td>0.294295</td>\n",
       "      <td>0.748924</td>\n",
       "      <td>0.775261</td>\n",
       "      <td>0.439698</td>\n",
       "      <td>0.696872</td>\n",
       "      <td>0.194037</td>\n",
       "      <td>0.298757</td>\n",
       "      <td>0.734836</td>\n",
       "      <td>0.213612</td>\n",
       "      <td>1.0</td>\n",
       "    </tr>\n",
       "    <tr>\n",
       "      <th>2</th>\n",
       "      <td>0.012436</td>\n",
       "      <td>0.151828</td>\n",
       "      <td>0.828925</td>\n",
       "      <td>0.342377</td>\n",
       "      <td>0.364233</td>\n",
       "      <td>0.696864</td>\n",
       "      <td>0.436807</td>\n",
       "      <td>0.911667</td>\n",
       "      <td>0.342359</td>\n",
       "      <td>0.945970</td>\n",
       "      <td>0.0</td>\n",
       "    </tr>\n",
       "    <tr>\n",
       "      <th>3</th>\n",
       "      <td>0.091978</td>\n",
       "      <td>0.486855</td>\n",
       "      <td>0.243973</td>\n",
       "      <td>-0.018772</td>\n",
       "      <td>0.000432</td>\n",
       "      <td>0.919713</td>\n",
       "      <td>0.620657</td>\n",
       "      <td>0.789065</td>\n",
       "      <td>0.595477</td>\n",
       "      <td>0.148059</td>\n",
       "      <td>0.0</td>\n",
       "    </tr>\n",
       "    <tr>\n",
       "      <th>4</th>\n",
       "      <td>0.377079</td>\n",
       "      <td>1.045837</td>\n",
       "      <td>0.504851</td>\n",
       "      <td>0.473854</td>\n",
       "      <td>0.698541</td>\n",
       "      <td>1.105675</td>\n",
       "      <td>0.590981</td>\n",
       "      <td>0.477478</td>\n",
       "      <td>-0.055097</td>\n",
       "      <td>0.460484</td>\n",
       "      <td>0.0</td>\n",
       "    </tr>\n",
       "    <tr>\n",
       "      <th>...</th>\n",
       "      <td>...</td>\n",
       "      <td>...</td>\n",
       "      <td>...</td>\n",
       "      <td>...</td>\n",
       "      <td>...</td>\n",
       "      <td>...</td>\n",
       "      <td>...</td>\n",
       "      <td>...</td>\n",
       "      <td>...</td>\n",
       "      <td>...</td>\n",
       "      <td>...</td>\n",
       "    </tr>\n",
       "    <tr>\n",
       "      <th>99995</th>\n",
       "      <td>0.925736</td>\n",
       "      <td>0.579611</td>\n",
       "      <td>0.627123</td>\n",
       "      <td>0.378866</td>\n",
       "      <td>0.090409</td>\n",
       "      <td>0.766725</td>\n",
       "      <td>0.793967</td>\n",
       "      <td>0.123864</td>\n",
       "      <td>0.415865</td>\n",
       "      <td>0.414703</td>\n",
       "      <td>1.0</td>\n",
       "    </tr>\n",
       "    <tr>\n",
       "      <th>99996</th>\n",
       "      <td>0.857149</td>\n",
       "      <td>0.952585</td>\n",
       "      <td>0.418621</td>\n",
       "      <td>0.242639</td>\n",
       "      <td>0.803960</td>\n",
       "      <td>0.139686</td>\n",
       "      <td>0.523829</td>\n",
       "      <td>0.103295</td>\n",
       "      <td>1.134717</td>\n",
       "      <td>1.016213</td>\n",
       "      <td>1.0</td>\n",
       "    </tr>\n",
       "    <tr>\n",
       "      <th>99997</th>\n",
       "      <td>0.916408</td>\n",
       "      <td>0.587606</td>\n",
       "      <td>0.613717</td>\n",
       "      <td>0.384635</td>\n",
       "      <td>0.105559</td>\n",
       "      <td>0.761105</td>\n",
       "      <td>0.785614</td>\n",
       "      <td>0.103218</td>\n",
       "      <td>0.442804</td>\n",
       "      <td>0.402356</td>\n",
       "      <td>1.0</td>\n",
       "    </tr>\n",
       "    <tr>\n",
       "      <th>99998</th>\n",
       "      <td>0.957973</td>\n",
       "      <td>1.045931</td>\n",
       "      <td>0.808402</td>\n",
       "      <td>0.647012</td>\n",
       "      <td>0.254242</td>\n",
       "      <td>0.718754</td>\n",
       "      <td>0.382947</td>\n",
       "      <td>0.241266</td>\n",
       "      <td>0.654975</td>\n",
       "      <td>0.480730</td>\n",
       "      <td>0.0</td>\n",
       "    </tr>\n",
       "    <tr>\n",
       "      <th>99999</th>\n",
       "      <td>0.448276</td>\n",
       "      <td>0.678878</td>\n",
       "      <td>0.281235</td>\n",
       "      <td>0.536691</td>\n",
       "      <td>0.105950</td>\n",
       "      <td>0.857912</td>\n",
       "      <td>0.646440</td>\n",
       "      <td>0.972731</td>\n",
       "      <td>0.622515</td>\n",
       "      <td>0.099078</td>\n",
       "      <td>0.0</td>\n",
       "    </tr>\n",
       "  </tbody>\n",
       "</table>\n",
       "<p>100000 rows × 11 columns</p>\n",
       "</div>"
      ],
      "text/plain": [
       "           att1      att2      att3      att4      att5      att6      att7  \\\n",
       "0      0.102034  0.125037  0.330736  0.676068  0.690732  1.028711  0.007201   \n",
       "1      0.026614  0.294295  0.748924  0.775261  0.439698  0.696872  0.194037   \n",
       "2      0.012436  0.151828  0.828925  0.342377  0.364233  0.696864  0.436807   \n",
       "3      0.091978  0.486855  0.243973 -0.018772  0.000432  0.919713  0.620657   \n",
       "4      0.377079  1.045837  0.504851  0.473854  0.698541  1.105675  0.590981   \n",
       "...         ...       ...       ...       ...       ...       ...       ...   \n",
       "99995  0.925736  0.579611  0.627123  0.378866  0.090409  0.766725  0.793967   \n",
       "99996  0.857149  0.952585  0.418621  0.242639  0.803960  0.139686  0.523829   \n",
       "99997  0.916408  0.587606  0.613717  0.384635  0.105559  0.761105  0.785614   \n",
       "99998  0.957973  1.045931  0.808402  0.647012  0.254242  0.718754  0.382947   \n",
       "99999  0.448276  0.678878  0.281235  0.536691  0.105950  0.857912  0.646440   \n",
       "\n",
       "           att8      att9     att10  class  \n",
       "0      0.880675  0.586631  0.513293    1.0  \n",
       "1      0.298757  0.734836  0.213612    1.0  \n",
       "2      0.911667  0.342359  0.945970    0.0  \n",
       "3      0.789065  0.595477  0.148059    0.0  \n",
       "4      0.477478 -0.055097  0.460484    0.0  \n",
       "...         ...       ...       ...    ...  \n",
       "99995  0.123864  0.415865  0.414703    1.0  \n",
       "99996  0.103295  1.134717  1.016213    1.0  \n",
       "99997  0.103218  0.442804  0.402356    1.0  \n",
       "99998  0.241266  0.654975  0.480730    0.0  \n",
       "99999  0.972731  0.622515  0.099078    0.0  \n",
       "\n",
       "[100000 rows x 11 columns]"
      ]
     },
     "execution_count": 19,
     "metadata": {},
     "output_type": "execute_result"
    }
   ],
   "source": [
    "stream_data"
   ]
  },
  {
   "cell_type": "code",
   "execution_count": null,
   "id": "caff5476-9d56-4e25-b000-1f4e8490a388",
   "metadata": {},
   "outputs": [],
   "source": []
  }
 ],
 "metadata": {
  "kernelspec": {
   "display_name": "env",
   "language": "python",
   "name": "env"
  },
  "language_info": {
   "codemirror_mode": {
    "name": "ipython",
    "version": 3
   },
   "file_extension": ".py",
   "mimetype": "text/x-python",
   "name": "python",
   "nbconvert_exporter": "python",
   "pygments_lexer": "ipython3",
   "version": "3.9.2"
  }
 },
 "nbformat": 4,
 "nbformat_minor": 5
}
