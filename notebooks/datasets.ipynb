{
 "cells": [
  {
   "cell_type": "markdown",
   "id": "ab280034-3a34-4e49-b7ba-c8ab37232491",
   "metadata": {},
   "source": [
    "# Dataset Generation"
   ]
  },
  {
   "cell_type": "code",
   "execution_count": 2,
   "id": "a6e210ba-0d83-45f7-83dd-e45deacaf56f",
   "metadata": {},
   "outputs": [],
   "source": [
    "from skmultiflow.data import SEAGenerator \n",
    "import numpy as np"
   ]
  },
  {
   "cell_type": "code",
   "execution_count": 15,
   "id": "c6c6273f-497e-43c0-8794-f6c1bfd29271",
   "metadata": {},
   "outputs": [],
   "source": [
    "stream = SEAGenerator(balance_classes = True, noise_percentage=0.1)"
   ]
  },
  {
   "cell_type": "code",
   "execution_count": 16,
   "id": "e389e71d-6a83-4fcf-aa6a-98120eefacbc",
   "metadata": {},
   "outputs": [
    {
     "data": {
      "text/plain": [
       "'SEA Generator - 1 target(s), 2 classes, 3 features'"
      ]
     },
     "execution_count": 16,
     "metadata": {},
     "output_type": "execute_result"
    }
   ],
   "source": [
    "stream.get_data_info()"
   ]
  },
  {
   "cell_type": "code",
   "execution_count": 17,
   "id": "f2da348e-9a35-4eb3-a9c1-e11537af7496",
   "metadata": {},
   "outputs": [
    {
     "name": "stdout",
     "output_type": "stream",
     "text": [
      "(50000, 4)\n",
      "(50000, 4)\n",
      "(50000, 4)\n",
      "(50000, 4)\n"
     ]
    }
   ],
   "source": [
    "stream_data = np.empty((0, 4), float)\n",
    "for i in range(4):\n",
    "    temp = stream.next_sample(50000)\n",
    "    stream.generate_drift()\n",
    "    stacked_data = np.column_stack((temp[0],temp[1]))\n",
    "    print(stacked_data.shape)\n",
    "    stream_data = np.concatenate((stream_data, stacked_data), axis=0)\n",
    "    "
   ]
  },
  {
   "cell_type": "code",
   "execution_count": 18,
   "id": "4657db0d-0dde-4493-a68f-1202a54ce78c",
   "metadata": {},
   "outputs": [
    {
     "data": {
      "text/plain": [
       "200000"
      ]
     },
     "execution_count": 18,
     "metadata": {},
     "output_type": "execute_result"
    }
   ],
   "source": [
    "len(stream_data)"
   ]
  },
  {
   "cell_type": "code",
   "execution_count": null,
   "id": "1a39a958-3f5d-4ac5-bd78-c1399b1aafda",
   "metadata": {},
   "outputs": [],
   "source": []
  }
 ],
 "metadata": {
  "kernelspec": {
   "display_name": "env",
   "language": "python",
   "name": "env"
  },
  "language_info": {
   "codemirror_mode": {
    "name": "ipython",
    "version": 3
   },
   "file_extension": ".py",
   "mimetype": "text/x-python",
   "name": "python",
   "nbconvert_exporter": "python",
   "pygments_lexer": "ipython3",
   "version": "3.9.2"
  }
 },
 "nbformat": 4,
 "nbformat_minor": 5
}
