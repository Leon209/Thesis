{
 "cells": [
  {
   "cell_type": "markdown",
   "id": "ab280034-3a34-4e49-b7ba-c8ab37232491",
   "metadata": {},
   "source": [
    "# Dataset Generation"
   ]
  },
  {
   "cell_type": "code",
   "execution_count": 2,
   "id": "a6e210ba-0d83-45f7-83dd-e45deacaf56f",
   "metadata": {},
   "outputs": [],
   "source": [
    "from skmultiflow.data import LEDGeneratorDrift "
   ]
  },
  {
   "cell_type": "code",
   "execution_count": 10,
   "id": "c6c6273f-497e-43c0-8794-f6c1bfd29271",
   "metadata": {},
   "outputs": [],
   "source": [
    "stream = LEDGeneratorDrift(n_drift_features = 4)"
   ]
  },
  {
   "cell_type": "code",
   "execution_count": 54,
   "id": "e389e71d-6a83-4fcf-aa6a-98120eefacbc",
   "metadata": {},
   "outputs": [
    {
     "data": {
      "text/plain": [
       "'Led Generator with drift - 7 features'"
      ]
     },
     "execution_count": 54,
     "metadata": {},
     "output_type": "execute_result"
    }
   ],
   "source": [
    "stream.get_data_info()"
   ]
  },
  {
   "cell_type": "code",
   "execution_count": 12,
   "id": "b4671751-5730-4457-8adb-6b1ce55e3b48",
   "metadata": {},
   "outputs": [
    {
     "data": {
      "text/plain": [
       "-1"
      ]
     },
     "execution_count": 12,
     "metadata": {},
     "output_type": "execute_result"
    }
   ],
   "source": [
    "stream.n_remaining_samples()"
   ]
  },
  {
   "cell_type": "code",
   "execution_count": 53,
   "id": "62735fa6-9d77-411b-82e8-1aa4bc2046ae",
   "metadata": {},
   "outputs": [],
   "source": [
    "test = stream.next_sample(100000)"
   ]
  },
  {
   "cell_type": "code",
   "execution_count": 43,
   "id": "161ebaa8-acb0-484b-8bd7-c9981daa0ae8",
   "metadata": {},
   "outputs": [
    {
     "data": {
      "text/plain": [
       "array([2, 9, 7, ..., 5, 4, 0])"
      ]
     },
     "execution_count": 43,
     "metadata": {},
     "output_type": "execute_result"
    }
   ],
   "source": [
    "test[1]"
   ]
  },
  {
   "cell_type": "code",
   "execution_count": null,
   "id": "15847189-7180-445e-bdd5-f9310e89e47f",
   "metadata": {},
   "outputs": [],
   "source": []
  }
 ],
 "metadata": {
  "kernelspec": {
   "display_name": "env",
   "language": "python",
   "name": "env"
  },
  "language_info": {
   "codemirror_mode": {
    "name": "ipython",
    "version": 3
   },
   "file_extension": ".py",
   "mimetype": "text/x-python",
   "name": "python",
   "nbconvert_exporter": "python",
   "pygments_lexer": "ipython3",
   "version": "3.9.2"
  }
 },
 "nbformat": 4,
 "nbformat_minor": 5
}
