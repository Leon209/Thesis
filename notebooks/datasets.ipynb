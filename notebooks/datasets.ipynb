{
 "cells": [
  {
   "cell_type": "markdown",
   "id": "ab280034-3a34-4e49-b7ba-c8ab37232491",
   "metadata": {},
   "source": [
    "# Dataset Generation"
   ]
  },
  {
   "cell_type": "code",
   "execution_count": 1,
   "id": "a6e210ba-0d83-45f7-83dd-e45deacaf56f",
   "metadata": {},
   "outputs": [
    {
     "name": "stdout",
     "output_type": "stream",
     "text": [
      "/work/lurny/files/Thesis\n"
     ]
    }
   ],
   "source": [
    "from skmultiflow.data import SEAGenerator \n",
    "from skmultiflow.data import HyperplaneGenerator\n",
    "from skmultiflow.data import RandomRBFGeneratorDrift\n",
    "import numpy as np\n",
    "import pandas as pd\n",
    "import os\n",
    "os.chdir(\"..\")\n",
    "print(os.getcwd())"
   ]
  },
  {
   "cell_type": "markdown",
   "id": "af251e73-a399-4b9d-9c89-c425b3302b81",
   "metadata": {},
   "source": [
    "## SEA"
   ]
  },
  {
   "cell_type": "code",
   "execution_count": null,
   "id": "c6c6273f-497e-43c0-8794-f6c1bfd29271",
   "metadata": {},
   "outputs": [],
   "source": [
    "stream = SEAGenerator(balance_classes = True, noise_percentage=0.1)"
   ]
  },
  {
   "cell_type": "code",
   "execution_count": 16,
   "id": "e389e71d-6a83-4fcf-aa6a-98120eefacbc",
   "metadata": {},
   "outputs": [
    {
     "data": {
      "text/plain": [
       "'SEA Generator - 1 target(s), 2 classes, 3 features'"
      ]
     },
     "execution_count": 16,
     "metadata": {},
     "output_type": "execute_result"
    }
   ],
   "source": [
    "stream.get_data_info()"
   ]
  },
  {
   "cell_type": "code",
   "execution_count": 17,
   "id": "f2da348e-9a35-4eb3-a9c1-e11537af7496",
   "metadata": {},
   "outputs": [
    {
     "name": "stdout",
     "output_type": "stream",
     "text": [
      "(50000, 4)\n",
      "(50000, 4)\n",
      "(50000, 4)\n",
      "(50000, 4)\n"
     ]
    }
   ],
   "source": [
    "stream_data = np.empty((0, 4), float)\n",
    "for i in range(4):\n",
    "    temp = stream.next_sample(50000)\n",
    "    stream.generate_drift()\n",
    "    stacked_data = np.column_stack((temp[0],temp[1]))\n",
    "    print(stacked_data.shape)\n",
    "    stream_data = np.concatenate((stream_data, stacked_data), axis=0)\n",
    "    "
   ]
  },
  {
   "cell_type": "code",
   "execution_count": 18,
   "id": "4657db0d-0dde-4493-a68f-1202a54ce78c",
   "metadata": {},
   "outputs": [
    {
     "data": {
      "text/plain": [
       "200000"
      ]
     },
     "execution_count": 18,
     "metadata": {},
     "output_type": "execute_result"
    }
   ],
   "source": [
    "len(stream_data)"
   ]
  },
  {
   "cell_type": "markdown",
   "id": "8f8a006a-2670-4ab8-8b60-d2e371452626",
   "metadata": {},
   "source": [
    "## Rotating Hyperplane"
   ]
  },
  {
   "cell_type": "code",
   "execution_count": 2,
   "id": "fab90eef-04ad-4df8-8e76-3105183f0454",
   "metadata": {},
   "outputs": [],
   "source": [
    "stream = HyperplaneGenerator(mag_change=0.001)"
   ]
  },
  {
   "cell_type": "code",
   "execution_count": 3,
   "id": "f697d958-147a-4d5b-8540-3498522ac592",
   "metadata": {},
   "outputs": [
    {
     "ename": "NameError",
     "evalue": "name 'stream' is not defined",
     "output_type": "error",
     "traceback": [
      "\u001b[0;31m---------------------------------------------------------------------------\u001b[0m",
      "\u001b[0;31mNameError\u001b[0m                                 Traceback (most recent call last)",
      "Cell \u001b[0;32mIn [3], line 1\u001b[0m\n\u001b[0;32m----> 1\u001b[0m temp \u001b[38;5;241m=\u001b[39m \u001b[43mstream\u001b[49m\u001b[38;5;241m.\u001b[39mnext_sample(\u001b[38;5;241m100000\u001b[39m)\n\u001b[1;32m      2\u001b[0m stacked_data \u001b[38;5;241m=\u001b[39m np\u001b[38;5;241m.\u001b[39mcolumn_stack((temp[\u001b[38;5;241m0\u001b[39m],temp[\u001b[38;5;241m1\u001b[39m]))\n\u001b[1;32m      3\u001b[0m \u001b[38;5;28mprint\u001b[39m(stacked_data\u001b[38;5;241m.\u001b[39mshape)\n",
      "\u001b[0;31mNameError\u001b[0m: name 'stream' is not defined"
     ]
    }
   ],
   "source": [
    "temp = stream.next_sample(100000)\n",
    "stacked_data = np.column_stack((temp[0],temp[1]))\n",
    "print(stacked_data.shape)\n",
    "stream_data = pd.DataFrame(stacked_data)"
   ]
  },
  {
   "cell_type": "markdown",
   "id": "cf148b56-b56d-4241-83f8-a2df56568d51",
   "metadata": {},
   "source": [
    "## RBF_f"
   ]
  },
  {
   "cell_type": "code",
   "execution_count": 4,
   "id": "594cfd07-18e5-4898-90c3-ea9051ed366a",
   "metadata": {},
   "outputs": [],
   "source": [
    "stream = RandomRBFGeneratorDrift(change_speed = 0.001)"
   ]
  },
  {
   "cell_type": "code",
   "execution_count": 5,
   "id": "87cae30e-0489-4dda-b3db-66979fe23c59",
   "metadata": {},
   "outputs": [
    {
     "name": "stdout",
     "output_type": "stream",
     "text": [
      "(100000, 11)\n"
     ]
    }
   ],
   "source": [
    "temp = stream.next_sample(100000)\n",
    "stacked_data = np.column_stack((temp[0],temp[1]))\n",
    "print(stacked_data.shape)\n",
    "stream_data = pd.DataFrame(stacked_data)"
   ]
  },
  {
   "cell_type": "markdown",
   "id": "b72387e1-a314-45e3-b57e-9e6cc8fb6533",
   "metadata": {},
   "source": [
    "## RBF_m"
   ]
  },
  {
   "cell_type": "code",
   "execution_count": null,
   "id": "7e0cd17f-4fe4-40e9-8bd4-f0e8aced16e7",
   "metadata": {},
   "outputs": [],
   "source": [
    "stream = RandomRBFGeneratorDrift(change_speed = 0.0001)"
   ]
  },
  {
   "cell_type": "code",
   "execution_count": null,
   "id": "105c1be9-2258-4fe1-84a8-9f9c8fae6fed",
   "metadata": {},
   "outputs": [],
   "source": [
    "temp = stream.next_sample(100000)\n",
    "stacked_data = np.column_stack((temp[0],temp[1]))\n",
    "print(stacked_data.shape)\n",
    "stream_data = pd.DataFrame(stacked_data)"
   ]
  }
 ],
 "metadata": {
  "kernelspec": {
   "display_name": "env",
   "language": "python",
   "name": "env"
  },
  "language_info": {
   "codemirror_mode": {
    "name": "ipython",
    "version": 3
   },
   "file_extension": ".py",
   "mimetype": "text/x-python",
   "name": "python",
   "nbconvert_exporter": "python",
   "pygments_lexer": "ipython3",
   "version": "3.9.2"
  }
 },
 "nbformat": 4,
 "nbformat_minor": 5
}
