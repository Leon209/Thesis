{
 "cells": [
  {
   "cell_type": "markdown",
   "id": "ab280034-3a34-4e49-b7ba-c8ab37232491",
   "metadata": {},
   "source": [
    "# Dataset Generation"
   ]
  },
  {
   "cell_type": "code",
   "execution_count": 29,
   "id": "a6e210ba-0d83-45f7-83dd-e45deacaf56f",
   "metadata": {},
   "outputs": [],
   "source": [
    "from skmultiflow.data import SEAGenerator \n",
    "import numpy as np"
   ]
  },
  {
   "cell_type": "code",
   "execution_count": 19,
   "id": "c6c6273f-497e-43c0-8794-f6c1bfd29271",
   "metadata": {},
   "outputs": [],
   "source": [
    "stream = SEAGenerator()"
   ]
  },
  {
   "cell_type": "code",
   "execution_count": 26,
   "id": "e389e71d-6a83-4fcf-aa6a-98120eefacbc",
   "metadata": {},
   "outputs": [
    {
     "data": {
      "text/plain": [
       "'SEA Generator - 1 target(s), 2 classes, 3 features'"
      ]
     },
     "execution_count": 26,
     "metadata": {},
     "output_type": "execute_result"
    }
   ],
   "source": [
    "stream.get_data_info()"
   ]
  },
  {
   "cell_type": "code",
   "execution_count": 21,
   "id": "b4671751-5730-4457-8adb-6b1ce55e3b48",
   "metadata": {},
   "outputs": [
    {
     "data": {
      "text/plain": [
       "-1"
      ]
     },
     "execution_count": 21,
     "metadata": {},
     "output_type": "execute_result"
    }
   ],
   "source": [
    "stream.n_remaining_samples()"
   ]
  },
  {
   "cell_type": "code",
   "execution_count": 22,
   "id": "62735fa6-9d77-411b-82e8-1aa4bc2046ae",
   "metadata": {},
   "outputs": [],
   "source": [
    "test = stream.next_sample(100000)"
   ]
  },
  {
   "cell_type": "code",
   "execution_count": 23,
   "id": "161ebaa8-acb0-484b-8bd7-c9981daa0ae8",
   "metadata": {},
   "outputs": [
    {
     "data": {
      "text/plain": [
       "(array([[6.57257899, 0.32145007, 2.41677593],\n",
       "        [0.86367974, 8.2420766 , 1.02867418],\n",
       "        [3.20783494, 6.80917952, 4.63883083],\n",
       "        ...,\n",
       "        [1.06262852, 4.91352683, 8.17472851],\n",
       "        [0.85150685, 1.11278679, 1.99144859],\n",
       "        [1.58034651, 0.07312384, 0.35317229]]),\n",
       " array([0, 1, 1, ..., 0, 0, 0]))"
      ]
     },
     "execution_count": 23,
     "metadata": {},
     "output_type": "execute_result"
    }
   ],
   "source": [
    "test"
   ]
  },
  {
   "cell_type": "code",
   "execution_count": 24,
   "id": "15847189-7180-445e-bdd5-f9310e89e47f",
   "metadata": {},
   "outputs": [],
   "source": [
    "stream.generate_drift()"
   ]
  },
  {
   "cell_type": "code",
   "execution_count": 25,
   "id": "891ef1ff-6ce0-471d-ae90-851f3661d4b0",
   "metadata": {},
   "outputs": [
    {
     "data": {
      "text/plain": [
       "(array([[4.4050243 , 4.79051383, 1.00290631],\n",
       "        [7.57237744, 3.96371858, 4.99637722],\n",
       "        [9.99752228, 1.67677742, 8.14997491],\n",
       "        ...,\n",
       "        [3.0601149 , 1.81770352, 1.68315029],\n",
       "        [5.57241323, 1.14851599, 9.22016065],\n",
       "        [3.79080183, 1.43653961, 8.58163715]]),\n",
       " array([0, 1, 1, ..., 0, 0, 0]))"
      ]
     },
     "execution_count": 25,
     "metadata": {},
     "output_type": "execute_result"
    }
   ],
   "source": [
    "stream.next_sample(100000)"
   ]
  },
  {
   "cell_type": "code",
   "execution_count": 27,
   "id": "c415d939-bcfa-4a67-ba30-58cccb178538",
   "metadata": {},
   "outputs": [
    {
     "data": {
      "text/plain": [
       "'SEAGenerator(balance_classes=False, classification_function=3,\\n             noise_percentage=0.0, random_state=None)'"
      ]
     },
     "execution_count": 27,
     "metadata": {},
     "output_type": "execute_result"
    }
   ],
   "source": [
    "stream.get_info()"
   ]
  },
  {
   "cell_type": "code",
   "execution_count": 55,
   "id": "4657db0d-0dde-4493-a68f-1202a54ce78c",
   "metadata": {},
   "outputs": [
    {
     "data": {
      "text/plain": [
       "array([[6.57257899, 0.32145007, 2.41677593, 0.        ],\n",
       "       [0.86367974, 8.2420766 , 1.02867418, 1.        ],\n",
       "       [3.20783494, 6.80917952, 4.63883083, 1.        ],\n",
       "       ...,\n",
       "       [1.06262852, 4.91352683, 8.17472851, 0.        ],\n",
       "       [0.85150685, 1.11278679, 1.99144859, 0.        ],\n",
       "       [1.58034651, 0.07312384, 0.35317229, 0.        ]])"
      ]
     },
     "execution_count": 55,
     "metadata": {},
     "output_type": "execute_result"
    }
   ],
   "source": [
    "np.column_stack((test[0],test[1]) )"
   ]
  },
  {
   "cell_type": "code",
   "execution_count": null,
   "id": "1a39a958-3f5d-4ac5-bd78-c1399b1aafda",
   "metadata": {},
   "outputs": [],
   "source": []
  }
 ],
 "metadata": {
  "kernelspec": {
   "display_name": "env",
   "language": "python",
   "name": "env"
  },
  "language_info": {
   "codemirror_mode": {
    "name": "ipython",
    "version": 3
   },
   "file_extension": ".py",
   "mimetype": "text/x-python",
   "name": "python",
   "nbconvert_exporter": "python",
   "pygments_lexer": "ipython3",
   "version": "3.9.2"
  }
 },
 "nbformat": 4,
 "nbformat_minor": 5
}
