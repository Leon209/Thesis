{
 "cells": [
  {
   "cell_type": "markdown",
   "id": "cc898a64-7f5e-4dd4-8c36-8a84c9c23cc6",
   "metadata": {},
   "source": [
    "<h1>Imports<h1>"
   ]
  },
  {
   "cell_type": "code",
   "execution_count": 1,
   "id": "dd07edfa-1d08-45b5-8dfc-b1e139a14099",
   "metadata": {},
   "outputs": [
    {
     "name": "stdout",
     "output_type": "stream",
     "text": [
      "/work/lurny/files/Thesis\n"
     ]
    }
   ],
   "source": [
    "#setting rood directory into ../NeuralPowerDisaggregation\n",
    "import os\n",
    "os.chdir(\"..\")\n",
    "print(os.getcwd())"
   ]
  },
  {
   "cell_type": "code",
   "execution_count": 2,
   "id": "23e79b7a-f7db-4692-b44c-f9f4bef9e254",
   "metadata": {},
   "outputs": [],
   "source": [
    "config = {\n",
    "    'gdt': {\n",
    "        'depth': 5,\n",
    "                \n",
    "        'learning_rate_index': 0.05,\n",
    "        'learning_rate_values': 0.01,\n",
    "        'learning_rate_leaf': 0.005,\n",
    "        \n",
    "        'dropout': 0,\n",
    "        \n",
    "        \n",
    "        'initializer_values': 'GlorotUniform', \n",
    "        'initializer_index': 'GlorotUniform', \n",
    "        'initializer_leaf': 'GlorotUniform', \n",
    "        \n",
    "        'optimizer': 'adam', \n",
    "        \n",
    "        'batch_size': 512,\n",
    "        'epochs': 1,\n",
    "        \n",
    "        'restarts': 10,\n",
    "        'restart_type': 'loss', #'loss', 'metric'\n",
    "        \n",
    "        'early_stopping_epochs': 200,\n",
    "        'early_stopping_type': 'loss', #'loss', 'metric'\n",
    "        'early_stopping_epsilon': 0.0,\n",
    "    },\n",
    "    \n",
    "    'preprocessing': {\n",
    "        'balance_threshold': 0,#.25, #if minclass fraction less than threshold/num_classes | #0=no rebalance, 1=rebalance all\n",
    "        'normalization_technique': 'mean', #'min-max'\n",
    "    },\n",
    "\n",
    "    'computation': {\n",
    "        'random_seed': 42,\n",
    "        'trials': 10, # fixed to 1 for HPO\n",
    "        \n",
    "        'use_best_hpo_result': True,\n",
    "        'force_depth': False,\n",
    "        \n",
    "        'use_gpu': True,\n",
    "        'gpu_numbers': '1',#'1',\n",
    "        'n_jobs': 10, #vorher 20\n",
    "        'verbosity': 0,\n",
    "        \n",
    "        \n",
    "        'hpo': None,#'binary', #'binary', 'multi', 'regression'\n",
    "        'search_iterations': 300,\n",
    "        'cv_num': 3,     \n",
    "        \n",
    "        'metrics_class': ['f1', 'roc_auc', 'accuracy'],\n",
    "        \n",
    "        'metrics_reg': ['r2', 'neg_mean_absolute_percentage_error', 'neg_mean_absolute_error', 'neg_mean_squared_error'],\n",
    "        \n",
    "        'eval_metric_class': ['f1', 'roc_auc'], #f1 accuracy\n",
    "        'eval_metric_reg': 'r2', #r2 mae        \n",
    "        \n",
    "        \n",
    "    },\n",
    "    \n",
    "    'benchmarks': {\n",
    "        'sklearn': True,\n",
    "        #'GeneticTree': True,        \n",
    "    }\n",
    "}"
   ]
  },
  {
   "cell_type": "code",
   "execution_count": 3,
   "id": "ed67d911-f7f1-4738-8bbd-1c5c20c7d417",
   "metadata": {},
   "outputs": [
    {
     "name": "stdout",
     "output_type": "stream",
     "text": [
      "2022-12-18--11-54-41227876\n"
     ]
    }
   ],
   "source": [
    "import numpy as np\n",
    "np.set_printoptions(suppress=True)\n",
    "\n",
    "import sklearn\n",
    "from sklearn.datasets import make_classification\n",
    "from sklearn.model_selection import train_test_split, ParameterGrid, ParameterSampler, GridSearchCV, RandomizedSearchCV, StratifiedKFold\n",
    "from sklearn.tree import DecisionTreeClassifier, plot_tree, DecisionTreeRegressor\n",
    "from sklearn.metrics import accuracy_score, f1_score, make_scorer\n",
    "from sklearn.compose import ColumnTransformer\n",
    "from sklearn.preprocessing import OneHotEncoder, MinMaxScaler, LabelEncoder, OrdinalEncoder\n",
    "#from pydl85 import DL85Classifier\n",
    "\n",
    "from livelossplot import PlotLosses\n",
    "\n",
    "import os\n",
    "from tqdm.notebook import tqdm\n",
    "from matplotlib import pyplot as plt\n",
    "\n",
    "from IPython.display import Image\n",
    "from IPython.display import display, clear_output\n",
    "\n",
    "import pandas as pd\n",
    "\n",
    "if config['computation']['use_gpu']:\n",
    "    os.environ['CUDA_VISIBLE_DEVICES'] = str(config['computation']['gpu_numbers'])\n",
    "    os.environ['TF_FORCE_GPU_ALLOW_GROWTH'] = 'true'\n",
    "    os.environ['XLA_FLAGS'] = \"--xla_gpu_cuda_data_dir=/usr/local/cuda-11.6\"\n",
    "    os.environ['TF_XLA_FLAGS'] = \"--tf_xla_enable_xla_devices --tf_xla_auto_jit=2\"    \n",
    "else:\n",
    "    os.environ['CUDA_VISIBLE_DEVICES'] = ''\n",
    "    os.environ['TF_FORCE_GPU_ALLOW_GROWTH'] = 'false' \n",
    "#os.environ['TF_XLA_FLAGS'] = \"--tf_xla_auto_jit=2 --tf_xla_cpu_global_jit\" \n",
    "\n",
    "\n",
    "import warnings\n",
    "warnings.filterwarnings('ignore')\n",
    "os.environ['TF_CPP_MIN_LOG_LEVEL'] = '3' \n",
    "os.environ[\"PYTHONWARNINGS\"] = \"ignore\"\n",
    "import logging\n",
    "\n",
    "import tensorflow as tf\n",
    "import tensorflow_addons as tfa\n",
    "\n",
    "tf.get_logger().setLevel('ERROR')\n",
    "tf.autograph.set_verbosity(3)\n",
    "\n",
    "np.seterr(all=\"ignore\")\n",
    "\n",
    "from keras import backend as K\n",
    "from keras.utils.generic_utils import get_custom_objects\n",
    "\n",
    "\n",
    "import seaborn as sns\n",
    "sns.set_style(\"darkgrid\")\n",
    "\n",
    "import time\n",
    "import random\n",
    "\n",
    "from utilities.utilities_GDT import *\n",
    "from utilities.GDT_for_streams import *\n",
    "\n",
    "from joblib import Parallel, delayed\n",
    "\n",
    "from itertools import product\n",
    "from collections.abc import Iterable\n",
    "\n",
    "from copy import deepcopy\n",
    "from pathlib import Path\n",
    "import pickle\n",
    "import dill\n",
    "\n",
    "tf.random.set_seed(config['computation']['random_seed'])\n",
    "np.random.seed(config['computation']['random_seed'])\n",
    "random.seed(config['computation']['random_seed'])\n",
    "\n",
    "from datetime import datetime\n",
    "timestr = datetime.utcnow().strftime('%Y-%m-%d--%H-%M-%S%f')\n",
    "print(timestr)\n",
    "os.makedirs(os.path.dirname(\"./evaluation_results/latex_tables/\" + timestr +\"/\"), exist_ok=True)\n",
    "\n",
    "filepath = './evaluation_results/depth' + str(config['gdt']['depth']) + '/' + timestr + '/'\n",
    "Path(filepath).mkdir(parents=True, exist_ok=True)    \n",
    "\n",
    "\n",
    "pd.set_option('display.max_rows', 100)\n",
    "pd.set_option('display.max_columns', 100)"
   ]
  },
  {
   "cell_type": "code",
   "execution_count": 4,
   "id": "a6027aa6-692d-468d-a6a4-93b4f414a1ed",
   "metadata": {},
   "outputs": [
    {
     "name": "stdout",
     "output_type": "stream",
     "text": [
      "Num GPUs Available:  1\n",
      "Num XLA-GPUs Available:  1\n"
     ]
    }
   ],
   "source": [
    "print(\"Num GPUs Available: \", len(tf.config.experimental.list_physical_devices('GPU')))\n",
    "print(\"Num XLA-GPUs Available: \", len(tf.config.experimental.list_physical_devices('XLA_GPU')))"
   ]
  },
  {
   "cell_type": "markdown",
   "id": "9a71fa12-9914-4f47-a2e5-68a8751c8ce3",
   "metadata": {},
   "source": [
    "# Evaluation of agr_a dataset"
   ]
  },
  {
   "cell_type": "code",
   "execution_count": 8,
   "id": "af842bda-634d-47d1-9c06-b06d55fcda01",
   "metadata": {},
   "outputs": [
    {
     "ename": "NameError",
     "evalue": "name 'prepare_training' is not defined",
     "output_type": "error",
     "traceback": [
      "\u001b[0;31m---------------------------------------------------------------------------\u001b[0m",
      "\u001b[0;31mNameError\u001b[0m                                 Traceback (most recent call last)",
      "Cell \u001b[0;32mIn [8], line 1\u001b[0m\n\u001b[0;32m----> 1\u001b[0m dataset_dict, config_training, metrics \u001b[38;5;241m=\u001b[39m \u001b[43mprepare_training\u001b[49m(identifier \u001b[38;5;241m=\u001b[39m \u001b[38;5;124m'\u001b[39m\u001b[38;5;124mBIN:agr_a\u001b[39m\u001b[38;5;124m'\u001b[39m, config \u001b[38;5;241m=\u001b[39m config)\n\u001b[1;32m      3\u001b[0m model_dict \u001b[38;5;241m=\u001b[39m {}\n\u001b[1;32m      5\u001b[0m verbosity \u001b[38;5;241m=\u001b[39m \u001b[38;5;241m1\u001b[39m\n",
      "\u001b[0;31mNameError\u001b[0m: name 'prepare_training' is not defined"
     ]
    }
   ],
   "source": [
    "dataset_dict, config_training, metrics = prepare_training(identifier = 'BIN:agr_a', config = config)\n",
    "\n",
    "model_dict = {}\n",
    "\n",
    "verbosity = 1\n",
    "\n",
    "model_dict['GDT'] = GDT(number_of_variables = dataset_dict['number_of_variables'],\n",
    "            number_of_classes = dataset_dict['number_of_classes'],\n",
    "\n",
    "            objective = config_training['gdt']['objective'],\n",
    "\n",
    "            depth = config_training['gdt']['depth'],\n",
    "\n",
    "            learning_rate_index = config_training['gdt']['learning_rate_index'],\n",
    "            learning_rate_values = config_training['gdt']['learning_rate_values'],\n",
    "            learning_rate_leaf = config_training['gdt']['learning_rate_leaf'],\n",
    "\n",
    "            optimizer = config_training['gdt']['optimizer'],\n",
    "\n",
    "            loss = 'crossentropy',\n",
    "\n",
    "            initializer_values = config_training['gdt']['initializer_values'],\n",
    "            initializer_index = config_training['gdt']['initializer_index'],\n",
    "            initializer_leaf = config_training['gdt']['initializer_leaf'],        \n",
    "\n",
    "            random_seed = config_training['computation']['random_seed'],\n",
    "            verbosity = verbosity)#5      \n",
    "\n",
    "\n",
    "history = model_dict['GDT'].partial_fit(dataset_dict['X_train'],\n",
    "          dataset_dict['y_train'],\n",
    "\n",
    "          batch_size=config_training['gdt']['batch_size'], \n",
    "          epochs=config_training['gdt']['epochs'], \n",
    "\n",
    "          restarts = 0,#config_test['gdt']['restarts'], \n",
    "          #restart_type=config_test['gdt']['restart_type'], \n",
    "\n",
    "          #early_stopping_epochs=config_training['gdt']['early_stopping_epochs'], \n",
    "          #early_stopping_type=config_test['gdt']['early_stopping_type'],\n",
    "\n",
    "          valid_data=(dataset_dict['X_valid'], dataset_dict['y_valid']))\n",
    "\n",
    "\n",
    "model_dict['sklearn'] = DecisionTreeClassifier(max_depth=config_training['gdt']['depth'], \n",
    "                                      random_state=config_training['computation']['random_seed'])\n",
    "\n",
    "model_dict['sklearn'].fit(dataset_dict['X_train'], \n",
    "                          dataset_dict['y_train'])\n",
    "\n",
    "\n",
    "# model_dict['GeneticTree'] = GeneticTree()\n",
    "# model_dict['GeneticTree'] = model_dict['GeneticTree'].fit(dataset_dict['X_train'].values, \n",
    "#                                                           dataset_dict['y_train'].values)        \n",
    "\n",
    "\n",
    "scores_dict = calculate_scores(model_dict = model_dict, \n",
    "                               dataset_dict = dataset_dict, \n",
    "                               scores_dict = prepare_score_dict(config=config_training), \n",
    "                               metrics = metrics)           \n",
    "\n",
    "#model.set_params(**config_training['gdt'])   "
   ]
  },
  {
   "cell_type": "code",
   "execution_count": 7,
   "id": "82608716-fab5-4a1e-8d01-1bf468196fa3",
   "metadata": {},
   "outputs": [
    {
     "ename": "NameError",
     "evalue": "name 'model_dict' is not defined",
     "output_type": "error",
     "traceback": [
      "\u001b[0;31m---------------------------------------------------------------------------\u001b[0m",
      "\u001b[0;31mNameError\u001b[0m                                 Traceback (most recent call last)",
      "Cell \u001b[0;32mIn [7], line 1\u001b[0m\n\u001b[0;32m----> 1\u001b[0m history \u001b[38;5;241m=\u001b[39m \u001b[43mmodel_dict\u001b[49m[\u001b[38;5;124m'\u001b[39m\u001b[38;5;124mGDT\u001b[39m\u001b[38;5;124m'\u001b[39m]\u001b[38;5;241m.\u001b[39mpartial_fit(dataset_dict[\u001b[38;5;124m'\u001b[39m\u001b[38;5;124mX_train\u001b[39m\u001b[38;5;124m'\u001b[39m],\n\u001b[1;32m      2\u001b[0m           dataset_dict[\u001b[38;5;124m'\u001b[39m\u001b[38;5;124my_train\u001b[39m\u001b[38;5;124m'\u001b[39m],\n\u001b[1;32m      3\u001b[0m \n\u001b[1;32m      4\u001b[0m           batch_size\u001b[38;5;241m=\u001b[39mconfig_training[\u001b[38;5;124m'\u001b[39m\u001b[38;5;124mgdt\u001b[39m\u001b[38;5;124m'\u001b[39m][\u001b[38;5;124m'\u001b[39m\u001b[38;5;124mbatch_size\u001b[39m\u001b[38;5;124m'\u001b[39m], \n\u001b[1;32m      5\u001b[0m           epochs\u001b[38;5;241m=\u001b[39mconfig_training[\u001b[38;5;124m'\u001b[39m\u001b[38;5;124mgdt\u001b[39m\u001b[38;5;124m'\u001b[39m][\u001b[38;5;124m'\u001b[39m\u001b[38;5;124mepochs\u001b[39m\u001b[38;5;124m'\u001b[39m], \n\u001b[1;32m      6\u001b[0m \n\u001b[1;32m      7\u001b[0m           restarts \u001b[38;5;241m=\u001b[39m\u001b[38;5;241m0\u001b[39m, \u001b[38;5;66;03m#config_test['gdt']['restarts'], \u001b[39;00m\n\u001b[1;32m      8\u001b[0m           \u001b[38;5;66;03m#restart_type=config_test['gdt']['restart_type'], \u001b[39;00m\n\u001b[1;32m      9\u001b[0m \n\u001b[1;32m     10\u001b[0m           \u001b[38;5;66;03m#early_stopping_epochs=config_training['gdt']['early_stopping_epochs'], \u001b[39;00m\n\u001b[1;32m     11\u001b[0m           \u001b[38;5;66;03m#early_stopping_type=config_test['gdt']['early_stopping_type'],\u001b[39;00m\n\u001b[1;32m     12\u001b[0m \n\u001b[1;32m     13\u001b[0m           valid_data\u001b[38;5;241m=\u001b[39m(dataset_dict[\u001b[38;5;124m'\u001b[39m\u001b[38;5;124mX_valid\u001b[39m\u001b[38;5;124m'\u001b[39m], dataset_dict[\u001b[38;5;124m'\u001b[39m\u001b[38;5;124my_valid\u001b[39m\u001b[38;5;124m'\u001b[39m]))\n\u001b[1;32m     16\u001b[0m model_dict[\u001b[38;5;124m'\u001b[39m\u001b[38;5;124msklearn\u001b[39m\u001b[38;5;124m'\u001b[39m] \u001b[38;5;241m=\u001b[39m DecisionTreeClassifier(max_depth\u001b[38;5;241m=\u001b[39mconfig_training[\u001b[38;5;124m'\u001b[39m\u001b[38;5;124mgdt\u001b[39m\u001b[38;5;124m'\u001b[39m][\u001b[38;5;124m'\u001b[39m\u001b[38;5;124mdepth\u001b[39m\u001b[38;5;124m'\u001b[39m], \n\u001b[1;32m     17\u001b[0m                                       random_state\u001b[38;5;241m=\u001b[39mconfig_training[\u001b[38;5;124m'\u001b[39m\u001b[38;5;124mcomputation\u001b[39m\u001b[38;5;124m'\u001b[39m][\u001b[38;5;124m'\u001b[39m\u001b[38;5;124mrandom_seed\u001b[39m\u001b[38;5;124m'\u001b[39m])\n\u001b[1;32m     19\u001b[0m model_dict[\u001b[38;5;124m'\u001b[39m\u001b[38;5;124msklearn\u001b[39m\u001b[38;5;124m'\u001b[39m]\u001b[38;5;241m.\u001b[39mfit(dataset_dict[\u001b[38;5;124m'\u001b[39m\u001b[38;5;124mX_train\u001b[39m\u001b[38;5;124m'\u001b[39m], \n\u001b[1;32m     20\u001b[0m                           dataset_dict[\u001b[38;5;124m'\u001b[39m\u001b[38;5;124my_train\u001b[39m\u001b[38;5;124m'\u001b[39m])\n",
      "\u001b[0;31mNameError\u001b[0m: name 'model_dict' is not defined"
     ]
    }
   ],
   "source": [
    "history = model_dict['GDT'].partial_fit(dataset_dict['X_train'],\n",
    "          dataset_dict['y_train'],\n",
    "\n",
    "          batch_size=config_training['gdt']['batch_size'], \n",
    "          epochs=config_training['gdt']['epochs'], \n",
    "\n",
    "          restarts =0, #config_test['gdt']['restarts'], \n",
    "          #restart_type=config_test['gdt']['restart_type'], \n",
    "\n",
    "          #early_stopping_epochs=config_training['gdt']['early_stopping_epochs'], \n",
    "          #early_stopping_type=config_test['gdt']['early_stopping_type'],\n",
    "\n",
    "          valid_data=(dataset_dict['X_valid'], dataset_dict['y_valid']))\n",
    "\n",
    "\n",
    "model_dict['sklearn'] = DecisionTreeClassifier(max_depth=config_training['gdt']['depth'], \n",
    "                                      random_state=config_training['computation']['random_seed'])\n",
    "\n",
    "model_dict['sklearn'].fit(dataset_dict['X_train'], \n",
    "                          dataset_dict['y_train'])\n",
    "\n",
    "\n",
    "# model_dict['GeneticTree'] = GeneticTree()\n",
    "# model_dict['GeneticTree'] = model_dict['GeneticTree'].fit(dataset_dict['X_train'].values, \n",
    "#                                                           dataset_dict['y_train'].values)        \n",
    "\n",
    "\n",
    "scores_dict = calculate_scores(model_dict = model_dict, \n",
    "                               dataset_dict = dataset_dict, \n",
    "                               scores_dict = prepare_score_dict(config=config_training), \n",
    "                               metrics = metrics)           \n",
    "\n",
    "#model.set_params(**config_training['gdt'])   "
   ]
  },
  {
   "cell_type": "code",
   "execution_count": 5,
   "id": "eed6c694-719e-4064-945d-879ee9515ec1",
   "metadata": {},
   "outputs": [
    {
     "name": "stdout",
     "output_type": "stream",
     "text": [
      "               salary    commission  age  elevel  car  zipcode         hvalue  \\\n",
      "0       110499.735409      0.000000   54       3    6        4  135000.000000   \n",
      "1       140893.779095      0.000000   44       4   12        7  135000.000000   \n",
      "2       119159.651677      0.000000   49       2    0        3  135000.000000   \n",
      "3        20000.000000  52593.636537   56       0   19        1  135000.000000   \n",
      "4        93956.320488      0.000000   59       1    6        1  135000.000000   \n",
      "...               ...           ...  ...     ...  ...      ...            ...   \n",
      "999995   93207.738270      0.000000   27       1    1        8  121693.711227   \n",
      "999996   36198.446917  47077.537587   36       0    8        7  135000.000000   \n",
      "999997   42480.911813  53237.246918   62       3   11        1  135000.000000   \n",
      "999998   74417.353314      0.000000   36       3    0        2  135000.000000   \n",
      "999999  130706.084293      0.000000   22       1    5        8  133116.485072   \n",
      "\n",
      "        hyears           loan  class  \n",
      "0           30  354724.182530      1  \n",
      "1            2  395015.339020      1  \n",
      "2           22  122025.085242      1  \n",
      "3           30   99629.621457      1  \n",
      "4            1  458679.826238      0  \n",
      "...        ...            ...    ...  \n",
      "999995      23   55126.734462      1  \n",
      "999996      25  179853.955687      0  \n",
      "999997       7   54613.117794      1  \n",
      "999998       2  412160.890820      0  \n",
      "999999      21   76406.650388      1  \n",
      "\n",
      "[1000000 rows x 10 columns]\n"
     ]
    }
   ],
   "source": [
    "dataset_dict, config_training, metrics = prepare_training(identifier = 'BIN:agr_a', config = config)"
   ]
  },
  {
   "cell_type": "code",
   "execution_count": 10,
   "id": "c81c3d8d-5645-4a85-8b56-48a0ceb01db3",
   "metadata": {},
   "outputs": [
    {
     "data": {
      "text/plain": [
       "600000"
      ]
     },
     "execution_count": 10,
     "metadata": {},
     "output_type": "execute_result"
    }
   ],
   "source": [
    "((X_train, y_train),\n",
    " (X_valid, y_valid),\n",
    " (X_test, y_test),\n",
    " normalizer_list) = preprocess_data(X_data, \n",
    "                                   y_data,\n",
    "                                   nominal_features,\n",
    "                                   ordinal_features,\n",
    "                                   config,\n",
    "                                   random_seed=random_seed,\n",
    "                                   verbosity=verbosity)  \n",
    "    "
   ]
  },
  {
   "cell_type": "code",
   "execution_count": null,
   "id": "b2eec461-b6f2-488d-9069-a548d8f91a97",
   "metadata": {},
   "outputs": [
    {
     "data": {
      "image/png": "[encoded data removed]",
      "text/plain": [
       "<Figure size 1200x800 with 2 Axes>"
      ]
     },
     "metadata": {},
     "output_type": "display_data"
    },
    {
     "name": "stdout",
     "output_type": "stream",
     "text": [
      "f1\n",
      "\ttraining         \t (min:    0.618, max:    0.742, cur:    0.742)\n",
      "\tvalidation       \t (min:    0.623, max:    0.750, cur:    0.750)\n",
      "Loss\n",
      "\ttraining         \t (min:    0.630, max:    0.665, cur:    0.630)\n",
      "\tvalidation       \t (min:    0.623, max:    0.661, cur:    0.623)\n",
      "Test f1 GDT (0) 0.7785766255541207\n",
      "Test roc_auc GDT (0) 0.712489270386266\n",
      "Test accuracy GDT (0) 0.8108108108108109\n",
      "________________________________________________________________________________________________________\n",
      "Original Data Shape (selected):  (1667, 5)\n",
      "Original Data Shape (encoded):  (1667, 5)\n",
      "Original Data Class Distribution:  560  (true) / 1107  (false)\n",
      "(1001, 5) (1001,)\n",
      "(333, 5) (333,)\n",
      "(333, 5) (333,)\n",
      "Min Ratio:  0.34565434565434566\n"
     ]
    },
    {
     "data": {
      "application/vnd.jupyter.widget-view+json": {
       "model_id": "6287b41af4784b66b2060b1b7a0fb075",
       "version_major": 2,
       "version_minor": 0
      },
      "text/plain": [
       "restarts:   0%|          | 0/1 [00:00<?, ?it/s]"
      ]
     },
     "metadata": {},
     "output_type": "display_data"
    },
    {
     "data": {
      "application/vnd.jupyter.widget-view+json": {
       "model_id": "4c6c7cc6a48a40fd93c29eb8e1c3c145",
       "version_major": 2,
       "version_minor": 0
      },
      "text/plain": [
       "epochs:   0%|          | 0/1 [00:00<?, ?it/s]"
      ]
     },
     "metadata": {},
     "output_type": "display_data"
    }
   ],
   "source": [
    "from skmultiflow.trees import HoeffdingTreeClassifier\n",
    "classifier = HoeffdingTreeClassifier()\n",
    "\n",
    "config_training, metrics = prepare_training_for_streams(identifier = 'BIN:agr_a', config = config)\n",
    "#load Dataset\n",
    "X_data, y_data, nominal_features, ordinal_features = load_dataset_for_streams(identifier = 'BIN:agr_a')\n",
    "\n",
    "\n",
    "X_data_stream = np.array_split(X_data, 30)\n",
    "y_data_stream = np.array_split(y_data, 30)\n",
    "\n",
    "model_dict = {}\n",
    "\n",
    "benchmark_dict = {'y_pred':[],\n",
    "                 'y_valid':[]}\n",
    "\n",
    "verbosity = 1\n",
    "\n",
    "model_dict['GDT'] = GDT(number_of_variables = 5,#dataset_dict['number_of_variables'],\n",
    "            number_of_classes = 2,#dataset_dict['number_of_classes'],\n",
    "\n",
    "            objective = config_training['gdt']['objective'],\n",
    "\n",
    "            depth = config_training['gdt']['depth'],\n",
    "\n",
    "            learning_rate_index = config_training['gdt']['learning_rate_index'],\n",
    "            learning_rate_values = config_training['gdt']['learning_rate_values'],\n",
    "            learning_rate_leaf = config_training['gdt']['learning_rate_leaf'],\n",
    "\n",
    "            optimizer = config_training['gdt']['optimizer'],\n",
    "\n",
    "            loss = 'crossentropy',\n",
    "\n",
    "            initializer_values = config_training['gdt']['initializer_values'],\n",
    "            initializer_index = config_training['gdt']['initializer_index'],\n",
    "            initializer_leaf = config_training['gdt']['initializer_leaf'],        \n",
    "\n",
    "            random_seed = config_training['computation']['random_seed'],\n",
    "            verbosity = verbosity)  \n",
    "\n",
    "\n",
    "for i in range(len(X_data_stream)):\n",
    "    ((X_train, y_train),\n",
    "     (X_valid, y_valid),\n",
    "     (X_test, y_test),\n",
    "     normalizer_list) = preprocess_data(X_data_stream[i], \n",
    "                                       y_data_stream[i],\n",
    "                                       nominal_features,\n",
    "                                       ordinal_features,\n",
    "                                       config_training,\n",
    "                                       random_seed= 42,#random_seed,\n",
    "                                       verbosity=1)#verbosity)  \n",
    "    dataset_dict = {\n",
    "           'X_train': X_train,\n",
    "           'y_train': y_train,\n",
    "           'X_valid': X_valid,\n",
    "           'y_valid': y_valid,\n",
    "           'X_test': X_test,\n",
    "           'y_test': y_test,\n",
    "           'normalizer_list': normalizer_list\n",
    "           }\n",
    "\n",
    "    history = model_dict['GDT'].partial_fit(dataset_dict['X_train'],\n",
    "              dataset_dict['y_train'],\n",
    "\n",
    "              batch_size=config_training['gdt']['batch_size'], \n",
    "              epochs=config_training['gdt']['epochs'], \n",
    "\n",
    "              restarts = 0,#config_test['gdt']['restarts'], \n",
    "              #restart_type=config_test['gdt']['restart_type'], \n",
    "\n",
    "              #early_stopping_epochs=config_training['gdt']['early_stopping_epochs'], \n",
    "              #early_stopping_type=config_test['gdt']['early_stopping_type'],\n",
    "\n",
    "              valid_data=(dataset_dict['X_valid'],dataset_dict['y_valid']))\n",
    "    \n",
    "    \n",
    "    #Hoeffding tree\n",
    "    #for i in range(1, len(dataset_dict['X_train'])):\n",
    "     #   benchmark_dict['y_pred'] = classifier.predict(dataset_dict['X_valid'].iloc[i,:].tolist())\n",
    "      #  classifier.partial_fit(dataset_dict['X_train'].iloc[i,:].to_numpy(), float(dataset_dict['y_train'].iloc[i]))\n",
    "        #print(dataset_dict['y_train'].iloc[i])\n",
    "   # for row_X, row_y in zip(dataset_dict['X_train'].iterrows(), dataset_dict['y_train'].iterrows()):\n",
    "    #    classifier.partial_fit(row_X, row_y)\n",
    "\n",
    "    benchmark_dict['y_valid'].append(dataset_dict['y_valid'].values)\n",
    "    \n",
    "    temp_X_train =dataset_dict['X_train'].values\n",
    "    temp_y_train =dataset_dict['y_train'].values\n",
    "    temp_X_valid = dataset_dict['X_valid'].values\n",
    "    \n",
    "    for i in range(0, len(dataset_dict['X_valid'])):\n",
    "        benchmark_dict['y_pred'].append(classifier.predict(np.array([temp_X_valid[i]], np.float64)))\n",
    "    for i in range(0, len(dataset_dict['X_train'])):\n",
    "        classifier.partial_fit(np.array([temp_X_train[i]], np.float64), np.array([temp_y_train[i]], np.float64))\n",
    "\n",
    "    \n",
    "\n",
    "\n",
    "    #model_dict['sklearn'] = DecisionTreeClassifier(max_depth=config_training['gdt']['depth'], \n",
    "     #                                     random_state=config_training['computation']['random_seed'])\n",
    "\n",
    "    #model_dict['sklearn'].fit(dataset_dict['X_train'], \n",
    "    #                          dataset_dict['y_train'])\n",
    "\n",
    "\n",
    "    # model_dict['GeneticTree'] = GeneticTree()\n",
    "    # model_dict['GeneticTree'] = model_dict['GeneticTree'].fit(dataset_dict['X_train'].values, \n",
    "    #                                                           dataset_dict['y_train'].values)        \n",
    "\n",
    "    scores_dict = calculate_scores(model_dict = model_dict, \n",
    "                                   dataset_dict = dataset_dict, \n",
    "                                   scores_dict = prepare_score_dict(config=config_training), \n",
    "                                   metrics = metrics)            \n",
    "\n",
    "#model.set_params(**config_training['gdt'])   "
   ]
  },
  {
   "cell_type": "code",
   "execution_count": 19,
   "id": "22c94421-dfe4-4eaa-90bc-717682525955",
   "metadata": {},
   "outputs": [
    {
     "name": "stdout",
     "output_type": "stream",
     "text": [
      "2000 samples analyzed.\n",
      "Accuracy: 0.9395\n"
     ]
    }
   ],
   "source": [
    "from skmultiflow.data import SEAGenerator\n",
    "from skmultiflow.trees import HoeffdingTreeClassifier\n",
    "\n",
    "stream = SEAGenerator(random_state=1)\n",
    "classifier = HoeffdingTreeClassifier()\n",
    "n_samples = 0\n",
    "correct_cnt = 0\n",
    "max_samples = 2000\n",
    "# Prequential evaluation loop\n",
    "while n_samples < max_samples and  stream.has_more_samples():\n",
    "    X, y = stream.next_sample()\n",
    "    # Predict class for new data \n",
    "    #print(X)\n",
    "    #print(y[0])\n",
    "    y_pred = classifier.predict(X) \n",
    "    if y[0] == y_pred[0]:\n",
    "        correct_cnt += 1\n",
    "    # Partially fit (train) model with new data \n",
    "    classifier.partial_fit(X, y)\n",
    "    n_samples += 1\n",
    "print('{} samples analyzed.'.format(n_samples)) \n",
    "print('Accuracy: {}'.format(correct_cnt / n_samples))"
   ]
  },
  {
   "cell_type": "code",
   "execution_count": null,
   "id": "54b62d84-91bd-405b-b454-1de9324725fd",
   "metadata": {},
   "outputs": [],
   "source": []
  },
  {
   "cell_type": "code",
   "execution_count": 38,
   "id": "2e3a7053-29d2-4eec-8523-eb391163c840",
   "metadata": {},
   "outputs": [
    {
     "data": {
      "text/plain": [
       "0"
      ]
     },
     "execution_count": 38,
     "metadata": {},
     "output_type": "execute_result"
    }
   ],
   "source": [
    "benchmark_dict['y_pred'][0]"
   ]
  },
  {
   "cell_type": "code",
   "execution_count": null,
   "id": "1802c873-d8a4-44b7-b8d4-2d390b92f630",
   "metadata": {},
   "outputs": [],
   "source": []
  }
 ],
 "metadata": {
  "kernelspec": {
   "display_name": "env",
   "language": "python",
   "name": "env"
  },
  "language_info": {
   "codemirror_mode": {
    "name": "ipython",
    "version": 3
   },
   "file_extension": ".py",
   "mimetype": "text/x-python",
   "name": "python",
   "nbconvert_exporter": "python",
   "pygments_lexer": "ipython3",
   "version": "3.9.2"
  }
 },
 "nbformat": 4,
 "nbformat_minor": 5
}
