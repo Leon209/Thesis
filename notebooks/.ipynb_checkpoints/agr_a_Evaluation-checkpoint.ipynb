{
 "cells": [
  {
   "cell_type": "markdown",
   "id": "cc898a64-7f5e-4dd4-8c36-8a84c9c23cc6",
   "metadata": {},
   "source": [
    "<h1>Imports<h1>"
   ]
  },
  {
   "cell_type": "code",
   "execution_count": 1,
   "id": "dd07edfa-1d08-45b5-8dfc-b1e139a14099",
   "metadata": {},
   "outputs": [
    {
     "name": "stdout",
     "output_type": "stream",
     "text": [
      "/work/lurny/files/Thesis\n"
     ]
    }
   ],
   "source": [
    "#setting rood directory into ../NeuralPowerDisaggregation\n",
    "import os\n",
    "os.chdir(\"..\")\n",
    "print(os.getcwd())"
   ]
  },
  {
   "cell_type": "code",
   "execution_count": 2,
   "id": "23e79b7a-f7db-4692-b44c-f9f4bef9e254",
   "metadata": {},
   "outputs": [],
   "source": [
    "config = {\n",
    "    'gdt': {\n",
    "        'depth': 5,\n",
    "                \n",
    "        'learning_rate_index': 0.05,\n",
    "        'learning_rate_values': 0.01,\n",
    "        'learning_rate_leaf': 0.005,\n",
    "        \n",
    "        'dropout': 0,\n",
    "        \n",
    "        \n",
    "        'initializer_values': 'GlorotUniform', \n",
    "        'initializer_index': 'GlorotUniform', \n",
    "        'initializer_leaf': 'GlorotUniform', \n",
    "        \n",
    "        'optimizer': 'adam', \n",
    "        \n",
    "        'batch_size': 512,\n",
    "        'epochs': 1,\n",
    "        \n",
    "        'restarts': 10,\n",
    "        'restart_type': 'loss', #'loss', 'metric'\n",
    "        \n",
    "        'early_stopping_epochs': 200,\n",
    "        'early_stopping_type': 'loss', #'loss', 'metric'\n",
    "        'early_stopping_epsilon': 0.0,\n",
    "    },\n",
    "    \n",
    "    'preprocessing': {\n",
    "        'balance_threshold': 0,#.25, #if minclass fraction less than threshold/num_classes | #0=no rebalance, 1=rebalance all\n",
    "        'normalization_technique': 'mean', #'min-max'\n",
    "    },\n",
    "\n",
    "    'computation': {\n",
    "        'random_seed': 42,\n",
    "        'trials': 10, # fixed to 1 for HPO\n",
    "        \n",
    "        'use_best_hpo_result': True,\n",
    "        'force_depth': False,\n",
    "        \n",
    "        'use_gpu': True,\n",
    "        'gpu_numbers': '1',#'1',\n",
    "        'n_jobs': 10, #vorher 20\n",
    "        'verbosity': 0,\n",
    "        \n",
    "        \n",
    "        'hpo': None,#'binary', #'binary', 'multi', 'regression'\n",
    "        'search_iterations': 300,\n",
    "        'cv_num': 3,     \n",
    "        \n",
    "        'metrics_class': ['f1', 'roc_auc', 'accuracy'],\n",
    "        \n",
    "        'metrics_reg': ['r2', 'neg_mean_absolute_percentage_error', 'neg_mean_absolute_error', 'neg_mean_squared_error'],\n",
    "        \n",
    "        'eval_metric_class': ['f1', 'roc_auc'], #f1 accuracy\n",
    "        'eval_metric_reg': 'r2', #r2 mae        \n",
    "        \n",
    "        \n",
    "    },\n",
    "    \n",
    "    'benchmarks': {\n",
    "        'sklearn': True,\n",
    "        #'GeneticTree': True,        \n",
    "    }\n",
    "}"
   ]
  },
  {
   "cell_type": "code",
   "execution_count": 3,
   "id": "ed67d911-f7f1-4738-8bbd-1c5c20c7d417",
   "metadata": {},
   "outputs": [
    {
     "name": "stdout",
     "output_type": "stream",
     "text": [
      "2022-12-21--09-28-35780384\n"
     ]
    }
   ],
   "source": [
    "import numpy as np\n",
    "np.set_printoptions(suppress=True)\n",
    "\n",
    "import sklearn\n",
    "from sklearn.datasets import make_classification\n",
    "from sklearn.model_selection import train_test_split, ParameterGrid, ParameterSampler, GridSearchCV, RandomizedSearchCV, StratifiedKFold\n",
    "from sklearn.tree import DecisionTreeClassifier, plot_tree, DecisionTreeRegressor\n",
    "from sklearn.metrics import accuracy_score, f1_score, make_scorer\n",
    "from sklearn.compose import ColumnTransformer\n",
    "from sklearn.preprocessing import OneHotEncoder, MinMaxScaler, LabelEncoder, OrdinalEncoder\n",
    "#from pydl85 import DL85Classifier\n",
    "\n",
    "from livelossplot import PlotLosses\n",
    "\n",
    "import os\n",
    "from tqdm.notebook import tqdm\n",
    "from matplotlib import pyplot as plt\n",
    "\n",
    "from IPython.display import Image\n",
    "from IPython.display import display, clear_output\n",
    "\n",
    "import pandas as pd\n",
    "\n",
    "if config['computation']['use_gpu']:\n",
    "    os.environ['CUDA_VISIBLE_DEVICES'] = str(config['computation']['gpu_numbers'])\n",
    "    os.environ['TF_FORCE_GPU_ALLOW_GROWTH'] = 'true'\n",
    "    os.environ['XLA_FLAGS'] = \"--xla_gpu_cuda_data_dir=/usr/local/cuda-11.6\"\n",
    "    os.environ['TF_XLA_FLAGS'] = \"--tf_xla_enable_xla_devices --tf_xla_auto_jit=2\"    \n",
    "else:\n",
    "    os.environ['CUDA_VISIBLE_DEVICES'] = ''\n",
    "    os.environ['TF_FORCE_GPU_ALLOW_GROWTH'] = 'false' \n",
    "#os.environ['TF_XLA_FLAGS'] = \"--tf_xla_auto_jit=2 --tf_xla_cpu_global_jit\" \n",
    "\n",
    "\n",
    "import warnings\n",
    "warnings.filterwarnings('ignore')\n",
    "os.environ['TF_CPP_MIN_LOG_LEVEL'] = '3' \n",
    "os.environ[\"PYTHONWARNINGS\"] = \"ignore\"\n",
    "import logging\n",
    "\n",
    "import tensorflow as tf\n",
    "import tensorflow_addons as tfa\n",
    "\n",
    "tf.get_logger().setLevel('ERROR')\n",
    "tf.autograph.set_verbosity(3)\n",
    "\n",
    "np.seterr(all=\"ignore\")\n",
    "\n",
    "from keras import backend as K\n",
    "from keras.utils.generic_utils import get_custom_objects\n",
    "\n",
    "\n",
    "import seaborn as sns\n",
    "sns.set_style(\"darkgrid\")\n",
    "\n",
    "import time\n",
    "import random\n",
    "\n",
    "from utilities.utilities_GDT import *\n",
    "from utilities.GDT_for_streams import *\n",
    "\n",
    "from joblib import Parallel, delayed\n",
    "\n",
    "from itertools import product\n",
    "from collections.abc import Iterable\n",
    "\n",
    "from copy import deepcopy\n",
    "from pathlib import Path\n",
    "import pickle\n",
    "import dill\n",
    "\n",
    "tf.random.set_seed(config['computation']['random_seed'])\n",
    "np.random.seed(config['computation']['random_seed'])\n",
    "random.seed(config['computation']['random_seed'])\n",
    "\n",
    "from datetime import datetime\n",
    "timestr = datetime.utcnow().strftime('%Y-%m-%d--%H-%M-%S%f')\n",
    "print(timestr)\n",
    "os.makedirs(os.path.dirname(\"./evaluation_results/latex_tables/\" + timestr +\"/\"), exist_ok=True)\n",
    "\n",
    "filepath = './evaluation_results/depth' + str(config['gdt']['depth']) + '/' + timestr + '/'\n",
    "Path(filepath).mkdir(parents=True, exist_ok=True)    \n",
    "\n",
    "\n",
    "pd.set_option('display.max_rows', 100)\n",
    "pd.set_option('display.max_columns', 100)"
   ]
  },
  {
   "cell_type": "code",
   "execution_count": 4,
   "id": "a6027aa6-692d-468d-a6a4-93b4f414a1ed",
   "metadata": {},
   "outputs": [
    {
     "name": "stdout",
     "output_type": "stream",
     "text": [
      "Num GPUs Available:  1\n",
      "Num XLA-GPUs Available:  1\n"
     ]
    }
   ],
   "source": [
    "print(\"Num GPUs Available: \", len(tf.config.experimental.list_physical_devices('GPU')))\n",
    "print(\"Num XLA-GPUs Available: \", len(tf.config.experimental.list_physical_devices('XLA_GPU')))"
   ]
  },
  {
   "cell_type": "markdown",
   "id": "9a71fa12-9914-4f47-a2e5-68a8751c8ce3",
   "metadata": {},
   "source": [
    "# Evaluation of agr_a dataset"
   ]
  },
  {
   "cell_type": "code",
   "execution_count": 12,
   "id": "b2eec461-b6f2-488d-9069-a548d8f91a97",
   "metadata": {},
   "outputs": [
    {
     "data": {
      "image/png": "[encoded data removed]",
      "text/plain": [
       "<Figure size 1200x800 with 2 Axes>"
      ]
     },
     "metadata": {},
     "output_type": "display_data"
    },
    {
     "name": "stdout",
     "output_type": "stream",
     "text": [
      "f1\n",
      "\tf1               \t (min:    0.000, max:    0.952, cur:    0.808)\n"
     ]
    }
   ],
   "source": [
    "from skmultiflow.trees import HoeffdingTreeClassifier\n",
    "from sklearn.metrics import f1_score\n",
    "from livelossplot import PlotLosses\n",
    "\n",
    "classifier = HoeffdingTreeClassifier()\n",
    "\n",
    "config_training, metrics = prepare_training_for_streams(identifier = 'BIN:agr_a', config = config)\n",
    "#load Dataset\n",
    "X_data, y_data, nominal_features, ordinal_features = load_dataset_for_streams(identifier = 'BIN:agr_a')\n",
    "\n",
    "\n",
    "X_data_stream = np.array_split(X_data, 40)\n",
    "y_data_stream = np.array_split(y_data, 40)\n",
    "\n",
    "model_dict = {}\n",
    "scores_dict = {}\n",
    "\n",
    "benchmark_dict = {'y_pred':[],\n",
    "                 'y_valid':[]}\n",
    "\n",
    "verbosity = 1\n",
    "\n",
    "model_dict['GDT'] = GDT(number_of_variables = 5,#dataset_dict['number_of_variables'],\n",
    "            number_of_classes = 2,#dataset_dict['number_of_classes'],\n",
    "\n",
    "            objective = config_training['gdt']['objective'],\n",
    "\n",
    "            depth = config_training['gdt']['depth'],\n",
    "\n",
    "            learning_rate_index = config_training['gdt']['learning_rate_index'],\n",
    "            learning_rate_values = config_training['gdt']['learning_rate_values'],\n",
    "            learning_rate_leaf = config_training['gdt']['learning_rate_leaf'],\n",
    "\n",
    "            optimizer = config_training['gdt']['optimizer'],\n",
    "\n",
    "            loss = 'crossentropy',\n",
    "\n",
    "            initializer_values = config_training['gdt']['initializer_values'],\n",
    "            initializer_index = config_training['gdt']['initializer_index'],\n",
    "            initializer_leaf = config_training['gdt']['initializer_leaf'],        \n",
    "\n",
    "            random_seed = config_training['computation']['random_seed'],\n",
    "            verbosity = verbosity)  \n",
    "\n",
    "plotlosses_benchmark = PlotLosses()\n",
    "\n",
    "for i in range(len(X_data_stream)):\n",
    "    ((X_train, y_train),\n",
    "     (X_valid, y_valid),\n",
    "     (X_test, y_test),\n",
    "     normalizer_list) = preprocess_data(X_data_stream[i], \n",
    "                                       y_data_stream[i],\n",
    "                                       nominal_features,\n",
    "                                       ordinal_features,\n",
    "                                       config_training,\n",
    "                                       random_seed= 42,#random_seed,\n",
    "                                       verbosity=1)#verbosity)  \n",
    "    dataset_dict = {\n",
    "           'X_train': X_train,\n",
    "           'y_train': y_train,\n",
    "           'X_valid': X_valid,\n",
    "           'y_valid': y_valid,\n",
    "           'X_test': X_test,\n",
    "           'y_test': y_test,\n",
    "           'normalizer_list': normalizer_list\n",
    "           }\n",
    "\n",
    "    history = model_dict['GDT'].partial_fit(dataset_dict['X_train'],\n",
    "              dataset_dict['y_train'],\n",
    "\n",
    "              batch_size=config_training['gdt']['batch_size'], \n",
    "              epochs=config_training['gdt']['epochs'], \n",
    "\n",
    "              restarts = 0,#config_test['gdt']['restarts'], \n",
    "              #restart_type=config_test['gdt']['restart_type'], \n",
    "\n",
    "              #early_stopping_epochs=config_training['gdt']['early_stopping_epochs'], \n",
    "              #early_stopping_type=config_test['gdt']['early_stopping_type'],\n",
    "\n",
    "              valid_data=(dataset_dict['X_valid'],dataset_dict['y_valid']))\n",
    "    \n",
    "    \n",
    "    #Hoeffding tree\n",
    "\n",
    "    #benchmark_dict['y_valid']= benchmark_dict['y_valid'] + dataset_dict['y_valid'].tolist()\n",
    "    benchmark_dict['y_valid'] =dataset_dict['y_valid'].tolist()\n",
    "    \n",
    "    temp_X_train =dataset_dict['X_train'].values\n",
    "    temp_y_train =dataset_dict['y_train'].values\n",
    "    temp_X_valid = dataset_dict['X_valid'].values\n",
    "    \n",
    "    benchmark_dict['y_pred'] = []\n",
    "    for i in range(0, len(dataset_dict['X_valid'])):\n",
    "        benchmark_dict['y_pred'].append(classifier.predict(np.array([temp_X_valid[i]], np.float64))[0])  \n",
    "    for i in range(0, len(dataset_dict['X_train'])):\n",
    "        classifier.partial_fit(np.array([temp_X_train[i]], np.float64), np.array([temp_y_train[i]], np.float64))\n",
    "    \n",
    "    print(\"Hoeffding score: \" + str(f1_score(benchmark_dict['y_valid'],benchmark_dict['y_pred'])))\n",
    "    \n",
    "    plotlosses_benchmark.update({'f1': f1_score(benchmark_dict['y_valid'],benchmark_dict['y_pred'])})\n",
    "    plotlosses_benchmark.send() \n",
    "\n",
    "    \n",
    "\n",
    "\n",
    "    #model_dict['sklearn'] = DecisionTreeClassifier(max_depth=config_training['gdt']['depth'], \n",
    "     #                                     random_state=config_training['computation']['random_seed'])\n",
    "\n",
    "    #model_dict['sklearn'].fit(dataset_dict['X_train'], \n",
    "    #                          dataset_dict['y_train'])\n",
    "\n",
    "\n",
    "    # model_dict['GeneticTree'] = GeneticTree()\n",
    "    # model_dict['GeneticTree'] = model_dict['GeneticTree'].fit(dataset_dict['X_train'].values, \n",
    "    #                                                           dataset_dict['y_train'].values)        \n",
    "\n",
    "    #scores_dict['GDT'] = calculate_scores(model_dict = model_dict, \n",
    "     #                              dataset_dict = dataset_dict, \n",
    "      #                             scores_dict = prepare_score_dict(config=config_training), \n",
    "       #                            metrics = metrics)            \n",
    "\n",
    "#model.set_params(**config_training['gdt'])   "
   ]
  },
  {
   "cell_type": "code",
   "execution_count": 9,
   "id": "7974800d-4aaa-4499-bee5-cf60dfb455ac",
   "metadata": {},
   "outputs": [
    {
     "data": {
      "text/plain": [
       "NoneType"
      ]
     },
     "execution_count": 9,
     "metadata": {},
     "output_type": "execute_result"
    }
   ],
   "source": [
    "type(scores_dict)"
   ]
  },
  {
   "cell_type": "code",
   "execution_count": 10,
   "id": "747f3407-c608-413e-8235-aefca11c4d64",
   "metadata": {},
   "outputs": [],
   "source": [
    "scores_dict"
   ]
  },
  {
   "cell_type": "code",
   "execution_count": null,
   "id": "ac2b80b1-6e01-4c4e-899d-9df8e1d709e0",
   "metadata": {},
   "outputs": [],
   "source": []
  }
 ],
 "metadata": {
  "kernelspec": {
   "display_name": "env",
   "language": "python",
   "name": "env"
  },
  "language_info": {
   "codemirror_mode": {
    "name": "ipython",
    "version": 3
   },
   "file_extension": ".py",
   "mimetype": "text/x-python",
   "name": "python",
   "nbconvert_exporter": "python",
   "pygments_lexer": "ipython3",
   "version": "3.9.2"
  }
 },
 "nbformat": 4,
 "nbformat_minor": 5
}
