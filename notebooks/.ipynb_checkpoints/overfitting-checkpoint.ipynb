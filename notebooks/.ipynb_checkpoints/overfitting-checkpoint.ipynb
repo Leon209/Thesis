{
 "cells": [
  {
   "cell_type": "markdown",
   "id": "cc898a64-7f5e-4dd4-8c36-8a84c9c23cc6",
   "metadata": {},
   "source": [
    "<h1>Imports<h1>"
   ]
  },
  {
   "cell_type": "code",
   "execution_count": 1,
   "id": "dd07edfa-1d08-45b5-8dfc-b1e139a14099",
   "metadata": {},
   "outputs": [
    {
     "name": "stdout",
     "output_type": "stream",
     "text": [
      "/work/lurny/files/Thesis\n"
     ]
    }
   ],
   "source": [
    "#setting rood directory into ../NeuralPowerDisaggregation\n",
    "import os\n",
    "os.chdir(\"..\")\n",
    "print(os.getcwd())"
   ]
  },
  {
   "cell_type": "code",
   "execution_count": 2,
   "id": "d1c25207-6a37-4b41-8a97-0fe4a877110b",
   "metadata": {},
   "outputs": [],
   "source": [
    "from utilities.configs import *\n",
    "config1 = get_config_for_dataset('NOAA_Weather')"
   ]
  },
  {
   "cell_type": "code",
   "execution_count": null,
   "id": "ed67d911-f7f1-4738-8bbd-1c5c20c7d417",
   "metadata": {},
   "outputs": [],
   "source": [
    "import numpy as np\n",
    "np.set_printoptions(suppress=True)\n",
    "\n",
    "import sklearn\n",
    "from sklearn.datasets import make_classification\n",
    "from sklearn.model_selection import train_test_split, ParameterGrid, ParameterSampler, GridSearchCV, RandomizedSearchCV, StratifiedKFold\n",
    "from sklearn.tree import DecisionTreeClassifier, plot_tree, DecisionTreeRegressor\n",
    "from sklearn.metrics import accuracy_score, f1_score, make_scorer\n",
    "from sklearn.compose import ColumnTransformer\n",
    "from sklearn.preprocessing import OneHotEncoder, MinMaxScaler, LabelEncoder, OrdinalEncoder\n",
    "#from pydl85 import DL85Classifier\n",
    "\n",
    "from livelossplot import PlotLosses\n",
    "\n",
    "import os\n",
    "from tqdm.notebook import tqdm\n",
    "from matplotlib import pyplot as plt\n",
    "\n",
    "from IPython.display import Image\n",
    "from IPython.display import display, clear_output\n",
    "\n",
    "import pandas as pd\n",
    "\n",
    "if config1['computation']['use_gpu']:\n",
    "    os.environ['CUDA_VISIBLE_DEVICES'] = str(config1['computation']['gpu_numbers'])\n",
    "    os.environ['TF_FORCE_GPU_ALLOW_GROWTH'] = 'true'\n",
    "    os.environ['XLA_FLAGS'] = \"--xla_gpu_cuda_data_dir=/usr/local/cuda-11.6\"\n",
    "    os.environ['TF_XLA_FLAGS'] = \"--tf_xla_enable_xla_devices --tf_xla_auto_jit=2\"    \n",
    "else:\n",
    "    os.environ['CUDA_VISIBLE_DEVICES'] = ''\n",
    "    os.environ['TF_FORCE_GPU_ALLOW_GROWTH'] = 'false' \n",
    "#os.environ['TF_XLA_FLAGS'] = \"--tf_xla_auto_jit=2 --tf_xla_cpu_global_jit\" \n",
    "\n",
    "\n",
    "import warnings\n",
    "warnings.filterwarnings('ignore')\n",
    "os.environ['TF_CPP_MIN_LOG_LEVEL'] = '3' \n",
    "os.environ[\"PYTHONWARNINGS\"] = \"ignore\"\n",
    "import logging\n",
    "\n",
    "import tensorflow as tf\n",
    "import tensorflow_addons as tfa\n",
    "\n",
    "tf.get_logger().setLevel('ERROR')\n",
    "tf.autograph.set_verbosity(3)\n",
    "\n",
    "np.seterr(all=\"ignore\")\n",
    "\n",
    "from keras import backend as K\n",
    "from keras.utils.generic_utils import get_custom_objects\n",
    "\n",
    "\n",
    "import seaborn as sns\n",
    "sns.set_style(\"darkgrid\")\n",
    "\n",
    "import time\n",
    "import random\n",
    "\n",
    "from utilities.utilities_GDT import *\n",
    "from utilities.GDT_for_streams import *\n",
    "\n",
    "from joblib import Parallel, delayed\n",
    "\n",
    "from itertools import product\n",
    "from collections.abc import Iterable\n",
    "\n",
    "from copy import deepcopy\n",
    "from pathlib import Path\n",
    "import pickle\n",
    "import dill\n",
    "\n",
    "from skmultiflow.trees import HoeffdingTreeClassifier\n",
    "from skmultiflow.trees import HoeffdingAdaptiveTreeClassifier\n",
    "from sklearn.metrics import f1_score\n",
    "from sklearn.metrics import accuracy_score\n",
    "from livelossplot import PlotLosses\n",
    "import time\n",
    "\n",
    "tf.random.set_seed(config1['computation']['random_seed'])\n",
    "np.random.seed(config1['computation']['random_seed'])\n",
    "random.seed(config1['computation']['random_seed'])\n",
    "\n",
    "from datetime import datetime\n",
    "timestr = datetime.utcnow().strftime('%Y-%m-%d--%H-%M-%S%f')\n",
    "print(timestr)\n",
    "os.makedirs(os.path.dirname(\"./evaluation_results/latex_tables/\" + timestr +\"/\"), exist_ok=True)\n",
    "\n",
    "filepath = './evaluation_results/depth' + str(config1['gdt']['depth']) + '/' + timestr + '/'\n",
    "Path(filepath).mkdir(parents=True, exist_ok=True)    \n",
    "\n",
    "\n",
    "pd.set_option('display.max_rows', 100)\n",
    "pd.set_option('display.max_columns', 100)"
   ]
  },
  {
   "cell_type": "code",
   "execution_count": null,
   "id": "a6027aa6-692d-468d-a6a4-93b4f414a1ed",
   "metadata": {},
   "outputs": [],
   "source": [
    "print(\"Num GPUs Available: \", len(tf.config.experimental.list_physical_devices('GPU')))\n",
    "print(\"Num XLA-GPUs Available: \", len(tf.config.experimental.list_physical_devices('XLA_GPU')))"
   ]
  },
  {
   "cell_type": "code",
   "execution_count": null,
   "id": "6664e044-346a-432c-b863-c757829efa1c",
   "metadata": {},
   "outputs": [],
   "source": [
    "import math\n",
    "def split_df_chunks(data_df,chunk_size):\n",
    "    total_length     = len(data_df)\n",
    "    normal_chunk_num = math.floor(total_length/chunk_size)\n",
    "    chunks = []\n",
    "    for i in range(normal_chunk_num):\n",
    "        chunk = data_df[(i*chunk_size):((i+1)*chunk_size)]\n",
    "        chunks.append(chunk)\n",
    "\n",
    "    return chunks"
   ]
  },
  {
   "cell_type": "markdown",
   "id": "9a71fa12-9914-4f47-a2e5-68a8751c8ce3",
   "metadata": {},
   "source": [
    "# Evaluation of agr_a dataset"
   ]
  },
  {
   "cell_type": "code",
   "execution_count": 7,
   "id": "b2eec461-b6f2-488d-9069-a548d8f91a97",
   "metadata": {},
   "outputs": [
    {
     "name": "stdout",
     "output_type": "stream",
     "text": [
      "Original Data Shape (selected):  (1000, 8)\n",
      "Original Data Shape (encoded):  (1000, 8)\n",
      "Original Data Class Distribution:  326  (true) / 674  (false)\n",
      "(600, 8) (600,)\n",
      "(200, 8) (200,)\n",
      "(200, 8) (200,)\n",
      "Min Ratio:  0.31\n",
      "Min Ratio:  0.5\n",
      "Min Ratio:  0.32125\n",
      "Min Ratio:  0.5\n"
     ]
    },
    {
     "data": {
      "application/vnd.jupyter.widget-view+json": {
       "model_id": "457819eeb6e740ec91d39940419f5465",
       "version_major": 2,
       "version_minor": 0
      },
      "text/plain": [
       "restarts:   0%|          | 0/1 [00:00<?, ?it/s]"
      ]
     },
     "metadata": {},
     "output_type": "display_data"
    },
    {
     "data": {
      "application/vnd.jupyter.widget-view+json": {
       "model_id": "2124e4e572544c5e843ef43f50eb6d5b",
       "version_major": 2,
       "version_minor": 0
      },
      "text/plain": [
       "epochs:   0%|          | 0/20 [00:00<?, ?it/s]"
      ]
     },
     "metadata": {},
     "output_type": "display_data"
    },
    {
     "name": "stdout",
     "output_type": "stream",
     "text": [
      "<tf.Variable 'Adam_2/learning_rate:0' shape=() dtype=float32>\n",
      "<tf.Variable 'Adam_2/learning_rate:0' shape=() dtype=float32>\n",
      "<tf.Variable 'Adam_2/learning_rate:0' shape=() dtype=float32>\n",
      "Original Data Shape (selected):  (1000, 8)\n",
      "Original Data Shape (encoded):  (1000, 8)\n",
      "Original Data Class Distribution:  273  (true) / 727  (false)\n",
      "(600, 8) (600,)\n",
      "(200, 8) (200,)\n",
      "(200, 8) (200,)\n",
      "Min Ratio:  0.265\n",
      "Min Ratio:  0.5\n",
      "Min Ratio:  0.27\n",
      "Min Ratio:  0.5\n"
     ]
    },
    {
     "data": {
      "application/vnd.jupyter.widget-view+json": {
       "model_id": "4ce87991161a4531801660c0fcf6aae8",
       "version_major": 2,
       "version_minor": 0
      },
      "text/plain": [
       "restarts:   0%|          | 0/1 [00:00<?, ?it/s]"
      ]
     },
     "metadata": {},
     "output_type": "display_data"
    },
    {
     "data": {
      "application/vnd.jupyter.widget-view+json": {
       "model_id": "3058f1b5d6e240cbafb1a347a85e4a1a",
       "version_major": 2,
       "version_minor": 0
      },
      "text/plain": [
       "epochs:   0%|          | 0/1 [00:00<?, ?it/s]"
      ]
     },
     "metadata": {},
     "output_type": "display_data"
    },
    {
     "name": "stdout",
     "output_type": "stream",
     "text": [
      "<tf.Variable 'Adam_2/learning_rate:0' shape=() dtype=float32>\n",
      "<tf.Variable 'Adam_2/learning_rate:0' shape=() dtype=float32>\n",
      "Original Data Shape (selected):  (1000, 8)\n",
      "Original Data Shape (encoded):  (1000, 8)\n",
      "Original Data Class Distribution:  268  (true) / 732  (false)\n",
      "(600, 8) (600,)\n",
      "(200, 8) (200,)\n",
      "(200, 8) (200,)\n",
      "Min Ratio:  0.2733333333333333\n",
      "Min Ratio:  0.5\n",
      "Min Ratio:  0.27625\n",
      "Min Ratio:  0.5\n"
     ]
    },
    {
     "data": {
      "application/vnd.jupyter.widget-view+json": {
       "model_id": "ba50fa0302524afea1aac6ca19ab2b45",
       "version_major": 2,
       "version_minor": 0
      },
      "text/plain": [
       "restarts:   0%|          | 0/1 [00:00<?, ?it/s]"
      ]
     },
     "metadata": {},
     "output_type": "display_data"
    },
    {
     "data": {
      "application/vnd.jupyter.widget-view+json": {
       "model_id": "37b26434bf4d40e2ae671ae3964c6b57",
       "version_major": 2,
       "version_minor": 0
      },
      "text/plain": [
       "epochs:   0%|          | 0/1 [00:00<?, ?it/s]"
      ]
     },
     "metadata": {},
     "output_type": "display_data"
    },
    {
     "name": "stdout",
     "output_type": "stream",
     "text": [
      "<tf.Variable 'Adam_2/learning_rate:0' shape=() dtype=float32>\n",
      "<tf.Variable 'Adam_2/learning_rate:0' shape=() dtype=float32>\n",
      "Original Data Shape (selected):  (1000, 8)\n",
      "Original Data Shape (encoded):  (1000, 8)\n",
      "Original Data Class Distribution:  313  (true) / 687  (false)\n",
      "(600, 8) (600,)\n",
      "(200, 8) (200,)\n",
      "(200, 8) (200,)\n",
      "Min Ratio:  0.32166666666666666\n",
      "Min Ratio:  0.5\n",
      "Min Ratio:  0.32125\n",
      "Min Ratio:  0.5\n"
     ]
    },
    {
     "data": {
      "application/vnd.jupyter.widget-view+json": {
       "model_id": "d60f8ca7b82e42fb839a1e59ba4c9dc8",
       "version_major": 2,
       "version_minor": 0
      },
      "text/plain": [
       "restarts:   0%|          | 0/1 [00:00<?, ?it/s]"
      ]
     },
     "metadata": {},
     "output_type": "display_data"
    },
    {
     "data": {
      "application/vnd.jupyter.widget-view+json": {
       "model_id": "39b13655ade54a45a3a226d3e956f2be",
       "version_major": 2,
       "version_minor": 0
      },
      "text/plain": [
       "epochs:   0%|          | 0/1 [00:00<?, ?it/s]"
      ]
     },
     "metadata": {},
     "output_type": "display_data"
    },
    {
     "name": "stdout",
     "output_type": "stream",
     "text": [
      "<tf.Variable 'Adam_2/learning_rate:0' shape=() dtype=float32>\n",
      "<tf.Variable 'Adam_2/learning_rate:0' shape=() dtype=float32>\n",
      "Original Data Shape (selected):  (1000, 8)\n",
      "Original Data Shape (encoded):  (1000, 8)\n",
      "Original Data Class Distribution:  306  (true) / 694  (false)\n",
      "(600, 8) (600,)\n",
      "(200, 8) (200,)\n",
      "(200, 8) (200,)\n",
      "Min Ratio:  0.31833333333333336\n",
      "Min Ratio:  0.5\n",
      "Min Ratio:  0.31375\n",
      "Min Ratio:  0.5\n"
     ]
    },
    {
     "data": {
      "application/vnd.jupyter.widget-view+json": {
       "model_id": "1066a4d1726847d0987e6f7e9e94c8df",
       "version_major": 2,
       "version_minor": 0
      },
      "text/plain": [
       "restarts:   0%|          | 0/1 [00:00<?, ?it/s]"
      ]
     },
     "metadata": {},
     "output_type": "display_data"
    },
    {
     "data": {
      "application/vnd.jupyter.widget-view+json": {
       "model_id": "0c731093b7fb4d4dbbd784516221091d",
       "version_major": 2,
       "version_minor": 0
      },
      "text/plain": [
       "epochs:   0%|          | 0/1 [00:00<?, ?it/s]"
      ]
     },
     "metadata": {},
     "output_type": "display_data"
    },
    {
     "name": "stdout",
     "output_type": "stream",
     "text": [
      "<tf.Variable 'Adam_2/learning_rate:0' shape=() dtype=float32>\n",
      "<tf.Variable 'Adam_2/learning_rate:0' shape=() dtype=float32>\n",
      "Original Data Shape (selected):  (1000, 8)\n",
      "Original Data Shape (encoded):  (1000, 8)\n",
      "Original Data Class Distribution:  305  (true) / 695  (false)\n",
      "(600, 8) (600,)\n",
      "(200, 8) (200,)\n",
      "(200, 8) (200,)\n",
      "Min Ratio:  0.29833333333333334\n",
      "Min Ratio:  0.5\n",
      "Min Ratio:  0.29875\n",
      "Min Ratio:  0.5\n"
     ]
    },
    {
     "data": {
      "application/vnd.jupyter.widget-view+json": {
       "model_id": "172aa76f70e7497ba004d0e56c0a6469",
       "version_major": 2,
       "version_minor": 0
      },
      "text/plain": [
       "restarts:   0%|          | 0/1 [00:00<?, ?it/s]"
      ]
     },
     "metadata": {},
     "output_type": "display_data"
    },
    {
     "data": {
      "application/vnd.jupyter.widget-view+json": {
       "model_id": "5821c667594249318553cb0d8d3dc524",
       "version_major": 2,
       "version_minor": 0
      },
      "text/plain": [
       "epochs:   0%|          | 0/1 [00:00<?, ?it/s]"
      ]
     },
     "metadata": {},
     "output_type": "display_data"
    },
    {
     "name": "stdout",
     "output_type": "stream",
     "text": [
      "<tf.Variable 'Adam_2/learning_rate:0' shape=() dtype=float32>\n",
      "<tf.Variable 'Adam_2/learning_rate:0' shape=() dtype=float32>\n",
      "Original Data Shape (selected):  (1000, 8)\n",
      "Original Data Shape (encoded):  (1000, 8)\n",
      "Original Data Class Distribution:  285  (true) / 715  (false)\n",
      "(600, 8) (600,)\n",
      "(200, 8) (200,)\n",
      "(200, 8) (200,)\n",
      "Min Ratio:  0.2916666666666667\n",
      "Min Ratio:  0.5\n",
      "Min Ratio:  0.2925\n",
      "Min Ratio:  0.5\n"
     ]
    },
    {
     "data": {
      "application/vnd.jupyter.widget-view+json": {
       "model_id": "17bfad28887d44838d0fba3342fb5522",
       "version_major": 2,
       "version_minor": 0
      },
      "text/plain": [
       "restarts:   0%|          | 0/1 [00:00<?, ?it/s]"
      ]
     },
     "metadata": {},
     "output_type": "display_data"
    },
    {
     "data": {
      "application/vnd.jupyter.widget-view+json": {
       "model_id": "08980b96f7ac4b5899ac792e53b0cfa4",
       "version_major": 2,
       "version_minor": 0
      },
      "text/plain": [
       "epochs:   0%|          | 0/1 [00:00<?, ?it/s]"
      ]
     },
     "metadata": {},
     "output_type": "display_data"
    },
    {
     "name": "stdout",
     "output_type": "stream",
     "text": [
      "<tf.Variable 'Adam_2/learning_rate:0' shape=() dtype=float32>\n",
      "<tf.Variable 'Adam_2/learning_rate:0' shape=() dtype=float32>\n",
      "Original Data Shape (selected):  (1000, 8)\n",
      "Original Data Shape (encoded):  (1000, 8)\n",
      "Original Data Class Distribution:  320  (true) / 680  (false)\n",
      "(600, 8) (600,)\n",
      "(200, 8) (200,)\n",
      "(200, 8) (200,)\n",
      "Min Ratio:  0.32\n",
      "Min Ratio:  0.5\n",
      "Min Ratio:  0.31625\n",
      "Min Ratio:  0.5\n"
     ]
    },
    {
     "data": {
      "application/vnd.jupyter.widget-view+json": {
       "model_id": "29c2fe3bd03c403d8b94ea2efb92db8f",
       "version_major": 2,
       "version_minor": 0
      },
      "text/plain": [
       "restarts:   0%|          | 0/1 [00:00<?, ?it/s]"
      ]
     },
     "metadata": {},
     "output_type": "display_data"
    },
    {
     "data": {
      "application/vnd.jupyter.widget-view+json": {
       "model_id": "1fb1105c7b5e40518fe97e2373e80a42",
       "version_major": 2,
       "version_minor": 0
      },
      "text/plain": [
       "epochs:   0%|          | 0/1 [00:00<?, ?it/s]"
      ]
     },
     "metadata": {},
     "output_type": "display_data"
    },
    {
     "name": "stdout",
     "output_type": "stream",
     "text": [
      "<tf.Variable 'Adam_2/learning_rate:0' shape=() dtype=float32>\n",
      "<tf.Variable 'Adam_2/learning_rate:0' shape=() dtype=float32>\n",
      "Original Data Shape (selected):  (1000, 8)\n",
      "Original Data Shape (encoded):  (1000, 8)\n",
      "Original Data Class Distribution:  319  (true) / 681  (false)\n",
      "(600, 8) (600,)\n",
      "(200, 8) (200,)\n",
      "(200, 8) (200,)\n",
      "Min Ratio:  0.3233333333333333\n",
      "Min Ratio:  0.5\n",
      "Min Ratio:  0.32875\n",
      "Min Ratio:  0.5\n"
     ]
    },
    {
     "data": {
      "application/vnd.jupyter.widget-view+json": {
       "model_id": "cab4b7118abc42ef974de538090a80b0",
       "version_major": 2,
       "version_minor": 0
      },
      "text/plain": [
       "restarts:   0%|          | 0/1 [00:00<?, ?it/s]"
      ]
     },
     "metadata": {},
     "output_type": "display_data"
    },
    {
     "data": {
      "application/vnd.jupyter.widget-view+json": {
       "model_id": "b4689159f94c458181365cbded4bfbba",
       "version_major": 2,
       "version_minor": 0
      },
      "text/plain": [
       "epochs:   0%|          | 0/1 [00:00<?, ?it/s]"
      ]
     },
     "metadata": {},
     "output_type": "display_data"
    },
    {
     "name": "stdout",
     "output_type": "stream",
     "text": [
      "<tf.Variable 'Adam_2/learning_rate:0' shape=() dtype=float32>\n",
      "<tf.Variable 'Adam_2/learning_rate:0' shape=() dtype=float32>\n",
      "Original Data Shape (selected):  (1000, 8)\n",
      "Original Data Shape (encoded):  (1000, 8)\n",
      "Original Data Class Distribution:  288  (true) / 712  (false)\n",
      "(600, 8) (600,)\n",
      "(200, 8) (200,)\n",
      "(200, 8) (200,)\n",
      "Min Ratio:  0.2733333333333333\n",
      "Min Ratio:  0.5\n",
      "Min Ratio:  0.27875\n",
      "Min Ratio:  0.5\n"
     ]
    },
    {
     "data": {
      "application/vnd.jupyter.widget-view+json": {
       "model_id": "26e8895289c74befb1e6d90f64b59aa4",
       "version_major": 2,
       "version_minor": 0
      },
      "text/plain": [
       "restarts:   0%|          | 0/1 [00:00<?, ?it/s]"
      ]
     },
     "metadata": {},
     "output_type": "display_data"
    },
    {
     "data": {
      "application/vnd.jupyter.widget-view+json": {
       "model_id": "a70d0729d7514720ae1de3016ea069ff",
       "version_major": 2,
       "version_minor": 0
      },
      "text/plain": [
       "epochs:   0%|          | 0/1 [00:00<?, ?it/s]"
      ]
     },
     "metadata": {},
     "output_type": "display_data"
    },
    {
     "name": "stdout",
     "output_type": "stream",
     "text": [
      "<tf.Variable 'Adam_2/learning_rate:0' shape=() dtype=float32>\n",
      "<tf.Variable 'Adam_2/learning_rate:0' shape=() dtype=float32>\n",
      "Original Data Shape (selected):  (1000, 8)\n",
      "Original Data Shape (encoded):  (1000, 8)\n",
      "Original Data Class Distribution:  265  (true) / 735  (false)\n",
      "(600, 8) (600,)\n",
      "(200, 8) (200,)\n",
      "(200, 8) (200,)\n",
      "Min Ratio:  0.24166666666666667\n",
      "Min Ratio:  0.5\n",
      "Min Ratio:  0.255\n",
      "Min Ratio:  0.5\n"
     ]
    },
    {
     "data": {
      "application/vnd.jupyter.widget-view+json": {
       "model_id": "33b3cb0c512745f6a0ce96cba4776b17",
       "version_major": 2,
       "version_minor": 0
      },
      "text/plain": [
       "restarts:   0%|          | 0/1 [00:00<?, ?it/s]"
      ]
     },
     "metadata": {},
     "output_type": "display_data"
    },
    {
     "data": {
      "application/vnd.jupyter.widget-view+json": {
       "model_id": "0beb25aeaead45008bd2d82c6d7a9107",
       "version_major": 2,
       "version_minor": 0
      },
      "text/plain": [
       "epochs:   0%|          | 0/1 [00:00<?, ?it/s]"
      ]
     },
     "metadata": {},
     "output_type": "display_data"
    },
    {
     "name": "stdout",
     "output_type": "stream",
     "text": [
      "<tf.Variable 'Adam_2/learning_rate:0' shape=() dtype=float32>\n",
      "<tf.Variable 'Adam_2/learning_rate:0' shape=() dtype=float32>\n",
      "Original Data Shape (selected):  (1000, 8)\n",
      "Original Data Shape (encoded):  (1000, 8)\n",
      "Original Data Class Distribution:  257  (true) / 743  (false)\n",
      "(600, 8) (600,)\n",
      "(200, 8) (200,)\n",
      "(200, 8) (200,)\n",
      "Min Ratio:  0.27166666666666667\n",
      "Min Ratio:  0.5\n",
      "Min Ratio:  0.26625\n",
      "Min Ratio:  0.5\n"
     ]
    },
    {
     "data": {
      "application/vnd.jupyter.widget-view+json": {
       "model_id": "03fd998714b14ccea186dc768ab71364",
       "version_major": 2,
       "version_minor": 0
      },
      "text/plain": [
       "restarts:   0%|          | 0/1 [00:00<?, ?it/s]"
      ]
     },
     "metadata": {},
     "output_type": "display_data"
    },
    {
     "data": {
      "application/vnd.jupyter.widget-view+json": {
       "model_id": "51425dde02a34d86876acadcb54147d5",
       "version_major": 2,
       "version_minor": 0
      },
      "text/plain": [
       "epochs:   0%|          | 0/1 [00:00<?, ?it/s]"
      ]
     },
     "metadata": {},
     "output_type": "display_data"
    },
    {
     "name": "stdout",
     "output_type": "stream",
     "text": [
      "<tf.Variable 'Adam_2/learning_rate:0' shape=() dtype=float32>\n",
      "<tf.Variable 'Adam_2/learning_rate:0' shape=() dtype=float32>\n",
      "Original Data Shape (selected):  (1000, 8)\n",
      "Original Data Shape (encoded):  (1000, 8)\n",
      "Original Data Class Distribution:  335  (true) / 665  (false)\n",
      "(600, 8) (600,)\n",
      "(200, 8) (200,)\n",
      "(200, 8) (200,)\n",
      "Min Ratio:  0.315\n",
      "Min Ratio:  0.5\n",
      "Min Ratio:  0.33375\n",
      "Min Ratio:  0.5\n"
     ]
    },
    {
     "data": {
      "application/vnd.jupyter.widget-view+json": {
       "model_id": "3ba5c99663a24b8688dc5c91a44f9f56",
       "version_major": 2,
       "version_minor": 0
      },
      "text/plain": [
       "restarts:   0%|          | 0/1 [00:00<?, ?it/s]"
      ]
     },
     "metadata": {},
     "output_type": "display_data"
    },
    {
     "data": {
      "application/vnd.jupyter.widget-view+json": {
       "model_id": "4de8fe13b146417491c6771d81be3b19",
       "version_major": 2,
       "version_minor": 0
      },
      "text/plain": [
       "epochs:   0%|          | 0/1 [00:00<?, ?it/s]"
      ]
     },
     "metadata": {},
     "output_type": "display_data"
    },
    {
     "name": "stdout",
     "output_type": "stream",
     "text": [
      "<tf.Variable 'Adam_2/learning_rate:0' shape=() dtype=float32>\n",
      "<tf.Variable 'Adam_2/learning_rate:0' shape=() dtype=float32>\n",
      "Original Data Shape (selected):  (1000, 8)\n",
      "Original Data Shape (encoded):  (1000, 8)\n",
      "Original Data Class Distribution:  394  (true) / 606  (false)\n",
      "(600, 8) (600,)\n",
      "(200, 8) (200,)\n",
      "(200, 8) (200,)\n",
      "Min Ratio:  0.39666666666666667\n",
      "Min Ratio:  0.5\n",
      "Min Ratio:  0.39125\n",
      "Min Ratio:  0.5\n"
     ]
    },
    {
     "data": {
      "application/vnd.jupyter.widget-view+json": {
       "model_id": "9f7e4113c33b45f7a7f019eab9fbb935",
       "version_major": 2,
       "version_minor": 0
      },
      "text/plain": [
       "restarts:   0%|          | 0/1 [00:00<?, ?it/s]"
      ]
     },
     "metadata": {},
     "output_type": "display_data"
    },
    {
     "data": {
      "application/vnd.jupyter.widget-view+json": {
       "model_id": "c18b0c55f8e24ab2a17780b91dda64dc",
       "version_major": 2,
       "version_minor": 0
      },
      "text/plain": [
       "epochs:   0%|          | 0/1 [00:00<?, ?it/s]"
      ]
     },
     "metadata": {},
     "output_type": "display_data"
    },
    {
     "name": "stdout",
     "output_type": "stream",
     "text": [
      "<tf.Variable 'Adam_2/learning_rate:0' shape=() dtype=float32>\n",
      "<tf.Variable 'Adam_2/learning_rate:0' shape=() dtype=float32>\n",
      "Original Data Shape (selected):  (1000, 8)\n",
      "Original Data Shape (encoded):  (1000, 8)\n",
      "Original Data Class Distribution:  309  (true) / 691  (false)\n",
      "(600, 8) (600,)\n",
      "(200, 8) (200,)\n",
      "(200, 8) (200,)\n",
      "Min Ratio:  0.3016666666666667\n",
      "Min Ratio:  0.5\n",
      "Min Ratio:  0.30375\n",
      "Min Ratio:  0.5\n"
     ]
    },
    {
     "data": {
      "application/vnd.jupyter.widget-view+json": {
       "model_id": "96d4c95f678c4969933569d89c92e3f5",
       "version_major": 2,
       "version_minor": 0
      },
      "text/plain": [
       "restarts:   0%|          | 0/1 [00:00<?, ?it/s]"
      ]
     },
     "metadata": {},
     "output_type": "display_data"
    },
    {
     "data": {
      "application/vnd.jupyter.widget-view+json": {
       "model_id": "0267943505e44870a26b3c19fb37804b",
       "version_major": 2,
       "version_minor": 0
      },
      "text/plain": [
       "epochs:   0%|          | 0/1 [00:00<?, ?it/s]"
      ]
     },
     "metadata": {},
     "output_type": "display_data"
    },
    {
     "name": "stdout",
     "output_type": "stream",
     "text": [
      "<tf.Variable 'Adam_2/learning_rate:0' shape=() dtype=float32>\n",
      "<tf.Variable 'Adam_2/learning_rate:0' shape=() dtype=float32>\n",
      "Original Data Shape (selected):  (1000, 8)\n",
      "Original Data Shape (encoded):  (1000, 8)\n",
      "Original Data Class Distribution:  398  (true) / 602  (false)\n",
      "(600, 8) (600,)\n",
      "(200, 8) (200,)\n",
      "(200, 8) (200,)\n",
      "Min Ratio:  0.4066666666666667\n",
      "Min Ratio:  0.5\n",
      "Min Ratio:  0.395\n",
      "Min Ratio:  0.5\n"
     ]
    },
    {
     "data": {
      "application/vnd.jupyter.widget-view+json": {
       "model_id": "b565cbca0c4143c89542745a3e6e6d03",
       "version_major": 2,
       "version_minor": 0
      },
      "text/plain": [
       "restarts:   0%|          | 0/1 [00:00<?, ?it/s]"
      ]
     },
     "metadata": {},
     "output_type": "display_data"
    },
    {
     "data": {
      "application/vnd.jupyter.widget-view+json": {
       "model_id": "150b5bf179e84785bebae6471c0382de",
       "version_major": 2,
       "version_minor": 0
      },
      "text/plain": [
       "epochs:   0%|          | 0/1 [00:00<?, ?it/s]"
      ]
     },
     "metadata": {},
     "output_type": "display_data"
    },
    {
     "name": "stdout",
     "output_type": "stream",
     "text": [
      "<tf.Variable 'Adam_2/learning_rate:0' shape=() dtype=float32>\n",
      "<tf.Variable 'Adam_2/learning_rate:0' shape=() dtype=float32>\n",
      "Original Data Shape (selected):  (1000, 8)\n",
      "Original Data Shape (encoded):  (1000, 8)\n",
      "Original Data Class Distribution:  331  (true) / 669  (false)\n",
      "(600, 8) (600,)\n",
      "(200, 8) (200,)\n",
      "(200, 8) (200,)\n",
      "Min Ratio:  0.315\n",
      "Min Ratio:  0.5\n",
      "Min Ratio:  0.3275\n",
      "Min Ratio:  0.5\n"
     ]
    },
    {
     "data": {
      "application/vnd.jupyter.widget-view+json": {
       "model_id": "fa70ce86460148ccb50f8f4d0907584f",
       "version_major": 2,
       "version_minor": 0
      },
      "text/plain": [
       "restarts:   0%|          | 0/1 [00:00<?, ?it/s]"
      ]
     },
     "metadata": {},
     "output_type": "display_data"
    },
    {
     "data": {
      "application/vnd.jupyter.widget-view+json": {
       "model_id": "feb9cd0c16ac4b0ab5343ce75261c51d",
       "version_major": 2,
       "version_minor": 0
      },
      "text/plain": [
       "epochs:   0%|          | 0/1 [00:00<?, ?it/s]"
      ]
     },
     "metadata": {},
     "output_type": "display_data"
    },
    {
     "name": "stdout",
     "output_type": "stream",
     "text": [
      "<tf.Variable 'Adam_2/learning_rate:0' shape=() dtype=float32>\n",
      "<tf.Variable 'Adam_2/learning_rate:0' shape=() dtype=float32>\n",
      "Original Data Shape (selected):  (1000, 8)\n",
      "Original Data Shape (encoded):  (1000, 8)\n",
      "Original Data Class Distribution:  373  (true) / 627  (false)\n",
      "(600, 8) (600,)\n",
      "(200, 8) (200,)\n",
      "(200, 8) (200,)\n",
      "Min Ratio:  0.375\n",
      "Min Ratio:  0.5\n",
      "Min Ratio:  0.365\n",
      "Min Ratio:  0.5\n"
     ]
    },
    {
     "data": {
      "application/vnd.jupyter.widget-view+json": {
       "model_id": "f382b29445df43d49c31786644c9a308",
       "version_major": 2,
       "version_minor": 0
      },
      "text/plain": [
       "restarts:   0%|          | 0/1 [00:00<?, ?it/s]"
      ]
     },
     "metadata": {},
     "output_type": "display_data"
    },
    {
     "data": {
      "application/vnd.jupyter.widget-view+json": {
       "model_id": "639be20e307d4636999ba8fd5c947a02",
       "version_major": 2,
       "version_minor": 0
      },
      "text/plain": [
       "epochs:   0%|          | 0/1 [00:00<?, ?it/s]"
      ]
     },
     "metadata": {},
     "output_type": "display_data"
    },
    {
     "name": "stdout",
     "output_type": "stream",
     "text": [
      "<tf.Variable 'Adam_2/learning_rate:0' shape=() dtype=float32>\n",
      "<tf.Variable 'Adam_2/learning_rate:0' shape=() dtype=float32>\n",
      "Original Data Shape (selected):  (1000, 12)\n",
      "Original Data Shape (encoded):  (1000, 12)\n",
      "Original Data Class Distribution:  506  (true) / 494  (false)\n",
      "(600, 12) (600,)\n",
      "(200, 12) (200,)\n",
      "(200, 12) (200,)\n",
      "Min Ratio:  0.49\n",
      "Min Ratio:  0.5\n",
      "Min Ratio:  0.49\n",
      "Min Ratio:  0.5\n"
     ]
    },
    {
     "data": {
      "application/vnd.jupyter.widget-view+json": {
       "model_id": "d2fd331c9cfa49d499b90e6e1d76949f",
       "version_major": 2,
       "version_minor": 0
      },
      "text/plain": [
       "restarts:   0%|          | 0/1 [00:00<?, ?it/s]"
      ]
     },
     "metadata": {},
     "output_type": "display_data"
    },
    {
     "data": {
      "application/vnd.jupyter.widget-view+json": {
       "model_id": "1ad9df83bb4a435ebd019ced9f78d12b",
       "version_major": 2,
       "version_minor": 0
      },
      "text/plain": [
       "epochs:   0%|          | 0/30 [00:00<?, ?it/s]"
      ]
     },
     "metadata": {},
     "output_type": "display_data"
    },
    {
     "name": "stdout",
     "output_type": "stream",
     "text": [
      "<tf.Variable 'Adam_2/learning_rate:0' shape=() dtype=float32>\n",
      "<tf.Variable 'Adam_2/learning_rate:0' shape=() dtype=float32>\n",
      "<tf.Variable 'Adam_2/learning_rate:0' shape=() dtype=float32>\n",
      "Original Data Shape (selected):  (1000, 12)\n",
      "Original Data Shape (encoded):  (1000, 12)\n",
      "Original Data Class Distribution:  702  (true) / 298  (false)\n",
      "(600, 12) (600,)\n",
      "(200, 12) (200,)\n",
      "(200, 12) (200,)\n",
      "Min Ratio:  0.2816666666666667\n",
      "Min Ratio:  0.5\n",
      "Min Ratio:  0.28875\n",
      "Min Ratio:  0.5\n"
     ]
    },
    {
     "data": {
      "application/vnd.jupyter.widget-view+json": {
       "model_id": "dd5fd8b4b2df43a39c178f5fb04c3ab8",
       "version_major": 2,
       "version_minor": 0
      },
      "text/plain": [
       "restarts:   0%|          | 0/1 [00:00<?, ?it/s]"
      ]
     },
     "metadata": {},
     "output_type": "display_data"
    },
    {
     "data": {
      "application/vnd.jupyter.widget-view+json": {
       "model_id": "f2c62c75e85442fb9cdaae48a736d10e",
       "version_major": 2,
       "version_minor": 0
      },
      "text/plain": [
       "epochs:   0%|          | 0/1 [00:00<?, ?it/s]"
      ]
     },
     "metadata": {},
     "output_type": "display_data"
    },
    {
     "name": "stdout",
     "output_type": "stream",
     "text": [
      "<tf.Variable 'Adam_2/learning_rate:0' shape=() dtype=float32>\n",
      "<tf.Variable 'Adam_2/learning_rate:0' shape=() dtype=float32>\n",
      "Original Data Shape (selected):  (1000, 12)\n",
      "Original Data Shape (encoded):  (1000, 12)\n",
      "Original Data Class Distribution:  589  (true) / 411  (false)\n",
      "(600, 12) (600,)\n",
      "(200, 12) (200,)\n",
      "(200, 12) (200,)\n",
      "Min Ratio:  0.4166666666666667\n",
      "Min Ratio:  0.5\n",
      "Min Ratio:  0.4125\n",
      "Min Ratio:  0.5\n"
     ]
    },
    {
     "data": {
      "application/vnd.jupyter.widget-view+json": {
       "model_id": "6edfa7f621404571ac019faeed320207",
       "version_major": 2,
       "version_minor": 0
      },
      "text/plain": [
       "restarts:   0%|          | 0/1 [00:00<?, ?it/s]"
      ]
     },
     "metadata": {},
     "output_type": "display_data"
    },
    {
     "data": {
      "application/vnd.jupyter.widget-view+json": {
       "model_id": "3d41f83946dd4c23a51ed65b17255dd4",
       "version_major": 2,
       "version_minor": 0
      },
      "text/plain": [
       "epochs:   0%|          | 0/1 [00:00<?, ?it/s]"
      ]
     },
     "metadata": {},
     "output_type": "display_data"
    },
    {
     "name": "stdout",
     "output_type": "stream",
     "text": [
      "<tf.Variable 'Adam_2/learning_rate:0' shape=() dtype=float32>\n",
      "<tf.Variable 'Adam_2/learning_rate:0' shape=() dtype=float32>\n",
      "Original Data Shape (selected):  (1000, 12)\n",
      "Original Data Shape (encoded):  (1000, 12)\n",
      "Original Data Class Distribution:  610  (true) / 390  (false)\n",
      "(600, 12) (600,)\n",
      "(200, 12) (200,)\n",
      "(200, 12) (200,)\n",
      "Min Ratio:  0.415\n",
      "Min Ratio:  0.5\n",
      "Min Ratio:  0.395\n",
      "Min Ratio:  0.5\n"
     ]
    },
    {
     "data": {
      "application/vnd.jupyter.widget-view+json": {
       "model_id": "5c7bb76f884f426093dfec9f5d5a7361",
       "version_major": 2,
       "version_minor": 0
      },
      "text/plain": [
       "restarts:   0%|          | 0/1 [00:00<?, ?it/s]"
      ]
     },
     "metadata": {},
     "output_type": "display_data"
    },
    {
     "data": {
      "application/vnd.jupyter.widget-view+json": {
       "model_id": "86552195ffc14e70b663084b8fe8f43e",
       "version_major": 2,
       "version_minor": 0
      },
      "text/plain": [
       "epochs:   0%|          | 0/1 [00:00<?, ?it/s]"
      ]
     },
     "metadata": {},
     "output_type": "display_data"
    },
    {
     "name": "stdout",
     "output_type": "stream",
     "text": [
      "<tf.Variable 'Adam_2/learning_rate:0' shape=() dtype=float32>\n",
      "<tf.Variable 'Adam_2/learning_rate:0' shape=() dtype=float32>\n",
      "Original Data Shape (selected):  (1000, 12)\n",
      "Original Data Shape (encoded):  (1000, 12)\n",
      "Original Data Class Distribution:  646  (true) / 354  (false)\n",
      "(600, 12) (600,)\n",
      "(200, 12) (200,)\n",
      "(200, 12) (200,)\n",
      "Min Ratio:  0.3566666666666667\n",
      "Min Ratio:  0.5\n",
      "Min Ratio:  0.3525\n",
      "Min Ratio:  0.5\n"
     ]
    },
    {
     "data": {
      "application/vnd.jupyter.widget-view+json": {
       "model_id": "499129ba3ee44d7f93f47681903af287",
       "version_major": 2,
       "version_minor": 0
      },
      "text/plain": [
       "restarts:   0%|          | 0/1 [00:00<?, ?it/s]"
      ]
     },
     "metadata": {},
     "output_type": "display_data"
    },
    {
     "data": {
      "application/vnd.jupyter.widget-view+json": {
       "model_id": "dac23e8c69434637aed767f6546ddf8f",
       "version_major": 2,
       "version_minor": 0
      },
      "text/plain": [
       "epochs:   0%|          | 0/1 [00:00<?, ?it/s]"
      ]
     },
     "metadata": {},
     "output_type": "display_data"
    },
    {
     "name": "stdout",
     "output_type": "stream",
     "text": [
      "<tf.Variable 'Adam_2/learning_rate:0' shape=() dtype=float32>\n",
      "<tf.Variable 'Adam_2/learning_rate:0' shape=() dtype=float32>\n",
      "Original Data Shape (selected):  (1000, 12)\n",
      "Original Data Shape (encoded):  (1000, 12)\n",
      "Original Data Class Distribution:  582  (true) / 418  (false)\n",
      "(600, 12) (600,)\n",
      "(200, 12) (200,)\n",
      "(200, 12) (200,)\n",
      "Min Ratio:  0.435\n",
      "Min Ratio:  0.5\n",
      "Min Ratio:  0.43625\n",
      "Min Ratio:  0.5\n"
     ]
    },
    {
     "data": {
      "application/vnd.jupyter.widget-view+json": {
       "model_id": "e41c78873ac14b29a8c5f6ce284898f7",
       "version_major": 2,
       "version_minor": 0
      },
      "text/plain": [
       "restarts:   0%|          | 0/1 [00:00<?, ?it/s]"
      ]
     },
     "metadata": {},
     "output_type": "display_data"
    },
    {
     "data": {
      "application/vnd.jupyter.widget-view+json": {
       "model_id": "7622c3ab11cb441bb96e215973c3a868",
       "version_major": 2,
       "version_minor": 0
      },
      "text/plain": [
       "epochs:   0%|          | 0/1 [00:00<?, ?it/s]"
      ]
     },
     "metadata": {},
     "output_type": "display_data"
    },
    {
     "name": "stdout",
     "output_type": "stream",
     "text": [
      "<tf.Variable 'Adam_2/learning_rate:0' shape=() dtype=float32>\n",
      "<tf.Variable 'Adam_2/learning_rate:0' shape=() dtype=float32>\n",
      "Original Data Shape (selected):  (1000, 12)\n",
      "Original Data Shape (encoded):  (1000, 12)\n",
      "Original Data Class Distribution:  579  (true) / 421  (false)\n",
      "(600, 12) (600,)\n",
      "(200, 12) (200,)\n",
      "(200, 12) (200,)\n",
      "Min Ratio:  0.43333333333333335\n",
      "Min Ratio:  0.5\n",
      "Min Ratio:  0.42\n",
      "Min Ratio:  0.5\n"
     ]
    },
    {
     "data": {
      "application/vnd.jupyter.widget-view+json": {
       "model_id": "abdcddac53a94371baeea77f8d4acaa0",
       "version_major": 2,
       "version_minor": 0
      },
      "text/plain": [
       "restarts:   0%|          | 0/1 [00:00<?, ?it/s]"
      ]
     },
     "metadata": {},
     "output_type": "display_data"
    },
    {
     "data": {
      "application/vnd.jupyter.widget-view+json": {
       "model_id": "ae5589796b2a4b9197d4942f5a7f4d27",
       "version_major": 2,
       "version_minor": 0
      },
      "text/plain": [
       "epochs:   0%|          | 0/1 [00:00<?, ?it/s]"
      ]
     },
     "metadata": {},
     "output_type": "display_data"
    },
    {
     "name": "stdout",
     "output_type": "stream",
     "text": [
      "<tf.Variable 'Adam_2/learning_rate:0' shape=() dtype=float32>\n",
      "<tf.Variable 'Adam_2/learning_rate:0' shape=() dtype=float32>\n",
      "Original Data Shape (selected):  (1000, 12)\n",
      "Original Data Shape (encoded):  (1000, 12)\n",
      "Original Data Class Distribution:  474  (true) / 526  (false)\n",
      "(600, 12) (600,)\n",
      "(200, 12) (200,)\n",
      "(200, 12) (200,)\n",
      "Min Ratio:  0.49166666666666664\n",
      "Min Ratio:  0.5\n",
      "Min Ratio:  0.48625\n",
      "Min Ratio:  0.5\n"
     ]
    },
    {
     "data": {
      "application/vnd.jupyter.widget-view+json": {
       "model_id": "ce46963d281647a79239a80d9d0b7d8b",
       "version_major": 2,
       "version_minor": 0
      },
      "text/plain": [
       "restarts:   0%|          | 0/1 [00:00<?, ?it/s]"
      ]
     },
     "metadata": {},
     "output_type": "display_data"
    },
    {
     "data": {
      "application/vnd.jupyter.widget-view+json": {
       "model_id": "678801db01b2482db7dce7194148405c",
       "version_major": 2,
       "version_minor": 0
      },
      "text/plain": [
       "epochs:   0%|          | 0/1 [00:00<?, ?it/s]"
      ]
     },
     "metadata": {},
     "output_type": "display_data"
    },
    {
     "name": "stdout",
     "output_type": "stream",
     "text": [
      "<tf.Variable 'Adam_2/learning_rate:0' shape=() dtype=float32>\n",
      "<tf.Variable 'Adam_2/learning_rate:0' shape=() dtype=float32>\n",
      "Original Data Shape (selected):  (1000, 12)\n",
      "Original Data Shape (encoded):  (1000, 12)\n",
      "Original Data Class Distribution:  475  (true) / 525  (false)\n",
      "(600, 12) (600,)\n",
      "(200, 12) (200,)\n",
      "(200, 12) (200,)\n",
      "Min Ratio:  0.45166666666666666\n",
      "Min Ratio:  0.5\n",
      "Min Ratio:  0.46875\n",
      "Min Ratio:  0.5\n"
     ]
    },
    {
     "data": {
      "application/vnd.jupyter.widget-view+json": {
       "model_id": "dfeee187e5484dabacb8b0164a9c2773",
       "version_major": 2,
       "version_minor": 0
      },
      "text/plain": [
       "restarts:   0%|          | 0/1 [00:00<?, ?it/s]"
      ]
     },
     "metadata": {},
     "output_type": "display_data"
    },
    {
     "data": {
      "application/vnd.jupyter.widget-view+json": {
       "model_id": "76190df398204440b5ed11648462e212",
       "version_major": 2,
       "version_minor": 0
      },
      "text/plain": [
       "epochs:   0%|          | 0/1 [00:00<?, ?it/s]"
      ]
     },
     "metadata": {},
     "output_type": "display_data"
    },
    {
     "name": "stdout",
     "output_type": "stream",
     "text": [
      "<tf.Variable 'Adam_2/learning_rate:0' shape=() dtype=float32>\n",
      "<tf.Variable 'Adam_2/learning_rate:0' shape=() dtype=float32>\n",
      "Original Data Shape (selected):  (1000, 12)\n",
      "Original Data Shape (encoded):  (1000, 12)\n",
      "Original Data Class Distribution:  504  (true) / 496  (false)\n",
      "(600, 12) (600,)\n",
      "(200, 12) (200,)\n",
      "(200, 12) (200,)\n",
      "Min Ratio:  0.48333333333333334\n",
      "Min Ratio:  0.5\n",
      "Min Ratio:  0.49625\n",
      "Min Ratio:  0.5\n"
     ]
    },
    {
     "data": {
      "application/vnd.jupyter.widget-view+json": {
       "model_id": "431759c1a38a465884ce45f50a2d9737",
       "version_major": 2,
       "version_minor": 0
      },
      "text/plain": [
       "restarts:   0%|          | 0/1 [00:00<?, ?it/s]"
      ]
     },
     "metadata": {},
     "output_type": "display_data"
    },
    {
     "data": {
      "application/vnd.jupyter.widget-view+json": {
       "model_id": "e176b619f8534be4989027cf915769f9",
       "version_major": 2,
       "version_minor": 0
      },
      "text/plain": [
       "epochs:   0%|          | 0/1 [00:00<?, ?it/s]"
      ]
     },
     "metadata": {},
     "output_type": "display_data"
    },
    {
     "name": "stdout",
     "output_type": "stream",
     "text": [
      "<tf.Variable 'Adam_2/learning_rate:0' shape=() dtype=float32>\n",
      "<tf.Variable 'Adam_2/learning_rate:0' shape=() dtype=float32>\n",
      "Original Data Shape (selected):  (1000, 12)\n",
      "Original Data Shape (encoded):  (1000, 12)\n",
      "Original Data Class Distribution:  520  (true) / 480  (false)\n",
      "(600, 12) (600,)\n",
      "(200, 12) (200,)\n",
      "(200, 12) (200,)\n",
      "Min Ratio:  0.455\n",
      "Min Ratio:  0.5\n",
      "Min Ratio:  0.46625\n",
      "Min Ratio:  0.5\n"
     ]
    },
    {
     "data": {
      "application/vnd.jupyter.widget-view+json": {
       "model_id": "0318723fbfc44c21962fb2e6716b9215",
       "version_major": 2,
       "version_minor": 0
      },
      "text/plain": [
       "restarts:   0%|          | 0/1 [00:00<?, ?it/s]"
      ]
     },
     "metadata": {},
     "output_type": "display_data"
    },
    {
     "data": {
      "application/vnd.jupyter.widget-view+json": {
       "model_id": "80098eb6f0494d0181a9101b92790b66",
       "version_major": 2,
       "version_minor": 0
      },
      "text/plain": [
       "epochs:   0%|          | 0/1 [00:00<?, ?it/s]"
      ]
     },
     "metadata": {},
     "output_type": "display_data"
    },
    {
     "name": "stdout",
     "output_type": "stream",
     "text": [
      "<tf.Variable 'Adam_2/learning_rate:0' shape=() dtype=float32>\n",
      "<tf.Variable 'Adam_2/learning_rate:0' shape=() dtype=float32>\n",
      "Original Data Shape (selected):  (1000, 12)\n",
      "Original Data Shape (encoded):  (1000, 12)\n",
      "Original Data Class Distribution:  551  (true) / 449  (false)\n",
      "(600, 12) (600,)\n",
      "(200, 12) (200,)\n",
      "(200, 12) (200,)\n",
      "Min Ratio:  0.455\n",
      "Min Ratio:  0.5\n",
      "Min Ratio:  0.4575\n",
      "Min Ratio:  0.5\n"
     ]
    },
    {
     "data": {
      "application/vnd.jupyter.widget-view+json": {
       "model_id": "765259c837354634a540b6db7fc44ad7",
       "version_major": 2,
       "version_minor": 0
      },
      "text/plain": [
       "restarts:   0%|          | 0/1 [00:00<?, ?it/s]"
      ]
     },
     "metadata": {},
     "output_type": "display_data"
    },
    {
     "data": {
      "application/vnd.jupyter.widget-view+json": {
       "model_id": "b85332b12a48425aa4d6905d5fac7dde",
       "version_major": 2,
       "version_minor": 0
      },
      "text/plain": [
       "epochs:   0%|          | 0/1 [00:00<?, ?it/s]"
      ]
     },
     "metadata": {},
     "output_type": "display_data"
    },
    {
     "name": "stdout",
     "output_type": "stream",
     "text": [
      "<tf.Variable 'Adam_2/learning_rate:0' shape=() dtype=float32>\n",
      "<tf.Variable 'Adam_2/learning_rate:0' shape=() dtype=float32>\n",
      "Original Data Shape (selected):  (1000, 12)\n",
      "Original Data Shape (encoded):  (1000, 12)\n",
      "Original Data Class Distribution:  502  (true) / 498  (false)\n",
      "(600, 12) (600,)\n",
      "(200, 12) (200,)\n",
      "(200, 12) (200,)\n",
      "Min Ratio:  0.49333333333333335\n",
      "Min Ratio:  0.5\n",
      "Min Ratio:  0.49625\n",
      "Min Ratio:  0.5\n"
     ]
    },
    {
     "data": {
      "application/vnd.jupyter.widget-view+json": {
       "model_id": "b546e1f7d3654095944787549ae66557",
       "version_major": 2,
       "version_minor": 0
      },
      "text/plain": [
       "restarts:   0%|          | 0/1 [00:00<?, ?it/s]"
      ]
     },
     "metadata": {},
     "output_type": "display_data"
    },
    {
     "data": {
      "application/vnd.jupyter.widget-view+json": {
       "model_id": "3ac59753bbd44205baa0e4a3871a2f15",
       "version_major": 2,
       "version_minor": 0
      },
      "text/plain": [
       "epochs:   0%|          | 0/1 [00:00<?, ?it/s]"
      ]
     },
     "metadata": {},
     "output_type": "display_data"
    },
    {
     "name": "stdout",
     "output_type": "stream",
     "text": [
      "<tf.Variable 'Adam_2/learning_rate:0' shape=() dtype=float32>\n",
      "<tf.Variable 'Adam_2/learning_rate:0' shape=() dtype=float32>\n",
      "Original Data Shape (selected):  (1000, 12)\n",
      "Original Data Shape (encoded):  (1000, 12)\n",
      "Original Data Class Distribution:  498  (true) / 502  (false)\n",
      "(600, 12) (600,)\n",
      "(200, 12) (200,)\n",
      "(200, 12) (200,)\n",
      "Min Ratio:  0.49833333333333335\n",
      "Min Ratio:  0.5\n",
      "Min Ratio:  0.4975\n",
      "Min Ratio:  0.5\n"
     ]
    },
    {
     "data": {
      "application/vnd.jupyter.widget-view+json": {
       "model_id": "790eaf235a4f4567b3bf9e81b235532c",
       "version_major": 2,
       "version_minor": 0
      },
      "text/plain": [
       "restarts:   0%|          | 0/1 [00:00<?, ?it/s]"
      ]
     },
     "metadata": {},
     "output_type": "display_data"
    },
    {
     "data": {
      "application/vnd.jupyter.widget-view+json": {
       "model_id": "72583f2effbf47d981441dc63296d06f",
       "version_major": 2,
       "version_minor": 0
      },
      "text/plain": [
       "epochs:   0%|          | 0/1 [00:00<?, ?it/s]"
      ]
     },
     "metadata": {},
     "output_type": "display_data"
    },
    {
     "name": "stdout",
     "output_type": "stream",
     "text": [
      "<tf.Variable 'Adam_2/learning_rate:0' shape=() dtype=float32>\n",
      "<tf.Variable 'Adam_2/learning_rate:0' shape=() dtype=float32>\n",
      "Original Data Shape (selected):  (1000, 12)\n",
      "Original Data Shape (encoded):  (1000, 12)\n",
      "Original Data Class Distribution:  575  (true) / 425  (false)\n",
      "(600, 12) (600,)\n",
      "(200, 12) (200,)\n",
      "(200, 12) (200,)\n",
      "Min Ratio:  0.43666666666666665\n",
      "Min Ratio:  0.5\n",
      "Min Ratio:  0.44125\n",
      "Min Ratio:  0.5\n"
     ]
    },
    {
     "data": {
      "application/vnd.jupyter.widget-view+json": {
       "model_id": "e33fa472e1314eb195ef9163b8829d5f",
       "version_major": 2,
       "version_minor": 0
      },
      "text/plain": [
       "restarts:   0%|          | 0/1 [00:00<?, ?it/s]"
      ]
     },
     "metadata": {},
     "output_type": "display_data"
    },
    {
     "data": {
      "application/vnd.jupyter.widget-view+json": {
       "model_id": "fa7afd4af8574deb93a8a767d8ff6403",
       "version_major": 2,
       "version_minor": 0
      },
      "text/plain": [
       "epochs:   0%|          | 0/1 [00:00<?, ?it/s]"
      ]
     },
     "metadata": {},
     "output_type": "display_data"
    },
    {
     "name": "stdout",
     "output_type": "stream",
     "text": [
      "<tf.Variable 'Adam_2/learning_rate:0' shape=() dtype=float32>\n",
      "<tf.Variable 'Adam_2/learning_rate:0' shape=() dtype=float32>\n",
      "Original Data Shape (selected):  (1000, 12)\n",
      "Original Data Shape (encoded):  (1000, 12)\n",
      "Original Data Class Distribution:  579  (true) / 421  (false)\n",
      "(600, 12) (600,)\n",
      "(200, 12) (200,)\n",
      "(200, 12) (200,)\n",
      "Min Ratio:  0.4166666666666667\n",
      "Min Ratio:  0.5\n",
      "Min Ratio:  0.42625\n",
      "Min Ratio:  0.5\n"
     ]
    },
    {
     "data": {
      "application/vnd.jupyter.widget-view+json": {
       "model_id": "d348d96ed2334fadb735551fa2e668b8",
       "version_major": 2,
       "version_minor": 0
      },
      "text/plain": [
       "restarts:   0%|          | 0/1 [00:00<?, ?it/s]"
      ]
     },
     "metadata": {},
     "output_type": "display_data"
    },
    {
     "data": {
      "application/vnd.jupyter.widget-view+json": {
       "model_id": "4fedbc36647e4e7aa6ec65e2f04e392c",
       "version_major": 2,
       "version_minor": 0
      },
      "text/plain": [
       "epochs:   0%|          | 0/1 [00:00<?, ?it/s]"
      ]
     },
     "metadata": {},
     "output_type": "display_data"
    },
    {
     "name": "stdout",
     "output_type": "stream",
     "text": [
      "<tf.Variable 'Adam_2/learning_rate:0' shape=() dtype=float32>\n",
      "<tf.Variable 'Adam_2/learning_rate:0' shape=() dtype=float32>\n",
      "Original Data Shape (selected):  (1000, 12)\n",
      "Original Data Shape (encoded):  (1000, 12)\n",
      "Original Data Class Distribution:  640  (true) / 360  (false)\n",
      "(600, 12) (600,)\n",
      "(200, 12) (200,)\n",
      "(200, 12) (200,)\n",
      "Min Ratio:  0.35\n",
      "Min Ratio:  0.5\n",
      "Min Ratio:  0.34625\n",
      "Min Ratio:  0.5\n"
     ]
    },
    {
     "data": {
      "application/vnd.jupyter.widget-view+json": {
       "model_id": "67aa78ba0a6b41b9bdbdcc5e45d81eb5",
       "version_major": 2,
       "version_minor": 0
      },
      "text/plain": [
       "restarts:   0%|          | 0/1 [00:00<?, ?it/s]"
      ]
     },
     "metadata": {},
     "output_type": "display_data"
    },
    {
     "data": {
      "application/vnd.jupyter.widget-view+json": {
       "model_id": "7ca5011c941045328da32bc298213195",
       "version_major": 2,
       "version_minor": 0
      },
      "text/plain": [
       "epochs:   0%|          | 0/1 [00:00<?, ?it/s]"
      ]
     },
     "metadata": {},
     "output_type": "display_data"
    },
    {
     "name": "stdout",
     "output_type": "stream",
     "text": [
      "<tf.Variable 'Adam_2/learning_rate:0' shape=() dtype=float32>\n",
      "<tf.Variable 'Adam_2/learning_rate:0' shape=() dtype=float32>\n",
      "Original Data Shape (selected):  (1000, 12)\n",
      "Original Data Shape (encoded):  (1000, 12)\n",
      "Original Data Class Distribution:  585  (true) / 415  (false)\n",
      "(600, 12) (600,)\n",
      "(200, 12) (200,)\n",
      "(200, 12) (200,)\n",
      "Min Ratio:  0.3983333333333333\n",
      "Min Ratio:  0.5\n",
      "Min Ratio:  0.4125\n",
      "Min Ratio:  0.5\n"
     ]
    },
    {
     "data": {
      "application/vnd.jupyter.widget-view+json": {
       "model_id": "242d0d1ba1b24b4a9ecf942ee5d8aa95",
       "version_major": 2,
       "version_minor": 0
      },
      "text/plain": [
       "restarts:   0%|          | 0/1 [00:00<?, ?it/s]"
      ]
     },
     "metadata": {},
     "output_type": "display_data"
    },
    {
     "data": {
      "application/vnd.jupyter.widget-view+json": {
       "model_id": "8ee13b75fdc6426c8a8ddeb69b1e963a",
       "version_major": 2,
       "version_minor": 0
      },
      "text/plain": [
       "epochs:   0%|          | 0/1 [00:00<?, ?it/s]"
      ]
     },
     "metadata": {},
     "output_type": "display_data"
    },
    {
     "name": "stdout",
     "output_type": "stream",
     "text": [
      "<tf.Variable 'Adam_2/learning_rate:0' shape=() dtype=float32>\n",
      "<tf.Variable 'Adam_2/learning_rate:0' shape=() dtype=float32>\n",
      "Original Data Shape (selected):  (1000, 12)\n",
      "Original Data Shape (encoded):  (1000, 12)\n",
      "Original Data Class Distribution:  646  (true) / 354  (false)\n",
      "(600, 12) (600,)\n",
      "(200, 12) (200,)\n",
      "(200, 12) (200,)\n",
      "Min Ratio:  0.36833333333333335\n",
      "Min Ratio:  0.5\n",
      "Min Ratio:  0.355\n",
      "Min Ratio:  0.5\n"
     ]
    },
    {
     "data": {
      "application/vnd.jupyter.widget-view+json": {
       "model_id": "363da63968b74cb9aa2e0ef3030e05fe",
       "version_major": 2,
       "version_minor": 0
      },
      "text/plain": [
       "restarts:   0%|          | 0/1 [00:00<?, ?it/s]"
      ]
     },
     "metadata": {},
     "output_type": "display_data"
    },
    {
     "data": {
      "application/vnd.jupyter.widget-view+json": {
       "model_id": "555960305042447898675bc684912391",
       "version_major": 2,
       "version_minor": 0
      },
      "text/plain": [
       "epochs:   0%|          | 0/1 [00:00<?, ?it/s]"
      ]
     },
     "metadata": {},
     "output_type": "display_data"
    },
    {
     "name": "stdout",
     "output_type": "stream",
     "text": [
      "<tf.Variable 'Adam_2/learning_rate:0' shape=() dtype=float32>\n",
      "<tf.Variable 'Adam_2/learning_rate:0' shape=() dtype=float32>\n",
      "Original Data Shape (selected):  (1000, 12)\n",
      "Original Data Shape (encoded):  (1000, 12)\n",
      "Original Data Class Distribution:  492  (true) / 508  (false)\n",
      "(600, 12) (600,)\n",
      "(200, 12) (200,)\n",
      "(200, 12) (200,)\n",
      "Min Ratio:  0.49833333333333335\n",
      "Min Ratio:  0.5\n",
      "Min Ratio:  0.4875\n",
      "Min Ratio:  0.5\n"
     ]
    },
    {
     "data": {
      "application/vnd.jupyter.widget-view+json": {
       "model_id": "4c8bc99defa54c2494201d4b52d5277c",
       "version_major": 2,
       "version_minor": 0
      },
      "text/plain": [
       "restarts:   0%|          | 0/1 [00:00<?, ?it/s]"
      ]
     },
     "metadata": {},
     "output_type": "display_data"
    },
    {
     "data": {
      "application/vnd.jupyter.widget-view+json": {
       "model_id": "d8dc295880c044dab60180846425599d",
       "version_major": 2,
       "version_minor": 0
      },
      "text/plain": [
       "epochs:   0%|          | 0/1 [00:00<?, ?it/s]"
      ]
     },
     "metadata": {},
     "output_type": "display_data"
    },
    {
     "name": "stdout",
     "output_type": "stream",
     "text": [
      "<tf.Variable 'Adam_2/learning_rate:0' shape=() dtype=float32>\n",
      "<tf.Variable 'Adam_2/learning_rate:0' shape=() dtype=float32>\n",
      "Original Data Shape (selected):  (1000, 12)\n",
      "Original Data Shape (encoded):  (1000, 12)\n",
      "Original Data Class Distribution:  556  (true) / 444  (false)\n",
      "(600, 12) (600,)\n",
      "(200, 12) (200,)\n",
      "(200, 12) (200,)\n",
      "Min Ratio:  0.445\n",
      "Min Ratio:  0.5\n",
      "Min Ratio:  0.44375\n",
      "Min Ratio:  0.5\n"
     ]
    },
    {
     "data": {
      "application/vnd.jupyter.widget-view+json": {
       "model_id": "56efa6cbe3944e9fb841b1ae202ce9c1",
       "version_major": 2,
       "version_minor": 0
      },
      "text/plain": [
       "restarts:   0%|          | 0/1 [00:00<?, ?it/s]"
      ]
     },
     "metadata": {},
     "output_type": "display_data"
    },
    {
     "data": {
      "application/vnd.jupyter.widget-view+json": {
       "model_id": "93c87ef66904435d8f5ddbef558f8726",
       "version_major": 2,
       "version_minor": 0
      },
      "text/plain": [
       "epochs:   0%|          | 0/1 [00:00<?, ?it/s]"
      ]
     },
     "metadata": {},
     "output_type": "display_data"
    },
    {
     "name": "stdout",
     "output_type": "stream",
     "text": [
      "<tf.Variable 'Adam_2/learning_rate:0' shape=() dtype=float32>\n",
      "<tf.Variable 'Adam_2/learning_rate:0' shape=() dtype=float32>\n",
      "Original Data Shape (selected):  (1000, 12)\n",
      "Original Data Shape (encoded):  (1000, 12)\n",
      "Original Data Class Distribution:  726  (true) / 274  (false)\n",
      "(600, 12) (600,)\n",
      "(200, 12) (200,)\n",
      "(200, 12) (200,)\n",
      "Min Ratio:  0.27166666666666667\n",
      "Min Ratio:  0.5\n",
      "Min Ratio:  0.2675\n",
      "Min Ratio:  0.5\n"
     ]
    },
    {
     "data": {
      "application/vnd.jupyter.widget-view+json": {
       "model_id": "e7b7aa5f8e194aedaef433100b636f2e",
       "version_major": 2,
       "version_minor": 0
      },
      "text/plain": [
       "restarts:   0%|          | 0/1 [00:00<?, ?it/s]"
      ]
     },
     "metadata": {},
     "output_type": "display_data"
    },
    {
     "data": {
      "application/vnd.jupyter.widget-view+json": {
       "model_id": "3b9121f6e6154e3985fc74dfa3193a81",
       "version_major": 2,
       "version_minor": 0
      },
      "text/plain": [
       "epochs:   0%|          | 0/1 [00:00<?, ?it/s]"
      ]
     },
     "metadata": {},
     "output_type": "display_data"
    },
    {
     "name": "stdout",
     "output_type": "stream",
     "text": [
      "<tf.Variable 'Adam_2/learning_rate:0' shape=() dtype=float32>\n",
      "<tf.Variable 'Adam_2/learning_rate:0' shape=() dtype=float32>\n",
      "Original Data Shape (selected):  (1000, 12)\n",
      "Original Data Shape (encoded):  (1000, 12)\n",
      "Original Data Class Distribution:  573  (true) / 427  (false)\n",
      "(600, 12) (600,)\n",
      "(200, 12) (200,)\n",
      "(200, 12) (200,)\n",
      "Min Ratio:  0.4066666666666667\n",
      "Min Ratio:  0.5\n",
      "Min Ratio:  0.40875\n",
      "Min Ratio:  0.5\n"
     ]
    },
    {
     "data": {
      "application/vnd.jupyter.widget-view+json": {
       "model_id": "4aaf8f59a0f0448b951966886105392a",
       "version_major": 2,
       "version_minor": 0
      },
      "text/plain": [
       "restarts:   0%|          | 0/1 [00:00<?, ?it/s]"
      ]
     },
     "metadata": {},
     "output_type": "display_data"
    },
    {
     "data": {
      "application/vnd.jupyter.widget-view+json": {
       "model_id": "d1053f54309e4e288369bb5a72f6f969",
       "version_major": 2,
       "version_minor": 0
      },
      "text/plain": [
       "epochs:   0%|          | 0/1 [00:00<?, ?it/s]"
      ]
     },
     "metadata": {},
     "output_type": "display_data"
    },
    {
     "name": "stdout",
     "output_type": "stream",
     "text": [
      "<tf.Variable 'Adam_2/learning_rate:0' shape=() dtype=float32>\n",
      "<tf.Variable 'Adam_2/learning_rate:0' shape=() dtype=float32>\n",
      "Original Data Shape (selected):  (1000, 12)\n",
      "Original Data Shape (encoded):  (1000, 12)\n",
      "Original Data Class Distribution:  604  (true) / 396  (false)\n",
      "(600, 12) (600,)\n",
      "(200, 12) (200,)\n",
      "(200, 12) (200,)\n",
      "Min Ratio:  0.385\n",
      "Min Ratio:  0.5\n",
      "Min Ratio:  0.39375\n",
      "Min Ratio:  0.5\n"
     ]
    },
    {
     "data": {
      "application/vnd.jupyter.widget-view+json": {
       "model_id": "4a266c31df644a42a79c88b01f85bb6d",
       "version_major": 2,
       "version_minor": 0
      },
      "text/plain": [
       "restarts:   0%|          | 0/1 [00:00<?, ?it/s]"
      ]
     },
     "metadata": {},
     "output_type": "display_data"
    },
    {
     "data": {
      "application/vnd.jupyter.widget-view+json": {
       "model_id": "f359c643bde242d2af86e39765790115",
       "version_major": 2,
       "version_minor": 0
      },
      "text/plain": [
       "epochs:   0%|          | 0/1 [00:00<?, ?it/s]"
      ]
     },
     "metadata": {},
     "output_type": "display_data"
    },
    {
     "name": "stdout",
     "output_type": "stream",
     "text": [
      "<tf.Variable 'Adam_2/learning_rate:0' shape=() dtype=float32>\n",
      "<tf.Variable 'Adam_2/learning_rate:0' shape=() dtype=float32>\n",
      "Original Data Shape (selected):  (1000, 12)\n",
      "Original Data Shape (encoded):  (1000, 12)\n",
      "Original Data Class Distribution:  623  (true) / 377  (false)\n",
      "(600, 12) (600,)\n",
      "(200, 12) (200,)\n",
      "(200, 12) (200,)\n",
      "Min Ratio:  0.37166666666666665\n",
      "Min Ratio:  0.5\n",
      "Min Ratio:  0.36125\n",
      "Min Ratio:  0.5\n"
     ]
    },
    {
     "data": {
      "application/vnd.jupyter.widget-view+json": {
       "model_id": "9873396c1bc64f6186a7c6de1d434d41",
       "version_major": 2,
       "version_minor": 0
      },
      "text/plain": [
       "restarts:   0%|          | 0/1 [00:00<?, ?it/s]"
      ]
     },
     "metadata": {},
     "output_type": "display_data"
    },
    {
     "data": {
      "application/vnd.jupyter.widget-view+json": {
       "model_id": "1acfb25195094a92b2b8c56a521c891a",
       "version_major": 2,
       "version_minor": 0
      },
      "text/plain": [
       "epochs:   0%|          | 0/1 [00:00<?, ?it/s]"
      ]
     },
     "metadata": {},
     "output_type": "display_data"
    },
    {
     "name": "stdout",
     "output_type": "stream",
     "text": [
      "<tf.Variable 'Adam_2/learning_rate:0' shape=() dtype=float32>\n",
      "<tf.Variable 'Adam_2/learning_rate:0' shape=() dtype=float32>\n",
      "Original Data Shape (selected):  (1000, 12)\n",
      "Original Data Shape (encoded):  (1000, 12)\n",
      "Original Data Class Distribution:  558  (true) / 442  (false)\n",
      "(600, 12) (600,)\n",
      "(200, 12) (200,)\n",
      "(200, 12) (200,)\n",
      "Min Ratio:  0.4216666666666667\n",
      "Min Ratio:  0.5\n",
      "Min Ratio:  0.42625\n",
      "Min Ratio:  0.5\n"
     ]
    },
    {
     "data": {
      "application/vnd.jupyter.widget-view+json": {
       "model_id": "4b3064f3113340da8664dda3fa693130",
       "version_major": 2,
       "version_minor": 0
      },
      "text/plain": [
       "restarts:   0%|          | 0/1 [00:00<?, ?it/s]"
      ]
     },
     "metadata": {},
     "output_type": "display_data"
    },
    {
     "data": {
      "application/vnd.jupyter.widget-view+json": {
       "model_id": "aeddb85dd08047dd8d7af45a5c89bca4",
       "version_major": 2,
       "version_minor": 0
      },
      "text/plain": [
       "epochs:   0%|          | 0/1 [00:00<?, ?it/s]"
      ]
     },
     "metadata": {},
     "output_type": "display_data"
    },
    {
     "name": "stdout",
     "output_type": "stream",
     "text": [
      "<tf.Variable 'Adam_2/learning_rate:0' shape=() dtype=float32>\n",
      "<tf.Variable 'Adam_2/learning_rate:0' shape=() dtype=float32>\n",
      "Original Data Shape (selected):  (1000, 12)\n",
      "Original Data Shape (encoded):  (1000, 12)\n",
      "Original Data Class Distribution:  589  (true) / 411  (false)\n",
      "(600, 12) (600,)\n",
      "(200, 12) (200,)\n",
      "(200, 12) (200,)\n",
      "Min Ratio:  0.41833333333333333\n",
      "Min Ratio:  0.5\n",
      "Min Ratio:  0.40625\n",
      "Min Ratio:  0.5\n"
     ]
    },
    {
     "data": {
      "application/vnd.jupyter.widget-view+json": {
       "model_id": "1d345b5942304040b0b9b0016bce88c5",
       "version_major": 2,
       "version_minor": 0
      },
      "text/plain": [
       "restarts:   0%|          | 0/1 [00:00<?, ?it/s]"
      ]
     },
     "metadata": {},
     "output_type": "display_data"
    },
    {
     "data": {
      "application/vnd.jupyter.widget-view+json": {
       "model_id": "093ab86116524ae7baabdc0122340933",
       "version_major": 2,
       "version_minor": 0
      },
      "text/plain": [
       "epochs:   0%|          | 0/1 [00:00<?, ?it/s]"
      ]
     },
     "metadata": {},
     "output_type": "display_data"
    },
    {
     "name": "stdout",
     "output_type": "stream",
     "text": [
      "<tf.Variable 'Adam_2/learning_rate:0' shape=() dtype=float32>\n",
      "<tf.Variable 'Adam_2/learning_rate:0' shape=() dtype=float32>\n",
      "Original Data Shape (selected):  (1000, 12)\n",
      "Original Data Shape (encoded):  (1000, 12)\n",
      "Original Data Class Distribution:  590  (true) / 410  (false)\n",
      "(600, 12) (600,)\n",
      "(200, 12) (200,)\n",
      "(200, 12) (200,)\n",
      "Min Ratio:  0.39666666666666667\n",
      "Min Ratio:  0.5\n",
      "Min Ratio:  0.40625\n",
      "Min Ratio:  0.5\n"
     ]
    },
    {
     "data": {
      "application/vnd.jupyter.widget-view+json": {
       "model_id": "ac713efaefec46349b3776cfa082f61e",
       "version_major": 2,
       "version_minor": 0
      },
      "text/plain": [
       "restarts:   0%|          | 0/1 [00:00<?, ?it/s]"
      ]
     },
     "metadata": {},
     "output_type": "display_data"
    },
    {
     "data": {
      "application/vnd.jupyter.widget-view+json": {
       "model_id": "fb83a9c66e824e86a241689ab979d3d0",
       "version_major": 2,
       "version_minor": 0
      },
      "text/plain": [
       "epochs:   0%|          | 0/1 [00:00<?, ?it/s]"
      ]
     },
     "metadata": {},
     "output_type": "display_data"
    },
    {
     "name": "stdout",
     "output_type": "stream",
     "text": [
      "<tf.Variable 'Adam_2/learning_rate:0' shape=() dtype=float32>\n",
      "<tf.Variable 'Adam_2/learning_rate:0' shape=() dtype=float32>\n",
      "Original Data Shape (selected):  (1000, 12)\n",
      "Original Data Shape (encoded):  (1000, 12)\n",
      "Original Data Class Distribution:  620  (true) / 380  (false)\n",
      "(600, 12) (600,)\n",
      "(200, 12) (200,)\n",
      "(200, 12) (200,)\n",
      "Min Ratio:  0.37166666666666665\n",
      "Min Ratio:  0.5\n",
      "Min Ratio:  0.37875\n",
      "Min Ratio:  0.5\n"
     ]
    },
    {
     "data": {
      "application/vnd.jupyter.widget-view+json": {
       "model_id": "fd5ff8bc3ae949b6b7274c9c13cd689f",
       "version_major": 2,
       "version_minor": 0
      },
      "text/plain": [
       "restarts:   0%|          | 0/1 [00:00<?, ?it/s]"
      ]
     },
     "metadata": {},
     "output_type": "display_data"
    },
    {
     "data": {
      "application/vnd.jupyter.widget-view+json": {
       "model_id": "a29938da1e0a4be3974601dde1f895db",
       "version_major": 2,
       "version_minor": 0
      },
      "text/plain": [
       "epochs:   0%|          | 0/1 [00:00<?, ?it/s]"
      ]
     },
     "metadata": {},
     "output_type": "display_data"
    },
    {
     "name": "stdout",
     "output_type": "stream",
     "text": [
      "<tf.Variable 'Adam_2/learning_rate:0' shape=() dtype=float32>\n",
      "<tf.Variable 'Adam_2/learning_rate:0' shape=() dtype=float32>\n",
      "Original Data Shape (selected):  (1000, 12)\n",
      "Original Data Shape (encoded):  (1000, 12)\n",
      "Original Data Class Distribution:  604  (true) / 396  (false)\n",
      "(600, 12) (600,)\n",
      "(200, 12) (200,)\n",
      "(200, 12) (200,)\n",
      "Min Ratio:  0.41\n",
      "Min Ratio:  0.5\n",
      "Min Ratio:  0.4\n",
      "Min Ratio:  0.5\n"
     ]
    },
    {
     "data": {
      "application/vnd.jupyter.widget-view+json": {
       "model_id": "781b48d58d4349399ae8fa5312b4ef6d",
       "version_major": 2,
       "version_minor": 0
      },
      "text/plain": [
       "restarts:   0%|          | 0/1 [00:00<?, ?it/s]"
      ]
     },
     "metadata": {},
     "output_type": "display_data"
    },
    {
     "data": {
      "application/vnd.jupyter.widget-view+json": {
       "model_id": "ab2b2c3ae9d54127b35c9a1e5c58bdc4",
       "version_major": 2,
       "version_minor": 0
      },
      "text/plain": [
       "epochs:   0%|          | 0/1 [00:00<?, ?it/s]"
      ]
     },
     "metadata": {},
     "output_type": "display_data"
    },
    {
     "name": "stdout",
     "output_type": "stream",
     "text": [
      "<tf.Variable 'Adam_2/learning_rate:0' shape=() dtype=float32>\n",
      "<tf.Variable 'Adam_2/learning_rate:0' shape=() dtype=float32>\n",
      "Original Data Shape (selected):  (1000, 12)\n",
      "Original Data Shape (encoded):  (1000, 12)\n",
      "Original Data Class Distribution:  621  (true) / 379  (false)\n",
      "(600, 12) (600,)\n",
      "(200, 12) (200,)\n",
      "(200, 12) (200,)\n",
      "Min Ratio:  0.34833333333333333\n",
      "Min Ratio:  0.5\n",
      "Min Ratio:  0.3675\n",
      "Min Ratio:  0.5\n"
     ]
    },
    {
     "data": {
      "application/vnd.jupyter.widget-view+json": {
       "model_id": "cbdfa14a89cd42ae8a9414a803bd18b0",
       "version_major": 2,
       "version_minor": 0
      },
      "text/plain": [
       "restarts:   0%|          | 0/1 [00:00<?, ?it/s]"
      ]
     },
     "metadata": {},
     "output_type": "display_data"
    },
    {
     "data": {
      "application/vnd.jupyter.widget-view+json": {
       "model_id": "ffcf11f4fd674883b366f629b40d200b",
       "version_major": 2,
       "version_minor": 0
      },
      "text/plain": [
       "epochs:   0%|          | 0/1 [00:00<?, ?it/s]"
      ]
     },
     "metadata": {},
     "output_type": "display_data"
    },
    {
     "name": "stdout",
     "output_type": "stream",
     "text": [
      "<tf.Variable 'Adam_2/learning_rate:0' shape=() dtype=float32>\n",
      "<tf.Variable 'Adam_2/learning_rate:0' shape=() dtype=float32>\n",
      "Original Data Shape (selected):  (1000, 12)\n",
      "Original Data Shape (encoded):  (1000, 12)\n",
      "Original Data Class Distribution:  580  (true) / 420  (false)\n",
      "(600, 12) (600,)\n",
      "(200, 12) (200,)\n",
      "(200, 12) (200,)\n",
      "Min Ratio:  0.41833333333333333\n",
      "Min Ratio:  0.5\n",
      "Min Ratio:  0.4225\n",
      "Min Ratio:  0.5\n"
     ]
    },
    {
     "data": {
      "application/vnd.jupyter.widget-view+json": {
       "model_id": "c13e302ebb7f4e10ad9771c9894d0849",
       "version_major": 2,
       "version_minor": 0
      },
      "text/plain": [
       "restarts:   0%|          | 0/1 [00:00<?, ?it/s]"
      ]
     },
     "metadata": {},
     "output_type": "display_data"
    },
    {
     "data": {
      "application/vnd.jupyter.widget-view+json": {
       "model_id": "f24d684e62b94a8abc50719999e44d62",
       "version_major": 2,
       "version_minor": 0
      },
      "text/plain": [
       "epochs:   0%|          | 0/1 [00:00<?, ?it/s]"
      ]
     },
     "metadata": {},
     "output_type": "display_data"
    },
    {
     "name": "stdout",
     "output_type": "stream",
     "text": [
      "<tf.Variable 'Adam_2/learning_rate:0' shape=() dtype=float32>\n",
      "<tf.Variable 'Adam_2/learning_rate:0' shape=() dtype=float32>\n",
      "Original Data Shape (selected):  (1000, 12)\n",
      "Original Data Shape (encoded):  (1000, 12)\n",
      "Original Data Class Distribution:  546  (true) / 454  (false)\n",
      "(600, 12) (600,)\n",
      "(200, 12) (200,)\n",
      "(200, 12) (200,)\n",
      "Min Ratio:  0.45666666666666667\n",
      "Min Ratio:  0.5\n",
      "Min Ratio:  0.4575\n",
      "Min Ratio:  0.5\n"
     ]
    },
    {
     "data": {
      "application/vnd.jupyter.widget-view+json": {
       "model_id": "8272415489ce4d8bb8d1caf2eabed274",
       "version_major": 2,
       "version_minor": 0
      },
      "text/plain": [
       "restarts:   0%|          | 0/1 [00:00<?, ?it/s]"
      ]
     },
     "metadata": {},
     "output_type": "display_data"
    },
    {
     "data": {
      "application/vnd.jupyter.widget-view+json": {
       "model_id": "25111b01a58946c489105775a565913b",
       "version_major": 2,
       "version_minor": 0
      },
      "text/plain": [
       "epochs:   0%|          | 0/1 [00:00<?, ?it/s]"
      ]
     },
     "metadata": {},
     "output_type": "display_data"
    },
    {
     "name": "stdout",
     "output_type": "stream",
     "text": [
      "<tf.Variable 'Adam_2/learning_rate:0' shape=() dtype=float32>\n",
      "<tf.Variable 'Adam_2/learning_rate:0' shape=() dtype=float32>\n",
      "Original Data Shape (selected):  (1000, 12)\n",
      "Original Data Shape (encoded):  (1000, 12)\n",
      "Original Data Class Distribution:  614  (true) / 386  (false)\n",
      "(600, 12) (600,)\n",
      "(200, 12) (200,)\n",
      "(200, 12) (200,)\n",
      "Min Ratio:  0.39\n",
      "Min Ratio:  0.5\n",
      "Min Ratio:  0.385\n",
      "Min Ratio:  0.5\n"
     ]
    },
    {
     "data": {
      "application/vnd.jupyter.widget-view+json": {
       "model_id": "a90e1f5d4ad34dd688d48724c9276688",
       "version_major": 2,
       "version_minor": 0
      },
      "text/plain": [
       "restarts:   0%|          | 0/1 [00:00<?, ?it/s]"
      ]
     },
     "metadata": {},
     "output_type": "display_data"
    },
    {
     "data": {
      "application/vnd.jupyter.widget-view+json": {
       "model_id": "22165d6c697b4795bbbf2fbba653ccdc",
       "version_major": 2,
       "version_minor": 0
      },
      "text/plain": [
       "epochs:   0%|          | 0/1 [00:00<?, ?it/s]"
      ]
     },
     "metadata": {},
     "output_type": "display_data"
    },
    {
     "name": "stdout",
     "output_type": "stream",
     "text": [
      "<tf.Variable 'Adam_2/learning_rate:0' shape=() dtype=float32>\n",
      "<tf.Variable 'Adam_2/learning_rate:0' shape=() dtype=float32>\n",
      "Original Data Shape (selected):  (1000, 12)\n",
      "Original Data Shape (encoded):  (1000, 12)\n",
      "Original Data Class Distribution:  580  (true) / 420  (false)\n",
      "(600, 12) (600,)\n",
      "(200, 12) (200,)\n",
      "(200, 12) (200,)\n",
      "Min Ratio:  0.4066666666666667\n",
      "Min Ratio:  0.5\n",
      "Min Ratio:  0.4\n",
      "Min Ratio:  0.5\n"
     ]
    },
    {
     "data": {
      "application/vnd.jupyter.widget-view+json": {
       "model_id": "8c1e819dc73d4270a6f084679b73137c",
       "version_major": 2,
       "version_minor": 0
      },
      "text/plain": [
       "restarts:   0%|          | 0/1 [00:00<?, ?it/s]"
      ]
     },
     "metadata": {},
     "output_type": "display_data"
    },
    {
     "data": {
      "application/vnd.jupyter.widget-view+json": {
       "model_id": "a74817db8bf745c594c3b1fcd4349cff",
       "version_major": 2,
       "version_minor": 0
      },
      "text/plain": [
       "epochs:   0%|          | 0/1 [00:00<?, ?it/s]"
      ]
     },
     "metadata": {},
     "output_type": "display_data"
    },
    {
     "name": "stdout",
     "output_type": "stream",
     "text": [
      "<tf.Variable 'Adam_2/learning_rate:0' shape=() dtype=float32>\n",
      "<tf.Variable 'Adam_2/learning_rate:0' shape=() dtype=float32>\n",
      "Original Data Shape (selected):  (1000, 12)\n",
      "Original Data Shape (encoded):  (1000, 12)\n",
      "Original Data Class Distribution:  693  (true) / 307  (false)\n",
      "(600, 12) (600,)\n",
      "(200, 12) (200,)\n",
      "(200, 12) (200,)\n",
      "Min Ratio:  0.29333333333333333\n",
      "Min Ratio:  0.5\n",
      "Min Ratio:  0.30375\n",
      "Min Ratio:  0.5\n"
     ]
    },
    {
     "data": {
      "application/vnd.jupyter.widget-view+json": {
       "model_id": "19fc1253ba304d3b86c2350bd9fb63be",
       "version_major": 2,
       "version_minor": 0
      },
      "text/plain": [
       "restarts:   0%|          | 0/1 [00:00<?, ?it/s]"
      ]
     },
     "metadata": {},
     "output_type": "display_data"
    },
    {
     "data": {
      "application/vnd.jupyter.widget-view+json": {
       "model_id": "f840e656df1d4be6acc1844f101ad32d",
       "version_major": 2,
       "version_minor": 0
      },
      "text/plain": [
       "epochs:   0%|          | 0/1 [00:00<?, ?it/s]"
      ]
     },
     "metadata": {},
     "output_type": "display_data"
    },
    {
     "name": "stdout",
     "output_type": "stream",
     "text": [
      "<tf.Variable 'Adam_2/learning_rate:0' shape=() dtype=float32>\n",
      "<tf.Variable 'Adam_2/learning_rate:0' shape=() dtype=float32>\n",
      "Original Data Shape (selected):  (1000, 12)\n",
      "Original Data Shape (encoded):  (1000, 12)\n",
      "Original Data Class Distribution:  650  (true) / 350  (false)\n",
      "(600, 12) (600,)\n",
      "(200, 12) (200,)\n",
      "(200, 12) (200,)\n",
      "Min Ratio:  0.36\n",
      "Min Ratio:  0.5\n",
      "Min Ratio:  0.34625\n",
      "Min Ratio:  0.5\n"
     ]
    },
    {
     "data": {
      "application/vnd.jupyter.widget-view+json": {
       "model_id": "217a1dcbb47c47a7baa4c267a33331a0",
       "version_major": 2,
       "version_minor": 0
      },
      "text/plain": [
       "restarts:   0%|          | 0/1 [00:00<?, ?it/s]"
      ]
     },
     "metadata": {},
     "output_type": "display_data"
    },
    {
     "data": {
      "application/vnd.jupyter.widget-view+json": {
       "model_id": "b76a3cd985f4419eba5396866a5ce4e8",
       "version_major": 2,
       "version_minor": 0
      },
      "text/plain": [
       "epochs:   0%|          | 0/1 [00:00<?, ?it/s]"
      ]
     },
     "metadata": {},
     "output_type": "display_data"
    },
    {
     "name": "stdout",
     "output_type": "stream",
     "text": [
      "<tf.Variable 'Adam_2/learning_rate:0' shape=() dtype=float32>\n",
      "Original Data Shape (selected):  (1000, 12)\n",
      "Original Data Shape (encoded):  (1000, 12)\n",
      "Original Data Class Distribution:  661  (true) / 339  (false)\n",
      "(600, 12) (600,)\n",
      "(200, 12) (200,)\n",
      "(200, 12) (200,)\n",
      "Min Ratio:  0.3433333333333333\n",
      "Min Ratio:  0.5\n",
      "Min Ratio:  0.33875\n",
      "Min Ratio:  0.5\n"
     ]
    },
    {
     "data": {
      "application/vnd.jupyter.widget-view+json": {
       "model_id": "78b2c2791e5f40fba7554abf5401d18c",
       "version_major": 2,
       "version_minor": 0
      },
      "text/plain": [
       "restarts:   0%|          | 0/1 [00:00<?, ?it/s]"
      ]
     },
     "metadata": {},
     "output_type": "display_data"
    },
    {
     "data": {
      "application/vnd.jupyter.widget-view+json": {
       "model_id": "22842f13fef24148b769161d4078da3f",
       "version_major": 2,
       "version_minor": 0
      },
      "text/plain": [
       "epochs:   0%|          | 0/1 [00:00<?, ?it/s]"
      ]
     },
     "metadata": {},
     "output_type": "display_data"
    },
    {
     "name": "stdout",
     "output_type": "stream",
     "text": [
      "<tf.Variable 'Adam_2/learning_rate:0' shape=() dtype=float32>\n",
      "<tf.Variable 'Adam_2/learning_rate:0' shape=() dtype=float32>\n",
      "Original Data Shape (selected):  (1000, 12)\n",
      "Original Data Shape (encoded):  (1000, 12)\n",
      "Original Data Class Distribution:  531  (true) / 469  (false)\n",
      "(600, 12) (600,)\n",
      "(200, 12) (200,)\n",
      "(200, 12) (200,)\n",
      "Min Ratio:  0.47833333333333333\n",
      "Min Ratio:  0.5\n",
      "Min Ratio:  0.4825\n",
      "Min Ratio:  0.5\n"
     ]
    },
    {
     "data": {
      "application/vnd.jupyter.widget-view+json": {
       "model_id": "70b4145de3034e4794c9b6a6e4f2ca43",
       "version_major": 2,
       "version_minor": 0
      },
      "text/plain": [
       "restarts:   0%|          | 0/1 [00:00<?, ?it/s]"
      ]
     },
     "metadata": {},
     "output_type": "display_data"
    },
    {
     "data": {
      "application/vnd.jupyter.widget-view+json": {
       "model_id": "1cdba3eb8914450f82122b7f3340117d",
       "version_major": 2,
       "version_minor": 0
      },
      "text/plain": [
       "epochs:   0%|          | 0/1 [00:00<?, ?it/s]"
      ]
     },
     "metadata": {},
     "output_type": "display_data"
    },
    {
     "name": "stdout",
     "output_type": "stream",
     "text": [
      "<tf.Variable 'Adam_2/learning_rate:0' shape=() dtype=float32>\n",
      "<tf.Variable 'Adam_2/learning_rate:0' shape=() dtype=float32>\n",
      "Original Data Shape (selected):  (1000, 12)\n",
      "Original Data Shape (encoded):  (1000, 12)\n",
      "Original Data Class Distribution:  446  (true) / 554  (false)\n",
      "(600, 12) (600,)\n",
      "(200, 12) (200,)\n",
      "(200, 12) (200,)\n",
      "Min Ratio:  0.44333333333333336\n",
      "Min Ratio:  0.5\n",
      "Min Ratio:  0.45875\n",
      "Min Ratio:  0.5\n"
     ]
    },
    {
     "data": {
      "application/vnd.jupyter.widget-view+json": {
       "model_id": "1769845ec12f4addaed7868187b64f3e",
       "version_major": 2,
       "version_minor": 0
      },
      "text/plain": [
       "restarts:   0%|          | 0/1 [00:00<?, ?it/s]"
      ]
     },
     "metadata": {},
     "output_type": "display_data"
    },
    {
     "data": {
      "application/vnd.jupyter.widget-view+json": {
       "model_id": "81211faa96a64e3bbf8bdf43b8845289",
       "version_major": 2,
       "version_minor": 0
      },
      "text/plain": [
       "epochs:   0%|          | 0/1 [00:00<?, ?it/s]"
      ]
     },
     "metadata": {},
     "output_type": "display_data"
    },
    {
     "name": "stdout",
     "output_type": "stream",
     "text": [
      "<tf.Variable 'Adam_2/learning_rate:0' shape=() dtype=float32>\n",
      "<tf.Variable 'Adam_2/learning_rate:0' shape=() dtype=float32>\n",
      "Original Data Shape (selected):  (1000, 12)\n",
      "Original Data Shape (encoded):  (1000, 12)\n",
      "Original Data Class Distribution:  470  (true) / 530  (false)\n",
      "(600, 12) (600,)\n",
      "(200, 12) (200,)\n",
      "(200, 12) (200,)\n",
      "Min Ratio:  0.475\n",
      "Min Ratio:  0.5\n",
      "Min Ratio:  0.47375\n",
      "Min Ratio:  0.5\n"
     ]
    },
    {
     "data": {
      "application/vnd.jupyter.widget-view+json": {
       "model_id": "06f66f4a32744e07809b2f2e156a0c86",
       "version_major": 2,
       "version_minor": 0
      },
      "text/plain": [
       "restarts:   0%|          | 0/1 [00:00<?, ?it/s]"
      ]
     },
     "metadata": {},
     "output_type": "display_data"
    },
    {
     "data": {
      "application/vnd.jupyter.widget-view+json": {
       "model_id": "0b710933853240a9ac0141e6056a3245",
       "version_major": 2,
       "version_minor": 0
      },
      "text/plain": [
       "epochs:   0%|          | 0/1 [00:00<?, ?it/s]"
      ]
     },
     "metadata": {},
     "output_type": "display_data"
    },
    {
     "name": "stdout",
     "output_type": "stream",
     "text": [
      "<tf.Variable 'Adam_2/learning_rate:0' shape=() dtype=float32>\n",
      "<tf.Variable 'Adam_2/learning_rate:0' shape=() dtype=float32>\n",
      "Original Data Shape (selected):  (1000, 12)\n",
      "Original Data Shape (encoded):  (1000, 12)\n",
      "Original Data Class Distribution:  493  (true) / 507  (false)\n",
      "(600, 12) (600,)\n",
      "(200, 12) (200,)\n",
      "(200, 12) (200,)\n",
      "Min Ratio:  0.4866666666666667\n",
      "Min Ratio:  0.5\n",
      "Min Ratio:  0.495\n",
      "Min Ratio:  0.5\n"
     ]
    },
    {
     "data": {
      "application/vnd.jupyter.widget-view+json": {
       "model_id": "7416883ae4f04c81923c6226d0de345d",
       "version_major": 2,
       "version_minor": 0
      },
      "text/plain": [
       "restarts:   0%|          | 0/1 [00:00<?, ?it/s]"
      ]
     },
     "metadata": {},
     "output_type": "display_data"
    },
    {
     "data": {
      "application/vnd.jupyter.widget-view+json": {
       "model_id": "f2ad43433e61425e984e3979fa4755de",
       "version_major": 2,
       "version_minor": 0
      },
      "text/plain": [
       "epochs:   0%|          | 0/1 [00:00<?, ?it/s]"
      ]
     },
     "metadata": {},
     "output_type": "display_data"
    },
    {
     "name": "stdout",
     "output_type": "stream",
     "text": [
      "<tf.Variable 'Adam_2/learning_rate:0' shape=() dtype=float32>\n",
      "<tf.Variable 'Adam_2/learning_rate:0' shape=() dtype=float32>\n",
      "Original Data Shape (selected):  (1000, 12)\n",
      "Original Data Shape (encoded):  (1000, 12)\n",
      "Original Data Class Distribution:  535  (true) / 465  (false)\n",
      "(600, 12) (600,)\n",
      "(200, 12) (200,)\n",
      "(200, 12) (200,)\n",
      "Min Ratio:  0.49333333333333335\n",
      "Min Ratio:  0.5\n",
      "Min Ratio:  0.4775\n",
      "Min Ratio:  0.5\n"
     ]
    },
    {
     "data": {
      "application/vnd.jupyter.widget-view+json": {
       "model_id": "774809b414594ab8bcae1592ba5cca35",
       "version_major": 2,
       "version_minor": 0
      },
      "text/plain": [
       "restarts:   0%|          | 0/1 [00:00<?, ?it/s]"
      ]
     },
     "metadata": {},
     "output_type": "display_data"
    },
    {
     "data": {
      "application/vnd.jupyter.widget-view+json": {
       "model_id": "cf507661528943299cc0cbea2ca2d5ea",
       "version_major": 2,
       "version_minor": 0
      },
      "text/plain": [
       "epochs:   0%|          | 0/1 [00:00<?, ?it/s]"
      ]
     },
     "metadata": {},
     "output_type": "display_data"
    },
    {
     "name": "stdout",
     "output_type": "stream",
     "text": [
      "<tf.Variable 'Adam_2/learning_rate:0' shape=() dtype=float32>\n",
      "<tf.Variable 'Adam_2/learning_rate:0' shape=() dtype=float32>\n",
      "Original Data Shape (selected):  (1000, 12)\n",
      "Original Data Shape (encoded):  (1000, 12)\n",
      "Original Data Class Distribution:  633  (true) / 367  (false)\n",
      "(600, 12) (600,)\n",
      "(200, 12) (200,)\n",
      "(200, 12) (200,)\n",
      "Min Ratio:  0.36333333333333334\n",
      "Min Ratio:  0.5\n",
      "Min Ratio:  0.36125\n",
      "Min Ratio:  0.5\n"
     ]
    },
    {
     "data": {
      "application/vnd.jupyter.widget-view+json": {
       "model_id": "c26a477e05b94efaa59516cdada3cef5",
       "version_major": 2,
       "version_minor": 0
      },
      "text/plain": [
       "restarts:   0%|          | 0/1 [00:00<?, ?it/s]"
      ]
     },
     "metadata": {},
     "output_type": "display_data"
    },
    {
     "data": {
      "application/vnd.jupyter.widget-view+json": {
       "model_id": "fcad9c0e52504168abfaa267cd9b555d",
       "version_major": 2,
       "version_minor": 0
      },
      "text/plain": [
       "epochs:   0%|          | 0/1 [00:00<?, ?it/s]"
      ]
     },
     "metadata": {},
     "output_type": "display_data"
    },
    {
     "name": "stdout",
     "output_type": "stream",
     "text": [
      "<tf.Variable 'Adam_2/learning_rate:0' shape=() dtype=float32>\n",
      "<tf.Variable 'Adam_2/learning_rate:0' shape=() dtype=float32>\n",
      "Original Data Shape (selected):  (1000, 12)\n",
      "Original Data Shape (encoded):  (1000, 12)\n",
      "Original Data Class Distribution:  576  (true) / 424  (false)\n",
      "(600, 12) (600,)\n",
      "(200, 12) (200,)\n",
      "(200, 12) (200,)\n",
      "Min Ratio:  0.44166666666666665\n",
      "Min Ratio:  0.5\n",
      "Min Ratio:  0.43625\n",
      "Min Ratio:  0.5\n"
     ]
    },
    {
     "data": {
      "application/vnd.jupyter.widget-view+json": {
       "model_id": "dedc600d3a81498b8352cb4b446586c5",
       "version_major": 2,
       "version_minor": 0
      },
      "text/plain": [
       "restarts:   0%|          | 0/1 [00:00<?, ?it/s]"
      ]
     },
     "metadata": {},
     "output_type": "display_data"
    },
    {
     "data": {
      "application/vnd.jupyter.widget-view+json": {
       "model_id": "933a9f417bfa4f3bbb2679d4ec87ba08",
       "version_major": 2,
       "version_minor": 0
      },
      "text/plain": [
       "epochs:   0%|          | 0/1 [00:00<?, ?it/s]"
      ]
     },
     "metadata": {},
     "output_type": "display_data"
    },
    {
     "name": "stdout",
     "output_type": "stream",
     "text": [
      "<tf.Variable 'Adam_2/learning_rate:0' shape=() dtype=float32>\n",
      "<tf.Variable 'Adam_2/learning_rate:0' shape=() dtype=float32>\n",
      "Original Data Shape (selected):  (10000, 30)\n",
      "Original Data Shape (encoded):  (10000, 30)\n",
      "Original Data Class Distribution:  4137  (true) / 5863  (false)\n",
      "(6000, 30) (6000,)\n",
      "(2000, 30) (2000,)\n",
      "(2000, 30) (2000,)\n",
      "Min Ratio:  0.41783333333333333\n",
      "Min Ratio:  0.41475\n"
     ]
    },
    {
     "data": {
      "application/vnd.jupyter.widget-view+json": {
       "model_id": "f1b834b45f194b369af18970473bbc9c",
       "version_major": 2,
       "version_minor": 0
      },
      "text/plain": [
       "restarts:   0%|          | 0/1 [00:00<?, ?it/s]"
      ]
     },
     "metadata": {},
     "output_type": "display_data"
    },
    {
     "data": {
      "application/vnd.jupyter.widget-view+json": {
       "model_id": "f9dc78291e5746bf92fe49f439d658ef",
       "version_major": 2,
       "version_minor": 0
      },
      "text/plain": [
       "epochs:   0%|          | 0/30 [00:00<?, ?it/s]"
      ]
     },
     "metadata": {},
     "output_type": "display_data"
    },
    {
     "name": "stdout",
     "output_type": "stream",
     "text": [
      "<tf.Variable 'Adam_2/learning_rate:0' shape=() dtype=float32>\n",
      "<tf.Variable 'Adam_2/learning_rate:0' shape=() dtype=float32>\n",
      "<tf.Variable 'Adam_2/learning_rate:0' shape=() dtype=float32>\n",
      "Original Data Shape (selected):  (2500, 30)\n",
      "Original Data Shape (encoded):  (2500, 30)\n",
      "Original Data Class Distribution:  1276  (true) / 1224  (false)\n",
      "(1500, 30) (1500,)\n",
      "(500, 30) (500,)\n",
      "(500, 30) (500,)\n",
      "Min Ratio:  0.4866666666666667\n",
      "Min Ratio:  0.491\n"
     ]
    },
    {
     "data": {
      "application/vnd.jupyter.widget-view+json": {
       "model_id": "21a5ce963f9c48d7a3ce13ccce44d571",
       "version_major": 2,
       "version_minor": 0
      },
      "text/plain": [
       "restarts:   0%|          | 0/1 [00:00<?, ?it/s]"
      ]
     },
     "metadata": {},
     "output_type": "display_data"
    },
    {
     "data": {
      "application/vnd.jupyter.widget-view+json": {
       "model_id": "b1dcf7141cbd44d39b5cae9ae2c70dde",
       "version_major": 2,
       "version_minor": 0
      },
      "text/plain": [
       "epochs:   0%|          | 0/1 [00:00<?, ?it/s]"
      ]
     },
     "metadata": {},
     "output_type": "display_data"
    },
    {
     "name": "stdout",
     "output_type": "stream",
     "text": [
      "<tf.Variable 'Adam_2/learning_rate:0' shape=() dtype=float32>\n",
      "<tf.Variable 'Adam_2/learning_rate:0' shape=() dtype=float32>\n",
      "Original Data Shape (selected):  (2500, 30)\n",
      "Original Data Shape (encoded):  (2500, 30)\n",
      "Original Data Class Distribution:  1339  (true) / 1161  (false)\n",
      "(1500, 30) (1500,)\n",
      "(500, 30) (500,)\n",
      "(500, 30) (500,)\n",
      "Min Ratio:  0.458\n",
      "Min Ratio:  0.464\n"
     ]
    },
    {
     "data": {
      "application/vnd.jupyter.widget-view+json": {
       "model_id": "7346933474b84f818e32125967a36bb9",
       "version_major": 2,
       "version_minor": 0
      },
      "text/plain": [
       "restarts:   0%|          | 0/1 [00:00<?, ?it/s]"
      ]
     },
     "metadata": {},
     "output_type": "display_data"
    },
    {
     "data": {
      "application/vnd.jupyter.widget-view+json": {
       "model_id": "1810e9b41f1b45b0954e521cb7550d39",
       "version_major": 2,
       "version_minor": 0
      },
      "text/plain": [
       "epochs:   0%|          | 0/1 [00:00<?, ?it/s]"
      ]
     },
     "metadata": {},
     "output_type": "display_data"
    },
    {
     "name": "stdout",
     "output_type": "stream",
     "text": [
      "<tf.Variable 'Adam_2/learning_rate:0' shape=() dtype=float32>\n",
      "<tf.Variable 'Adam_2/learning_rate:0' shape=() dtype=float32>\n",
      "Original Data Shape (selected):  (2500, 30)\n",
      "Original Data Shape (encoded):  (2500, 30)\n",
      "Original Data Class Distribution:  1239  (true) / 1261  (false)\n",
      "(1500, 30) (1500,)\n",
      "(500, 30) (500,)\n",
      "(500, 30) (500,)\n",
      "Min Ratio:  0.4826666666666667\n",
      "Min Ratio:  0.4905\n"
     ]
    },
    {
     "data": {
      "application/vnd.jupyter.widget-view+json": {
       "model_id": "0763b91feff047bb91db11de2c672c20",
       "version_major": 2,
       "version_minor": 0
      },
      "text/plain": [
       "restarts:   0%|          | 0/1 [00:00<?, ?it/s]"
      ]
     },
     "metadata": {},
     "output_type": "display_data"
    },
    {
     "data": {
      "application/vnd.jupyter.widget-view+json": {
       "model_id": "0ade0df990864c47a941c6c88352a6fa",
       "version_major": 2,
       "version_minor": 0
      },
      "text/plain": [
       "epochs:   0%|          | 0/1 [00:00<?, ?it/s]"
      ]
     },
     "metadata": {},
     "output_type": "display_data"
    },
    {
     "name": "stdout",
     "output_type": "stream",
     "text": [
      "<tf.Variable 'Adam_2/learning_rate:0' shape=() dtype=float32>\n",
      "<tf.Variable 'Adam_2/learning_rate:0' shape=() dtype=float32>\n",
      "Original Data Shape (selected):  (2500, 30)\n",
      "Original Data Shape (encoded):  (2500, 30)\n",
      "Original Data Class Distribution:  480  (true) / 2020  (false)\n",
      "(1500, 30) (1500,)\n",
      "(500, 30) (500,)\n",
      "(500, 30) (500,)\n",
      "Min Ratio:  0.19133333333333333\n",
      "Min Ratio:  0.1895\n"
     ]
    },
    {
     "data": {
      "application/vnd.jupyter.widget-view+json": {
       "model_id": "6b0f12ad7cec4d59a3a91e56f59c3f7b",
       "version_major": 2,
       "version_minor": 0
      },
      "text/plain": [
       "restarts:   0%|          | 0/1 [00:00<?, ?it/s]"
      ]
     },
     "metadata": {},
     "output_type": "display_data"
    },
    {
     "data": {
      "application/vnd.jupyter.widget-view+json": {
       "model_id": "7a5e7a13ca4342ba8b9659fa38b39868",
       "version_major": 2,
       "version_minor": 0
      },
      "text/plain": [
       "epochs:   0%|          | 0/1 [00:00<?, ?it/s]"
      ]
     },
     "metadata": {},
     "output_type": "display_data"
    },
    {
     "name": "stdout",
     "output_type": "stream",
     "text": [
      "<tf.Variable 'Adam_2/learning_rate:0' shape=() dtype=float32>\n",
      "<tf.Variable 'Adam_2/learning_rate:0' shape=() dtype=float32>\n",
      "Original Data Shape (selected):  (2500, 30)\n",
      "Original Data Shape (encoded):  (2500, 30)\n",
      "Original Data Class Distribution:  675  (true) / 1825  (false)\n",
      "(1500, 30) (1500,)\n",
      "(500, 30) (500,)\n",
      "(500, 30) (500,)\n",
      "Min Ratio:  0.26266666666666666\n",
      "Min Ratio:  0.2705\n"
     ]
    },
    {
     "data": {
      "application/vnd.jupyter.widget-view+json": {
       "model_id": "ce2e4df452a845c28ccf47af379127ad",
       "version_major": 2,
       "version_minor": 0
      },
      "text/plain": [
       "restarts:   0%|          | 0/1 [00:00<?, ?it/s]"
      ]
     },
     "metadata": {},
     "output_type": "display_data"
    },
    {
     "data": {
      "application/vnd.jupyter.widget-view+json": {
       "model_id": "07517225fe0541999f6ce20919bef8af",
       "version_major": 2,
       "version_minor": 0
      },
      "text/plain": [
       "epochs:   0%|          | 0/1 [00:00<?, ?it/s]"
      ]
     },
     "metadata": {},
     "output_type": "display_data"
    },
    {
     "name": "stdout",
     "output_type": "stream",
     "text": [
      "<tf.Variable 'Adam_2/learning_rate:0' shape=() dtype=float32>\n",
      "<tf.Variable 'Adam_2/learning_rate:0' shape=() dtype=float32>\n",
      "Original Data Shape (selected):  (2500, 30)\n",
      "Original Data Shape (encoded):  (2500, 30)\n",
      "Original Data Class Distribution:  746  (true) / 1754  (false)\n",
      "(1500, 30) (1500,)\n",
      "(500, 30) (500,)\n",
      "(500, 30) (500,)\n",
      "Min Ratio:  0.2946666666666667\n",
      "Min Ratio:  0.2935\n"
     ]
    },
    {
     "data": {
      "application/vnd.jupyter.widget-view+json": {
       "model_id": "89e107077da346839db34df7d9b4d669",
       "version_major": 2,
       "version_minor": 0
      },
      "text/plain": [
       "restarts:   0%|          | 0/1 [00:00<?, ?it/s]"
      ]
     },
     "metadata": {},
     "output_type": "display_data"
    },
    {
     "data": {
      "application/vnd.jupyter.widget-view+json": {
       "model_id": "7f45b717a3e046a1b3ca330414855a5c",
       "version_major": 2,
       "version_minor": 0
      },
      "text/plain": [
       "epochs:   0%|          | 0/1 [00:00<?, ?it/s]"
      ]
     },
     "metadata": {},
     "output_type": "display_data"
    },
    {
     "name": "stdout",
     "output_type": "stream",
     "text": [
      "<tf.Variable 'Adam_2/learning_rate:0' shape=() dtype=float32>\n",
      "<tf.Variable 'Adam_2/learning_rate:0' shape=() dtype=float32>\n",
      "Original Data Shape (selected):  (2500, 30)\n",
      "Original Data Shape (encoded):  (2500, 30)\n",
      "Original Data Class Distribution:  843  (true) / 1657  (false)\n",
      "(1500, 30) (1500,)\n",
      "(500, 30) (500,)\n",
      "(500, 30) (500,)\n",
      "Min Ratio:  0.32866666666666666\n",
      "Min Ratio:  0.3345\n"
     ]
    },
    {
     "data": {
      "application/vnd.jupyter.widget-view+json": {
       "model_id": "d453f4181fa0478cae9d0c6c5f9d4d39",
       "version_major": 2,
       "version_minor": 0
      },
      "text/plain": [
       "restarts:   0%|          | 0/1 [00:00<?, ?it/s]"
      ]
     },
     "metadata": {},
     "output_type": "display_data"
    },
    {
     "data": {
      "application/vnd.jupyter.widget-view+json": {
       "model_id": "9a67ccc1b3ff4c3290fad02f51abb2c7",
       "version_major": 2,
       "version_minor": 0
      },
      "text/plain": [
       "epochs:   0%|          | 0/1 [00:00<?, ?it/s]"
      ]
     },
     "metadata": {},
     "output_type": "display_data"
    },
    {
     "name": "stdout",
     "output_type": "stream",
     "text": [
      "<tf.Variable 'Adam_2/learning_rate:0' shape=() dtype=float32>\n",
      "<tf.Variable 'Adam_2/learning_rate:0' shape=() dtype=float32>\n",
      "Original Data Shape (selected):  (2500, 30)\n",
      "Original Data Shape (encoded):  (2500, 30)\n",
      "Original Data Class Distribution:  872  (true) / 1628  (false)\n",
      "(1500, 30) (1500,)\n",
      "(500, 30) (500,)\n",
      "(500, 30) (500,)\n",
      "Min Ratio:  0.342\n",
      "Min Ratio:  0.349\n"
     ]
    },
    {
     "data": {
      "application/vnd.jupyter.widget-view+json": {
       "model_id": "4ad11aad255344e1a85f64816b4fe89b",
       "version_major": 2,
       "version_minor": 0
      },
      "text/plain": [
       "restarts:   0%|          | 0/1 [00:00<?, ?it/s]"
      ]
     },
     "metadata": {},
     "output_type": "display_data"
    },
    {
     "data": {
      "application/vnd.jupyter.widget-view+json": {
       "model_id": "9d3c10b2be1044a39cb9f6fbb5a789e9",
       "version_major": 2,
       "version_minor": 0
      },
      "text/plain": [
       "epochs:   0%|          | 0/1 [00:00<?, ?it/s]"
      ]
     },
     "metadata": {},
     "output_type": "display_data"
    },
    {
     "name": "stdout",
     "output_type": "stream",
     "text": [
      "<tf.Variable 'Adam_2/learning_rate:0' shape=() dtype=float32>\n",
      "<tf.Variable 'Adam_2/learning_rate:0' shape=() dtype=float32>\n",
      "Original Data Shape (selected):  (2500, 30)\n",
      "Original Data Shape (encoded):  (2500, 30)\n",
      "Original Data Class Distribution:  957  (true) / 1543  (false)\n",
      "(1500, 30) (1500,)\n",
      "(500, 30) (500,)\n",
      "(500, 30) (500,)\n",
      "Min Ratio:  0.394\n",
      "Min Ratio:  0.3825\n"
     ]
    },
    {
     "data": {
      "application/vnd.jupyter.widget-view+json": {
       "model_id": "48600d1668e24f4d94cfa7b93f1c144c",
       "version_major": 2,
       "version_minor": 0
      },
      "text/plain": [
       "restarts:   0%|          | 0/1 [00:00<?, ?it/s]"
      ]
     },
     "metadata": {},
     "output_type": "display_data"
    },
    {
     "data": {
      "application/vnd.jupyter.widget-view+json": {
       "model_id": "ccaa152f15f24a4aac80da6536ab04f4",
       "version_major": 2,
       "version_minor": 0
      },
      "text/plain": [
       "epochs:   0%|          | 0/1 [00:00<?, ?it/s]"
      ]
     },
     "metadata": {},
     "output_type": "display_data"
    },
    {
     "name": "stdout",
     "output_type": "stream",
     "text": [
      "<tf.Variable 'Adam_2/learning_rate:0' shape=() dtype=float32>\n",
      "<tf.Variable 'Adam_2/learning_rate:0' shape=() dtype=float32>\n",
      "Original Data Shape (selected):  (2500, 30)\n",
      "Original Data Shape (encoded):  (2500, 30)\n",
      "Original Data Class Distribution:  886  (true) / 1614  (false)\n",
      "(1500, 30) (1500,)\n",
      "(500, 30) (500,)\n",
      "(500, 30) (500,)\n",
      "Min Ratio:  0.3486666666666667\n",
      "Min Ratio:  0.3515\n"
     ]
    },
    {
     "data": {
      "application/vnd.jupyter.widget-view+json": {
       "model_id": "7b541a21425c4569b4b760e29881895b",
       "version_major": 2,
       "version_minor": 0
      },
      "text/plain": [
       "restarts:   0%|          | 0/1 [00:00<?, ?it/s]"
      ]
     },
     "metadata": {},
     "output_type": "display_data"
    },
    {
     "data": {
      "application/vnd.jupyter.widget-view+json": {
       "model_id": "e259943c677e4b0fb59c37825129c8c8",
       "version_major": 2,
       "version_minor": 0
      },
      "text/plain": [
       "epochs:   0%|          | 0/1 [00:00<?, ?it/s]"
      ]
     },
     "metadata": {},
     "output_type": "display_data"
    },
    {
     "name": "stdout",
     "output_type": "stream",
     "text": [
      "<tf.Variable 'Adam_2/learning_rate:0' shape=() dtype=float32>\n",
      "<tf.Variable 'Adam_2/learning_rate:0' shape=() dtype=float32>\n",
      "Original Data Shape (selected):  (2500, 30)\n",
      "Original Data Shape (encoded):  (2500, 30)\n",
      "Original Data Class Distribution:  463  (true) / 2037  (false)\n",
      "(1500, 30) (1500,)\n",
      "(500, 30) (500,)\n",
      "(500, 30) (500,)\n",
      "Min Ratio:  0.174\n",
      "Min Ratio:  0.179\n"
     ]
    },
    {
     "data": {
      "application/vnd.jupyter.widget-view+json": {
       "model_id": "07c3b2e926924c02add830ee6c924044",
       "version_major": 2,
       "version_minor": 0
      },
      "text/plain": [
       "restarts:   0%|          | 0/1 [00:00<?, ?it/s]"
      ]
     },
     "metadata": {},
     "output_type": "display_data"
    },
    {
     "data": {
      "application/vnd.jupyter.widget-view+json": {
       "model_id": "c7240a9605654c3d8120fc87df6b1fa2",
       "version_major": 2,
       "version_minor": 0
      },
      "text/plain": [
       "epochs:   0%|          | 0/1 [00:00<?, ?it/s]"
      ]
     },
     "metadata": {},
     "output_type": "display_data"
    },
    {
     "name": "stdout",
     "output_type": "stream",
     "text": [
      "<tf.Variable 'Adam_2/learning_rate:0' shape=() dtype=float32>\n",
      "<tf.Variable 'Adam_2/learning_rate:0' shape=() dtype=float32>\n",
      "Original Data Shape (selected):  (2500, 30)\n",
      "Original Data Shape (encoded):  (2500, 30)\n",
      "Original Data Class Distribution:  539  (true) / 1961  (false)\n",
      "(1500, 30) (1500,)\n",
      "(500, 30) (500,)\n",
      "(500, 30) (500,)\n",
      "Min Ratio:  0.21333333333333335\n",
      "Min Ratio:  0.2125\n"
     ]
    },
    {
     "data": {
      "application/vnd.jupyter.widget-view+json": {
       "model_id": "23e8fa8922f54bdfbb68a4b47b7e14e7",
       "version_major": 2,
       "version_minor": 0
      },
      "text/plain": [
       "restarts:   0%|          | 0/1 [00:00<?, ?it/s]"
      ]
     },
     "metadata": {},
     "output_type": "display_data"
    },
    {
     "data": {
      "application/vnd.jupyter.widget-view+json": {
       "model_id": "b8c17cb4f1df4aca95bf3158251c0a9c",
       "version_major": 2,
       "version_minor": 0
      },
      "text/plain": [
       "epochs:   0%|          | 0/1 [00:00<?, ?it/s]"
      ]
     },
     "metadata": {},
     "output_type": "display_data"
    },
    {
     "name": "stdout",
     "output_type": "stream",
     "text": [
      "<tf.Variable 'Adam_2/learning_rate:0' shape=() dtype=float32>\n",
      "<tf.Variable 'Adam_2/learning_rate:0' shape=() dtype=float32>\n",
      "Original Data Shape (selected):  (2500, 30)\n",
      "Original Data Shape (encoded):  (2500, 30)\n",
      "Original Data Class Distribution:  692  (true) / 1808  (false)\n",
      "(1500, 30) (1500,)\n",
      "(500, 30) (500,)\n",
      "(500, 30) (500,)\n",
      "Min Ratio:  0.286\n",
      "Min Ratio:  0.276\n"
     ]
    },
    {
     "data": {
      "application/vnd.jupyter.widget-view+json": {
       "model_id": "fea99d58140e4b1d8058158dfeaf51ec",
       "version_major": 2,
       "version_minor": 0
      },
      "text/plain": [
       "restarts:   0%|          | 0/1 [00:00<?, ?it/s]"
      ]
     },
     "metadata": {},
     "output_type": "display_data"
    },
    {
     "data": {
      "application/vnd.jupyter.widget-view+json": {
       "model_id": "2671d0133efc4ef68dc30d134dc2e3d7",
       "version_major": 2,
       "version_minor": 0
      },
      "text/plain": [
       "epochs:   0%|          | 0/1 [00:00<?, ?it/s]"
      ]
     },
     "metadata": {},
     "output_type": "display_data"
    },
    {
     "name": "stdout",
     "output_type": "stream",
     "text": [
      "<tf.Variable 'Adam_2/learning_rate:0' shape=() dtype=float32>\n",
      "<tf.Variable 'Adam_2/learning_rate:0' shape=() dtype=float32>\n",
      "Original Data Shape (selected):  (2500, 30)\n",
      "Original Data Shape (encoded):  (2500, 30)\n",
      "Original Data Class Distribution:  788  (true) / 1712  (false)\n",
      "(1500, 30) (1500,)\n",
      "(500, 30) (500,)\n",
      "(500, 30) (500,)\n",
      "Min Ratio:  0.314\n",
      "Min Ratio:  0.306\n"
     ]
    },
    {
     "data": {
      "application/vnd.jupyter.widget-view+json": {
       "model_id": "430c35aa92bc4668b92a140f8b7227ec",
       "version_major": 2,
       "version_minor": 0
      },
      "text/plain": [
       "restarts:   0%|          | 0/1 [00:00<?, ?it/s]"
      ]
     },
     "metadata": {},
     "output_type": "display_data"
    },
    {
     "data": {
      "application/vnd.jupyter.widget-view+json": {
       "model_id": "7a435f4761c14ef6882ad5dd0f03695c",
       "version_major": 2,
       "version_minor": 0
      },
      "text/plain": [
       "epochs:   0%|          | 0/1 [00:00<?, ?it/s]"
      ]
     },
     "metadata": {},
     "output_type": "display_data"
    },
    {
     "name": "stdout",
     "output_type": "stream",
     "text": [
      "<tf.Variable 'Adam_2/learning_rate:0' shape=() dtype=float32>\n",
      "<tf.Variable 'Adam_2/learning_rate:0' shape=() dtype=float32>\n",
      "Original Data Shape (selected):  (2500, 30)\n",
      "Original Data Shape (encoded):  (2500, 30)\n",
      "Original Data Class Distribution:  874  (true) / 1626  (false)\n",
      "(1500, 30) (1500,)\n",
      "(500, 30) (500,)\n",
      "(500, 30) (500,)\n",
      "Min Ratio:  0.3473333333333333\n",
      "Min Ratio:  0.3585\n"
     ]
    },
    {
     "data": {
      "application/vnd.jupyter.widget-view+json": {
       "model_id": "08251e1b5b3944b19d50789a7d39a70b",
       "version_major": 2,
       "version_minor": 0
      },
      "text/plain": [
       "restarts:   0%|          | 0/1 [00:00<?, ?it/s]"
      ]
     },
     "metadata": {},
     "output_type": "display_data"
    },
    {
     "data": {
      "application/vnd.jupyter.widget-view+json": {
       "model_id": "80cbd6e97664418d94abcf0fde61edcb",
       "version_major": 2,
       "version_minor": 0
      },
      "text/plain": [
       "epochs:   0%|          | 0/1 [00:00<?, ?it/s]"
      ]
     },
     "metadata": {},
     "output_type": "display_data"
    },
    {
     "name": "stdout",
     "output_type": "stream",
     "text": [
      "<tf.Variable 'Adam_2/learning_rate:0' shape=() dtype=float32>\n",
      "<tf.Variable 'Adam_2/learning_rate:0' shape=() dtype=float32>\n",
      "Original Data Shape (selected):  (2500, 30)\n",
      "Original Data Shape (encoded):  (2500, 30)\n",
      "Original Data Class Distribution:  928  (true) / 1572  (false)\n",
      "(1500, 30) (1500,)\n",
      "(500, 30) (500,)\n",
      "(500, 30) (500,)\n",
      "Min Ratio:  0.37266666666666665\n",
      "Min Ratio:  0.3765\n"
     ]
    },
    {
     "data": {
      "application/vnd.jupyter.widget-view+json": {
       "model_id": "f8e69f4c926b4cc9a5d4814961932338",
       "version_major": 2,
       "version_minor": 0
      },
      "text/plain": [
       "restarts:   0%|          | 0/1 [00:00<?, ?it/s]"
      ]
     },
     "metadata": {},
     "output_type": "display_data"
    },
    {
     "data": {
      "application/vnd.jupyter.widget-view+json": {
       "model_id": "397ff6f73fdb458196cdcc6a2a7010db",
       "version_major": 2,
       "version_minor": 0
      },
      "text/plain": [
       "epochs:   0%|          | 0/1 [00:00<?, ?it/s]"
      ]
     },
     "metadata": {},
     "output_type": "display_data"
    },
    {
     "name": "stdout",
     "output_type": "stream",
     "text": [
      "<tf.Variable 'Adam_2/learning_rate:0' shape=() dtype=float32>\n",
      "<tf.Variable 'Adam_2/learning_rate:0' shape=() dtype=float32>\n",
      "Original Data Shape (selected):  (2500, 30)\n",
      "Original Data Shape (encoded):  (2500, 30)\n",
      "Original Data Class Distribution:  912  (true) / 1588  (false)\n",
      "(1500, 30) (1500,)\n",
      "(500, 30) (500,)\n",
      "(500, 30) (500,)\n",
      "Min Ratio:  0.35933333333333334\n",
      "Min Ratio:  0.368\n"
     ]
    },
    {
     "data": {
      "application/vnd.jupyter.widget-view+json": {
       "model_id": "30befa6bef8e4a909580c9ba08160d4c",
       "version_major": 2,
       "version_minor": 0
      },
      "text/plain": [
       "restarts:   0%|          | 0/1 [00:00<?, ?it/s]"
      ]
     },
     "metadata": {},
     "output_type": "display_data"
    },
    {
     "data": {
      "application/vnd.jupyter.widget-view+json": {
       "model_id": "60eee3baaa944eca97ee4fa8c15c8200",
       "version_major": 2,
       "version_minor": 0
      },
      "text/plain": [
       "epochs:   0%|          | 0/1 [00:00<?, ?it/s]"
      ]
     },
     "metadata": {},
     "output_type": "display_data"
    },
    {
     "name": "stdout",
     "output_type": "stream",
     "text": [
      "<tf.Variable 'Adam_2/learning_rate:0' shape=() dtype=float32>\n",
      "<tf.Variable 'Adam_2/learning_rate:0' shape=() dtype=float32>\n",
      "Original Data Shape (selected):  (2500, 30)\n",
      "Original Data Shape (encoded):  (2500, 30)\n",
      "Original Data Class Distribution:  639  (true) / 1861  (false)\n",
      "(1500, 30) (1500,)\n",
      "(500, 30) (500,)\n",
      "(500, 30) (500,)\n",
      "Min Ratio:  0.25066666666666665\n",
      "Min Ratio:  0.257\n"
     ]
    },
    {
     "data": {
      "application/vnd.jupyter.widget-view+json": {
       "model_id": "5c6d7888717849d48437ea04985355da",
       "version_major": 2,
       "version_minor": 0
      },
      "text/plain": [
       "restarts:   0%|          | 0/1 [00:00<?, ?it/s]"
      ]
     },
     "metadata": {},
     "output_type": "display_data"
    },
    {
     "data": {
      "application/vnd.jupyter.widget-view+json": {
       "model_id": "25cb236b4e10431c8aaace83de80d2db",
       "version_major": 2,
       "version_minor": 0
      },
      "text/plain": [
       "epochs:   0%|          | 0/1 [00:00<?, ?it/s]"
      ]
     },
     "metadata": {},
     "output_type": "display_data"
    },
    {
     "name": "stdout",
     "output_type": "stream",
     "text": [
      "<tf.Variable 'Adam_2/learning_rate:0' shape=() dtype=float32>\n",
      "<tf.Variable 'Adam_2/learning_rate:0' shape=() dtype=float32>\n",
      "Original Data Shape (selected):  (2500, 30)\n",
      "Original Data Shape (encoded):  (2500, 30)\n",
      "Original Data Class Distribution:  562  (true) / 1938  (false)\n",
      "(1500, 30) (1500,)\n",
      "(500, 30) (500,)\n",
      "(500, 30) (500,)\n",
      "Min Ratio:  0.22933333333333333\n",
      "Min Ratio:  0.2265\n"
     ]
    },
    {
     "data": {
      "application/vnd.jupyter.widget-view+json": {
       "model_id": "6a399847603f41b9b5ad5505f72c0166",
       "version_major": 2,
       "version_minor": 0
      },
      "text/plain": [
       "restarts:   0%|          | 0/1 [00:00<?, ?it/s]"
      ]
     },
     "metadata": {},
     "output_type": "display_data"
    },
    {
     "data": {
      "application/vnd.jupyter.widget-view+json": {
       "model_id": "c153cd4a1fad44e0a114a5752587ec57",
       "version_major": 2,
       "version_minor": 0
      },
      "text/plain": [
       "epochs:   0%|          | 0/1 [00:00<?, ?it/s]"
      ]
     },
     "metadata": {},
     "output_type": "display_data"
    },
    {
     "name": "stdout",
     "output_type": "stream",
     "text": [
      "<tf.Variable 'Adam_2/learning_rate:0' shape=() dtype=float32>\n",
      "<tf.Variable 'Adam_2/learning_rate:0' shape=() dtype=float32>\n",
      "Original Data Shape (selected):  (2500, 30)\n",
      "Original Data Shape (encoded):  (2500, 30)\n",
      "Original Data Class Distribution:  807  (true) / 1693  (false)\n",
      "(1500, 30) (1500,)\n",
      "(500, 30) (500,)\n",
      "(500, 30) (500,)\n",
      "Min Ratio:  0.3253333333333333\n",
      "Min Ratio:  0.327\n"
     ]
    },
    {
     "data": {
      "application/vnd.jupyter.widget-view+json": {
       "model_id": "2e013f94ae9f4dd5a24304a0a97713ba",
       "version_major": 2,
       "version_minor": 0
      },
      "text/plain": [
       "restarts:   0%|          | 0/1 [00:00<?, ?it/s]"
      ]
     },
     "metadata": {},
     "output_type": "display_data"
    },
    {
     "data": {
      "application/vnd.jupyter.widget-view+json": {
       "model_id": "0a0f089fcaa04550bd980ece8a9dbb13",
       "version_major": 2,
       "version_minor": 0
      },
      "text/plain": [
       "epochs:   0%|          | 0/1 [00:00<?, ?it/s]"
      ]
     },
     "metadata": {},
     "output_type": "display_data"
    },
    {
     "name": "stdout",
     "output_type": "stream",
     "text": [
      "<tf.Variable 'Adam_2/learning_rate:0' shape=() dtype=float32>\n",
      "<tf.Variable 'Adam_2/learning_rate:0' shape=() dtype=float32>\n",
      "Original Data Shape (selected):  (2500, 30)\n",
      "Original Data Shape (encoded):  (2500, 30)\n",
      "Original Data Class Distribution:  946  (true) / 1554  (false)\n",
      "(1500, 30) (1500,)\n",
      "(500, 30) (500,)\n",
      "(500, 30) (500,)\n",
      "Min Ratio:  0.38\n",
      "Min Ratio:  0.3795\n"
     ]
    },
    {
     "data": {
      "application/vnd.jupyter.widget-view+json": {
       "model_id": "a0e7229cdd5a475686fd2045dc078596",
       "version_major": 2,
       "version_minor": 0
      },
      "text/plain": [
       "restarts:   0%|          | 0/1 [00:00<?, ?it/s]"
      ]
     },
     "metadata": {},
     "output_type": "display_data"
    },
    {
     "data": {
      "application/vnd.jupyter.widget-view+json": {
       "model_id": "aff81d399f754ef8a50859abd6e4e9fd",
       "version_major": 2,
       "version_minor": 0
      },
      "text/plain": [
       "epochs:   0%|          | 0/1 [00:00<?, ?it/s]"
      ]
     },
     "metadata": {},
     "output_type": "display_data"
    },
    {
     "name": "stdout",
     "output_type": "stream",
     "text": [
      "<tf.Variable 'Adam_2/learning_rate:0' shape=() dtype=float32>\n",
      "<tf.Variable 'Adam_2/learning_rate:0' shape=() dtype=float32>\n",
      "Original Data Shape (selected):  (2500, 30)\n",
      "Original Data Shape (encoded):  (2500, 30)\n",
      "Original Data Class Distribution:  940  (true) / 1560  (false)\n",
      "(1500, 30) (1500,)\n",
      "(500, 30) (500,)\n",
      "(500, 30) (500,)\n",
      "Min Ratio:  0.37933333333333336\n",
      "Min Ratio:  0.384\n"
     ]
    },
    {
     "data": {
      "application/vnd.jupyter.widget-view+json": {
       "model_id": "7322d2091d174551b6156c1a15790287",
       "version_major": 2,
       "version_minor": 0
      },
      "text/plain": [
       "restarts:   0%|          | 0/1 [00:00<?, ?it/s]"
      ]
     },
     "metadata": {},
     "output_type": "display_data"
    },
    {
     "data": {
      "application/vnd.jupyter.widget-view+json": {
       "model_id": "e3190968d02c4a9fb5a8a8cc187f2e00",
       "version_major": 2,
       "version_minor": 0
      },
      "text/plain": [
       "epochs:   0%|          | 0/1 [00:00<?, ?it/s]"
      ]
     },
     "metadata": {},
     "output_type": "display_data"
    },
    {
     "name": "stdout",
     "output_type": "stream",
     "text": [
      "<tf.Variable 'Adam_2/learning_rate:0' shape=() dtype=float32>\n",
      "<tf.Variable 'Adam_2/learning_rate:0' shape=() dtype=float32>\n",
      "Original Data Shape (selected):  (2500, 30)\n",
      "Original Data Shape (encoded):  (2500, 30)\n",
      "Original Data Class Distribution:  961  (true) / 1539  (false)\n",
      "(1500, 30) (1500,)\n",
      "(500, 30) (500,)\n",
      "(500, 30) (500,)\n",
      "Min Ratio:  0.36933333333333335\n",
      "Min Ratio:  0.3725\n"
     ]
    },
    {
     "data": {
      "application/vnd.jupyter.widget-view+json": {
       "model_id": "0c340ba775e2408fb5fd33ef48763879",
       "version_major": 2,
       "version_minor": 0
      },
      "text/plain": [
       "restarts:   0%|          | 0/1 [00:00<?, ?it/s]"
      ]
     },
     "metadata": {},
     "output_type": "display_data"
    },
    {
     "data": {
      "application/vnd.jupyter.widget-view+json": {
       "model_id": "aef5bb7098fe46d78d86c978c03c4abd",
       "version_major": 2,
       "version_minor": 0
      },
      "text/plain": [
       "epochs:   0%|          | 0/1 [00:00<?, ?it/s]"
      ]
     },
     "metadata": {},
     "output_type": "display_data"
    },
    {
     "name": "stdout",
     "output_type": "stream",
     "text": [
      "<tf.Variable 'Adam_2/learning_rate:0' shape=() dtype=float32>\n",
      "<tf.Variable 'Adam_2/learning_rate:0' shape=() dtype=float32>\n",
      "Original Data Shape (selected):  (2500, 30)\n",
      "Original Data Shape (encoded):  (2500, 30)\n",
      "Original Data Class Distribution:  458  (true) / 2042  (false)\n",
      "(1500, 30) (1500,)\n",
      "(500, 30) (500,)\n",
      "(500, 30) (500,)\n",
      "Min Ratio:  0.19266666666666668\n",
      "Min Ratio:  0.1875\n"
     ]
    },
    {
     "data": {
      "application/vnd.jupyter.widget-view+json": {
       "model_id": "4359cfd93e9d46a880144109ddabc4d9",
       "version_major": 2,
       "version_minor": 0
      },
      "text/plain": [
       "restarts:   0%|          | 0/1 [00:00<?, ?it/s]"
      ]
     },
     "metadata": {},
     "output_type": "display_data"
    },
    {
     "data": {
      "application/vnd.jupyter.widget-view+json": {
       "model_id": "8c881a996b964ab1b8b57fbf852eebc1",
       "version_major": 2,
       "version_minor": 0
      },
      "text/plain": [
       "epochs:   0%|          | 0/1 [00:00<?, ?it/s]"
      ]
     },
     "metadata": {},
     "output_type": "display_data"
    },
    {
     "name": "stdout",
     "output_type": "stream",
     "text": [
      "<tf.Variable 'Adam_2/learning_rate:0' shape=() dtype=float32>\n",
      "<tf.Variable 'Adam_2/learning_rate:0' shape=() dtype=float32>\n",
      "Original Data Shape (selected):  (2500, 30)\n",
      "Original Data Shape (encoded):  (2500, 30)\n",
      "Original Data Class Distribution:  607  (true) / 1893  (false)\n",
      "(1500, 30) (1500,)\n",
      "(500, 30) (500,)\n",
      "(500, 30) (500,)\n",
      "Min Ratio:  0.24066666666666667\n",
      "Min Ratio:  0.238\n"
     ]
    },
    {
     "data": {
      "application/vnd.jupyter.widget-view+json": {
       "model_id": "de27f9004cff4742b1d8ca86cda0f46f",
       "version_major": 2,
       "version_minor": 0
      },
      "text/plain": [
       "restarts:   0%|          | 0/1 [00:00<?, ?it/s]"
      ]
     },
     "metadata": {},
     "output_type": "display_data"
    },
    {
     "data": {
      "application/vnd.jupyter.widget-view+json": {
       "model_id": "50072313c5e04bc9a297821889a1c45a",
       "version_major": 2,
       "version_minor": 0
      },
      "text/plain": [
       "epochs:   0%|          | 0/1 [00:00<?, ?it/s]"
      ]
     },
     "metadata": {},
     "output_type": "display_data"
    },
    {
     "name": "stdout",
     "output_type": "stream",
     "text": [
      "<tf.Variable 'Adam_2/learning_rate:0' shape=() dtype=float32>\n",
      "<tf.Variable 'Adam_2/learning_rate:0' shape=() dtype=float32>\n",
      "Original Data Shape (selected):  (2500, 30)\n",
      "Original Data Shape (encoded):  (2500, 30)\n",
      "Original Data Class Distribution:  852  (true) / 1648  (false)\n",
      "(1500, 30) (1500,)\n",
      "(500, 30) (500,)\n",
      "(500, 30) (500,)\n",
      "Min Ratio:  0.3486666666666667\n",
      "Min Ratio:  0.341\n"
     ]
    },
    {
     "data": {
      "application/vnd.jupyter.widget-view+json": {
       "model_id": "e33102edc1f84d1c921f376546c4151f",
       "version_major": 2,
       "version_minor": 0
      },
      "text/plain": [
       "restarts:   0%|          | 0/1 [00:00<?, ?it/s]"
      ]
     },
     "metadata": {},
     "output_type": "display_data"
    },
    {
     "data": {
      "application/vnd.jupyter.widget-view+json": {
       "model_id": "22c2af717667456c9918001eb982dfdc",
       "version_major": 2,
       "version_minor": 0
      },
      "text/plain": [
       "epochs:   0%|          | 0/1 [00:00<?, ?it/s]"
      ]
     },
     "metadata": {},
     "output_type": "display_data"
    },
    {
     "name": "stdout",
     "output_type": "stream",
     "text": [
      "<tf.Variable 'Adam_2/learning_rate:0' shape=() dtype=float32>\n",
      "<tf.Variable 'Adam_2/learning_rate:0' shape=() dtype=float32>\n",
      "Original Data Shape (selected):  (2500, 30)\n",
      "Original Data Shape (encoded):  (2500, 30)\n",
      "Original Data Class Distribution:  1065  (true) / 1435  (false)\n",
      "(1500, 30) (1500,)\n",
      "(500, 30) (500,)\n",
      "(500, 30) (500,)\n",
      "Min Ratio:  0.43733333333333335\n",
      "Min Ratio:  0.4365\n"
     ]
    },
    {
     "data": {
      "application/vnd.jupyter.widget-view+json": {
       "model_id": "59bb372e2aef442aa15a82bf0db291b1",
       "version_major": 2,
       "version_minor": 0
      },
      "text/plain": [
       "restarts:   0%|          | 0/1 [00:00<?, ?it/s]"
      ]
     },
     "metadata": {},
     "output_type": "display_data"
    },
    {
     "data": {
      "application/vnd.jupyter.widget-view+json": {
       "model_id": "f73808b427184bf1b9fb5c61c190823b",
       "version_major": 2,
       "version_minor": 0
      },
      "text/plain": [
       "epochs:   0%|          | 0/1 [00:00<?, ?it/s]"
      ]
     },
     "metadata": {},
     "output_type": "display_data"
    },
    {
     "name": "stdout",
     "output_type": "stream",
     "text": [
      "<tf.Variable 'Adam_2/learning_rate:0' shape=() dtype=float32>\n",
      "<tf.Variable 'Adam_2/learning_rate:0' shape=() dtype=float32>\n",
      "Original Data Shape (selected):  (2500, 30)\n",
      "Original Data Shape (encoded):  (2500, 30)\n",
      "Original Data Class Distribution:  1130  (true) / 1370  (false)\n",
      "(1500, 30) (1500,)\n",
      "(500, 30) (500,)\n",
      "(500, 30) (500,)\n",
      "Min Ratio:  0.44866666666666666\n",
      "Min Ratio:  0.452\n"
     ]
    },
    {
     "data": {
      "application/vnd.jupyter.widget-view+json": {
       "model_id": "e156e1725bc84a5fadf0b17de2a5cb6e",
       "version_major": 2,
       "version_minor": 0
      },
      "text/plain": [
       "restarts:   0%|          | 0/1 [00:00<?, ?it/s]"
      ]
     },
     "metadata": {},
     "output_type": "display_data"
    },
    {
     "data": {
      "application/vnd.jupyter.widget-view+json": {
       "model_id": "641a9aed4c5447d6bf39f0b038a7cbf1",
       "version_major": 2,
       "version_minor": 0
      },
      "text/plain": [
       "epochs:   0%|          | 0/1 [00:00<?, ?it/s]"
      ]
     },
     "metadata": {},
     "output_type": "display_data"
    },
    {
     "name": "stdout",
     "output_type": "stream",
     "text": [
      "<tf.Variable 'Adam_2/learning_rate:0' shape=() dtype=float32>\n",
      "<tf.Variable 'Adam_2/learning_rate:0' shape=() dtype=float32>\n",
      "Original Data Shape (selected):  (2500, 30)\n",
      "Original Data Shape (encoded):  (2500, 30)\n",
      "Original Data Class Distribution:  1207  (true) / 1293  (false)\n",
      "(1500, 30) (1500,)\n",
      "(500, 30) (500,)\n",
      "(500, 30) (500,)\n",
      "Min Ratio:  0.484\n",
      "Min Ratio:  0.4835\n"
     ]
    },
    {
     "data": {
      "application/vnd.jupyter.widget-view+json": {
       "model_id": "770e9390b1444e4582b897dcc2c50305",
       "version_major": 2,
       "version_minor": 0
      },
      "text/plain": [
       "restarts:   0%|          | 0/1 [00:00<?, ?it/s]"
      ]
     },
     "metadata": {},
     "output_type": "display_data"
    },
    {
     "data": {
      "application/vnd.jupyter.widget-view+json": {
       "model_id": "a27ec21680a748599e345f7a193dbbd4",
       "version_major": 2,
       "version_minor": 0
      },
      "text/plain": [
       "epochs:   0%|          | 0/1 [00:00<?, ?it/s]"
      ]
     },
     "metadata": {},
     "output_type": "display_data"
    },
    {
     "name": "stdout",
     "output_type": "stream",
     "text": [
      "<tf.Variable 'Adam_2/learning_rate:0' shape=() dtype=float32>\n",
      "<tf.Variable 'Adam_2/learning_rate:0' shape=() dtype=float32>\n",
      "Original Data Shape (selected):  (2500, 30)\n",
      "Original Data Shape (encoded):  (2500, 30)\n",
      "Original Data Class Distribution:  1197  (true) / 1303  (false)\n",
      "(1500, 30) (1500,)\n",
      "(500, 30) (500,)\n",
      "(500, 30) (500,)\n",
      "Min Ratio:  0.48933333333333334\n",
      "Min Ratio:  0.483\n"
     ]
    },
    {
     "data": {
      "application/vnd.jupyter.widget-view+json": {
       "model_id": "08dd6e42f28642f1a41967401b2a0b0d",
       "version_major": 2,
       "version_minor": 0
      },
      "text/plain": [
       "restarts:   0%|          | 0/1 [00:00<?, ?it/s]"
      ]
     },
     "metadata": {},
     "output_type": "display_data"
    },
    {
     "data": {
      "application/vnd.jupyter.widget-view+json": {
       "model_id": "2000b968b1724e40b033e8d67c2fc92f",
       "version_major": 2,
       "version_minor": 0
      },
      "text/plain": [
       "epochs:   0%|          | 0/1 [00:00<?, ?it/s]"
      ]
     },
     "metadata": {},
     "output_type": "display_data"
    },
    {
     "name": "stdout",
     "output_type": "stream",
     "text": [
      "<tf.Variable 'Adam_2/learning_rate:0' shape=() dtype=float32>\n",
      "<tf.Variable 'Adam_2/learning_rate:0' shape=() dtype=float32>\n",
      "Original Data Shape (selected):  (2500, 30)\n",
      "Original Data Shape (encoded):  (2500, 30)\n",
      "Original Data Class Distribution:  610  (true) / 1890  (false)\n",
      "(1500, 30) (1500,)\n",
      "(500, 30) (500,)\n",
      "(500, 30) (500,)\n",
      "Min Ratio:  0.24\n",
      "Min Ratio:  0.2465\n"
     ]
    },
    {
     "data": {
      "application/vnd.jupyter.widget-view+json": {
       "model_id": "4583d44615314766a777a64b3b39891a",
       "version_major": 2,
       "version_minor": 0
      },
      "text/plain": [
       "restarts:   0%|          | 0/1 [00:00<?, ?it/s]"
      ]
     },
     "metadata": {},
     "output_type": "display_data"
    },
    {
     "data": {
      "application/vnd.jupyter.widget-view+json": {
       "model_id": "f30086df5a204b45ac8bbaf7baf037eb",
       "version_major": 2,
       "version_minor": 0
      },
      "text/plain": [
       "epochs:   0%|          | 0/1 [00:00<?, ?it/s]"
      ]
     },
     "metadata": {},
     "output_type": "display_data"
    },
    {
     "name": "stdout",
     "output_type": "stream",
     "text": [
      "<tf.Variable 'Adam_2/learning_rate:0' shape=() dtype=float32>\n",
      "<tf.Variable 'Adam_2/learning_rate:0' shape=() dtype=float32>\n",
      "Original Data Shape (selected):  (2500, 30)\n",
      "Original Data Shape (encoded):  (2500, 30)\n",
      "Original Data Class Distribution:  911  (true) / 1589  (false)\n",
      "(1500, 30) (1500,)\n",
      "(500, 30) (500,)\n",
      "(500, 30) (500,)\n",
      "Min Ratio:  0.366\n",
      "Min Ratio:  0.36\n"
     ]
    },
    {
     "data": {
      "application/vnd.jupyter.widget-view+json": {
       "model_id": "e67a354370e545489e930682c510f0e2",
       "version_major": 2,
       "version_minor": 0
      },
      "text/plain": [
       "restarts:   0%|          | 0/1 [00:00<?, ?it/s]"
      ]
     },
     "metadata": {},
     "output_type": "display_data"
    },
    {
     "data": {
      "application/vnd.jupyter.widget-view+json": {
       "model_id": "aca3604b63fe4afd81767a5f2d0d81bf",
       "version_major": 2,
       "version_minor": 0
      },
      "text/plain": [
       "epochs:   0%|          | 0/1 [00:00<?, ?it/s]"
      ]
     },
     "metadata": {},
     "output_type": "display_data"
    },
    {
     "name": "stdout",
     "output_type": "stream",
     "text": [
      "<tf.Variable 'Adam_2/learning_rate:0' shape=() dtype=float32>\n",
      "<tf.Variable 'Adam_2/learning_rate:0' shape=() dtype=float32>\n",
      "Original Data Shape (selected):  (2500, 30)\n",
      "Original Data Shape (encoded):  (2500, 30)\n",
      "Original Data Class Distribution:  1071  (true) / 1429  (false)\n",
      "(1500, 30) (1500,)\n",
      "(500, 30) (500,)\n",
      "(500, 30) (500,)\n",
      "Min Ratio:  0.42866666666666664\n",
      "Min Ratio:  0.43\n"
     ]
    },
    {
     "data": {
      "application/vnd.jupyter.widget-view+json": {
       "model_id": "5ca33fa20e26471093f3a0ea8f304297",
       "version_major": 2,
       "version_minor": 0
      },
      "text/plain": [
       "restarts:   0%|          | 0/1 [00:00<?, ?it/s]"
      ]
     },
     "metadata": {},
     "output_type": "display_data"
    },
    {
     "data": {
      "application/vnd.jupyter.widget-view+json": {
       "model_id": "dfcc29e4148148188c3c27f5dac8d0e9",
       "version_major": 2,
       "version_minor": 0
      },
      "text/plain": [
       "epochs:   0%|          | 0/1 [00:00<?, ?it/s]"
      ]
     },
     "metadata": {},
     "output_type": "display_data"
    },
    {
     "name": "stdout",
     "output_type": "stream",
     "text": [
      "<tf.Variable 'Adam_2/learning_rate:0' shape=() dtype=float32>\n",
      "<tf.Variable 'Adam_2/learning_rate:0' shape=() dtype=float32>\n",
      "Original Data Shape (selected):  (2500, 30)\n",
      "Original Data Shape (encoded):  (2500, 30)\n",
      "Original Data Class Distribution:  1039  (true) / 1461  (false)\n",
      "(1500, 30) (1500,)\n",
      "(500, 30) (500,)\n",
      "(500, 30) (500,)\n",
      "Min Ratio:  0.41533333333333333\n",
      "Min Ratio:  0.4185\n"
     ]
    },
    {
     "data": {
      "application/vnd.jupyter.widget-view+json": {
       "model_id": "c62d9eeeb1d74ebfb9b244d537bba03f",
       "version_major": 2,
       "version_minor": 0
      },
      "text/plain": [
       "restarts:   0%|          | 0/1 [00:00<?, ?it/s]"
      ]
     },
     "metadata": {},
     "output_type": "display_data"
    },
    {
     "data": {
      "application/vnd.jupyter.widget-view+json": {
       "model_id": "bbe5aecd7057457d81a930ccd8cdc06b",
       "version_major": 2,
       "version_minor": 0
      },
      "text/plain": [
       "epochs:   0%|          | 0/1 [00:00<?, ?it/s]"
      ]
     },
     "metadata": {},
     "output_type": "display_data"
    },
    {
     "name": "stdout",
     "output_type": "stream",
     "text": [
      "<tf.Variable 'Adam_2/learning_rate:0' shape=() dtype=float32>\n",
      "<tf.Variable 'Adam_2/learning_rate:0' shape=() dtype=float32>\n",
      "Original Data Shape (selected):  (2500, 30)\n",
      "Original Data Shape (encoded):  (2500, 30)\n",
      "Original Data Class Distribution:  1086  (true) / 1414  (false)\n",
      "(1500, 30) (1500,)\n",
      "(500, 30) (500,)\n",
      "(500, 30) (500,)\n",
      "Min Ratio:  0.43933333333333335\n",
      "Min Ratio:  0.441\n"
     ]
    },
    {
     "data": {
      "application/vnd.jupyter.widget-view+json": {
       "model_id": "434dbf43ca194e728efb64bfb0888a64",
       "version_major": 2,
       "version_minor": 0
      },
      "text/plain": [
       "restarts:   0%|          | 0/1 [00:00<?, ?it/s]"
      ]
     },
     "metadata": {},
     "output_type": "display_data"
    },
    {
     "data": {
      "application/vnd.jupyter.widget-view+json": {
       "model_id": "1096dc0935364b68b4d8dbdefd8d2f95",
       "version_major": 2,
       "version_minor": 0
      },
      "text/plain": [
       "epochs:   0%|          | 0/1 [00:00<?, ?it/s]"
      ]
     },
     "metadata": {},
     "output_type": "display_data"
    },
    {
     "name": "stdout",
     "output_type": "stream",
     "text": [
      "<tf.Variable 'Adam_2/learning_rate:0' shape=() dtype=float32>\n",
      "<tf.Variable 'Adam_2/learning_rate:0' shape=() dtype=float32>\n",
      "Original Data Shape (selected):  (2500, 30)\n",
      "Original Data Shape (encoded):  (2500, 30)\n",
      "Original Data Class Distribution:  1142  (true) / 1358  (false)\n",
      "(1500, 30) (1500,)\n",
      "(500, 30) (500,)\n",
      "(500, 30) (500,)\n",
      "Min Ratio:  0.4613333333333333\n",
      "Min Ratio:  0.46\n"
     ]
    },
    {
     "data": {
      "application/vnd.jupyter.widget-view+json": {
       "model_id": "d32783f5db1f488dbbedf5e76c4973ae",
       "version_major": 2,
       "version_minor": 0
      },
      "text/plain": [
       "restarts:   0%|          | 0/1 [00:00<?, ?it/s]"
      ]
     },
     "metadata": {},
     "output_type": "display_data"
    },
    {
     "data": {
      "application/vnd.jupyter.widget-view+json": {
       "model_id": "6f1f74ed158a4a6fadcb3299adc0d23b",
       "version_major": 2,
       "version_minor": 0
      },
      "text/plain": [
       "epochs:   0%|          | 0/1 [00:00<?, ?it/s]"
      ]
     },
     "metadata": {},
     "output_type": "display_data"
    },
    {
     "name": "stdout",
     "output_type": "stream",
     "text": [
      "<tf.Variable 'Adam_2/learning_rate:0' shape=() dtype=float32>\n",
      "<tf.Variable 'Adam_2/learning_rate:0' shape=() dtype=float32>\n",
      "Original Data Shape (selected):  (2500, 30)\n",
      "Original Data Shape (encoded):  (2500, 30)\n",
      "Original Data Class Distribution:  1120  (true) / 1380  (false)\n",
      "(1500, 30) (1500,)\n",
      "(500, 30) (500,)\n",
      "(500, 30) (500,)\n",
      "Min Ratio:  0.444\n",
      "Min Ratio:  0.4415\n"
     ]
    },
    {
     "data": {
      "application/vnd.jupyter.widget-view+json": {
       "model_id": "3c2f1771fd574453b8be3367c23a2dbe",
       "version_major": 2,
       "version_minor": 0
      },
      "text/plain": [
       "restarts:   0%|          | 0/1 [00:00<?, ?it/s]"
      ]
     },
     "metadata": {},
     "output_type": "display_data"
    },
    {
     "data": {
      "application/vnd.jupyter.widget-view+json": {
       "model_id": "9fef6b0b8fc64938919b34c0b71b742f",
       "version_major": 2,
       "version_minor": 0
      },
      "text/plain": [
       "epochs:   0%|          | 0/1 [00:00<?, ?it/s]"
      ]
     },
     "metadata": {},
     "output_type": "display_data"
    },
    {
     "name": "stdout",
     "output_type": "stream",
     "text": [
      "<tf.Variable 'Adam_2/learning_rate:0' shape=() dtype=float32>\n",
      "<tf.Variable 'Adam_2/learning_rate:0' shape=() dtype=float32>\n",
      "Original Data Shape (selected):  (2500, 30)\n",
      "Original Data Shape (encoded):  (2500, 30)\n",
      "Original Data Class Distribution:  471  (true) / 2029  (false)\n",
      "(1500, 30) (1500,)\n",
      "(500, 30) (500,)\n",
      "(500, 30) (500,)\n",
      "Min Ratio:  0.19\n",
      "Min Ratio:  0.193\n"
     ]
    },
    {
     "data": {
      "application/vnd.jupyter.widget-view+json": {
       "model_id": "2fe84783d4784f36814e068ffc54e534",
       "version_major": 2,
       "version_minor": 0
      },
      "text/plain": [
       "restarts:   0%|          | 0/1 [00:00<?, ?it/s]"
      ]
     },
     "metadata": {},
     "output_type": "display_data"
    },
    {
     "data": {
      "application/vnd.jupyter.widget-view+json": {
       "model_id": "0e3b5b86c7cc4901862083a8d30b0e1f",
       "version_major": 2,
       "version_minor": 0
      },
      "text/plain": [
       "epochs:   0%|          | 0/1 [00:00<?, ?it/s]"
      ]
     },
     "metadata": {},
     "output_type": "display_data"
    },
    {
     "name": "stdout",
     "output_type": "stream",
     "text": [
      "<tf.Variable 'Adam_2/learning_rate:0' shape=() dtype=float32>\n",
      "<tf.Variable 'Adam_2/learning_rate:0' shape=() dtype=float32>\n",
      "Original Data Shape (selected):  (2500, 30)\n",
      "Original Data Shape (encoded):  (2500, 30)\n",
      "Original Data Class Distribution:  560  (true) / 1940  (false)\n",
      "(1500, 30) (1500,)\n",
      "(500, 30) (500,)\n",
      "(500, 30) (500,)\n",
      "Min Ratio:  0.224\n",
      "Min Ratio:  0.2165\n"
     ]
    },
    {
     "data": {
      "application/vnd.jupyter.widget-view+json": {
       "model_id": "2f2f197d678246c4864090a7c2f01504",
       "version_major": 2,
       "version_minor": 0
      },
      "text/plain": [
       "restarts:   0%|          | 0/1 [00:00<?, ?it/s]"
      ]
     },
     "metadata": {},
     "output_type": "display_data"
    },
    {
     "data": {
      "application/vnd.jupyter.widget-view+json": {
       "model_id": "3f38456a51344dab91403771022b1459",
       "version_major": 2,
       "version_minor": 0
      },
      "text/plain": [
       "epochs:   0%|          | 0/1 [00:00<?, ?it/s]"
      ]
     },
     "metadata": {},
     "output_type": "display_data"
    },
    {
     "name": "stdout",
     "output_type": "stream",
     "text": [
      "<tf.Variable 'Adam_2/learning_rate:0' shape=() dtype=float32>\n",
      "<tf.Variable 'Adam_2/learning_rate:0' shape=() dtype=float32>\n",
      "Original Data Shape (selected):  (2500, 30)\n",
      "Original Data Shape (encoded):  (2500, 30)\n",
      "Original Data Class Distribution:  631  (true) / 1869  (false)\n",
      "(1500, 30) (1500,)\n",
      "(500, 30) (500,)\n",
      "(500, 30) (500,)\n",
      "Min Ratio:  0.24333333333333335\n",
      "Min Ratio:  0.2495\n"
     ]
    },
    {
     "data": {
      "application/vnd.jupyter.widget-view+json": {
       "model_id": "c90f074a3797444988b211fc2495162a",
       "version_major": 2,
       "version_minor": 0
      },
      "text/plain": [
       "restarts:   0%|          | 0/1 [00:00<?, ?it/s]"
      ]
     },
     "metadata": {},
     "output_type": "display_data"
    },
    {
     "data": {
      "application/vnd.jupyter.widget-view+json": {
       "model_id": "68536c67ad2b48f790966c5962955451",
       "version_major": 2,
       "version_minor": 0
      },
      "text/plain": [
       "epochs:   0%|          | 0/1 [00:00<?, ?it/s]"
      ]
     },
     "metadata": {},
     "output_type": "display_data"
    },
    {
     "name": "stdout",
     "output_type": "stream",
     "text": [
      "<tf.Variable 'Adam_2/learning_rate:0' shape=() dtype=float32>\n",
      "<tf.Variable 'Adam_2/learning_rate:0' shape=() dtype=float32>\n",
      "Original Data Shape (selected):  (2500, 30)\n",
      "Original Data Shape (encoded):  (2500, 30)\n",
      "Original Data Class Distribution:  705  (true) / 1795  (false)\n",
      "(1500, 30) (1500,)\n",
      "(500, 30) (500,)\n",
      "(500, 30) (500,)\n",
      "Min Ratio:  0.29\n",
      "Min Ratio:  0.285\n"
     ]
    },
    {
     "data": {
      "application/vnd.jupyter.widget-view+json": {
       "model_id": "8ce0038ed6aa4c1ab5485c181be7977d",
       "version_major": 2,
       "version_minor": 0
      },
      "text/plain": [
       "restarts:   0%|          | 0/1 [00:00<?, ?it/s]"
      ]
     },
     "metadata": {},
     "output_type": "display_data"
    },
    {
     "data": {
      "application/vnd.jupyter.widget-view+json": {
       "model_id": "8c4e29c2da1c4d5c85d8813f9317f66a",
       "version_major": 2,
       "version_minor": 0
      },
      "text/plain": [
       "epochs:   0%|          | 0/1 [00:00<?, ?it/s]"
      ]
     },
     "metadata": {},
     "output_type": "display_data"
    },
    {
     "name": "stdout",
     "output_type": "stream",
     "text": [
      "<tf.Variable 'Adam_2/learning_rate:0' shape=() dtype=float32>\n",
      "<tf.Variable 'Adam_2/learning_rate:0' shape=() dtype=float32>\n",
      "Original Data Shape (selected):  (2500, 30)\n",
      "Original Data Shape (encoded):  (2500, 30)\n",
      "Original Data Class Distribution:  728  (true) / 1772  (false)\n",
      "(1500, 30) (1500,)\n",
      "(500, 30) (500,)\n",
      "(500, 30) (500,)\n",
      "Min Ratio:  0.2853333333333333\n",
      "Min Ratio:  0.2885\n"
     ]
    },
    {
     "data": {
      "application/vnd.jupyter.widget-view+json": {
       "model_id": "3ff2ba1513b44fd6a6cbd92e8dce0ba8",
       "version_major": 2,
       "version_minor": 0
      },
      "text/plain": [
       "restarts:   0%|          | 0/1 [00:00<?, ?it/s]"
      ]
     },
     "metadata": {},
     "output_type": "display_data"
    },
    {
     "data": {
      "application/vnd.jupyter.widget-view+json": {
       "model_id": "33bccd73410d4dcc826605420eb6e957",
       "version_major": 2,
       "version_minor": 0
      },
      "text/plain": [
       "epochs:   0%|          | 0/1 [00:00<?, ?it/s]"
      ]
     },
     "metadata": {},
     "output_type": "display_data"
    },
    {
     "name": "stdout",
     "output_type": "stream",
     "text": [
      "<tf.Variable 'Adam_2/learning_rate:0' shape=() dtype=float32>\n",
      "<tf.Variable 'Adam_2/learning_rate:0' shape=() dtype=float32>\n",
      "Original Data Shape (selected):  (2500, 30)\n",
      "Original Data Shape (encoded):  (2500, 30)\n",
      "Original Data Class Distribution:  760  (true) / 1740  (false)\n",
      "(1500, 30) (1500,)\n",
      "(500, 30) (500,)\n",
      "(500, 30) (500,)\n",
      "Min Ratio:  0.3\n",
      "Min Ratio:  0.306\n"
     ]
    },
    {
     "data": {
      "application/vnd.jupyter.widget-view+json": {
       "model_id": "a83aef49bc09465680d04c99de728a32",
       "version_major": 2,
       "version_minor": 0
      },
      "text/plain": [
       "restarts:   0%|          | 0/1 [00:00<?, ?it/s]"
      ]
     },
     "metadata": {},
     "output_type": "display_data"
    },
    {
     "data": {
      "application/vnd.jupyter.widget-view+json": {
       "model_id": "17a1ad9d683441929723dc53928640bc",
       "version_major": 2,
       "version_minor": 0
      },
      "text/plain": [
       "epochs:   0%|          | 0/1 [00:00<?, ?it/s]"
      ]
     },
     "metadata": {},
     "output_type": "display_data"
    },
    {
     "name": "stdout",
     "output_type": "stream",
     "text": [
      "<tf.Variable 'Adam_2/learning_rate:0' shape=() dtype=float32>\n",
      "<tf.Variable 'Adam_2/learning_rate:0' shape=() dtype=float32>\n",
      "Original Data Shape (selected):  (2500, 30)\n",
      "Original Data Shape (encoded):  (2500, 30)\n",
      "Original Data Class Distribution:  646  (true) / 1854  (false)\n",
      "(1500, 30) (1500,)\n",
      "(500, 30) (500,)\n",
      "(500, 30) (500,)\n",
      "Min Ratio:  0.26066666666666666\n",
      "Min Ratio:  0.2625\n"
     ]
    },
    {
     "data": {
      "application/vnd.jupyter.widget-view+json": {
       "model_id": "c561a094f4784346a7a172303e93e1bb",
       "version_major": 2,
       "version_minor": 0
      },
      "text/plain": [
       "restarts:   0%|          | 0/1 [00:00<?, ?it/s]"
      ]
     },
     "metadata": {},
     "output_type": "display_data"
    },
    {
     "data": {
      "application/vnd.jupyter.widget-view+json": {
       "model_id": "ea968bef855b422484247a39b4e2cb83",
       "version_major": 2,
       "version_minor": 0
      },
      "text/plain": [
       "epochs:   0%|          | 0/1 [00:00<?, ?it/s]"
      ]
     },
     "metadata": {},
     "output_type": "display_data"
    },
    {
     "name": "stdout",
     "output_type": "stream",
     "text": [
      "<tf.Variable 'Adam_2/learning_rate:0' shape=() dtype=float32>\n",
      "<tf.Variable 'Adam_2/learning_rate:0' shape=() dtype=float32>\n",
      "Original Data Shape (selected):  (2500, 30)\n",
      "Original Data Shape (encoded):  (2500, 30)\n",
      "Original Data Class Distribution:  370  (true) / 2130  (false)\n",
      "(1500, 30) (1500,)\n",
      "(500, 30) (500,)\n",
      "(500, 30) (500,)\n",
      "Min Ratio:  0.146\n",
      "Min Ratio:  0.147\n"
     ]
    },
    {
     "data": {
      "application/vnd.jupyter.widget-view+json": {
       "model_id": "336dd41710db44f6b1d09a5b8bbf6b5b",
       "version_major": 2,
       "version_minor": 0
      },
      "text/plain": [
       "restarts:   0%|          | 0/1 [00:00<?, ?it/s]"
      ]
     },
     "metadata": {},
     "output_type": "display_data"
    },
    {
     "data": {
      "application/vnd.jupyter.widget-view+json": {
       "model_id": "82391af9d21549fb9690494629db90a8",
       "version_major": 2,
       "version_minor": 0
      },
      "text/plain": [
       "epochs:   0%|          | 0/1 [00:00<?, ?it/s]"
      ]
     },
     "metadata": {},
     "output_type": "display_data"
    },
    {
     "name": "stdout",
     "output_type": "stream",
     "text": [
      "<tf.Variable 'Adam_2/learning_rate:0' shape=() dtype=float32>\n",
      "<tf.Variable 'Adam_2/learning_rate:0' shape=() dtype=float32>\n",
      "Original Data Shape (selected):  (2500, 30)\n",
      "Original Data Shape (encoded):  (2500, 30)\n",
      "Original Data Class Distribution:  576  (true) / 1924  (false)\n",
      "(1500, 30) (1500,)\n",
      "(500, 30) (500,)\n",
      "(500, 30) (500,)\n",
      "Min Ratio:  0.228\n",
      "Min Ratio:  0.2275\n"
     ]
    },
    {
     "data": {
      "application/vnd.jupyter.widget-view+json": {
       "model_id": "c052b78beee34e03ba04d2056b4189a2",
       "version_major": 2,
       "version_minor": 0
      },
      "text/plain": [
       "restarts:   0%|          | 0/1 [00:00<?, ?it/s]"
      ]
     },
     "metadata": {},
     "output_type": "display_data"
    },
    {
     "data": {
      "application/vnd.jupyter.widget-view+json": {
       "model_id": "5c362e4efaa4459bacdfc5b15bbb13e5",
       "version_major": 2,
       "version_minor": 0
      },
      "text/plain": [
       "epochs:   0%|          | 0/1 [00:00<?, ?it/s]"
      ]
     },
     "metadata": {},
     "output_type": "display_data"
    },
    {
     "name": "stdout",
     "output_type": "stream",
     "text": [
      "<tf.Variable 'Adam_2/learning_rate:0' shape=() dtype=float32>\n",
      "<tf.Variable 'Adam_2/learning_rate:0' shape=() dtype=float32>\n",
      "Original Data Shape (selected):  (2500, 30)\n",
      "Original Data Shape (encoded):  (2500, 30)\n",
      "Original Data Class Distribution:  711  (true) / 1789  (false)\n",
      "(1500, 30) (1500,)\n",
      "(500, 30) (500,)\n",
      "(500, 30) (500,)\n",
      "Min Ratio:  0.2926666666666667\n",
      "Min Ratio:  0.287\n"
     ]
    },
    {
     "data": {
      "application/vnd.jupyter.widget-view+json": {
       "model_id": "d669cef766e34f29ba175a4e561f699b",
       "version_major": 2,
       "version_minor": 0
      },
      "text/plain": [
       "restarts:   0%|          | 0/1 [00:00<?, ?it/s]"
      ]
     },
     "metadata": {},
     "output_type": "display_data"
    },
    {
     "data": {
      "application/vnd.jupyter.widget-view+json": {
       "model_id": "d2fee4cb6f4f4669aee2e7e129de8778",
       "version_major": 2,
       "version_minor": 0
      },
      "text/plain": [
       "epochs:   0%|          | 0/1 [00:00<?, ?it/s]"
      ]
     },
     "metadata": {},
     "output_type": "display_data"
    },
    {
     "name": "stdout",
     "output_type": "stream",
     "text": [
      "<tf.Variable 'Adam_2/learning_rate:0' shape=() dtype=float32>\n",
      "<tf.Variable 'Adam_2/learning_rate:0' shape=() dtype=float32>\n",
      "Original Data Shape (selected):  (2500, 30)\n",
      "Original Data Shape (encoded):  (2500, 30)\n",
      "Original Data Class Distribution:  776  (true) / 1724  (false)\n",
      "(1500, 30) (1500,)\n",
      "(500, 30) (500,)\n",
      "(500, 30) (500,)\n",
      "Min Ratio:  0.30533333333333335\n",
      "Min Ratio:  0.301\n"
     ]
    },
    {
     "data": {
      "application/vnd.jupyter.widget-view+json": {
       "model_id": "1c535555b127424bbeabd76cce27410d",
       "version_major": 2,
       "version_minor": 0
      },
      "text/plain": [
       "restarts:   0%|          | 0/1 [00:00<?, ?it/s]"
      ]
     },
     "metadata": {},
     "output_type": "display_data"
    },
    {
     "data": {
      "application/vnd.jupyter.widget-view+json": {
       "model_id": "d38518249d1e4bce905de42555cf2656",
       "version_major": 2,
       "version_minor": 0
      },
      "text/plain": [
       "epochs:   0%|          | 0/1 [00:00<?, ?it/s]"
      ]
     },
     "metadata": {},
     "output_type": "display_data"
    },
    {
     "name": "stdout",
     "output_type": "stream",
     "text": [
      "<tf.Variable 'Adam_2/learning_rate:0' shape=() dtype=float32>\n",
      "<tf.Variable 'Adam_2/learning_rate:0' shape=() dtype=float32>\n",
      "Original Data Shape (selected):  (2500, 30)\n",
      "Original Data Shape (encoded):  (2500, 30)\n",
      "Original Data Class Distribution:  915  (true) / 1585  (false)\n",
      "(1500, 30) (1500,)\n",
      "(500, 30) (500,)\n",
      "(500, 30) (500,)\n",
      "Min Ratio:  0.36733333333333335\n",
      "Min Ratio:  0.366\n"
     ]
    },
    {
     "data": {
      "application/vnd.jupyter.widget-view+json": {
       "model_id": "9b71ba1132a14f9cab3860a3c4d0e42b",
       "version_major": 2,
       "version_minor": 0
      },
      "text/plain": [
       "restarts:   0%|          | 0/1 [00:00<?, ?it/s]"
      ]
     },
     "metadata": {},
     "output_type": "display_data"
    },
    {
     "data": {
      "application/vnd.jupyter.widget-view+json": {
       "model_id": "a6e9574a707b4b0f8dbc93338f9f6b87",
       "version_major": 2,
       "version_minor": 0
      },
      "text/plain": [
       "epochs:   0%|          | 0/1 [00:00<?, ?it/s]"
      ]
     },
     "metadata": {},
     "output_type": "display_data"
    },
    {
     "name": "stdout",
     "output_type": "stream",
     "text": [
      "<tf.Variable 'Adam_2/learning_rate:0' shape=() dtype=float32>\n",
      "<tf.Variable 'Adam_2/learning_rate:0' shape=() dtype=float32>\n",
      "Original Data Shape (selected):  (2500, 30)\n",
      "Original Data Shape (encoded):  (2500, 30)\n",
      "Original Data Class Distribution:  989  (true) / 1511  (false)\n",
      "(1500, 30) (1500,)\n",
      "(500, 30) (500,)\n",
      "(500, 30) (500,)\n",
      "Min Ratio:  0.392\n",
      "Min Ratio:  0.3935\n"
     ]
    },
    {
     "data": {
      "application/vnd.jupyter.widget-view+json": {
       "model_id": "68e6d16bc14f4f53bc81dbf1f85d2c77",
       "version_major": 2,
       "version_minor": 0
      },
      "text/plain": [
       "restarts:   0%|          | 0/1 [00:00<?, ?it/s]"
      ]
     },
     "metadata": {},
     "output_type": "display_data"
    },
    {
     "data": {
      "application/vnd.jupyter.widget-view+json": {
       "model_id": "c6310e98ba2a447fbd4b94103fa67b2d",
       "version_major": 2,
       "version_minor": 0
      },
      "text/plain": [
       "epochs:   0%|          | 0/1 [00:00<?, ?it/s]"
      ]
     },
     "metadata": {},
     "output_type": "display_data"
    },
    {
     "name": "stdout",
     "output_type": "stream",
     "text": [
      "<tf.Variable 'Adam_2/learning_rate:0' shape=() dtype=float32>\n",
      "<tf.Variable 'Adam_2/learning_rate:0' shape=() dtype=float32>\n",
      "Original Data Shape (selected):  (2500, 30)\n",
      "Original Data Shape (encoded):  (2500, 30)\n",
      "Original Data Class Distribution:  898  (true) / 1602  (false)\n",
      "(1500, 30) (1500,)\n",
      "(500, 30) (500,)\n",
      "(500, 30) (500,)\n",
      "Min Ratio:  0.352\n",
      "Min Ratio:  0.3515\n"
     ]
    },
    {
     "data": {
      "application/vnd.jupyter.widget-view+json": {
       "model_id": "9b000626c9bb4ae6b48504f19784f247",
       "version_major": 2,
       "version_minor": 0
      },
      "text/plain": [
       "restarts:   0%|          | 0/1 [00:00<?, ?it/s]"
      ]
     },
     "metadata": {},
     "output_type": "display_data"
    },
    {
     "data": {
      "application/vnd.jupyter.widget-view+json": {
       "model_id": "5976d570323d4bb990aa5cb8a39df72e",
       "version_major": 2,
       "version_minor": 0
      },
      "text/plain": [
       "epochs:   0%|          | 0/1 [00:00<?, ?it/s]"
      ]
     },
     "metadata": {},
     "output_type": "display_data"
    },
    {
     "name": "stdout",
     "output_type": "stream",
     "text": [
      "<tf.Variable 'Adam_2/learning_rate:0' shape=() dtype=float32>\n",
      "<tf.Variable 'Adam_2/learning_rate:0' shape=() dtype=float32>\n",
      "Original Data Shape (selected):  (2500, 30)\n",
      "Original Data Shape (encoded):  (2500, 30)\n",
      "Original Data Class Distribution:  467  (true) / 2033  (false)\n",
      "(1500, 30) (1500,)\n",
      "(500, 30) (500,)\n",
      "(500, 30) (500,)\n",
      "Min Ratio:  0.18466666666666667\n",
      "Min Ratio:  0.189\n"
     ]
    },
    {
     "data": {
      "application/vnd.jupyter.widget-view+json": {
       "model_id": "e571be466759461286d349b90b0d7b41",
       "version_major": 2,
       "version_minor": 0
      },
      "text/plain": [
       "restarts:   0%|          | 0/1 [00:00<?, ?it/s]"
      ]
     },
     "metadata": {},
     "output_type": "display_data"
    },
    {
     "data": {
      "application/vnd.jupyter.widget-view+json": {
       "model_id": "06af4ef2f9e5497bb70187fd82aee7da",
       "version_major": 2,
       "version_minor": 0
      },
      "text/plain": [
       "epochs:   0%|          | 0/1 [00:00<?, ?it/s]"
      ]
     },
     "metadata": {},
     "output_type": "display_data"
    },
    {
     "name": "stdout",
     "output_type": "stream",
     "text": [
      "<tf.Variable 'Adam_2/learning_rate:0' shape=() dtype=float32>\n",
      "<tf.Variable 'Adam_2/learning_rate:0' shape=() dtype=float32>\n",
      "Original Data Shape (selected):  (2500, 30)\n",
      "Original Data Shape (encoded):  (2500, 30)\n",
      "Original Data Class Distribution:  607  (true) / 1893  (false)\n",
      "(1500, 30) (1500,)\n",
      "(500, 30) (500,)\n",
      "(500, 30) (500,)\n",
      "Min Ratio:  0.234\n",
      "Min Ratio:  0.242\n"
     ]
    },
    {
     "data": {
      "application/vnd.jupyter.widget-view+json": {
       "model_id": "7e15fe7fc6d4452ebed71052bbc1ec0b",
       "version_major": 2,
       "version_minor": 0
      },
      "text/plain": [
       "restarts:   0%|          | 0/1 [00:00<?, ?it/s]"
      ]
     },
     "metadata": {},
     "output_type": "display_data"
    },
    {
     "data": {
      "application/vnd.jupyter.widget-view+json": {
       "model_id": "9a8cf22d53ed45bfb705882bb21d760b",
       "version_major": 2,
       "version_minor": 0
      },
      "text/plain": [
       "epochs:   0%|          | 0/1 [00:00<?, ?it/s]"
      ]
     },
     "metadata": {},
     "output_type": "display_data"
    },
    {
     "name": "stdout",
     "output_type": "stream",
     "text": [
      "<tf.Variable 'Adam_2/learning_rate:0' shape=() dtype=float32>\n",
      "<tf.Variable 'Adam_2/learning_rate:0' shape=() dtype=float32>\n",
      "Original Data Shape (selected):  (2500, 30)\n",
      "Original Data Shape (encoded):  (2500, 30)\n",
      "Original Data Class Distribution:  795  (true) / 1705  (false)\n",
      "(1500, 30) (1500,)\n",
      "(500, 30) (500,)\n",
      "(500, 30) (500,)\n",
      "Min Ratio:  0.31666666666666665\n",
      "Min Ratio:  0.3135\n"
     ]
    },
    {
     "data": {
      "application/vnd.jupyter.widget-view+json": {
       "model_id": "1c12828043784a81b319433e372e3084",
       "version_major": 2,
       "version_minor": 0
      },
      "text/plain": [
       "restarts:   0%|          | 0/1 [00:00<?, ?it/s]"
      ]
     },
     "metadata": {},
     "output_type": "display_data"
    },
    {
     "data": {
      "application/vnd.jupyter.widget-view+json": {
       "model_id": "b30c5836a9744c96a3f5a72ce981d067",
       "version_major": 2,
       "version_minor": 0
      },
      "text/plain": [
       "epochs:   0%|          | 0/1 [00:00<?, ?it/s]"
      ]
     },
     "metadata": {},
     "output_type": "display_data"
    },
    {
     "name": "stdout",
     "output_type": "stream",
     "text": [
      "<tf.Variable 'Adam_2/learning_rate:0' shape=() dtype=float32>\n",
      "<tf.Variable 'Adam_2/learning_rate:0' shape=() dtype=float32>\n",
      "Original Data Shape (selected):  (2500, 30)\n",
      "Original Data Shape (encoded):  (2500, 30)\n",
      "Original Data Class Distribution:  924  (true) / 1576  (false)\n",
      "(1500, 30) (1500,)\n",
      "(500, 30) (500,)\n",
      "(500, 30) (500,)\n",
      "Min Ratio:  0.38333333333333336\n",
      "Min Ratio:  0.3695\n"
     ]
    },
    {
     "data": {
      "application/vnd.jupyter.widget-view+json": {
       "model_id": "bdfd9dd5e44b4900aa9c7f6c7903201a",
       "version_major": 2,
       "version_minor": 0
      },
      "text/plain": [
       "restarts:   0%|          | 0/1 [00:00<?, ?it/s]"
      ]
     },
     "metadata": {},
     "output_type": "display_data"
    },
    {
     "data": {
      "application/vnd.jupyter.widget-view+json": {
       "model_id": "545ec8be656a4fd4b760bb3e4d186634",
       "version_major": 2,
       "version_minor": 0
      },
      "text/plain": [
       "epochs:   0%|          | 0/1 [00:00<?, ?it/s]"
      ]
     },
     "metadata": {},
     "output_type": "display_data"
    },
    {
     "name": "stdout",
     "output_type": "stream",
     "text": [
      "<tf.Variable 'Adam_2/learning_rate:0' shape=() dtype=float32>\n",
      "<tf.Variable 'Adam_2/learning_rate:0' shape=() dtype=float32>\n",
      "Original Data Shape (selected):  (2500, 30)\n",
      "Original Data Shape (encoded):  (2500, 30)\n",
      "Original Data Class Distribution:  1042  (true) / 1458  (false)\n",
      "(1500, 30) (1500,)\n",
      "(500, 30) (500,)\n",
      "(500, 30) (500,)\n",
      "Min Ratio:  0.4206666666666667\n",
      "Min Ratio:  0.424\n"
     ]
    },
    {
     "data": {
      "application/vnd.jupyter.widget-view+json": {
       "model_id": "c5d86e6a20fd4b3eb5958add2e42b40e",
       "version_major": 2,
       "version_minor": 0
      },
      "text/plain": [
       "restarts:   0%|          | 0/1 [00:00<?, ?it/s]"
      ]
     },
     "metadata": {},
     "output_type": "display_data"
    },
    {
     "data": {
      "application/vnd.jupyter.widget-view+json": {
       "model_id": "b7e940acc2c5453c9f21af2f83186727",
       "version_major": 2,
       "version_minor": 0
      },
      "text/plain": [
       "epochs:   0%|          | 0/1 [00:00<?, ?it/s]"
      ]
     },
     "metadata": {},
     "output_type": "display_data"
    },
    {
     "name": "stdout",
     "output_type": "stream",
     "text": [
      "<tf.Variable 'Adam_2/learning_rate:0' shape=() dtype=float32>\n",
      "<tf.Variable 'Adam_2/learning_rate:0' shape=() dtype=float32>\n",
      "Original Data Shape (selected):  (2500, 30)\n",
      "Original Data Shape (encoded):  (2500, 30)\n",
      "Original Data Class Distribution:  1191  (true) / 1309  (false)\n",
      "(1500, 30) (1500,)\n",
      "(500, 30) (500,)\n",
      "(500, 30) (500,)\n",
      "Min Ratio:  0.47933333333333333\n",
      "Min Ratio:  0.4805\n"
     ]
    },
    {
     "data": {
      "application/vnd.jupyter.widget-view+json": {
       "model_id": "fdb229fbf50744c58cbc81d66b6fb36b",
       "version_major": 2,
       "version_minor": 0
      },
      "text/plain": [
       "restarts:   0%|          | 0/1 [00:00<?, ?it/s]"
      ]
     },
     "metadata": {},
     "output_type": "display_data"
    },
    {
     "data": {
      "application/vnd.jupyter.widget-view+json": {
       "model_id": "43383e55543b403e9e5435b0c8927cc3",
       "version_major": 2,
       "version_minor": 0
      },
      "text/plain": [
       "epochs:   0%|          | 0/1 [00:00<?, ?it/s]"
      ]
     },
     "metadata": {},
     "output_type": "display_data"
    },
    {
     "name": "stdout",
     "output_type": "stream",
     "text": [
      "<tf.Variable 'Adam_2/learning_rate:0' shape=() dtype=float32>\n",
      "<tf.Variable 'Adam_2/learning_rate:0' shape=() dtype=float32>\n",
      "Original Data Shape (selected):  (2500, 30)\n",
      "Original Data Shape (encoded):  (2500, 30)\n",
      "Original Data Class Distribution:  1225  (true) / 1275  (false)\n",
      "(1500, 30) (1500,)\n",
      "(500, 30) (500,)\n",
      "(500, 30) (500,)\n",
      "Min Ratio:  0.48333333333333334\n",
      "Min Ratio:  0.4795\n"
     ]
    },
    {
     "data": {
      "application/vnd.jupyter.widget-view+json": {
       "model_id": "b1b61519734e41fc92216466283368af",
       "version_major": 2,
       "version_minor": 0
      },
      "text/plain": [
       "restarts:   0%|          | 0/1 [00:00<?, ?it/s]"
      ]
     },
     "metadata": {},
     "output_type": "display_data"
    },
    {
     "data": {
      "application/vnd.jupyter.widget-view+json": {
       "model_id": "4ec2731b4ed140a190315147cadce72f",
       "version_major": 2,
       "version_minor": 0
      },
      "text/plain": [
       "epochs:   0%|          | 0/1 [00:00<?, ?it/s]"
      ]
     },
     "metadata": {},
     "output_type": "display_data"
    },
    {
     "name": "stdout",
     "output_type": "stream",
     "text": [
      "<tf.Variable 'Adam_2/learning_rate:0' shape=() dtype=float32>\n",
      "<tf.Variable 'Adam_2/learning_rate:0' shape=() dtype=float32>\n",
      "Original Data Shape (selected):  (2500, 30)\n",
      "Original Data Shape (encoded):  (2500, 30)\n",
      "Original Data Class Distribution:  700  (true) / 1800  (false)\n",
      "(1500, 30) (1500,)\n",
      "(500, 30) (500,)\n",
      "(500, 30) (500,)\n",
      "Min Ratio:  0.282\n",
      "Min Ratio:  0.288\n"
     ]
    },
    {
     "data": {
      "application/vnd.jupyter.widget-view+json": {
       "model_id": "dd0f1208dd8c4b56a5aa3bbd5314532f",
       "version_major": 2,
       "version_minor": 0
      },
      "text/plain": [
       "restarts:   0%|          | 0/1 [00:00<?, ?it/s]"
      ]
     },
     "metadata": {},
     "output_type": "display_data"
    },
    {
     "data": {
      "application/vnd.jupyter.widget-view+json": {
       "model_id": "ea7a29979a9e4ac09d58839378980cda",
       "version_major": 2,
       "version_minor": 0
      },
      "text/plain": [
       "epochs:   0%|          | 0/1 [00:00<?, ?it/s]"
      ]
     },
     "metadata": {},
     "output_type": "display_data"
    },
    {
     "name": "stdout",
     "output_type": "stream",
     "text": [
      "<tf.Variable 'Adam_2/learning_rate:0' shape=() dtype=float32>\n",
      "<tf.Variable 'Adam_2/learning_rate:0' shape=() dtype=float32>\n",
      "Original Data Shape (selected):  (2500, 30)\n",
      "Original Data Shape (encoded):  (2500, 30)\n",
      "Original Data Class Distribution:  645  (true) / 1855  (false)\n",
      "(1500, 30) (1500,)\n",
      "(500, 30) (500,)\n",
      "(500, 30) (500,)\n",
      "Min Ratio:  0.254\n",
      "Min Ratio:  0.257\n"
     ]
    },
    {
     "data": {
      "application/vnd.jupyter.widget-view+json": {
       "model_id": "e19ff3b770a74329b3428e3d2050b43d",
       "version_major": 2,
       "version_minor": 0
      },
      "text/plain": [
       "restarts:   0%|          | 0/1 [00:00<?, ?it/s]"
      ]
     },
     "metadata": {},
     "output_type": "display_data"
    },
    {
     "data": {
      "application/vnd.jupyter.widget-view+json": {
       "model_id": "d902335ddf8440febadd695729e5e82a",
       "version_major": 2,
       "version_minor": 0
      },
      "text/plain": [
       "epochs:   0%|          | 0/1 [00:00<?, ?it/s]"
      ]
     },
     "metadata": {},
     "output_type": "display_data"
    },
    {
     "name": "stdout",
     "output_type": "stream",
     "text": [
      "<tf.Variable 'Adam_2/learning_rate:0' shape=() dtype=float32>\n",
      "<tf.Variable 'Adam_2/learning_rate:0' shape=() dtype=float32>\n",
      "Original Data Shape (selected):  (2500, 30)\n",
      "Original Data Shape (encoded):  (2500, 30)\n",
      "Original Data Class Distribution:  886  (true) / 1614  (false)\n",
      "(1500, 30) (1500,)\n",
      "(500, 30) (500,)\n",
      "(500, 30) (500,)\n",
      "Min Ratio:  0.3626666666666667\n",
      "Min Ratio:  0.36\n"
     ]
    },
    {
     "data": {
      "application/vnd.jupyter.widget-view+json": {
       "model_id": "39ca79236f544baaa1950fbcf50e2b8b",
       "version_major": 2,
       "version_minor": 0
      },
      "text/plain": [
       "restarts:   0%|          | 0/1 [00:00<?, ?it/s]"
      ]
     },
     "metadata": {},
     "output_type": "display_data"
    },
    {
     "data": {
      "application/vnd.jupyter.widget-view+json": {
       "model_id": "aa660ef2ee0a4596b0221b882c34028a",
       "version_major": 2,
       "version_minor": 0
      },
      "text/plain": [
       "epochs:   0%|          | 0/1 [00:00<?, ?it/s]"
      ]
     },
     "metadata": {},
     "output_type": "display_data"
    },
    {
     "name": "stdout",
     "output_type": "stream",
     "text": [
      "<tf.Variable 'Adam_2/learning_rate:0' shape=() dtype=float32>\n",
      "<tf.Variable 'Adam_2/learning_rate:0' shape=() dtype=float32>\n",
      "Original Data Shape (selected):  (2500, 30)\n",
      "Original Data Shape (encoded):  (2500, 30)\n",
      "Original Data Class Distribution:  1023  (true) / 1477  (false)\n",
      "(1500, 30) (1500,)\n",
      "(500, 30) (500,)\n",
      "(500, 30) (500,)\n",
      "Min Ratio:  0.412\n",
      "Min Ratio:  0.409\n"
     ]
    },
    {
     "data": {
      "application/vnd.jupyter.widget-view+json": {
       "model_id": "b4ad238e72f24d10b7babea0fb670a26",
       "version_major": 2,
       "version_minor": 0
      },
      "text/plain": [
       "restarts:   0%|          | 0/1 [00:00<?, ?it/s]"
      ]
     },
     "metadata": {},
     "output_type": "display_data"
    },
    {
     "data": {
      "application/vnd.jupyter.widget-view+json": {
       "model_id": "d43b24a35dce4f8da3101df5ff306a60",
       "version_major": 2,
       "version_minor": 0
      },
      "text/plain": [
       "epochs:   0%|          | 0/1 [00:00<?, ?it/s]"
      ]
     },
     "metadata": {},
     "output_type": "display_data"
    },
    {
     "name": "stdout",
     "output_type": "stream",
     "text": [
      "<tf.Variable 'Adam_2/learning_rate:0' shape=() dtype=float32>\n",
      "<tf.Variable 'Adam_2/learning_rate:0' shape=() dtype=float32>\n",
      "Original Data Shape (selected):  (2500, 30)\n",
      "Original Data Shape (encoded):  (2500, 30)\n",
      "Original Data Class Distribution:  1095  (true) / 1405  (false)\n",
      "(1500, 30) (1500,)\n",
      "(500, 30) (500,)\n",
      "(500, 30) (500,)\n",
      "Min Ratio:  0.44133333333333336\n",
      "Min Ratio:  0.4415\n"
     ]
    },
    {
     "data": {
      "application/vnd.jupyter.widget-view+json": {
       "model_id": "136e6017fd76455bb3fed7ba18fe44fd",
       "version_major": 2,
       "version_minor": 0
      },
      "text/plain": [
       "restarts:   0%|          | 0/1 [00:00<?, ?it/s]"
      ]
     },
     "metadata": {},
     "output_type": "display_data"
    },
    {
     "data": {
      "application/vnd.jupyter.widget-view+json": {
       "model_id": "d62f1a305ad64441ba32bdb91387ffb9",
       "version_major": 2,
       "version_minor": 0
      },
      "text/plain": [
       "epochs:   0%|          | 0/1 [00:00<?, ?it/s]"
      ]
     },
     "metadata": {},
     "output_type": "display_data"
    },
    {
     "name": "stdout",
     "output_type": "stream",
     "text": [
      "<tf.Variable 'Adam_2/learning_rate:0' shape=() dtype=float32>\n",
      "<tf.Variable 'Adam_2/learning_rate:0' shape=() dtype=float32>\n",
      "Original Data Shape (selected):  (2500, 30)\n",
      "Original Data Shape (encoded):  (2500, 30)\n",
      "Original Data Class Distribution:  1120  (true) / 1380  (false)\n",
      "(1500, 30) (1500,)\n",
      "(500, 30) (500,)\n",
      "(500, 30) (500,)\n",
      "Min Ratio:  0.45066666666666666\n",
      "Min Ratio:  0.4545\n"
     ]
    },
    {
     "data": {
      "application/vnd.jupyter.widget-view+json": {
       "model_id": "b1c86885c3b14924b7bbd955d3b062a5",
       "version_major": 2,
       "version_minor": 0
      },
      "text/plain": [
       "restarts:   0%|          | 0/1 [00:00<?, ?it/s]"
      ]
     },
     "metadata": {},
     "output_type": "display_data"
    },
    {
     "data": {
      "application/vnd.jupyter.widget-view+json": {
       "model_id": "79b4d85a9a264a82aecf0ffc315fb132",
       "version_major": 2,
       "version_minor": 0
      },
      "text/plain": [
       "epochs:   0%|          | 0/1 [00:00<?, ?it/s]"
      ]
     },
     "metadata": {},
     "output_type": "display_data"
    },
    {
     "name": "stdout",
     "output_type": "stream",
     "text": [
      "<tf.Variable 'Adam_2/learning_rate:0' shape=() dtype=float32>\n",
      "<tf.Variable 'Adam_2/learning_rate:0' shape=() dtype=float32>\n",
      "Original Data Shape (selected):  (2500, 30)\n",
      "Original Data Shape (encoded):  (2500, 30)\n",
      "Original Data Class Distribution:  1086  (true) / 1414  (false)\n",
      "(1500, 30) (1500,)\n",
      "(500, 30) (500,)\n",
      "(500, 30) (500,)\n",
      "Min Ratio:  0.448\n",
      "Min Ratio:  0.432\n"
     ]
    },
    {
     "data": {
      "application/vnd.jupyter.widget-view+json": {
       "model_id": "fda7822558114fa792e3a557a506c921",
       "version_major": 2,
       "version_minor": 0
      },
      "text/plain": [
       "restarts:   0%|          | 0/1 [00:00<?, ?it/s]"
      ]
     },
     "metadata": {},
     "output_type": "display_data"
    },
    {
     "data": {
      "application/vnd.jupyter.widget-view+json": {
       "model_id": "5fe570f5d7414ee28482538b60daf3a5",
       "version_major": 2,
       "version_minor": 0
      },
      "text/plain": [
       "epochs:   0%|          | 0/1 [00:00<?, ?it/s]"
      ]
     },
     "metadata": {},
     "output_type": "display_data"
    },
    {
     "name": "stdout",
     "output_type": "stream",
     "text": [
      "<tf.Variable 'Adam_2/learning_rate:0' shape=() dtype=float32>\n",
      "<tf.Variable 'Adam_2/learning_rate:0' shape=() dtype=float32>\n",
      "Original Data Shape (selected):  (2500, 30)\n",
      "Original Data Shape (encoded):  (2500, 30)\n",
      "Original Data Class Distribution:  821  (true) / 1679  (false)\n",
      "(1500, 30) (1500,)\n",
      "(500, 30) (500,)\n",
      "(500, 30) (500,)\n",
      "Min Ratio:  0.33066666666666666\n",
      "Min Ratio:  0.3265\n"
     ]
    },
    {
     "data": {
      "application/vnd.jupyter.widget-view+json": {
       "model_id": "aba2d218510d416dac519b03bcc5cdae",
       "version_major": 2,
       "version_minor": 0
      },
      "text/plain": [
       "restarts:   0%|          | 0/1 [00:00<?, ?it/s]"
      ]
     },
     "metadata": {},
     "output_type": "display_data"
    },
    {
     "data": {
      "application/vnd.jupyter.widget-view+json": {
       "model_id": "a8bcc9d1a7f749189bd3bbf5f28add92",
       "version_major": 2,
       "version_minor": 0
      },
      "text/plain": [
       "epochs:   0%|          | 0/1 [00:00<?, ?it/s]"
      ]
     },
     "metadata": {},
     "output_type": "display_data"
    },
    {
     "name": "stdout",
     "output_type": "stream",
     "text": [
      "<tf.Variable 'Adam_2/learning_rate:0' shape=() dtype=float32>\n",
      "<tf.Variable 'Adam_2/learning_rate:0' shape=() dtype=float32>\n",
      "Original Data Shape (selected):  (2500, 30)\n",
      "Original Data Shape (encoded):  (2500, 30)\n",
      "Original Data Class Distribution:  556  (true) / 1944  (false)\n",
      "(1500, 30) (1500,)\n",
      "(500, 30) (500,)\n",
      "(500, 30) (500,)\n",
      "Min Ratio:  0.23066666666666666\n",
      "Min Ratio:  0.2225\n"
     ]
    },
    {
     "data": {
      "application/vnd.jupyter.widget-view+json": {
       "model_id": "ffe13cec08054eb1b9416b81bf8b8a62",
       "version_major": 2,
       "version_minor": 0
      },
      "text/plain": [
       "restarts:   0%|          | 0/1 [00:00<?, ?it/s]"
      ]
     },
     "metadata": {},
     "output_type": "display_data"
    },
    {
     "data": {
      "application/vnd.jupyter.widget-view+json": {
       "model_id": "aebf0db612f4443fa2d6339db2bcc2a8",
       "version_major": 2,
       "version_minor": 0
      },
      "text/plain": [
       "epochs:   0%|          | 0/1 [00:00<?, ?it/s]"
      ]
     },
     "metadata": {},
     "output_type": "display_data"
    },
    {
     "name": "stdout",
     "output_type": "stream",
     "text": [
      "<tf.Variable 'Adam_2/learning_rate:0' shape=() dtype=float32>\n",
      "<tf.Variable 'Adam_2/learning_rate:0' shape=() dtype=float32>\n",
      "Original Data Shape (selected):  (2500, 30)\n",
      "Original Data Shape (encoded):  (2500, 30)\n",
      "Original Data Class Distribution:  796  (true) / 1704  (false)\n",
      "(1500, 30) (1500,)\n",
      "(500, 30) (500,)\n",
      "(500, 30) (500,)\n",
      "Min Ratio:  0.33\n",
      "Min Ratio:  0.325\n"
     ]
    },
    {
     "data": {
      "application/vnd.jupyter.widget-view+json": {
       "model_id": "0454fad98a214aa38a42ce3a96126b2c",
       "version_major": 2,
       "version_minor": 0
      },
      "text/plain": [
       "restarts:   0%|          | 0/1 [00:00<?, ?it/s]"
      ]
     },
     "metadata": {},
     "output_type": "display_data"
    },
    {
     "data": {
      "application/vnd.jupyter.widget-view+json": {
       "model_id": "ea1b528b976a46acb4b10f4dd173d51c",
       "version_major": 2,
       "version_minor": 0
      },
      "text/plain": [
       "epochs:   0%|          | 0/1 [00:00<?, ?it/s]"
      ]
     },
     "metadata": {},
     "output_type": "display_data"
    },
    {
     "name": "stdout",
     "output_type": "stream",
     "text": [
      "<tf.Variable 'Adam_2/learning_rate:0' shape=() dtype=float32>\n",
      "<tf.Variable 'Adam_2/learning_rate:0' shape=() dtype=float32>\n",
      "Original Data Shape (selected):  (2500, 30)\n",
      "Original Data Shape (encoded):  (2500, 30)\n",
      "Original Data Class Distribution:  910  (true) / 1590  (false)\n",
      "(1500, 30) (1500,)\n",
      "(500, 30) (500,)\n",
      "(500, 30) (500,)\n",
      "Min Ratio:  0.37466666666666665\n",
      "Min Ratio:  0.357\n"
     ]
    },
    {
     "data": {
      "application/vnd.jupyter.widget-view+json": {
       "model_id": "62ce1bde4fbe4ed5a5e6b42538eca756",
       "version_major": 2,
       "version_minor": 0
      },
      "text/plain": [
       "restarts:   0%|          | 0/1 [00:00<?, ?it/s]"
      ]
     },
     "metadata": {},
     "output_type": "display_data"
    },
    {
     "data": {
      "application/vnd.jupyter.widget-view+json": {
       "model_id": "ee1c597e4edf4cccb5763856da4cff0d",
       "version_major": 2,
       "version_minor": 0
      },
      "text/plain": [
       "epochs:   0%|          | 0/1 [00:00<?, ?it/s]"
      ]
     },
     "metadata": {},
     "output_type": "display_data"
    },
    {
     "name": "stdout",
     "output_type": "stream",
     "text": [
      "<tf.Variable 'Adam_2/learning_rate:0' shape=() dtype=float32>\n",
      "<tf.Variable 'Adam_2/learning_rate:0' shape=() dtype=float32>\n",
      "Original Data Shape (selected):  (2500, 30)\n",
      "Original Data Shape (encoded):  (2500, 30)\n",
      "Original Data Class Distribution:  950  (true) / 1550  (false)\n",
      "(1500, 30) (1500,)\n",
      "(500, 30) (500,)\n",
      "(500, 30) (500,)\n",
      "Min Ratio:  0.39\n",
      "Min Ratio:  0.3845\n"
     ]
    },
    {
     "data": {
      "application/vnd.jupyter.widget-view+json": {
       "model_id": "06f84211571642b5b29bd03e63901a5f",
       "version_major": 2,
       "version_minor": 0
      },
      "text/plain": [
       "restarts:   0%|          | 0/1 [00:00<?, ?it/s]"
      ]
     },
     "metadata": {},
     "output_type": "display_data"
    },
    {
     "data": {
      "application/vnd.jupyter.widget-view+json": {
       "model_id": "ae40e4c7b8db4886aad1ab5b252e5eda",
       "version_major": 2,
       "version_minor": 0
      },
      "text/plain": [
       "epochs:   0%|          | 0/1 [00:00<?, ?it/s]"
      ]
     },
     "metadata": {},
     "output_type": "display_data"
    },
    {
     "name": "stdout",
     "output_type": "stream",
     "text": [
      "<tf.Variable 'Adam_2/learning_rate:0' shape=() dtype=float32>\n",
      "<tf.Variable 'Adam_2/learning_rate:0' shape=() dtype=float32>\n",
      "Original Data Shape (selected):  (2500, 30)\n",
      "Original Data Shape (encoded):  (2500, 30)\n",
      "Original Data Class Distribution:  948  (true) / 1552  (false)\n",
      "(1500, 30) (1500,)\n",
      "(500, 30) (500,)\n",
      "(500, 30) (500,)\n",
      "Min Ratio:  0.374\n",
      "Min Ratio:  0.373\n"
     ]
    },
    {
     "data": {
      "application/vnd.jupyter.widget-view+json": {
       "model_id": "b68197345dba4d6e81031547c4e4bc60",
       "version_major": 2,
       "version_minor": 0
      },
      "text/plain": [
       "restarts:   0%|          | 0/1 [00:00<?, ?it/s]"
      ]
     },
     "metadata": {},
     "output_type": "display_data"
    },
    {
     "data": {
      "application/vnd.jupyter.widget-view+json": {
       "model_id": "24d2854b71434b81b16df9bea8bc57d3",
       "version_major": 2,
       "version_minor": 0
      },
      "text/plain": [
       "epochs:   0%|          | 0/1 [00:00<?, ?it/s]"
      ]
     },
     "metadata": {},
     "output_type": "display_data"
    },
    {
     "name": "stdout",
     "output_type": "stream",
     "text": [
      "<tf.Variable 'Adam_2/learning_rate:0' shape=() dtype=float32>\n",
      "<tf.Variable 'Adam_2/learning_rate:0' shape=() dtype=float32>\n",
      "Original Data Shape (selected):  (2500, 30)\n",
      "Original Data Shape (encoded):  (2500, 30)\n",
      "Original Data Class Distribution:  613  (true) / 1887  (false)\n",
      "(1500, 30) (1500,)\n",
      "(500, 30) (500,)\n",
      "(500, 30) (500,)\n",
      "Min Ratio:  0.23266666666666666\n",
      "Min Ratio:  0.238\n"
     ]
    },
    {
     "data": {
      "application/vnd.jupyter.widget-view+json": {
       "model_id": "8d0e707db33e4e03b810bbb99de497a9",
       "version_major": 2,
       "version_minor": 0
      },
      "text/plain": [
       "restarts:   0%|          | 0/1 [00:00<?, ?it/s]"
      ]
     },
     "metadata": {},
     "output_type": "display_data"
    },
    {
     "data": {
      "application/vnd.jupyter.widget-view+json": {
       "model_id": "d5de34545098457e92ef6fe149d4300b",
       "version_major": 2,
       "version_minor": 0
      },
      "text/plain": [
       "epochs:   0%|          | 0/1 [00:00<?, ?it/s]"
      ]
     },
     "metadata": {},
     "output_type": "display_data"
    },
    {
     "name": "stdout",
     "output_type": "stream",
     "text": [
      "<tf.Variable 'Adam_2/learning_rate:0' shape=() dtype=float32>\n",
      "<tf.Variable 'Adam_2/learning_rate:0' shape=() dtype=float32>\n",
      "Original Data Shape (selected):  (2500, 30)\n",
      "Original Data Shape (encoded):  (2500, 30)\n",
      "Original Data Class Distribution:  721  (true) / 1779  (false)\n",
      "(1500, 30) (1500,)\n",
      "(500, 30) (500,)\n",
      "(500, 30) (500,)\n",
      "Min Ratio:  0.292\n",
      "Min Ratio:  0.293\n"
     ]
    },
    {
     "data": {
      "application/vnd.jupyter.widget-view+json": {
       "model_id": "ef84d87d909b46c283544f2d324b7c49",
       "version_major": 2,
       "version_minor": 0
      },
      "text/plain": [
       "restarts:   0%|          | 0/1 [00:00<?, ?it/s]"
      ]
     },
     "metadata": {},
     "output_type": "display_data"
    },
    {
     "data": {
      "application/vnd.jupyter.widget-view+json": {
       "model_id": "c478fd848f2f4f6dbaf3291d2b4cb933",
       "version_major": 2,
       "version_minor": 0
      },
      "text/plain": [
       "epochs:   0%|          | 0/1 [00:00<?, ?it/s]"
      ]
     },
     "metadata": {},
     "output_type": "display_data"
    },
    {
     "name": "stdout",
     "output_type": "stream",
     "text": [
      "<tf.Variable 'Adam_2/learning_rate:0' shape=() dtype=float32>\n",
      "<tf.Variable 'Adam_2/learning_rate:0' shape=() dtype=float32>\n",
      "Original Data Shape (selected):  (2500, 30)\n",
      "Original Data Shape (encoded):  (2500, 30)\n",
      "Original Data Class Distribution:  948  (true) / 1552  (false)\n",
      "(1500, 30) (1500,)\n",
      "(500, 30) (500,)\n",
      "(500, 30) (500,)\n",
      "Min Ratio:  0.382\n",
      "Min Ratio:  0.381\n"
     ]
    },
    {
     "data": {
      "application/vnd.jupyter.widget-view+json": {
       "model_id": "d7d4dfa6c9074690bf61abec45fa1039",
       "version_major": 2,
       "version_minor": 0
      },
      "text/plain": [
       "restarts:   0%|          | 0/1 [00:00<?, ?it/s]"
      ]
     },
     "metadata": {},
     "output_type": "display_data"
    },
    {
     "data": {
      "application/vnd.jupyter.widget-view+json": {
       "model_id": "0c78bd6250274ad2808d0e966da6c235",
       "version_major": 2,
       "version_minor": 0
      },
      "text/plain": [
       "epochs:   0%|          | 0/1 [00:00<?, ?it/s]"
      ]
     },
     "metadata": {},
     "output_type": "display_data"
    },
    {
     "name": "stdout",
     "output_type": "stream",
     "text": [
      "<tf.Variable 'Adam_2/learning_rate:0' shape=() dtype=float32>\n",
      "<tf.Variable 'Adam_2/learning_rate:0' shape=() dtype=float32>\n",
      "Original Data Shape (selected):  (2500, 30)\n",
      "Original Data Shape (encoded):  (2500, 30)\n",
      "Original Data Class Distribution:  1213  (true) / 1287  (false)\n",
      "(1500, 30) (1500,)\n",
      "(500, 30) (500,)\n",
      "(500, 30) (500,)\n",
      "Min Ratio:  0.4806666666666667\n",
      "Min Ratio:  0.487\n"
     ]
    },
    {
     "data": {
      "application/vnd.jupyter.widget-view+json": {
       "model_id": "141e0cb1786e472a919761dd77ae9c53",
       "version_major": 2,
       "version_minor": 0
      },
      "text/plain": [
       "restarts:   0%|          | 0/1 [00:00<?, ?it/s]"
      ]
     },
     "metadata": {},
     "output_type": "display_data"
    },
    {
     "data": {
      "application/vnd.jupyter.widget-view+json": {
       "model_id": "d5668bbb08c64c0bb2a8a9fa3d675167",
       "version_major": 2,
       "version_minor": 0
      },
      "text/plain": [
       "epochs:   0%|          | 0/1 [00:00<?, ?it/s]"
      ]
     },
     "metadata": {},
     "output_type": "display_data"
    },
    {
     "name": "stdout",
     "output_type": "stream",
     "text": [
      "<tf.Variable 'Adam_2/learning_rate:0' shape=() dtype=float32>\n",
      "<tf.Variable 'Adam_2/learning_rate:0' shape=() dtype=float32>\n",
      "Original Data Shape (selected):  (2500, 30)\n",
      "Original Data Shape (encoded):  (2500, 30)\n",
      "Original Data Class Distribution:  1391  (true) / 1109  (false)\n",
      "(1500, 30) (1500,)\n",
      "(500, 30) (500,)\n",
      "(500, 30) (500,)\n",
      "Min Ratio:  0.448\n",
      "Min Ratio:  0.452\n"
     ]
    },
    {
     "data": {
      "application/vnd.jupyter.widget-view+json": {
       "model_id": "9be9f5a39c2a4f718cb474d4e83a115c",
       "version_major": 2,
       "version_minor": 0
      },
      "text/plain": [
       "restarts:   0%|          | 0/1 [00:00<?, ?it/s]"
      ]
     },
     "metadata": {},
     "output_type": "display_data"
    },
    {
     "data": {
      "application/vnd.jupyter.widget-view+json": {
       "model_id": "4e34a6099c584c4bb2c2f97de100cfdf",
       "version_major": 2,
       "version_minor": 0
      },
      "text/plain": [
       "epochs:   0%|          | 0/1 [00:00<?, ?it/s]"
      ]
     },
     "metadata": {},
     "output_type": "display_data"
    },
    {
     "name": "stdout",
     "output_type": "stream",
     "text": [
      "<tf.Variable 'Adam_2/learning_rate:0' shape=() dtype=float32>\n",
      "<tf.Variable 'Adam_2/learning_rate:0' shape=() dtype=float32>\n",
      "Original Data Shape (selected):  (2500, 30)\n",
      "Original Data Shape (encoded):  (2500, 30)\n",
      "Original Data Class Distribution:  1419  (true) / 1081  (false)\n",
      "(1500, 30) (1500,)\n",
      "(500, 30) (500,)\n",
      "(500, 30) (500,)\n",
      "Min Ratio:  0.43266666666666664\n",
      "Min Ratio:  0.4265\n"
     ]
    },
    {
     "data": {
      "application/vnd.jupyter.widget-view+json": {
       "model_id": "2724d32107304962828c929e0578cfb4",
       "version_major": 2,
       "version_minor": 0
      },
      "text/plain": [
       "restarts:   0%|          | 0/1 [00:00<?, ?it/s]"
      ]
     },
     "metadata": {},
     "output_type": "display_data"
    },
    {
     "data": {
      "application/vnd.jupyter.widget-view+json": {
       "model_id": "ab4e4f675f9d4f658a8d936f4e6886b5",
       "version_major": 2,
       "version_minor": 0
      },
      "text/plain": [
       "epochs:   0%|          | 0/1 [00:00<?, ?it/s]"
      ]
     },
     "metadata": {},
     "output_type": "display_data"
    },
    {
     "name": "stdout",
     "output_type": "stream",
     "text": [
      "<tf.Variable 'Adam_2/learning_rate:0' shape=() dtype=float32>\n",
      "<tf.Variable 'Adam_2/learning_rate:0' shape=() dtype=float32>\n",
      "Original Data Shape (selected):  (2500, 30)\n",
      "Original Data Shape (encoded):  (2500, 30)\n",
      "Original Data Class Distribution:  1451  (true) / 1049  (false)\n",
      "(1500, 30) (1500,)\n",
      "(500, 30) (500,)\n",
      "(500, 30) (500,)\n",
      "Min Ratio:  0.4186666666666667\n",
      "Min Ratio:  0.4205\n"
     ]
    },
    {
     "data": {
      "application/vnd.jupyter.widget-view+json": {
       "model_id": "03355d183dd94a3b9b53cd5ea6b67c85",
       "version_major": 2,
       "version_minor": 0
      },
      "text/plain": [
       "restarts:   0%|          | 0/1 [00:00<?, ?it/s]"
      ]
     },
     "metadata": {},
     "output_type": "display_data"
    },
    {
     "data": {
      "application/vnd.jupyter.widget-view+json": {
       "model_id": "c6ea610493a24c7b9d9280ade79a04cf",
       "version_major": 2,
       "version_minor": 0
      },
      "text/plain": [
       "epochs:   0%|          | 0/1 [00:00<?, ?it/s]"
      ]
     },
     "metadata": {},
     "output_type": "display_data"
    },
    {
     "name": "stdout",
     "output_type": "stream",
     "text": [
      "<tf.Variable 'Adam_2/learning_rate:0' shape=() dtype=float32>\n",
      "<tf.Variable 'Adam_2/learning_rate:0' shape=() dtype=float32>\n",
      "Original Data Shape (selected):  (2500, 30)\n",
      "Original Data Shape (encoded):  (2500, 30)\n",
      "Original Data Class Distribution:  941  (true) / 1559  (false)\n",
      "(1500, 30) (1500,)\n",
      "(500, 30) (500,)\n",
      "(500, 30) (500,)\n",
      "Min Ratio:  0.38133333333333336\n",
      "Min Ratio:  0.3695\n"
     ]
    },
    {
     "data": {
      "application/vnd.jupyter.widget-view+json": {
       "model_id": "1a26652ae19f47a99d6785eeb55c8ae0",
       "version_major": 2,
       "version_minor": 0
      },
      "text/plain": [
       "restarts:   0%|          | 0/1 [00:00<?, ?it/s]"
      ]
     },
     "metadata": {},
     "output_type": "display_data"
    },
    {
     "data": {
      "application/vnd.jupyter.widget-view+json": {
       "model_id": "9b55047dc7124e7b96e4c628242b2f33",
       "version_major": 2,
       "version_minor": 0
      },
      "text/plain": [
       "epochs:   0%|          | 0/1 [00:00<?, ?it/s]"
      ]
     },
     "metadata": {},
     "output_type": "display_data"
    },
    {
     "name": "stdout",
     "output_type": "stream",
     "text": [
      "<tf.Variable 'Adam_2/learning_rate:0' shape=() dtype=float32>\n",
      "<tf.Variable 'Adam_2/learning_rate:0' shape=() dtype=float32>\n",
      "Original Data Shape (selected):  (2500, 30)\n",
      "Original Data Shape (encoded):  (2500, 30)\n",
      "Original Data Class Distribution:  1091  (true) / 1409  (false)\n",
      "(1500, 30) (1500,)\n",
      "(500, 30) (500,)\n",
      "(500, 30) (500,)\n",
      "Min Ratio:  0.444\n",
      "Min Ratio:  0.443\n"
     ]
    },
    {
     "data": {
      "application/vnd.jupyter.widget-view+json": {
       "model_id": "a4e0a18f1aed4ff0b512071c6714c5d7",
       "version_major": 2,
       "version_minor": 0
      },
      "text/plain": [
       "restarts:   0%|          | 0/1 [00:00<?, ?it/s]"
      ]
     },
     "metadata": {},
     "output_type": "display_data"
    },
    {
     "data": {
      "application/vnd.jupyter.widget-view+json": {
       "model_id": "d55da0c94402438dbff773079c2d7841",
       "version_major": 2,
       "version_minor": 0
      },
      "text/plain": [
       "epochs:   0%|          | 0/1 [00:00<?, ?it/s]"
      ]
     },
     "metadata": {},
     "output_type": "display_data"
    },
    {
     "name": "stdout",
     "output_type": "stream",
     "text": [
      "<tf.Variable 'Adam_2/learning_rate:0' shape=() dtype=float32>\n",
      "<tf.Variable 'Adam_2/learning_rate:0' shape=() dtype=float32>\n",
      "Original Data Shape (selected):  (2500, 30)\n",
      "Original Data Shape (encoded):  (2500, 30)\n",
      "Original Data Class Distribution:  1297  (true) / 1203  (false)\n",
      "(1500, 30) (1500,)\n",
      "(500, 30) (500,)\n",
      "(500, 30) (500,)\n",
      "Min Ratio:  0.482\n",
      "Min Ratio:  0.477\n"
     ]
    },
    {
     "data": {
      "application/vnd.jupyter.widget-view+json": {
       "model_id": "463320727098458cac71839651ca45b8",
       "version_major": 2,
       "version_minor": 0
      },
      "text/plain": [
       "restarts:   0%|          | 0/1 [00:00<?, ?it/s]"
      ]
     },
     "metadata": {},
     "output_type": "display_data"
    },
    {
     "data": {
      "application/vnd.jupyter.widget-view+json": {
       "model_id": "07510fa61d044a61a90ecde6138f2427",
       "version_major": 2,
       "version_minor": 0
      },
      "text/plain": [
       "epochs:   0%|          | 0/1 [00:00<?, ?it/s]"
      ]
     },
     "metadata": {},
     "output_type": "display_data"
    },
    {
     "name": "stdout",
     "output_type": "stream",
     "text": [
      "<tf.Variable 'Adam_2/learning_rate:0' shape=() dtype=float32>\n",
      "<tf.Variable 'Adam_2/learning_rate:0' shape=() dtype=float32>\n",
      "Original Data Shape (selected):  (2500, 30)\n",
      "Original Data Shape (encoded):  (2500, 30)\n",
      "Original Data Class Distribution:  1355  (true) / 1145  (false)\n",
      "(1500, 30) (1500,)\n",
      "(500, 30) (500,)\n",
      "(500, 30) (500,)\n",
      "Min Ratio:  0.45466666666666666\n",
      "Min Ratio:  0.457\n"
     ]
    },
    {
     "data": {
      "application/vnd.jupyter.widget-view+json": {
       "model_id": "11f743adc88d4a988834c58126239ccd",
       "version_major": 2,
       "version_minor": 0
      },
      "text/plain": [
       "restarts:   0%|          | 0/1 [00:00<?, ?it/s]"
      ]
     },
     "metadata": {},
     "output_type": "display_data"
    },
    {
     "data": {
      "application/vnd.jupyter.widget-view+json": {
       "model_id": "48d236f36f6946449d4043eaf747e49e",
       "version_major": 2,
       "version_minor": 0
      },
      "text/plain": [
       "epochs:   0%|          | 0/1 [00:00<?, ?it/s]"
      ]
     },
     "metadata": {},
     "output_type": "display_data"
    },
    {
     "name": "stdout",
     "output_type": "stream",
     "text": [
      "<tf.Variable 'Adam_2/learning_rate:0' shape=() dtype=float32>\n",
      "<tf.Variable 'Adam_2/learning_rate:0' shape=() dtype=float32>\n",
      "Original Data Shape (selected):  (2500, 30)\n",
      "Original Data Shape (encoded):  (2500, 30)\n",
      "Original Data Class Distribution:  1489  (true) / 1011  (false)\n",
      "(1500, 30) (1500,)\n",
      "(500, 30) (500,)\n",
      "(500, 30) (500,)\n",
      "Min Ratio:  0.4106666666666667\n",
      "Min Ratio:  0.408\n"
     ]
    },
    {
     "data": {
      "application/vnd.jupyter.widget-view+json": {
       "model_id": "661858b96d0b4efab2a531867275d1a9",
       "version_major": 2,
       "version_minor": 0
      },
      "text/plain": [
       "restarts:   0%|          | 0/1 [00:00<?, ?it/s]"
      ]
     },
     "metadata": {},
     "output_type": "display_data"
    },
    {
     "data": {
      "application/vnd.jupyter.widget-view+json": {
       "model_id": "df0443beb2b44417a323c703d27ab1ef",
       "version_major": 2,
       "version_minor": 0
      },
      "text/plain": [
       "epochs:   0%|          | 0/1 [00:00<?, ?it/s]"
      ]
     },
     "metadata": {},
     "output_type": "display_data"
    },
    {
     "name": "stdout",
     "output_type": "stream",
     "text": [
      "<tf.Variable 'Adam_2/learning_rate:0' shape=() dtype=float32>\n",
      "<tf.Variable 'Adam_2/learning_rate:0' shape=() dtype=float32>\n",
      "Original Data Shape (selected):  (2500, 30)\n",
      "Original Data Shape (encoded):  (2500, 30)\n",
      "Original Data Class Distribution:  1473  (true) / 1027  (false)\n",
      "(1500, 30) (1500,)\n",
      "(500, 30) (500,)\n",
      "(500, 30) (500,)\n",
      "Min Ratio:  0.4086666666666667\n",
      "Min Ratio:  0.418\n"
     ]
    },
    {
     "data": {
      "application/vnd.jupyter.widget-view+json": {
       "model_id": "4bdb61e889274accbcfc2122d14737d2",
       "version_major": 2,
       "version_minor": 0
      },
      "text/plain": [
       "restarts:   0%|          | 0/1 [00:00<?, ?it/s]"
      ]
     },
     "metadata": {},
     "output_type": "display_data"
    },
    {
     "data": {
      "application/vnd.jupyter.widget-view+json": {
       "model_id": "a080a094a4674a2f8fe826618443f823",
       "version_major": 2,
       "version_minor": 0
      },
      "text/plain": [
       "epochs:   0%|          | 0/1 [00:00<?, ?it/s]"
      ]
     },
     "metadata": {},
     "output_type": "display_data"
    },
    {
     "name": "stdout",
     "output_type": "stream",
     "text": [
      "<tf.Variable 'Adam_2/learning_rate:0' shape=() dtype=float32>\n",
      "<tf.Variable 'Adam_2/learning_rate:0' shape=() dtype=float32>\n",
      "Original Data Shape (selected):  (2500, 30)\n",
      "Original Data Shape (encoded):  (2500, 30)\n",
      "Original Data Class Distribution:  1440  (true) / 1060  (false)\n",
      "(1500, 30) (1500,)\n",
      "(500, 30) (500,)\n",
      "(500, 30) (500,)\n",
      "Min Ratio:  0.4206666666666667\n",
      "Min Ratio:  0.422\n"
     ]
    },
    {
     "data": {
      "application/vnd.jupyter.widget-view+json": {
       "model_id": "eb25496ab2a64dca98be84b31014c6eb",
       "version_major": 2,
       "version_minor": 0
      },
      "text/plain": [
       "restarts:   0%|          | 0/1 [00:00<?, ?it/s]"
      ]
     },
     "metadata": {},
     "output_type": "display_data"
    },
    {
     "data": {
      "application/vnd.jupyter.widget-view+json": {
       "model_id": "2db6313e9ee5484e9a757fedb499f4cb",
       "version_major": 2,
       "version_minor": 0
      },
      "text/plain": [
       "epochs:   0%|          | 0/1 [00:00<?, ?it/s]"
      ]
     },
     "metadata": {},
     "output_type": "display_data"
    },
    {
     "name": "stdout",
     "output_type": "stream",
     "text": [
      "<tf.Variable 'Adam_2/learning_rate:0' shape=() dtype=float32>\n",
      "<tf.Variable 'Adam_2/learning_rate:0' shape=() dtype=float32>\n",
      "Original Data Shape (selected):  (2500, 30)\n",
      "Original Data Shape (encoded):  (2500, 30)\n",
      "Original Data Class Distribution:  864  (true) / 1636  (false)\n",
      "(1500, 30) (1500,)\n",
      "(500, 30) (500,)\n",
      "(500, 30) (500,)\n",
      "Min Ratio:  0.336\n",
      "Min Ratio:  0.343\n"
     ]
    },
    {
     "data": {
      "application/vnd.jupyter.widget-view+json": {
       "model_id": "dfe6f9dd342d4bc080d9b160c9353e18",
       "version_major": 2,
       "version_minor": 0
      },
      "text/plain": [
       "restarts:   0%|          | 0/1 [00:00<?, ?it/s]"
      ]
     },
     "metadata": {},
     "output_type": "display_data"
    },
    {
     "data": {
      "application/vnd.jupyter.widget-view+json": {
       "model_id": "bddc9cfcdbc246c5b8491e491c13e9b7",
       "version_major": 2,
       "version_minor": 0
      },
      "text/plain": [
       "epochs:   0%|          | 0/1 [00:00<?, ?it/s]"
      ]
     },
     "metadata": {},
     "output_type": "display_data"
    },
    {
     "name": "stdout",
     "output_type": "stream",
     "text": [
      "<tf.Variable 'Adam_2/learning_rate:0' shape=() dtype=float32>\n",
      "<tf.Variable 'Adam_2/learning_rate:0' shape=() dtype=float32>\n",
      "Original Data Shape (selected):  (2500, 30)\n",
      "Original Data Shape (encoded):  (2500, 30)\n",
      "Original Data Class Distribution:  834  (true) / 1666  (false)\n",
      "(1500, 30) (1500,)\n",
      "(500, 30) (500,)\n",
      "(500, 30) (500,)\n",
      "Min Ratio:  0.3393333333333333\n",
      "Min Ratio:  0.339\n"
     ]
    },
    {
     "data": {
      "application/vnd.jupyter.widget-view+json": {
       "model_id": "593b0739833b4089bb646551453c5369",
       "version_major": 2,
       "version_minor": 0
      },
      "text/plain": [
       "restarts:   0%|          | 0/1 [00:00<?, ?it/s]"
      ]
     },
     "metadata": {},
     "output_type": "display_data"
    },
    {
     "data": {
      "application/vnd.jupyter.widget-view+json": {
       "model_id": "bc8b7bda300d4581b336c280f9c05150",
       "version_major": 2,
       "version_minor": 0
      },
      "text/plain": [
       "epochs:   0%|          | 0/1 [00:00<?, ?it/s]"
      ]
     },
     "metadata": {},
     "output_type": "display_data"
    },
    {
     "name": "stdout",
     "output_type": "stream",
     "text": [
      "<tf.Variable 'Adam_2/learning_rate:0' shape=() dtype=float32>\n",
      "<tf.Variable 'Adam_2/learning_rate:0' shape=() dtype=float32>\n",
      "Original Data Shape (selected):  (2500, 30)\n",
      "Original Data Shape (encoded):  (2500, 30)\n",
      "Original Data Class Distribution:  1029  (true) / 1471  (false)\n",
      "(1500, 30) (1500,)\n",
      "(500, 30) (500,)\n",
      "(500, 30) (500,)\n",
      "Min Ratio:  0.3993333333333333\n",
      "Min Ratio:  0.402\n"
     ]
    },
    {
     "data": {
      "application/vnd.jupyter.widget-view+json": {
       "model_id": "58fdbcad52154dc0bebf3dba2eea8921",
       "version_major": 2,
       "version_minor": 0
      },
      "text/plain": [
       "restarts:   0%|          | 0/1 [00:00<?, ?it/s]"
      ]
     },
     "metadata": {},
     "output_type": "display_data"
    },
    {
     "data": {
      "application/vnd.jupyter.widget-view+json": {
       "model_id": "1a8950ae62514aabac34fc5cf73d2979",
       "version_major": 2,
       "version_minor": 0
      },
      "text/plain": [
       "epochs:   0%|          | 0/1 [00:00<?, ?it/s]"
      ]
     },
     "metadata": {},
     "output_type": "display_data"
    },
    {
     "name": "stdout",
     "output_type": "stream",
     "text": [
      "<tf.Variable 'Adam_2/learning_rate:0' shape=() dtype=float32>\n",
      "<tf.Variable 'Adam_2/learning_rate:0' shape=() dtype=float32>\n",
      "Original Data Shape (selected):  (2500, 30)\n",
      "Original Data Shape (encoded):  (2500, 30)\n",
      "Original Data Class Distribution:  1076  (true) / 1424  (false)\n",
      "(1500, 30) (1500,)\n",
      "(500, 30) (500,)\n",
      "(500, 30) (500,)\n",
      "Min Ratio:  0.41733333333333333\n",
      "Min Ratio:  0.4235\n"
     ]
    },
    {
     "data": {
      "application/vnd.jupyter.widget-view+json": {
       "model_id": "760d8160800d40a38f3f08fea10c456b",
       "version_major": 2,
       "version_minor": 0
      },
      "text/plain": [
       "restarts:   0%|          | 0/1 [00:00<?, ?it/s]"
      ]
     },
     "metadata": {},
     "output_type": "display_data"
    },
    {
     "data": {
      "application/vnd.jupyter.widget-view+json": {
       "model_id": "fdcdd50b079045dba122f1a78db89b3b",
       "version_major": 2,
       "version_minor": 0
      },
      "text/plain": [
       "epochs:   0%|          | 0/1 [00:00<?, ?it/s]"
      ]
     },
     "metadata": {},
     "output_type": "display_data"
    },
    {
     "name": "stdout",
     "output_type": "stream",
     "text": [
      "<tf.Variable 'Adam_2/learning_rate:0' shape=() dtype=float32>\n",
      "<tf.Variable 'Adam_2/learning_rate:0' shape=() dtype=float32>\n",
      "Original Data Shape (selected):  (2500, 30)\n",
      "Original Data Shape (encoded):  (2500, 30)\n",
      "Original Data Class Distribution:  1154  (true) / 1346  (false)\n",
      "(1500, 30) (1500,)\n",
      "(500, 30) (500,)\n",
      "(500, 30) (500,)\n",
      "Min Ratio:  0.4573333333333333\n",
      "Min Ratio:  0.4585\n"
     ]
    },
    {
     "data": {
      "application/vnd.jupyter.widget-view+json": {
       "model_id": "8abaed4ded1845739626b6d20ff18450",
       "version_major": 2,
       "version_minor": 0
      },
      "text/plain": [
       "restarts:   0%|          | 0/1 [00:00<?, ?it/s]"
      ]
     },
     "metadata": {},
     "output_type": "display_data"
    },
    {
     "data": {
      "application/vnd.jupyter.widget-view+json": {
       "model_id": "3ce6b07d0a334e0c8ea34e56e56e2f1e",
       "version_major": 2,
       "version_minor": 0
      },
      "text/plain": [
       "epochs:   0%|          | 0/1 [00:00<?, ?it/s]"
      ]
     },
     "metadata": {},
     "output_type": "display_data"
    },
    {
     "name": "stdout",
     "output_type": "stream",
     "text": [
      "<tf.Variable 'Adam_2/learning_rate:0' shape=() dtype=float32>\n",
      "<tf.Variable 'Adam_2/learning_rate:0' shape=() dtype=float32>\n",
      "Original Data Shape (selected):  (2500, 30)\n",
      "Original Data Shape (encoded):  (2500, 30)\n",
      "Original Data Class Distribution:  1197  (true) / 1303  (false)\n",
      "(1500, 30) (1500,)\n",
      "(500, 30) (500,)\n",
      "(500, 30) (500,)\n",
      "Min Ratio:  0.48533333333333334\n",
      "Min Ratio:  0.478\n"
     ]
    },
    {
     "data": {
      "application/vnd.jupyter.widget-view+json": {
       "model_id": "563d454e43a1401daa98b00100325b11",
       "version_major": 2,
       "version_minor": 0
      },
      "text/plain": [
       "restarts:   0%|          | 0/1 [00:00<?, ?it/s]"
      ]
     },
     "metadata": {},
     "output_type": "display_data"
    },
    {
     "data": {
      "application/vnd.jupyter.widget-view+json": {
       "model_id": "96900a42999d4252a14577047f3044c7",
       "version_major": 2,
       "version_minor": 0
      },
      "text/plain": [
       "epochs:   0%|          | 0/1 [00:00<?, ?it/s]"
      ]
     },
     "metadata": {},
     "output_type": "display_data"
    },
    {
     "name": "stdout",
     "output_type": "stream",
     "text": [
      "<tf.Variable 'Adam_2/learning_rate:0' shape=() dtype=float32>\n",
      "<tf.Variable 'Adam_2/learning_rate:0' shape=() dtype=float32>\n",
      "Original Data Shape (selected):  (2500, 30)\n",
      "Original Data Shape (encoded):  (2500, 30)\n",
      "Original Data Class Distribution:  1204  (true) / 1296  (false)\n",
      "(1500, 30) (1500,)\n",
      "(500, 30) (500,)\n",
      "(500, 30) (500,)\n",
      "Min Ratio:  0.4693333333333333\n",
      "Min Ratio:  0.479\n"
     ]
    },
    {
     "data": {
      "application/vnd.jupyter.widget-view+json": {
       "model_id": "f707bf1d2fe54ba68ee73f615639dee7",
       "version_major": 2,
       "version_minor": 0
      },
      "text/plain": [
       "restarts:   0%|          | 0/1 [00:00<?, ?it/s]"
      ]
     },
     "metadata": {},
     "output_type": "display_data"
    },
    {
     "data": {
      "application/vnd.jupyter.widget-view+json": {
       "model_id": "cd9e34687d7d4577b240acf4875563b2",
       "version_major": 2,
       "version_minor": 0
      },
      "text/plain": [
       "epochs:   0%|          | 0/1 [00:00<?, ?it/s]"
      ]
     },
     "metadata": {},
     "output_type": "display_data"
    },
    {
     "name": "stdout",
     "output_type": "stream",
     "text": [
      "<tf.Variable 'Adam_2/learning_rate:0' shape=() dtype=float32>\n",
      "<tf.Variable 'Adam_2/learning_rate:0' shape=() dtype=float32>\n",
      "Original Data Shape (selected):  (2500, 30)\n",
      "Original Data Shape (encoded):  (2500, 30)\n",
      "Original Data Class Distribution:  709  (true) / 1791  (false)\n",
      "(1500, 30) (1500,)\n",
      "(500, 30) (500,)\n",
      "(500, 30) (500,)\n",
      "Min Ratio:  0.2833333333333333\n",
      "Min Ratio:  0.2825\n"
     ]
    },
    {
     "data": {
      "application/vnd.jupyter.widget-view+json": {
       "model_id": "814ddef03ed2463fa9552836caf971df",
       "version_major": 2,
       "version_minor": 0
      },
      "text/plain": [
       "restarts:   0%|          | 0/1 [00:00<?, ?it/s]"
      ]
     },
     "metadata": {},
     "output_type": "display_data"
    },
    {
     "data": {
      "application/vnd.jupyter.widget-view+json": {
       "model_id": "45b64e5fb5bf4437bab485d72a006ec6",
       "version_major": 2,
       "version_minor": 0
      },
      "text/plain": [
       "epochs:   0%|          | 0/1 [00:00<?, ?it/s]"
      ]
     },
     "metadata": {},
     "output_type": "display_data"
    },
    {
     "name": "stdout",
     "output_type": "stream",
     "text": [
      "<tf.Variable 'Adam_2/learning_rate:0' shape=() dtype=float32>\n",
      "<tf.Variable 'Adam_2/learning_rate:0' shape=() dtype=float32>\n",
      "Original Data Shape (selected):  (2500, 30)\n",
      "Original Data Shape (encoded):  (2500, 30)\n",
      "Original Data Class Distribution:  754  (true) / 1746  (false)\n",
      "(1500, 30) (1500,)\n",
      "(500, 30) (500,)\n",
      "(500, 30) (500,)\n",
      "Min Ratio:  0.2846666666666667\n",
      "Min Ratio:  0.2895\n"
     ]
    },
    {
     "data": {
      "application/vnd.jupyter.widget-view+json": {
       "model_id": "035580f0adab4e22a5f9ac9b2149490d",
       "version_major": 2,
       "version_minor": 0
      },
      "text/plain": [
       "restarts:   0%|          | 0/1 [00:00<?, ?it/s]"
      ]
     },
     "metadata": {},
     "output_type": "display_data"
    },
    {
     "data": {
      "application/vnd.jupyter.widget-view+json": {
       "model_id": "3ec4db9c7db14435a938a52338007695",
       "version_major": 2,
       "version_minor": 0
      },
      "text/plain": [
       "epochs:   0%|          | 0/1 [00:00<?, ?it/s]"
      ]
     },
     "metadata": {},
     "output_type": "display_data"
    },
    {
     "name": "stdout",
     "output_type": "stream",
     "text": [
      "<tf.Variable 'Adam_2/learning_rate:0' shape=() dtype=float32>\n",
      "<tf.Variable 'Adam_2/learning_rate:0' shape=() dtype=float32>\n",
      "Original Data Shape (selected):  (2500, 30)\n",
      "Original Data Shape (encoded):  (2500, 30)\n",
      "Original Data Class Distribution:  973  (true) / 1527  (false)\n",
      "(1500, 30) (1500,)\n",
      "(500, 30) (500,)\n",
      "(500, 30) (500,)\n",
      "Min Ratio:  0.392\n",
      "Min Ratio:  0.3865\n"
     ]
    },
    {
     "data": {
      "application/vnd.jupyter.widget-view+json": {
       "model_id": "ef832fc43d4042ee9d8bd2a64475adae",
       "version_major": 2,
       "version_minor": 0
      },
      "text/plain": [
       "restarts:   0%|          | 0/1 [00:00<?, ?it/s]"
      ]
     },
     "metadata": {},
     "output_type": "display_data"
    },
    {
     "data": {
      "application/vnd.jupyter.widget-view+json": {
       "model_id": "ca71d03758e34a288337c5dae3434293",
       "version_major": 2,
       "version_minor": 0
      },
      "text/plain": [
       "epochs:   0%|          | 0/1 [00:00<?, ?it/s]"
      ]
     },
     "metadata": {},
     "output_type": "display_data"
    },
    {
     "name": "stdout",
     "output_type": "stream",
     "text": [
      "<tf.Variable 'Adam_2/learning_rate:0' shape=() dtype=float32>\n",
      "<tf.Variable 'Adam_2/learning_rate:0' shape=() dtype=float32>\n",
      "Original Data Shape (selected):  (2500, 30)\n",
      "Original Data Shape (encoded):  (2500, 30)\n",
      "Original Data Class Distribution:  1165  (true) / 1335  (false)\n",
      "(1500, 30) (1500,)\n",
      "(500, 30) (500,)\n",
      "(500, 30) (500,)\n",
      "Min Ratio:  0.4786666666666667\n",
      "Min Ratio:  0.4765\n"
     ]
    },
    {
     "data": {
      "application/vnd.jupyter.widget-view+json": {
       "model_id": "e3910e04e73746698a1864a74769a1f9",
       "version_major": 2,
       "version_minor": 0
      },
      "text/plain": [
       "restarts:   0%|          | 0/1 [00:00<?, ?it/s]"
      ]
     },
     "metadata": {},
     "output_type": "display_data"
    },
    {
     "data": {
      "application/vnd.jupyter.widget-view+json": {
       "model_id": "72349bb0c2ea403b82f908d3fbfe6da4",
       "version_major": 2,
       "version_minor": 0
      },
      "text/plain": [
       "epochs:   0%|          | 0/1 [00:00<?, ?it/s]"
      ]
     },
     "metadata": {},
     "output_type": "display_data"
    },
    {
     "name": "stdout",
     "output_type": "stream",
     "text": [
      "<tf.Variable 'Adam_2/learning_rate:0' shape=() dtype=float32>\n",
      "<tf.Variable 'Adam_2/learning_rate:0' shape=() dtype=float32>\n",
      "Original Data Shape (selected):  (2500, 30)\n",
      "Original Data Shape (encoded):  (2500, 30)\n",
      "Original Data Class Distribution:  1279  (true) / 1221  (false)\n",
      "(1500, 30) (1500,)\n",
      "(500, 30) (500,)\n",
      "(500, 30) (500,)\n",
      "Min Ratio:  0.4866666666666667\n",
      "Min Ratio:  0.489\n"
     ]
    },
    {
     "data": {
      "application/vnd.jupyter.widget-view+json": {
       "model_id": "4c67ab008bf8460ab73838ef64f8f7c5",
       "version_major": 2,
       "version_minor": 0
      },
      "text/plain": [
       "restarts:   0%|          | 0/1 [00:00<?, ?it/s]"
      ]
     },
     "metadata": {},
     "output_type": "display_data"
    },
    {
     "data": {
      "application/vnd.jupyter.widget-view+json": {
       "model_id": "aa8d533b65804608b99e906bd7d5f3d7",
       "version_major": 2,
       "version_minor": 0
      },
      "text/plain": [
       "epochs:   0%|          | 0/1 [00:00<?, ?it/s]"
      ]
     },
     "metadata": {},
     "output_type": "display_data"
    },
    {
     "name": "stdout",
     "output_type": "stream",
     "text": [
      "<tf.Variable 'Adam_2/learning_rate:0' shape=() dtype=float32>\n",
      "<tf.Variable 'Adam_2/learning_rate:0' shape=() dtype=float32>\n",
      "Original Data Shape (selected):  (2500, 30)\n",
      "Original Data Shape (encoded):  (2500, 30)\n",
      "Original Data Class Distribution:  1326  (true) / 1174  (false)\n",
      "(1500, 30) (1500,)\n",
      "(500, 30) (500,)\n",
      "(500, 30) (500,)\n",
      "Min Ratio:  0.476\n",
      "Min Ratio:  0.464\n"
     ]
    },
    {
     "data": {
      "application/vnd.jupyter.widget-view+json": {
       "model_id": "a3d9a6c10c9b42388f3197929d865c2a",
       "version_major": 2,
       "version_minor": 0
      },
      "text/plain": [
       "restarts:   0%|          | 0/1 [00:00<?, ?it/s]"
      ]
     },
     "metadata": {},
     "output_type": "display_data"
    },
    {
     "data": {
      "application/vnd.jupyter.widget-view+json": {
       "model_id": "c8eefc0d26274e8297830cfd082e4ca6",
       "version_major": 2,
       "version_minor": 0
      },
      "text/plain": [
       "epochs:   0%|          | 0/1 [00:00<?, ?it/s]"
      ]
     },
     "metadata": {},
     "output_type": "display_data"
    },
    {
     "name": "stdout",
     "output_type": "stream",
     "text": [
      "<tf.Variable 'Adam_2/learning_rate:0' shape=() dtype=float32>\n",
      "<tf.Variable 'Adam_2/learning_rate:0' shape=() dtype=float32>\n",
      "Original Data Shape (selected):  (2500, 30)\n",
      "Original Data Shape (encoded):  (2500, 30)\n",
      "Original Data Class Distribution:  1369  (true) / 1131  (false)\n",
      "(1500, 30) (1500,)\n",
      "(500, 30) (500,)\n",
      "(500, 30) (500,)\n",
      "Min Ratio:  0.438\n",
      "Min Ratio:  0.4405\n"
     ]
    },
    {
     "data": {
      "application/vnd.jupyter.widget-view+json": {
       "model_id": "f640a249e05e4f26900cf20dae769a1b",
       "version_major": 2,
       "version_minor": 0
      },
      "text/plain": [
       "restarts:   0%|          | 0/1 [00:00<?, ?it/s]"
      ]
     },
     "metadata": {},
     "output_type": "display_data"
    },
    {
     "data": {
      "application/vnd.jupyter.widget-view+json": {
       "model_id": "a38977eb86494f048980ae30fc805b96",
       "version_major": 2,
       "version_minor": 0
      },
      "text/plain": [
       "epochs:   0%|          | 0/1 [00:00<?, ?it/s]"
      ]
     },
     "metadata": {},
     "output_type": "display_data"
    },
    {
     "name": "stdout",
     "output_type": "stream",
     "text": [
      "<tf.Variable 'Adam_2/learning_rate:0' shape=() dtype=float32>\n",
      "<tf.Variable 'Adam_2/learning_rate:0' shape=() dtype=float32>\n",
      "Original Data Shape (selected):  (2500, 30)\n",
      "Original Data Shape (encoded):  (2500, 30)\n",
      "Original Data Class Distribution:  856  (true) / 1644  (false)\n",
      "(1500, 30) (1500,)\n",
      "(500, 30) (500,)\n",
      "(500, 30) (500,)\n",
      "Min Ratio:  0.3426666666666667\n",
      "Min Ratio:  0.3415\n"
     ]
    },
    {
     "data": {
      "application/vnd.jupyter.widget-view+json": {
       "model_id": "ab562207d5a94abe974ac7809248cc45",
       "version_major": 2,
       "version_minor": 0
      },
      "text/plain": [
       "restarts:   0%|          | 0/1 [00:00<?, ?it/s]"
      ]
     },
     "metadata": {},
     "output_type": "display_data"
    },
    {
     "data": {
      "application/vnd.jupyter.widget-view+json": {
       "model_id": "20f26c7b1adf4ab7b22523afbbf351a2",
       "version_major": 2,
       "version_minor": 0
      },
      "text/plain": [
       "epochs:   0%|          | 0/1 [00:00<?, ?it/s]"
      ]
     },
     "metadata": {},
     "output_type": "display_data"
    },
    {
     "name": "stdout",
     "output_type": "stream",
     "text": [
      "<tf.Variable 'Adam_2/learning_rate:0' shape=() dtype=float32>\n",
      "<tf.Variable 'Adam_2/learning_rate:0' shape=() dtype=float32>\n",
      "Original Data Shape (selected):  (2500, 30)\n",
      "Original Data Shape (encoded):  (2500, 30)\n",
      "Original Data Class Distribution:  867  (true) / 1633  (false)\n",
      "(1500, 30) (1500,)\n",
      "(500, 30) (500,)\n",
      "(500, 30) (500,)\n",
      "Min Ratio:  0.3506666666666667\n",
      "Min Ratio:  0.349\n"
     ]
    },
    {
     "data": {
      "application/vnd.jupyter.widget-view+json": {
       "model_id": "398f3350693642f6863f91fb54a5499e",
       "version_major": 2,
       "version_minor": 0
      },
      "text/plain": [
       "restarts:   0%|          | 0/1 [00:00<?, ?it/s]"
      ]
     },
     "metadata": {},
     "output_type": "display_data"
    },
    {
     "data": {
      "application/vnd.jupyter.widget-view+json": {
       "model_id": "7630efd519a449728fece54f27fc14aa",
       "version_major": 2,
       "version_minor": 0
      },
      "text/plain": [
       "epochs:   0%|          | 0/1 [00:00<?, ?it/s]"
      ]
     },
     "metadata": {},
     "output_type": "display_data"
    },
    {
     "name": "stdout",
     "output_type": "stream",
     "text": [
      "<tf.Variable 'Adam_2/learning_rate:0' shape=() dtype=float32>\n",
      "<tf.Variable 'Adam_2/learning_rate:0' shape=() dtype=float32>\n",
      "Original Data Shape (selected):  (2500, 30)\n",
      "Original Data Shape (encoded):  (2500, 30)\n",
      "Original Data Class Distribution:  1173  (true) / 1327  (false)\n",
      "(1500, 30) (1500,)\n",
      "(500, 30) (500,)\n",
      "(500, 30) (500,)\n",
      "Min Ratio:  0.464\n",
      "Min Ratio:  0.469\n"
     ]
    },
    {
     "data": {
      "application/vnd.jupyter.widget-view+json": {
       "model_id": "ccf00bb270e240e5865e8021d81e0922",
       "version_major": 2,
       "version_minor": 0
      },
      "text/plain": [
       "restarts:   0%|          | 0/1 [00:00<?, ?it/s]"
      ]
     },
     "metadata": {},
     "output_type": "display_data"
    },
    {
     "data": {
      "application/vnd.jupyter.widget-view+json": {
       "model_id": "2788118a25264872bd6d70e06b582451",
       "version_major": 2,
       "version_minor": 0
      },
      "text/plain": [
       "epochs:   0%|          | 0/1 [00:00<?, ?it/s]"
      ]
     },
     "metadata": {},
     "output_type": "display_data"
    },
    {
     "name": "stdout",
     "output_type": "stream",
     "text": [
      "<tf.Variable 'Adam_2/learning_rate:0' shape=() dtype=float32>\n",
      "<tf.Variable 'Adam_2/learning_rate:0' shape=() dtype=float32>\n",
      "Original Data Shape (selected):  (2500, 30)\n",
      "Original Data Shape (encoded):  (2500, 30)\n",
      "Original Data Class Distribution:  1334  (true) / 1166  (false)\n",
      "(1500, 30) (1500,)\n",
      "(500, 30) (500,)\n",
      "(500, 30) (500,)\n",
      "Min Ratio:  0.45\n",
      "Min Ratio:  0.4525\n"
     ]
    },
    {
     "data": {
      "application/vnd.jupyter.widget-view+json": {
       "model_id": "c7dfcc0802d84c078e0830df0be7ea36",
       "version_major": 2,
       "version_minor": 0
      },
      "text/plain": [
       "restarts:   0%|          | 0/1 [00:00<?, ?it/s]"
      ]
     },
     "metadata": {},
     "output_type": "display_data"
    },
    {
     "data": {
      "application/vnd.jupyter.widget-view+json": {
       "model_id": "89e1e204df104df48ea930aef7b746d1",
       "version_major": 2,
       "version_minor": 0
      },
      "text/plain": [
       "epochs:   0%|          | 0/1 [00:00<?, ?it/s]"
      ]
     },
     "metadata": {},
     "output_type": "display_data"
    },
    {
     "name": "stdout",
     "output_type": "stream",
     "text": [
      "<tf.Variable 'Adam_2/learning_rate:0' shape=() dtype=float32>\n",
      "<tf.Variable 'Adam_2/learning_rate:0' shape=() dtype=float32>\n",
      "Original Data Shape (selected):  (2500, 30)\n",
      "Original Data Shape (encoded):  (2500, 30)\n",
      "Original Data Class Distribution:  1509  (true) / 991  (false)\n",
      "(1500, 30) (1500,)\n",
      "(500, 30) (500,)\n",
      "(500, 30) (500,)\n",
      "Min Ratio:  0.39666666666666667\n",
      "Min Ratio:  0.392\n"
     ]
    },
    {
     "data": {
      "application/vnd.jupyter.widget-view+json": {
       "model_id": "f9393cd83f81457ba25e8bbfb31b442d",
       "version_major": 2,
       "version_minor": 0
      },
      "text/plain": [
       "restarts:   0%|          | 0/1 [00:00<?, ?it/s]"
      ]
     },
     "metadata": {},
     "output_type": "display_data"
    },
    {
     "data": {
      "application/vnd.jupyter.widget-view+json": {
       "model_id": "c3c23cb2295b440eb4bb9b361a958f7a",
       "version_major": 2,
       "version_minor": 0
      },
      "text/plain": [
       "epochs:   0%|          | 0/1 [00:00<?, ?it/s]"
      ]
     },
     "metadata": {},
     "output_type": "display_data"
    },
    {
     "name": "stdout",
     "output_type": "stream",
     "text": [
      "<tf.Variable 'Adam_2/learning_rate:0' shape=() dtype=float32>\n",
      "<tf.Variable 'Adam_2/learning_rate:0' shape=() dtype=float32>\n",
      "Original Data Shape (selected):  (2500, 30)\n",
      "Original Data Shape (encoded):  (2500, 30)\n",
      "Original Data Class Distribution:  1637  (true) / 863  (false)\n",
      "(1500, 30) (1500,)\n",
      "(500, 30) (500,)\n",
      "(500, 30) (500,)\n",
      "Min Ratio:  0.3393333333333333\n",
      "Min Ratio:  0.3385\n"
     ]
    },
    {
     "data": {
      "application/vnd.jupyter.widget-view+json": {
       "model_id": "4142e74031ca4651bd57a54d30c22638",
       "version_major": 2,
       "version_minor": 0
      },
      "text/plain": [
       "restarts:   0%|          | 0/1 [00:00<?, ?it/s]"
      ]
     },
     "metadata": {},
     "output_type": "display_data"
    },
    {
     "data": {
      "application/vnd.jupyter.widget-view+json": {
       "model_id": "043930f793a745428f00cb59e38be07d",
       "version_major": 2,
       "version_minor": 0
      },
      "text/plain": [
       "epochs:   0%|          | 0/1 [00:00<?, ?it/s]"
      ]
     },
     "metadata": {},
     "output_type": "display_data"
    },
    {
     "name": "stdout",
     "output_type": "stream",
     "text": [
      "<tf.Variable 'Adam_2/learning_rate:0' shape=() dtype=float32>\n",
      "<tf.Variable 'Adam_2/learning_rate:0' shape=() dtype=float32>\n",
      "Original Data Shape (selected):  (2500, 30)\n",
      "Original Data Shape (encoded):  (2500, 30)\n",
      "Original Data Class Distribution:  1697  (true) / 803  (false)\n",
      "(1500, 30) (1500,)\n",
      "(500, 30) (500,)\n",
      "(500, 30) (500,)\n",
      "Min Ratio:  0.31133333333333335\n",
      "Min Ratio:  0.323\n"
     ]
    },
    {
     "data": {
      "application/vnd.jupyter.widget-view+json": {
       "model_id": "b0c6f9dc6b6a48d8a8c717d0efba70f8",
       "version_major": 2,
       "version_minor": 0
      },
      "text/plain": [
       "restarts:   0%|          | 0/1 [00:00<?, ?it/s]"
      ]
     },
     "metadata": {},
     "output_type": "display_data"
    },
    {
     "data": {
      "application/vnd.jupyter.widget-view+json": {
       "model_id": "42dc21f4788b407ab066ac74947eb6ba",
       "version_major": 2,
       "version_minor": 0
      },
      "text/plain": [
       "epochs:   0%|          | 0/1 [00:00<?, ?it/s]"
      ]
     },
     "metadata": {},
     "output_type": "display_data"
    },
    {
     "name": "stdout",
     "output_type": "stream",
     "text": [
      "<tf.Variable 'Adam_2/learning_rate:0' shape=() dtype=float32>\n",
      "<tf.Variable 'Adam_2/learning_rate:0' shape=() dtype=float32>\n",
      "Original Data Shape (selected):  (2500, 30)\n",
      "Original Data Shape (encoded):  (2500, 30)\n",
      "Original Data Class Distribution:  1372  (true) / 1128  (false)\n",
      "(1500, 30) (1500,)\n",
      "(500, 30) (500,)\n",
      "(500, 30) (500,)\n",
      "Min Ratio:  0.44133333333333336\n",
      "Min Ratio:  0.4455\n"
     ]
    },
    {
     "data": {
      "application/vnd.jupyter.widget-view+json": {
       "model_id": "f503d2a379b0427592abed7e45078947",
       "version_major": 2,
       "version_minor": 0
      },
      "text/plain": [
       "restarts:   0%|          | 0/1 [00:00<?, ?it/s]"
      ]
     },
     "metadata": {},
     "output_type": "display_data"
    },
    {
     "data": {
      "application/vnd.jupyter.widget-view+json": {
       "model_id": "2cedea89ae244ff9ab02584474f62e39",
       "version_major": 2,
       "version_minor": 0
      },
      "text/plain": [
       "epochs:   0%|          | 0/1 [00:00<?, ?it/s]"
      ]
     },
     "metadata": {},
     "output_type": "display_data"
    },
    {
     "name": "stdout",
     "output_type": "stream",
     "text": [
      "<tf.Variable 'Adam_2/learning_rate:0' shape=() dtype=float32>\n",
      "<tf.Variable 'Adam_2/learning_rate:0' shape=() dtype=float32>\n",
      "Original Data Shape (selected):  (2500, 30)\n",
      "Original Data Shape (encoded):  (2500, 30)\n",
      "Original Data Class Distribution:  873  (true) / 1627  (false)\n",
      "(1500, 30) (1500,)\n",
      "(500, 30) (500,)\n",
      "(500, 30) (500,)\n",
      "Min Ratio:  0.36\n",
      "Min Ratio:  0.351\n"
     ]
    },
    {
     "data": {
      "application/vnd.jupyter.widget-view+json": {
       "model_id": "c2bb78f5b6f547759516acf16011837d",
       "version_major": 2,
       "version_minor": 0
      },
      "text/plain": [
       "restarts:   0%|          | 0/1 [00:00<?, ?it/s]"
      ]
     },
     "metadata": {},
     "output_type": "display_data"
    },
    {
     "data": {
      "application/vnd.jupyter.widget-view+json": {
       "model_id": "ef280d6aa4f04bf3b1d95d2eb497a3ed",
       "version_major": 2,
       "version_minor": 0
      },
      "text/plain": [
       "epochs:   0%|          | 0/1 [00:00<?, ?it/s]"
      ]
     },
     "metadata": {},
     "output_type": "display_data"
    },
    {
     "name": "stdout",
     "output_type": "stream",
     "text": [
      "<tf.Variable 'Adam_2/learning_rate:0' shape=() dtype=float32>\n",
      "<tf.Variable 'Adam_2/learning_rate:0' shape=() dtype=float32>\n",
      "Original Data Shape (selected):  (2500, 30)\n",
      "Original Data Shape (encoded):  (2500, 30)\n",
      "Original Data Class Distribution:  1185  (true) / 1315  (false)\n",
      "(1500, 30) (1500,)\n",
      "(500, 30) (500,)\n",
      "(500, 30) (500,)\n",
      "Min Ratio:  0.474\n",
      "Min Ratio:  0.472\n"
     ]
    },
    {
     "data": {
      "application/vnd.jupyter.widget-view+json": {
       "model_id": "471773679dd74f5ebd2a4fbd68f58fe9",
       "version_major": 2,
       "version_minor": 0
      },
      "text/plain": [
       "restarts:   0%|          | 0/1 [00:00<?, ?it/s]"
      ]
     },
     "metadata": {},
     "output_type": "display_data"
    },
    {
     "data": {
      "application/vnd.jupyter.widget-view+json": {
       "model_id": "90b4d439458f423ba0110ac53340c43e",
       "version_major": 2,
       "version_minor": 0
      },
      "text/plain": [
       "epochs:   0%|          | 0/1 [00:00<?, ?it/s]"
      ]
     },
     "metadata": {},
     "output_type": "display_data"
    },
    {
     "name": "stdout",
     "output_type": "stream",
     "text": [
      "<tf.Variable 'Adam_2/learning_rate:0' shape=() dtype=float32>\n",
      "<tf.Variable 'Adam_2/learning_rate:0' shape=() dtype=float32>\n",
      "Original Data Shape (selected):  (2500, 30)\n",
      "Original Data Shape (encoded):  (2500, 30)\n",
      "Original Data Class Distribution:  1370  (true) / 1130  (false)\n",
      "(1500, 30) (1500,)\n",
      "(500, 30) (500,)\n",
      "(500, 30) (500,)\n",
      "Min Ratio:  0.472\n",
      "Min Ratio:  0.4515\n"
     ]
    },
    {
     "data": {
      "application/vnd.jupyter.widget-view+json": {
       "model_id": "20e2f204101d463fb757bdfd6ad5ffbe",
       "version_major": 2,
       "version_minor": 0
      },
      "text/plain": [
       "restarts:   0%|          | 0/1 [00:00<?, ?it/s]"
      ]
     },
     "metadata": {},
     "output_type": "display_data"
    },
    {
     "data": {
      "application/vnd.jupyter.widget-view+json": {
       "model_id": "7445a11f0f2147e3864bff867c2d020e",
       "version_major": 2,
       "version_minor": 0
      },
      "text/plain": [
       "epochs:   0%|          | 0/1 [00:00<?, ?it/s]"
      ]
     },
     "metadata": {},
     "output_type": "display_data"
    },
    {
     "name": "stdout",
     "output_type": "stream",
     "text": [
      "<tf.Variable 'Adam_2/learning_rate:0' shape=() dtype=float32>\n",
      "<tf.Variable 'Adam_2/learning_rate:0' shape=() dtype=float32>\n",
      "Original Data Shape (selected):  (2500, 30)\n",
      "Original Data Shape (encoded):  (2500, 30)\n",
      "Original Data Class Distribution:  1451  (true) / 1049  (false)\n",
      "(1500, 30) (1500,)\n",
      "(500, 30) (500,)\n",
      "(500, 30) (500,)\n",
      "Min Ratio:  0.418\n",
      "Min Ratio:  0.4165\n"
     ]
    },
    {
     "data": {
      "application/vnd.jupyter.widget-view+json": {
       "model_id": "64344a079697416781e0b07f49288434",
       "version_major": 2,
       "version_minor": 0
      },
      "text/plain": [
       "restarts:   0%|          | 0/1 [00:00<?, ?it/s]"
      ]
     },
     "metadata": {},
     "output_type": "display_data"
    },
    {
     "data": {
      "application/vnd.jupyter.widget-view+json": {
       "model_id": "41d96a5ea1d14a52bcffd2e6c50fd36e",
       "version_major": 2,
       "version_minor": 0
      },
      "text/plain": [
       "epochs:   0%|          | 0/1 [00:00<?, ?it/s]"
      ]
     },
     "metadata": {},
     "output_type": "display_data"
    },
    {
     "name": "stdout",
     "output_type": "stream",
     "text": [
      "<tf.Variable 'Adam_2/learning_rate:0' shape=() dtype=float32>\n",
      "<tf.Variable 'Adam_2/learning_rate:0' shape=() dtype=float32>\n",
      "Original Data Shape (selected):  (2500, 30)\n",
      "Original Data Shape (encoded):  (2500, 30)\n",
      "Original Data Class Distribution:  1521  (true) / 979  (false)\n",
      "(1500, 30) (1500,)\n",
      "(500, 30) (500,)\n",
      "(500, 30) (500,)\n",
      "Min Ratio:  0.3933333333333333\n",
      "Min Ratio:  0.394\n"
     ]
    },
    {
     "data": {
      "application/vnd.jupyter.widget-view+json": {
       "model_id": "9e54c6b66cd64120a9bc28ebd88bbe47",
       "version_major": 2,
       "version_minor": 0
      },
      "text/plain": [
       "restarts:   0%|          | 0/1 [00:00<?, ?it/s]"
      ]
     },
     "metadata": {},
     "output_type": "display_data"
    },
    {
     "data": {
      "application/vnd.jupyter.widget-view+json": {
       "model_id": "1e49efe2e0a64dd48a3d6d421974464f",
       "version_major": 2,
       "version_minor": 0
      },
      "text/plain": [
       "epochs:   0%|          | 0/1 [00:00<?, ?it/s]"
      ]
     },
     "metadata": {},
     "output_type": "display_data"
    },
    {
     "name": "stdout",
     "output_type": "stream",
     "text": [
      "<tf.Variable 'Adam_2/learning_rate:0' shape=() dtype=float32>\n",
      "<tf.Variable 'Adam_2/learning_rate:0' shape=() dtype=float32>\n",
      "Original Data Shape (selected):  (2500, 30)\n",
      "Original Data Shape (encoded):  (2500, 30)\n",
      "Original Data Class Distribution:  1537  (true) / 963  (false)\n",
      "(1500, 30) (1500,)\n",
      "(500, 30) (500,)\n",
      "(500, 30) (500,)\n",
      "Min Ratio:  0.38533333333333336\n",
      "Min Ratio:  0.384\n"
     ]
    },
    {
     "data": {
      "application/vnd.jupyter.widget-view+json": {
       "model_id": "5f5fdec824b941d49dc9c91aa5578e28",
       "version_major": 2,
       "version_minor": 0
      },
      "text/plain": [
       "restarts:   0%|          | 0/1 [00:00<?, ?it/s]"
      ]
     },
     "metadata": {},
     "output_type": "display_data"
    },
    {
     "data": {
      "application/vnd.jupyter.widget-view+json": {
       "model_id": "fae9e5e96ba54b38be5c118480b687f8",
       "version_major": 2,
       "version_minor": 0
      },
      "text/plain": [
       "epochs:   0%|          | 0/1 [00:00<?, ?it/s]"
      ]
     },
     "metadata": {},
     "output_type": "display_data"
    },
    {
     "name": "stdout",
     "output_type": "stream",
     "text": [
      "<tf.Variable 'Adam_2/learning_rate:0' shape=() dtype=float32>\n",
      "<tf.Variable 'Adam_2/learning_rate:0' shape=() dtype=float32>\n",
      "Original Data Shape (selected):  (2500, 30)\n",
      "Original Data Shape (encoded):  (2500, 30)\n",
      "Original Data Class Distribution:  1560  (true) / 940  (false)\n",
      "(1500, 30) (1500,)\n",
      "(500, 30) (500,)\n",
      "(500, 30) (500,)\n",
      "Min Ratio:  0.382\n",
      "Min Ratio:  0.381\n"
     ]
    },
    {
     "data": {
      "application/vnd.jupyter.widget-view+json": {
       "model_id": "079315d6f729474484b31bacee3f5fd1",
       "version_major": 2,
       "version_minor": 0
      },
      "text/plain": [
       "restarts:   0%|          | 0/1 [00:00<?, ?it/s]"
      ]
     },
     "metadata": {},
     "output_type": "display_data"
    },
    {
     "data": {
      "application/vnd.jupyter.widget-view+json": {
       "model_id": "03e38e726a464fb29597ea54ea43b214",
       "version_major": 2,
       "version_minor": 0
      },
      "text/plain": [
       "epochs:   0%|          | 0/1 [00:00<?, ?it/s]"
      ]
     },
     "metadata": {},
     "output_type": "display_data"
    },
    {
     "name": "stdout",
     "output_type": "stream",
     "text": [
      "<tf.Variable 'Adam_2/learning_rate:0' shape=() dtype=float32>\n",
      "<tf.Variable 'Adam_2/learning_rate:0' shape=() dtype=float32>\n",
      "Original Data Shape (selected):  (2500, 30)\n",
      "Original Data Shape (encoded):  (2500, 30)\n",
      "Original Data Class Distribution:  875  (true) / 1625  (false)\n",
      "(1500, 30) (1500,)\n",
      "(500, 30) (500,)\n",
      "(500, 30) (500,)\n",
      "Min Ratio:  0.3413333333333333\n",
      "Min Ratio:  0.349\n"
     ]
    },
    {
     "data": {
      "application/vnd.jupyter.widget-view+json": {
       "model_id": "ac1d28845e53416ab77fead32b5dc15c",
       "version_major": 2,
       "version_minor": 0
      },
      "text/plain": [
       "restarts:   0%|          | 0/1 [00:00<?, ?it/s]"
      ]
     },
     "metadata": {},
     "output_type": "display_data"
    },
    {
     "data": {
      "application/vnd.jupyter.widget-view+json": {
       "model_id": "f748c04bf99846d3801bb8af650b09fd",
       "version_major": 2,
       "version_minor": 0
      },
      "text/plain": [
       "epochs:   0%|          | 0/1 [00:00<?, ?it/s]"
      ]
     },
     "metadata": {},
     "output_type": "display_data"
    },
    {
     "name": "stdout",
     "output_type": "stream",
     "text": [
      "<tf.Variable 'Adam_2/learning_rate:0' shape=() dtype=float32>\n",
      "<tf.Variable 'Adam_2/learning_rate:0' shape=() dtype=float32>\n",
      "Original Data Shape (selected):  (2500, 30)\n",
      "Original Data Shape (encoded):  (2500, 30)\n",
      "Original Data Class Distribution:  1187  (true) / 1313  (false)\n",
      "(1500, 30) (1500,)\n",
      "(500, 30) (500,)\n",
      "(500, 30) (500,)\n",
      "Min Ratio:  0.484\n",
      "Min Ratio:  0.474\n"
     ]
    },
    {
     "data": {
      "application/vnd.jupyter.widget-view+json": {
       "model_id": "22a6a4eca7be40ce96a96b7b8b1ddaa6",
       "version_major": 2,
       "version_minor": 0
      },
      "text/plain": [
       "restarts:   0%|          | 0/1 [00:00<?, ?it/s]"
      ]
     },
     "metadata": {},
     "output_type": "display_data"
    },
    {
     "data": {
      "application/vnd.jupyter.widget-view+json": {
       "model_id": "ad38fec851734353af315f4f12b6e200",
       "version_major": 2,
       "version_minor": 0
      },
      "text/plain": [
       "epochs:   0%|          | 0/1 [00:00<?, ?it/s]"
      ]
     },
     "metadata": {},
     "output_type": "display_data"
    },
    {
     "name": "stdout",
     "output_type": "stream",
     "text": [
      "<tf.Variable 'Adam_2/learning_rate:0' shape=() dtype=float32>\n",
      "<tf.Variable 'Adam_2/learning_rate:0' shape=() dtype=float32>\n",
      "Original Data Shape (selected):  (2500, 30)\n",
      "Original Data Shape (encoded):  (2500, 30)\n",
      "Original Data Class Distribution:  1443  (true) / 1057  (false)\n",
      "(1500, 30) (1500,)\n",
      "(500, 30) (500,)\n",
      "(500, 30) (500,)\n",
      "Min Ratio:  0.4146666666666667\n",
      "Min Ratio:  0.4215\n"
     ]
    },
    {
     "data": {
      "application/vnd.jupyter.widget-view+json": {
       "model_id": "2d4328d1d0d54e54a3217fd0a507ee33",
       "version_major": 2,
       "version_minor": 0
      },
      "text/plain": [
       "restarts:   0%|          | 0/1 [00:00<?, ?it/s]"
      ]
     },
     "metadata": {},
     "output_type": "display_data"
    },
    {
     "data": {
      "application/vnd.jupyter.widget-view+json": {
       "model_id": "afb908c29d5e42429d118bc8a160302c",
       "version_major": 2,
       "version_minor": 0
      },
      "text/plain": [
       "epochs:   0%|          | 0/1 [00:00<?, ?it/s]"
      ]
     },
     "metadata": {},
     "output_type": "display_data"
    },
    {
     "name": "stdout",
     "output_type": "stream",
     "text": [
      "<tf.Variable 'Adam_2/learning_rate:0' shape=() dtype=float32>\n",
      "<tf.Variable 'Adam_2/learning_rate:0' shape=() dtype=float32>\n",
      "Original Data Shape (selected):  (2500, 30)\n",
      "Original Data Shape (encoded):  (2500, 30)\n",
      "Original Data Class Distribution:  1513  (true) / 987  (false)\n",
      "(1500, 30) (1500,)\n",
      "(500, 30) (500,)\n",
      "(500, 30) (500,)\n",
      "Min Ratio:  0.39266666666666666\n",
      "Min Ratio:  0.3965\n"
     ]
    },
    {
     "data": {
      "application/vnd.jupyter.widget-view+json": {
       "model_id": "97eb55d2dd5a48b5ba3bfaea23f7abcb",
       "version_major": 2,
       "version_minor": 0
      },
      "text/plain": [
       "restarts:   0%|          | 0/1 [00:00<?, ?it/s]"
      ]
     },
     "metadata": {},
     "output_type": "display_data"
    },
    {
     "data": {
      "application/vnd.jupyter.widget-view+json": {
       "model_id": "e61e0f0612d849aa8f1255266e3551bb",
       "version_major": 2,
       "version_minor": 0
      },
      "text/plain": [
       "epochs:   0%|          | 0/1 [00:00<?, ?it/s]"
      ]
     },
     "metadata": {},
     "output_type": "display_data"
    },
    {
     "name": "stdout",
     "output_type": "stream",
     "text": [
      "<tf.Variable 'Adam_2/learning_rate:0' shape=() dtype=float32>\n",
      "<tf.Variable 'Adam_2/learning_rate:0' shape=() dtype=float32>\n",
      "Original Data Shape (selected):  (2500, 30)\n",
      "Original Data Shape (encoded):  (2500, 30)\n",
      "Original Data Class Distribution:  1598  (true) / 902  (false)\n",
      "(1500, 30) (1500,)\n",
      "(500, 30) (500,)\n",
      "(500, 30) (500,)\n",
      "Min Ratio:  0.36\n",
      "Min Ratio:  0.3535\n"
     ]
    },
    {
     "data": {
      "application/vnd.jupyter.widget-view+json": {
       "model_id": "a3d3f286dc684d9fad047fd75dd0d47e",
       "version_major": 2,
       "version_minor": 0
      },
      "text/plain": [
       "restarts:   0%|          | 0/1 [00:00<?, ?it/s]"
      ]
     },
     "metadata": {},
     "output_type": "display_data"
    },
    {
     "data": {
      "application/vnd.jupyter.widget-view+json": {
       "model_id": "0188eff1fab841e0a4586193f39e1150",
       "version_major": 2,
       "version_minor": 0
      },
      "text/plain": [
       "epochs:   0%|          | 0/1 [00:00<?, ?it/s]"
      ]
     },
     "metadata": {},
     "output_type": "display_data"
    },
    {
     "name": "stdout",
     "output_type": "stream",
     "text": [
      "<tf.Variable 'Adam_2/learning_rate:0' shape=() dtype=float32>\n",
      "<tf.Variable 'Adam_2/learning_rate:0' shape=() dtype=float32>\n",
      "Original Data Shape (selected):  (2500, 30)\n",
      "Original Data Shape (encoded):  (2500, 30)\n",
      "Original Data Class Distribution:  1476  (true) / 1024  (false)\n",
      "(1500, 30) (1500,)\n",
      "(500, 30) (500,)\n",
      "(500, 30) (500,)\n",
      "Min Ratio:  0.41333333333333333\n",
      "Min Ratio:  0.4065\n"
     ]
    },
    {
     "data": {
      "application/vnd.jupyter.widget-view+json": {
       "model_id": "e260b68a6e40438490ad113547fd94c9",
       "version_major": 2,
       "version_minor": 0
      },
      "text/plain": [
       "restarts:   0%|          | 0/1 [00:00<?, ?it/s]"
      ]
     },
     "metadata": {},
     "output_type": "display_data"
    },
    {
     "data": {
      "application/vnd.jupyter.widget-view+json": {
       "model_id": "0ecde10edcd24e9ca7047d49a607fdcb",
       "version_major": 2,
       "version_minor": 0
      },
      "text/plain": [
       "epochs:   0%|          | 0/1 [00:00<?, ?it/s]"
      ]
     },
     "metadata": {},
     "output_type": "display_data"
    },
    {
     "name": "stdout",
     "output_type": "stream",
     "text": [
      "<tf.Variable 'Adam_2/learning_rate:0' shape=() dtype=float32>\n",
      "<tf.Variable 'Adam_2/learning_rate:0' shape=() dtype=float32>\n",
      "Original Data Shape (selected):  (2500, 30)\n",
      "Original Data Shape (encoded):  (2500, 30)\n",
      "Original Data Class Distribution:  1049  (true) / 1451  (false)\n",
      "(1500, 30) (1500,)\n",
      "(500, 30) (500,)\n",
      "(500, 30) (500,)\n",
      "Min Ratio:  0.4026666666666667\n",
      "Min Ratio:  0.406\n"
     ]
    },
    {
     "data": {
      "application/vnd.jupyter.widget-view+json": {
       "model_id": "d131501fa96b422d94c3c68ed75cb92c",
       "version_major": 2,
       "version_minor": 0
      },
      "text/plain": [
       "restarts:   0%|          | 0/1 [00:00<?, ?it/s]"
      ]
     },
     "metadata": {},
     "output_type": "display_data"
    },
    {
     "data": {
      "application/vnd.jupyter.widget-view+json": {
       "model_id": "2b5025b69cad43d0bdcb22cd4d4d8239",
       "version_major": 2,
       "version_minor": 0
      },
      "text/plain": [
       "epochs:   0%|          | 0/1 [00:00<?, ?it/s]"
      ]
     },
     "metadata": {},
     "output_type": "display_data"
    },
    {
     "name": "stdout",
     "output_type": "stream",
     "text": [
      "<tf.Variable 'Adam_2/learning_rate:0' shape=() dtype=float32>\n",
      "<tf.Variable 'Adam_2/learning_rate:0' shape=() dtype=float32>\n",
      "Original Data Shape (selected):  (2500, 30)\n",
      "Original Data Shape (encoded):  (2500, 30)\n",
      "Original Data Class Distribution:  818  (true) / 1682  (false)\n",
      "(1500, 30) (1500,)\n",
      "(500, 30) (500,)\n",
      "(500, 30) (500,)\n",
      "Min Ratio:  0.3273333333333333\n",
      "Min Ratio:  0.328\n"
     ]
    },
    {
     "data": {
      "application/vnd.jupyter.widget-view+json": {
       "model_id": "d2c8f4a752ec4b75bd05bc8006428af6",
       "version_major": 2,
       "version_minor": 0
      },
      "text/plain": [
       "restarts:   0%|          | 0/1 [00:00<?, ?it/s]"
      ]
     },
     "metadata": {},
     "output_type": "display_data"
    },
    {
     "data": {
      "application/vnd.jupyter.widget-view+json": {
       "model_id": "854d57a843224ae79f7cb76a3c86687e",
       "version_major": 2,
       "version_minor": 0
      },
      "text/plain": [
       "epochs:   0%|          | 0/1 [00:00<?, ?it/s]"
      ]
     },
     "metadata": {},
     "output_type": "display_data"
    },
    {
     "name": "stdout",
     "output_type": "stream",
     "text": [
      "<tf.Variable 'Adam_2/learning_rate:0' shape=() dtype=float32>\n",
      "<tf.Variable 'Adam_2/learning_rate:0' shape=() dtype=float32>\n",
      "Original Data Shape (selected):  (2500, 30)\n",
      "Original Data Shape (encoded):  (2500, 30)\n",
      "Original Data Class Distribution:  1159  (true) / 1341  (false)\n",
      "(1500, 30) (1500,)\n",
      "(500, 30) (500,)\n",
      "(500, 30) (500,)\n",
      "Min Ratio:  0.4553333333333333\n",
      "Min Ratio:  0.4545\n"
     ]
    },
    {
     "data": {
      "application/vnd.jupyter.widget-view+json": {
       "model_id": "9b28e6f73d0a4a08b76a022adbf4d5f9",
       "version_major": 2,
       "version_minor": 0
      },
      "text/plain": [
       "restarts:   0%|          | 0/1 [00:00<?, ?it/s]"
      ]
     },
     "metadata": {},
     "output_type": "display_data"
    },
    {
     "data": {
      "application/vnd.jupyter.widget-view+json": {
       "model_id": "925bf22f170f4d559efb21d519aa4209",
       "version_major": 2,
       "version_minor": 0
      },
      "text/plain": [
       "epochs:   0%|          | 0/1 [00:00<?, ?it/s]"
      ]
     },
     "metadata": {},
     "output_type": "display_data"
    },
    {
     "name": "stdout",
     "output_type": "stream",
     "text": [
      "<tf.Variable 'Adam_2/learning_rate:0' shape=() dtype=float32>\n",
      "<tf.Variable 'Adam_2/learning_rate:0' shape=() dtype=float32>\n",
      "Original Data Shape (selected):  (2500, 30)\n",
      "Original Data Shape (encoded):  (2500, 30)\n",
      "Original Data Class Distribution:  1240  (true) / 1260  (false)\n",
      "(1500, 30) (1500,)\n",
      "(500, 30) (500,)\n",
      "(500, 30) (500,)\n",
      "Min Ratio:  0.494\n",
      "Min Ratio:  0.497\n"
     ]
    },
    {
     "data": {
      "application/vnd.jupyter.widget-view+json": {
       "model_id": "9788f1b7795644c3a71763247213a524",
       "version_major": 2,
       "version_minor": 0
      },
      "text/plain": [
       "restarts:   0%|          | 0/1 [00:00<?, ?it/s]"
      ]
     },
     "metadata": {},
     "output_type": "display_data"
    },
    {
     "data": {
      "application/vnd.jupyter.widget-view+json": {
       "model_id": "62e5edc0dba944978705fce04b005bd9",
       "version_major": 2,
       "version_minor": 0
      },
      "text/plain": [
       "epochs:   0%|          | 0/1 [00:00<?, ?it/s]"
      ]
     },
     "metadata": {},
     "output_type": "display_data"
    },
    {
     "name": "stdout",
     "output_type": "stream",
     "text": [
      "<tf.Variable 'Adam_2/learning_rate:0' shape=() dtype=float32>\n",
      "<tf.Variable 'Adam_2/learning_rate:0' shape=() dtype=float32>\n",
      "Original Data Shape (selected):  (2500, 30)\n",
      "Original Data Shape (encoded):  (2500, 30)\n",
      "Original Data Class Distribution:  1338  (true) / 1162  (false)\n",
      "(1500, 30) (1500,)\n",
      "(500, 30) (500,)\n",
      "(500, 30) (500,)\n",
      "Min Ratio:  0.484\n",
      "Min Ratio:  0.4695\n"
     ]
    },
    {
     "data": {
      "application/vnd.jupyter.widget-view+json": {
       "model_id": "4aa83ecf8fbb4361a10d5216169be6d3",
       "version_major": 2,
       "version_minor": 0
      },
      "text/plain": [
       "restarts:   0%|          | 0/1 [00:00<?, ?it/s]"
      ]
     },
     "metadata": {},
     "output_type": "display_data"
    },
    {
     "data": {
      "application/vnd.jupyter.widget-view+json": {
       "model_id": "7e6dbe791b3f40b79b8bd1ff9771e341",
       "version_major": 2,
       "version_minor": 0
      },
      "text/plain": [
       "epochs:   0%|          | 0/1 [00:00<?, ?it/s]"
      ]
     },
     "metadata": {},
     "output_type": "display_data"
    },
    {
     "name": "stdout",
     "output_type": "stream",
     "text": [
      "<tf.Variable 'Adam_2/learning_rate:0' shape=() dtype=float32>\n",
      "<tf.Variable 'Adam_2/learning_rate:0' shape=() dtype=float32>\n",
      "Original Data Shape (selected):  (2500, 30)\n",
      "Original Data Shape (encoded):  (2500, 30)\n",
      "Original Data Class Distribution:  1314  (true) / 1186  (false)\n",
      "(1500, 30) (1500,)\n",
      "(500, 30) (500,)\n",
      "(500, 30) (500,)\n",
      "Min Ratio:  0.472\n",
      "Min Ratio:  0.4745\n"
     ]
    },
    {
     "data": {
      "application/vnd.jupyter.widget-view+json": {
       "model_id": "1ef83eecd3bd418e92cface6a77f7f42",
       "version_major": 2,
       "version_minor": 0
      },
      "text/plain": [
       "restarts:   0%|          | 0/1 [00:00<?, ?it/s]"
      ]
     },
     "metadata": {},
     "output_type": "display_data"
    },
    {
     "data": {
      "application/vnd.jupyter.widget-view+json": {
       "model_id": "831154c884ea4614b95c73c7aaca976f",
       "version_major": 2,
       "version_minor": 0
      },
      "text/plain": [
       "epochs:   0%|          | 0/1 [00:00<?, ?it/s]"
      ]
     },
     "metadata": {},
     "output_type": "display_data"
    },
    {
     "name": "stdout",
     "output_type": "stream",
     "text": [
      "<tf.Variable 'Adam_2/learning_rate:0' shape=() dtype=float32>\n",
      "<tf.Variable 'Adam_2/learning_rate:0' shape=() dtype=float32>\n",
      "Original Data Shape (selected):  (2500, 30)\n",
      "Original Data Shape (encoded):  (2500, 30)\n",
      "Original Data Class Distribution:  1365  (true) / 1135  (false)\n",
      "(1500, 30) (1500,)\n",
      "(500, 30) (500,)\n",
      "(500, 30) (500,)\n",
      "Min Ratio:  0.446\n",
      "Min Ratio:  0.4415\n"
     ]
    },
    {
     "data": {
      "application/vnd.jupyter.widget-view+json": {
       "model_id": "1c61ebb91c7444088da1d44b9ca741a6",
       "version_major": 2,
       "version_minor": 0
      },
      "text/plain": [
       "restarts:   0%|          | 0/1 [00:00<?, ?it/s]"
      ]
     },
     "metadata": {},
     "output_type": "display_data"
    },
    {
     "data": {
      "application/vnd.jupyter.widget-view+json": {
       "model_id": "993634e891564633baa448b51f537f5a",
       "version_major": 2,
       "version_minor": 0
      },
      "text/plain": [
       "epochs:   0%|          | 0/1 [00:00<?, ?it/s]"
      ]
     },
     "metadata": {},
     "output_type": "display_data"
    },
    {
     "name": "stdout",
     "output_type": "stream",
     "text": [
      "<tf.Variable 'Adam_2/learning_rate:0' shape=() dtype=float32>\n",
      "<tf.Variable 'Adam_2/learning_rate:0' shape=() dtype=float32>\n",
      "Original Data Shape (selected):  (2500, 30)\n",
      "Original Data Shape (encoded):  (2500, 30)\n",
      "Original Data Class Distribution:  980  (true) / 1520  (false)\n",
      "(1500, 30) (1500,)\n",
      "(500, 30) (500,)\n",
      "(500, 30) (500,)\n",
      "Min Ratio:  0.398\n",
      "Min Ratio:  0.3945\n"
     ]
    },
    {
     "data": {
      "application/vnd.jupyter.widget-view+json": {
       "model_id": "1ac776530e3f4faa85cb586b6a8c3ecb",
       "version_major": 2,
       "version_minor": 0
      },
      "text/plain": [
       "restarts:   0%|          | 0/1 [00:00<?, ?it/s]"
      ]
     },
     "metadata": {},
     "output_type": "display_data"
    },
    {
     "data": {
      "application/vnd.jupyter.widget-view+json": {
       "model_id": "766e006c8b014ddc826c25f67cd95059",
       "version_major": 2,
       "version_minor": 0
      },
      "text/plain": [
       "epochs:   0%|          | 0/1 [00:00<?, ?it/s]"
      ]
     },
     "metadata": {},
     "output_type": "display_data"
    },
    {
     "name": "stdout",
     "output_type": "stream",
     "text": [
      "<tf.Variable 'Adam_2/learning_rate:0' shape=() dtype=float32>\n",
      "<tf.Variable 'Adam_2/learning_rate:0' shape=() dtype=float32>\n",
      "Original Data Shape (selected):  (2500, 30)\n",
      "Original Data Shape (encoded):  (2500, 30)\n",
      "Original Data Class Distribution:  777  (true) / 1723  (false)\n",
      "(1500, 30) (1500,)\n",
      "(500, 30) (500,)\n",
      "(500, 30) (500,)\n",
      "Min Ratio:  0.31533333333333335\n",
      "Min Ratio:  0.304\n"
     ]
    },
    {
     "data": {
      "application/vnd.jupyter.widget-view+json": {
       "model_id": "bf247467e70a491ebdd3bfe65120112d",
       "version_major": 2,
       "version_minor": 0
      },
      "text/plain": [
       "restarts:   0%|          | 0/1 [00:00<?, ?it/s]"
      ]
     },
     "metadata": {},
     "output_type": "display_data"
    },
    {
     "data": {
      "application/vnd.jupyter.widget-view+json": {
       "model_id": "62edef5965fc46f38d620bc1d964af24",
       "version_major": 2,
       "version_minor": 0
      },
      "text/plain": [
       "epochs:   0%|          | 0/1 [00:00<?, ?it/s]"
      ]
     },
     "metadata": {},
     "output_type": "display_data"
    },
    {
     "name": "stdout",
     "output_type": "stream",
     "text": [
      "<tf.Variable 'Adam_2/learning_rate:0' shape=() dtype=float32>\n",
      "<tf.Variable 'Adam_2/learning_rate:0' shape=() dtype=float32>\n",
      "Original Data Shape (selected):  (2500, 30)\n",
      "Original Data Shape (encoded):  (2500, 30)\n",
      "Original Data Class Distribution:  1093  (true) / 1407  (false)\n",
      "(1500, 30) (1500,)\n",
      "(500, 30) (500,)\n",
      "(500, 30) (500,)\n",
      "Min Ratio:  0.44733333333333336\n",
      "Min Ratio:  0.4385\n"
     ]
    },
    {
     "data": {
      "application/vnd.jupyter.widget-view+json": {
       "model_id": "129af037d0f44111b16b4e0f3feb1e7c",
       "version_major": 2,
       "version_minor": 0
      },
      "text/plain": [
       "restarts:   0%|          | 0/1 [00:00<?, ?it/s]"
      ]
     },
     "metadata": {},
     "output_type": "display_data"
    },
    {
     "data": {
      "application/vnd.jupyter.widget-view+json": {
       "model_id": "691ddb1d308545768bf4229460929128",
       "version_major": 2,
       "version_minor": 0
      },
      "text/plain": [
       "epochs:   0%|          | 0/1 [00:00<?, ?it/s]"
      ]
     },
     "metadata": {},
     "output_type": "display_data"
    },
    {
     "name": "stdout",
     "output_type": "stream",
     "text": [
      "<tf.Variable 'Adam_2/learning_rate:0' shape=() dtype=float32>\n",
      "<tf.Variable 'Adam_2/learning_rate:0' shape=() dtype=float32>\n",
      "Original Data Shape (selected):  (2500, 30)\n",
      "Original Data Shape (encoded):  (2500, 30)\n",
      "Original Data Class Distribution:  1225  (true) / 1275  (false)\n",
      "(1500, 30) (1500,)\n",
      "(500, 30) (500,)\n",
      "(500, 30) (500,)\n",
      "Min Ratio:  0.49066666666666664\n",
      "Min Ratio:  0.4955\n"
     ]
    },
    {
     "data": {
      "application/vnd.jupyter.widget-view+json": {
       "model_id": "df7bc5d1d0514a0ea55da2199c2be85a",
       "version_major": 2,
       "version_minor": 0
      },
      "text/plain": [
       "restarts:   0%|          | 0/1 [00:00<?, ?it/s]"
      ]
     },
     "metadata": {},
     "output_type": "display_data"
    },
    {
     "data": {
      "application/vnd.jupyter.widget-view+json": {
       "model_id": "54779712de5c485eb79b7b02b42d85f4",
       "version_major": 2,
       "version_minor": 0
      },
      "text/plain": [
       "epochs:   0%|          | 0/1 [00:00<?, ?it/s]"
      ]
     },
     "metadata": {},
     "output_type": "display_data"
    },
    {
     "name": "stdout",
     "output_type": "stream",
     "text": [
      "<tf.Variable 'Adam_2/learning_rate:0' shape=() dtype=float32>\n",
      "<tf.Variable 'Adam_2/learning_rate:0' shape=() dtype=float32>\n",
      "Original Data Shape (selected):  (2500, 30)\n",
      "Original Data Shape (encoded):  (2500, 30)\n",
      "Original Data Class Distribution:  1375  (true) / 1125  (false)\n",
      "(1500, 30) (1500,)\n",
      "(500, 30) (500,)\n",
      "(500, 30) (500,)\n",
      "Min Ratio:  0.4553333333333333\n",
      "Min Ratio:  0.4525\n"
     ]
    },
    {
     "data": {
      "application/vnd.jupyter.widget-view+json": {
       "model_id": "4db4eb23c8db463b9eee124ff2029fc7",
       "version_major": 2,
       "version_minor": 0
      },
      "text/plain": [
       "restarts:   0%|          | 0/1 [00:00<?, ?it/s]"
      ]
     },
     "metadata": {},
     "output_type": "display_data"
    },
    {
     "data": {
      "application/vnd.jupyter.widget-view+json": {
       "model_id": "08d8994f1223471a87b783ccbbd8897a",
       "version_major": 2,
       "version_minor": 0
      },
      "text/plain": [
       "epochs:   0%|          | 0/1 [00:00<?, ?it/s]"
      ]
     },
     "metadata": {},
     "output_type": "display_data"
    },
    {
     "name": "stdout",
     "output_type": "stream",
     "text": [
      "<tf.Variable 'Adam_2/learning_rate:0' shape=() dtype=float32>\n",
      "<tf.Variable 'Adam_2/learning_rate:0' shape=() dtype=float32>\n",
      "Original Data Shape (selected):  (2500, 30)\n",
      "Original Data Shape (encoded):  (2500, 30)\n",
      "Original Data Class Distribution:  1441  (true) / 1059  (false)\n",
      "(1500, 30) (1500,)\n",
      "(500, 30) (500,)\n",
      "(500, 30) (500,)\n",
      "Min Ratio:  0.42866666666666664\n",
      "Min Ratio:  0.422\n"
     ]
    },
    {
     "data": {
      "application/vnd.jupyter.widget-view+json": {
       "model_id": "a2d157c6904545818cd31b3a4c984c49",
       "version_major": 2,
       "version_minor": 0
      },
      "text/plain": [
       "restarts:   0%|          | 0/1 [00:00<?, ?it/s]"
      ]
     },
     "metadata": {},
     "output_type": "display_data"
    },
    {
     "data": {
      "application/vnd.jupyter.widget-view+json": {
       "model_id": "11cfab678444419aabdd1094fd40703c",
       "version_major": 2,
       "version_minor": 0
      },
      "text/plain": [
       "epochs:   0%|          | 0/1 [00:00<?, ?it/s]"
      ]
     },
     "metadata": {},
     "output_type": "display_data"
    },
    {
     "name": "stdout",
     "output_type": "stream",
     "text": [
      "<tf.Variable 'Adam_2/learning_rate:0' shape=() dtype=float32>\n",
      "<tf.Variable 'Adam_2/learning_rate:0' shape=() dtype=float32>\n",
      "Original Data Shape (selected):  (2500, 30)\n",
      "Original Data Shape (encoded):  (2500, 30)\n",
      "Original Data Class Distribution:  1562  (true) / 938  (false)\n",
      "(1500, 30) (1500,)\n",
      "(500, 30) (500,)\n",
      "(500, 30) (500,)\n",
      "Min Ratio:  0.36866666666666664\n",
      "Min Ratio:  0.372\n"
     ]
    },
    {
     "data": {
      "application/vnd.jupyter.widget-view+json": {
       "model_id": "a710cf28d740455c81e600beb2489c03",
       "version_major": 2,
       "version_minor": 0
      },
      "text/plain": [
       "restarts:   0%|          | 0/1 [00:00<?, ?it/s]"
      ]
     },
     "metadata": {},
     "output_type": "display_data"
    },
    {
     "data": {
      "application/vnd.jupyter.widget-view+json": {
       "model_id": "4d9133254dfb42868366b90c2cc825ef",
       "version_major": 2,
       "version_minor": 0
      },
      "text/plain": [
       "epochs:   0%|          | 0/1 [00:00<?, ?it/s]"
      ]
     },
     "metadata": {},
     "output_type": "display_data"
    },
    {
     "name": "stdout",
     "output_type": "stream",
     "text": [
      "<tf.Variable 'Adam_2/learning_rate:0' shape=() dtype=float32>\n",
      "<tf.Variable 'Adam_2/learning_rate:0' shape=() dtype=float32>\n",
      "Original Data Shape (selected):  (2500, 30)\n",
      "Original Data Shape (encoded):  (2500, 30)\n",
      "Original Data Class Distribution:  1385  (true) / 1115  (false)\n",
      "(1500, 30) (1500,)\n",
      "(500, 30) (500,)\n",
      "(500, 30) (500,)\n",
      "Min Ratio:  0.4493333333333333\n",
      "Min Ratio:  0.443\n"
     ]
    },
    {
     "data": {
      "application/vnd.jupyter.widget-view+json": {
       "model_id": "e7271d5e73184f99ab3c5da773846c39",
       "version_major": 2,
       "version_minor": 0
      },
      "text/plain": [
       "restarts:   0%|          | 0/1 [00:00<?, ?it/s]"
      ]
     },
     "metadata": {},
     "output_type": "display_data"
    },
    {
     "data": {
      "application/vnd.jupyter.widget-view+json": {
       "model_id": "89d91d59bdc14c6a8247dbc55fdffd9e",
       "version_major": 2,
       "version_minor": 0
      },
      "text/plain": [
       "epochs:   0%|          | 0/1 [00:00<?, ?it/s]"
      ]
     },
     "metadata": {},
     "output_type": "display_data"
    },
    {
     "name": "stdout",
     "output_type": "stream",
     "text": [
      "<tf.Variable 'Adam_2/learning_rate:0' shape=() dtype=float32>\n",
      "<tf.Variable 'Adam_2/learning_rate:0' shape=() dtype=float32>\n",
      "Original Data Shape (selected):  (2500, 30)\n",
      "Original Data Shape (encoded):  (2500, 30)\n",
      "Original Data Class Distribution:  916  (true) / 1584  (false)\n",
      "(1500, 30) (1500,)\n",
      "(500, 30) (500,)\n",
      "(500, 30) (500,)\n",
      "Min Ratio:  0.362\n",
      "Min Ratio:  0.362\n"
     ]
    },
    {
     "data": {
      "application/vnd.jupyter.widget-view+json": {
       "model_id": "b82332e50d0646958a470626e83baa30",
       "version_major": 2,
       "version_minor": 0
      },
      "text/plain": [
       "restarts:   0%|          | 0/1 [00:00<?, ?it/s]"
      ]
     },
     "metadata": {},
     "output_type": "display_data"
    },
    {
     "data": {
      "application/vnd.jupyter.widget-view+json": {
       "model_id": "2a15622761e24dd698a4c25254ad4ddd",
       "version_major": 2,
       "version_minor": 0
      },
      "text/plain": [
       "epochs:   0%|          | 0/1 [00:00<?, ?it/s]"
      ]
     },
     "metadata": {},
     "output_type": "display_data"
    },
    {
     "name": "stdout",
     "output_type": "stream",
     "text": [
      "<tf.Variable 'Adam_2/learning_rate:0' shape=() dtype=float32>\n",
      "<tf.Variable 'Adam_2/learning_rate:0' shape=() dtype=float32>\n",
      "Original Data Shape (selected):  (2500, 30)\n",
      "Original Data Shape (encoded):  (2500, 30)\n",
      "Original Data Class Distribution:  1204  (true) / 1296  (false)\n",
      "(1500, 30) (1500,)\n",
      "(500, 30) (500,)\n",
      "(500, 30) (500,)\n",
      "Min Ratio:  0.48133333333333334\n",
      "Min Ratio:  0.478\n"
     ]
    },
    {
     "data": {
      "application/vnd.jupyter.widget-view+json": {
       "model_id": "2ee75e014d8f4e6bbf09756a1ad9b920",
       "version_major": 2,
       "version_minor": 0
      },
      "text/plain": [
       "restarts:   0%|          | 0/1 [00:00<?, ?it/s]"
      ]
     },
     "metadata": {},
     "output_type": "display_data"
    },
    {
     "data": {
      "application/vnd.jupyter.widget-view+json": {
       "model_id": "852af075d3c044859194c43c0efed603",
       "version_major": 2,
       "version_minor": 0
      },
      "text/plain": [
       "epochs:   0%|          | 0/1 [00:00<?, ?it/s]"
      ]
     },
     "metadata": {},
     "output_type": "display_data"
    },
    {
     "name": "stdout",
     "output_type": "stream",
     "text": [
      "<tf.Variable 'Adam_2/learning_rate:0' shape=() dtype=float32>\n",
      "<tf.Variable 'Adam_2/learning_rate:0' shape=() dtype=float32>\n",
      "Original Data Shape (selected):  (2500, 30)\n",
      "Original Data Shape (encoded):  (2500, 30)\n",
      "Original Data Class Distribution:  1390  (true) / 1110  (false)\n",
      "(1500, 30) (1500,)\n",
      "(500, 30) (500,)\n",
      "(500, 30) (500,)\n",
      "Min Ratio:  0.44266666666666665\n",
      "Min Ratio:  0.443\n"
     ]
    },
    {
     "data": {
      "application/vnd.jupyter.widget-view+json": {
       "model_id": "6ccb4fbc80d1438dad2e60ae777e9790",
       "version_major": 2,
       "version_minor": 0
      },
      "text/plain": [
       "restarts:   0%|          | 0/1 [00:00<?, ?it/s]"
      ]
     },
     "metadata": {},
     "output_type": "display_data"
    },
    {
     "data": {
      "application/vnd.jupyter.widget-view+json": {
       "model_id": "bbdd4df1523a403c837a0688ab241ac1",
       "version_major": 2,
       "version_minor": 0
      },
      "text/plain": [
       "epochs:   0%|          | 0/1 [00:00<?, ?it/s]"
      ]
     },
     "metadata": {},
     "output_type": "display_data"
    },
    {
     "name": "stdout",
     "output_type": "stream",
     "text": [
      "<tf.Variable 'Adam_2/learning_rate:0' shape=() dtype=float32>\n",
      "<tf.Variable 'Adam_2/learning_rate:0' shape=() dtype=float32>\n",
      "Original Data Shape (selected):  (2500, 30)\n",
      "Original Data Shape (encoded):  (2500, 30)\n",
      "Original Data Class Distribution:  1528  (true) / 972  (false)\n",
      "(1500, 30) (1500,)\n",
      "(500, 30) (500,)\n",
      "(500, 30) (500,)\n",
      "Min Ratio:  0.382\n",
      "Min Ratio:  0.381\n"
     ]
    },
    {
     "data": {
      "application/vnd.jupyter.widget-view+json": {
       "model_id": "72ede56d10f54dd1b84befc3f073d449",
       "version_major": 2,
       "version_minor": 0
      },
      "text/plain": [
       "restarts:   0%|          | 0/1 [00:00<?, ?it/s]"
      ]
     },
     "metadata": {},
     "output_type": "display_data"
    },
    {
     "data": {
      "application/vnd.jupyter.widget-view+json": {
       "model_id": "36ec089067d6487fb615bd541107aeb7",
       "version_major": 2,
       "version_minor": 0
      },
      "text/plain": [
       "epochs:   0%|          | 0/1 [00:00<?, ?it/s]"
      ]
     },
     "metadata": {},
     "output_type": "display_data"
    },
    {
     "name": "stdout",
     "output_type": "stream",
     "text": [
      "<tf.Variable 'Adam_2/learning_rate:0' shape=() dtype=float32>\n",
      "<tf.Variable 'Adam_2/learning_rate:0' shape=() dtype=float32>\n",
      "Original Data Shape (selected):  (2500, 30)\n",
      "Original Data Shape (encoded):  (2500, 30)\n",
      "Original Data Class Distribution:  1524  (true) / 976  (false)\n",
      "(1500, 30) (1500,)\n",
      "(500, 30) (500,)\n",
      "(500, 30) (500,)\n",
      "Min Ratio:  0.38866666666666666\n",
      "Min Ratio:  0.3915\n"
     ]
    },
    {
     "data": {
      "application/vnd.jupyter.widget-view+json": {
       "model_id": "8000d26d3ca44d7e95696c8c5dc1fc9d",
       "version_major": 2,
       "version_minor": 0
      },
      "text/plain": [
       "restarts:   0%|          | 0/1 [00:00<?, ?it/s]"
      ]
     },
     "metadata": {},
     "output_type": "display_data"
    },
    {
     "data": {
      "application/vnd.jupyter.widget-view+json": {
       "model_id": "614b98ae7c4f4291a272cb3f078db875",
       "version_major": 2,
       "version_minor": 0
      },
      "text/plain": [
       "epochs:   0%|          | 0/1 [00:00<?, ?it/s]"
      ]
     },
     "metadata": {},
     "output_type": "display_data"
    },
    {
     "name": "stdout",
     "output_type": "stream",
     "text": [
      "<tf.Variable 'Adam_2/learning_rate:0' shape=() dtype=float32>\n",
      "<tf.Variable 'Adam_2/learning_rate:0' shape=() dtype=float32>\n",
      "Original Data Shape (selected):  (2500, 30)\n",
      "Original Data Shape (encoded):  (2500, 30)\n",
      "Original Data Class Distribution:  1536  (true) / 964  (false)\n",
      "(1500, 30) (1500,)\n",
      "(500, 30) (500,)\n",
      "(500, 30) (500,)\n",
      "Min Ratio:  0.3893333333333333\n",
      "Min Ratio:  0.379\n"
     ]
    },
    {
     "data": {
      "application/vnd.jupyter.widget-view+json": {
       "model_id": "c964d64b373e4f65904a344fcc6e9fe8",
       "version_major": 2,
       "version_minor": 0
      },
      "text/plain": [
       "restarts:   0%|          | 0/1 [00:00<?, ?it/s]"
      ]
     },
     "metadata": {},
     "output_type": "display_data"
    },
    {
     "data": {
      "application/vnd.jupyter.widget-view+json": {
       "model_id": "d071aefa1c644502986f1897b4efd1f9",
       "version_major": 2,
       "version_minor": 0
      },
      "text/plain": [
       "epochs:   0%|          | 0/1 [00:00<?, ?it/s]"
      ]
     },
     "metadata": {},
     "output_type": "display_data"
    },
    {
     "name": "stdout",
     "output_type": "stream",
     "text": [
      "<tf.Variable 'Adam_2/learning_rate:0' shape=() dtype=float32>\n",
      "<tf.Variable 'Adam_2/learning_rate:0' shape=() dtype=float32>\n",
      "Original Data Shape (selected):  (2500, 30)\n",
      "Original Data Shape (encoded):  (2500, 30)\n",
      "Original Data Class Distribution:  1610  (true) / 890  (false)\n",
      "(1500, 30) (1500,)\n",
      "(500, 30) (500,)\n",
      "(500, 30) (500,)\n",
      "Min Ratio:  0.35533333333333333\n",
      "Min Ratio:  0.363\n"
     ]
    },
    {
     "data": {
      "application/vnd.jupyter.widget-view+json": {
       "model_id": "6edc513d0e8a4970a524eff08ded6276",
       "version_major": 2,
       "version_minor": 0
      },
      "text/plain": [
       "restarts:   0%|          | 0/1 [00:00<?, ?it/s]"
      ]
     },
     "metadata": {},
     "output_type": "display_data"
    },
    {
     "data": {
      "application/vnd.jupyter.widget-view+json": {
       "model_id": "2e9875df0f6940a0968d45501086d33d",
       "version_major": 2,
       "version_minor": 0
      },
      "text/plain": [
       "epochs:   0%|          | 0/1 [00:00<?, ?it/s]"
      ]
     },
     "metadata": {},
     "output_type": "display_data"
    },
    {
     "name": "stdout",
     "output_type": "stream",
     "text": [
      "<tf.Variable 'Adam_2/learning_rate:0' shape=() dtype=float32>\n",
      "<tf.Variable 'Adam_2/learning_rate:0' shape=() dtype=float32>\n",
      "Original Data Shape (selected):  (2500, 30)\n",
      "Original Data Shape (encoded):  (2500, 30)\n",
      "Original Data Class Distribution:  927  (true) / 1573  (false)\n",
      "(1500, 30) (1500,)\n",
      "(500, 30) (500,)\n",
      "(500, 30) (500,)\n",
      "Min Ratio:  0.37066666666666664\n",
      "Min Ratio:  0.3665\n"
     ]
    },
    {
     "data": {
      "application/vnd.jupyter.widget-view+json": {
       "model_id": "97ee43e919474a5d8c33e27cfb5637d1",
       "version_major": 2,
       "version_minor": 0
      },
      "text/plain": [
       "restarts:   0%|          | 0/1 [00:00<?, ?it/s]"
      ]
     },
     "metadata": {},
     "output_type": "display_data"
    },
    {
     "data": {
      "application/vnd.jupyter.widget-view+json": {
       "model_id": "ce7610f588ad46419f6d0fd11515eeb8",
       "version_major": 2,
       "version_minor": 0
      },
      "text/plain": [
       "epochs:   0%|          | 0/1 [00:00<?, ?it/s]"
      ]
     },
     "metadata": {},
     "output_type": "display_data"
    },
    {
     "name": "stdout",
     "output_type": "stream",
     "text": [
      "<tf.Variable 'Adam_2/learning_rate:0' shape=() dtype=float32>\n",
      "<tf.Variable 'Adam_2/learning_rate:0' shape=() dtype=float32>\n",
      "Original Data Shape (selected):  (2500, 30)\n",
      "Original Data Shape (encoded):  (2500, 30)\n",
      "Original Data Class Distribution:  1103  (true) / 1397  (false)\n",
      "(1500, 30) (1500,)\n",
      "(500, 30) (500,)\n",
      "(500, 30) (500,)\n",
      "Min Ratio:  0.416\n",
      "Min Ratio:  0.423\n"
     ]
    },
    {
     "data": {
      "application/vnd.jupyter.widget-view+json": {
       "model_id": "47a9e96e48ba44a8b88e60a3264c93f3",
       "version_major": 2,
       "version_minor": 0
      },
      "text/plain": [
       "restarts:   0%|          | 0/1 [00:00<?, ?it/s]"
      ]
     },
     "metadata": {},
     "output_type": "display_data"
    },
    {
     "data": {
      "application/vnd.jupyter.widget-view+json": {
       "model_id": "7d91d0ee12774878842dabfe6ac98b12",
       "version_major": 2,
       "version_minor": 0
      },
      "text/plain": [
       "epochs:   0%|          | 0/1 [00:00<?, ?it/s]"
      ]
     },
     "metadata": {},
     "output_type": "display_data"
    },
    {
     "name": "stdout",
     "output_type": "stream",
     "text": [
      "<tf.Variable 'Adam_2/learning_rate:0' shape=() dtype=float32>\n",
      "<tf.Variable 'Adam_2/learning_rate:0' shape=() dtype=float32>\n",
      "Original Data Shape (selected):  (2500, 30)\n",
      "Original Data Shape (encoded):  (2500, 30)\n",
      "Original Data Class Distribution:  1392  (true) / 1108  (false)\n",
      "(1500, 30) (1500,)\n",
      "(500, 30) (500,)\n",
      "(500, 30) (500,)\n",
      "Min Ratio:  0.45\n",
      "Min Ratio:  0.446\n"
     ]
    },
    {
     "data": {
      "application/vnd.jupyter.widget-view+json": {
       "model_id": "1e4beaa82a2344a19f70b35639bf8687",
       "version_major": 2,
       "version_minor": 0
      },
      "text/plain": [
       "restarts:   0%|          | 0/1 [00:00<?, ?it/s]"
      ]
     },
     "metadata": {},
     "output_type": "display_data"
    },
    {
     "data": {
      "application/vnd.jupyter.widget-view+json": {
       "model_id": "04797492560f4d77a6ad521e1a7aad30",
       "version_major": 2,
       "version_minor": 0
      },
      "text/plain": [
       "epochs:   0%|          | 0/1 [00:00<?, ?it/s]"
      ]
     },
     "metadata": {},
     "output_type": "display_data"
    },
    {
     "name": "stdout",
     "output_type": "stream",
     "text": [
      "<tf.Variable 'Adam_2/learning_rate:0' shape=() dtype=float32>\n",
      "<tf.Variable 'Adam_2/learning_rate:0' shape=() dtype=float32>\n",
      "Original Data Shape (selected):  (2500, 30)\n",
      "Original Data Shape (encoded):  (2500, 30)\n",
      "Original Data Class Distribution:  1513  (true) / 987  (false)\n",
      "(1500, 30) (1500,)\n",
      "(500, 30) (500,)\n",
      "(500, 30) (500,)\n",
      "Min Ratio:  0.39666666666666667\n",
      "Min Ratio:  0.3965\n"
     ]
    },
    {
     "data": {
      "application/vnd.jupyter.widget-view+json": {
       "model_id": "3cb8653df2124167a119da856fc03eee",
       "version_major": 2,
       "version_minor": 0
      },
      "text/plain": [
       "restarts:   0%|          | 0/1 [00:00<?, ?it/s]"
      ]
     },
     "metadata": {},
     "output_type": "display_data"
    },
    {
     "data": {
      "application/vnd.jupyter.widget-view+json": {
       "model_id": "6cf53a4a4fb54bd88dbd24a6d1936814",
       "version_major": 2,
       "version_minor": 0
      },
      "text/plain": [
       "epochs:   0%|          | 0/1 [00:00<?, ?it/s]"
      ]
     },
     "metadata": {},
     "output_type": "display_data"
    },
    {
     "name": "stdout",
     "output_type": "stream",
     "text": [
      "<tf.Variable 'Adam_2/learning_rate:0' shape=() dtype=float32>\n",
      "<tf.Variable 'Adam_2/learning_rate:0' shape=() dtype=float32>\n",
      "Original Data Shape (selected):  (2500, 30)\n",
      "Original Data Shape (encoded):  (2500, 30)\n",
      "Original Data Class Distribution:  1583  (true) / 917  (false)\n",
      "(1500, 30) (1500,)\n",
      "(500, 30) (500,)\n",
      "(500, 30) (500,)\n",
      "Min Ratio:  0.38266666666666665\n",
      "Min Ratio:  0.366\n"
     ]
    },
    {
     "data": {
      "application/vnd.jupyter.widget-view+json": {
       "model_id": "8219611809344e07a5815eaeb1bdabb8",
       "version_major": 2,
       "version_minor": 0
      },
      "text/plain": [
       "restarts:   0%|          | 0/1 [00:00<?, ?it/s]"
      ]
     },
     "metadata": {},
     "output_type": "display_data"
    },
    {
     "data": {
      "application/vnd.jupyter.widget-view+json": {
       "model_id": "bd67abe8a0c64d4fb68d829f0e0e8c2b",
       "version_major": 2,
       "version_minor": 0
      },
      "text/plain": [
       "epochs:   0%|          | 0/1 [00:00<?, ?it/s]"
      ]
     },
     "metadata": {},
     "output_type": "display_data"
    },
    {
     "name": "stdout",
     "output_type": "stream",
     "text": [
      "<tf.Variable 'Adam_2/learning_rate:0' shape=() dtype=float32>\n",
      "<tf.Variable 'Adam_2/learning_rate:0' shape=() dtype=float32>\n",
      "Original Data Shape (selected):  (2500, 30)\n",
      "Original Data Shape (encoded):  (2500, 30)\n",
      "Original Data Class Distribution:  1560  (true) / 940  (false)\n",
      "(1500, 30) (1500,)\n",
      "(500, 30) (500,)\n",
      "(500, 30) (500,)\n",
      "Min Ratio:  0.36666666666666664\n",
      "Min Ratio:  0.378\n"
     ]
    },
    {
     "data": {
      "application/vnd.jupyter.widget-view+json": {
       "model_id": "9ffa4bdbb96c4a30b2c8b3ccdbe6f079",
       "version_major": 2,
       "version_minor": 0
      },
      "text/plain": [
       "restarts:   0%|          | 0/1 [00:00<?, ?it/s]"
      ]
     },
     "metadata": {},
     "output_type": "display_data"
    },
    {
     "data": {
      "application/vnd.jupyter.widget-view+json": {
       "model_id": "7f7dd7bb1fcb4fd389f82f3f588120a4",
       "version_major": 2,
       "version_minor": 0
      },
      "text/plain": [
       "epochs:   0%|          | 0/1 [00:00<?, ?it/s]"
      ]
     },
     "metadata": {},
     "output_type": "display_data"
    },
    {
     "name": "stdout",
     "output_type": "stream",
     "text": [
      "<tf.Variable 'Adam_2/learning_rate:0' shape=() dtype=float32>\n",
      "<tf.Variable 'Adam_2/learning_rate:0' shape=() dtype=float32>\n",
      "Original Data Shape (selected):  (2500, 30)\n",
      "Original Data Shape (encoded):  (2500, 30)\n",
      "Original Data Class Distribution:  1580  (true) / 920  (false)\n",
      "(1500, 30) (1500,)\n",
      "(500, 30) (500,)\n",
      "(500, 30) (500,)\n",
      "Min Ratio:  0.37333333333333335\n",
      "Min Ratio:  0.3735\n"
     ]
    },
    {
     "data": {
      "application/vnd.jupyter.widget-view+json": {
       "model_id": "e51f7070b3374da9be1ad5923f6cb2f0",
       "version_major": 2,
       "version_minor": 0
      },
      "text/plain": [
       "restarts:   0%|          | 0/1 [00:00<?, ?it/s]"
      ]
     },
     "metadata": {},
     "output_type": "display_data"
    },
    {
     "data": {
      "application/vnd.jupyter.widget-view+json": {
       "model_id": "bd48c590e13048b1be2d25cf1b8374e4",
       "version_major": 2,
       "version_minor": 0
      },
      "text/plain": [
       "epochs:   0%|          | 0/1 [00:00<?, ?it/s]"
      ]
     },
     "metadata": {},
     "output_type": "display_data"
    },
    {
     "name": "stdout",
     "output_type": "stream",
     "text": [
      "<tf.Variable 'Adam_2/learning_rate:0' shape=() dtype=float32>\n",
      "<tf.Variable 'Adam_2/learning_rate:0' shape=() dtype=float32>\n",
      "Original Data Shape (selected):  (2500, 30)\n",
      "Original Data Shape (encoded):  (2500, 30)\n",
      "Original Data Class Distribution:  1177  (true) / 1323  (false)\n",
      "(1500, 30) (1500,)\n",
      "(500, 30) (500,)\n",
      "(500, 30) (500,)\n",
      "Min Ratio:  0.462\n",
      "Min Ratio:  0.4715\n"
     ]
    },
    {
     "data": {
      "application/vnd.jupyter.widget-view+json": {
       "model_id": "7ac4d0c35e7d4d19a11cc43332f1a631",
       "version_major": 2,
       "version_minor": 0
      },
      "text/plain": [
       "restarts:   0%|          | 0/1 [00:00<?, ?it/s]"
      ]
     },
     "metadata": {},
     "output_type": "display_data"
    },
    {
     "data": {
      "application/vnd.jupyter.widget-view+json": {
       "model_id": "2e9a8d506bf14bec962507ab86aa78db",
       "version_major": 2,
       "version_minor": 0
      },
      "text/plain": [
       "epochs:   0%|          | 0/1 [00:00<?, ?it/s]"
      ]
     },
     "metadata": {},
     "output_type": "display_data"
    },
    {
     "name": "stdout",
     "output_type": "stream",
     "text": [
      "<tf.Variable 'Adam_2/learning_rate:0' shape=() dtype=float32>\n",
      "<tf.Variable 'Adam_2/learning_rate:0' shape=() dtype=float32>\n",
      "Original Data Shape (selected):  (2500, 30)\n",
      "Original Data Shape (encoded):  (2500, 30)\n",
      "Original Data Class Distribution:  813  (true) / 1687  (false)\n",
      "(1500, 30) (1500,)\n",
      "(500, 30) (500,)\n",
      "(500, 30) (500,)\n",
      "Min Ratio:  0.3313333333333333\n",
      "Min Ratio:  0.3285\n"
     ]
    },
    {
     "data": {
      "application/vnd.jupyter.widget-view+json": {
       "model_id": "5c077899fecf4372bbc42aa16e8d73e1",
       "version_major": 2,
       "version_minor": 0
      },
      "text/plain": [
       "restarts:   0%|          | 0/1 [00:00<?, ?it/s]"
      ]
     },
     "metadata": {},
     "output_type": "display_data"
    },
    {
     "data": {
      "application/vnd.jupyter.widget-view+json": {
       "model_id": "aac19d1b40ef4549bc3cea2ff440f540",
       "version_major": 2,
       "version_minor": 0
      },
      "text/plain": [
       "epochs:   0%|          | 0/1 [00:00<?, ?it/s]"
      ]
     },
     "metadata": {},
     "output_type": "display_data"
    },
    {
     "name": "stdout",
     "output_type": "stream",
     "text": [
      "<tf.Variable 'Adam_2/learning_rate:0' shape=() dtype=float32>\n",
      "<tf.Variable 'Adam_2/learning_rate:0' shape=() dtype=float32>\n",
      "Original Data Shape (selected):  (2500, 30)\n",
      "Original Data Shape (encoded):  (2500, 30)\n",
      "Original Data Class Distribution:  1065  (true) / 1435  (false)\n",
      "(1500, 30) (1500,)\n",
      "(500, 30) (500,)\n",
      "(500, 30) (500,)\n",
      "Min Ratio:  0.41933333333333334\n",
      "Min Ratio:  0.4275\n"
     ]
    },
    {
     "data": {
      "application/vnd.jupyter.widget-view+json": {
       "model_id": "7a57d636c0024a0f8167a28c95a12f35",
       "version_major": 2,
       "version_minor": 0
      },
      "text/plain": [
       "restarts:   0%|          | 0/1 [00:00<?, ?it/s]"
      ]
     },
     "metadata": {},
     "output_type": "display_data"
    },
    {
     "data": {
      "application/vnd.jupyter.widget-view+json": {
       "model_id": "53e115530a784d9391d471d5de4b3f3a",
       "version_major": 2,
       "version_minor": 0
      },
      "text/plain": [
       "epochs:   0%|          | 0/1 [00:00<?, ?it/s]"
      ]
     },
     "metadata": {},
     "output_type": "display_data"
    },
    {
     "name": "stdout",
     "output_type": "stream",
     "text": [
      "<tf.Variable 'Adam_2/learning_rate:0' shape=() dtype=float32>\n",
      "<tf.Variable 'Adam_2/learning_rate:0' shape=() dtype=float32>\n",
      "Original Data Shape (selected):  (2500, 30)\n",
      "Original Data Shape (encoded):  (2500, 30)\n",
      "Original Data Class Distribution:  1217  (true) / 1283  (false)\n",
      "(1500, 30) (1500,)\n",
      "(500, 30) (500,)\n",
      "(500, 30) (500,)\n",
      "Min Ratio:  0.48733333333333334\n",
      "Min Ratio:  0.493\n"
     ]
    },
    {
     "data": {
      "application/vnd.jupyter.widget-view+json": {
       "model_id": "8697fd069c4c425fa6775bbe489ee33c",
       "version_major": 2,
       "version_minor": 0
      },
      "text/plain": [
       "restarts:   0%|          | 0/1 [00:00<?, ?it/s]"
      ]
     },
     "metadata": {},
     "output_type": "display_data"
    },
    {
     "data": {
      "application/vnd.jupyter.widget-view+json": {
       "model_id": "e89a59a839b042e88e080bd663a57fe8",
       "version_major": 2,
       "version_minor": 0
      },
      "text/plain": [
       "epochs:   0%|          | 0/1 [00:00<?, ?it/s]"
      ]
     },
     "metadata": {},
     "output_type": "display_data"
    },
    {
     "name": "stdout",
     "output_type": "stream",
     "text": [
      "<tf.Variable 'Adam_2/learning_rate:0' shape=() dtype=float32>\n",
      "<tf.Variable 'Adam_2/learning_rate:0' shape=() dtype=float32>\n",
      "Original Data Shape (selected):  (2500, 30)\n",
      "Original Data Shape (encoded):  (2500, 30)\n",
      "Original Data Class Distribution:  1339  (true) / 1161  (false)\n",
      "(1500, 30) (1500,)\n",
      "(500, 30) (500,)\n",
      "(500, 30) (500,)\n",
      "Min Ratio:  0.4706666666666667\n",
      "Min Ratio:  0.462\n"
     ]
    },
    {
     "data": {
      "application/vnd.jupyter.widget-view+json": {
       "model_id": "035d835cfa754f14876fb9367fdaccc2",
       "version_major": 2,
       "version_minor": 0
      },
      "text/plain": [
       "restarts:   0%|          | 0/1 [00:00<?, ?it/s]"
      ]
     },
     "metadata": {},
     "output_type": "display_data"
    },
    {
     "data": {
      "application/vnd.jupyter.widget-view+json": {
       "model_id": "42126aaa281e4ee59b83aca066f6e699",
       "version_major": 2,
       "version_minor": 0
      },
      "text/plain": [
       "epochs:   0%|          | 0/1 [00:00<?, ?it/s]"
      ]
     },
     "metadata": {},
     "output_type": "display_data"
    },
    {
     "name": "stdout",
     "output_type": "stream",
     "text": [
      "<tf.Variable 'Adam_2/learning_rate:0' shape=() dtype=float32>\n",
      "<tf.Variable 'Adam_2/learning_rate:0' shape=() dtype=float32>\n",
      "Original Data Shape (selected):  (2500, 30)\n",
      "Original Data Shape (encoded):  (2500, 30)\n",
      "Original Data Class Distribution:  1374  (true) / 1126  (false)\n",
      "(1500, 30) (1500,)\n",
      "(500, 30) (500,)\n",
      "(500, 30) (500,)\n",
      "Min Ratio:  0.4513333333333333\n",
      "Min Ratio:  0.4495\n"
     ]
    },
    {
     "data": {
      "application/vnd.jupyter.widget-view+json": {
       "model_id": "0d84e0ab4ae64f1991fda4285a6ef423",
       "version_major": 2,
       "version_minor": 0
      },
      "text/plain": [
       "restarts:   0%|          | 0/1 [00:00<?, ?it/s]"
      ]
     },
     "metadata": {},
     "output_type": "display_data"
    },
    {
     "data": {
      "application/vnd.jupyter.widget-view+json": {
       "model_id": "68dbac2f4c9d4c45a7a75fd307ce2a51",
       "version_major": 2,
       "version_minor": 0
      },
      "text/plain": [
       "epochs:   0%|          | 0/1 [00:00<?, ?it/s]"
      ]
     },
     "metadata": {},
     "output_type": "display_data"
    },
    {
     "name": "stdout",
     "output_type": "stream",
     "text": [
      "<tf.Variable 'Adam_2/learning_rate:0' shape=() dtype=float32>\n",
      "<tf.Variable 'Adam_2/learning_rate:0' shape=() dtype=float32>\n",
      "Original Data Shape (selected):  (2500, 30)\n",
      "Original Data Shape (encoded):  (2500, 30)\n",
      "Original Data Class Distribution:  1426  (true) / 1074  (false)\n",
      "(1500, 30) (1500,)\n",
      "(500, 30) (500,)\n",
      "(500, 30) (500,)\n",
      "Min Ratio:  0.44266666666666665\n",
      "Min Ratio:  0.4365\n"
     ]
    },
    {
     "data": {
      "application/vnd.jupyter.widget-view+json": {
       "model_id": "7a270bb993b04dba8975eec56e90ffed",
       "version_major": 2,
       "version_minor": 0
      },
      "text/plain": [
       "restarts:   0%|          | 0/1 [00:00<?, ?it/s]"
      ]
     },
     "metadata": {},
     "output_type": "display_data"
    },
    {
     "data": {
      "application/vnd.jupyter.widget-view+json": {
       "model_id": "06eb12bf5f6b4ff0b4ec6ef2e2ce793d",
       "version_major": 2,
       "version_minor": 0
      },
      "text/plain": [
       "epochs:   0%|          | 0/1 [00:00<?, ?it/s]"
      ]
     },
     "metadata": {},
     "output_type": "display_data"
    },
    {
     "name": "stdout",
     "output_type": "stream",
     "text": [
      "<tf.Variable 'Adam_2/learning_rate:0' shape=() dtype=float32>\n",
      "<tf.Variable 'Adam_2/learning_rate:0' shape=() dtype=float32>\n",
      "Original Data Shape (selected):  (2500, 30)\n",
      "Original Data Shape (encoded):  (2500, 30)\n",
      "Original Data Class Distribution:  1377  (true) / 1123  (false)\n",
      "(1500, 30) (1500,)\n",
      "(500, 30) (500,)\n",
      "(500, 30) (500,)\n",
      "Min Ratio:  0.448\n",
      "Min Ratio:  0.448\n"
     ]
    },
    {
     "data": {
      "application/vnd.jupyter.widget-view+json": {
       "model_id": "1d114f0ba61b404ca919dc17d3150960",
       "version_major": 2,
       "version_minor": 0
      },
      "text/plain": [
       "restarts:   0%|          | 0/1 [00:00<?, ?it/s]"
      ]
     },
     "metadata": {},
     "output_type": "display_data"
    },
    {
     "data": {
      "application/vnd.jupyter.widget-view+json": {
       "model_id": "24ab8985519a42369ae6cc5cc508af17",
       "version_major": 2,
       "version_minor": 0
      },
      "text/plain": [
       "epochs:   0%|          | 0/1 [00:00<?, ?it/s]"
      ]
     },
     "metadata": {},
     "output_type": "display_data"
    },
    {
     "name": "stdout",
     "output_type": "stream",
     "text": [
      "<tf.Variable 'Adam_2/learning_rate:0' shape=() dtype=float32>\n",
      "<tf.Variable 'Adam_2/learning_rate:0' shape=() dtype=float32>\n",
      "Original Data Shape (selected):  (2500, 30)\n",
      "Original Data Shape (encoded):  (2500, 30)\n",
      "Original Data Class Distribution:  589  (true) / 1911  (false)\n",
      "(1500, 30) (1500,)\n",
      "(500, 30) (500,)\n",
      "(500, 30) (500,)\n",
      "Min Ratio:  0.23933333333333334\n",
      "Min Ratio:  0.243\n"
     ]
    },
    {
     "data": {
      "application/vnd.jupyter.widget-view+json": {
       "model_id": "ece728f27e7e406b889f570b8af53d58",
       "version_major": 2,
       "version_minor": 0
      },
      "text/plain": [
       "restarts:   0%|          | 0/1 [00:00<?, ?it/s]"
      ]
     },
     "metadata": {},
     "output_type": "display_data"
    },
    {
     "data": {
      "application/vnd.jupyter.widget-view+json": {
       "model_id": "ffe74d4fa3c94c60a6b8318988182848",
       "version_major": 2,
       "version_minor": 0
      },
      "text/plain": [
       "epochs:   0%|          | 0/1 [00:00<?, ?it/s]"
      ]
     },
     "metadata": {},
     "output_type": "display_data"
    },
    {
     "name": "stdout",
     "output_type": "stream",
     "text": [
      "<tf.Variable 'Adam_2/learning_rate:0' shape=() dtype=float32>\n",
      "<tf.Variable 'Adam_2/learning_rate:0' shape=() dtype=float32>\n",
      "Original Data Shape (selected):  (2500, 30)\n",
      "Original Data Shape (encoded):  (2500, 30)\n",
      "Original Data Class Distribution:  833  (true) / 1667  (false)\n",
      "(1500, 30) (1500,)\n",
      "(500, 30) (500,)\n",
      "(500, 30) (500,)\n",
      "Min Ratio:  0.31733333333333336\n",
      "Min Ratio:  0.3305\n"
     ]
    },
    {
     "data": {
      "application/vnd.jupyter.widget-view+json": {
       "model_id": "5e9c3340f74546f79b780b4f52b47b06",
       "version_major": 2,
       "version_minor": 0
      },
      "text/plain": [
       "restarts:   0%|          | 0/1 [00:00<?, ?it/s]"
      ]
     },
     "metadata": {},
     "output_type": "display_data"
    },
    {
     "data": {
      "application/vnd.jupyter.widget-view+json": {
       "model_id": "c32f2bbaf0374064a25c49f6abdbe261",
       "version_major": 2,
       "version_minor": 0
      },
      "text/plain": [
       "epochs:   0%|          | 0/1 [00:00<?, ?it/s]"
      ]
     },
     "metadata": {},
     "output_type": "display_data"
    },
    {
     "name": "stdout",
     "output_type": "stream",
     "text": [
      "<tf.Variable 'Adam_2/learning_rate:0' shape=() dtype=float32>\n",
      "<tf.Variable 'Adam_2/learning_rate:0' shape=() dtype=float32>\n",
      "Original Data Shape (selected):  (2500, 30)\n",
      "Original Data Shape (encoded):  (2500, 30)\n",
      "Original Data Class Distribution:  1036  (true) / 1464  (false)\n",
      "(1500, 30) (1500,)\n",
      "(500, 30) (500,)\n",
      "(500, 30) (500,)\n",
      "Min Ratio:  0.4046666666666667\n",
      "Min Ratio:  0.4095\n"
     ]
    },
    {
     "data": {
      "application/vnd.jupyter.widget-view+json": {
       "model_id": "2f208199109e453e82e44ffe8dc1244d",
       "version_major": 2,
       "version_minor": 0
      },
      "text/plain": [
       "restarts:   0%|          | 0/1 [00:00<?, ?it/s]"
      ]
     },
     "metadata": {},
     "output_type": "display_data"
    },
    {
     "data": {
      "application/vnd.jupyter.widget-view+json": {
       "model_id": "a696764bd55543c59f0ad40374a0aabc",
       "version_major": 2,
       "version_minor": 0
      },
      "text/plain": [
       "epochs:   0%|          | 0/1 [00:00<?, ?it/s]"
      ]
     },
     "metadata": {},
     "output_type": "display_data"
    },
    {
     "name": "stdout",
     "output_type": "stream",
     "text": [
      "<tf.Variable 'Adam_2/learning_rate:0' shape=() dtype=float32>\n",
      "<tf.Variable 'Adam_2/learning_rate:0' shape=() dtype=float32>\n",
      "Original Data Shape (selected):  (2500, 30)\n",
      "Original Data Shape (encoded):  (2500, 30)\n",
      "Original Data Class Distribution:  1112  (true) / 1388  (false)\n",
      "(1500, 30) (1500,)\n",
      "(500, 30) (500,)\n",
      "(500, 30) (500,)\n",
      "Min Ratio:  0.43\n",
      "Min Ratio:  0.44\n"
     ]
    },
    {
     "data": {
      "application/vnd.jupyter.widget-view+json": {
       "model_id": "e2aa969b43e548119887c292d0ba2488",
       "version_major": 2,
       "version_minor": 0
      },
      "text/plain": [
       "restarts:   0%|          | 0/1 [00:00<?, ?it/s]"
      ]
     },
     "metadata": {},
     "output_type": "display_data"
    },
    {
     "data": {
      "application/vnd.jupyter.widget-view+json": {
       "model_id": "9e9c5edb13294b4d9a2bc42afd1727e5",
       "version_major": 2,
       "version_minor": 0
      },
      "text/plain": [
       "epochs:   0%|          | 0/1 [00:00<?, ?it/s]"
      ]
     },
     "metadata": {},
     "output_type": "display_data"
    },
    {
     "name": "stdout",
     "output_type": "stream",
     "text": [
      "<tf.Variable 'Adam_2/learning_rate:0' shape=() dtype=float32>\n",
      "<tf.Variable 'Adam_2/learning_rate:0' shape=() dtype=float32>\n",
      "Original Data Shape (selected):  (2500, 30)\n",
      "Original Data Shape (encoded):  (2500, 30)\n",
      "Original Data Class Distribution:  1146  (true) / 1354  (false)\n",
      "(1500, 30) (1500,)\n",
      "(500, 30) (500,)\n",
      "(500, 30) (500,)\n",
      "Min Ratio:  0.454\n",
      "Min Ratio:  0.452\n"
     ]
    },
    {
     "data": {
      "application/vnd.jupyter.widget-view+json": {
       "model_id": "8174b8cc275e451e807fb329fcdd75fd",
       "version_major": 2,
       "version_minor": 0
      },
      "text/plain": [
       "restarts:   0%|          | 0/1 [00:00<?, ?it/s]"
      ]
     },
     "metadata": {},
     "output_type": "display_data"
    },
    {
     "data": {
      "application/vnd.jupyter.widget-view+json": {
       "model_id": "6b5b792a8cef4c5ea5a7b08a483fe930",
       "version_major": 2,
       "version_minor": 0
      },
      "text/plain": [
       "epochs:   0%|          | 0/1 [00:00<?, ?it/s]"
      ]
     },
     "metadata": {},
     "output_type": "display_data"
    },
    {
     "name": "stdout",
     "output_type": "stream",
     "text": [
      "<tf.Variable 'Adam_2/learning_rate:0' shape=() dtype=float32>\n",
      "<tf.Variable 'Adam_2/learning_rate:0' shape=() dtype=float32>\n",
      "Original Data Shape (selected):  (2500, 30)\n",
      "Original Data Shape (encoded):  (2500, 30)\n",
      "Original Data Class Distribution:  1031  (true) / 1469  (false)\n",
      "(1500, 30) (1500,)\n",
      "(500, 30) (500,)\n",
      "(500, 30) (500,)\n",
      "Min Ratio:  0.41333333333333333\n",
      "Min Ratio:  0.4145\n"
     ]
    },
    {
     "data": {
      "application/vnd.jupyter.widget-view+json": {
       "model_id": "17b7d3ceed0541378dafd91fadda73a7",
       "version_major": 2,
       "version_minor": 0
      },
      "text/plain": [
       "restarts:   0%|          | 0/1 [00:00<?, ?it/s]"
      ]
     },
     "metadata": {},
     "output_type": "display_data"
    },
    {
     "data": {
      "application/vnd.jupyter.widget-view+json": {
       "model_id": "9b7b32506eae4f0c89577c7e03e185c8",
       "version_major": 2,
       "version_minor": 0
      },
      "text/plain": [
       "epochs:   0%|          | 0/1 [00:00<?, ?it/s]"
      ]
     },
     "metadata": {},
     "output_type": "display_data"
    },
    {
     "name": "stdout",
     "output_type": "stream",
     "text": [
      "<tf.Variable 'Adam_2/learning_rate:0' shape=() dtype=float32>\n",
      "<tf.Variable 'Adam_2/learning_rate:0' shape=() dtype=float32>\n",
      "Original Data Shape (selected):  (2500, 30)\n",
      "Original Data Shape (encoded):  (2500, 30)\n",
      "Original Data Class Distribution:  616  (true) / 1884  (false)\n",
      "(1500, 30) (1500,)\n",
      "(500, 30) (500,)\n",
      "(500, 30) (500,)\n",
      "Min Ratio:  0.24533333333333332\n",
      "Min Ratio:  0.2515\n"
     ]
    },
    {
     "data": {
      "application/vnd.jupyter.widget-view+json": {
       "model_id": "391200a79e4d4dac86d27c335571a216",
       "version_major": 2,
       "version_minor": 0
      },
      "text/plain": [
       "restarts:   0%|          | 0/1 [00:00<?, ?it/s]"
      ]
     },
     "metadata": {},
     "output_type": "display_data"
    },
    {
     "data": {
      "application/vnd.jupyter.widget-view+json": {
       "model_id": "59b4310633fe42e9913131dfbaca2e18",
       "version_major": 2,
       "version_minor": 0
      },
      "text/plain": [
       "epochs:   0%|          | 0/1 [00:00<?, ?it/s]"
      ]
     },
     "metadata": {},
     "output_type": "display_data"
    },
    {
     "name": "stdout",
     "output_type": "stream",
     "text": [
      "<tf.Variable 'Adam_2/learning_rate:0' shape=() dtype=float32>\n",
      "<tf.Variable 'Adam_2/learning_rate:0' shape=() dtype=float32>\n",
      "Original Data Shape (selected):  (2500, 30)\n",
      "Original Data Shape (encoded):  (2500, 30)\n",
      "Original Data Class Distribution:  882  (true) / 1618  (false)\n",
      "(1500, 30) (1500,)\n",
      "(500, 30) (500,)\n",
      "(500, 30) (500,)\n",
      "Min Ratio:  0.35\n",
      "Min Ratio:  0.3555\n"
     ]
    },
    {
     "data": {
      "application/vnd.jupyter.widget-view+json": {
       "model_id": "a905eeff856f46988f9734201c2740e1",
       "version_major": 2,
       "version_minor": 0
      },
      "text/plain": [
       "restarts:   0%|          | 0/1 [00:00<?, ?it/s]"
      ]
     },
     "metadata": {},
     "output_type": "display_data"
    },
    {
     "data": {
      "application/vnd.jupyter.widget-view+json": {
       "model_id": "5766467e307b4c12a71e166c7d7c6daf",
       "version_major": 2,
       "version_minor": 0
      },
      "text/plain": [
       "epochs:   0%|          | 0/1 [00:00<?, ?it/s]"
      ]
     },
     "metadata": {},
     "output_type": "display_data"
    },
    {
     "name": "stdout",
     "output_type": "stream",
     "text": [
      "<tf.Variable 'Adam_2/learning_rate:0' shape=() dtype=float32>\n",
      "<tf.Variable 'Adam_2/learning_rate:0' shape=() dtype=float32>\n",
      "Original Data Shape (selected):  (2500, 30)\n",
      "Original Data Shape (encoded):  (2500, 30)\n",
      "Original Data Class Distribution:  1000  (true) / 1500  (false)\n",
      "(1500, 30) (1500,)\n",
      "(500, 30) (500,)\n",
      "(500, 30) (500,)\n",
      "Min Ratio:  0.3993333333333333\n",
      "Min Ratio:  0.394\n"
     ]
    },
    {
     "data": {
      "application/vnd.jupyter.widget-view+json": {
       "model_id": "9d0500f8c039402e8351d751ce9608a0",
       "version_major": 2,
       "version_minor": 0
      },
      "text/plain": [
       "restarts:   0%|          | 0/1 [00:00<?, ?it/s]"
      ]
     },
     "metadata": {},
     "output_type": "display_data"
    },
    {
     "data": {
      "application/vnd.jupyter.widget-view+json": {
       "model_id": "1846bd1f816f4c449e092f68854ba483",
       "version_major": 2,
       "version_minor": 0
      },
      "text/plain": [
       "epochs:   0%|          | 0/1 [00:00<?, ?it/s]"
      ]
     },
     "metadata": {},
     "output_type": "display_data"
    },
    {
     "name": "stdout",
     "output_type": "stream",
     "text": [
      "<tf.Variable 'Adam_2/learning_rate:0' shape=() dtype=float32>\n",
      "<tf.Variable 'Adam_2/learning_rate:0' shape=() dtype=float32>\n",
      "Original Data Shape (selected):  (2500, 30)\n",
      "Original Data Shape (encoded):  (2500, 30)\n",
      "Original Data Class Distribution:  1142  (true) / 1358  (false)\n",
      "(1500, 30) (1500,)\n",
      "(500, 30) (500,)\n",
      "(500, 30) (500,)\n",
      "Min Ratio:  0.45266666666666666\n",
      "Min Ratio:  0.4575\n"
     ]
    },
    {
     "data": {
      "application/vnd.jupyter.widget-view+json": {
       "model_id": "9e72b1a6fcdf45f89016fe53a84db0db",
       "version_major": 2,
       "version_minor": 0
      },
      "text/plain": [
       "restarts:   0%|          | 0/1 [00:00<?, ?it/s]"
      ]
     },
     "metadata": {},
     "output_type": "display_data"
    },
    {
     "data": {
      "application/vnd.jupyter.widget-view+json": {
       "model_id": "75010cde16cd4346b89d0ac0e3ece8b4",
       "version_major": 2,
       "version_minor": 0
      },
      "text/plain": [
       "epochs:   0%|          | 0/1 [00:00<?, ?it/s]"
      ]
     },
     "metadata": {},
     "output_type": "display_data"
    },
    {
     "name": "stdout",
     "output_type": "stream",
     "text": [
      "<tf.Variable 'Adam_2/learning_rate:0' shape=() dtype=float32>\n",
      "<tf.Variable 'Adam_2/learning_rate:0' shape=() dtype=float32>\n",
      "Original Data Shape (selected):  (2500, 30)\n",
      "Original Data Shape (encoded):  (2500, 30)\n",
      "Original Data Class Distribution:  1248  (true) / 1252  (false)\n",
      "(1500, 30) (1500,)\n",
      "(500, 30) (500,)\n",
      "(500, 30) (500,)\n",
      "Min Ratio:  0.498\n",
      "Min Ratio:  0.497\n"
     ]
    },
    {
     "data": {
      "application/vnd.jupyter.widget-view+json": {
       "model_id": "815fa09c4e584560bb9d7d7e101510eb",
       "version_major": 2,
       "version_minor": 0
      },
      "text/plain": [
       "restarts:   0%|          | 0/1 [00:00<?, ?it/s]"
      ]
     },
     "metadata": {},
     "output_type": "display_data"
    },
    {
     "data": {
      "application/vnd.jupyter.widget-view+json": {
       "model_id": "2c07c5f8d7684b64b475f8c7c828168c",
       "version_major": 2,
       "version_minor": 0
      },
      "text/plain": [
       "epochs:   0%|          | 0/1 [00:00<?, ?it/s]"
      ]
     },
     "metadata": {},
     "output_type": "display_data"
    },
    {
     "name": "stdout",
     "output_type": "stream",
     "text": [
      "<tf.Variable 'Adam_2/learning_rate:0' shape=() dtype=float32>\n",
      "<tf.Variable 'Adam_2/learning_rate:0' shape=() dtype=float32>\n",
      "Original Data Shape (selected):  (2500, 30)\n",
      "Original Data Shape (encoded):  (2500, 30)\n",
      "Original Data Class Distribution:  1125  (true) / 1375  (false)\n",
      "(1500, 30) (1500,)\n",
      "(500, 30) (500,)\n",
      "(500, 30) (500,)\n",
      "Min Ratio:  0.43533333333333335\n",
      "Min Ratio:  0.4425\n"
     ]
    },
    {
     "data": {
      "application/vnd.jupyter.widget-view+json": {
       "model_id": "e13cf52b18b64545918d7924796601d2",
       "version_major": 2,
       "version_minor": 0
      },
      "text/plain": [
       "restarts:   0%|          | 0/1 [00:00<?, ?it/s]"
      ]
     },
     "metadata": {},
     "output_type": "display_data"
    },
    {
     "data": {
      "application/vnd.jupyter.widget-view+json": {
       "model_id": "f8d12b39d06b405fb10cbdee0d6e713d",
       "version_major": 2,
       "version_minor": 0
      },
      "text/plain": [
       "epochs:   0%|          | 0/1 [00:00<?, ?it/s]"
      ]
     },
     "metadata": {},
     "output_type": "display_data"
    },
    {
     "name": "stdout",
     "output_type": "stream",
     "text": [
      "<tf.Variable 'Adam_2/learning_rate:0' shape=() dtype=float32>\n",
      "<tf.Variable 'Adam_2/learning_rate:0' shape=() dtype=float32>\n",
      "Original Data Shape (selected):  (2500, 30)\n",
      "Original Data Shape (encoded):  (2500, 30)\n",
      "Original Data Class Distribution:  1080  (true) / 1420  (false)\n",
      "(1500, 30) (1500,)\n",
      "(500, 30) (500,)\n",
      "(500, 30) (500,)\n",
      "Min Ratio:  0.42733333333333334\n",
      "Min Ratio:  0.4325\n"
     ]
    },
    {
     "data": {
      "application/vnd.jupyter.widget-view+json": {
       "model_id": "5423e4a4adc746c9a6238be6e87f0943",
       "version_major": 2,
       "version_minor": 0
      },
      "text/plain": [
       "restarts:   0%|          | 0/1 [00:00<?, ?it/s]"
      ]
     },
     "metadata": {},
     "output_type": "display_data"
    },
    {
     "data": {
      "application/vnd.jupyter.widget-view+json": {
       "model_id": "deae12122271453b9151a80bd8da11ae",
       "version_major": 2,
       "version_minor": 0
      },
      "text/plain": [
       "epochs:   0%|          | 0/1 [00:00<?, ?it/s]"
      ]
     },
     "metadata": {},
     "output_type": "display_data"
    },
    {
     "name": "stdout",
     "output_type": "stream",
     "text": [
      "<tf.Variable 'Adam_2/learning_rate:0' shape=() dtype=float32>\n",
      "<tf.Variable 'Adam_2/learning_rate:0' shape=() dtype=float32>\n",
      "Original Data Shape (selected):  (2500, 30)\n",
      "Original Data Shape (encoded):  (2500, 30)\n",
      "Original Data Class Distribution:  1313  (true) / 1187  (false)\n",
      "(1500, 30) (1500,)\n",
      "(500, 30) (500,)\n",
      "(500, 30) (500,)\n",
      "Min Ratio:  0.47533333333333333\n",
      "Min Ratio:  0.475\n"
     ]
    },
    {
     "data": {
      "application/vnd.jupyter.widget-view+json": {
       "model_id": "fa86eded12d240c4870eea4527b04b91",
       "version_major": 2,
       "version_minor": 0
      },
      "text/plain": [
       "restarts:   0%|          | 0/1 [00:00<?, ?it/s]"
      ]
     },
     "metadata": {},
     "output_type": "display_data"
    },
    {
     "data": {
      "application/vnd.jupyter.widget-view+json": {
       "model_id": "06ad7945e6fd4242a7d077422e7530b0",
       "version_major": 2,
       "version_minor": 0
      },
      "text/plain": [
       "epochs:   0%|          | 0/1 [00:00<?, ?it/s]"
      ]
     },
     "metadata": {},
     "output_type": "display_data"
    },
    {
     "name": "stdout",
     "output_type": "stream",
     "text": [
      "<tf.Variable 'Adam_2/learning_rate:0' shape=() dtype=float32>\n",
      "<tf.Variable 'Adam_2/learning_rate:0' shape=() dtype=float32>\n",
      "Original Data Shape (selected):  (2500, 30)\n",
      "Original Data Shape (encoded):  (2500, 30)\n",
      "Original Data Class Distribution:  1336  (true) / 1164  (false)\n",
      "(1500, 30) (1500,)\n",
      "(500, 30) (500,)\n",
      "(500, 30) (500,)\n",
      "Min Ratio:  0.4693333333333333\n",
      "Min Ratio:  0.465\n"
     ]
    },
    {
     "data": {
      "application/vnd.jupyter.widget-view+json": {
       "model_id": "f9040832819b42398322283e2d9bec70",
       "version_major": 2,
       "version_minor": 0
      },
      "text/plain": [
       "restarts:   0%|          | 0/1 [00:00<?, ?it/s]"
      ]
     },
     "metadata": {},
     "output_type": "display_data"
    },
    {
     "data": {
      "application/vnd.jupyter.widget-view+json": {
       "model_id": "21c7119fee65417982a8f4ef3bd8bd82",
       "version_major": 2,
       "version_minor": 0
      },
      "text/plain": [
       "epochs:   0%|          | 0/1 [00:00<?, ?it/s]"
      ]
     },
     "metadata": {},
     "output_type": "display_data"
    },
    {
     "name": "stdout",
     "output_type": "stream",
     "text": [
      "<tf.Variable 'Adam_2/learning_rate:0' shape=() dtype=float32>\n",
      "<tf.Variable 'Adam_2/learning_rate:0' shape=() dtype=float32>\n",
      "Original Data Shape (selected):  (2500, 30)\n",
      "Original Data Shape (encoded):  (2500, 30)\n",
      "Original Data Class Distribution:  1348  (true) / 1152  (false)\n",
      "(1500, 30) (1500,)\n",
      "(500, 30) (500,)\n",
      "(500, 30) (500,)\n",
      "Min Ratio:  0.4573333333333333\n",
      "Min Ratio:  0.4695\n"
     ]
    },
    {
     "data": {
      "application/vnd.jupyter.widget-view+json": {
       "model_id": "13f9fab0f2e045378bab5c8e248333d7",
       "version_major": 2,
       "version_minor": 0
      },
      "text/plain": [
       "restarts:   0%|          | 0/1 [00:00<?, ?it/s]"
      ]
     },
     "metadata": {},
     "output_type": "display_data"
    },
    {
     "data": {
      "application/vnd.jupyter.widget-view+json": {
       "model_id": "e61735dc49a54930b6464b41377fd6d2",
       "version_major": 2,
       "version_minor": 0
      },
      "text/plain": [
       "epochs:   0%|          | 0/1 [00:00<?, ?it/s]"
      ]
     },
     "metadata": {},
     "output_type": "display_data"
    },
    {
     "name": "stdout",
     "output_type": "stream",
     "text": [
      "<tf.Variable 'Adam_2/learning_rate:0' shape=() dtype=float32>\n",
      "<tf.Variable 'Adam_2/learning_rate:0' shape=() dtype=float32>\n",
      "Original Data Shape (selected):  (2500, 30)\n",
      "Original Data Shape (encoded):  (2500, 30)\n",
      "Original Data Class Distribution:  1333  (true) / 1167  (false)\n",
      "(1500, 30) (1500,)\n",
      "(500, 30) (500,)\n",
      "(500, 30) (500,)\n",
      "Min Ratio:  0.466\n",
      "Min Ratio:  0.4715\n"
     ]
    },
    {
     "data": {
      "application/vnd.jupyter.widget-view+json": {
       "model_id": "2d7edad1351948c691d7f199d94027be",
       "version_major": 2,
       "version_minor": 0
      },
      "text/plain": [
       "restarts:   0%|          | 0/1 [00:00<?, ?it/s]"
      ]
     },
     "metadata": {},
     "output_type": "display_data"
    },
    {
     "data": {
      "application/vnd.jupyter.widget-view+json": {
       "model_id": "b4e21a85b8374f8ab7c5b106e33ba42d",
       "version_major": 2,
       "version_minor": 0
      },
      "text/plain": [
       "epochs:   0%|          | 0/1 [00:00<?, ?it/s]"
      ]
     },
     "metadata": {},
     "output_type": "display_data"
    },
    {
     "name": "stdout",
     "output_type": "stream",
     "text": [
      "<tf.Variable 'Adam_2/learning_rate:0' shape=() dtype=float32>\n",
      "<tf.Variable 'Adam_2/learning_rate:0' shape=() dtype=float32>\n",
      "Original Data Shape (selected):  (2500, 30)\n",
      "Original Data Shape (encoded):  (2500, 30)\n",
      "Original Data Class Distribution:  1306  (true) / 1194  (false)\n",
      "(1500, 30) (1500,)\n",
      "(500, 30) (500,)\n",
      "(500, 30) (500,)\n",
      "Min Ratio:  0.47733333333333333\n",
      "Min Ratio:  0.478\n"
     ]
    },
    {
     "data": {
      "application/vnd.jupyter.widget-view+json": {
       "model_id": "2cdc5a5ca201435f9517fdbf90faa839",
       "version_major": 2,
       "version_minor": 0
      },
      "text/plain": [
       "restarts:   0%|          | 0/1 [00:00<?, ?it/s]"
      ]
     },
     "metadata": {},
     "output_type": "display_data"
    },
    {
     "data": {
      "application/vnd.jupyter.widget-view+json": {
       "model_id": "b0250ada658546cbbe56b364aa5a51fe",
       "version_major": 2,
       "version_minor": 0
      },
      "text/plain": [
       "epochs:   0%|          | 0/1 [00:00<?, ?it/s]"
      ]
     },
     "metadata": {},
     "output_type": "display_data"
    },
    {
     "name": "stdout",
     "output_type": "stream",
     "text": [
      "<tf.Variable 'Adam_2/learning_rate:0' shape=() dtype=float32>\n",
      "<tf.Variable 'Adam_2/learning_rate:0' shape=() dtype=float32>\n",
      "Original Data Shape (selected):  (2500, 30)\n",
      "Original Data Shape (encoded):  (2500, 30)\n",
      "Original Data Class Distribution:  1257  (true) / 1243  (false)\n",
      "(1500, 30) (1500,)\n",
      "(500, 30) (500,)\n",
      "(500, 30) (500,)\n",
      "Min Ratio:  0.496\n",
      "Min Ratio:  0.498\n"
     ]
    },
    {
     "data": {
      "application/vnd.jupyter.widget-view+json": {
       "model_id": "9da9043ba67a4daba2eb7ac6408d29ab",
       "version_major": 2,
       "version_minor": 0
      },
      "text/plain": [
       "restarts:   0%|          | 0/1 [00:00<?, ?it/s]"
      ]
     },
     "metadata": {},
     "output_type": "display_data"
    },
    {
     "data": {
      "application/vnd.jupyter.widget-view+json": {
       "model_id": "118633516a154893b1a5026dab1e3e78",
       "version_major": 2,
       "version_minor": 0
      },
      "text/plain": [
       "epochs:   0%|          | 0/1 [00:00<?, ?it/s]"
      ]
     },
     "metadata": {},
     "output_type": "display_data"
    },
    {
     "name": "stdout",
     "output_type": "stream",
     "text": [
      "<tf.Variable 'Adam_2/learning_rate:0' shape=() dtype=float32>\n",
      "<tf.Variable 'Adam_2/learning_rate:0' shape=() dtype=float32>\n",
      "Original Data Shape (selected):  (2500, 30)\n",
      "Original Data Shape (encoded):  (2500, 30)\n",
      "Original Data Class Distribution:  736  (true) / 1764  (false)\n",
      "(1500, 30) (1500,)\n",
      "(500, 30) (500,)\n",
      "(500, 30) (500,)\n",
      "Min Ratio:  0.2946666666666667\n",
      "Min Ratio:  0.2955\n"
     ]
    },
    {
     "data": {
      "application/vnd.jupyter.widget-view+json": {
       "model_id": "dc831666f4674408b9a331bcc056d895",
       "version_major": 2,
       "version_minor": 0
      },
      "text/plain": [
       "restarts:   0%|          | 0/1 [00:00<?, ?it/s]"
      ]
     },
     "metadata": {},
     "output_type": "display_data"
    },
    {
     "data": {
      "application/vnd.jupyter.widget-view+json": {
       "model_id": "b07e9a50fa5c4946b99c1b73261dd381",
       "version_major": 2,
       "version_minor": 0
      },
      "text/plain": [
       "epochs:   0%|          | 0/1 [00:00<?, ?it/s]"
      ]
     },
     "metadata": {},
     "output_type": "display_data"
    },
    {
     "name": "stdout",
     "output_type": "stream",
     "text": [
      "<tf.Variable 'Adam_2/learning_rate:0' shape=() dtype=float32>\n",
      "<tf.Variable 'Adam_2/learning_rate:0' shape=() dtype=float32>\n",
      "Original Data Shape (selected):  (2500, 30)\n",
      "Original Data Shape (encoded):  (2500, 30)\n",
      "Original Data Class Distribution:  950  (true) / 1550  (false)\n",
      "(1500, 30) (1500,)\n",
      "(500, 30) (500,)\n",
      "(500, 30) (500,)\n",
      "Min Ratio:  0.38466666666666666\n",
      "Min Ratio:  0.3805\n"
     ]
    },
    {
     "data": {
      "application/vnd.jupyter.widget-view+json": {
       "model_id": "3a9c16331966406699aa6655a78180db",
       "version_major": 2,
       "version_minor": 0
      },
      "text/plain": [
       "restarts:   0%|          | 0/1 [00:00<?, ?it/s]"
      ]
     },
     "metadata": {},
     "output_type": "display_data"
    },
    {
     "data": {
      "application/vnd.jupyter.widget-view+json": {
       "model_id": "fd33fa66d50b4b3db5a537c92c0f168b",
       "version_major": 2,
       "version_minor": 0
      },
      "text/plain": [
       "epochs:   0%|          | 0/1 [00:00<?, ?it/s]"
      ]
     },
     "metadata": {},
     "output_type": "display_data"
    },
    {
     "name": "stdout",
     "output_type": "stream",
     "text": [
      "<tf.Variable 'Adam_2/learning_rate:0' shape=() dtype=float32>\n",
      "<tf.Variable 'Adam_2/learning_rate:0' shape=() dtype=float32>\n",
      "Original Data Shape (selected):  (2500, 30)\n",
      "Original Data Shape (encoded):  (2500, 30)\n",
      "Original Data Class Distribution:  1144  (true) / 1356  (false)\n",
      "(1500, 30) (1500,)\n",
      "(500, 30) (500,)\n",
      "(500, 30) (500,)\n",
      "Min Ratio:  0.452\n",
      "Min Ratio:  0.459\n"
     ]
    },
    {
     "data": {
      "application/vnd.jupyter.widget-view+json": {
       "model_id": "8ff793c95ae04dd8b0119f225f96636a",
       "version_major": 2,
       "version_minor": 0
      },
      "text/plain": [
       "restarts:   0%|          | 0/1 [00:00<?, ?it/s]"
      ]
     },
     "metadata": {},
     "output_type": "display_data"
    },
    {
     "data": {
      "application/vnd.jupyter.widget-view+json": {
       "model_id": "66939df571ac43b4b96e76be4b47bc41",
       "version_major": 2,
       "version_minor": 0
      },
      "text/plain": [
       "epochs:   0%|          | 0/1 [00:00<?, ?it/s]"
      ]
     },
     "metadata": {},
     "output_type": "display_data"
    },
    {
     "name": "stdout",
     "output_type": "stream",
     "text": [
      "<tf.Variable 'Adam_2/learning_rate:0' shape=() dtype=float32>\n",
      "<tf.Variable 'Adam_2/learning_rate:0' shape=() dtype=float32>\n",
      "Original Data Shape (selected):  (2500, 30)\n",
      "Original Data Shape (encoded):  (2500, 30)\n",
      "Original Data Class Distribution:  1212  (true) / 1288  (false)\n",
      "(1500, 30) (1500,)\n",
      "(500, 30) (500,)\n",
      "(500, 30) (500,)\n",
      "Min Ratio:  0.486\n",
      "Min Ratio:  0.4835\n"
     ]
    },
    {
     "data": {
      "application/vnd.jupyter.widget-view+json": {
       "model_id": "56db3c79c4bc4577a830e89db8af61b4",
       "version_major": 2,
       "version_minor": 0
      },
      "text/plain": [
       "restarts:   0%|          | 0/1 [00:00<?, ?it/s]"
      ]
     },
     "metadata": {},
     "output_type": "display_data"
    },
    {
     "data": {
      "application/vnd.jupyter.widget-view+json": {
       "model_id": "4cbe72cb37404a8bb9b3c2139da35c14",
       "version_major": 2,
       "version_minor": 0
      },
      "text/plain": [
       "epochs:   0%|          | 0/1 [00:00<?, ?it/s]"
      ]
     },
     "metadata": {},
     "output_type": "display_data"
    },
    {
     "name": "stdout",
     "output_type": "stream",
     "text": [
      "<tf.Variable 'Adam_2/learning_rate:0' shape=() dtype=float32>\n",
      "<tf.Variable 'Adam_2/learning_rate:0' shape=() dtype=float32>\n",
      "Original Data Shape (selected):  (2500, 30)\n",
      "Original Data Shape (encoded):  (2500, 30)\n",
      "Original Data Class Distribution:  1288  (true) / 1212  (false)\n",
      "(1500, 30) (1500,)\n",
      "(500, 30) (500,)\n",
      "(500, 30) (500,)\n",
      "Min Ratio:  0.478\n",
      "Min Ratio:  0.4855\n"
     ]
    },
    {
     "data": {
      "application/vnd.jupyter.widget-view+json": {
       "model_id": "d0dd1b07d46b4accac194f1ef149e9e2",
       "version_major": 2,
       "version_minor": 0
      },
      "text/plain": [
       "restarts:   0%|          | 0/1 [00:00<?, ?it/s]"
      ]
     },
     "metadata": {},
     "output_type": "display_data"
    },
    {
     "data": {
      "application/vnd.jupyter.widget-view+json": {
       "model_id": "6929370fc6db49dfbc46c23b36d0b104",
       "version_major": 2,
       "version_minor": 0
      },
      "text/plain": [
       "epochs:   0%|          | 0/1 [00:00<?, ?it/s]"
      ]
     },
     "metadata": {},
     "output_type": "display_data"
    },
    {
     "name": "stdout",
     "output_type": "stream",
     "text": [
      "<tf.Variable 'Adam_2/learning_rate:0' shape=() dtype=float32>\n",
      "<tf.Variable 'Adam_2/learning_rate:0' shape=() dtype=float32>\n",
      "Original Data Shape (selected):  (2500, 30)\n",
      "Original Data Shape (encoded):  (2500, 30)\n",
      "Original Data Class Distribution:  1337  (true) / 1163  (false)\n",
      "(1500, 30) (1500,)\n",
      "(500, 30) (500,)\n",
      "(500, 30) (500,)\n",
      "Min Ratio:  0.4726666666666667\n",
      "Min Ratio:  0.465\n"
     ]
    },
    {
     "data": {
      "application/vnd.jupyter.widget-view+json": {
       "model_id": "694e3577f1eb4cc8877e165feb8f5f0a",
       "version_major": 2,
       "version_minor": 0
      },
      "text/plain": [
       "restarts:   0%|          | 0/1 [00:00<?, ?it/s]"
      ]
     },
     "metadata": {},
     "output_type": "display_data"
    },
    {
     "data": {
      "application/vnd.jupyter.widget-view+json": {
       "model_id": "b8147b145077446aa8ec57f72ae59348",
       "version_major": 2,
       "version_minor": 0
      },
      "text/plain": [
       "epochs:   0%|          | 0/1 [00:00<?, ?it/s]"
      ]
     },
     "metadata": {},
     "output_type": "display_data"
    },
    {
     "name": "stdout",
     "output_type": "stream",
     "text": [
      "<tf.Variable 'Adam_2/learning_rate:0' shape=() dtype=float32>\n",
      "<tf.Variable 'Adam_2/learning_rate:0' shape=() dtype=float32>\n",
      "Original Data Shape (selected):  (2500, 30)\n",
      "Original Data Shape (encoded):  (2500, 30)\n",
      "Original Data Class Distribution:  1379  (true) / 1121  (false)\n",
      "(1500, 30) (1500,)\n",
      "(500, 30) (500,)\n",
      "(500, 30) (500,)\n",
      "Min Ratio:  0.44266666666666665\n",
      "Min Ratio:  0.4515\n"
     ]
    },
    {
     "data": {
      "application/vnd.jupyter.widget-view+json": {
       "model_id": "edc8ea7a01f943219ce508d78d8c8ef1",
       "version_major": 2,
       "version_minor": 0
      },
      "text/plain": [
       "restarts:   0%|          | 0/1 [00:00<?, ?it/s]"
      ]
     },
     "metadata": {},
     "output_type": "display_data"
    },
    {
     "data": {
      "application/vnd.jupyter.widget-view+json": {
       "model_id": "befc81f072814479808882b09edf05f1",
       "version_major": 2,
       "version_minor": 0
      },
      "text/plain": [
       "epochs:   0%|          | 0/1 [00:00<?, ?it/s]"
      ]
     },
     "metadata": {},
     "output_type": "display_data"
    },
    {
     "name": "stdout",
     "output_type": "stream",
     "text": [
      "<tf.Variable 'Adam_2/learning_rate:0' shape=() dtype=float32>\n",
      "<tf.Variable 'Adam_2/learning_rate:0' shape=() dtype=float32>\n",
      "Original Data Shape (selected):  (2500, 30)\n",
      "Original Data Shape (encoded):  (2500, 30)\n",
      "Original Data Class Distribution:  1130  (true) / 1370  (false)\n",
      "(1500, 30) (1500,)\n",
      "(500, 30) (500,)\n",
      "(500, 30) (500,)\n",
      "Min Ratio:  0.43866666666666665\n",
      "Min Ratio:  0.4435\n"
     ]
    },
    {
     "data": {
      "application/vnd.jupyter.widget-view+json": {
       "model_id": "0346577e57274653bf724ddb4fe2c9bd",
       "version_major": 2,
       "version_minor": 0
      },
      "text/plain": [
       "restarts:   0%|          | 0/1 [00:00<?, ?it/s]"
      ]
     },
     "metadata": {},
     "output_type": "display_data"
    },
    {
     "data": {
      "application/vnd.jupyter.widget-view+json": {
       "model_id": "25cfd8b3f4e54bc5a8381a64bc432df9",
       "version_major": 2,
       "version_minor": 0
      },
      "text/plain": [
       "epochs:   0%|          | 0/1 [00:00<?, ?it/s]"
      ]
     },
     "metadata": {},
     "output_type": "display_data"
    },
    {
     "name": "stdout",
     "output_type": "stream",
     "text": [
      "<tf.Variable 'Adam_2/learning_rate:0' shape=() dtype=float32>\n",
      "<tf.Variable 'Adam_2/learning_rate:0' shape=() dtype=float32>\n",
      "Original Data Shape (selected):  (2500, 30)\n",
      "Original Data Shape (encoded):  (2500, 30)\n",
      "Original Data Class Distribution:  1119  (true) / 1381  (false)\n",
      "(1500, 30) (1500,)\n",
      "(500, 30) (500,)\n",
      "(500, 30) (500,)\n",
      "Min Ratio:  0.44133333333333336\n",
      "Min Ratio:  0.445\n"
     ]
    },
    {
     "data": {
      "application/vnd.jupyter.widget-view+json": {
       "model_id": "460b7cc74acc462f8c697b2c00e4950b",
       "version_major": 2,
       "version_minor": 0
      },
      "text/plain": [
       "restarts:   0%|          | 0/1 [00:00<?, ?it/s]"
      ]
     },
     "metadata": {},
     "output_type": "display_data"
    },
    {
     "data": {
      "application/vnd.jupyter.widget-view+json": {
       "model_id": "e6f19ef2a6af49df8dbb2675ed99ae44",
       "version_major": 2,
       "version_minor": 0
      },
      "text/plain": [
       "epochs:   0%|          | 0/1 [00:00<?, ?it/s]"
      ]
     },
     "metadata": {},
     "output_type": "display_data"
    },
    {
     "name": "stdout",
     "output_type": "stream",
     "text": [
      "<tf.Variable 'Adam_2/learning_rate:0' shape=() dtype=float32>\n",
      "<tf.Variable 'Adam_2/learning_rate:0' shape=() dtype=float32>\n",
      "Original Data Shape (selected):  (2500, 30)\n",
      "Original Data Shape (encoded):  (2500, 30)\n",
      "Original Data Class Distribution:  1335  (true) / 1165  (false)\n",
      "(1500, 30) (1500,)\n",
      "(500, 30) (500,)\n",
      "(500, 30) (500,)\n",
      "Min Ratio:  0.454\n",
      "Min Ratio:  0.464\n"
     ]
    },
    {
     "data": {
      "application/vnd.jupyter.widget-view+json": {
       "model_id": "3f0994801b124b63963c01b385075ad4",
       "version_major": 2,
       "version_minor": 0
      },
      "text/plain": [
       "restarts:   0%|          | 0/1 [00:00<?, ?it/s]"
      ]
     },
     "metadata": {},
     "output_type": "display_data"
    },
    {
     "data": {
      "application/vnd.jupyter.widget-view+json": {
       "model_id": "82604b10598f4052a4a8729601b0ccf6",
       "version_major": 2,
       "version_minor": 0
      },
      "text/plain": [
       "epochs:   0%|          | 0/1 [00:00<?, ?it/s]"
      ]
     },
     "metadata": {},
     "output_type": "display_data"
    },
    {
     "name": "stdout",
     "output_type": "stream",
     "text": [
      "<tf.Variable 'Adam_2/learning_rate:0' shape=() dtype=float32>\n",
      "<tf.Variable 'Adam_2/learning_rate:0' shape=() dtype=float32>\n",
      "Original Data Shape (selected):  (2500, 30)\n",
      "Original Data Shape (encoded):  (2500, 30)\n",
      "Original Data Class Distribution:  1448  (true) / 1052  (false)\n",
      "(1500, 30) (1500,)\n",
      "(500, 30) (500,)\n",
      "(500, 30) (500,)\n",
      "Min Ratio:  0.4166666666666667\n",
      "Min Ratio:  0.419\n"
     ]
    },
    {
     "data": {
      "application/vnd.jupyter.widget-view+json": {
       "model_id": "ab82ca4768d94982b8286258aea964c7",
       "version_major": 2,
       "version_minor": 0
      },
      "text/plain": [
       "restarts:   0%|          | 0/1 [00:00<?, ?it/s]"
      ]
     },
     "metadata": {},
     "output_type": "display_data"
    },
    {
     "data": {
      "application/vnd.jupyter.widget-view+json": {
       "model_id": "bc0b7f12c65749d79def6a952e8befb9",
       "version_major": 2,
       "version_minor": 0
      },
      "text/plain": [
       "epochs:   0%|          | 0/1 [00:00<?, ?it/s]"
      ]
     },
     "metadata": {},
     "output_type": "display_data"
    },
    {
     "name": "stdout",
     "output_type": "stream",
     "text": [
      "<tf.Variable 'Adam_2/learning_rate:0' shape=() dtype=float32>\n",
      "<tf.Variable 'Adam_2/learning_rate:0' shape=() dtype=float32>\n",
      "Original Data Shape (selected):  (2500, 30)\n",
      "Original Data Shape (encoded):  (2500, 30)\n",
      "Original Data Class Distribution:  1451  (true) / 1049  (false)\n",
      "(1500, 30) (1500,)\n",
      "(500, 30) (500,)\n",
      "(500, 30) (500,)\n",
      "Min Ratio:  0.4186666666666667\n",
      "Min Ratio:  0.42\n"
     ]
    },
    {
     "data": {
      "application/vnd.jupyter.widget-view+json": {
       "model_id": "111fa4abf48c474e9d4a89eb3d284191",
       "version_major": 2,
       "version_minor": 0
      },
      "text/plain": [
       "restarts:   0%|          | 0/1 [00:00<?, ?it/s]"
      ]
     },
     "metadata": {},
     "output_type": "display_data"
    },
    {
     "data": {
      "application/vnd.jupyter.widget-view+json": {
       "model_id": "e06f0746b63a444889a3e5ec3a43dfa8",
       "version_major": 2,
       "version_minor": 0
      },
      "text/plain": [
       "epochs:   0%|          | 0/1 [00:00<?, ?it/s]"
      ]
     },
     "metadata": {},
     "output_type": "display_data"
    },
    {
     "name": "stdout",
     "output_type": "stream",
     "text": [
      "<tf.Variable 'Adam_2/learning_rate:0' shape=() dtype=float32>\n",
      "<tf.Variable 'Adam_2/learning_rate:0' shape=() dtype=float32>\n",
      "Original Data Shape (selected):  (2500, 30)\n",
      "Original Data Shape (encoded):  (2500, 30)\n",
      "Original Data Class Distribution:  1540  (true) / 960  (false)\n",
      "(1500, 30) (1500,)\n",
      "(500, 30) (500,)\n",
      "(500, 30) (500,)\n",
      "Min Ratio:  0.38333333333333336\n",
      "Min Ratio:  0.379\n"
     ]
    },
    {
     "data": {
      "application/vnd.jupyter.widget-view+json": {
       "model_id": "2b55267dddce4ad481f818801b2f9d16",
       "version_major": 2,
       "version_minor": 0
      },
      "text/plain": [
       "restarts:   0%|          | 0/1 [00:00<?, ?it/s]"
      ]
     },
     "metadata": {},
     "output_type": "display_data"
    },
    {
     "data": {
      "application/vnd.jupyter.widget-view+json": {
       "model_id": "c0edcecf75524c968b04e2c38f09012f",
       "version_major": 2,
       "version_minor": 0
      },
      "text/plain": [
       "epochs:   0%|          | 0/1 [00:00<?, ?it/s]"
      ]
     },
     "metadata": {},
     "output_type": "display_data"
    },
    {
     "name": "stdout",
     "output_type": "stream",
     "text": [
      "<tf.Variable 'Adam_2/learning_rate:0' shape=() dtype=float32>\n",
      "<tf.Variable 'Adam_2/learning_rate:0' shape=() dtype=float32>\n",
      "Original Data Shape (selected):  (2500, 30)\n",
      "Original Data Shape (encoded):  (2500, 30)\n",
      "Original Data Class Distribution:  1608  (true) / 892  (false)\n",
      "(1500, 30) (1500,)\n",
      "(500, 30) (500,)\n",
      "(500, 30) (500,)\n",
      "Min Ratio:  0.3413333333333333\n",
      "Min Ratio:  0.3515\n"
     ]
    },
    {
     "data": {
      "application/vnd.jupyter.widget-view+json": {
       "model_id": "de3f544707f94b088766bc0db179bba4",
       "version_major": 2,
       "version_minor": 0
      },
      "text/plain": [
       "restarts:   0%|          | 0/1 [00:00<?, ?it/s]"
      ]
     },
     "metadata": {},
     "output_type": "display_data"
    },
    {
     "data": {
      "application/vnd.jupyter.widget-view+json": {
       "model_id": "61d885d581764d5eb799528b030e7cde",
       "version_major": 2,
       "version_minor": 0
      },
      "text/plain": [
       "epochs:   0%|          | 0/1 [00:00<?, ?it/s]"
      ]
     },
     "metadata": {},
     "output_type": "display_data"
    },
    {
     "name": "stdout",
     "output_type": "stream",
     "text": [
      "<tf.Variable 'Adam_2/learning_rate:0' shape=() dtype=float32>\n",
      "<tf.Variable 'Adam_2/learning_rate:0' shape=() dtype=float32>\n",
      "Original Data Shape (selected):  (2500, 30)\n",
      "Original Data Shape (encoded):  (2500, 30)\n",
      "Original Data Class Distribution:  1441  (true) / 1059  (false)\n",
      "(1500, 30) (1500,)\n",
      "(500, 30) (500,)\n",
      "(500, 30) (500,)\n",
      "Min Ratio:  0.43333333333333335\n",
      "Min Ratio:  0.4235\n"
     ]
    },
    {
     "data": {
      "application/vnd.jupyter.widget-view+json": {
       "model_id": "8eb014a73e3c4c87959c8fc5a84cd842",
       "version_major": 2,
       "version_minor": 0
      },
      "text/plain": [
       "restarts:   0%|          | 0/1 [00:00<?, ?it/s]"
      ]
     },
     "metadata": {},
     "output_type": "display_data"
    },
    {
     "data": {
      "application/vnd.jupyter.widget-view+json": {
       "model_id": "0d8b57df39134c1191bb0ab75c29ffd6",
       "version_major": 2,
       "version_minor": 0
      },
      "text/plain": [
       "epochs:   0%|          | 0/1 [00:00<?, ?it/s]"
      ]
     },
     "metadata": {},
     "output_type": "display_data"
    },
    {
     "name": "stdout",
     "output_type": "stream",
     "text": [
      "<tf.Variable 'Adam_2/learning_rate:0' shape=() dtype=float32>\n",
      "<tf.Variable 'Adam_2/learning_rate:0' shape=() dtype=float32>\n",
      "Original Data Shape (selected):  (2500, 30)\n",
      "Original Data Shape (encoded):  (2500, 30)\n",
      "Original Data Class Distribution:  1111  (true) / 1389  (false)\n",
      "(1500, 30) (1500,)\n",
      "(500, 30) (500,)\n",
      "(500, 30) (500,)\n",
      "Min Ratio:  0.458\n",
      "Min Ratio:  0.452\n"
     ]
    },
    {
     "data": {
      "application/vnd.jupyter.widget-view+json": {
       "model_id": "deb6c49fe2d54ea19af531979c9dab16",
       "version_major": 2,
       "version_minor": 0
      },
      "text/plain": [
       "restarts:   0%|          | 0/1 [00:00<?, ?it/s]"
      ]
     },
     "metadata": {},
     "output_type": "display_data"
    },
    {
     "data": {
      "application/vnd.jupyter.widget-view+json": {
       "model_id": "9351d2828afc41ea8d4ae0e16c33e3f4",
       "version_major": 2,
       "version_minor": 0
      },
      "text/plain": [
       "epochs:   0%|          | 0/1 [00:00<?, ?it/s]"
      ]
     },
     "metadata": {},
     "output_type": "display_data"
    },
    {
     "name": "stdout",
     "output_type": "stream",
     "text": [
      "<tf.Variable 'Adam_2/learning_rate:0' shape=() dtype=float32>\n",
      "<tf.Variable 'Adam_2/learning_rate:0' shape=() dtype=float32>\n",
      "Original Data Shape (selected):  (2500, 30)\n",
      "Original Data Shape (encoded):  (2500, 30)\n",
      "Original Data Class Distribution:  1268  (true) / 1232  (false)\n",
      "(1500, 30) (1500,)\n",
      "(500, 30) (500,)\n",
      "(500, 30) (500,)\n",
      "Min Ratio:  0.486\n",
      "Min Ratio:  0.49\n"
     ]
    },
    {
     "data": {
      "application/vnd.jupyter.widget-view+json": {
       "model_id": "390031217dd54b71866003ae7d89c529",
       "version_major": 2,
       "version_minor": 0
      },
      "text/plain": [
       "restarts:   0%|          | 0/1 [00:00<?, ?it/s]"
      ]
     },
     "metadata": {},
     "output_type": "display_data"
    },
    {
     "data": {
      "application/vnd.jupyter.widget-view+json": {
       "model_id": "e0f4132ddb0046548852298acad9cb4d",
       "version_major": 2,
       "version_minor": 0
      },
      "text/plain": [
       "epochs:   0%|          | 0/1 [00:00<?, ?it/s]"
      ]
     },
     "metadata": {},
     "output_type": "display_data"
    },
    {
     "name": "stdout",
     "output_type": "stream",
     "text": [
      "<tf.Variable 'Adam_2/learning_rate:0' shape=() dtype=float32>\n",
      "<tf.Variable 'Adam_2/learning_rate:0' shape=() dtype=float32>\n",
      "Original Data Shape (selected):  (2500, 30)\n",
      "Original Data Shape (encoded):  (2500, 30)\n",
      "Original Data Class Distribution:  1458  (true) / 1042  (false)\n",
      "(1500, 30) (1500,)\n",
      "(500, 30) (500,)\n",
      "(500, 30) (500,)\n",
      "Min Ratio:  0.4226666666666667\n",
      "Min Ratio:  0.424\n"
     ]
    },
    {
     "data": {
      "application/vnd.jupyter.widget-view+json": {
       "model_id": "932b31323e1d4bd7896b7190172c3066",
       "version_major": 2,
       "version_minor": 0
      },
      "text/plain": [
       "restarts:   0%|          | 0/1 [00:00<?, ?it/s]"
      ]
     },
     "metadata": {},
     "output_type": "display_data"
    },
    {
     "data": {
      "application/vnd.jupyter.widget-view+json": {
       "model_id": "3b45c4fba17143169f0420b1804660f1",
       "version_major": 2,
       "version_minor": 0
      },
      "text/plain": [
       "epochs:   0%|          | 0/1 [00:00<?, ?it/s]"
      ]
     },
     "metadata": {},
     "output_type": "display_data"
    },
    {
     "name": "stdout",
     "output_type": "stream",
     "text": [
      "<tf.Variable 'Adam_2/learning_rate:0' shape=() dtype=float32>\n",
      "<tf.Variable 'Adam_2/learning_rate:0' shape=() dtype=float32>\n",
      "Original Data Shape (selected):  (2500, 30)\n",
      "Original Data Shape (encoded):  (2500, 30)\n",
      "Original Data Class Distribution:  1541  (true) / 959  (false)\n",
      "(1500, 30) (1500,)\n",
      "(500, 30) (500,)\n",
      "(500, 30) (500,)\n",
      "Min Ratio:  0.386\n",
      "Min Ratio:  0.389\n"
     ]
    },
    {
     "data": {
      "application/vnd.jupyter.widget-view+json": {
       "model_id": "adffd85471f14ea3b15ae52665279b32",
       "version_major": 2,
       "version_minor": 0
      },
      "text/plain": [
       "restarts:   0%|          | 0/1 [00:00<?, ?it/s]"
      ]
     },
     "metadata": {},
     "output_type": "display_data"
    },
    {
     "data": {
      "application/vnd.jupyter.widget-view+json": {
       "model_id": "c053a96218db4029b1e6af88a20ce23a",
       "version_major": 2,
       "version_minor": 0
      },
      "text/plain": [
       "epochs:   0%|          | 0/1 [00:00<?, ?it/s]"
      ]
     },
     "metadata": {},
     "output_type": "display_data"
    },
    {
     "name": "stdout",
     "output_type": "stream",
     "text": [
      "<tf.Variable 'Adam_2/learning_rate:0' shape=() dtype=float32>\n",
      "<tf.Variable 'Adam_2/learning_rate:0' shape=() dtype=float32>\n",
      "Original Data Shape (selected):  (2500, 30)\n",
      "Original Data Shape (encoded):  (2500, 30)\n",
      "Original Data Class Distribution:  1645  (true) / 855  (false)\n",
      "(1500, 30) (1500,)\n",
      "(500, 30) (500,)\n",
      "(500, 30) (500,)\n",
      "Min Ratio:  0.3446666666666667\n",
      "Min Ratio:  0.341\n"
     ]
    },
    {
     "data": {
      "application/vnd.jupyter.widget-view+json": {
       "model_id": "d7d6ffbb351f41ca976f69472d003a15",
       "version_major": 2,
       "version_minor": 0
      },
      "text/plain": [
       "restarts:   0%|          | 0/1 [00:00<?, ?it/s]"
      ]
     },
     "metadata": {},
     "output_type": "display_data"
    },
    {
     "data": {
      "application/vnd.jupyter.widget-view+json": {
       "model_id": "d2eb3ae12aeb483fa72312faec9ce55c",
       "version_major": 2,
       "version_minor": 0
      },
      "text/plain": [
       "epochs:   0%|          | 0/1 [00:00<?, ?it/s]"
      ]
     },
     "metadata": {},
     "output_type": "display_data"
    },
    {
     "name": "stdout",
     "output_type": "stream",
     "text": [
      "<tf.Variable 'Adam_2/learning_rate:0' shape=() dtype=float32>\n",
      "<tf.Variable 'Adam_2/learning_rate:0' shape=() dtype=float32>\n",
      "Original Data Shape (selected):  (2500, 30)\n",
      "Original Data Shape (encoded):  (2500, 30)\n",
      "Original Data Class Distribution:  1708  (true) / 792  (false)\n",
      "(1500, 30) (1500,)\n",
      "(500, 30) (500,)\n",
      "(500, 30) (500,)\n",
      "Min Ratio:  0.32066666666666666\n",
      "Min Ratio:  0.322\n"
     ]
    },
    {
     "data": {
      "application/vnd.jupyter.widget-view+json": {
       "model_id": "d508acd19a8244748d22f0bf314fdab5",
       "version_major": 2,
       "version_minor": 0
      },
      "text/plain": [
       "restarts:   0%|          | 0/1 [00:00<?, ?it/s]"
      ]
     },
     "metadata": {},
     "output_type": "display_data"
    },
    {
     "data": {
      "application/vnd.jupyter.widget-view+json": {
       "model_id": "a2e22999d8cb427cac76944aca27fefb",
       "version_major": 2,
       "version_minor": 0
      },
      "text/plain": [
       "epochs:   0%|          | 0/1 [00:00<?, ?it/s]"
      ]
     },
     "metadata": {},
     "output_type": "display_data"
    },
    {
     "name": "stdout",
     "output_type": "stream",
     "text": [
      "<tf.Variable 'Adam_2/learning_rate:0' shape=() dtype=float32>\n",
      "<tf.Variable 'Adam_2/learning_rate:0' shape=() dtype=float32>\n",
      "Original Data Shape (selected):  (2500, 30)\n",
      "Original Data Shape (encoded):  (2500, 30)\n",
      "Original Data Class Distribution:  1758  (true) / 742  (false)\n",
      "(1500, 30) (1500,)\n",
      "(500, 30) (500,)\n",
      "(500, 30) (500,)\n",
      "Min Ratio:  0.296\n",
      "Min Ratio:  0.2975\n"
     ]
    },
    {
     "data": {
      "application/vnd.jupyter.widget-view+json": {
       "model_id": "c0765e7ae1e84461b1965b879c7a5f1a",
       "version_major": 2,
       "version_minor": 0
      },
      "text/plain": [
       "restarts:   0%|          | 0/1 [00:00<?, ?it/s]"
      ]
     },
     "metadata": {},
     "output_type": "display_data"
    },
    {
     "data": {
      "application/vnd.jupyter.widget-view+json": {
       "model_id": "0c90f8d236b741dd9ddfde42e4799fd0",
       "version_major": 2,
       "version_minor": 0
      },
      "text/plain": [
       "epochs:   0%|          | 0/1 [00:00<?, ?it/s]"
      ]
     },
     "metadata": {},
     "output_type": "display_data"
    },
    {
     "name": "stdout",
     "output_type": "stream",
     "text": [
      "<tf.Variable 'Adam_2/learning_rate:0' shape=() dtype=float32>\n",
      "<tf.Variable 'Adam_2/learning_rate:0' shape=() dtype=float32>\n",
      "Original Data Shape (selected):  (2500, 30)\n",
      "Original Data Shape (encoded):  (2500, 30)\n",
      "Original Data Class Distribution:  1045  (true) / 1455  (false)\n",
      "(1500, 30) (1500,)\n",
      "(500, 30) (500,)\n",
      "(500, 30) (500,)\n",
      "Min Ratio:  0.42533333333333334\n",
      "Min Ratio:  0.409\n"
     ]
    },
    {
     "data": {
      "application/vnd.jupyter.widget-view+json": {
       "model_id": "4bce6304221c4ea181018e99d04af3ce",
       "version_major": 2,
       "version_minor": 0
      },
      "text/plain": [
       "restarts:   0%|          | 0/1 [00:00<?, ?it/s]"
      ]
     },
     "metadata": {},
     "output_type": "display_data"
    },
    {
     "data": {
      "application/vnd.jupyter.widget-view+json": {
       "model_id": "c81217e0b6b7495ca274e8d7e5bc5143",
       "version_major": 2,
       "version_minor": 0
      },
      "text/plain": [
       "epochs:   0%|          | 0/1 [00:00<?, ?it/s]"
      ]
     },
     "metadata": {},
     "output_type": "display_data"
    },
    {
     "name": "stdout",
     "output_type": "stream",
     "text": [
      "<tf.Variable 'Adam_2/learning_rate:0' shape=() dtype=float32>\n",
      "<tf.Variable 'Adam_2/learning_rate:0' shape=() dtype=float32>\n",
      "Original Data Shape (selected):  (2500, 30)\n",
      "Original Data Shape (encoded):  (2500, 30)\n",
      "Original Data Class Distribution:  1172  (true) / 1328  (false)\n",
      "(1500, 30) (1500,)\n",
      "(500, 30) (500,)\n",
      "(500, 30) (500,)\n",
      "Min Ratio:  0.47533333333333333\n",
      "Min Ratio:  0.4695\n"
     ]
    },
    {
     "data": {
      "application/vnd.jupyter.widget-view+json": {
       "model_id": "5ca38395dba54ad4969672b0696959d5",
       "version_major": 2,
       "version_minor": 0
      },
      "text/plain": [
       "restarts:   0%|          | 0/1 [00:00<?, ?it/s]"
      ]
     },
     "metadata": {},
     "output_type": "display_data"
    },
    {
     "data": {
      "application/vnd.jupyter.widget-view+json": {
       "model_id": "38478c11a44142a7b946db0e14f9b02b",
       "version_major": 2,
       "version_minor": 0
      },
      "text/plain": [
       "epochs:   0%|          | 0/1 [00:00<?, ?it/s]"
      ]
     },
     "metadata": {},
     "output_type": "display_data"
    },
    {
     "name": "stdout",
     "output_type": "stream",
     "text": [
      "<tf.Variable 'Adam_2/learning_rate:0' shape=() dtype=float32>\n",
      "<tf.Variable 'Adam_2/learning_rate:0' shape=() dtype=float32>\n",
      "Original Data Shape (selected):  (2500, 30)\n",
      "Original Data Shape (encoded):  (2500, 30)\n",
      "Original Data Class Distribution:  1379  (true) / 1121  (false)\n",
      "(1500, 30) (1500,)\n",
      "(500, 30) (500,)\n",
      "(500, 30) (500,)\n",
      "Min Ratio:  0.44333333333333336\n",
      "Min Ratio:  0.442\n"
     ]
    },
    {
     "data": {
      "application/vnd.jupyter.widget-view+json": {
       "model_id": "370324360ca24118958beac0cf74d4da",
       "version_major": 2,
       "version_minor": 0
      },
      "text/plain": [
       "restarts:   0%|          | 0/1 [00:00<?, ?it/s]"
      ]
     },
     "metadata": {},
     "output_type": "display_data"
    },
    {
     "data": {
      "application/vnd.jupyter.widget-view+json": {
       "model_id": "7e12b399649a476fb7f2e0bf4d47767f",
       "version_major": 2,
       "version_minor": 0
      },
      "text/plain": [
       "epochs:   0%|          | 0/1 [00:00<?, ?it/s]"
      ]
     },
     "metadata": {},
     "output_type": "display_data"
    },
    {
     "name": "stdout",
     "output_type": "stream",
     "text": [
      "<tf.Variable 'Adam_2/learning_rate:0' shape=() dtype=float32>\n",
      "<tf.Variable 'Adam_2/learning_rate:0' shape=() dtype=float32>\n",
      "Original Data Shape (selected):  (2500, 30)\n",
      "Original Data Shape (encoded):  (2500, 30)\n",
      "Original Data Class Distribution:  1432  (true) / 1068  (false)\n",
      "(1500, 30) (1500,)\n",
      "(500, 30) (500,)\n",
      "(500, 30) (500,)\n",
      "Min Ratio:  0.422\n",
      "Min Ratio:  0.421\n"
     ]
    },
    {
     "data": {
      "application/vnd.jupyter.widget-view+json": {
       "model_id": "461e8e03920e4e8bac320559557e1cd2",
       "version_major": 2,
       "version_minor": 0
      },
      "text/plain": [
       "restarts:   0%|          | 0/1 [00:00<?, ?it/s]"
      ]
     },
     "metadata": {},
     "output_type": "display_data"
    },
    {
     "data": {
      "application/vnd.jupyter.widget-view+json": {
       "model_id": "58e3193f5b564155978e2efd2189f7be",
       "version_major": 2,
       "version_minor": 0
      },
      "text/plain": [
       "epochs:   0%|          | 0/1 [00:00<?, ?it/s]"
      ]
     },
     "metadata": {},
     "output_type": "display_data"
    },
    {
     "name": "stdout",
     "output_type": "stream",
     "text": [
      "<tf.Variable 'Adam_2/learning_rate:0' shape=() dtype=float32>\n",
      "<tf.Variable 'Adam_2/learning_rate:0' shape=() dtype=float32>\n",
      "Original Data Shape (selected):  (2500, 30)\n",
      "Original Data Shape (encoded):  (2500, 30)\n",
      "Original Data Class Distribution:  1544  (true) / 956  (false)\n",
      "(1500, 30) (1500,)\n",
      "(500, 30) (500,)\n",
      "(500, 30) (500,)\n",
      "Min Ratio:  0.38266666666666665\n",
      "Min Ratio:  0.3775\n"
     ]
    },
    {
     "data": {
      "application/vnd.jupyter.widget-view+json": {
       "model_id": "341ad54846944aa2943dd4d30ea235c2",
       "version_major": 2,
       "version_minor": 0
      },
      "text/plain": [
       "restarts:   0%|          | 0/1 [00:00<?, ?it/s]"
      ]
     },
     "metadata": {},
     "output_type": "display_data"
    },
    {
     "data": {
      "application/vnd.jupyter.widget-view+json": {
       "model_id": "12a8cfe145644caca861008ef4472cf1",
       "version_major": 2,
       "version_minor": 0
      },
      "text/plain": [
       "epochs:   0%|          | 0/1 [00:00<?, ?it/s]"
      ]
     },
     "metadata": {},
     "output_type": "display_data"
    },
    {
     "name": "stdout",
     "output_type": "stream",
     "text": [
      "<tf.Variable 'Adam_2/learning_rate:0' shape=() dtype=float32>\n",
      "<tf.Variable 'Adam_2/learning_rate:0' shape=() dtype=float32>\n",
      "Original Data Shape (selected):  (2500, 30)\n",
      "Original Data Shape (encoded):  (2500, 30)\n",
      "Original Data Class Distribution:  1555  (true) / 945  (false)\n",
      "(1500, 30) (1500,)\n",
      "(500, 30) (500,)\n",
      "(500, 30) (500,)\n",
      "Min Ratio:  0.37266666666666665\n",
      "Min Ratio:  0.3765\n"
     ]
    },
    {
     "data": {
      "application/vnd.jupyter.widget-view+json": {
       "model_id": "ec9ea643f9c84c1a889799b06591b58c",
       "version_major": 2,
       "version_minor": 0
      },
      "text/plain": [
       "restarts:   0%|          | 0/1 [00:00<?, ?it/s]"
      ]
     },
     "metadata": {},
     "output_type": "display_data"
    },
    {
     "data": {
      "application/vnd.jupyter.widget-view+json": {
       "model_id": "e7dd691d50984f1882bad17d648feaaf",
       "version_major": 2,
       "version_minor": 0
      },
      "text/plain": [
       "epochs:   0%|          | 0/1 [00:00<?, ?it/s]"
      ]
     },
     "metadata": {},
     "output_type": "display_data"
    },
    {
     "name": "stdout",
     "output_type": "stream",
     "text": [
      "<tf.Variable 'Adam_2/learning_rate:0' shape=() dtype=float32>\n",
      "<tf.Variable 'Adam_2/learning_rate:0' shape=() dtype=float32>\n",
      "Original Data Shape (selected):  (2500, 30)\n",
      "Original Data Shape (encoded):  (2500, 30)\n",
      "Original Data Class Distribution:  1633  (true) / 867  (false)\n",
      "(1500, 30) (1500,)\n",
      "(500, 30) (500,)\n",
      "(500, 30) (500,)\n",
      "Min Ratio:  0.342\n",
      "Min Ratio:  0.346\n"
     ]
    },
    {
     "data": {
      "application/vnd.jupyter.widget-view+json": {
       "model_id": "ea504d11855545fb9be0add5ee708ecb",
       "version_major": 2,
       "version_minor": 0
      },
      "text/plain": [
       "restarts:   0%|          | 0/1 [00:00<?, ?it/s]"
      ]
     },
     "metadata": {},
     "output_type": "display_data"
    },
    {
     "data": {
      "application/vnd.jupyter.widget-view+json": {
       "model_id": "e4d59b4ced44412ca2c7b1a929f2e659",
       "version_major": 2,
       "version_minor": 0
      },
      "text/plain": [
       "epochs:   0%|          | 0/1 [00:00<?, ?it/s]"
      ]
     },
     "metadata": {},
     "output_type": "display_data"
    },
    {
     "name": "stdout",
     "output_type": "stream",
     "text": [
      "<tf.Variable 'Adam_2/learning_rate:0' shape=() dtype=float32>\n",
      "<tf.Variable 'Adam_2/learning_rate:0' shape=() dtype=float32>\n",
      "Original Data Shape (selected):  (2500, 30)\n",
      "Original Data Shape (encoded):  (2500, 30)\n",
      "Original Data Class Distribution:  1209  (true) / 1291  (false)\n",
      "(1500, 30) (1500,)\n",
      "(500, 30) (500,)\n",
      "(500, 30) (500,)\n",
      "Min Ratio:  0.4826666666666667\n",
      "Min Ratio:  0.4785\n"
     ]
    },
    {
     "data": {
      "application/vnd.jupyter.widget-view+json": {
       "model_id": "aa3c60c8f09a4fe383fa4d0f57d3d8f4",
       "version_major": 2,
       "version_minor": 0
      },
      "text/plain": [
       "restarts:   0%|          | 0/1 [00:00<?, ?it/s]"
      ]
     },
     "metadata": {},
     "output_type": "display_data"
    },
    {
     "data": {
      "application/vnd.jupyter.widget-view+json": {
       "model_id": "418b351a1a174c2b9bc01b714fb8aeaa",
       "version_major": 2,
       "version_minor": 0
      },
      "text/plain": [
       "epochs:   0%|          | 0/1 [00:00<?, ?it/s]"
      ]
     },
     "metadata": {},
     "output_type": "display_data"
    },
    {
     "name": "stdout",
     "output_type": "stream",
     "text": [
      "<tf.Variable 'Adam_2/learning_rate:0' shape=() dtype=float32>\n",
      "<tf.Variable 'Adam_2/learning_rate:0' shape=() dtype=float32>\n",
      "Original Data Shape (selected):  (2500, 30)\n",
      "Original Data Shape (encoded):  (2500, 30)\n",
      "Original Data Class Distribution:  924  (true) / 1576  (false)\n",
      "(1500, 30) (1500,)\n",
      "(500, 30) (500,)\n",
      "(500, 30) (500,)\n",
      "Min Ratio:  0.35933333333333334\n",
      "Min Ratio:  0.3645\n"
     ]
    },
    {
     "data": {
      "application/vnd.jupyter.widget-view+json": {
       "model_id": "47d5ef9872fa4caca0e5d2b8e07f582c",
       "version_major": 2,
       "version_minor": 0
      },
      "text/plain": [
       "restarts:   0%|          | 0/1 [00:00<?, ?it/s]"
      ]
     },
     "metadata": {},
     "output_type": "display_data"
    },
    {
     "data": {
      "application/vnd.jupyter.widget-view+json": {
       "model_id": "133c957ed7c341128d8d0952f5ac4adf",
       "version_major": 2,
       "version_minor": 0
      },
      "text/plain": [
       "epochs:   0%|          | 0/1 [00:00<?, ?it/s]"
      ]
     },
     "metadata": {},
     "output_type": "display_data"
    },
    {
     "name": "stdout",
     "output_type": "stream",
     "text": [
      "<tf.Variable 'Adam_2/learning_rate:0' shape=() dtype=float32>\n",
      "<tf.Variable 'Adam_2/learning_rate:0' shape=() dtype=float32>\n",
      "Original Data Shape (selected):  (2500, 30)\n",
      "Original Data Shape (encoded):  (2500, 30)\n",
      "Original Data Class Distribution:  1221  (true) / 1279  (false)\n",
      "(1500, 30) (1500,)\n",
      "(500, 30) (500,)\n",
      "(500, 30) (500,)\n",
      "Min Ratio:  0.47933333333333333\n",
      "Min Ratio:  0.4875\n"
     ]
    },
    {
     "data": {
      "application/vnd.jupyter.widget-view+json": {
       "model_id": "6459c9b03f2f4a81991fd2c50513f426",
       "version_major": 2,
       "version_minor": 0
      },
      "text/plain": [
       "restarts:   0%|          | 0/1 [00:00<?, ?it/s]"
      ]
     },
     "metadata": {},
     "output_type": "display_data"
    },
    {
     "data": {
      "application/vnd.jupyter.widget-view+json": {
       "model_id": "29bc437f0507413391356f51a4b3e3df",
       "version_major": 2,
       "version_minor": 0
      },
      "text/plain": [
       "epochs:   0%|          | 0/1 [00:00<?, ?it/s]"
      ]
     },
     "metadata": {},
     "output_type": "display_data"
    },
    {
     "name": "stdout",
     "output_type": "stream",
     "text": [
      "<tf.Variable 'Adam_2/learning_rate:0' shape=() dtype=float32>\n",
      "<tf.Variable 'Adam_2/learning_rate:0' shape=() dtype=float32>\n",
      "Original Data Shape (selected):  (2500, 30)\n",
      "Original Data Shape (encoded):  (2500, 30)\n",
      "Original Data Class Distribution:  1320  (true) / 1180  (false)\n",
      "(1500, 30) (1500,)\n",
      "(500, 30) (500,)\n",
      "(500, 30) (500,)\n",
      "Min Ratio:  0.484\n",
      "Min Ratio:  0.4735\n"
     ]
    },
    {
     "data": {
      "application/vnd.jupyter.widget-view+json": {
       "model_id": "ea0efc315849417bb4e993f5bbbc86a6",
       "version_major": 2,
       "version_minor": 0
      },
      "text/plain": [
       "restarts:   0%|          | 0/1 [00:00<?, ?it/s]"
      ]
     },
     "metadata": {},
     "output_type": "display_data"
    },
    {
     "data": {
      "application/vnd.jupyter.widget-view+json": {
       "model_id": "269491bf93804a94bb7740db766c99aa",
       "version_major": 2,
       "version_minor": 0
      },
      "text/plain": [
       "epochs:   0%|          | 0/1 [00:00<?, ?it/s]"
      ]
     },
     "metadata": {},
     "output_type": "display_data"
    },
    {
     "name": "stdout",
     "output_type": "stream",
     "text": [
      "<tf.Variable 'Adam_2/learning_rate:0' shape=() dtype=float32>\n",
      "<tf.Variable 'Adam_2/learning_rate:0' shape=() dtype=float32>\n",
      "Original Data Shape (selected):  (2500, 30)\n",
      "Original Data Shape (encoded):  (2500, 30)\n",
      "Original Data Class Distribution:  1471  (true) / 1029  (false)\n",
      "(1500, 30) (1500,)\n",
      "(500, 30) (500,)\n",
      "(500, 30) (500,)\n",
      "Min Ratio:  0.404\n",
      "Min Ratio:  0.4095\n"
     ]
    },
    {
     "data": {
      "application/vnd.jupyter.widget-view+json": {
       "model_id": "6a7e7e5c55644d8a979f4e605bb37f22",
       "version_major": 2,
       "version_minor": 0
      },
      "text/plain": [
       "restarts:   0%|          | 0/1 [00:00<?, ?it/s]"
      ]
     },
     "metadata": {},
     "output_type": "display_data"
    },
    {
     "data": {
      "application/vnd.jupyter.widget-view+json": {
       "model_id": "018f8809cdff433184e539d9a0170800",
       "version_major": 2,
       "version_minor": 0
      },
      "text/plain": [
       "epochs:   0%|          | 0/1 [00:00<?, ?it/s]"
      ]
     },
     "metadata": {},
     "output_type": "display_data"
    },
    {
     "name": "stdout",
     "output_type": "stream",
     "text": [
      "<tf.Variable 'Adam_2/learning_rate:0' shape=() dtype=float32>\n",
      "<tf.Variable 'Adam_2/learning_rate:0' shape=() dtype=float32>\n",
      "Original Data Shape (selected):  (2500, 30)\n",
      "Original Data Shape (encoded):  (2500, 30)\n",
      "Original Data Class Distribution:  1466  (true) / 1034  (false)\n",
      "(1500, 30) (1500,)\n",
      "(500, 30) (500,)\n",
      "(500, 30) (500,)\n",
      "Min Ratio:  0.41533333333333333\n",
      "Min Ratio:  0.416\n"
     ]
    },
    {
     "data": {
      "application/vnd.jupyter.widget-view+json": {
       "model_id": "e27eb282e1e64759a7696fac7aee05ba",
       "version_major": 2,
       "version_minor": 0
      },
      "text/plain": [
       "restarts:   0%|          | 0/1 [00:00<?, ?it/s]"
      ]
     },
     "metadata": {},
     "output_type": "display_data"
    },
    {
     "data": {
      "application/vnd.jupyter.widget-view+json": {
       "model_id": "bb105fea9e6247ca94b93a68a45966c1",
       "version_major": 2,
       "version_minor": 0
      },
      "text/plain": [
       "epochs:   0%|          | 0/1 [00:00<?, ?it/s]"
      ]
     },
     "metadata": {},
     "output_type": "display_data"
    },
    {
     "name": "stdout",
     "output_type": "stream",
     "text": [
      "<tf.Variable 'Adam_2/learning_rate:0' shape=() dtype=float32>\n",
      "<tf.Variable 'Adam_2/learning_rate:0' shape=() dtype=float32>\n",
      "Original Data Shape (selected):  (10000, 36)\n",
      "Original Data Shape (encoded):  (10000, 36)\n",
      "Original Data Class Distribution:  3246  (true) / 6754  (false)\n",
      "(6000, 36) (6000,)\n",
      "(2000, 36) (2000,)\n",
      "(2000, 36) (2000,)\n",
      "Min Ratio:  0.322\n",
      "Min Ratio:  0.5\n",
      "Min Ratio:  0.32475\n",
      "Min Ratio:  0.5\n"
     ]
    },
    {
     "data": {
      "application/vnd.jupyter.widget-view+json": {
       "model_id": "f9284b194c8b49889f58d1a108edbed6",
       "version_major": 2,
       "version_minor": 0
      },
      "text/plain": [
       "restarts:   0%|          | 0/1 [00:00<?, ?it/s]"
      ]
     },
     "metadata": {},
     "output_type": "display_data"
    },
    {
     "data": {
      "application/vnd.jupyter.widget-view+json": {
       "model_id": "60d6cd1c00ce4955984c21ebccdbfcab",
       "version_major": 2,
       "version_minor": 0
      },
      "text/plain": [
       "epochs:   0%|          | 0/30 [00:00<?, ?it/s]"
      ]
     },
     "metadata": {},
     "output_type": "display_data"
    },
    {
     "name": "stdout",
     "output_type": "stream",
     "text": [
      "<tf.Variable 'Adam_2/learning_rate:0' shape=() dtype=float32>\n",
      "<tf.Variable 'Adam_2/learning_rate:0' shape=() dtype=float32>\n",
      "<tf.Variable 'Adam_2/learning_rate:0' shape=() dtype=float32>\n",
      "Original Data Shape (selected):  (2500, 36)\n",
      "Original Data Shape (encoded):  (2500, 36)\n",
      "Original Data Class Distribution:  790  (true) / 1710  (false)\n",
      "(1500, 36) (1500,)\n",
      "(500, 36) (500,)\n",
      "(500, 36) (500,)\n",
      "Min Ratio:  0.314\n",
      "Min Ratio:  0.5\n",
      "Min Ratio:  0.3145\n",
      "Min Ratio:  0.5\n"
     ]
    },
    {
     "data": {
      "application/vnd.jupyter.widget-view+json": {
       "model_id": "dddcc106f670474ca691b5fe4a2adecc",
       "version_major": 2,
       "version_minor": 0
      },
      "text/plain": [
       "restarts:   0%|          | 0/1 [00:00<?, ?it/s]"
      ]
     },
     "metadata": {},
     "output_type": "display_data"
    },
    {
     "data": {
      "application/vnd.jupyter.widget-view+json": {
       "model_id": "e51d4d217c1d471d8835c64b38d77258",
       "version_major": 2,
       "version_minor": 0
      },
      "text/plain": [
       "epochs:   0%|          | 0/1 [00:00<?, ?it/s]"
      ]
     },
     "metadata": {},
     "output_type": "display_data"
    },
    {
     "name": "stdout",
     "output_type": "stream",
     "text": [
      "<tf.Variable 'Adam_2/learning_rate:0' shape=() dtype=float32>\n",
      "<tf.Variable 'Adam_2/learning_rate:0' shape=() dtype=float32>\n",
      "Original Data Shape (selected):  (2500, 36)\n",
      "Original Data Shape (encoded):  (2500, 36)\n",
      "Original Data Class Distribution:  755  (true) / 1745  (false)\n",
      "(1500, 36) (1500,)\n",
      "(500, 36) (500,)\n",
      "(500, 36) (500,)\n",
      "Min Ratio:  0.29933333333333334\n",
      "Min Ratio:  0.5\n",
      "Min Ratio:  0.3025\n",
      "Min Ratio:  0.5\n"
     ]
    },
    {
     "data": {
      "application/vnd.jupyter.widget-view+json": {
       "model_id": "b91703ae45714b03b071c8abf8e4657a",
       "version_major": 2,
       "version_minor": 0
      },
      "text/plain": [
       "restarts:   0%|          | 0/1 [00:00<?, ?it/s]"
      ]
     },
     "metadata": {},
     "output_type": "display_data"
    },
    {
     "data": {
      "application/vnd.jupyter.widget-view+json": {
       "model_id": "bc9322be22084e6abb43731118e0d844",
       "version_major": 2,
       "version_minor": 0
      },
      "text/plain": [
       "epochs:   0%|          | 0/1 [00:00<?, ?it/s]"
      ]
     },
     "metadata": {},
     "output_type": "display_data"
    },
    {
     "name": "stdout",
     "output_type": "stream",
     "text": [
      "<tf.Variable 'Adam_2/learning_rate:0' shape=() dtype=float32>\n",
      "<tf.Variable 'Adam_2/learning_rate:0' shape=() dtype=float32>\n",
      "Original Data Shape (selected):  (2500, 36)\n",
      "Original Data Shape (encoded):  (2500, 36)\n",
      "Original Data Class Distribution:  818  (true) / 1682  (false)\n",
      "(1500, 36) (1500,)\n",
      "(500, 36) (500,)\n",
      "(500, 36) (500,)\n",
      "Min Ratio:  0.32466666666666666\n",
      "Min Ratio:  0.5\n",
      "Min Ratio:  0.324\n",
      "Min Ratio:  0.5\n"
     ]
    },
    {
     "data": {
      "application/vnd.jupyter.widget-view+json": {
       "model_id": "811f8bfeac0c49fd855eda88c0f8cbe0",
       "version_major": 2,
       "version_minor": 0
      },
      "text/plain": [
       "restarts:   0%|          | 0/1 [00:00<?, ?it/s]"
      ]
     },
     "metadata": {},
     "output_type": "display_data"
    },
    {
     "data": {
      "application/vnd.jupyter.widget-view+json": {
       "model_id": "bd482847c80945e58cff5b93e15808bb",
       "version_major": 2,
       "version_minor": 0
      },
      "text/plain": [
       "epochs:   0%|          | 0/1 [00:00<?, ?it/s]"
      ]
     },
     "metadata": {},
     "output_type": "display_data"
    },
    {
     "name": "stdout",
     "output_type": "stream",
     "text": [
      "<tf.Variable 'Adam_2/learning_rate:0' shape=() dtype=float32>\n",
      "<tf.Variable 'Adam_2/learning_rate:0' shape=() dtype=float32>\n",
      "Original Data Shape (selected):  (2500, 36)\n",
      "Original Data Shape (encoded):  (2500, 36)\n",
      "Original Data Class Distribution:  862  (true) / 1638  (false)\n",
      "(1500, 36) (1500,)\n",
      "(500, 36) (500,)\n",
      "(500, 36) (500,)\n",
      "Min Ratio:  0.3586666666666667\n",
      "Min Ratio:  0.5\n",
      "Min Ratio:  0.3515\n",
      "Min Ratio:  0.5\n"
     ]
    },
    {
     "data": {
      "application/vnd.jupyter.widget-view+json": {
       "model_id": "27ffbce98de2472caacb87b6caae97c3",
       "version_major": 2,
       "version_minor": 0
      },
      "text/plain": [
       "restarts:   0%|          | 0/1 [00:00<?, ?it/s]"
      ]
     },
     "metadata": {},
     "output_type": "display_data"
    },
    {
     "data": {
      "application/vnd.jupyter.widget-view+json": {
       "model_id": "b6d51e6ec56440d8b6a953910b2cb530",
       "version_major": 2,
       "version_minor": 0
      },
      "text/plain": [
       "epochs:   0%|          | 0/1 [00:00<?, ?it/s]"
      ]
     },
     "metadata": {},
     "output_type": "display_data"
    },
    {
     "name": "stdout",
     "output_type": "stream",
     "text": [
      "<tf.Variable 'Adam_2/learning_rate:0' shape=() dtype=float32>\n",
      "<tf.Variable 'Adam_2/learning_rate:0' shape=() dtype=float32>\n",
      "Original Data Shape (selected):  (2500, 36)\n",
      "Original Data Shape (encoded):  (2500, 36)\n",
      "Original Data Class Distribution:  797  (true) / 1703  (false)\n",
      "(1500, 36) (1500,)\n",
      "(500, 36) (500,)\n",
      "(500, 36) (500,)\n",
      "Min Ratio:  0.3233333333333333\n",
      "Min Ratio:  0.5\n",
      "Min Ratio:  0.316\n",
      "Min Ratio:  0.5\n"
     ]
    },
    {
     "data": {
      "application/vnd.jupyter.widget-view+json": {
       "model_id": "0d6aac0be72041c78b161662b8eb1502",
       "version_major": 2,
       "version_minor": 0
      },
      "text/plain": [
       "restarts:   0%|          | 0/1 [00:00<?, ?it/s]"
      ]
     },
     "metadata": {},
     "output_type": "display_data"
    },
    {
     "data": {
      "application/vnd.jupyter.widget-view+json": {
       "model_id": "7573dafe44a8433388565c86350117ff",
       "version_major": 2,
       "version_minor": 0
      },
      "text/plain": [
       "epochs:   0%|          | 0/1 [00:00<?, ?it/s]"
      ]
     },
     "metadata": {},
     "output_type": "display_data"
    },
    {
     "name": "stdout",
     "output_type": "stream",
     "text": [
      "<tf.Variable 'Adam_2/learning_rate:0' shape=() dtype=float32>\n",
      "<tf.Variable 'Adam_2/learning_rate:0' shape=() dtype=float32>\n",
      "Original Data Shape (selected):  (2500, 36)\n",
      "Original Data Shape (encoded):  (2500, 36)\n",
      "Original Data Class Distribution:  815  (true) / 1685  (false)\n",
      "(1500, 36) (1500,)\n",
      "(500, 36) (500,)\n",
      "(500, 36) (500,)\n",
      "Min Ratio:  0.32466666666666666\n",
      "Min Ratio:  0.5\n",
      "Min Ratio:  0.33\n",
      "Min Ratio:  0.5\n"
     ]
    },
    {
     "data": {
      "application/vnd.jupyter.widget-view+json": {
       "model_id": "c72b6c6b9c3a4c5899d1ea89ab20e7f5",
       "version_major": 2,
       "version_minor": 0
      },
      "text/plain": [
       "restarts:   0%|          | 0/1 [00:00<?, ?it/s]"
      ]
     },
     "metadata": {},
     "output_type": "display_data"
    },
    {
     "data": {
      "application/vnd.jupyter.widget-view+json": {
       "model_id": "dad8e6dbcf3c4c10be815ad48542ce36",
       "version_major": 2,
       "version_minor": 0
      },
      "text/plain": [
       "epochs:   0%|          | 0/1 [00:00<?, ?it/s]"
      ]
     },
     "metadata": {},
     "output_type": "display_data"
    },
    {
     "name": "stdout",
     "output_type": "stream",
     "text": [
      "<tf.Variable 'Adam_2/learning_rate:0' shape=() dtype=float32>\n",
      "<tf.Variable 'Adam_2/learning_rate:0' shape=() dtype=float32>\n",
      "Original Data Shape (selected):  (2500, 36)\n",
      "Original Data Shape (encoded):  (2500, 36)\n",
      "Original Data Class Distribution:  829  (true) / 1671  (false)\n",
      "(1500, 36) (1500,)\n",
      "(500, 36) (500,)\n",
      "(500, 36) (500,)\n",
      "Min Ratio:  0.32866666666666666\n",
      "Min Ratio:  0.5\n",
      "Min Ratio:  0.333\n",
      "Min Ratio:  0.5\n"
     ]
    },
    {
     "data": {
      "application/vnd.jupyter.widget-view+json": {
       "model_id": "d005122eab4144cbadc560c43aec00ee",
       "version_major": 2,
       "version_minor": 0
      },
      "text/plain": [
       "restarts:   0%|          | 0/1 [00:00<?, ?it/s]"
      ]
     },
     "metadata": {},
     "output_type": "display_data"
    },
    {
     "data": {
      "application/vnd.jupyter.widget-view+json": {
       "model_id": "b66daaaf01164277afcdc46c3b6814b4",
       "version_major": 2,
       "version_minor": 0
      },
      "text/plain": [
       "epochs:   0%|          | 0/1 [00:00<?, ?it/s]"
      ]
     },
     "metadata": {},
     "output_type": "display_data"
    },
    {
     "name": "stdout",
     "output_type": "stream",
     "text": [
      "<tf.Variable 'Adam_2/learning_rate:0' shape=() dtype=float32>\n",
      "<tf.Variable 'Adam_2/learning_rate:0' shape=() dtype=float32>\n",
      "Original Data Shape (selected):  (2500, 36)\n",
      "Original Data Shape (encoded):  (2500, 36)\n",
      "Original Data Class Distribution:  806  (true) / 1694  (false)\n",
      "(1500, 36) (1500,)\n",
      "(500, 36) (500,)\n",
      "(500, 36) (500,)\n",
      "Min Ratio:  0.30466666666666664\n",
      "Min Ratio:  0.5\n",
      "Min Ratio:  0.3145\n",
      "Min Ratio:  0.5\n"
     ]
    },
    {
     "data": {
      "application/vnd.jupyter.widget-view+json": {
       "model_id": "aa491e1fc3a445b88bbb4ceb7f834f6a",
       "version_major": 2,
       "version_minor": 0
      },
      "text/plain": [
       "restarts:   0%|          | 0/1 [00:00<?, ?it/s]"
      ]
     },
     "metadata": {},
     "output_type": "display_data"
    },
    {
     "data": {
      "application/vnd.jupyter.widget-view+json": {
       "model_id": "f2815b1c29c944998eca4095bfb41052",
       "version_major": 2,
       "version_minor": 0
      },
      "text/plain": [
       "epochs:   0%|          | 0/1 [00:00<?, ?it/s]"
      ]
     },
     "metadata": {},
     "output_type": "display_data"
    },
    {
     "name": "stdout",
     "output_type": "stream",
     "text": [
      "<tf.Variable 'Adam_2/learning_rate:0' shape=() dtype=float32>\n",
      "<tf.Variable 'Adam_2/learning_rate:0' shape=() dtype=float32>\n",
      "Original Data Shape (selected):  (2500, 36)\n",
      "Original Data Shape (encoded):  (2500, 36)\n",
      "Original Data Class Distribution:  850  (true) / 1650  (false)\n",
      "(1500, 36) (1500,)\n",
      "(500, 36) (500,)\n",
      "(500, 36) (500,)\n",
      "Min Ratio:  0.3486666666666667\n",
      "Min Ratio:  0.5\n",
      "Min Ratio:  0.344\n",
      "Min Ratio:  0.5\n"
     ]
    },
    {
     "data": {
      "application/vnd.jupyter.widget-view+json": {
       "model_id": "7576d4d3631e4b189be90796829f9459",
       "version_major": 2,
       "version_minor": 0
      },
      "text/plain": [
       "restarts:   0%|          | 0/1 [00:00<?, ?it/s]"
      ]
     },
     "metadata": {},
     "output_type": "display_data"
    },
    {
     "data": {
      "application/vnd.jupyter.widget-view+json": {
       "model_id": "aae2a3d69d7349eaba2f923df5f4c57b",
       "version_major": 2,
       "version_minor": 0
      },
      "text/plain": [
       "epochs:   0%|          | 0/1 [00:00<?, ?it/s]"
      ]
     },
     "metadata": {},
     "output_type": "display_data"
    },
    {
     "name": "stdout",
     "output_type": "stream",
     "text": [
      "<tf.Variable 'Adam_2/learning_rate:0' shape=() dtype=float32>\n",
      "<tf.Variable 'Adam_2/learning_rate:0' shape=() dtype=float32>\n",
      "Original Data Shape (selected):  (2500, 36)\n",
      "Original Data Shape (encoded):  (2500, 36)\n",
      "Original Data Class Distribution:  853  (true) / 1647  (false)\n",
      "(1500, 36) (1500,)\n",
      "(500, 36) (500,)\n",
      "(500, 36) (500,)\n",
      "Min Ratio:  0.3373333333333333\n",
      "Min Ratio:  0.5\n",
      "Min Ratio:  0.342\n",
      "Min Ratio:  0.5\n"
     ]
    },
    {
     "data": {
      "application/vnd.jupyter.widget-view+json": {
       "model_id": "d211465fb67d44428f282e003822dfa2",
       "version_major": 2,
       "version_minor": 0
      },
      "text/plain": [
       "restarts:   0%|          | 0/1 [00:00<?, ?it/s]"
      ]
     },
     "metadata": {},
     "output_type": "display_data"
    },
    {
     "data": {
      "application/vnd.jupyter.widget-view+json": {
       "model_id": "7b9c530be53f4cd2a4d86314564d5f18",
       "version_major": 2,
       "version_minor": 0
      },
      "text/plain": [
       "epochs:   0%|          | 0/1 [00:00<?, ?it/s]"
      ]
     },
     "metadata": {},
     "output_type": "display_data"
    },
    {
     "name": "stdout",
     "output_type": "stream",
     "text": [
      "<tf.Variable 'Adam_2/learning_rate:0' shape=() dtype=float32>\n",
      "<tf.Variable 'Adam_2/learning_rate:0' shape=() dtype=float32>\n",
      "Original Data Shape (selected):  (2500, 36)\n",
      "Original Data Shape (encoded):  (2500, 36)\n",
      "Original Data Class Distribution:  842  (true) / 1658  (false)\n",
      "(1500, 36) (1500,)\n",
      "(500, 36) (500,)\n",
      "(500, 36) (500,)\n",
      "Min Ratio:  0.34\n",
      "Min Ratio:  0.5\n",
      "Min Ratio:  0.3395\n",
      "Min Ratio:  0.5\n"
     ]
    },
    {
     "data": {
      "application/vnd.jupyter.widget-view+json": {
       "model_id": "39975140224a4c5baafaeefc79ec2266",
       "version_major": 2,
       "version_minor": 0
      },
      "text/plain": [
       "restarts:   0%|          | 0/1 [00:00<?, ?it/s]"
      ]
     },
     "metadata": {},
     "output_type": "display_data"
    },
    {
     "data": {
      "application/vnd.jupyter.widget-view+json": {
       "model_id": "0d97918976b744d6abb3558a8ceb91a0",
       "version_major": 2,
       "version_minor": 0
      },
      "text/plain": [
       "epochs:   0%|          | 0/1 [00:00<?, ?it/s]"
      ]
     },
     "metadata": {},
     "output_type": "display_data"
    },
    {
     "name": "stdout",
     "output_type": "stream",
     "text": [
      "<tf.Variable 'Adam_2/learning_rate:0' shape=() dtype=float32>\n",
      "<tf.Variable 'Adam_2/learning_rate:0' shape=() dtype=float32>\n",
      "Original Data Shape (selected):  (2500, 36)\n",
      "Original Data Shape (encoded):  (2500, 36)\n",
      "Original Data Class Distribution:  818  (true) / 1682  (false)\n",
      "(1500, 36) (1500,)\n",
      "(500, 36) (500,)\n",
      "(500, 36) (500,)\n",
      "Min Ratio:  0.32133333333333336\n",
      "Min Ratio:  0.5\n",
      "Min Ratio:  0.33\n",
      "Min Ratio:  0.5\n"
     ]
    },
    {
     "data": {
      "application/vnd.jupyter.widget-view+json": {
       "model_id": "0cbcc3f957bc49fa964e902600f0b71d",
       "version_major": 2,
       "version_minor": 0
      },
      "text/plain": [
       "restarts:   0%|          | 0/1 [00:00<?, ?it/s]"
      ]
     },
     "metadata": {},
     "output_type": "display_data"
    },
    {
     "data": {
      "application/vnd.jupyter.widget-view+json": {
       "model_id": "d35703886fbe46fbbdb778bfa3cee5f3",
       "version_major": 2,
       "version_minor": 0
      },
      "text/plain": [
       "epochs:   0%|          | 0/1 [00:00<?, ?it/s]"
      ]
     },
     "metadata": {},
     "output_type": "display_data"
    },
    {
     "name": "stdout",
     "output_type": "stream",
     "text": [
      "<tf.Variable 'Adam_2/learning_rate:0' shape=() dtype=float32>\n",
      "<tf.Variable 'Adam_2/learning_rate:0' shape=() dtype=float32>\n",
      "Original Data Shape (selected):  (2500, 36)\n",
      "Original Data Shape (encoded):  (2500, 36)\n",
      "Original Data Class Distribution:  863  (true) / 1637  (false)\n",
      "(1500, 36) (1500,)\n",
      "(500, 36) (500,)\n",
      "(500, 36) (500,)\n",
      "Min Ratio:  0.3546666666666667\n",
      "Min Ratio:  0.5\n",
      "Min Ratio:  0.347\n",
      "Min Ratio:  0.5\n"
     ]
    },
    {
     "data": {
      "application/vnd.jupyter.widget-view+json": {
       "model_id": "6ef4b0727c72443e9d531441a20b0992",
       "version_major": 2,
       "version_minor": 0
      },
      "text/plain": [
       "restarts:   0%|          | 0/1 [00:00<?, ?it/s]"
      ]
     },
     "metadata": {},
     "output_type": "display_data"
    },
    {
     "data": {
      "application/vnd.jupyter.widget-view+json": {
       "model_id": "26a96063f5c94cb8843655e6d8d095f1",
       "version_major": 2,
       "version_minor": 0
      },
      "text/plain": [
       "epochs:   0%|          | 0/1 [00:00<?, ?it/s]"
      ]
     },
     "metadata": {},
     "output_type": "display_data"
    },
    {
     "name": "stdout",
     "output_type": "stream",
     "text": [
      "<tf.Variable 'Adam_2/learning_rate:0' shape=() dtype=float32>\n",
      "<tf.Variable 'Adam_2/learning_rate:0' shape=() dtype=float32>\n",
      "Original Data Shape (selected):  (2500, 36)\n",
      "Original Data Shape (encoded):  (2500, 36)\n",
      "Original Data Class Distribution:  763  (true) / 1737  (false)\n",
      "(1500, 36) (1500,)\n",
      "(500, 36) (500,)\n",
      "(500, 36) (500,)\n",
      "Min Ratio:  0.304\n",
      "Min Ratio:  0.5\n",
      "Min Ratio:  0.303\n",
      "Min Ratio:  0.5\n"
     ]
    },
    {
     "data": {
      "application/vnd.jupyter.widget-view+json": {
       "model_id": "227aba63422f4f12bb3ddadf096e6786",
       "version_major": 2,
       "version_minor": 0
      },
      "text/plain": [
       "restarts:   0%|          | 0/1 [00:00<?, ?it/s]"
      ]
     },
     "metadata": {},
     "output_type": "display_data"
    },
    {
     "data": {
      "application/vnd.jupyter.widget-view+json": {
       "model_id": "3656aa96caa04596bb0be53961121c85",
       "version_major": 2,
       "version_minor": 0
      },
      "text/plain": [
       "epochs:   0%|          | 0/1 [00:00<?, ?it/s]"
      ]
     },
     "metadata": {},
     "output_type": "display_data"
    },
    {
     "name": "stdout",
     "output_type": "stream",
     "text": [
      "<tf.Variable 'Adam_2/learning_rate:0' shape=() dtype=float32>\n",
      "<tf.Variable 'Adam_2/learning_rate:0' shape=() dtype=float32>\n",
      "Original Data Shape (selected):  (2500, 36)\n",
      "Original Data Shape (encoded):  (2500, 36)\n",
      "Original Data Class Distribution:  835  (true) / 1665  (false)\n",
      "(1500, 36) (1500,)\n",
      "(500, 36) (500,)\n",
      "(500, 36) (500,)\n",
      "Min Ratio:  0.332\n",
      "Min Ratio:  0.5\n",
      "Min Ratio:  0.3295\n",
      "Min Ratio:  0.5\n"
     ]
    },
    {
     "data": {
      "application/vnd.jupyter.widget-view+json": {
       "model_id": "5abb195eded445b181b6a1ee7fae6bc3",
       "version_major": 2,
       "version_minor": 0
      },
      "text/plain": [
       "restarts:   0%|          | 0/1 [00:00<?, ?it/s]"
      ]
     },
     "metadata": {},
     "output_type": "display_data"
    },
    {
     "data": {
      "application/vnd.jupyter.widget-view+json": {
       "model_id": "005e627175ab4cd4991e26fe07485b60",
       "version_major": 2,
       "version_minor": 0
      },
      "text/plain": [
       "epochs:   0%|          | 0/1 [00:00<?, ?it/s]"
      ]
     },
     "metadata": {},
     "output_type": "display_data"
    },
    {
     "name": "stdout",
     "output_type": "stream",
     "text": [
      "<tf.Variable 'Adam_2/learning_rate:0' shape=() dtype=float32>\n",
      "<tf.Variable 'Adam_2/learning_rate:0' shape=() dtype=float32>\n",
      "Original Data Shape (selected):  (2500, 36)\n",
      "Original Data Shape (encoded):  (2500, 36)\n",
      "Original Data Class Distribution:  745  (true) / 1755  (false)\n",
      "(1500, 36) (1500,)\n",
      "(500, 36) (500,)\n",
      "(500, 36) (500,)\n",
      "Min Ratio:  0.29533333333333334\n",
      "Min Ratio:  0.5\n",
      "Min Ratio:  0.3005\n",
      "Min Ratio:  0.5\n"
     ]
    },
    {
     "data": {
      "application/vnd.jupyter.widget-view+json": {
       "model_id": "0fe6f44dfb674051bbed6368c3f110bc",
       "version_major": 2,
       "version_minor": 0
      },
      "text/plain": [
       "restarts:   0%|          | 0/1 [00:00<?, ?it/s]"
      ]
     },
     "metadata": {},
     "output_type": "display_data"
    },
    {
     "data": {
      "application/vnd.jupyter.widget-view+json": {
       "model_id": "411c5639251f40d6924c8c7635ea546f",
       "version_major": 2,
       "version_minor": 0
      },
      "text/plain": [
       "epochs:   0%|          | 0/1 [00:00<?, ?it/s]"
      ]
     },
     "metadata": {},
     "output_type": "display_data"
    },
    {
     "name": "stdout",
     "output_type": "stream",
     "text": [
      "<tf.Variable 'Adam_2/learning_rate:0' shape=() dtype=float32>\n",
      "<tf.Variable 'Adam_2/learning_rate:0' shape=() dtype=float32>\n",
      "Original Data Shape (selected):  (2500, 36)\n",
      "Original Data Shape (encoded):  (2500, 36)\n",
      "Original Data Class Distribution:  830  (true) / 1670  (false)\n",
      "(1500, 36) (1500,)\n",
      "(500, 36) (500,)\n",
      "(500, 36) (500,)\n",
      "Min Ratio:  0.33866666666666667\n",
      "Min Ratio:  0.5\n",
      "Min Ratio:  0.3325\n",
      "Min Ratio:  0.5\n"
     ]
    },
    {
     "data": {
      "application/vnd.jupyter.widget-view+json": {
       "model_id": "2d5ec8ef57a94ddc8d3d2a8787dd50f0",
       "version_major": 2,
       "version_minor": 0
      },
      "text/plain": [
       "restarts:   0%|          | 0/1 [00:00<?, ?it/s]"
      ]
     },
     "metadata": {},
     "output_type": "display_data"
    },
    {
     "data": {
      "application/vnd.jupyter.widget-view+json": {
       "model_id": "29a94b8b12884766bf951f81615cd827",
       "version_major": 2,
       "version_minor": 0
      },
      "text/plain": [
       "epochs:   0%|          | 0/1 [00:00<?, ?it/s]"
      ]
     },
     "metadata": {},
     "output_type": "display_data"
    },
    {
     "name": "stdout",
     "output_type": "stream",
     "text": [
      "<tf.Variable 'Adam_2/learning_rate:0' shape=() dtype=float32>\n",
      "<tf.Variable 'Adam_2/learning_rate:0' shape=() dtype=float32>\n",
      "Original Data Shape (selected):  (2500, 36)\n",
      "Original Data Shape (encoded):  (2500, 36)\n",
      "Original Data Class Distribution:  782  (true) / 1718  (false)\n",
      "(1500, 36) (1500,)\n",
      "(500, 36) (500,)\n",
      "(500, 36) (500,)\n",
      "Min Ratio:  0.31533333333333335\n",
      "Min Ratio:  0.5\n",
      "Min Ratio:  0.3145\n",
      "Min Ratio:  0.5\n"
     ]
    },
    {
     "data": {
      "application/vnd.jupyter.widget-view+json": {
       "model_id": "d4b60b6afbc6484b998f41be9c3b2096",
       "version_major": 2,
       "version_minor": 0
      },
      "text/plain": [
       "restarts:   0%|          | 0/1 [00:00<?, ?it/s]"
      ]
     },
     "metadata": {},
     "output_type": "display_data"
    },
    {
     "data": {
      "application/vnd.jupyter.widget-view+json": {
       "model_id": "b2430a49f26e456082d2f271887bac4f",
       "version_major": 2,
       "version_minor": 0
      },
      "text/plain": [
       "epochs:   0%|          | 0/1 [00:00<?, ?it/s]"
      ]
     },
     "metadata": {},
     "output_type": "display_data"
    },
    {
     "name": "stdout",
     "output_type": "stream",
     "text": [
      "<tf.Variable 'Adam_2/learning_rate:0' shape=() dtype=float32>\n",
      "<tf.Variable 'Adam_2/learning_rate:0' shape=() dtype=float32>\n",
      "Original Data Shape (selected):  (2500, 36)\n",
      "Original Data Shape (encoded):  (2500, 36)\n",
      "Original Data Class Distribution:  819  (true) / 1681  (false)\n",
      "(1500, 36) (1500,)\n",
      "(500, 36) (500,)\n",
      "(500, 36) (500,)\n",
      "Min Ratio:  0.32133333333333336\n",
      "Min Ratio:  0.5\n",
      "Min Ratio:  0.324\n",
      "Min Ratio:  0.5\n"
     ]
    },
    {
     "data": {
      "application/vnd.jupyter.widget-view+json": {
       "model_id": "563cb1e139b3466483a4253a11160ad9",
       "version_major": 2,
       "version_minor": 0
      },
      "text/plain": [
       "restarts:   0%|          | 0/1 [00:00<?, ?it/s]"
      ]
     },
     "metadata": {},
     "output_type": "display_data"
    },
    {
     "data": {
      "application/vnd.jupyter.widget-view+json": {
       "model_id": "45b63dda837848ffb38e662425e0896a",
       "version_major": 2,
       "version_minor": 0
      },
      "text/plain": [
       "epochs:   0%|          | 0/1 [00:00<?, ?it/s]"
      ]
     },
     "metadata": {},
     "output_type": "display_data"
    },
    {
     "name": "stdout",
     "output_type": "stream",
     "text": [
      "<tf.Variable 'Adam_2/learning_rate:0' shape=() dtype=float32>\n",
      "<tf.Variable 'Adam_2/learning_rate:0' shape=() dtype=float32>\n",
      "Original Data Shape (selected):  (2500, 36)\n",
      "Original Data Shape (encoded):  (2500, 36)\n",
      "Original Data Class Distribution:  816  (true) / 1684  (false)\n",
      "(1500, 36) (1500,)\n",
      "(500, 36) (500,)\n",
      "(500, 36) (500,)\n",
      "Min Ratio:  0.32266666666666666\n",
      "Min Ratio:  0.5\n",
      "Min Ratio:  0.329\n",
      "Min Ratio:  0.5\n"
     ]
    },
    {
     "data": {
      "application/vnd.jupyter.widget-view+json": {
       "model_id": "5cf6b93333d6445ba8f30fc2cf7a1e48",
       "version_major": 2,
       "version_minor": 0
      },
      "text/plain": [
       "restarts:   0%|          | 0/1 [00:00<?, ?it/s]"
      ]
     },
     "metadata": {},
     "output_type": "display_data"
    },
    {
     "data": {
      "application/vnd.jupyter.widget-view+json": {
       "model_id": "b82cda542db14d6c85578cf79f9ab302",
       "version_major": 2,
       "version_minor": 0
      },
      "text/plain": [
       "epochs:   0%|          | 0/1 [00:00<?, ?it/s]"
      ]
     },
     "metadata": {},
     "output_type": "display_data"
    },
    {
     "name": "stdout",
     "output_type": "stream",
     "text": [
      "<tf.Variable 'Adam_2/learning_rate:0' shape=() dtype=float32>\n",
      "<tf.Variable 'Adam_2/learning_rate:0' shape=() dtype=float32>\n",
      "Original Data Shape (selected):  (2500, 36)\n",
      "Original Data Shape (encoded):  (2500, 36)\n",
      "Original Data Class Distribution:  824  (true) / 1676  (false)\n",
      "(1500, 36) (1500,)\n",
      "(500, 36) (500,)\n",
      "(500, 36) (500,)\n",
      "Min Ratio:  0.3353333333333333\n",
      "Min Ratio:  0.5\n",
      "Min Ratio:  0.329\n",
      "Min Ratio:  0.5\n"
     ]
    },
    {
     "data": {
      "application/vnd.jupyter.widget-view+json": {
       "model_id": "a7f4fe409223432a95c39f5c31cc2d37",
       "version_major": 2,
       "version_minor": 0
      },
      "text/plain": [
       "restarts:   0%|          | 0/1 [00:00<?, ?it/s]"
      ]
     },
     "metadata": {},
     "output_type": "display_data"
    },
    {
     "data": {
      "application/vnd.jupyter.widget-view+json": {
       "model_id": "f80dec5a3ab34f2ebb2f39773e05a73f",
       "version_major": 2,
       "version_minor": 0
      },
      "text/plain": [
       "epochs:   0%|          | 0/1 [00:00<?, ?it/s]"
      ]
     },
     "metadata": {},
     "output_type": "display_data"
    },
    {
     "name": "stdout",
     "output_type": "stream",
     "text": [
      "<tf.Variable 'Adam_2/learning_rate:0' shape=() dtype=float32>\n",
      "<tf.Variable 'Adam_2/learning_rate:0' shape=() dtype=float32>\n",
      "Original Data Shape (selected):  (2500, 36)\n",
      "Original Data Shape (encoded):  (2500, 36)\n",
      "Original Data Class Distribution:  818  (true) / 1682  (false)\n",
      "(1500, 36) (1500,)\n",
      "(500, 36) (500,)\n",
      "(500, 36) (500,)\n",
      "Min Ratio:  0.328\n",
      "Min Ratio:  0.5\n",
      "Min Ratio:  0.331\n",
      "Min Ratio:  0.5\n"
     ]
    },
    {
     "data": {
      "application/vnd.jupyter.widget-view+json": {
       "model_id": "a8fc1ece409846bfbfa9a375c515f0af",
       "version_major": 2,
       "version_minor": 0
      },
      "text/plain": [
       "restarts:   0%|          | 0/1 [00:00<?, ?it/s]"
      ]
     },
     "metadata": {},
     "output_type": "display_data"
    },
    {
     "data": {
      "application/vnd.jupyter.widget-view+json": {
       "model_id": "2fdf7cb802a44113a420bf8e0e352c1f",
       "version_major": 2,
       "version_minor": 0
      },
      "text/plain": [
       "epochs:   0%|          | 0/1 [00:00<?, ?it/s]"
      ]
     },
     "metadata": {},
     "output_type": "display_data"
    },
    {
     "name": "stdout",
     "output_type": "stream",
     "text": [
      "<tf.Variable 'Adam_2/learning_rate:0' shape=() dtype=float32>\n",
      "<tf.Variable 'Adam_2/learning_rate:0' shape=() dtype=float32>\n",
      "Original Data Shape (selected):  (2500, 36)\n",
      "Original Data Shape (encoded):  (2500, 36)\n",
      "Original Data Class Distribution:  826  (true) / 1674  (false)\n",
      "(1500, 36) (1500,)\n",
      "(500, 36) (500,)\n",
      "(500, 36) (500,)\n",
      "Min Ratio:  0.32266666666666666\n",
      "Min Ratio:  0.5\n",
      "Min Ratio:  0.3315\n",
      "Min Ratio:  0.5\n"
     ]
    },
    {
     "data": {
      "application/vnd.jupyter.widget-view+json": {
       "model_id": "5424870d269441249094561048d14c4f",
       "version_major": 2,
       "version_minor": 0
      },
      "text/plain": [
       "restarts:   0%|          | 0/1 [00:00<?, ?it/s]"
      ]
     },
     "metadata": {},
     "output_type": "display_data"
    },
    {
     "data": {
      "application/vnd.jupyter.widget-view+json": {
       "model_id": "def92c1dc7014182a6fec25d9f7fd9dd",
       "version_major": 2,
       "version_minor": 0
      },
      "text/plain": [
       "epochs:   0%|          | 0/1 [00:00<?, ?it/s]"
      ]
     },
     "metadata": {},
     "output_type": "display_data"
    },
    {
     "name": "stdout",
     "output_type": "stream",
     "text": [
      "<tf.Variable 'Adam_2/learning_rate:0' shape=() dtype=float32>\n",
      "<tf.Variable 'Adam_2/learning_rate:0' shape=() dtype=float32>\n",
      "Original Data Shape (selected):  (2500, 36)\n",
      "Original Data Shape (encoded):  (2500, 36)\n",
      "Original Data Class Distribution:  817  (true) / 1683  (false)\n",
      "(1500, 36) (1500,)\n",
      "(500, 36) (500,)\n",
      "(500, 36) (500,)\n",
      "Min Ratio:  0.32266666666666666\n",
      "Min Ratio:  0.5\n",
      "Min Ratio:  0.3245\n",
      "Min Ratio:  0.5\n"
     ]
    },
    {
     "data": {
      "application/vnd.jupyter.widget-view+json": {
       "model_id": "54a6cd908d264532968cea5223442e15",
       "version_major": 2,
       "version_minor": 0
      },
      "text/plain": [
       "restarts:   0%|          | 0/1 [00:00<?, ?it/s]"
      ]
     },
     "metadata": {},
     "output_type": "display_data"
    },
    {
     "data": {
      "application/vnd.jupyter.widget-view+json": {
       "model_id": "4d5154de9bf64dcc87d6e59756fef82b",
       "version_major": 2,
       "version_minor": 0
      },
      "text/plain": [
       "epochs:   0%|          | 0/1 [00:00<?, ?it/s]"
      ]
     },
     "metadata": {},
     "output_type": "display_data"
    },
    {
     "name": "stdout",
     "output_type": "stream",
     "text": [
      "<tf.Variable 'Adam_2/learning_rate:0' shape=() dtype=float32>\n",
      "<tf.Variable 'Adam_2/learning_rate:0' shape=() dtype=float32>\n",
      "Original Data Shape (selected):  (2500, 36)\n",
      "Original Data Shape (encoded):  (2500, 36)\n",
      "Original Data Class Distribution:  795  (true) / 1705  (false)\n",
      "(1500, 36) (1500,)\n",
      "(500, 36) (500,)\n",
      "(500, 36) (500,)\n",
      "Min Ratio:  0.31266666666666665\n",
      "Min Ratio:  0.5\n",
      "Min Ratio:  0.3205\n",
      "Min Ratio:  0.5\n"
     ]
    },
    {
     "data": {
      "application/vnd.jupyter.widget-view+json": {
       "model_id": "fea3da159eb74b9f8cc0b30c5fc05b95",
       "version_major": 2,
       "version_minor": 0
      },
      "text/plain": [
       "restarts:   0%|          | 0/1 [00:00<?, ?it/s]"
      ]
     },
     "metadata": {},
     "output_type": "display_data"
    },
    {
     "data": {
      "application/vnd.jupyter.widget-view+json": {
       "model_id": "5c221901f7c243f59f634b54ebf91f7c",
       "version_major": 2,
       "version_minor": 0
      },
      "text/plain": [
       "epochs:   0%|          | 0/1 [00:00<?, ?it/s]"
      ]
     },
     "metadata": {},
     "output_type": "display_data"
    },
    {
     "name": "stdout",
     "output_type": "stream",
     "text": [
      "<tf.Variable 'Adam_2/learning_rate:0' shape=() dtype=float32>\n",
      "<tf.Variable 'Adam_2/learning_rate:0' shape=() dtype=float32>\n",
      "Original Data Shape (selected):  (2500, 36)\n",
      "Original Data Shape (encoded):  (2500, 36)\n",
      "Original Data Class Distribution:  859  (true) / 1641  (false)\n",
      "(1500, 36) (1500,)\n",
      "(500, 36) (500,)\n",
      "(500, 36) (500,)\n",
      "Min Ratio:  0.33866666666666667\n",
      "Min Ratio:  0.5\n",
      "Min Ratio:  0.3465\n",
      "Min Ratio:  0.5\n"
     ]
    },
    {
     "data": {
      "application/vnd.jupyter.widget-view+json": {
       "model_id": "ba4a9768cfd541dfad19386b749923ad",
       "version_major": 2,
       "version_minor": 0
      },
      "text/plain": [
       "restarts:   0%|          | 0/1 [00:00<?, ?it/s]"
      ]
     },
     "metadata": {},
     "output_type": "display_data"
    },
    {
     "data": {
      "application/vnd.jupyter.widget-view+json": {
       "model_id": "6fc7beeef84a4e84abc70d0d9520f4f3",
       "version_major": 2,
       "version_minor": 0
      },
      "text/plain": [
       "epochs:   0%|          | 0/1 [00:00<?, ?it/s]"
      ]
     },
     "metadata": {},
     "output_type": "display_data"
    },
    {
     "name": "stdout",
     "output_type": "stream",
     "text": [
      "<tf.Variable 'Adam_2/learning_rate:0' shape=() dtype=float32>\n",
      "<tf.Variable 'Adam_2/learning_rate:0' shape=() dtype=float32>\n",
      "Original Data Shape (selected):  (2500, 36)\n",
      "Original Data Shape (encoded):  (2500, 36)\n",
      "Original Data Class Distribution:  839  (true) / 1661  (false)\n",
      "(1500, 36) (1500,)\n",
      "(500, 36) (500,)\n",
      "(500, 36) (500,)\n",
      "Min Ratio:  0.342\n",
      "Min Ratio:  0.5\n",
      "Min Ratio:  0.335\n",
      "Min Ratio:  0.5\n"
     ]
    },
    {
     "data": {
      "application/vnd.jupyter.widget-view+json": {
       "model_id": "e02063108cc243e6ba07c740e9dcce1a",
       "version_major": 2,
       "version_minor": 0
      },
      "text/plain": [
       "restarts:   0%|          | 0/1 [00:00<?, ?it/s]"
      ]
     },
     "metadata": {},
     "output_type": "display_data"
    },
    {
     "data": {
      "application/vnd.jupyter.widget-view+json": {
       "model_id": "d9be47cec4364b4ebda513a2af9708af",
       "version_major": 2,
       "version_minor": 0
      },
      "text/plain": [
       "epochs:   0%|          | 0/1 [00:00<?, ?it/s]"
      ]
     },
     "metadata": {},
     "output_type": "display_data"
    },
    {
     "name": "stdout",
     "output_type": "stream",
     "text": [
      "<tf.Variable 'Adam_2/learning_rate:0' shape=() dtype=float32>\n",
      "<tf.Variable 'Adam_2/learning_rate:0' shape=() dtype=float32>\n",
      "Original Data Shape (selected):  (2500, 36)\n",
      "Original Data Shape (encoded):  (2500, 36)\n",
      "Original Data Class Distribution:  786  (true) / 1714  (false)\n",
      "(1500, 36) (1500,)\n",
      "(500, 36) (500,)\n",
      "(500, 36) (500,)\n",
      "Min Ratio:  0.32133333333333336\n",
      "Min Ratio:  0.5\n",
      "Min Ratio:  0.3105\n",
      "Min Ratio:  0.5\n"
     ]
    },
    {
     "data": {
      "application/vnd.jupyter.widget-view+json": {
       "model_id": "c1f894d5de094be58fc60b7586f70b34",
       "version_major": 2,
       "version_minor": 0
      },
      "text/plain": [
       "restarts:   0%|          | 0/1 [00:00<?, ?it/s]"
      ]
     },
     "metadata": {},
     "output_type": "display_data"
    },
    {
     "data": {
      "application/vnd.jupyter.widget-view+json": {
       "model_id": "6b0c78443411499f8d2eeb6b6ef1a29e",
       "version_major": 2,
       "version_minor": 0
      },
      "text/plain": [
       "epochs:   0%|          | 0/1 [00:00<?, ?it/s]"
      ]
     },
     "metadata": {},
     "output_type": "display_data"
    },
    {
     "name": "stdout",
     "output_type": "stream",
     "text": [
      "<tf.Variable 'Adam_2/learning_rate:0' shape=() dtype=float32>\n",
      "<tf.Variable 'Adam_2/learning_rate:0' shape=() dtype=float32>\n",
      "Original Data Shape (selected):  (2500, 36)\n",
      "Original Data Shape (encoded):  (2500, 36)\n",
      "Original Data Class Distribution:  819  (true) / 1681  (false)\n",
      "(1500, 36) (1500,)\n",
      "(500, 36) (500,)\n",
      "(500, 36) (500,)\n",
      "Min Ratio:  0.3253333333333333\n",
      "Min Ratio:  0.5\n",
      "Min Ratio:  0.329\n",
      "Min Ratio:  0.5\n"
     ]
    },
    {
     "data": {
      "application/vnd.jupyter.widget-view+json": {
       "model_id": "e493e08581c545a5a0a0298141796360",
       "version_major": 2,
       "version_minor": 0
      },
      "text/plain": [
       "restarts:   0%|          | 0/1 [00:00<?, ?it/s]"
      ]
     },
     "metadata": {},
     "output_type": "display_data"
    },
    {
     "data": {
      "application/vnd.jupyter.widget-view+json": {
       "model_id": "b5a635a172284e44ba835c17fa0bbeef",
       "version_major": 2,
       "version_minor": 0
      },
      "text/plain": [
       "epochs:   0%|          | 0/1 [00:00<?, ?it/s]"
      ]
     },
     "metadata": {},
     "output_type": "display_data"
    },
    {
     "name": "stdout",
     "output_type": "stream",
     "text": [
      "<tf.Variable 'Adam_2/learning_rate:0' shape=() dtype=float32>\n",
      "<tf.Variable 'Adam_2/learning_rate:0' shape=() dtype=float32>\n",
      "Original Data Shape (selected):  (2500, 36)\n",
      "Original Data Shape (encoded):  (2500, 36)\n",
      "Original Data Class Distribution:  809  (true) / 1691  (false)\n",
      "(1500, 36) (1500,)\n",
      "(500, 36) (500,)\n",
      "(500, 36) (500,)\n",
      "Min Ratio:  0.33266666666666667\n",
      "Min Ratio:  0.5\n",
      "Min Ratio:  0.3235\n",
      "Min Ratio:  0.5\n"
     ]
    },
    {
     "data": {
      "application/vnd.jupyter.widget-view+json": {
       "model_id": "f4c05fde53404b94808042751edc4c3f",
       "version_major": 2,
       "version_minor": 0
      },
      "text/plain": [
       "restarts:   0%|          | 0/1 [00:00<?, ?it/s]"
      ]
     },
     "metadata": {},
     "output_type": "display_data"
    },
    {
     "data": {
      "application/vnd.jupyter.widget-view+json": {
       "model_id": "6950322e648c483c9fc97f4bfec18c4a",
       "version_major": 2,
       "version_minor": 0
      },
      "text/plain": [
       "epochs:   0%|          | 0/1 [00:00<?, ?it/s]"
      ]
     },
     "metadata": {},
     "output_type": "display_data"
    },
    {
     "name": "stdout",
     "output_type": "stream",
     "text": [
      "<tf.Variable 'Adam_2/learning_rate:0' shape=() dtype=float32>\n",
      "<tf.Variable 'Adam_2/learning_rate:0' shape=() dtype=float32>\n",
      "Original Data Shape (selected):  (2500, 36)\n",
      "Original Data Shape (encoded):  (2500, 36)\n",
      "Original Data Class Distribution:  841  (true) / 1659  (false)\n",
      "(1500, 36) (1500,)\n",
      "(500, 36) (500,)\n",
      "(500, 36) (500,)\n",
      "Min Ratio:  0.334\n",
      "Min Ratio:  0.5\n",
      "Min Ratio:  0.3315\n",
      "Min Ratio:  0.5\n"
     ]
    },
    {
     "data": {
      "application/vnd.jupyter.widget-view+json": {
       "model_id": "62771679e01b4283864506bdbd214fee",
       "version_major": 2,
       "version_minor": 0
      },
      "text/plain": [
       "restarts:   0%|          | 0/1 [00:00<?, ?it/s]"
      ]
     },
     "metadata": {},
     "output_type": "display_data"
    },
    {
     "data": {
      "application/vnd.jupyter.widget-view+json": {
       "model_id": "287b0ef5c72b4da785bf88d3cd27d75d",
       "version_major": 2,
       "version_minor": 0
      },
      "text/plain": [
       "epochs:   0%|          | 0/1 [00:00<?, ?it/s]"
      ]
     },
     "metadata": {},
     "output_type": "display_data"
    },
    {
     "name": "stdout",
     "output_type": "stream",
     "text": [
      "<tf.Variable 'Adam_2/learning_rate:0' shape=() dtype=float32>\n",
      "<tf.Variable 'Adam_2/learning_rate:0' shape=() dtype=float32>\n",
      "Original Data Shape (selected):  (2500, 36)\n",
      "Original Data Shape (encoded):  (2500, 36)\n",
      "Original Data Class Distribution:  848  (true) / 1652  (false)\n",
      "(1500, 36) (1500,)\n",
      "(500, 36) (500,)\n",
      "(500, 36) (500,)\n",
      "Min Ratio:  0.3446666666666667\n",
      "Min Ratio:  0.5\n",
      "Min Ratio:  0.3405\n",
      "Min Ratio:  0.5\n"
     ]
    },
    {
     "data": {
      "application/vnd.jupyter.widget-view+json": {
       "model_id": "90d83fad7d914e8b91368172591307f4",
       "version_major": 2,
       "version_minor": 0
      },
      "text/plain": [
       "restarts:   0%|          | 0/1 [00:00<?, ?it/s]"
      ]
     },
     "metadata": {},
     "output_type": "display_data"
    },
    {
     "data": {
      "application/vnd.jupyter.widget-view+json": {
       "model_id": "1ea595e46638497d84e693d97fa9448a",
       "version_major": 2,
       "version_minor": 0
      },
      "text/plain": [
       "epochs:   0%|          | 0/1 [00:00<?, ?it/s]"
      ]
     },
     "metadata": {},
     "output_type": "display_data"
    },
    {
     "name": "stdout",
     "output_type": "stream",
     "text": [
      "<tf.Variable 'Adam_2/learning_rate:0' shape=() dtype=float32>\n",
      "<tf.Variable 'Adam_2/learning_rate:0' shape=() dtype=float32>\n",
      "Original Data Shape (selected):  (2500, 36)\n",
      "Original Data Shape (encoded):  (2500, 36)\n",
      "Original Data Class Distribution:  827  (true) / 1673  (false)\n",
      "(1500, 36) (1500,)\n",
      "(500, 36) (500,)\n",
      "(500, 36) (500,)\n",
      "Min Ratio:  0.33866666666666667\n",
      "Min Ratio:  0.5\n",
      "Min Ratio:  0.3325\n",
      "Min Ratio:  0.5\n"
     ]
    },
    {
     "data": {
      "application/vnd.jupyter.widget-view+json": {
       "model_id": "8f8ed860b6c0453cbeaf6ca82ac22fb7",
       "version_major": 2,
       "version_minor": 0
      },
      "text/plain": [
       "restarts:   0%|          | 0/1 [00:00<?, ?it/s]"
      ]
     },
     "metadata": {},
     "output_type": "display_data"
    },
    {
     "data": {
      "application/vnd.jupyter.widget-view+json": {
       "model_id": "8b421b8a1d264691a9c2a1e5bb2d6b7a",
       "version_major": 2,
       "version_minor": 0
      },
      "text/plain": [
       "epochs:   0%|          | 0/1 [00:00<?, ?it/s]"
      ]
     },
     "metadata": {},
     "output_type": "display_data"
    },
    {
     "name": "stdout",
     "output_type": "stream",
     "text": [
      "<tf.Variable 'Adam_2/learning_rate:0' shape=() dtype=float32>\n",
      "<tf.Variable 'Adam_2/learning_rate:0' shape=() dtype=float32>\n",
      "Original Data Shape (selected):  (2500, 36)\n",
      "Original Data Shape (encoded):  (2500, 36)\n",
      "Original Data Class Distribution:  835  (true) / 1665  (false)\n",
      "(1500, 36) (1500,)\n",
      "(500, 36) (500,)\n",
      "(500, 36) (500,)\n",
      "Min Ratio:  0.33866666666666667\n",
      "Min Ratio:  0.5\n",
      "Min Ratio:  0.331\n",
      "Min Ratio:  0.5\n"
     ]
    },
    {
     "data": {
      "application/vnd.jupyter.widget-view+json": {
       "model_id": "77331359b0cf411cbada0435dfa73728",
       "version_major": 2,
       "version_minor": 0
      },
      "text/plain": [
       "restarts:   0%|          | 0/1 [00:00<?, ?it/s]"
      ]
     },
     "metadata": {},
     "output_type": "display_data"
    },
    {
     "data": {
      "application/vnd.jupyter.widget-view+json": {
       "model_id": "c7b94e2b144f46d0aea02047159f855d",
       "version_major": 2,
       "version_minor": 0
      },
      "text/plain": [
       "epochs:   0%|          | 0/1 [00:00<?, ?it/s]"
      ]
     },
     "metadata": {},
     "output_type": "display_data"
    },
    {
     "name": "stdout",
     "output_type": "stream",
     "text": [
      "<tf.Variable 'Adam_2/learning_rate:0' shape=() dtype=float32>\n",
      "<tf.Variable 'Adam_2/learning_rate:0' shape=() dtype=float32>\n",
      "Original Data Shape (selected):  (2500, 36)\n",
      "Original Data Shape (encoded):  (2500, 36)\n",
      "Original Data Class Distribution:  794  (true) / 1706  (false)\n",
      "(1500, 36) (1500,)\n",
      "(500, 36) (500,)\n",
      "(500, 36) (500,)\n",
      "Min Ratio:  0.32066666666666666\n",
      "Min Ratio:  0.5\n",
      "Min Ratio:  0.308\n",
      "Min Ratio:  0.5\n"
     ]
    },
    {
     "data": {
      "application/vnd.jupyter.widget-view+json": {
       "model_id": "dfbb43209b04439bb0aa6a9c5c3a9b76",
       "version_major": 2,
       "version_minor": 0
      },
      "text/plain": [
       "restarts:   0%|          | 0/1 [00:00<?, ?it/s]"
      ]
     },
     "metadata": {},
     "output_type": "display_data"
    },
    {
     "data": {
      "application/vnd.jupyter.widget-view+json": {
       "model_id": "f4c859181b604ca7b4171a32e825522c",
       "version_major": 2,
       "version_minor": 0
      },
      "text/plain": [
       "epochs:   0%|          | 0/1 [00:00<?, ?it/s]"
      ]
     },
     "metadata": {},
     "output_type": "display_data"
    },
    {
     "name": "stdout",
     "output_type": "stream",
     "text": [
      "<tf.Variable 'Adam_2/learning_rate:0' shape=() dtype=float32>\n",
      "<tf.Variable 'Adam_2/learning_rate:0' shape=() dtype=float32>\n",
      "Original Data Shape (selected):  (2500, 36)\n",
      "Original Data Shape (encoded):  (2500, 36)\n",
      "Original Data Class Distribution:  785  (true) / 1715  (false)\n",
      "(1500, 36) (1500,)\n",
      "(500, 36) (500,)\n",
      "(500, 36) (500,)\n",
      "Min Ratio:  0.312\n",
      "Min Ratio:  0.5\n",
      "Min Ratio:  0.3145\n",
      "Min Ratio:  0.5\n"
     ]
    },
    {
     "data": {
      "application/vnd.jupyter.widget-view+json": {
       "model_id": "429afdd9db9b47cda5e19643a1902403",
       "version_major": 2,
       "version_minor": 0
      },
      "text/plain": [
       "restarts:   0%|          | 0/1 [00:00<?, ?it/s]"
      ]
     },
     "metadata": {},
     "output_type": "display_data"
    },
    {
     "data": {
      "application/vnd.jupyter.widget-view+json": {
       "model_id": "510e9d421319425386738068ceeff1b4",
       "version_major": 2,
       "version_minor": 0
      },
      "text/plain": [
       "epochs:   0%|          | 0/1 [00:00<?, ?it/s]"
      ]
     },
     "metadata": {},
     "output_type": "display_data"
    },
    {
     "name": "stdout",
     "output_type": "stream",
     "text": [
      "<tf.Variable 'Adam_2/learning_rate:0' shape=() dtype=float32>\n",
      "<tf.Variable 'Adam_2/learning_rate:0' shape=() dtype=float32>\n",
      "Original Data Shape (selected):  (2500, 36)\n",
      "Original Data Shape (encoded):  (2500, 36)\n",
      "Original Data Class Distribution:  810  (true) / 1690  (false)\n",
      "(1500, 36) (1500,)\n",
      "(500, 36) (500,)\n",
      "(500, 36) (500,)\n",
      "Min Ratio:  0.31933333333333336\n",
      "Min Ratio:  0.5\n",
      "Min Ratio:  0.3255\n",
      "Min Ratio:  0.5\n"
     ]
    },
    {
     "data": {
      "application/vnd.jupyter.widget-view+json": {
       "model_id": "5d49b415c04e4570b8214bb1eeb91fa0",
       "version_major": 2,
       "version_minor": 0
      },
      "text/plain": [
       "restarts:   0%|          | 0/1 [00:00<?, ?it/s]"
      ]
     },
     "metadata": {},
     "output_type": "display_data"
    },
    {
     "data": {
      "application/vnd.jupyter.widget-view+json": {
       "model_id": "4824187517af4baa9138b57bfff8e917",
       "version_major": 2,
       "version_minor": 0
      },
      "text/plain": [
       "epochs:   0%|          | 0/1 [00:00<?, ?it/s]"
      ]
     },
     "metadata": {},
     "output_type": "display_data"
    },
    {
     "name": "stdout",
     "output_type": "stream",
     "text": [
      "<tf.Variable 'Adam_2/learning_rate:0' shape=() dtype=float32>\n",
      "<tf.Variable 'Adam_2/learning_rate:0' shape=() dtype=float32>\n",
      "Original Data Shape (selected):  (2500, 36)\n",
      "Original Data Shape (encoded):  (2500, 36)\n",
      "Original Data Class Distribution:  796  (true) / 1704  (false)\n",
      "(1500, 36) (1500,)\n",
      "(500, 36) (500,)\n",
      "(500, 36) (500,)\n",
      "Min Ratio:  0.312\n",
      "Min Ratio:  0.5\n",
      "Min Ratio:  0.32\n",
      "Min Ratio:  0.5\n"
     ]
    },
    {
     "data": {
      "application/vnd.jupyter.widget-view+json": {
       "model_id": "616001c39dc64d47abc7d0118c49962c",
       "version_major": 2,
       "version_minor": 0
      },
      "text/plain": [
       "restarts:   0%|          | 0/1 [00:00<?, ?it/s]"
      ]
     },
     "metadata": {},
     "output_type": "display_data"
    },
    {
     "data": {
      "application/vnd.jupyter.widget-view+json": {
       "model_id": "2986c8d7a80146b6866292815e8d5d56",
       "version_major": 2,
       "version_minor": 0
      },
      "text/plain": [
       "epochs:   0%|          | 0/1 [00:00<?, ?it/s]"
      ]
     },
     "metadata": {},
     "output_type": "display_data"
    },
    {
     "name": "stdout",
     "output_type": "stream",
     "text": [
      "<tf.Variable 'Adam_2/learning_rate:0' shape=() dtype=float32>\n",
      "<tf.Variable 'Adam_2/learning_rate:0' shape=() dtype=float32>\n",
      "Original Data Shape (selected):  (2500, 36)\n",
      "Original Data Shape (encoded):  (2500, 36)\n",
      "Original Data Class Distribution:  778  (true) / 1722  (false)\n",
      "(1500, 36) (1500,)\n",
      "(500, 36) (500,)\n",
      "(500, 36) (500,)\n",
      "Min Ratio:  0.31333333333333335\n",
      "Min Ratio:  0.5\n",
      "Min Ratio:  0.313\n",
      "Min Ratio:  0.5\n"
     ]
    },
    {
     "data": {
      "application/vnd.jupyter.widget-view+json": {
       "model_id": "f1d144595e944740a9b6c9d45e07262f",
       "version_major": 2,
       "version_minor": 0
      },
      "text/plain": [
       "restarts:   0%|          | 0/1 [00:00<?, ?it/s]"
      ]
     },
     "metadata": {},
     "output_type": "display_data"
    },
    {
     "data": {
      "application/vnd.jupyter.widget-view+json": {
       "model_id": "343245da42974e56809ba3809e89ae2f",
       "version_major": 2,
       "version_minor": 0
      },
      "text/plain": [
       "epochs:   0%|          | 0/1 [00:00<?, ?it/s]"
      ]
     },
     "metadata": {},
     "output_type": "display_data"
    },
    {
     "name": "stdout",
     "output_type": "stream",
     "text": [
      "<tf.Variable 'Adam_2/learning_rate:0' shape=() dtype=float32>\n",
      "<tf.Variable 'Adam_2/learning_rate:0' shape=() dtype=float32>\n",
      "Original Data Shape (selected):  (2500, 36)\n",
      "Original Data Shape (encoded):  (2500, 36)\n",
      "Original Data Class Distribution:  827  (true) / 1673  (false)\n",
      "(1500, 36) (1500,)\n",
      "(500, 36) (500,)\n",
      "(500, 36) (500,)\n",
      "Min Ratio:  0.3253333333333333\n",
      "Min Ratio:  0.5\n",
      "Min Ratio:  0.3245\n",
      "Min Ratio:  0.5\n"
     ]
    },
    {
     "data": {
      "application/vnd.jupyter.widget-view+json": {
       "model_id": "06af29b78e6a4992bd76e8aea8362a56",
       "version_major": 2,
       "version_minor": 0
      },
      "text/plain": [
       "restarts:   0%|          | 0/1 [00:00<?, ?it/s]"
      ]
     },
     "metadata": {},
     "output_type": "display_data"
    },
    {
     "data": {
      "application/vnd.jupyter.widget-view+json": {
       "model_id": "bac3c882fca64edab6296d6260cccbf3",
       "version_major": 2,
       "version_minor": 0
      },
      "text/plain": [
       "epochs:   0%|          | 0/1 [00:00<?, ?it/s]"
      ]
     },
     "metadata": {},
     "output_type": "display_data"
    },
    {
     "name": "stdout",
     "output_type": "stream",
     "text": [
      "<tf.Variable 'Adam_2/learning_rate:0' shape=() dtype=float32>\n",
      "<tf.Variable 'Adam_2/learning_rate:0' shape=() dtype=float32>\n",
      "Original Data Shape (selected):  (2500, 36)\n",
      "Original Data Shape (encoded):  (2500, 36)\n",
      "Original Data Class Distribution:  791  (true) / 1709  (false)\n",
      "(1500, 36) (1500,)\n",
      "(500, 36) (500,)\n",
      "(500, 36) (500,)\n",
      "Min Ratio:  0.312\n",
      "Min Ratio:  0.5\n",
      "Min Ratio:  0.315\n",
      "Min Ratio:  0.5\n"
     ]
    },
    {
     "data": {
      "application/vnd.jupyter.widget-view+json": {
       "model_id": "1c0b3ec4fe44495bb06f39c82a062ef3",
       "version_major": 2,
       "version_minor": 0
      },
      "text/plain": [
       "restarts:   0%|          | 0/1 [00:00<?, ?it/s]"
      ]
     },
     "metadata": {},
     "output_type": "display_data"
    },
    {
     "data": {
      "application/vnd.jupyter.widget-view+json": {
       "model_id": "652320a517de4cdbbfa5448508dc5fd9",
       "version_major": 2,
       "version_minor": 0
      },
      "text/plain": [
       "epochs:   0%|          | 0/1 [00:00<?, ?it/s]"
      ]
     },
     "metadata": {},
     "output_type": "display_data"
    },
    {
     "name": "stdout",
     "output_type": "stream",
     "text": [
      "<tf.Variable 'Adam_2/learning_rate:0' shape=() dtype=float32>\n",
      "<tf.Variable 'Adam_2/learning_rate:0' shape=() dtype=float32>\n",
      "Original Data Shape (selected):  (2500, 36)\n",
      "Original Data Shape (encoded):  (2500, 36)\n",
      "Original Data Class Distribution:  821  (true) / 1679  (false)\n",
      "(1500, 36) (1500,)\n",
      "(500, 36) (500,)\n",
      "(500, 36) (500,)\n",
      "Min Ratio:  0.32066666666666666\n",
      "Min Ratio:  0.5\n",
      "Min Ratio:  0.3195\n",
      "Min Ratio:  0.5\n"
     ]
    },
    {
     "data": {
      "application/vnd.jupyter.widget-view+json": {
       "model_id": "d3e4af79e394457fb3bf1cbc2dcef83c",
       "version_major": 2,
       "version_minor": 0
      },
      "text/plain": [
       "restarts:   0%|          | 0/1 [00:00<?, ?it/s]"
      ]
     },
     "metadata": {},
     "output_type": "display_data"
    },
    {
     "data": {
      "application/vnd.jupyter.widget-view+json": {
       "model_id": "86058b6cf3db469ca20b739b17b360d3",
       "version_major": 2,
       "version_minor": 0
      },
      "text/plain": [
       "epochs:   0%|          | 0/1 [00:00<?, ?it/s]"
      ]
     },
     "metadata": {},
     "output_type": "display_data"
    },
    {
     "name": "stdout",
     "output_type": "stream",
     "text": [
      "<tf.Variable 'Adam_2/learning_rate:0' shape=() dtype=float32>\n",
      "<tf.Variable 'Adam_2/learning_rate:0' shape=() dtype=float32>\n",
      "Original Data Shape (selected):  (2500, 36)\n",
      "Original Data Shape (encoded):  (2500, 36)\n",
      "Original Data Class Distribution:  838  (true) / 1662  (false)\n",
      "(1500, 36) (1500,)\n",
      "(500, 36) (500,)\n",
      "(500, 36) (500,)\n",
      "Min Ratio:  0.3253333333333333\n",
      "Min Ratio:  0.5\n",
      "Min Ratio:  0.336\n",
      "Min Ratio:  0.5\n"
     ]
    },
    {
     "data": {
      "application/vnd.jupyter.widget-view+json": {
       "model_id": "63afc7253080446cb1e1467371b73d9f",
       "version_major": 2,
       "version_minor": 0
      },
      "text/plain": [
       "restarts:   0%|          | 0/1 [00:00<?, ?it/s]"
      ]
     },
     "metadata": {},
     "output_type": "display_data"
    },
    {
     "data": {
      "application/vnd.jupyter.widget-view+json": {
       "model_id": "77ed9c0aea8e476cac11e79d4227322f",
       "version_major": 2,
       "version_minor": 0
      },
      "text/plain": [
       "epochs:   0%|          | 0/1 [00:00<?, ?it/s]"
      ]
     },
     "metadata": {},
     "output_type": "display_data"
    },
    {
     "name": "stdout",
     "output_type": "stream",
     "text": [
      "<tf.Variable 'Adam_2/learning_rate:0' shape=() dtype=float32>\n",
      "<tf.Variable 'Adam_2/learning_rate:0' shape=() dtype=float32>\n",
      "Original Data Shape (selected):  (2500, 36)\n",
      "Original Data Shape (encoded):  (2500, 36)\n",
      "Original Data Class Distribution:  836  (true) / 1664  (false)\n",
      "(1500, 36) (1500,)\n",
      "(500, 36) (500,)\n",
      "(500, 36) (500,)\n",
      "Min Ratio:  0.3473333333333333\n",
      "Min Ratio:  0.5\n",
      "Min Ratio:  0.3405\n",
      "Min Ratio:  0.5\n"
     ]
    },
    {
     "data": {
      "application/vnd.jupyter.widget-view+json": {
       "model_id": "eb4db5a54f764e879179ab4120e998ac",
       "version_major": 2,
       "version_minor": 0
      },
      "text/plain": [
       "restarts:   0%|          | 0/1 [00:00<?, ?it/s]"
      ]
     },
     "metadata": {},
     "output_type": "display_data"
    },
    {
     "data": {
      "application/vnd.jupyter.widget-view+json": {
       "model_id": "cd34a49b928d4ae3a634b2661219a775",
       "version_major": 2,
       "version_minor": 0
      },
      "text/plain": [
       "epochs:   0%|          | 0/1 [00:00<?, ?it/s]"
      ]
     },
     "metadata": {},
     "output_type": "display_data"
    },
    {
     "name": "stdout",
     "output_type": "stream",
     "text": [
      "<tf.Variable 'Adam_2/learning_rate:0' shape=() dtype=float32>\n",
      "<tf.Variable 'Adam_2/learning_rate:0' shape=() dtype=float32>\n",
      "Original Data Shape (selected):  (2500, 36)\n",
      "Original Data Shape (encoded):  (2500, 36)\n",
      "Original Data Class Distribution:  832  (true) / 1668  (false)\n",
      "(1500, 36) (1500,)\n",
      "(500, 36) (500,)\n",
      "(500, 36) (500,)\n",
      "Min Ratio:  0.33\n",
      "Min Ratio:  0.5\n",
      "Min Ratio:  0.335\n",
      "Min Ratio:  0.5\n"
     ]
    },
    {
     "data": {
      "application/vnd.jupyter.widget-view+json": {
       "model_id": "7f4de71129964859b3b80aee9cb83d20",
       "version_major": 2,
       "version_minor": 0
      },
      "text/plain": [
       "restarts:   0%|          | 0/1 [00:00<?, ?it/s]"
      ]
     },
     "metadata": {},
     "output_type": "display_data"
    },
    {
     "data": {
      "application/vnd.jupyter.widget-view+json": {
       "model_id": "5d2fac68a534481ebb1b12a7606e8502",
       "version_major": 2,
       "version_minor": 0
      },
      "text/plain": [
       "epochs:   0%|          | 0/1 [00:00<?, ?it/s]"
      ]
     },
     "metadata": {},
     "output_type": "display_data"
    },
    {
     "name": "stdout",
     "output_type": "stream",
     "text": [
      "<tf.Variable 'Adam_2/learning_rate:0' shape=() dtype=float32>\n",
      "<tf.Variable 'Adam_2/learning_rate:0' shape=() dtype=float32>\n",
      "Original Data Shape (selected):  (2500, 36)\n",
      "Original Data Shape (encoded):  (2500, 36)\n",
      "Original Data Class Distribution:  847  (true) / 1653  (false)\n",
      "(1500, 36) (1500,)\n",
      "(500, 36) (500,)\n",
      "(500, 36) (500,)\n",
      "Min Ratio:  0.346\n",
      "Min Ratio:  0.5\n",
      "Min Ratio:  0.338\n",
      "Min Ratio:  0.5\n"
     ]
    },
    {
     "data": {
      "application/vnd.jupyter.widget-view+json": {
       "model_id": "cdccaf42a9bd4bf1a54edb946f4673de",
       "version_major": 2,
       "version_minor": 0
      },
      "text/plain": [
       "restarts:   0%|          | 0/1 [00:00<?, ?it/s]"
      ]
     },
     "metadata": {},
     "output_type": "display_data"
    },
    {
     "data": {
      "application/vnd.jupyter.widget-view+json": {
       "model_id": "2e1fce20f690480293d5288f5c62ca9e",
       "version_major": 2,
       "version_minor": 0
      },
      "text/plain": [
       "epochs:   0%|          | 0/1 [00:00<?, ?it/s]"
      ]
     },
     "metadata": {},
     "output_type": "display_data"
    },
    {
     "name": "stdout",
     "output_type": "stream",
     "text": [
      "<tf.Variable 'Adam_2/learning_rate:0' shape=() dtype=float32>\n",
      "<tf.Variable 'Adam_2/learning_rate:0' shape=() dtype=float32>\n",
      "Original Data Shape (selected):  (2500, 36)\n",
      "Original Data Shape (encoded):  (2500, 36)\n",
      "Original Data Class Distribution:  820  (true) / 1680  (false)\n",
      "(1500, 36) (1500,)\n",
      "(500, 36) (500,)\n",
      "(500, 36) (500,)\n",
      "Min Ratio:  0.3253333333333333\n",
      "Min Ratio:  0.5\n",
      "Min Ratio:  0.326\n",
      "Min Ratio:  0.5\n"
     ]
    },
    {
     "data": {
      "application/vnd.jupyter.widget-view+json": {
       "model_id": "b433a7cdc1754e9f9d48c98317e69da9",
       "version_major": 2,
       "version_minor": 0
      },
      "text/plain": [
       "restarts:   0%|          | 0/1 [00:00<?, ?it/s]"
      ]
     },
     "metadata": {},
     "output_type": "display_data"
    },
    {
     "data": {
      "application/vnd.jupyter.widget-view+json": {
       "model_id": "d29aeb0cd66247ceb06de2da21946704",
       "version_major": 2,
       "version_minor": 0
      },
      "text/plain": [
       "epochs:   0%|          | 0/1 [00:00<?, ?it/s]"
      ]
     },
     "metadata": {},
     "output_type": "display_data"
    },
    {
     "name": "stdout",
     "output_type": "stream",
     "text": [
      "<tf.Variable 'Adam_2/learning_rate:0' shape=() dtype=float32>\n",
      "<tf.Variable 'Adam_2/learning_rate:0' shape=() dtype=float32>\n",
      "Original Data Shape (selected):  (2500, 36)\n",
      "Original Data Shape (encoded):  (2500, 36)\n",
      "Original Data Class Distribution:  849  (true) / 1651  (false)\n",
      "(1500, 36) (1500,)\n",
      "(500, 36) (500,)\n",
      "(500, 36) (500,)\n",
      "Min Ratio:  0.3446666666666667\n",
      "Min Ratio:  0.5\n",
      "Min Ratio:  0.342\n",
      "Min Ratio:  0.5\n"
     ]
    },
    {
     "data": {
      "application/vnd.jupyter.widget-view+json": {
       "model_id": "ac18592d455e4d9198477ed8b9302e66",
       "version_major": 2,
       "version_minor": 0
      },
      "text/plain": [
       "restarts:   0%|          | 0/1 [00:00<?, ?it/s]"
      ]
     },
     "metadata": {},
     "output_type": "display_data"
    },
    {
     "data": {
      "application/vnd.jupyter.widget-view+json": {
       "model_id": "83f2956955564c1ca8dfac25f2d5e249",
       "version_major": 2,
       "version_minor": 0
      },
      "text/plain": [
       "epochs:   0%|          | 0/1 [00:00<?, ?it/s]"
      ]
     },
     "metadata": {},
     "output_type": "display_data"
    },
    {
     "name": "stdout",
     "output_type": "stream",
     "text": [
      "<tf.Variable 'Adam_2/learning_rate:0' shape=() dtype=float32>\n",
      "<tf.Variable 'Adam_2/learning_rate:0' shape=() dtype=float32>\n",
      "Original Data Shape (selected):  (2500, 36)\n",
      "Original Data Shape (encoded):  (2500, 36)\n",
      "Original Data Class Distribution:  841  (true) / 1659  (false)\n",
      "(1500, 36) (1500,)\n",
      "(500, 36) (500,)\n",
      "(500, 36) (500,)\n",
      "Min Ratio:  0.346\n",
      "Min Ratio:  0.5\n",
      "Min Ratio:  0.347\n",
      "Min Ratio:  0.5\n"
     ]
    },
    {
     "data": {
      "application/vnd.jupyter.widget-view+json": {
       "model_id": "80f7f03aeed945ea89c59010780b53e3",
       "version_major": 2,
       "version_minor": 0
      },
      "text/plain": [
       "restarts:   0%|          | 0/1 [00:00<?, ?it/s]"
      ]
     },
     "metadata": {},
     "output_type": "display_data"
    },
    {
     "data": {
      "application/vnd.jupyter.widget-view+json": {
       "model_id": "63aaad84c9b1472bb7d5b2d7ba08cee5",
       "version_major": 2,
       "version_minor": 0
      },
      "text/plain": [
       "epochs:   0%|          | 0/1 [00:00<?, ?it/s]"
      ]
     },
     "metadata": {},
     "output_type": "display_data"
    },
    {
     "name": "stdout",
     "output_type": "stream",
     "text": [
      "<tf.Variable 'Adam_2/learning_rate:0' shape=() dtype=float32>\n",
      "<tf.Variable 'Adam_2/learning_rate:0' shape=() dtype=float32>\n",
      "Original Data Shape (selected):  (2500, 36)\n",
      "Original Data Shape (encoded):  (2500, 36)\n",
      "Original Data Class Distribution:  808  (true) / 1692  (false)\n",
      "(1500, 36) (1500,)\n",
      "(500, 36) (500,)\n",
      "(500, 36) (500,)\n",
      "Min Ratio:  0.32066666666666666\n",
      "Min Ratio:  0.5\n",
      "Min Ratio:  0.323\n",
      "Min Ratio:  0.5\n"
     ]
    },
    {
     "data": {
      "application/vnd.jupyter.widget-view+json": {
       "model_id": "f59a73d7250e45d7a28a9947ab7807c3",
       "version_major": 2,
       "version_minor": 0
      },
      "text/plain": [
       "restarts:   0%|          | 0/1 [00:00<?, ?it/s]"
      ]
     },
     "metadata": {},
     "output_type": "display_data"
    },
    {
     "data": {
      "application/vnd.jupyter.widget-view+json": {
       "model_id": "09419d5ed7154da2bc8b5c3eca2bc229",
       "version_major": 2,
       "version_minor": 0
      },
      "text/plain": [
       "epochs:   0%|          | 0/1 [00:00<?, ?it/s]"
      ]
     },
     "metadata": {},
     "output_type": "display_data"
    },
    {
     "name": "stdout",
     "output_type": "stream",
     "text": [
      "<tf.Variable 'Adam_2/learning_rate:0' shape=() dtype=float32>\n",
      "<tf.Variable 'Adam_2/learning_rate:0' shape=() dtype=float32>\n",
      "Original Data Shape (selected):  (2500, 36)\n",
      "Original Data Shape (encoded):  (2500, 36)\n",
      "Original Data Class Distribution:  834  (true) / 1666  (false)\n",
      "(1500, 36) (1500,)\n",
      "(500, 36) (500,)\n",
      "(500, 36) (500,)\n",
      "Min Ratio:  0.32\n",
      "Min Ratio:  0.5\n",
      "Min Ratio:  0.3335\n",
      "Min Ratio:  0.5\n"
     ]
    },
    {
     "data": {
      "application/vnd.jupyter.widget-view+json": {
       "model_id": "e18790886c3242eaac7f5345f510f3e3",
       "version_major": 2,
       "version_minor": 0
      },
      "text/plain": [
       "restarts:   0%|          | 0/1 [00:00<?, ?it/s]"
      ]
     },
     "metadata": {},
     "output_type": "display_data"
    },
    {
     "data": {
      "application/vnd.jupyter.widget-view+json": {
       "model_id": "8e83881fb6cc4846a22e58604dcebcfb",
       "version_major": 2,
       "version_minor": 0
      },
      "text/plain": [
       "epochs:   0%|          | 0/1 [00:00<?, ?it/s]"
      ]
     },
     "metadata": {},
     "output_type": "display_data"
    },
    {
     "name": "stdout",
     "output_type": "stream",
     "text": [
      "<tf.Variable 'Adam_2/learning_rate:0' shape=() dtype=float32>\n",
      "<tf.Variable 'Adam_2/learning_rate:0' shape=() dtype=float32>\n",
      "Original Data Shape (selected):  (2500, 36)\n",
      "Original Data Shape (encoded):  (2500, 36)\n",
      "Original Data Class Distribution:  811  (true) / 1689  (false)\n",
      "(1500, 36) (1500,)\n",
      "(500, 36) (500,)\n",
      "(500, 36) (500,)\n",
      "Min Ratio:  0.3373333333333333\n",
      "Min Ratio:  0.5\n",
      "Min Ratio:  0.3295\n",
      "Min Ratio:  0.5\n"
     ]
    },
    {
     "data": {
      "application/vnd.jupyter.widget-view+json": {
       "model_id": "0997078550ce44738ff8271c459c03ef",
       "version_major": 2,
       "version_minor": 0
      },
      "text/plain": [
       "restarts:   0%|          | 0/1 [00:00<?, ?it/s]"
      ]
     },
     "metadata": {},
     "output_type": "display_data"
    },
    {
     "data": {
      "application/vnd.jupyter.widget-view+json": {
       "model_id": "e644bcff721f40a2a82e0a6733e98a5a",
       "version_major": 2,
       "version_minor": 0
      },
      "text/plain": [
       "epochs:   0%|          | 0/1 [00:00<?, ?it/s]"
      ]
     },
     "metadata": {},
     "output_type": "display_data"
    },
    {
     "name": "stdout",
     "output_type": "stream",
     "text": [
      "<tf.Variable 'Adam_2/learning_rate:0' shape=() dtype=float32>\n",
      "<tf.Variable 'Adam_2/learning_rate:0' shape=() dtype=float32>\n",
      "Original Data Shape (selected):  (2500, 36)\n",
      "Original Data Shape (encoded):  (2500, 36)\n",
      "Original Data Class Distribution:  821  (true) / 1679  (false)\n",
      "(1500, 36) (1500,)\n",
      "(500, 36) (500,)\n",
      "(500, 36) (500,)\n",
      "Min Ratio:  0.33\n",
      "Min Ratio:  0.5\n",
      "Min Ratio:  0.334\n",
      "Min Ratio:  0.5\n"
     ]
    },
    {
     "data": {
      "application/vnd.jupyter.widget-view+json": {
       "model_id": "3093fc7617834585baff4ea205cb12f7",
       "version_major": 2,
       "version_minor": 0
      },
      "text/plain": [
       "restarts:   0%|          | 0/1 [00:00<?, ?it/s]"
      ]
     },
     "metadata": {},
     "output_type": "display_data"
    },
    {
     "data": {
      "application/vnd.jupyter.widget-view+json": {
       "model_id": "33bbccf825e2483499d0cdcdc3718baf",
       "version_major": 2,
       "version_minor": 0
      },
      "text/plain": [
       "epochs:   0%|          | 0/1 [00:00<?, ?it/s]"
      ]
     },
     "metadata": {},
     "output_type": "display_data"
    },
    {
     "name": "stdout",
     "output_type": "stream",
     "text": [
      "<tf.Variable 'Adam_2/learning_rate:0' shape=() dtype=float32>\n",
      "<tf.Variable 'Adam_2/learning_rate:0' shape=() dtype=float32>\n",
      "Original Data Shape (selected):  (2500, 36)\n",
      "Original Data Shape (encoded):  (2500, 36)\n",
      "Original Data Class Distribution:  824  (true) / 1676  (false)\n",
      "(1500, 36) (1500,)\n",
      "(500, 36) (500,)\n",
      "(500, 36) (500,)\n",
      "Min Ratio:  0.32266666666666666\n",
      "Min Ratio:  0.5\n",
      "Min Ratio:  0.329\n",
      "Min Ratio:  0.5\n"
     ]
    },
    {
     "data": {
      "application/vnd.jupyter.widget-view+json": {
       "model_id": "e3ca315655e845db94fb5045bdd472de",
       "version_major": 2,
       "version_minor": 0
      },
      "text/plain": [
       "restarts:   0%|          | 0/1 [00:00<?, ?it/s]"
      ]
     },
     "metadata": {},
     "output_type": "display_data"
    },
    {
     "data": {
      "application/vnd.jupyter.widget-view+json": {
       "model_id": "d6db98e7e690433681c542738f3b78ad",
       "version_major": 2,
       "version_minor": 0
      },
      "text/plain": [
       "epochs:   0%|          | 0/1 [00:00<?, ?it/s]"
      ]
     },
     "metadata": {},
     "output_type": "display_data"
    },
    {
     "name": "stdout",
     "output_type": "stream",
     "text": [
      "<tf.Variable 'Adam_2/learning_rate:0' shape=() dtype=float32>\n",
      "<tf.Variable 'Adam_2/learning_rate:0' shape=() dtype=float32>\n",
      "Original Data Shape (selected):  (2500, 36)\n",
      "Original Data Shape (encoded):  (2500, 36)\n",
      "Original Data Class Distribution:  824  (true) / 1676  (false)\n",
      "(1500, 36) (1500,)\n",
      "(500, 36) (500,)\n",
      "(500, 36) (500,)\n",
      "Min Ratio:  0.3406666666666667\n",
      "Min Ratio:  0.5\n",
      "Min Ratio:  0.3325\n",
      "Min Ratio:  0.5\n"
     ]
    },
    {
     "data": {
      "application/vnd.jupyter.widget-view+json": {
       "model_id": "68fe72c139d04503b1aea05b8fc9ff34",
       "version_major": 2,
       "version_minor": 0
      },
      "text/plain": [
       "restarts:   0%|          | 0/1 [00:00<?, ?it/s]"
      ]
     },
     "metadata": {},
     "output_type": "display_data"
    },
    {
     "data": {
      "application/vnd.jupyter.widget-view+json": {
       "model_id": "a89780178f4c4865a1bb12ffeeff5901",
       "version_major": 2,
       "version_minor": 0
      },
      "text/plain": [
       "epochs:   0%|          | 0/1 [00:00<?, ?it/s]"
      ]
     },
     "metadata": {},
     "output_type": "display_data"
    },
    {
     "name": "stdout",
     "output_type": "stream",
     "text": [
      "<tf.Variable 'Adam_2/learning_rate:0' shape=() dtype=float32>\n",
      "<tf.Variable 'Adam_2/learning_rate:0' shape=() dtype=float32>\n",
      "Original Data Shape (selected):  (2500, 36)\n",
      "Original Data Shape (encoded):  (2500, 36)\n",
      "Original Data Class Distribution:  801  (true) / 1699  (false)\n",
      "(1500, 36) (1500,)\n",
      "(500, 36) (500,)\n",
      "(500, 36) (500,)\n",
      "Min Ratio:  0.32866666666666666\n",
      "Min Ratio:  0.5\n",
      "Min Ratio:  0.3225\n",
      "Min Ratio:  0.5\n"
     ]
    },
    {
     "data": {
      "application/vnd.jupyter.widget-view+json": {
       "model_id": "ba8441ddd81342b8b8c3a08e3590af10",
       "version_major": 2,
       "version_minor": 0
      },
      "text/plain": [
       "restarts:   0%|          | 0/1 [00:00<?, ?it/s]"
      ]
     },
     "metadata": {},
     "output_type": "display_data"
    },
    {
     "data": {
      "application/vnd.jupyter.widget-view+json": {
       "model_id": "c9478631c67e4ce3ba110c210e84d0cf",
       "version_major": 2,
       "version_minor": 0
      },
      "text/plain": [
       "epochs:   0%|          | 0/1 [00:00<?, ?it/s]"
      ]
     },
     "metadata": {},
     "output_type": "display_data"
    },
    {
     "name": "stdout",
     "output_type": "stream",
     "text": [
      "<tf.Variable 'Adam_2/learning_rate:0' shape=() dtype=float32>\n",
      "<tf.Variable 'Adam_2/learning_rate:0' shape=() dtype=float32>\n",
      "Original Data Shape (selected):  (2500, 36)\n",
      "Original Data Shape (encoded):  (2500, 36)\n",
      "Original Data Class Distribution:  849  (true) / 1651  (false)\n",
      "(1500, 36) (1500,)\n",
      "(500, 36) (500,)\n",
      "(500, 36) (500,)\n",
      "Min Ratio:  0.348\n",
      "Min Ratio:  0.5\n",
      "Min Ratio:  0.3365\n",
      "Min Ratio:  0.5\n"
     ]
    },
    {
     "data": {
      "application/vnd.jupyter.widget-view+json": {
       "model_id": "a65ab988428940389fb399eb7f082e48",
       "version_major": 2,
       "version_minor": 0
      },
      "text/plain": [
       "restarts:   0%|          | 0/1 [00:00<?, ?it/s]"
      ]
     },
     "metadata": {},
     "output_type": "display_data"
    },
    {
     "data": {
      "application/vnd.jupyter.widget-view+json": {
       "model_id": "0b4ed5cbffae423388a31f95caddb399",
       "version_major": 2,
       "version_minor": 0
      },
      "text/plain": [
       "epochs:   0%|          | 0/1 [00:00<?, ?it/s]"
      ]
     },
     "metadata": {},
     "output_type": "display_data"
    },
    {
     "name": "stdout",
     "output_type": "stream",
     "text": [
      "<tf.Variable 'Adam_2/learning_rate:0' shape=() dtype=float32>\n",
      "<tf.Variable 'Adam_2/learning_rate:0' shape=() dtype=float32>\n",
      "Original Data Shape (selected):  (2500, 36)\n",
      "Original Data Shape (encoded):  (2500, 36)\n",
      "Original Data Class Distribution:  834  (true) / 1666  (false)\n",
      "(1500, 36) (1500,)\n",
      "(500, 36) (500,)\n",
      "(500, 36) (500,)\n",
      "Min Ratio:  0.3453333333333333\n",
      "Min Ratio:  0.5\n",
      "Min Ratio:  0.34\n",
      "Min Ratio:  0.5\n"
     ]
    },
    {
     "data": {
      "application/vnd.jupyter.widget-view+json": {
       "model_id": "5b13460a29ac4bb5ac158679d1fa8bf0",
       "version_major": 2,
       "version_minor": 0
      },
      "text/plain": [
       "restarts:   0%|          | 0/1 [00:00<?, ?it/s]"
      ]
     },
     "metadata": {},
     "output_type": "display_data"
    },
    {
     "data": {
      "application/vnd.jupyter.widget-view+json": {
       "model_id": "259823a5c8a0450abaf551343da2f906",
       "version_major": 2,
       "version_minor": 0
      },
      "text/plain": [
       "epochs:   0%|          | 0/1 [00:00<?, ?it/s]"
      ]
     },
     "metadata": {},
     "output_type": "display_data"
    },
    {
     "name": "stdout",
     "output_type": "stream",
     "text": [
      "<tf.Variable 'Adam_2/learning_rate:0' shape=() dtype=float32>\n",
      "<tf.Variable 'Adam_2/learning_rate:0' shape=() dtype=float32>\n",
      "Original Data Shape (selected):  (2500, 36)\n",
      "Original Data Shape (encoded):  (2500, 36)\n",
      "Original Data Class Distribution:  774  (true) / 1726  (false)\n",
      "(1500, 36) (1500,)\n",
      "(500, 36) (500,)\n",
      "(500, 36) (500,)\n",
      "Min Ratio:  0.30133333333333334\n",
      "Min Ratio:  0.5\n",
      "Min Ratio:  0.31\n",
      "Min Ratio:  0.5\n"
     ]
    },
    {
     "data": {
      "application/vnd.jupyter.widget-view+json": {
       "model_id": "b07a85a240fb443eb18494c7202b8feb",
       "version_major": 2,
       "version_minor": 0
      },
      "text/plain": [
       "restarts:   0%|          | 0/1 [00:00<?, ?it/s]"
      ]
     },
     "metadata": {},
     "output_type": "display_data"
    },
    {
     "data": {
      "application/vnd.jupyter.widget-view+json": {
       "model_id": "6beaa9c0a9f24dfeab43cd04bc9fd01d",
       "version_major": 2,
       "version_minor": 0
      },
      "text/plain": [
       "epochs:   0%|          | 0/1 [00:00<?, ?it/s]"
      ]
     },
     "metadata": {},
     "output_type": "display_data"
    },
    {
     "name": "stdout",
     "output_type": "stream",
     "text": [
      "<tf.Variable 'Adam_2/learning_rate:0' shape=() dtype=float32>\n",
      "<tf.Variable 'Adam_2/learning_rate:0' shape=() dtype=float32>\n",
      "Original Data Shape (selected):  (2500, 36)\n",
      "Original Data Shape (encoded):  (2500, 36)\n",
      "Original Data Class Distribution:  806  (true) / 1694  (false)\n",
      "(1500, 36) (1500,)\n",
      "(500, 36) (500,)\n",
      "(500, 36) (500,)\n",
      "Min Ratio:  0.31933333333333336\n",
      "Min Ratio:  0.5\n",
      "Min Ratio:  0.32\n",
      "Min Ratio:  0.5\n"
     ]
    },
    {
     "data": {
      "application/vnd.jupyter.widget-view+json": {
       "model_id": "ad8f5f4c476c4cc787f475c82ac1890e",
       "version_major": 2,
       "version_minor": 0
      },
      "text/plain": [
       "restarts:   0%|          | 0/1 [00:00<?, ?it/s]"
      ]
     },
     "metadata": {},
     "output_type": "display_data"
    },
    {
     "data": {
      "application/vnd.jupyter.widget-view+json": {
       "model_id": "4ab2a22050934ff8b9b1cf6c22a9f1ec",
       "version_major": 2,
       "version_minor": 0
      },
      "text/plain": [
       "epochs:   0%|          | 0/1 [00:00<?, ?it/s]"
      ]
     },
     "metadata": {},
     "output_type": "display_data"
    },
    {
     "name": "stdout",
     "output_type": "stream",
     "text": [
      "<tf.Variable 'Adam_2/learning_rate:0' shape=() dtype=float32>\n",
      "<tf.Variable 'Adam_2/learning_rate:0' shape=() dtype=float32>\n",
      "Original Data Shape (selected):  (2500, 36)\n",
      "Original Data Shape (encoded):  (2500, 36)\n",
      "Original Data Class Distribution:  775  (true) / 1725  (false)\n",
      "(1500, 36) (1500,)\n",
      "(500, 36) (500,)\n",
      "(500, 36) (500,)\n",
      "Min Ratio:  0.31\n",
      "Min Ratio:  0.5\n",
      "Min Ratio:  0.3135\n",
      "Min Ratio:  0.5\n"
     ]
    },
    {
     "data": {
      "application/vnd.jupyter.widget-view+json": {
       "model_id": "cdd41cf58ee94af0948992582ec29b32",
       "version_major": 2,
       "version_minor": 0
      },
      "text/plain": [
       "restarts:   0%|          | 0/1 [00:00<?, ?it/s]"
      ]
     },
     "metadata": {},
     "output_type": "display_data"
    },
    {
     "data": {
      "application/vnd.jupyter.widget-view+json": {
       "model_id": "6404f9ece5a1401097871f7d1720e653",
       "version_major": 2,
       "version_minor": 0
      },
      "text/plain": [
       "epochs:   0%|          | 0/1 [00:00<?, ?it/s]"
      ]
     },
     "metadata": {},
     "output_type": "display_data"
    },
    {
     "name": "stdout",
     "output_type": "stream",
     "text": [
      "<tf.Variable 'Adam_2/learning_rate:0' shape=() dtype=float32>\n",
      "<tf.Variable 'Adam_2/learning_rate:0' shape=() dtype=float32>\n",
      "Original Data Shape (selected):  (2500, 36)\n",
      "Original Data Shape (encoded):  (2500, 36)\n",
      "Original Data Class Distribution:  843  (true) / 1657  (false)\n",
      "(1500, 36) (1500,)\n",
      "(500, 36) (500,)\n",
      "(500, 36) (500,)\n",
      "Min Ratio:  0.3313333333333333\n",
      "Min Ratio:  0.5\n",
      "Min Ratio:  0.339\n",
      "Min Ratio:  0.5\n"
     ]
    },
    {
     "data": {
      "application/vnd.jupyter.widget-view+json": {
       "model_id": "fd8e586e249844f48698dbe376417882",
       "version_major": 2,
       "version_minor": 0
      },
      "text/plain": [
       "restarts:   0%|          | 0/1 [00:00<?, ?it/s]"
      ]
     },
     "metadata": {},
     "output_type": "display_data"
    },
    {
     "data": {
      "application/vnd.jupyter.widget-view+json": {
       "model_id": "4cca61dfe1b74a598f4069819fb9e10e",
       "version_major": 2,
       "version_minor": 0
      },
      "text/plain": [
       "epochs:   0%|          | 0/1 [00:00<?, ?it/s]"
      ]
     },
     "metadata": {},
     "output_type": "display_data"
    },
    {
     "name": "stdout",
     "output_type": "stream",
     "text": [
      "<tf.Variable 'Adam_2/learning_rate:0' shape=() dtype=float32>\n",
      "<tf.Variable 'Adam_2/learning_rate:0' shape=() dtype=float32>\n",
      "Original Data Shape (selected):  (2500, 36)\n",
      "Original Data Shape (encoded):  (2500, 36)\n",
      "Original Data Class Distribution:  872  (true) / 1628  (false)\n",
      "(1500, 36) (1500,)\n",
      "(500, 36) (500,)\n",
      "(500, 36) (500,)\n",
      "Min Ratio:  0.3506666666666667\n",
      "Min Ratio:  0.5\n",
      "Min Ratio:  0.348\n",
      "Min Ratio:  0.5\n"
     ]
    },
    {
     "data": {
      "application/vnd.jupyter.widget-view+json": {
       "model_id": "a289ff11f34a4adfb226f73e7e89254e",
       "version_major": 2,
       "version_minor": 0
      },
      "text/plain": [
       "restarts:   0%|          | 0/1 [00:00<?, ?it/s]"
      ]
     },
     "metadata": {},
     "output_type": "display_data"
    },
    {
     "data": {
      "application/vnd.jupyter.widget-view+json": {
       "model_id": "cd15fc303be148b693d8b5b3fb2cbc54",
       "version_major": 2,
       "version_minor": 0
      },
      "text/plain": [
       "epochs:   0%|          | 0/1 [00:00<?, ?it/s]"
      ]
     },
     "metadata": {},
     "output_type": "display_data"
    },
    {
     "name": "stdout",
     "output_type": "stream",
     "text": [
      "<tf.Variable 'Adam_2/learning_rate:0' shape=() dtype=float32>\n",
      "<tf.Variable 'Adam_2/learning_rate:0' shape=() dtype=float32>\n",
      "Original Data Shape (selected):  (2500, 36)\n",
      "Original Data Shape (encoded):  (2500, 36)\n",
      "Original Data Class Distribution:  815  (true) / 1685  (false)\n",
      "(1500, 36) (1500,)\n",
      "(500, 36) (500,)\n",
      "(500, 36) (500,)\n",
      "Min Ratio:  0.32466666666666666\n",
      "Min Ratio:  0.5\n",
      "Min Ratio:  0.322\n",
      "Min Ratio:  0.5\n"
     ]
    },
    {
     "data": {
      "application/vnd.jupyter.widget-view+json": {
       "model_id": "30fe68a6644f41e6a1045bcb06ab3e26",
       "version_major": 2,
       "version_minor": 0
      },
      "text/plain": [
       "restarts:   0%|          | 0/1 [00:00<?, ?it/s]"
      ]
     },
     "metadata": {},
     "output_type": "display_data"
    },
    {
     "data": {
      "application/vnd.jupyter.widget-view+json": {
       "model_id": "895a2fa66a5e42aa95286f6d00a0b416",
       "version_major": 2,
       "version_minor": 0
      },
      "text/plain": [
       "epochs:   0%|          | 0/1 [00:00<?, ?it/s]"
      ]
     },
     "metadata": {},
     "output_type": "display_data"
    },
    {
     "name": "stdout",
     "output_type": "stream",
     "text": [
      "<tf.Variable 'Adam_2/learning_rate:0' shape=() dtype=float32>\n",
      "<tf.Variable 'Adam_2/learning_rate:0' shape=() dtype=float32>\n",
      "Original Data Shape (selected):  (2500, 36)\n",
      "Original Data Shape (encoded):  (2500, 36)\n",
      "Original Data Class Distribution:  786  (true) / 1714  (false)\n",
      "(1500, 36) (1500,)\n",
      "(500, 36) (500,)\n",
      "(500, 36) (500,)\n",
      "Min Ratio:  0.32066666666666666\n",
      "Min Ratio:  0.5\n",
      "Min Ratio:  0.32\n",
      "Min Ratio:  0.5\n"
     ]
    },
    {
     "data": {
      "application/vnd.jupyter.widget-view+json": {
       "model_id": "9c0dff2ba11d431db1a80db8e089f7d7",
       "version_major": 2,
       "version_minor": 0
      },
      "text/plain": [
       "restarts:   0%|          | 0/1 [00:00<?, ?it/s]"
      ]
     },
     "metadata": {},
     "output_type": "display_data"
    },
    {
     "data": {
      "application/vnd.jupyter.widget-view+json": {
       "model_id": "1ae13ce477054e539831f30cf6c96e1e",
       "version_major": 2,
       "version_minor": 0
      },
      "text/plain": [
       "epochs:   0%|          | 0/1 [00:00<?, ?it/s]"
      ]
     },
     "metadata": {},
     "output_type": "display_data"
    },
    {
     "name": "stdout",
     "output_type": "stream",
     "text": [
      "<tf.Variable 'Adam_2/learning_rate:0' shape=() dtype=float32>\n",
      "<tf.Variable 'Adam_2/learning_rate:0' shape=() dtype=float32>\n",
      "Original Data Shape (selected):  (2500, 36)\n",
      "Original Data Shape (encoded):  (2500, 36)\n",
      "Original Data Class Distribution:  820  (true) / 1680  (false)\n",
      "(1500, 36) (1500,)\n",
      "(500, 36) (500,)\n",
      "(500, 36) (500,)\n",
      "Min Ratio:  0.3273333333333333\n",
      "Min Ratio:  0.5\n",
      "Min Ratio:  0.327\n",
      "Min Ratio:  0.5\n"
     ]
    },
    {
     "data": {
      "application/vnd.jupyter.widget-view+json": {
       "model_id": "5a3bc9869dc44fc6b7e904b10137c1f8",
       "version_major": 2,
       "version_minor": 0
      },
      "text/plain": [
       "restarts:   0%|          | 0/1 [00:00<?, ?it/s]"
      ]
     },
     "metadata": {},
     "output_type": "display_data"
    },
    {
     "data": {
      "application/vnd.jupyter.widget-view+json": {
       "model_id": "d8ed8ec43fd04ffcac7e00e81ef9a994",
       "version_major": 2,
       "version_minor": 0
      },
      "text/plain": [
       "epochs:   0%|          | 0/1 [00:00<?, ?it/s]"
      ]
     },
     "metadata": {},
     "output_type": "display_data"
    },
    {
     "name": "stdout",
     "output_type": "stream",
     "text": [
      "<tf.Variable 'Adam_2/learning_rate:0' shape=() dtype=float32>\n",
      "<tf.Variable 'Adam_2/learning_rate:0' shape=() dtype=float32>\n",
      "Original Data Shape (selected):  (2500, 36)\n",
      "Original Data Shape (encoded):  (2500, 36)\n",
      "Original Data Class Distribution:  825  (true) / 1675  (false)\n",
      "(1500, 36) (1500,)\n",
      "(500, 36) (500,)\n",
      "(500, 36) (500,)\n",
      "Min Ratio:  0.33\n",
      "Min Ratio:  0.5\n",
      "Min Ratio:  0.334\n",
      "Min Ratio:  0.5\n"
     ]
    },
    {
     "data": {
      "application/vnd.jupyter.widget-view+json": {
       "model_id": "4acc066c5fde452aaac5664ca34b0f03",
       "version_major": 2,
       "version_minor": 0
      },
      "text/plain": [
       "restarts:   0%|          | 0/1 [00:00<?, ?it/s]"
      ]
     },
     "metadata": {},
     "output_type": "display_data"
    },
    {
     "data": {
      "application/vnd.jupyter.widget-view+json": {
       "model_id": "053bf323af1e4a8da1c855876ba2ec96",
       "version_major": 2,
       "version_minor": 0
      },
      "text/plain": [
       "epochs:   0%|          | 0/1 [00:00<?, ?it/s]"
      ]
     },
     "metadata": {},
     "output_type": "display_data"
    },
    {
     "name": "stdout",
     "output_type": "stream",
     "text": [
      "<tf.Variable 'Adam_2/learning_rate:0' shape=() dtype=float32>\n",
      "<tf.Variable 'Adam_2/learning_rate:0' shape=() dtype=float32>\n",
      "Original Data Shape (selected):  (2500, 36)\n",
      "Original Data Shape (encoded):  (2500, 36)\n",
      "Original Data Class Distribution:  800  (true) / 1700  (false)\n",
      "(1500, 36) (1500,)\n",
      "(500, 36) (500,)\n",
      "(500, 36) (500,)\n",
      "Min Ratio:  0.31\n",
      "Min Ratio:  0.5\n",
      "Min Ratio:  0.3165\n",
      "Min Ratio:  0.5\n"
     ]
    },
    {
     "data": {
      "application/vnd.jupyter.widget-view+json": {
       "model_id": "6990dd563ff94ce9bdab77eb3ebd1a9e",
       "version_major": 2,
       "version_minor": 0
      },
      "text/plain": [
       "restarts:   0%|          | 0/1 [00:00<?, ?it/s]"
      ]
     },
     "metadata": {},
     "output_type": "display_data"
    },
    {
     "data": {
      "application/vnd.jupyter.widget-view+json": {
       "model_id": "b4acc443d783435c8a7189f246ebbe5f",
       "version_major": 2,
       "version_minor": 0
      },
      "text/plain": [
       "epochs:   0%|          | 0/1 [00:00<?, ?it/s]"
      ]
     },
     "metadata": {},
     "output_type": "display_data"
    },
    {
     "name": "stdout",
     "output_type": "stream",
     "text": [
      "<tf.Variable 'Adam_2/learning_rate:0' shape=() dtype=float32>\n",
      "<tf.Variable 'Adam_2/learning_rate:0' shape=() dtype=float32>\n",
      "Original Data Shape (selected):  (2500, 36)\n",
      "Original Data Shape (encoded):  (2500, 36)\n",
      "Original Data Class Distribution:  838  (true) / 1662  (false)\n",
      "(1500, 36) (1500,)\n",
      "(500, 36) (500,)\n",
      "(500, 36) (500,)\n",
      "Min Ratio:  0.3333333333333333\n",
      "Min Ratio:  0.5\n",
      "Min Ratio:  0.336\n",
      "Min Ratio:  0.5\n"
     ]
    },
    {
     "data": {
      "application/vnd.jupyter.widget-view+json": {
       "model_id": "2e8798b7cc7d4032a2111b70c9ef827e",
       "version_major": 2,
       "version_minor": 0
      },
      "text/plain": [
       "restarts:   0%|          | 0/1 [00:00<?, ?it/s]"
      ]
     },
     "metadata": {},
     "output_type": "display_data"
    },
    {
     "data": {
      "application/vnd.jupyter.widget-view+json": {
       "model_id": "1348f6ddb20d4c078b7e56cf2b9a6697",
       "version_major": 2,
       "version_minor": 0
      },
      "text/plain": [
       "epochs:   0%|          | 0/1 [00:00<?, ?it/s]"
      ]
     },
     "metadata": {},
     "output_type": "display_data"
    },
    {
     "name": "stdout",
     "output_type": "stream",
     "text": [
      "<tf.Variable 'Adam_2/learning_rate:0' shape=() dtype=float32>\n",
      "<tf.Variable 'Adam_2/learning_rate:0' shape=() dtype=float32>\n",
      "Original Data Shape (selected):  (2500, 36)\n",
      "Original Data Shape (encoded):  (2500, 36)\n",
      "Original Data Class Distribution:  837  (true) / 1663  (false)\n",
      "(1500, 36) (1500,)\n",
      "(500, 36) (500,)\n",
      "(500, 36) (500,)\n",
      "Min Ratio:  0.334\n",
      "Min Ratio:  0.5\n",
      "Min Ratio:  0.3405\n",
      "Min Ratio:  0.5\n"
     ]
    },
    {
     "data": {
      "application/vnd.jupyter.widget-view+json": {
       "model_id": "56e3e6878b984242a45baf775df3e6ef",
       "version_major": 2,
       "version_minor": 0
      },
      "text/plain": [
       "restarts:   0%|          | 0/1 [00:00<?, ?it/s]"
      ]
     },
     "metadata": {},
     "output_type": "display_data"
    },
    {
     "data": {
      "application/vnd.jupyter.widget-view+json": {
       "model_id": "cdb695f4c6544715a032426c12af255d",
       "version_major": 2,
       "version_minor": 0
      },
      "text/plain": [
       "epochs:   0%|          | 0/1 [00:00<?, ?it/s]"
      ]
     },
     "metadata": {},
     "output_type": "display_data"
    },
    {
     "name": "stdout",
     "output_type": "stream",
     "text": [
      "<tf.Variable 'Adam_2/learning_rate:0' shape=() dtype=float32>\n",
      "<tf.Variable 'Adam_2/learning_rate:0' shape=() dtype=float32>\n",
      "Original Data Shape (selected):  (2500, 36)\n",
      "Original Data Shape (encoded):  (2500, 36)\n",
      "Original Data Class Distribution:  841  (true) / 1659  (false)\n",
      "(1500, 36) (1500,)\n",
      "(500, 36) (500,)\n",
      "(500, 36) (500,)\n",
      "Min Ratio:  0.334\n",
      "Min Ratio:  0.5\n",
      "Min Ratio:  0.342\n",
      "Min Ratio:  0.5\n"
     ]
    },
    {
     "data": {
      "application/vnd.jupyter.widget-view+json": {
       "model_id": "f86b003752184f678588732ff8d04983",
       "version_major": 2,
       "version_minor": 0
      },
      "text/plain": [
       "restarts:   0%|          | 0/1 [00:00<?, ?it/s]"
      ]
     },
     "metadata": {},
     "output_type": "display_data"
    },
    {
     "data": {
      "application/vnd.jupyter.widget-view+json": {
       "model_id": "7adb605df8be4946990b06e687d58b65",
       "version_major": 2,
       "version_minor": 0
      },
      "text/plain": [
       "epochs:   0%|          | 0/1 [00:00<?, ?it/s]"
      ]
     },
     "metadata": {},
     "output_type": "display_data"
    },
    {
     "name": "stdout",
     "output_type": "stream",
     "text": [
      "<tf.Variable 'Adam_2/learning_rate:0' shape=() dtype=float32>\n",
      "<tf.Variable 'Adam_2/learning_rate:0' shape=() dtype=float32>\n",
      "Original Data Shape (selected):  (2500, 36)\n",
      "Original Data Shape (encoded):  (2500, 36)\n",
      "Original Data Class Distribution:  824  (true) / 1676  (false)\n",
      "(1500, 36) (1500,)\n",
      "(500, 36) (500,)\n",
      "(500, 36) (500,)\n",
      "Min Ratio:  0.32266666666666666\n",
      "Min Ratio:  0.5\n",
      "Min Ratio:  0.3345\n",
      "Min Ratio:  0.5\n"
     ]
    },
    {
     "data": {
      "application/vnd.jupyter.widget-view+json": {
       "model_id": "8944b23f5f904cc2b71390b3f2de2ee2",
       "version_major": 2,
       "version_minor": 0
      },
      "text/plain": [
       "restarts:   0%|          | 0/1 [00:00<?, ?it/s]"
      ]
     },
     "metadata": {},
     "output_type": "display_data"
    },
    {
     "data": {
      "application/vnd.jupyter.widget-view+json": {
       "model_id": "9ab6c60c051d4be997dfdbfdd5547f79",
       "version_major": 2,
       "version_minor": 0
      },
      "text/plain": [
       "epochs:   0%|          | 0/1 [00:00<?, ?it/s]"
      ]
     },
     "metadata": {},
     "output_type": "display_data"
    },
    {
     "name": "stdout",
     "output_type": "stream",
     "text": [
      "<tf.Variable 'Adam_2/learning_rate:0' shape=() dtype=float32>\n",
      "<tf.Variable 'Adam_2/learning_rate:0' shape=() dtype=float32>\n",
      "Original Data Shape (selected):  (2500, 36)\n",
      "Original Data Shape (encoded):  (2500, 36)\n",
      "Original Data Class Distribution:  800  (true) / 1700  (false)\n",
      "(1500, 36) (1500,)\n",
      "(500, 36) (500,)\n",
      "(500, 36) (500,)\n",
      "Min Ratio:  0.31733333333333336\n",
      "Min Ratio:  0.5\n",
      "Min Ratio:  0.3235\n",
      "Min Ratio:  0.5\n"
     ]
    },
    {
     "data": {
      "application/vnd.jupyter.widget-view+json": {
       "model_id": "33be8794ac2144c2939193413e6f75ba",
       "version_major": 2,
       "version_minor": 0
      },
      "text/plain": [
       "restarts:   0%|          | 0/1 [00:00<?, ?it/s]"
      ]
     },
     "metadata": {},
     "output_type": "display_data"
    },
    {
     "data": {
      "application/vnd.jupyter.widget-view+json": {
       "model_id": "e0a6528927b04714824d29954ab17108",
       "version_major": 2,
       "version_minor": 0
      },
      "text/plain": [
       "epochs:   0%|          | 0/1 [00:00<?, ?it/s]"
      ]
     },
     "metadata": {},
     "output_type": "display_data"
    },
    {
     "name": "stdout",
     "output_type": "stream",
     "text": [
      "<tf.Variable 'Adam_2/learning_rate:0' shape=() dtype=float32>\n",
      "Original Data Shape (selected):  (2500, 36)\n",
      "Original Data Shape (encoded):  (2500, 36)\n",
      "Original Data Class Distribution:  837  (true) / 1663  (false)\n",
      "(1500, 36) (1500,)\n",
      "(500, 36) (500,)\n",
      "(500, 36) (500,)\n",
      "Min Ratio:  0.3453333333333333\n",
      "Min Ratio:  0.5\n",
      "Min Ratio:  0.3385\n",
      "Min Ratio:  0.5\n"
     ]
    },
    {
     "data": {
      "application/vnd.jupyter.widget-view+json": {
       "model_id": "b8da44bff8ec4df8b3e996ee8b725584",
       "version_major": 2,
       "version_minor": 0
      },
      "text/plain": [
       "restarts:   0%|          | 0/1 [00:00<?, ?it/s]"
      ]
     },
     "metadata": {},
     "output_type": "display_data"
    },
    {
     "data": {
      "application/vnd.jupyter.widget-view+json": {
       "model_id": "8fbbc2886d354a87aa9599fa1b46d6ac",
       "version_major": 2,
       "version_minor": 0
      },
      "text/plain": [
       "epochs:   0%|          | 0/1 [00:00<?, ?it/s]"
      ]
     },
     "metadata": {},
     "output_type": "display_data"
    },
    {
     "name": "stdout",
     "output_type": "stream",
     "text": [
      "<tf.Variable 'Adam_2/learning_rate:0' shape=() dtype=float32>\n",
      "<tf.Variable 'Adam_2/learning_rate:0' shape=() dtype=float32>\n",
      "Original Data Shape (selected):  (2500, 36)\n",
      "Original Data Shape (encoded):  (2500, 36)\n",
      "Original Data Class Distribution:  830  (true) / 1670  (false)\n",
      "(1500, 36) (1500,)\n",
      "(500, 36) (500,)\n",
      "(500, 36) (500,)\n",
      "Min Ratio:  0.34\n",
      "Min Ratio:  0.5\n",
      "Min Ratio:  0.342\n",
      "Min Ratio:  0.5\n"
     ]
    },
    {
     "data": {
      "application/vnd.jupyter.widget-view+json": {
       "model_id": "d190902d474248bc96e518df76c0fd51",
       "version_major": 2,
       "version_minor": 0
      },
      "text/plain": [
       "restarts:   0%|          | 0/1 [00:00<?, ?it/s]"
      ]
     },
     "metadata": {},
     "output_type": "display_data"
    },
    {
     "data": {
      "application/vnd.jupyter.widget-view+json": {
       "model_id": "538e91ac6f72485bb1596d6af3995423",
       "version_major": 2,
       "version_minor": 0
      },
      "text/plain": [
       "epochs:   0%|          | 0/1 [00:00<?, ?it/s]"
      ]
     },
     "metadata": {},
     "output_type": "display_data"
    },
    {
     "name": "stdout",
     "output_type": "stream",
     "text": [
      "<tf.Variable 'Adam_2/learning_rate:0' shape=() dtype=float32>\n",
      "<tf.Variable 'Adam_2/learning_rate:0' shape=() dtype=float32>\n",
      "Original Data Shape (selected):  (2500, 36)\n",
      "Original Data Shape (encoded):  (2500, 36)\n",
      "Original Data Class Distribution:  827  (true) / 1673  (false)\n",
      "(1500, 36) (1500,)\n",
      "(500, 36) (500,)\n",
      "(500, 36) (500,)\n",
      "Min Ratio:  0.33266666666666667\n",
      "Min Ratio:  0.5\n",
      "Min Ratio:  0.3355\n",
      "Min Ratio:  0.5\n"
     ]
    },
    {
     "data": {
      "application/vnd.jupyter.widget-view+json": {
       "model_id": "31f1c2072cf34ee3ab679bf459348469",
       "version_major": 2,
       "version_minor": 0
      },
      "text/plain": [
       "restarts:   0%|          | 0/1 [00:00<?, ?it/s]"
      ]
     },
     "metadata": {},
     "output_type": "display_data"
    },
    {
     "data": {
      "application/vnd.jupyter.widget-view+json": {
       "model_id": "225b5a5e4cd1491f9f6d36519565a99f",
       "version_major": 2,
       "version_minor": 0
      },
      "text/plain": [
       "epochs:   0%|          | 0/1 [00:00<?, ?it/s]"
      ]
     },
     "metadata": {},
     "output_type": "display_data"
    },
    {
     "name": "stdout",
     "output_type": "stream",
     "text": [
      "<tf.Variable 'Adam_2/learning_rate:0' shape=() dtype=float32>\n",
      "<tf.Variable 'Adam_2/learning_rate:0' shape=() dtype=float32>\n",
      "Original Data Shape (selected):  (2500, 36)\n",
      "Original Data Shape (encoded):  (2500, 36)\n",
      "Original Data Class Distribution:  819  (true) / 1681  (false)\n",
      "(1500, 36) (1500,)\n",
      "(500, 36) (500,)\n",
      "(500, 36) (500,)\n",
      "Min Ratio:  0.33866666666666667\n",
      "Min Ratio:  0.5\n",
      "Min Ratio:  0.336\n",
      "Min Ratio:  0.5\n"
     ]
    },
    {
     "data": {
      "application/vnd.jupyter.widget-view+json": {
       "model_id": "aef70dc61eb24b86a50746ef883ab413",
       "version_major": 2,
       "version_minor": 0
      },
      "text/plain": [
       "restarts:   0%|          | 0/1 [00:00<?, ?it/s]"
      ]
     },
     "metadata": {},
     "output_type": "display_data"
    },
    {
     "data": {
      "application/vnd.jupyter.widget-view+json": {
       "model_id": "a929ed56b7f34068a6a4972a74a1b8b8",
       "version_major": 2,
       "version_minor": 0
      },
      "text/plain": [
       "epochs:   0%|          | 0/1 [00:00<?, ?it/s]"
      ]
     },
     "metadata": {},
     "output_type": "display_data"
    },
    {
     "name": "stdout",
     "output_type": "stream",
     "text": [
      "<tf.Variable 'Adam_2/learning_rate:0' shape=() dtype=float32>\n",
      "<tf.Variable 'Adam_2/learning_rate:0' shape=() dtype=float32>\n",
      "Original Data Shape (selected):  (2500, 36)\n",
      "Original Data Shape (encoded):  (2500, 36)\n",
      "Original Data Class Distribution:  831  (true) / 1669  (false)\n",
      "(1500, 36) (1500,)\n",
      "(500, 36) (500,)\n",
      "(500, 36) (500,)\n",
      "Min Ratio:  0.336\n",
      "Min Ratio:  0.5\n",
      "Min Ratio:  0.3315\n",
      "Min Ratio:  0.5\n"
     ]
    },
    {
     "data": {
      "application/vnd.jupyter.widget-view+json": {
       "model_id": "1d279547973d433d804860b74c8d9b0c",
       "version_major": 2,
       "version_minor": 0
      },
      "text/plain": [
       "restarts:   0%|          | 0/1 [00:00<?, ?it/s]"
      ]
     },
     "metadata": {},
     "output_type": "display_data"
    },
    {
     "data": {
      "application/vnd.jupyter.widget-view+json": {
       "model_id": "f2ecc09115b94e6b8e18b254791d31a9",
       "version_major": 2,
       "version_minor": 0
      },
      "text/plain": [
       "epochs:   0%|          | 0/1 [00:00<?, ?it/s]"
      ]
     },
     "metadata": {},
     "output_type": "display_data"
    },
    {
     "name": "stdout",
     "output_type": "stream",
     "text": [
      "<tf.Variable 'Adam_2/learning_rate:0' shape=() dtype=float32>\n",
      "<tf.Variable 'Adam_2/learning_rate:0' shape=() dtype=float32>\n",
      "Original Data Shape (selected):  (2500, 36)\n",
      "Original Data Shape (encoded):  (2500, 36)\n",
      "Original Data Class Distribution:  822  (true) / 1678  (false)\n",
      "(1500, 36) (1500,)\n",
      "(500, 36) (500,)\n",
      "(500, 36) (500,)\n",
      "Min Ratio:  0.326\n",
      "Min Ratio:  0.5\n",
      "Min Ratio:  0.333\n",
      "Min Ratio:  0.5\n"
     ]
    },
    {
     "data": {
      "application/vnd.jupyter.widget-view+json": {
       "model_id": "d04fb7d841a643fe80096e137614d31a",
       "version_major": 2,
       "version_minor": 0
      },
      "text/plain": [
       "restarts:   0%|          | 0/1 [00:00<?, ?it/s]"
      ]
     },
     "metadata": {},
     "output_type": "display_data"
    },
    {
     "data": {
      "application/vnd.jupyter.widget-view+json": {
       "model_id": "a762b433ea35422d9d02393e01f7c6a3",
       "version_major": 2,
       "version_minor": 0
      },
      "text/plain": [
       "epochs:   0%|          | 0/1 [00:00<?, ?it/s]"
      ]
     },
     "metadata": {},
     "output_type": "display_data"
    },
    {
     "name": "stdout",
     "output_type": "stream",
     "text": [
      "<tf.Variable 'Adam_2/learning_rate:0' shape=() dtype=float32>\n",
      "<tf.Variable 'Adam_2/learning_rate:0' shape=() dtype=float32>\n",
      "Original Data Shape (selected):  (2500, 36)\n",
      "Original Data Shape (encoded):  (2500, 36)\n",
      "Original Data Class Distribution:  833  (true) / 1667  (false)\n",
      "(1500, 36) (1500,)\n",
      "(500, 36) (500,)\n",
      "(500, 36) (500,)\n",
      "Min Ratio:  0.3333333333333333\n",
      "Min Ratio:  0.5\n",
      "Min Ratio:  0.34\n",
      "Min Ratio:  0.5\n"
     ]
    },
    {
     "data": {
      "application/vnd.jupyter.widget-view+json": {
       "model_id": "7994e219f0a94232bc302bc74b73d8bb",
       "version_major": 2,
       "version_minor": 0
      },
      "text/plain": [
       "restarts:   0%|          | 0/1 [00:00<?, ?it/s]"
      ]
     },
     "metadata": {},
     "output_type": "display_data"
    },
    {
     "data": {
      "application/vnd.jupyter.widget-view+json": {
       "model_id": "2cf052e0e81e4e119c287afcaf94b712",
       "version_major": 2,
       "version_minor": 0
      },
      "text/plain": [
       "epochs:   0%|          | 0/1 [00:00<?, ?it/s]"
      ]
     },
     "metadata": {},
     "output_type": "display_data"
    },
    {
     "name": "stdout",
     "output_type": "stream",
     "text": [
      "<tf.Variable 'Adam_2/learning_rate:0' shape=() dtype=float32>\n",
      "<tf.Variable 'Adam_2/learning_rate:0' shape=() dtype=float32>\n",
      "Original Data Shape (selected):  (2500, 36)\n",
      "Original Data Shape (encoded):  (2500, 36)\n",
      "Original Data Class Distribution:  920  (true) / 1580  (false)\n",
      "(1500, 36) (1500,)\n",
      "(500, 36) (500,)\n",
      "(500, 36) (500,)\n",
      "Min Ratio:  0.36933333333333335\n",
      "Min Ratio:  0.5\n",
      "Min Ratio:  0.3735\n",
      "Min Ratio:  0.5\n"
     ]
    },
    {
     "data": {
      "application/vnd.jupyter.widget-view+json": {
       "model_id": "f97522387ac74a72bb922631037444b1",
       "version_major": 2,
       "version_minor": 0
      },
      "text/plain": [
       "restarts:   0%|          | 0/1 [00:00<?, ?it/s]"
      ]
     },
     "metadata": {},
     "output_type": "display_data"
    },
    {
     "data": {
      "application/vnd.jupyter.widget-view+json": {
       "model_id": "371e8d7d93a6480f9a40faa5354e7b4c",
       "version_major": 2,
       "version_minor": 0
      },
      "text/plain": [
       "epochs:   0%|          | 0/1 [00:00<?, ?it/s]"
      ]
     },
     "metadata": {},
     "output_type": "display_data"
    },
    {
     "name": "stdout",
     "output_type": "stream",
     "text": [
      "<tf.Variable 'Adam_2/learning_rate:0' shape=() dtype=float32>\n",
      "<tf.Variable 'Adam_2/learning_rate:0' shape=() dtype=float32>\n",
      "Original Data Shape (selected):  (2500, 36)\n",
      "Original Data Shape (encoded):  (2500, 36)\n",
      "Original Data Class Distribution:  798  (true) / 1702  (false)\n",
      "(1500, 36) (1500,)\n",
      "(500, 36) (500,)\n",
      "(500, 36) (500,)\n",
      "Min Ratio:  0.31933333333333336\n",
      "Min Ratio:  0.5\n",
      "Min Ratio:  0.3195\n",
      "Min Ratio:  0.5\n"
     ]
    },
    {
     "data": {
      "application/vnd.jupyter.widget-view+json": {
       "model_id": "622e49342053402c99dae756b1d8dd71",
       "version_major": 2,
       "version_minor": 0
      },
      "text/plain": [
       "restarts:   0%|          | 0/1 [00:00<?, ?it/s]"
      ]
     },
     "metadata": {},
     "output_type": "display_data"
    },
    {
     "data": {
      "application/vnd.jupyter.widget-view+json": {
       "model_id": "4b1aecbf206545fe8e6a82ef7c99049e",
       "version_major": 2,
       "version_minor": 0
      },
      "text/plain": [
       "epochs:   0%|          | 0/1 [00:00<?, ?it/s]"
      ]
     },
     "metadata": {},
     "output_type": "display_data"
    },
    {
     "name": "stdout",
     "output_type": "stream",
     "text": [
      "<tf.Variable 'Adam_2/learning_rate:0' shape=() dtype=float32>\n",
      "<tf.Variable 'Adam_2/learning_rate:0' shape=() dtype=float32>\n",
      "Original Data Shape (selected):  (2500, 36)\n",
      "Original Data Shape (encoded):  (2500, 36)\n",
      "Original Data Class Distribution:  851  (true) / 1649  (false)\n",
      "(1500, 36) (1500,)\n",
      "(500, 36) (500,)\n",
      "(500, 36) (500,)\n",
      "Min Ratio:  0.3393333333333333\n",
      "Min Ratio:  0.5\n",
      "Min Ratio:  0.342\n",
      "Min Ratio:  0.5\n"
     ]
    },
    {
     "data": {
      "application/vnd.jupyter.widget-view+json": {
       "model_id": "d6d2f797703b4f69afdf3c51136917e6",
       "version_major": 2,
       "version_minor": 0
      },
      "text/plain": [
       "restarts:   0%|          | 0/1 [00:00<?, ?it/s]"
      ]
     },
     "metadata": {},
     "output_type": "display_data"
    },
    {
     "data": {
      "application/vnd.jupyter.widget-view+json": {
       "model_id": "306347a99ea942139842893638c3106e",
       "version_major": 2,
       "version_minor": 0
      },
      "text/plain": [
       "epochs:   0%|          | 0/1 [00:00<?, ?it/s]"
      ]
     },
     "metadata": {},
     "output_type": "display_data"
    },
    {
     "name": "stdout",
     "output_type": "stream",
     "text": [
      "<tf.Variable 'Adam_2/learning_rate:0' shape=() dtype=float32>\n",
      "<tf.Variable 'Adam_2/learning_rate:0' shape=() dtype=float32>\n",
      "Original Data Shape (selected):  (2500, 36)\n",
      "Original Data Shape (encoded):  (2500, 36)\n",
      "Original Data Class Distribution:  897  (true) / 1603  (false)\n",
      "(1500, 36) (1500,)\n",
      "(500, 36) (500,)\n",
      "(500, 36) (500,)\n",
      "Min Ratio:  0.3526666666666667\n",
      "Min Ratio:  0.5\n",
      "Min Ratio:  0.3655\n",
      "Min Ratio:  0.5\n"
     ]
    },
    {
     "data": {
      "application/vnd.jupyter.widget-view+json": {
       "model_id": "10f4a91dc9a14abe9fdd8d9ae115362f",
       "version_major": 2,
       "version_minor": 0
      },
      "text/plain": [
       "restarts:   0%|          | 0/1 [00:00<?, ?it/s]"
      ]
     },
     "metadata": {},
     "output_type": "display_data"
    },
    {
     "data": {
      "application/vnd.jupyter.widget-view+json": {
       "model_id": "066b3e05cd7b4fb0864ce614b63caa42",
       "version_major": 2,
       "version_minor": 0
      },
      "text/plain": [
       "epochs:   0%|          | 0/1 [00:00<?, ?it/s]"
      ]
     },
     "metadata": {},
     "output_type": "display_data"
    },
    {
     "name": "stdout",
     "output_type": "stream",
     "text": [
      "<tf.Variable 'Adam_2/learning_rate:0' shape=() dtype=float32>\n",
      "<tf.Variable 'Adam_2/learning_rate:0' shape=() dtype=float32>\n",
      "Original Data Shape (selected):  (2500, 36)\n",
      "Original Data Shape (encoded):  (2500, 36)\n",
      "Original Data Class Distribution:  887  (true) / 1613  (false)\n",
      "(1500, 36) (1500,)\n",
      "(500, 36) (500,)\n",
      "(500, 36) (500,)\n",
      "Min Ratio:  0.3486666666666667\n",
      "Min Ratio:  0.5\n",
      "Min Ratio:  0.355\n",
      "Min Ratio:  0.5\n"
     ]
    },
    {
     "data": {
      "application/vnd.jupyter.widget-view+json": {
       "model_id": "549b8dcdc8d14714bf83b39c293955cb",
       "version_major": 2,
       "version_minor": 0
      },
      "text/plain": [
       "restarts:   0%|          | 0/1 [00:00<?, ?it/s]"
      ]
     },
     "metadata": {},
     "output_type": "display_data"
    },
    {
     "data": {
      "application/vnd.jupyter.widget-view+json": {
       "model_id": "e787f25440a44ed8879703f5462e0ecf",
       "version_major": 2,
       "version_minor": 0
      },
      "text/plain": [
       "epochs:   0%|          | 0/1 [00:00<?, ?it/s]"
      ]
     },
     "metadata": {},
     "output_type": "display_data"
    },
    {
     "name": "stdout",
     "output_type": "stream",
     "text": [
      "<tf.Variable 'Adam_2/learning_rate:0' shape=() dtype=float32>\n",
      "<tf.Variable 'Adam_2/learning_rate:0' shape=() dtype=float32>\n",
      "Original Data Shape (selected):  (2500, 36)\n",
      "Original Data Shape (encoded):  (2500, 36)\n",
      "Original Data Class Distribution:  885  (true) / 1615  (false)\n",
      "(1500, 36) (1500,)\n",
      "(500, 36) (500,)\n",
      "(500, 36) (500,)\n",
      "Min Ratio:  0.348\n",
      "Min Ratio:  0.5\n",
      "Min Ratio:  0.348\n",
      "Min Ratio:  0.5\n"
     ]
    },
    {
     "data": {
      "application/vnd.jupyter.widget-view+json": {
       "model_id": "ccc72165b18f46d2ba31435b833ded37",
       "version_major": 2,
       "version_minor": 0
      },
      "text/plain": [
       "restarts:   0%|          | 0/1 [00:00<?, ?it/s]"
      ]
     },
     "metadata": {},
     "output_type": "display_data"
    },
    {
     "data": {
      "application/vnd.jupyter.widget-view+json": {
       "model_id": "61e5fa75f9a54409a89404e5441f87fa",
       "version_major": 2,
       "version_minor": 0
      },
      "text/plain": [
       "epochs:   0%|          | 0/1 [00:00<?, ?it/s]"
      ]
     },
     "metadata": {},
     "output_type": "display_data"
    },
    {
     "name": "stdout",
     "output_type": "stream",
     "text": [
      "<tf.Variable 'Adam_2/learning_rate:0' shape=() dtype=float32>\n",
      "<tf.Variable 'Adam_2/learning_rate:0' shape=() dtype=float32>\n",
      "Original Data Shape (selected):  (2500, 36)\n",
      "Original Data Shape (encoded):  (2500, 36)\n",
      "Original Data Class Distribution:  928  (true) / 1572  (false)\n",
      "(1500, 36) (1500,)\n",
      "(500, 36) (500,)\n",
      "(500, 36) (500,)\n",
      "Min Ratio:  0.36466666666666664\n",
      "Min Ratio:  0.5\n",
      "Min Ratio:  0.372\n",
      "Min Ratio:  0.5\n"
     ]
    },
    {
     "data": {
      "application/vnd.jupyter.widget-view+json": {
       "model_id": "ea0acbb0a11949ddb5375acfa9c7eebe",
       "version_major": 2,
       "version_minor": 0
      },
      "text/plain": [
       "restarts:   0%|          | 0/1 [00:00<?, ?it/s]"
      ]
     },
     "metadata": {},
     "output_type": "display_data"
    },
    {
     "data": {
      "application/vnd.jupyter.widget-view+json": {
       "model_id": "6a0d7d3d090c47ebb70a45269dc4b8ba",
       "version_major": 2,
       "version_minor": 0
      },
      "text/plain": [
       "epochs:   0%|          | 0/1 [00:00<?, ?it/s]"
      ]
     },
     "metadata": {},
     "output_type": "display_data"
    },
    {
     "name": "stdout",
     "output_type": "stream",
     "text": [
      "<tf.Variable 'Adam_2/learning_rate:0' shape=() dtype=float32>\n",
      "<tf.Variable 'Adam_2/learning_rate:0' shape=() dtype=float32>\n",
      "Original Data Shape (selected):  (2500, 36)\n",
      "Original Data Shape (encoded):  (2500, 36)\n",
      "Original Data Class Distribution:  915  (true) / 1585  (false)\n",
      "(1500, 36) (1500,)\n",
      "(500, 36) (500,)\n",
      "(500, 36) (500,)\n",
      "Min Ratio:  0.35733333333333334\n",
      "Min Ratio:  0.5\n",
      "Min Ratio:  0.361\n",
      "Min Ratio:  0.5\n"
     ]
    },
    {
     "data": {
      "application/vnd.jupyter.widget-view+json": {
       "model_id": "f93fe2675f2d45769523e2dc9e8b11a0",
       "version_major": 2,
       "version_minor": 0
      },
      "text/plain": [
       "restarts:   0%|          | 0/1 [00:00<?, ?it/s]"
      ]
     },
     "metadata": {},
     "output_type": "display_data"
    },
    {
     "data": {
      "application/vnd.jupyter.widget-view+json": {
       "model_id": "00e7928d0c3141c1a939c01a245fa900",
       "version_major": 2,
       "version_minor": 0
      },
      "text/plain": [
       "epochs:   0%|          | 0/1 [00:00<?, ?it/s]"
      ]
     },
     "metadata": {},
     "output_type": "display_data"
    },
    {
     "name": "stdout",
     "output_type": "stream",
     "text": [
      "<tf.Variable 'Adam_2/learning_rate:0' shape=() dtype=float32>\n",
      "<tf.Variable 'Adam_2/learning_rate:0' shape=() dtype=float32>\n",
      "Original Data Shape (selected):  (2500, 36)\n",
      "Original Data Shape (encoded):  (2500, 36)\n",
      "Original Data Class Distribution:  959  (true) / 1541  (false)\n",
      "(1500, 36) (1500,)\n",
      "(500, 36) (500,)\n",
      "(500, 36) (500,)\n",
      "Min Ratio:  0.37933333333333336\n",
      "Min Ratio:  0.5\n",
      "Min Ratio:  0.3815\n",
      "Min Ratio:  0.5\n"
     ]
    },
    {
     "data": {
      "application/vnd.jupyter.widget-view+json": {
       "model_id": "8dcf6559a3f648f7a36cd0fbdb5a8ed8",
       "version_major": 2,
       "version_minor": 0
      },
      "text/plain": [
       "restarts:   0%|          | 0/1 [00:00<?, ?it/s]"
      ]
     },
     "metadata": {},
     "output_type": "display_data"
    },
    {
     "data": {
      "application/vnd.jupyter.widget-view+json": {
       "model_id": "8b5f96903f044fbf8c0ddaa4d1e00116",
       "version_major": 2,
       "version_minor": 0
      },
      "text/plain": [
       "epochs:   0%|          | 0/1 [00:00<?, ?it/s]"
      ]
     },
     "metadata": {},
     "output_type": "display_data"
    },
    {
     "name": "stdout",
     "output_type": "stream",
     "text": [
      "<tf.Variable 'Adam_2/learning_rate:0' shape=() dtype=float32>\n",
      "<tf.Variable 'Adam_2/learning_rate:0' shape=() dtype=float32>\n",
      "Original Data Shape (selected):  (2500, 36)\n",
      "Original Data Shape (encoded):  (2500, 36)\n",
      "Original Data Class Distribution:  965  (true) / 1535  (false)\n",
      "(1500, 36) (1500,)\n",
      "(500, 36) (500,)\n",
      "(500, 36) (500,)\n",
      "Min Ratio:  0.37333333333333335\n",
      "Min Ratio:  0.5\n",
      "Min Ratio:  0.382\n",
      "Min Ratio:  0.5\n"
     ]
    },
    {
     "data": {
      "application/vnd.jupyter.widget-view+json": {
       "model_id": "adce521c681c4b08a6abf5007578ca38",
       "version_major": 2,
       "version_minor": 0
      },
      "text/plain": [
       "restarts:   0%|          | 0/1 [00:00<?, ?it/s]"
      ]
     },
     "metadata": {},
     "output_type": "display_data"
    },
    {
     "data": {
      "application/vnd.jupyter.widget-view+json": {
       "model_id": "a8db1bc6a1ad46e99a55fd5d8cadeb09",
       "version_major": 2,
       "version_minor": 0
      },
      "text/plain": [
       "epochs:   0%|          | 0/1 [00:00<?, ?it/s]"
      ]
     },
     "metadata": {},
     "output_type": "display_data"
    },
    {
     "name": "stdout",
     "output_type": "stream",
     "text": [
      "<tf.Variable 'Adam_2/learning_rate:0' shape=() dtype=float32>\n",
      "<tf.Variable 'Adam_2/learning_rate:0' shape=() dtype=float32>\n",
      "Original Data Shape (selected):  (2500, 36)\n",
      "Original Data Shape (encoded):  (2500, 36)\n",
      "Original Data Class Distribution:  990  (true) / 1510  (false)\n",
      "(1500, 36) (1500,)\n",
      "(500, 36) (500,)\n",
      "(500, 36) (500,)\n",
      "Min Ratio:  0.392\n",
      "Min Ratio:  0.5\n",
      "Min Ratio:  0.395\n",
      "Min Ratio:  0.5\n"
     ]
    },
    {
     "data": {
      "application/vnd.jupyter.widget-view+json": {
       "model_id": "c7b0add8afff4826b8a1a4beb19a25af",
       "version_major": 2,
       "version_minor": 0
      },
      "text/plain": [
       "restarts:   0%|          | 0/1 [00:00<?, ?it/s]"
      ]
     },
     "metadata": {},
     "output_type": "display_data"
    },
    {
     "data": {
      "application/vnd.jupyter.widget-view+json": {
       "model_id": "7904112f3baf41eb9d002835d6137978",
       "version_major": 2,
       "version_minor": 0
      },
      "text/plain": [
       "epochs:   0%|          | 0/1 [00:00<?, ?it/s]"
      ]
     },
     "metadata": {},
     "output_type": "display_data"
    },
    {
     "name": "stdout",
     "output_type": "stream",
     "text": [
      "<tf.Variable 'Adam_2/learning_rate:0' shape=() dtype=float32>\n",
      "<tf.Variable 'Adam_2/learning_rate:0' shape=() dtype=float32>\n",
      "Original Data Shape (selected):  (2500, 36)\n",
      "Original Data Shape (encoded):  (2500, 36)\n",
      "Original Data Class Distribution:  1024  (true) / 1476  (false)\n",
      "(1500, 36) (1500,)\n",
      "(500, 36) (500,)\n",
      "(500, 36) (500,)\n",
      "Min Ratio:  0.3973333333333333\n",
      "Min Ratio:  0.5\n",
      "Min Ratio:  0.404\n",
      "Min Ratio:  0.5\n"
     ]
    },
    {
     "data": {
      "application/vnd.jupyter.widget-view+json": {
       "model_id": "2667e4530d3c4ec7946337c5b3f02c0b",
       "version_major": 2,
       "version_minor": 0
      },
      "text/plain": [
       "restarts:   0%|          | 0/1 [00:00<?, ?it/s]"
      ]
     },
     "metadata": {},
     "output_type": "display_data"
    },
    {
     "data": {
      "application/vnd.jupyter.widget-view+json": {
       "model_id": "2e8755ffae07457a985e58d12ba6b886",
       "version_major": 2,
       "version_minor": 0
      },
      "text/plain": [
       "epochs:   0%|          | 0/1 [00:00<?, ?it/s]"
      ]
     },
     "metadata": {},
     "output_type": "display_data"
    },
    {
     "name": "stdout",
     "output_type": "stream",
     "text": [
      "<tf.Variable 'Adam_2/learning_rate:0' shape=() dtype=float32>\n",
      "<tf.Variable 'Adam_2/learning_rate:0' shape=() dtype=float32>\n",
      "Original Data Shape (selected):  (2500, 36)\n",
      "Original Data Shape (encoded):  (2500, 36)\n",
      "Original Data Class Distribution:  1061  (true) / 1439  (false)\n",
      "(1500, 36) (1500,)\n",
      "(500, 36) (500,)\n",
      "(500, 36) (500,)\n",
      "Min Ratio:  0.41333333333333333\n",
      "Min Ratio:  0.5\n",
      "Min Ratio:  0.4235\n",
      "Min Ratio:  0.5\n"
     ]
    },
    {
     "data": {
      "application/vnd.jupyter.widget-view+json": {
       "model_id": "6ae9a2315a6f4b94b914bde21a3fec0a",
       "version_major": 2,
       "version_minor": 0
      },
      "text/plain": [
       "restarts:   0%|          | 0/1 [00:00<?, ?it/s]"
      ]
     },
     "metadata": {},
     "output_type": "display_data"
    },
    {
     "data": {
      "application/vnd.jupyter.widget-view+json": {
       "model_id": "557dd4d23ae840649e45b8b84e9ebab8",
       "version_major": 2,
       "version_minor": 0
      },
      "text/plain": [
       "epochs:   0%|          | 0/1 [00:00<?, ?it/s]"
      ]
     },
     "metadata": {},
     "output_type": "display_data"
    },
    {
     "name": "stdout",
     "output_type": "stream",
     "text": [
      "<tf.Variable 'Adam_2/learning_rate:0' shape=() dtype=float32>\n",
      "<tf.Variable 'Adam_2/learning_rate:0' shape=() dtype=float32>\n",
      "Original Data Shape (selected):  (2500, 36)\n",
      "Original Data Shape (encoded):  (2500, 36)\n",
      "Original Data Class Distribution:  1141  (true) / 1359  (false)\n",
      "(1500, 36) (1500,)\n",
      "(500, 36) (500,)\n",
      "(500, 36) (500,)\n",
      "Min Ratio:  0.45666666666666667\n",
      "Min Ratio:  0.5\n",
      "Min Ratio:  0.45\n",
      "Min Ratio:  0.5\n"
     ]
    },
    {
     "data": {
      "application/vnd.jupyter.widget-view+json": {
       "model_id": "d7ffd06e87fa44dfa82e782ec1e7a0f1",
       "version_major": 2,
       "version_minor": 0
      },
      "text/plain": [
       "restarts:   0%|          | 0/1 [00:00<?, ?it/s]"
      ]
     },
     "metadata": {},
     "output_type": "display_data"
    },
    {
     "data": {
      "application/vnd.jupyter.widget-view+json": {
       "model_id": "82e49b250b43418399ae0eb0f5536f39",
       "version_major": 2,
       "version_minor": 0
      },
      "text/plain": [
       "epochs:   0%|          | 0/1 [00:00<?, ?it/s]"
      ]
     },
     "metadata": {},
     "output_type": "display_data"
    },
    {
     "name": "stdout",
     "output_type": "stream",
     "text": [
      "<tf.Variable 'Adam_2/learning_rate:0' shape=() dtype=float32>\n",
      "<tf.Variable 'Adam_2/learning_rate:0' shape=() dtype=float32>\n",
      "Original Data Shape (selected):  (2500, 36)\n",
      "Original Data Shape (encoded):  (2500, 36)\n",
      "Original Data Class Distribution:  1080  (true) / 1420  (false)\n",
      "(1500, 36) (1500,)\n",
      "(500, 36) (500,)\n",
      "(500, 36) (500,)\n",
      "Min Ratio:  0.44466666666666665\n",
      "Min Ratio:  0.5\n",
      "Min Ratio:  0.433\n",
      "Min Ratio:  0.5\n"
     ]
    },
    {
     "data": {
      "application/vnd.jupyter.widget-view+json": {
       "model_id": "5459da07118e4c81b3f83032bc06c6bd",
       "version_major": 2,
       "version_minor": 0
      },
      "text/plain": [
       "restarts:   0%|          | 0/1 [00:00<?, ?it/s]"
      ]
     },
     "metadata": {},
     "output_type": "display_data"
    },
    {
     "data": {
      "application/vnd.jupyter.widget-view+json": {
       "model_id": "7baf0d6a32754125a4103fda75ed9475",
       "version_major": 2,
       "version_minor": 0
      },
      "text/plain": [
       "epochs:   0%|          | 0/1 [00:00<?, ?it/s]"
      ]
     },
     "metadata": {},
     "output_type": "display_data"
    },
    {
     "name": "stdout",
     "output_type": "stream",
     "text": [
      "<tf.Variable 'Adam_2/learning_rate:0' shape=() dtype=float32>\n",
      "<tf.Variable 'Adam_2/learning_rate:0' shape=() dtype=float32>\n",
      "Original Data Shape (selected):  (2500, 36)\n",
      "Original Data Shape (encoded):  (2500, 36)\n",
      "Original Data Class Distribution:  1163  (true) / 1337  (false)\n",
      "(1500, 36) (1500,)\n",
      "(500, 36) (500,)\n",
      "(500, 36) (500,)\n",
      "Min Ratio:  0.476\n",
      "Min Ratio:  0.5\n",
      "Min Ratio:  0.4665\n",
      "Min Ratio:  0.5\n"
     ]
    },
    {
     "data": {
      "application/vnd.jupyter.widget-view+json": {
       "model_id": "426dba4e309241b2895347acf0759a12",
       "version_major": 2,
       "version_minor": 0
      },
      "text/plain": [
       "restarts:   0%|          | 0/1 [00:00<?, ?it/s]"
      ]
     },
     "metadata": {},
     "output_type": "display_data"
    },
    {
     "data": {
      "application/vnd.jupyter.widget-view+json": {
       "model_id": "439e33720ae74a718c5cf6116428859b",
       "version_major": 2,
       "version_minor": 0
      },
      "text/plain": [
       "epochs:   0%|          | 0/1 [00:00<?, ?it/s]"
      ]
     },
     "metadata": {},
     "output_type": "display_data"
    },
    {
     "name": "stdout",
     "output_type": "stream",
     "text": [
      "<tf.Variable 'Adam_2/learning_rate:0' shape=() dtype=float32>\n",
      "<tf.Variable 'Adam_2/learning_rate:0' shape=() dtype=float32>\n",
      "Original Data Shape (selected):  (2500, 36)\n",
      "Original Data Shape (encoded):  (2500, 36)\n",
      "Original Data Class Distribution:  1169  (true) / 1331  (false)\n",
      "(1500, 36) (1500,)\n",
      "(500, 36) (500,)\n",
      "(500, 36) (500,)\n",
      "Min Ratio:  0.464\n",
      "Min Ratio:  0.5\n",
      "Min Ratio:  0.455\n",
      "Min Ratio:  0.5\n"
     ]
    },
    {
     "data": {
      "application/vnd.jupyter.widget-view+json": {
       "model_id": "8febbdeba8604e9d85edfa78abf365cf",
       "version_major": 2,
       "version_minor": 0
      },
      "text/plain": [
       "restarts:   0%|          | 0/1 [00:00<?, ?it/s]"
      ]
     },
     "metadata": {},
     "output_type": "display_data"
    },
    {
     "data": {
      "application/vnd.jupyter.widget-view+json": {
       "model_id": "7565d340be6547e081edec085434f291",
       "version_major": 2,
       "version_minor": 0
      },
      "text/plain": [
       "epochs:   0%|          | 0/1 [00:00<?, ?it/s]"
      ]
     },
     "metadata": {},
     "output_type": "display_data"
    },
    {
     "name": "stdout",
     "output_type": "stream",
     "text": [
      "<tf.Variable 'Adam_2/learning_rate:0' shape=() dtype=float32>\n",
      "<tf.Variable 'Adam_2/learning_rate:0' shape=() dtype=float32>\n",
      "Original Data Shape (selected):  (2500, 36)\n",
      "Original Data Shape (encoded):  (2500, 36)\n",
      "Original Data Class Distribution:  1261  (true) / 1239  (false)\n",
      "(1500, 36) (1500,)\n",
      "(500, 36) (500,)\n",
      "(500, 36) (500,)\n",
      "Min Ratio:  0.49333333333333335\n",
      "Min Ratio:  0.5\n",
      "Min Ratio:  0.494\n",
      "Min Ratio:  0.5\n"
     ]
    },
    {
     "data": {
      "application/vnd.jupyter.widget-view+json": {
       "model_id": "6466000340084c8dba4cc53691754b48",
       "version_major": 2,
       "version_minor": 0
      },
      "text/plain": [
       "restarts:   0%|          | 0/1 [00:00<?, ?it/s]"
      ]
     },
     "metadata": {},
     "output_type": "display_data"
    },
    {
     "data": {
      "application/vnd.jupyter.widget-view+json": {
       "model_id": "66e72ddd6bc84736bf3f501a435ffa87",
       "version_major": 2,
       "version_minor": 0
      },
      "text/plain": [
       "epochs:   0%|          | 0/1 [00:00<?, ?it/s]"
      ]
     },
     "metadata": {},
     "output_type": "display_data"
    },
    {
     "name": "stdout",
     "output_type": "stream",
     "text": [
      "<tf.Variable 'Adam_2/learning_rate:0' shape=() dtype=float32>\n",
      "<tf.Variable 'Adam_2/learning_rate:0' shape=() dtype=float32>\n",
      "Original Data Shape (selected):  (2500, 36)\n",
      "Original Data Shape (encoded):  (2500, 36)\n",
      "Original Data Class Distribution:  1264  (true) / 1236  (false)\n",
      "(1500, 36) (1500,)\n",
      "(500, 36) (500,)\n",
      "(500, 36) (500,)\n",
      "Min Ratio:  0.48133333333333334\n",
      "Min Ratio:  0.5\n",
      "Min Ratio:  0.491\n",
      "Min Ratio:  0.5\n"
     ]
    },
    {
     "data": {
      "application/vnd.jupyter.widget-view+json": {
       "model_id": "0089da92df2e453f9b29ff37c9b07852",
       "version_major": 2,
       "version_minor": 0
      },
      "text/plain": [
       "restarts:   0%|          | 0/1 [00:00<?, ?it/s]"
      ]
     },
     "metadata": {},
     "output_type": "display_data"
    },
    {
     "data": {
      "application/vnd.jupyter.widget-view+json": {
       "model_id": "7b7c33c639b34203b1b3833a7db62a1f",
       "version_major": 2,
       "version_minor": 0
      },
      "text/plain": [
       "epochs:   0%|          | 0/1 [00:00<?, ?it/s]"
      ]
     },
     "metadata": {},
     "output_type": "display_data"
    },
    {
     "name": "stdout",
     "output_type": "stream",
     "text": [
      "<tf.Variable 'Adam_2/learning_rate:0' shape=() dtype=float32>\n",
      "<tf.Variable 'Adam_2/learning_rate:0' shape=() dtype=float32>\n",
      "Original Data Shape (selected):  (2500, 36)\n",
      "Original Data Shape (encoded):  (2500, 36)\n",
      "Original Data Class Distribution:  1303  (true) / 1197  (false)\n",
      "(1500, 36) (1500,)\n",
      "(500, 36) (500,)\n",
      "(500, 36) (500,)\n",
      "Min Ratio:  0.48733333333333334\n",
      "Min Ratio:  0.5\n",
      "Min Ratio:  0.4845\n",
      "Min Ratio:  0.5\n"
     ]
    },
    {
     "data": {
      "application/vnd.jupyter.widget-view+json": {
       "model_id": "83b0dd606e764de6a8fbe519a1c91183",
       "version_major": 2,
       "version_minor": 0
      },
      "text/plain": [
       "restarts:   0%|          | 0/1 [00:00<?, ?it/s]"
      ]
     },
     "metadata": {},
     "output_type": "display_data"
    },
    {
     "data": {
      "application/vnd.jupyter.widget-view+json": {
       "model_id": "eecd568c6f6e43ffafc76b484842dbf8",
       "version_major": 2,
       "version_minor": 0
      },
      "text/plain": [
       "epochs:   0%|          | 0/1 [00:00<?, ?it/s]"
      ]
     },
     "metadata": {},
     "output_type": "display_data"
    },
    {
     "name": "stdout",
     "output_type": "stream",
     "text": [
      "<tf.Variable 'Adam_2/learning_rate:0' shape=() dtype=float32>\n",
      "<tf.Variable 'Adam_2/learning_rate:0' shape=() dtype=float32>\n",
      "Original Data Shape (selected):  (2500, 36)\n",
      "Original Data Shape (encoded):  (2500, 36)\n",
      "Original Data Class Distribution:  1347  (true) / 1153  (false)\n",
      "(1500, 36) (1500,)\n",
      "(500, 36) (500,)\n",
      "(500, 36) (500,)\n",
      "Min Ratio:  0.46066666666666667\n",
      "Min Ratio:  0.5\n",
      "Min Ratio:  0.467\n",
      "Min Ratio:  0.5\n"
     ]
    },
    {
     "data": {
      "application/vnd.jupyter.widget-view+json": {
       "model_id": "2d4987bc6dc7460d8132b87e9d3c550e",
       "version_major": 2,
       "version_minor": 0
      },
      "text/plain": [
       "restarts:   0%|          | 0/1 [00:00<?, ?it/s]"
      ]
     },
     "metadata": {},
     "output_type": "display_data"
    },
    {
     "data": {
      "application/vnd.jupyter.widget-view+json": {
       "model_id": "56162fa13299424a860a57e0936ed0a4",
       "version_major": 2,
       "version_minor": 0
      },
      "text/plain": [
       "epochs:   0%|          | 0/1 [00:00<?, ?it/s]"
      ]
     },
     "metadata": {},
     "output_type": "display_data"
    },
    {
     "name": "stdout",
     "output_type": "stream",
     "text": [
      "<tf.Variable 'Adam_2/learning_rate:0' shape=() dtype=float32>\n",
      "<tf.Variable 'Adam_2/learning_rate:0' shape=() dtype=float32>\n",
      "Original Data Shape (selected):  (2500, 36)\n",
      "Original Data Shape (encoded):  (2500, 36)\n",
      "Original Data Class Distribution:  1376  (true) / 1124  (false)\n",
      "(1500, 36) (1500,)\n",
      "(500, 36) (500,)\n",
      "(500, 36) (500,)\n",
      "Min Ratio:  0.444\n",
      "Min Ratio:  0.5\n",
      "Min Ratio:  0.447\n",
      "Min Ratio:  0.5\n"
     ]
    },
    {
     "data": {
      "application/vnd.jupyter.widget-view+json": {
       "model_id": "f208da155f9f44fa81e056068bf2cce8",
       "version_major": 2,
       "version_minor": 0
      },
      "text/plain": [
       "restarts:   0%|          | 0/1 [00:00<?, ?it/s]"
      ]
     },
     "metadata": {},
     "output_type": "display_data"
    },
    {
     "data": {
      "application/vnd.jupyter.widget-view+json": {
       "model_id": "fcfa5059dfee409b89ca056554033a7d",
       "version_major": 2,
       "version_minor": 0
      },
      "text/plain": [
       "epochs:   0%|          | 0/1 [00:00<?, ?it/s]"
      ]
     },
     "metadata": {},
     "output_type": "display_data"
    },
    {
     "name": "stdout",
     "output_type": "stream",
     "text": [
      "<tf.Variable 'Adam_2/learning_rate:0' shape=() dtype=float32>\n",
      "<tf.Variable 'Adam_2/learning_rate:0' shape=() dtype=float32>\n",
      "Original Data Shape (selected):  (2500, 36)\n",
      "Original Data Shape (encoded):  (2500, 36)\n",
      "Original Data Class Distribution:  1390  (true) / 1110  (false)\n",
      "(1500, 36) (1500,)\n",
      "(500, 36) (500,)\n",
      "(500, 36) (500,)\n",
      "Min Ratio:  0.44466666666666665\n",
      "Min Ratio:  0.5\n",
      "Min Ratio:  0.446\n",
      "Min Ratio:  0.5\n"
     ]
    },
    {
     "data": {
      "application/vnd.jupyter.widget-view+json": {
       "model_id": "febcdc20203d435e9fe9a589511695f7",
       "version_major": 2,
       "version_minor": 0
      },
      "text/plain": [
       "restarts:   0%|          | 0/1 [00:00<?, ?it/s]"
      ]
     },
     "metadata": {},
     "output_type": "display_data"
    },
    {
     "data": {
      "application/vnd.jupyter.widget-view+json": {
       "model_id": "498a2f4c41974faeb5fda2cbae546c6a",
       "version_major": 2,
       "version_minor": 0
      },
      "text/plain": [
       "epochs:   0%|          | 0/1 [00:00<?, ?it/s]"
      ]
     },
     "metadata": {},
     "output_type": "display_data"
    },
    {
     "name": "stdout",
     "output_type": "stream",
     "text": [
      "<tf.Variable 'Adam_2/learning_rate:0' shape=() dtype=float32>\n",
      "<tf.Variable 'Adam_2/learning_rate:0' shape=() dtype=float32>\n",
      "Original Data Shape (selected):  (2500, 36)\n",
      "Original Data Shape (encoded):  (2500, 36)\n",
      "Original Data Class Distribution:  1395  (true) / 1105  (false)\n",
      "(1500, 36) (1500,)\n",
      "(500, 36) (500,)\n",
      "(500, 36) (500,)\n",
      "Min Ratio:  0.4573333333333333\n",
      "Min Ratio:  0.5\n",
      "Min Ratio:  0.4455\n",
      "Min Ratio:  0.5\n"
     ]
    },
    {
     "data": {
      "application/vnd.jupyter.widget-view+json": {
       "model_id": "aed8dfd90ccc4c8aa285651b21145a0d",
       "version_major": 2,
       "version_minor": 0
      },
      "text/plain": [
       "restarts:   0%|          | 0/1 [00:00<?, ?it/s]"
      ]
     },
     "metadata": {},
     "output_type": "display_data"
    },
    {
     "data": {
      "application/vnd.jupyter.widget-view+json": {
       "model_id": "f720e4dfdb374a6e97418f6421f0fd4c",
       "version_major": 2,
       "version_minor": 0
      },
      "text/plain": [
       "epochs:   0%|          | 0/1 [00:00<?, ?it/s]"
      ]
     },
     "metadata": {},
     "output_type": "display_data"
    },
    {
     "name": "stdout",
     "output_type": "stream",
     "text": [
      "<tf.Variable 'Adam_2/learning_rate:0' shape=() dtype=float32>\n",
      "<tf.Variable 'Adam_2/learning_rate:0' shape=() dtype=float32>\n",
      "Original Data Shape (selected):  (2500, 36)\n",
      "Original Data Shape (encoded):  (2500, 36)\n",
      "Original Data Class Distribution:  1427  (true) / 1073  (false)\n",
      "(1500, 36) (1500,)\n",
      "(500, 36) (500,)\n",
      "(500, 36) (500,)\n",
      "Min Ratio:  0.408\n",
      "Min Ratio:  0.5\n",
      "Min Ratio:  0.4195\n",
      "Min Ratio:  0.5\n"
     ]
    },
    {
     "data": {
      "application/vnd.jupyter.widget-view+json": {
       "model_id": "cd6060012c5e47e2bad51f926a4d4789",
       "version_major": 2,
       "version_minor": 0
      },
      "text/plain": [
       "restarts:   0%|          | 0/1 [00:00<?, ?it/s]"
      ]
     },
     "metadata": {},
     "output_type": "display_data"
    },
    {
     "data": {
      "application/vnd.jupyter.widget-view+json": {
       "model_id": "713ea662a76d4f108a56c6ce87cffe94",
       "version_major": 2,
       "version_minor": 0
      },
      "text/plain": [
       "epochs:   0%|          | 0/1 [00:00<?, ?it/s]"
      ]
     },
     "metadata": {},
     "output_type": "display_data"
    },
    {
     "name": "stdout",
     "output_type": "stream",
     "text": [
      "<tf.Variable 'Adam_2/learning_rate:0' shape=() dtype=float32>\n",
      "<tf.Variable 'Adam_2/learning_rate:0' shape=() dtype=float32>\n",
      "Original Data Shape (selected):  (2500, 36)\n",
      "Original Data Shape (encoded):  (2500, 36)\n",
      "Original Data Class Distribution:  1500  (true) / 1000  (false)\n",
      "(1500, 36) (1500,)\n",
      "(500, 36) (500,)\n",
      "(500, 36) (500,)\n",
      "Min Ratio:  0.39466666666666667\n",
      "Min Ratio:  0.5\n",
      "Min Ratio:  0.3905\n",
      "Min Ratio:  0.5\n"
     ]
    },
    {
     "data": {
      "application/vnd.jupyter.widget-view+json": {
       "model_id": "b0854874a1d043068a7232d270ebf97a",
       "version_major": 2,
       "version_minor": 0
      },
      "text/plain": [
       "restarts:   0%|          | 0/1 [00:00<?, ?it/s]"
      ]
     },
     "metadata": {},
     "output_type": "display_data"
    },
    {
     "data": {
      "application/vnd.jupyter.widget-view+json": {
       "model_id": "48cebe5f92b144e4b467f47e5a6dc5b1",
       "version_major": 2,
       "version_minor": 0
      },
      "text/plain": [
       "epochs:   0%|          | 0/1 [00:00<?, ?it/s]"
      ]
     },
     "metadata": {},
     "output_type": "display_data"
    },
    {
     "name": "stdout",
     "output_type": "stream",
     "text": [
      "<tf.Variable 'Adam_2/learning_rate:0' shape=() dtype=float32>\n",
      "<tf.Variable 'Adam_2/learning_rate:0' shape=() dtype=float32>\n",
      "Original Data Shape (selected):  (2500, 36)\n",
      "Original Data Shape (encoded):  (2500, 36)\n",
      "Original Data Class Distribution:  1492  (true) / 1008  (false)\n",
      "(1500, 36) (1500,)\n",
      "(500, 36) (500,)\n",
      "(500, 36) (500,)\n",
      "Min Ratio:  0.4046666666666667\n",
      "Min Ratio:  0.5\n",
      "Min Ratio:  0.407\n",
      "Min Ratio:  0.5\n"
     ]
    },
    {
     "data": {
      "application/vnd.jupyter.widget-view+json": {
       "model_id": "d985c848ebb04d48bdb0dd720620e8e0",
       "version_major": 2,
       "version_minor": 0
      },
      "text/plain": [
       "restarts:   0%|          | 0/1 [00:00<?, ?it/s]"
      ]
     },
     "metadata": {},
     "output_type": "display_data"
    },
    {
     "data": {
      "application/vnd.jupyter.widget-view+json": {
       "model_id": "519b255b986e4d20813f36ba5c2dc3a2",
       "version_major": 2,
       "version_minor": 0
      },
      "text/plain": [
       "epochs:   0%|          | 0/1 [00:00<?, ?it/s]"
      ]
     },
     "metadata": {},
     "output_type": "display_data"
    },
    {
     "name": "stdout",
     "output_type": "stream",
     "text": [
      "<tf.Variable 'Adam_2/learning_rate:0' shape=() dtype=float32>\n",
      "<tf.Variable 'Adam_2/learning_rate:0' shape=() dtype=float32>\n",
      "Original Data Shape (selected):  (2500, 36)\n",
      "Original Data Shape (encoded):  (2500, 36)\n",
      "Original Data Class Distribution:  1469  (true) / 1031  (false)\n",
      "(1500, 36) (1500,)\n",
      "(500, 36) (500,)\n",
      "(500, 36) (500,)\n",
      "Min Ratio:  0.41333333333333333\n",
      "Min Ratio:  0.5\n",
      "Min Ratio:  0.409\n",
      "Min Ratio:  0.5\n"
     ]
    },
    {
     "data": {
      "application/vnd.jupyter.widget-view+json": {
       "model_id": "d93af56359684cd3a2f583fbd50b1d55",
       "version_major": 2,
       "version_minor": 0
      },
      "text/plain": [
       "restarts:   0%|          | 0/1 [00:00<?, ?it/s]"
      ]
     },
     "metadata": {},
     "output_type": "display_data"
    },
    {
     "data": {
      "application/vnd.jupyter.widget-view+json": {
       "model_id": "c228f31bcd2c4807be11eba2728a3bfc",
       "version_major": 2,
       "version_minor": 0
      },
      "text/plain": [
       "epochs:   0%|          | 0/1 [00:00<?, ?it/s]"
      ]
     },
     "metadata": {},
     "output_type": "display_data"
    },
    {
     "name": "stdout",
     "output_type": "stream",
     "text": [
      "<tf.Variable 'Adam_2/learning_rate:0' shape=() dtype=float32>\n",
      "<tf.Variable 'Adam_2/learning_rate:0' shape=() dtype=float32>\n",
      "Original Data Shape (selected):  (2500, 36)\n",
      "Original Data Shape (encoded):  (2500, 36)\n",
      "Original Data Class Distribution:  1469  (true) / 1031  (false)\n",
      "(1500, 36) (1500,)\n",
      "(500, 36) (500,)\n",
      "(500, 36) (500,)\n",
      "Min Ratio:  0.414\n",
      "Min Ratio:  0.5\n",
      "Min Ratio:  0.4065\n",
      "Min Ratio:  0.5\n"
     ]
    },
    {
     "data": {
      "application/vnd.jupyter.widget-view+json": {
       "model_id": "515cf985a443493fb4acaf5b30b89be6",
       "version_major": 2,
       "version_minor": 0
      },
      "text/plain": [
       "restarts:   0%|          | 0/1 [00:00<?, ?it/s]"
      ]
     },
     "metadata": {},
     "output_type": "display_data"
    },
    {
     "data": {
      "application/vnd.jupyter.widget-view+json": {
       "model_id": "d2f4d2f5d18b42d4bb41163766322980",
       "version_major": 2,
       "version_minor": 0
      },
      "text/plain": [
       "epochs:   0%|          | 0/1 [00:00<?, ?it/s]"
      ]
     },
     "metadata": {},
     "output_type": "display_data"
    },
    {
     "name": "stdout",
     "output_type": "stream",
     "text": [
      "<tf.Variable 'Adam_2/learning_rate:0' shape=() dtype=float32>\n",
      "<tf.Variable 'Adam_2/learning_rate:0' shape=() dtype=float32>\n",
      "Original Data Shape (selected):  (2500, 36)\n",
      "Original Data Shape (encoded):  (2500, 36)\n",
      "Original Data Class Distribution:  1499  (true) / 1001  (false)\n",
      "(1500, 36) (1500,)\n",
      "(500, 36) (500,)\n",
      "(500, 36) (500,)\n",
      "Min Ratio:  0.3913333333333333\n",
      "Min Ratio:  0.5\n",
      "Min Ratio:  0.4015\n",
      "Min Ratio:  0.5\n"
     ]
    },
    {
     "data": {
      "application/vnd.jupyter.widget-view+json": {
       "model_id": "7abd9bec63654afcbd6a66daf358d7ff",
       "version_major": 2,
       "version_minor": 0
      },
      "text/plain": [
       "restarts:   0%|          | 0/1 [00:00<?, ?it/s]"
      ]
     },
     "metadata": {},
     "output_type": "display_data"
    },
    {
     "data": {
      "application/vnd.jupyter.widget-view+json": {
       "model_id": "57aba07e3cd341ad8cbd3caccbfc4da5",
       "version_major": 2,
       "version_minor": 0
      },
      "text/plain": [
       "epochs:   0%|          | 0/1 [00:00<?, ?it/s]"
      ]
     },
     "metadata": {},
     "output_type": "display_data"
    },
    {
     "name": "stdout",
     "output_type": "stream",
     "text": [
      "<tf.Variable 'Adam_2/learning_rate:0' shape=() dtype=float32>\n",
      "<tf.Variable 'Adam_2/learning_rate:0' shape=() dtype=float32>\n",
      "Original Data Shape (selected):  (2500, 36)\n",
      "Original Data Shape (encoded):  (2500, 36)\n",
      "Original Data Class Distribution:  1491  (true) / 1009  (false)\n",
      "(1500, 36) (1500,)\n",
      "(500, 36) (500,)\n",
      "(500, 36) (500,)\n",
      "Min Ratio:  0.402\n",
      "Min Ratio:  0.5\n",
      "Min Ratio:  0.4025\n",
      "Min Ratio:  0.5\n"
     ]
    },
    {
     "data": {
      "application/vnd.jupyter.widget-view+json": {
       "model_id": "2fdfe00ac1184283bba4e0b8393bea75",
       "version_major": 2,
       "version_minor": 0
      },
      "text/plain": [
       "restarts:   0%|          | 0/1 [00:00<?, ?it/s]"
      ]
     },
     "metadata": {},
     "output_type": "display_data"
    },
    {
     "data": {
      "application/vnd.jupyter.widget-view+json": {
       "model_id": "5bbabaf6235d4a6fa6f50b486efd96e4",
       "version_major": 2,
       "version_minor": 0
      },
      "text/plain": [
       "epochs:   0%|          | 0/1 [00:00<?, ?it/s]"
      ]
     },
     "metadata": {},
     "output_type": "display_data"
    },
    {
     "name": "stdout",
     "output_type": "stream",
     "text": [
      "<tf.Variable 'Adam_2/learning_rate:0' shape=() dtype=float32>\n",
      "<tf.Variable 'Adam_2/learning_rate:0' shape=() dtype=float32>\n",
      "Original Data Shape (selected):  (2500, 36)\n",
      "Original Data Shape (encoded):  (2500, 36)\n",
      "Original Data Class Distribution:  1510  (true) / 990  (false)\n",
      "(1500, 36) (1500,)\n",
      "(500, 36) (500,)\n",
      "(500, 36) (500,)\n",
      "Min Ratio:  0.40066666666666667\n",
      "Min Ratio:  0.5\n",
      "Min Ratio:  0.401\n",
      "Min Ratio:  0.5\n"
     ]
    },
    {
     "data": {
      "application/vnd.jupyter.widget-view+json": {
       "model_id": "a25c40d210074f46927dd627aa410142",
       "version_major": 2,
       "version_minor": 0
      },
      "text/plain": [
       "restarts:   0%|          | 0/1 [00:00<?, ?it/s]"
      ]
     },
     "metadata": {},
     "output_type": "display_data"
    },
    {
     "data": {
      "application/vnd.jupyter.widget-view+json": {
       "model_id": "d0d32e01d4fb477dbb584980e0d64044",
       "version_major": 2,
       "version_minor": 0
      },
      "text/plain": [
       "epochs:   0%|          | 0/1 [00:00<?, ?it/s]"
      ]
     },
     "metadata": {},
     "output_type": "display_data"
    },
    {
     "name": "stdout",
     "output_type": "stream",
     "text": [
      "<tf.Variable 'Adam_2/learning_rate:0' shape=() dtype=float32>\n",
      "<tf.Variable 'Adam_2/learning_rate:0' shape=() dtype=float32>\n",
      "Original Data Shape (selected):  (2500, 36)\n",
      "Original Data Shape (encoded):  (2500, 36)\n",
      "Original Data Class Distribution:  1517  (true) / 983  (false)\n",
      "(1500, 36) (1500,)\n",
      "(500, 36) (500,)\n",
      "(500, 36) (500,)\n",
      "Min Ratio:  0.37933333333333336\n",
      "Min Ratio:  0.5\n",
      "Min Ratio:  0.391\n",
      "Min Ratio:  0.5\n"
     ]
    },
    {
     "data": {
      "application/vnd.jupyter.widget-view+json": {
       "model_id": "a7a92da869214d1985c7b600891366f9",
       "version_major": 2,
       "version_minor": 0
      },
      "text/plain": [
       "restarts:   0%|          | 0/1 [00:00<?, ?it/s]"
      ]
     },
     "metadata": {},
     "output_type": "display_data"
    },
    {
     "data": {
      "application/vnd.jupyter.widget-view+json": {
       "model_id": "649475e909f34d7e84c92b78cbeb1a21",
       "version_major": 2,
       "version_minor": 0
      },
      "text/plain": [
       "epochs:   0%|          | 0/1 [00:00<?, ?it/s]"
      ]
     },
     "metadata": {},
     "output_type": "display_data"
    },
    {
     "name": "stdout",
     "output_type": "stream",
     "text": [
      "<tf.Variable 'Adam_2/learning_rate:0' shape=() dtype=float32>\n",
      "<tf.Variable 'Adam_2/learning_rate:0' shape=() dtype=float32>\n",
      "Original Data Shape (selected):  (2500, 36)\n",
      "Original Data Shape (encoded):  (2500, 36)\n",
      "Original Data Class Distribution:  1496  (true) / 1004  (false)\n",
      "(1500, 36) (1500,)\n",
      "(500, 36) (500,)\n",
      "(500, 36) (500,)\n",
      "Min Ratio:  0.4106666666666667\n",
      "Min Ratio:  0.5\n",
      "Min Ratio:  0.401\n",
      "Min Ratio:  0.5\n"
     ]
    },
    {
     "data": {
      "application/vnd.jupyter.widget-view+json": {
       "model_id": "e88d9a459fe54fdeae0e29ba6c4fad46",
       "version_major": 2,
       "version_minor": 0
      },
      "text/plain": [
       "restarts:   0%|          | 0/1 [00:00<?, ?it/s]"
      ]
     },
     "metadata": {},
     "output_type": "display_data"
    },
    {
     "data": {
      "application/vnd.jupyter.widget-view+json": {
       "model_id": "0f0dc0fbd6c74a9684be82b9f6f461c8",
       "version_major": 2,
       "version_minor": 0
      },
      "text/plain": [
       "epochs:   0%|          | 0/1 [00:00<?, ?it/s]"
      ]
     },
     "metadata": {},
     "output_type": "display_data"
    },
    {
     "name": "stdout",
     "output_type": "stream",
     "text": [
      "<tf.Variable 'Adam_2/learning_rate:0' shape=() dtype=float32>\n",
      "<tf.Variable 'Adam_2/learning_rate:0' shape=() dtype=float32>\n",
      "Original Data Shape (selected):  (2500, 36)\n",
      "Original Data Shape (encoded):  (2500, 36)\n",
      "Original Data Class Distribution:  1526  (true) / 974  (false)\n",
      "(1500, 36) (1500,)\n",
      "(500, 36) (500,)\n",
      "(500, 36) (500,)\n",
      "Min Ratio:  0.39\n",
      "Min Ratio:  0.5\n",
      "Min Ratio:  0.3925\n",
      "Min Ratio:  0.5\n"
     ]
    },
    {
     "data": {
      "application/vnd.jupyter.widget-view+json": {
       "model_id": "cb257606e93047759c6c8d7068bee533",
       "version_major": 2,
       "version_minor": 0
      },
      "text/plain": [
       "restarts:   0%|          | 0/1 [00:00<?, ?it/s]"
      ]
     },
     "metadata": {},
     "output_type": "display_data"
    },
    {
     "data": {
      "application/vnd.jupyter.widget-view+json": {
       "model_id": "d03035184ce34049b80a38956b836a53",
       "version_major": 2,
       "version_minor": 0
      },
      "text/plain": [
       "epochs:   0%|          | 0/1 [00:00<?, ?it/s]"
      ]
     },
     "metadata": {},
     "output_type": "display_data"
    },
    {
     "name": "stdout",
     "output_type": "stream",
     "text": [
      "<tf.Variable 'Adam_2/learning_rate:0' shape=() dtype=float32>\n",
      "<tf.Variable 'Adam_2/learning_rate:0' shape=() dtype=float32>\n",
      "Original Data Shape (selected):  (2500, 36)\n",
      "Original Data Shape (encoded):  (2500, 36)\n",
      "Original Data Class Distribution:  1549  (true) / 951  (false)\n",
      "(1500, 36) (1500,)\n",
      "(500, 36) (500,)\n",
      "(500, 36) (500,)\n",
      "Min Ratio:  0.37133333333333335\n",
      "Min Ratio:  0.5\n",
      "Min Ratio:  0.3735\n",
      "Min Ratio:  0.5\n"
     ]
    },
    {
     "data": {
      "application/vnd.jupyter.widget-view+json": {
       "model_id": "46239f2248304a5d8d54924b8c34d27c",
       "version_major": 2,
       "version_minor": 0
      },
      "text/plain": [
       "restarts:   0%|          | 0/1 [00:00<?, ?it/s]"
      ]
     },
     "metadata": {},
     "output_type": "display_data"
    },
    {
     "data": {
      "application/vnd.jupyter.widget-view+json": {
       "model_id": "3d8e27445f33456a8121fb7b87dc0411",
       "version_major": 2,
       "version_minor": 0
      },
      "text/plain": [
       "epochs:   0%|          | 0/1 [00:00<?, ?it/s]"
      ]
     },
     "metadata": {},
     "output_type": "display_data"
    },
    {
     "name": "stdout",
     "output_type": "stream",
     "text": [
      "<tf.Variable 'Adam_2/learning_rate:0' shape=() dtype=float32>\n",
      "<tf.Variable 'Adam_2/learning_rate:0' shape=() dtype=float32>\n",
      "Original Data Shape (selected):  (2500, 36)\n",
      "Original Data Shape (encoded):  (2500, 36)\n",
      "Original Data Class Distribution:  1560  (true) / 940  (false)\n",
      "(1500, 36) (1500,)\n",
      "(500, 36) (500,)\n",
      "(500, 36) (500,)\n",
      "Min Ratio:  0.37266666666666665\n",
      "Min Ratio:  0.5\n",
      "Min Ratio:  0.3785\n",
      "Min Ratio:  0.5\n"
     ]
    },
    {
     "data": {
      "application/vnd.jupyter.widget-view+json": {
       "model_id": "1990820e87924354bd5ced0052ed3b71",
       "version_major": 2,
       "version_minor": 0
      },
      "text/plain": [
       "restarts:   0%|          | 0/1 [00:00<?, ?it/s]"
      ]
     },
     "metadata": {},
     "output_type": "display_data"
    },
    {
     "data": {
      "application/vnd.jupyter.widget-view+json": {
       "model_id": "60a0762006a647adbd9d126e9e8ca8bc",
       "version_major": 2,
       "version_minor": 0
      },
      "text/plain": [
       "epochs:   0%|          | 0/1 [00:00<?, ?it/s]"
      ]
     },
     "metadata": {},
     "output_type": "display_data"
    },
    {
     "name": "stdout",
     "output_type": "stream",
     "text": [
      "<tf.Variable 'Adam_2/learning_rate:0' shape=() dtype=float32>\n",
      "<tf.Variable 'Adam_2/learning_rate:0' shape=() dtype=float32>\n",
      "Original Data Shape (selected):  (2500, 36)\n",
      "Original Data Shape (encoded):  (2500, 36)\n",
      "Original Data Class Distribution:  1563  (true) / 937  (false)\n",
      "(1500, 36) (1500,)\n",
      "(500, 36) (500,)\n",
      "(500, 36) (500,)\n",
      "Min Ratio:  0.37266666666666665\n",
      "Min Ratio:  0.5\n",
      "Min Ratio:  0.364\n",
      "Min Ratio:  0.5\n"
     ]
    },
    {
     "data": {
      "application/vnd.jupyter.widget-view+json": {
       "model_id": "b8b10da8110542cb95dc6853a5987824",
       "version_major": 2,
       "version_minor": 0
      },
      "text/plain": [
       "restarts:   0%|          | 0/1 [00:00<?, ?it/s]"
      ]
     },
     "metadata": {},
     "output_type": "display_data"
    },
    {
     "data": {
      "application/vnd.jupyter.widget-view+json": {
       "model_id": "b4440c7d813e46ed98a4af177d50cb92",
       "version_major": 2,
       "version_minor": 0
      },
      "text/plain": [
       "epochs:   0%|          | 0/1 [00:00<?, ?it/s]"
      ]
     },
     "metadata": {},
     "output_type": "display_data"
    },
    {
     "name": "stdout",
     "output_type": "stream",
     "text": [
      "<tf.Variable 'Adam_2/learning_rate:0' shape=() dtype=float32>\n",
      "<tf.Variable 'Adam_2/learning_rate:0' shape=() dtype=float32>\n",
      "Original Data Shape (selected):  (2500, 36)\n",
      "Original Data Shape (encoded):  (2500, 36)\n",
      "Original Data Class Distribution:  1510  (true) / 990  (false)\n",
      "(1500, 36) (1500,)\n",
      "(500, 36) (500,)\n",
      "(500, 36) (500,)\n",
      "Min Ratio:  0.396\n",
      "Min Ratio:  0.5\n",
      "Min Ratio:  0.399\n",
      "Min Ratio:  0.5\n"
     ]
    },
    {
     "data": {
      "application/vnd.jupyter.widget-view+json": {
       "model_id": "e3d1cf9d5ebb4c878ed7e3018cf493b0",
       "version_major": 2,
       "version_minor": 0
      },
      "text/plain": [
       "restarts:   0%|          | 0/1 [00:00<?, ?it/s]"
      ]
     },
     "metadata": {},
     "output_type": "display_data"
    },
    {
     "data": {
      "application/vnd.jupyter.widget-view+json": {
       "model_id": "d363e7029c44471083008c70840d6553",
       "version_major": 2,
       "version_minor": 0
      },
      "text/plain": [
       "epochs:   0%|          | 0/1 [00:00<?, ?it/s]"
      ]
     },
     "metadata": {},
     "output_type": "display_data"
    },
    {
     "name": "stdout",
     "output_type": "stream",
     "text": [
      "<tf.Variable 'Adam_2/learning_rate:0' shape=() dtype=float32>\n",
      "<tf.Variable 'Adam_2/learning_rate:0' shape=() dtype=float32>\n",
      "Original Data Shape (selected):  (2500, 36)\n",
      "Original Data Shape (encoded):  (2500, 36)\n",
      "Original Data Class Distribution:  1545  (true) / 955  (false)\n",
      "(1500, 36) (1500,)\n",
      "(500, 36) (500,)\n",
      "(500, 36) (500,)\n",
      "Min Ratio:  0.4\n",
      "Min Ratio:  0.5\n",
      "Min Ratio:  0.3895\n",
      "Min Ratio:  0.5\n"
     ]
    },
    {
     "data": {
      "application/vnd.jupyter.widget-view+json": {
       "model_id": "90f72a8f23f141a080e72147efd6ad53",
       "version_major": 2,
       "version_minor": 0
      },
      "text/plain": [
       "restarts:   0%|          | 0/1 [00:00<?, ?it/s]"
      ]
     },
     "metadata": {},
     "output_type": "display_data"
    },
    {
     "data": {
      "application/vnd.jupyter.widget-view+json": {
       "model_id": "38670a506c45482ba3ab2f9df3e2e0f7",
       "version_major": 2,
       "version_minor": 0
      },
      "text/plain": [
       "epochs:   0%|          | 0/1 [00:00<?, ?it/s]"
      ]
     },
     "metadata": {},
     "output_type": "display_data"
    },
    {
     "name": "stdout",
     "output_type": "stream",
     "text": [
      "<tf.Variable 'Adam_2/learning_rate:0' shape=() dtype=float32>\n",
      "<tf.Variable 'Adam_2/learning_rate:0' shape=() dtype=float32>\n",
      "Original Data Shape (selected):  (2500, 36)\n",
      "Original Data Shape (encoded):  (2500, 36)\n",
      "Original Data Class Distribution:  1536  (true) / 964  (false)\n",
      "(1500, 36) (1500,)\n",
      "(500, 36) (500,)\n",
      "(500, 36) (500,)\n",
      "Min Ratio:  0.3933333333333333\n",
      "Min Ratio:  0.5\n",
      "Min Ratio:  0.3895\n",
      "Min Ratio:  0.5\n"
     ]
    },
    {
     "data": {
      "application/vnd.jupyter.widget-view+json": {
       "model_id": "97a8d4f24bbb4b589050132728517e92",
       "version_major": 2,
       "version_minor": 0
      },
      "text/plain": [
       "restarts:   0%|          | 0/1 [00:00<?, ?it/s]"
      ]
     },
     "metadata": {},
     "output_type": "display_data"
    },
    {
     "data": {
      "application/vnd.jupyter.widget-view+json": {
       "model_id": "b60f2e99eaed461687b0cfeb09127276",
       "version_major": 2,
       "version_minor": 0
      },
      "text/plain": [
       "epochs:   0%|          | 0/1 [00:00<?, ?it/s]"
      ]
     },
     "metadata": {},
     "output_type": "display_data"
    },
    {
     "name": "stdout",
     "output_type": "stream",
     "text": [
      "<tf.Variable 'Adam_2/learning_rate:0' shape=() dtype=float32>\n",
      "<tf.Variable 'Adam_2/learning_rate:0' shape=() dtype=float32>\n",
      "Original Data Shape (selected):  (2500, 36)\n",
      "Original Data Shape (encoded):  (2500, 36)\n",
      "Original Data Class Distribution:  1511  (true) / 989  (false)\n",
      "(1500, 36) (1500,)\n",
      "(500, 36) (500,)\n",
      "(500, 36) (500,)\n",
      "Min Ratio:  0.3893333333333333\n",
      "Min Ratio:  0.5\n",
      "Min Ratio:  0.392\n",
      "Min Ratio:  0.5\n"
     ]
    },
    {
     "data": {
      "application/vnd.jupyter.widget-view+json": {
       "model_id": "3d8d8050ed744e3285106696f786e13b",
       "version_major": 2,
       "version_minor": 0
      },
      "text/plain": [
       "restarts:   0%|          | 0/1 [00:00<?, ?it/s]"
      ]
     },
     "metadata": {},
     "output_type": "display_data"
    },
    {
     "data": {
      "application/vnd.jupyter.widget-view+json": {
       "model_id": "f76ed3ae91814113a0a2c56f163f10d1",
       "version_major": 2,
       "version_minor": 0
      },
      "text/plain": [
       "epochs:   0%|          | 0/1 [00:00<?, ?it/s]"
      ]
     },
     "metadata": {},
     "output_type": "display_data"
    },
    {
     "name": "stdout",
     "output_type": "stream",
     "text": [
      "<tf.Variable 'Adam_2/learning_rate:0' shape=() dtype=float32>\n",
      "<tf.Variable 'Adam_2/learning_rate:0' shape=() dtype=float32>\n",
      "Original Data Shape (selected):  (2500, 36)\n",
      "Original Data Shape (encoded):  (2500, 36)\n",
      "Original Data Class Distribution:  1540  (true) / 960  (false)\n",
      "(1500, 36) (1500,)\n",
      "(500, 36) (500,)\n",
      "(500, 36) (500,)\n",
      "Min Ratio:  0.3913333333333333\n",
      "Min Ratio:  0.5\n",
      "Min Ratio:  0.3905\n",
      "Min Ratio:  0.5\n"
     ]
    },
    {
     "data": {
      "application/vnd.jupyter.widget-view+json": {
       "model_id": "429357e80bf14b508eec09c61b4f9f75",
       "version_major": 2,
       "version_minor": 0
      },
      "text/plain": [
       "restarts:   0%|          | 0/1 [00:00<?, ?it/s]"
      ]
     },
     "metadata": {},
     "output_type": "display_data"
    },
    {
     "data": {
      "application/vnd.jupyter.widget-view+json": {
       "model_id": "5bd5c5a3316f481c97f0975f7f5d849f",
       "version_major": 2,
       "version_minor": 0
      },
      "text/plain": [
       "epochs:   0%|          | 0/1 [00:00<?, ?it/s]"
      ]
     },
     "metadata": {},
     "output_type": "display_data"
    },
    {
     "name": "stdout",
     "output_type": "stream",
     "text": [
      "<tf.Variable 'Adam_2/learning_rate:0' shape=() dtype=float32>\n",
      "<tf.Variable 'Adam_2/learning_rate:0' shape=() dtype=float32>\n",
      "Original Data Shape (selected):  (2500, 36)\n",
      "Original Data Shape (encoded):  (2500, 36)\n",
      "Original Data Class Distribution:  1520  (true) / 980  (false)\n",
      "(1500, 36) (1500,)\n",
      "(500, 36) (500,)\n",
      "(500, 36) (500,)\n",
      "Min Ratio:  0.38\n",
      "Min Ratio:  0.5\n",
      "Min Ratio:  0.3865\n",
      "Min Ratio:  0.5\n"
     ]
    },
    {
     "data": {
      "application/vnd.jupyter.widget-view+json": {
       "model_id": "aa3ca0c3b186423287ac8114bbc01355",
       "version_major": 2,
       "version_minor": 0
      },
      "text/plain": [
       "restarts:   0%|          | 0/1 [00:00<?, ?it/s]"
      ]
     },
     "metadata": {},
     "output_type": "display_data"
    },
    {
     "data": {
      "application/vnd.jupyter.widget-view+json": {
       "model_id": "7afa3fa4b12e472a8e9e9d697e4e52f3",
       "version_major": 2,
       "version_minor": 0
      },
      "text/plain": [
       "epochs:   0%|          | 0/1 [00:00<?, ?it/s]"
      ]
     },
     "metadata": {},
     "output_type": "display_data"
    },
    {
     "name": "stdout",
     "output_type": "stream",
     "text": [
      "<tf.Variable 'Adam_2/learning_rate:0' shape=() dtype=float32>\n",
      "<tf.Variable 'Adam_2/learning_rate:0' shape=() dtype=float32>\n",
      "Original Data Shape (selected):  (2500, 36)\n",
      "Original Data Shape (encoded):  (2500, 36)\n",
      "Original Data Class Distribution:  1555  (true) / 945  (false)\n",
      "(1500, 36) (1500,)\n",
      "(500, 36) (500,)\n",
      "(500, 36) (500,)\n",
      "Min Ratio:  0.35733333333333334\n",
      "Min Ratio:  0.5\n",
      "Min Ratio:  0.366\n",
      "Min Ratio:  0.5\n"
     ]
    },
    {
     "data": {
      "application/vnd.jupyter.widget-view+json": {
       "model_id": "0771b225269a4783954ba1b2638baea1",
       "version_major": 2,
       "version_minor": 0
      },
      "text/plain": [
       "restarts:   0%|          | 0/1 [00:00<?, ?it/s]"
      ]
     },
     "metadata": {},
     "output_type": "display_data"
    },
    {
     "data": {
      "application/vnd.jupyter.widget-view+json": {
       "model_id": "dc1d4023ef4a49458a194f657b1d578c",
       "version_major": 2,
       "version_minor": 0
      },
      "text/plain": [
       "epochs:   0%|          | 0/1 [00:00<?, ?it/s]"
      ]
     },
     "metadata": {},
     "output_type": "display_data"
    },
    {
     "name": "stdout",
     "output_type": "stream",
     "text": [
      "<tf.Variable 'Adam_2/learning_rate:0' shape=() dtype=float32>\n",
      "<tf.Variable 'Adam_2/learning_rate:0' shape=() dtype=float32>\n",
      "Original Data Shape (selected):  (2500, 36)\n",
      "Original Data Shape (encoded):  (2500, 36)\n",
      "Original Data Class Distribution:  1544  (true) / 956  (false)\n",
      "(1500, 36) (1500,)\n",
      "(500, 36) (500,)\n",
      "(500, 36) (500,)\n",
      "Min Ratio:  0.3913333333333333\n",
      "Min Ratio:  0.5\n",
      "Min Ratio:  0.3855\n",
      "Min Ratio:  0.5\n"
     ]
    },
    {
     "data": {
      "application/vnd.jupyter.widget-view+json": {
       "model_id": "64038cc267aa4b7592ae5aaa5a128dc4",
       "version_major": 2,
       "version_minor": 0
      },
      "text/plain": [
       "restarts:   0%|          | 0/1 [00:00<?, ?it/s]"
      ]
     },
     "metadata": {},
     "output_type": "display_data"
    },
    {
     "data": {
      "application/vnd.jupyter.widget-view+json": {
       "model_id": "733b4e98657b4cdc945d2d1f85174913",
       "version_major": 2,
       "version_minor": 0
      },
      "text/plain": [
       "epochs:   0%|          | 0/1 [00:00<?, ?it/s]"
      ]
     },
     "metadata": {},
     "output_type": "display_data"
    },
    {
     "name": "stdout",
     "output_type": "stream",
     "text": [
      "<tf.Variable 'Adam_2/learning_rate:0' shape=() dtype=float32>\n",
      "<tf.Variable 'Adam_2/learning_rate:0' shape=() dtype=float32>\n",
      "Original Data Shape (selected):  (2500, 36)\n",
      "Original Data Shape (encoded):  (2500, 36)\n",
      "Original Data Class Distribution:  1522  (true) / 978  (false)\n",
      "(1500, 36) (1500,)\n",
      "(500, 36) (500,)\n",
      "(500, 36) (500,)\n",
      "Min Ratio:  0.3893333333333333\n",
      "Min Ratio:  0.5\n",
      "Min Ratio:  0.389\n",
      "Min Ratio:  0.5\n"
     ]
    },
    {
     "data": {
      "application/vnd.jupyter.widget-view+json": {
       "model_id": "7f2743e66e3b4f3b81b22401bfc35d93",
       "version_major": 2,
       "version_minor": 0
      },
      "text/plain": [
       "restarts:   0%|          | 0/1 [00:00<?, ?it/s]"
      ]
     },
     "metadata": {},
     "output_type": "display_data"
    },
    {
     "data": {
      "application/vnd.jupyter.widget-view+json": {
       "model_id": "5b0f2194d42944e1a8dd9162f0794a2d",
       "version_major": 2,
       "version_minor": 0
      },
      "text/plain": [
       "epochs:   0%|          | 0/1 [00:00<?, ?it/s]"
      ]
     },
     "metadata": {},
     "output_type": "display_data"
    },
    {
     "name": "stdout",
     "output_type": "stream",
     "text": [
      "<tf.Variable 'Adam_2/learning_rate:0' shape=() dtype=float32>\n",
      "<tf.Variable 'Adam_2/learning_rate:0' shape=() dtype=float32>\n",
      "Original Data Shape (selected):  (2500, 36)\n",
      "Original Data Shape (encoded):  (2500, 36)\n",
      "Original Data Class Distribution:  1569  (true) / 931  (false)\n",
      "(1500, 36) (1500,)\n",
      "(500, 36) (500,)\n",
      "(500, 36) (500,)\n",
      "Min Ratio:  0.37066666666666664\n",
      "Min Ratio:  0.5\n",
      "Min Ratio:  0.3765\n",
      "Min Ratio:  0.5\n"
     ]
    },
    {
     "data": {
      "application/vnd.jupyter.widget-view+json": {
       "model_id": "9bcc0a0e9e824fe3a56b116c8837b667",
       "version_major": 2,
       "version_minor": 0
      },
      "text/plain": [
       "restarts:   0%|          | 0/1 [00:00<?, ?it/s]"
      ]
     },
     "metadata": {},
     "output_type": "display_data"
    },
    {
     "data": {
      "application/vnd.jupyter.widget-view+json": {
       "model_id": "7d2487caeff7470b89fcf68989024ae2",
       "version_major": 2,
       "version_minor": 0
      },
      "text/plain": [
       "epochs:   0%|          | 0/1 [00:00<?, ?it/s]"
      ]
     },
     "metadata": {},
     "output_type": "display_data"
    },
    {
     "name": "stdout",
     "output_type": "stream",
     "text": [
      "<tf.Variable 'Adam_2/learning_rate:0' shape=() dtype=float32>\n",
      "<tf.Variable 'Adam_2/learning_rate:0' shape=() dtype=float32>\n",
      "Original Data Shape (selected):  (2500, 36)\n",
      "Original Data Shape (encoded):  (2500, 36)\n",
      "Original Data Class Distribution:  1529  (true) / 971  (false)\n",
      "(1500, 36) (1500,)\n",
      "(500, 36) (500,)\n",
      "(500, 36) (500,)\n",
      "Min Ratio:  0.394\n",
      "Min Ratio:  0.5\n",
      "Min Ratio:  0.3885\n",
      "Min Ratio:  0.5\n"
     ]
    },
    {
     "data": {
      "application/vnd.jupyter.widget-view+json": {
       "model_id": "3bb764be1f4d4a4dbee9d2c50a3f72da",
       "version_major": 2,
       "version_minor": 0
      },
      "text/plain": [
       "restarts:   0%|          | 0/1 [00:00<?, ?it/s]"
      ]
     },
     "metadata": {},
     "output_type": "display_data"
    },
    {
     "data": {
      "application/vnd.jupyter.widget-view+json": {
       "model_id": "46e391f8c744439f83c39e5824d6871e",
       "version_major": 2,
       "version_minor": 0
      },
      "text/plain": [
       "epochs:   0%|          | 0/1 [00:00<?, ?it/s]"
      ]
     },
     "metadata": {},
     "output_type": "display_data"
    },
    {
     "name": "stdout",
     "output_type": "stream",
     "text": [
      "<tf.Variable 'Adam_2/learning_rate:0' shape=() dtype=float32>\n",
      "<tf.Variable 'Adam_2/learning_rate:0' shape=() dtype=float32>\n",
      "Original Data Shape (selected):  (2500, 36)\n",
      "Original Data Shape (encoded):  (2500, 36)\n",
      "Original Data Class Distribution:  1549  (true) / 951  (false)\n",
      "(1500, 36) (1500,)\n",
      "(500, 36) (500,)\n",
      "(500, 36) (500,)\n",
      "Min Ratio:  0.38666666666666666\n",
      "Min Ratio:  0.5\n",
      "Min Ratio:  0.3835\n",
      "Min Ratio:  0.5\n"
     ]
    },
    {
     "data": {
      "application/vnd.jupyter.widget-view+json": {
       "model_id": "cd62f112682e4219b187dff655c5b9ea",
       "version_major": 2,
       "version_minor": 0
      },
      "text/plain": [
       "restarts:   0%|          | 0/1 [00:00<?, ?it/s]"
      ]
     },
     "metadata": {},
     "output_type": "display_data"
    },
    {
     "data": {
      "application/vnd.jupyter.widget-view+json": {
       "model_id": "cca2effb1ee948ad853e94bdabc51a60",
       "version_major": 2,
       "version_minor": 0
      },
      "text/plain": [
       "epochs:   0%|          | 0/1 [00:00<?, ?it/s]"
      ]
     },
     "metadata": {},
     "output_type": "display_data"
    },
    {
     "name": "stdout",
     "output_type": "stream",
     "text": [
      "<tf.Variable 'Adam_2/learning_rate:0' shape=() dtype=float32>\n",
      "<tf.Variable 'Adam_2/learning_rate:0' shape=() dtype=float32>\n",
      "Original Data Shape (selected):  (2500, 36)\n",
      "Original Data Shape (encoded):  (2500, 36)\n",
      "Original Data Class Distribution:  1556  (true) / 944  (false)\n",
      "(1500, 36) (1500,)\n",
      "(500, 36) (500,)\n",
      "(500, 36) (500,)\n",
      "Min Ratio:  0.37266666666666665\n",
      "Min Ratio:  0.5\n",
      "Min Ratio:  0.375\n",
      "Min Ratio:  0.5\n"
     ]
    },
    {
     "data": {
      "application/vnd.jupyter.widget-view+json": {
       "model_id": "d657c39a625c4d46b77850aa167edf64",
       "version_major": 2,
       "version_minor": 0
      },
      "text/plain": [
       "restarts:   0%|          | 0/1 [00:00<?, ?it/s]"
      ]
     },
     "metadata": {},
     "output_type": "display_data"
    },
    {
     "data": {
      "application/vnd.jupyter.widget-view+json": {
       "model_id": "4709a5462a56439d9780b893fb9ed3c4",
       "version_major": 2,
       "version_minor": 0
      },
      "text/plain": [
       "epochs:   0%|          | 0/1 [00:00<?, ?it/s]"
      ]
     },
     "metadata": {},
     "output_type": "display_data"
    },
    {
     "name": "stdout",
     "output_type": "stream",
     "text": [
      "<tf.Variable 'Adam_2/learning_rate:0' shape=() dtype=float32>\n",
      "<tf.Variable 'Adam_2/learning_rate:0' shape=() dtype=float32>\n",
      "Original Data Shape (selected):  (2500, 36)\n",
      "Original Data Shape (encoded):  (2500, 36)\n",
      "Original Data Class Distribution:  1533  (true) / 967  (false)\n",
      "(1500, 36) (1500,)\n",
      "(500, 36) (500,)\n",
      "(500, 36) (500,)\n",
      "Min Ratio:  0.388\n",
      "Min Ratio:  0.5\n",
      "Min Ratio:  0.387\n",
      "Min Ratio:  0.5\n"
     ]
    },
    {
     "data": {
      "application/vnd.jupyter.widget-view+json": {
       "model_id": "6c2580f0bfa64ccd85bd1b66a515e449",
       "version_major": 2,
       "version_minor": 0
      },
      "text/plain": [
       "restarts:   0%|          | 0/1 [00:00<?, ?it/s]"
      ]
     },
     "metadata": {},
     "output_type": "display_data"
    },
    {
     "data": {
      "application/vnd.jupyter.widget-view+json": {
       "model_id": "35a33a91ae774e1bb54ce6d49fe1c97b",
       "version_major": 2,
       "version_minor": 0
      },
      "text/plain": [
       "epochs:   0%|          | 0/1 [00:00<?, ?it/s]"
      ]
     },
     "metadata": {},
     "output_type": "display_data"
    },
    {
     "name": "stdout",
     "output_type": "stream",
     "text": [
      "<tf.Variable 'Adam_2/learning_rate:0' shape=() dtype=float32>\n",
      "<tf.Variable 'Adam_2/learning_rate:0' shape=() dtype=float32>\n",
      "Original Data Shape (selected):  (2500, 36)\n",
      "Original Data Shape (encoded):  (2500, 36)\n",
      "Original Data Class Distribution:  1542  (true) / 958  (false)\n",
      "(1500, 36) (1500,)\n",
      "(500, 36) (500,)\n",
      "(500, 36) (500,)\n",
      "Min Ratio:  0.38066666666666665\n",
      "Min Ratio:  0.5\n",
      "Min Ratio:  0.385\n",
      "Min Ratio:  0.5\n"
     ]
    },
    {
     "data": {
      "application/vnd.jupyter.widget-view+json": {
       "model_id": "dd65036a59b24dafbab253aacb3362a4",
       "version_major": 2,
       "version_minor": 0
      },
      "text/plain": [
       "restarts:   0%|          | 0/1 [00:00<?, ?it/s]"
      ]
     },
     "metadata": {},
     "output_type": "display_data"
    },
    {
     "data": {
      "application/vnd.jupyter.widget-view+json": {
       "model_id": "21c5c1ae2aa24b5baff2ba282e9b0e23",
       "version_major": 2,
       "version_minor": 0
      },
      "text/plain": [
       "epochs:   0%|          | 0/1 [00:00<?, ?it/s]"
      ]
     },
     "metadata": {},
     "output_type": "display_data"
    },
    {
     "name": "stdout",
     "output_type": "stream",
     "text": [
      "<tf.Variable 'Adam_2/learning_rate:0' shape=() dtype=float32>\n",
      "<tf.Variable 'Adam_2/learning_rate:0' shape=() dtype=float32>\n",
      "Original Data Shape (selected):  (2500, 36)\n",
      "Original Data Shape (encoded):  (2500, 36)\n",
      "Original Data Class Distribution:  1527  (true) / 973  (false)\n",
      "(1500, 36) (1500,)\n",
      "(500, 36) (500,)\n",
      "(500, 36) (500,)\n",
      "Min Ratio:  0.382\n",
      "Min Ratio:  0.5\n",
      "Min Ratio:  0.3875\n",
      "Min Ratio:  0.5\n"
     ]
    },
    {
     "data": {
      "application/vnd.jupyter.widget-view+json": {
       "model_id": "1654f895da8641d386578eba5354c1a3",
       "version_major": 2,
       "version_minor": 0
      },
      "text/plain": [
       "restarts:   0%|          | 0/1 [00:00<?, ?it/s]"
      ]
     },
     "metadata": {},
     "output_type": "display_data"
    },
    {
     "data": {
      "application/vnd.jupyter.widget-view+json": {
       "model_id": "c01e8212ce754eaeb82bb7a9cda2dd7c",
       "version_major": 2,
       "version_minor": 0
      },
      "text/plain": [
       "epochs:   0%|          | 0/1 [00:00<?, ?it/s]"
      ]
     },
     "metadata": {},
     "output_type": "display_data"
    },
    {
     "name": "stdout",
     "output_type": "stream",
     "text": [
      "<tf.Variable 'Adam_2/learning_rate:0' shape=() dtype=float32>\n",
      "<tf.Variable 'Adam_2/learning_rate:0' shape=() dtype=float32>\n",
      "Original Data Shape (selected):  (2500, 36)\n",
      "Original Data Shape (encoded):  (2500, 36)\n",
      "Original Data Class Distribution:  1530  (true) / 970  (false)\n",
      "(1500, 36) (1500,)\n",
      "(500, 36) (500,)\n",
      "(500, 36) (500,)\n",
      "Min Ratio:  0.3873333333333333\n",
      "Min Ratio:  0.5\n",
      "Min Ratio:  0.3885\n",
      "Min Ratio:  0.5\n"
     ]
    },
    {
     "data": {
      "application/vnd.jupyter.widget-view+json": {
       "model_id": "d97037db977442eba8dab29001a12b6e",
       "version_major": 2,
       "version_minor": 0
      },
      "text/plain": [
       "restarts:   0%|          | 0/1 [00:00<?, ?it/s]"
      ]
     },
     "metadata": {},
     "output_type": "display_data"
    },
    {
     "data": {
      "application/vnd.jupyter.widget-view+json": {
       "model_id": "7238d2e83d3e4fb6a001dc47881671f4",
       "version_major": 2,
       "version_minor": 0
      },
      "text/plain": [
       "epochs:   0%|          | 0/1 [00:00<?, ?it/s]"
      ]
     },
     "metadata": {},
     "output_type": "display_data"
    },
    {
     "name": "stdout",
     "output_type": "stream",
     "text": [
      "<tf.Variable 'Adam_2/learning_rate:0' shape=() dtype=float32>\n",
      "<tf.Variable 'Adam_2/learning_rate:0' shape=() dtype=float32>\n",
      "Original Data Shape (selected):  (2500, 36)\n",
      "Original Data Shape (encoded):  (2500, 36)\n",
      "Original Data Class Distribution:  1593  (true) / 907  (false)\n",
      "(1500, 36) (1500,)\n",
      "(500, 36) (500,)\n",
      "(500, 36) (500,)\n",
      "Min Ratio:  0.36733333333333335\n",
      "Min Ratio:  0.5\n",
      "Min Ratio:  0.3635\n",
      "Min Ratio:  0.5\n"
     ]
    },
    {
     "data": {
      "application/vnd.jupyter.widget-view+json": {
       "model_id": "d81c64086dd44119b3903bed12fa76eb",
       "version_major": 2,
       "version_minor": 0
      },
      "text/plain": [
       "restarts:   0%|          | 0/1 [00:00<?, ?it/s]"
      ]
     },
     "metadata": {},
     "output_type": "display_data"
    },
    {
     "data": {
      "application/vnd.jupyter.widget-view+json": {
       "model_id": "cbbbbe93e22d44ce86af99bf89798ba3",
       "version_major": 2,
       "version_minor": 0
      },
      "text/plain": [
       "epochs:   0%|          | 0/1 [00:00<?, ?it/s]"
      ]
     },
     "metadata": {},
     "output_type": "display_data"
    },
    {
     "name": "stdout",
     "output_type": "stream",
     "text": [
      "<tf.Variable 'Adam_2/learning_rate:0' shape=() dtype=float32>\n",
      "<tf.Variable 'Adam_2/learning_rate:0' shape=() dtype=float32>\n",
      "Original Data Shape (selected):  (2500, 36)\n",
      "Original Data Shape (encoded):  (2500, 36)\n",
      "Original Data Class Distribution:  1548  (true) / 952  (false)\n",
      "(1500, 36) (1500,)\n",
      "(500, 36) (500,)\n",
      "(500, 36) (500,)\n",
      "Min Ratio:  0.37866666666666665\n",
      "Min Ratio:  0.5\n",
      "Min Ratio:  0.3825\n",
      "Min Ratio:  0.5\n"
     ]
    },
    {
     "data": {
      "application/vnd.jupyter.widget-view+json": {
       "model_id": "d610c47e47e44dec85d277a8a04c78c2",
       "version_major": 2,
       "version_minor": 0
      },
      "text/plain": [
       "restarts:   0%|          | 0/1 [00:00<?, ?it/s]"
      ]
     },
     "metadata": {},
     "output_type": "display_data"
    },
    {
     "data": {
      "application/vnd.jupyter.widget-view+json": {
       "model_id": "1704499c2b654e5689fa9dc1a5f5d4b0",
       "version_major": 2,
       "version_minor": 0
      },
      "text/plain": [
       "epochs:   0%|          | 0/1 [00:00<?, ?it/s]"
      ]
     },
     "metadata": {},
     "output_type": "display_data"
    },
    {
     "name": "stdout",
     "output_type": "stream",
     "text": [
      "<tf.Variable 'Adam_2/learning_rate:0' shape=() dtype=float32>\n",
      "<tf.Variable 'Adam_2/learning_rate:0' shape=() dtype=float32>\n",
      "Original Data Shape (selected):  (2500, 36)\n",
      "Original Data Shape (encoded):  (2500, 36)\n",
      "Original Data Class Distribution:  1558  (true) / 942  (false)\n",
      "(1500, 36) (1500,)\n",
      "(500, 36) (500,)\n",
      "(500, 36) (500,)\n",
      "Min Ratio:  0.38\n",
      "Min Ratio:  0.5\n",
      "Min Ratio:  0.3785\n",
      "Min Ratio:  0.5\n"
     ]
    },
    {
     "data": {
      "application/vnd.jupyter.widget-view+json": {
       "model_id": "f4b7b53e1eb64d4d851c8a64e49e1159",
       "version_major": 2,
       "version_minor": 0
      },
      "text/plain": [
       "restarts:   0%|          | 0/1 [00:00<?, ?it/s]"
      ]
     },
     "metadata": {},
     "output_type": "display_data"
    },
    {
     "data": {
      "application/vnd.jupyter.widget-view+json": {
       "model_id": "399f9dc41b524ffb8e2bfb011f100586",
       "version_major": 2,
       "version_minor": 0
      },
      "text/plain": [
       "epochs:   0%|          | 0/1 [00:00<?, ?it/s]"
      ]
     },
     "metadata": {},
     "output_type": "display_data"
    },
    {
     "name": "stdout",
     "output_type": "stream",
     "text": [
      "<tf.Variable 'Adam_2/learning_rate:0' shape=() dtype=float32>\n",
      "<tf.Variable 'Adam_2/learning_rate:0' shape=() dtype=float32>\n",
      "Original Data Shape (selected):  (2500, 36)\n",
      "Original Data Shape (encoded):  (2500, 36)\n",
      "Original Data Class Distribution:  1567  (true) / 933  (false)\n",
      "(1500, 36) (1500,)\n",
      "(500, 36) (500,)\n",
      "(500, 36) (500,)\n",
      "Min Ratio:  0.384\n",
      "Min Ratio:  0.5\n",
      "Min Ratio:  0.378\n",
      "Min Ratio:  0.5\n"
     ]
    },
    {
     "data": {
      "application/vnd.jupyter.widget-view+json": {
       "model_id": "e627fb1d31044741a1dfe1943f96306a",
       "version_major": 2,
       "version_minor": 0
      },
      "text/plain": [
       "restarts:   0%|          | 0/1 [00:00<?, ?it/s]"
      ]
     },
     "metadata": {},
     "output_type": "display_data"
    },
    {
     "data": {
      "application/vnd.jupyter.widget-view+json": {
       "model_id": "7e461db0ecf04f12859ca02904dd39fc",
       "version_major": 2,
       "version_minor": 0
      },
      "text/plain": [
       "epochs:   0%|          | 0/1 [00:00<?, ?it/s]"
      ]
     },
     "metadata": {},
     "output_type": "display_data"
    },
    {
     "name": "stdout",
     "output_type": "stream",
     "text": [
      "<tf.Variable 'Adam_2/learning_rate:0' shape=() dtype=float32>\n",
      "<tf.Variable 'Adam_2/learning_rate:0' shape=() dtype=float32>\n",
      "Original Data Shape (selected):  (2500, 36)\n",
      "Original Data Shape (encoded):  (2500, 36)\n",
      "Original Data Class Distribution:  1511  (true) / 989  (false)\n",
      "(1500, 36) (1500,)\n",
      "(500, 36) (500,)\n",
      "(500, 36) (500,)\n",
      "Min Ratio:  0.4033333333333333\n",
      "Min Ratio:  0.5\n",
      "Min Ratio:  0.3975\n",
      "Min Ratio:  0.5\n"
     ]
    },
    {
     "data": {
      "application/vnd.jupyter.widget-view+json": {
       "model_id": "149beff3d638433aacf965564a2b1984",
       "version_major": 2,
       "version_minor": 0
      },
      "text/plain": [
       "restarts:   0%|          | 0/1 [00:00<?, ?it/s]"
      ]
     },
     "metadata": {},
     "output_type": "display_data"
    },
    {
     "data": {
      "application/vnd.jupyter.widget-view+json": {
       "model_id": "0158ec807bbe40bd9be3c0c7f3b66315",
       "version_major": 2,
       "version_minor": 0
      },
      "text/plain": [
       "epochs:   0%|          | 0/1 [00:00<?, ?it/s]"
      ]
     },
     "metadata": {},
     "output_type": "display_data"
    },
    {
     "name": "stdout",
     "output_type": "stream",
     "text": [
      "<tf.Variable 'Adam_2/learning_rate:0' shape=() dtype=float32>\n",
      "<tf.Variable 'Adam_2/learning_rate:0' shape=() dtype=float32>\n",
      "Original Data Shape (selected):  (2500, 36)\n",
      "Original Data Shape (encoded):  (2500, 36)\n",
      "Original Data Class Distribution:  1548  (true) / 952  (false)\n",
      "(1500, 36) (1500,)\n",
      "(500, 36) (500,)\n",
      "(500, 36) (500,)\n",
      "Min Ratio:  0.394\n",
      "Min Ratio:  0.5\n",
      "Min Ratio:  0.3805\n",
      "Min Ratio:  0.5\n"
     ]
    },
    {
     "data": {
      "application/vnd.jupyter.widget-view+json": {
       "model_id": "bae830f19d9147cb9ee8239482c4e432",
       "version_major": 2,
       "version_minor": 0
      },
      "text/plain": [
       "restarts:   0%|          | 0/1 [00:00<?, ?it/s]"
      ]
     },
     "metadata": {},
     "output_type": "display_data"
    },
    {
     "data": {
      "application/vnd.jupyter.widget-view+json": {
       "model_id": "b8b5067599ff49998a2026dd19c22dd8",
       "version_major": 2,
       "version_minor": 0
      },
      "text/plain": [
       "epochs:   0%|          | 0/1 [00:00<?, ?it/s]"
      ]
     },
     "metadata": {},
     "output_type": "display_data"
    },
    {
     "name": "stdout",
     "output_type": "stream",
     "text": [
      "<tf.Variable 'Adam_2/learning_rate:0' shape=() dtype=float32>\n",
      "<tf.Variable 'Adam_2/learning_rate:0' shape=() dtype=float32>\n",
      "Original Data Shape (selected):  (2500, 36)\n",
      "Original Data Shape (encoded):  (2500, 36)\n",
      "Original Data Class Distribution:  1545  (true) / 955  (false)\n",
      "(1500, 36) (1500,)\n",
      "(500, 36) (500,)\n",
      "(500, 36) (500,)\n",
      "Min Ratio:  0.39\n",
      "Min Ratio:  0.5\n",
      "Min Ratio:  0.3845\n",
      "Min Ratio:  0.5\n"
     ]
    },
    {
     "data": {
      "application/vnd.jupyter.widget-view+json": {
       "model_id": "8f6a474f4aa64fe5b3fffea7505ee466",
       "version_major": 2,
       "version_minor": 0
      },
      "text/plain": [
       "restarts:   0%|          | 0/1 [00:00<?, ?it/s]"
      ]
     },
     "metadata": {},
     "output_type": "display_data"
    },
    {
     "data": {
      "application/vnd.jupyter.widget-view+json": {
       "model_id": "50f74bbbcc784b5198e48f5315f382a7",
       "version_major": 2,
       "version_minor": 0
      },
      "text/plain": [
       "epochs:   0%|          | 0/1 [00:00<?, ?it/s]"
      ]
     },
     "metadata": {},
     "output_type": "display_data"
    },
    {
     "name": "stdout",
     "output_type": "stream",
     "text": [
      "<tf.Variable 'Adam_2/learning_rate:0' shape=() dtype=float32>\n",
      "<tf.Variable 'Adam_2/learning_rate:0' shape=() dtype=float32>\n",
      "Original Data Shape (selected):  (2500, 36)\n",
      "Original Data Shape (encoded):  (2500, 36)\n",
      "Original Data Class Distribution:  1540  (true) / 960  (false)\n",
      "(1500, 36) (1500,)\n",
      "(500, 36) (500,)\n",
      "(500, 36) (500,)\n",
      "Min Ratio:  0.3893333333333333\n",
      "Min Ratio:  0.5\n",
      "Min Ratio:  0.389\n",
      "Min Ratio:  0.5\n"
     ]
    },
    {
     "data": {
      "application/vnd.jupyter.widget-view+json": {
       "model_id": "911322ba06184a39b55236fce298f6cf",
       "version_major": 2,
       "version_minor": 0
      },
      "text/plain": [
       "restarts:   0%|          | 0/1 [00:00<?, ?it/s]"
      ]
     },
     "metadata": {},
     "output_type": "display_data"
    },
    {
     "data": {
      "application/vnd.jupyter.widget-view+json": {
       "model_id": "3a5207ba43ee4b4a80c96fed622e617c",
       "version_major": 2,
       "version_minor": 0
      },
      "text/plain": [
       "epochs:   0%|          | 0/1 [00:00<?, ?it/s]"
      ]
     },
     "metadata": {},
     "output_type": "display_data"
    },
    {
     "name": "stdout",
     "output_type": "stream",
     "text": [
      "<tf.Variable 'Adam_2/learning_rate:0' shape=() dtype=float32>\n",
      "<tf.Variable 'Adam_2/learning_rate:0' shape=() dtype=float32>\n",
      "Original Data Shape (selected):  (2500, 36)\n",
      "Original Data Shape (encoded):  (2500, 36)\n",
      "Original Data Class Distribution:  1570  (true) / 930  (false)\n",
      "(1500, 36) (1500,)\n",
      "(500, 36) (500,)\n",
      "(500, 36) (500,)\n",
      "Min Ratio:  0.38066666666666665\n",
      "Min Ratio:  0.5\n",
      "Min Ratio:  0.3735\n",
      "Min Ratio:  0.5\n"
     ]
    },
    {
     "data": {
      "application/vnd.jupyter.widget-view+json": {
       "model_id": "c3b744d2e7f442a9b8492b701260fdff",
       "version_major": 2,
       "version_minor": 0
      },
      "text/plain": [
       "restarts:   0%|          | 0/1 [00:00<?, ?it/s]"
      ]
     },
     "metadata": {},
     "output_type": "display_data"
    },
    {
     "data": {
      "application/vnd.jupyter.widget-view+json": {
       "model_id": "24a18a6e7d2548d08eea7e59f3fe4ad8",
       "version_major": 2,
       "version_minor": 0
      },
      "text/plain": [
       "epochs:   0%|          | 0/1 [00:00<?, ?it/s]"
      ]
     },
     "metadata": {},
     "output_type": "display_data"
    },
    {
     "name": "stdout",
     "output_type": "stream",
     "text": [
      "<tf.Variable 'Adam_2/learning_rate:0' shape=() dtype=float32>\n",
      "<tf.Variable 'Adam_2/learning_rate:0' shape=() dtype=float32>\n",
      "Original Data Shape (selected):  (2500, 36)\n",
      "Original Data Shape (encoded):  (2500, 36)\n",
      "Original Data Class Distribution:  1558  (true) / 942  (false)\n",
      "(1500, 36) (1500,)\n",
      "(500, 36) (500,)\n",
      "(500, 36) (500,)\n",
      "Min Ratio:  0.378\n",
      "Min Ratio:  0.5\n",
      "Min Ratio:  0.3765\n",
      "Min Ratio:  0.5\n"
     ]
    },
    {
     "data": {
      "application/vnd.jupyter.widget-view+json": {
       "model_id": "b0daeda609054bfa9fa4963ed8881ab3",
       "version_major": 2,
       "version_minor": 0
      },
      "text/plain": [
       "restarts:   0%|          | 0/1 [00:00<?, ?it/s]"
      ]
     },
     "metadata": {},
     "output_type": "display_data"
    },
    {
     "data": {
      "application/vnd.jupyter.widget-view+json": {
       "model_id": "7dee0d7c3e32454eac595a955f87d9a7",
       "version_major": 2,
       "version_minor": 0
      },
      "text/plain": [
       "epochs:   0%|          | 0/1 [00:00<?, ?it/s]"
      ]
     },
     "metadata": {},
     "output_type": "display_data"
    },
    {
     "name": "stdout",
     "output_type": "stream",
     "text": [
      "<tf.Variable 'Adam_2/learning_rate:0' shape=() dtype=float32>\n",
      "<tf.Variable 'Adam_2/learning_rate:0' shape=() dtype=float32>\n",
      "Original Data Shape (selected):  (2500, 36)\n",
      "Original Data Shape (encoded):  (2500, 36)\n",
      "Original Data Class Distribution:  1534  (true) / 966  (false)\n",
      "(1500, 36) (1500,)\n",
      "(500, 36) (500,)\n",
      "(500, 36) (500,)\n",
      "Min Ratio:  0.376\n",
      "Min Ratio:  0.5\n",
      "Min Ratio:  0.3845\n",
      "Min Ratio:  0.5\n"
     ]
    },
    {
     "data": {
      "application/vnd.jupyter.widget-view+json": {
       "model_id": "e70cb89d7e2f44139945bfed3b365668",
       "version_major": 2,
       "version_minor": 0
      },
      "text/plain": [
       "restarts:   0%|          | 0/1 [00:00<?, ?it/s]"
      ]
     },
     "metadata": {},
     "output_type": "display_data"
    },
    {
     "data": {
      "application/vnd.jupyter.widget-view+json": {
       "model_id": "127d67c0980042b0a2723151e8a2ba18",
       "version_major": 2,
       "version_minor": 0
      },
      "text/plain": [
       "epochs:   0%|          | 0/1 [00:00<?, ?it/s]"
      ]
     },
     "metadata": {},
     "output_type": "display_data"
    },
    {
     "name": "stdout",
     "output_type": "stream",
     "text": [
      "<tf.Variable 'Adam_2/learning_rate:0' shape=() dtype=float32>\n",
      "<tf.Variable 'Adam_2/learning_rate:0' shape=() dtype=float32>\n",
      "Original Data Shape (selected):  (2500, 36)\n",
      "Original Data Shape (encoded):  (2500, 36)\n",
      "Original Data Class Distribution:  1495  (true) / 1005  (false)\n",
      "(1500, 36) (1500,)\n",
      "(500, 36) (500,)\n",
      "(500, 36) (500,)\n",
      "Min Ratio:  0.4026666666666667\n",
      "Min Ratio:  0.5\n",
      "Min Ratio:  0.4025\n",
      "Min Ratio:  0.5\n"
     ]
    },
    {
     "data": {
      "application/vnd.jupyter.widget-view+json": {
       "model_id": "f5d6a89f4e9e4173acd0d9929e0a435a",
       "version_major": 2,
       "version_minor": 0
      },
      "text/plain": [
       "restarts:   0%|          | 0/1 [00:00<?, ?it/s]"
      ]
     },
     "metadata": {},
     "output_type": "display_data"
    },
    {
     "data": {
      "application/vnd.jupyter.widget-view+json": {
       "model_id": "2071571c32944eb193fd2fa24417cfdf",
       "version_major": 2,
       "version_minor": 0
      },
      "text/plain": [
       "epochs:   0%|          | 0/1 [00:00<?, ?it/s]"
      ]
     },
     "metadata": {},
     "output_type": "display_data"
    },
    {
     "name": "stdout",
     "output_type": "stream",
     "text": [
      "<tf.Variable 'Adam_2/learning_rate:0' shape=() dtype=float32>\n",
      "Original Data Shape (selected):  (2500, 36)\n",
      "Original Data Shape (encoded):  (2500, 36)\n",
      "Original Data Class Distribution:  1564  (true) / 936  (false)\n",
      "(1500, 36) (1500,)\n",
      "(500, 36) (500,)\n",
      "(500, 36) (500,)\n",
      "Min Ratio:  0.36466666666666664\n",
      "Min Ratio:  0.5\n",
      "Min Ratio:  0.362\n",
      "Min Ratio:  0.5\n"
     ]
    },
    {
     "data": {
      "application/vnd.jupyter.widget-view+json": {
       "model_id": "00aba89e6f294b36a493b1a6cfd13bc7",
       "version_major": 2,
       "version_minor": 0
      },
      "text/plain": [
       "restarts:   0%|          | 0/1 [00:00<?, ?it/s]"
      ]
     },
     "metadata": {},
     "output_type": "display_data"
    },
    {
     "data": {
      "application/vnd.jupyter.widget-view+json": {
       "model_id": "ba4d2503bc954455b09801ba4f1401b4",
       "version_major": 2,
       "version_minor": 0
      },
      "text/plain": [
       "epochs:   0%|          | 0/1 [00:00<?, ?it/s]"
      ]
     },
     "metadata": {},
     "output_type": "display_data"
    },
    {
     "name": "stdout",
     "output_type": "stream",
     "text": [
      "<tf.Variable 'Adam_2/learning_rate:0' shape=() dtype=float32>\n",
      "<tf.Variable 'Adam_2/learning_rate:0' shape=() dtype=float32>\n",
      "Original Data Shape (selected):  (2500, 36)\n",
      "Original Data Shape (encoded):  (2500, 36)\n",
      "Original Data Class Distribution:  1489  (true) / 1011  (false)\n",
      "(1500, 36) (1500,)\n",
      "(500, 36) (500,)\n",
      "(500, 36) (500,)\n",
      "Min Ratio:  0.37666666666666665\n",
      "Min Ratio:  0.5\n",
      "Min Ratio:  0.394\n",
      "Min Ratio:  0.5\n"
     ]
    },
    {
     "data": {
      "application/vnd.jupyter.widget-view+json": {
       "model_id": "19fa0f5e32a44de5bd185b77c86fb633",
       "version_major": 2,
       "version_minor": 0
      },
      "text/plain": [
       "restarts:   0%|          | 0/1 [00:00<?, ?it/s]"
      ]
     },
     "metadata": {},
     "output_type": "display_data"
    },
    {
     "data": {
      "application/vnd.jupyter.widget-view+json": {
       "model_id": "9cfef5ece8104d2d9f4578dd8def3166",
       "version_major": 2,
       "version_minor": 0
      },
      "text/plain": [
       "epochs:   0%|          | 0/1 [00:00<?, ?it/s]"
      ]
     },
     "metadata": {},
     "output_type": "display_data"
    },
    {
     "name": "stdout",
     "output_type": "stream",
     "text": [
      "<tf.Variable 'Adam_2/learning_rate:0' shape=() dtype=float32>\n",
      "<tf.Variable 'Adam_2/learning_rate:0' shape=() dtype=float32>\n",
      "Original Data Shape (selected):  (2500, 36)\n",
      "Original Data Shape (encoded):  (2500, 36)\n",
      "Original Data Class Distribution:  1490  (true) / 1010  (false)\n",
      "(1500, 36) (1500,)\n",
      "(500, 36) (500,)\n",
      "(500, 36) (500,)\n",
      "Min Ratio:  0.408\n",
      "Min Ratio:  0.5\n",
      "Min Ratio:  0.4095\n",
      "Min Ratio:  0.5\n"
     ]
    },
    {
     "data": {
      "application/vnd.jupyter.widget-view+json": {
       "model_id": "af61030888b94866956bd0feb7ae8f68",
       "version_major": 2,
       "version_minor": 0
      },
      "text/plain": [
       "restarts:   0%|          | 0/1 [00:00<?, ?it/s]"
      ]
     },
     "metadata": {},
     "output_type": "display_data"
    },
    {
     "data": {
      "application/vnd.jupyter.widget-view+json": {
       "model_id": "739bd1628d114359a74563c6a25ffbfa",
       "version_major": 2,
       "version_minor": 0
      },
      "text/plain": [
       "epochs:   0%|          | 0/1 [00:00<?, ?it/s]"
      ]
     },
     "metadata": {},
     "output_type": "display_data"
    },
    {
     "name": "stdout",
     "output_type": "stream",
     "text": [
      "<tf.Variable 'Adam_2/learning_rate:0' shape=() dtype=float32>\n",
      "<tf.Variable 'Adam_2/learning_rate:0' shape=() dtype=float32>\n",
      "Original Data Shape (selected):  (2500, 36)\n",
      "Original Data Shape (encoded):  (2500, 36)\n",
      "Original Data Class Distribution:  1552  (true) / 948  (false)\n",
      "(1500, 36) (1500,)\n",
      "(500, 36) (500,)\n",
      "(500, 36) (500,)\n",
      "Min Ratio:  0.39066666666666666\n",
      "Min Ratio:  0.5\n",
      "Min Ratio:  0.388\n",
      "Min Ratio:  0.5\n"
     ]
    },
    {
     "data": {
      "application/vnd.jupyter.widget-view+json": {
       "model_id": "fc13afa865d34cce835733000e5f4507",
       "version_major": 2,
       "version_minor": 0
      },
      "text/plain": [
       "restarts:   0%|          | 0/1 [00:00<?, ?it/s]"
      ]
     },
     "metadata": {},
     "output_type": "display_data"
    },
    {
     "data": {
      "application/vnd.jupyter.widget-view+json": {
       "model_id": "1ef08f5832a34fb2b86a4a9da36768d7",
       "version_major": 2,
       "version_minor": 0
      },
      "text/plain": [
       "epochs:   0%|          | 0/1 [00:00<?, ?it/s]"
      ]
     },
     "metadata": {},
     "output_type": "display_data"
    },
    {
     "name": "stdout",
     "output_type": "stream",
     "text": [
      "<tf.Variable 'Adam_2/learning_rate:0' shape=() dtype=float32>\n",
      "<tf.Variable 'Adam_2/learning_rate:0' shape=() dtype=float32>\n",
      "Original Data Shape (selected):  (2500, 36)\n",
      "Original Data Shape (encoded):  (2500, 36)\n",
      "Original Data Class Distribution:  1546  (true) / 954  (false)\n",
      "(1500, 36) (1500,)\n",
      "(500, 36) (500,)\n",
      "(500, 36) (500,)\n",
      "Min Ratio:  0.38333333333333336\n",
      "Min Ratio:  0.5\n",
      "Min Ratio:  0.3825\n",
      "Min Ratio:  0.5\n"
     ]
    },
    {
     "data": {
      "application/vnd.jupyter.widget-view+json": {
       "model_id": "fdac48016fe645efae7854c3222ce3ea",
       "version_major": 2,
       "version_minor": 0
      },
      "text/plain": [
       "restarts:   0%|          | 0/1 [00:00<?, ?it/s]"
      ]
     },
     "metadata": {},
     "output_type": "display_data"
    },
    {
     "data": {
      "application/vnd.jupyter.widget-view+json": {
       "model_id": "fa7e9bb235494d5a8c6584cb0bbd1719",
       "version_major": 2,
       "version_minor": 0
      },
      "text/plain": [
       "epochs:   0%|          | 0/1 [00:00<?, ?it/s]"
      ]
     },
     "metadata": {},
     "output_type": "display_data"
    },
    {
     "name": "stdout",
     "output_type": "stream",
     "text": [
      "<tf.Variable 'Adam_2/learning_rate:0' shape=() dtype=float32>\n",
      "<tf.Variable 'Adam_2/learning_rate:0' shape=() dtype=float32>\n",
      "Original Data Shape (selected):  (2500, 36)\n",
      "Original Data Shape (encoded):  (2500, 36)\n",
      "Original Data Class Distribution:  1605  (true) / 895  (false)\n",
      "(1500, 36) (1500,)\n",
      "(500, 36) (500,)\n",
      "(500, 36) (500,)\n",
      "Min Ratio:  0.3526666666666667\n",
      "Min Ratio:  0.5\n",
      "Min Ratio:  0.359\n",
      "Min Ratio:  0.5\n"
     ]
    },
    {
     "data": {
      "application/vnd.jupyter.widget-view+json": {
       "model_id": "019d810db8f34d7d8d685f461cb6d11e",
       "version_major": 2,
       "version_minor": 0
      },
      "text/plain": [
       "restarts:   0%|          | 0/1 [00:00<?, ?it/s]"
      ]
     },
     "metadata": {},
     "output_type": "display_data"
    },
    {
     "data": {
      "application/vnd.jupyter.widget-view+json": {
       "model_id": "e39b1e421a4f4b5a86bb23dc6ef27fdb",
       "version_major": 2,
       "version_minor": 0
      },
      "text/plain": [
       "epochs:   0%|          | 0/1 [00:00<?, ?it/s]"
      ]
     },
     "metadata": {},
     "output_type": "display_data"
    },
    {
     "name": "stdout",
     "output_type": "stream",
     "text": [
      "<tf.Variable 'Adam_2/learning_rate:0' shape=() dtype=float32>\n",
      "<tf.Variable 'Adam_2/learning_rate:0' shape=() dtype=float32>\n",
      "Original Data Shape (selected):  (2500, 36)\n",
      "Original Data Shape (encoded):  (2500, 36)\n",
      "Original Data Class Distribution:  1556  (true) / 944  (false)\n",
      "(1500, 36) (1500,)\n",
      "(500, 36) (500,)\n",
      "(500, 36) (500,)\n",
      "Min Ratio:  0.38666666666666666\n",
      "Min Ratio:  0.5\n",
      "Min Ratio:  0.3825\n",
      "Min Ratio:  0.5\n"
     ]
    },
    {
     "data": {
      "application/vnd.jupyter.widget-view+json": {
       "model_id": "0d4115538a534bbabbac6cb96abf7483",
       "version_major": 2,
       "version_minor": 0
      },
      "text/plain": [
       "restarts:   0%|          | 0/1 [00:00<?, ?it/s]"
      ]
     },
     "metadata": {},
     "output_type": "display_data"
    },
    {
     "data": {
      "application/vnd.jupyter.widget-view+json": {
       "model_id": "45f466c31eea412eb61657576aa082d2",
       "version_major": 2,
       "version_minor": 0
      },
      "text/plain": [
       "epochs:   0%|          | 0/1 [00:00<?, ?it/s]"
      ]
     },
     "metadata": {},
     "output_type": "display_data"
    },
    {
     "name": "stdout",
     "output_type": "stream",
     "text": [
      "<tf.Variable 'Adam_2/learning_rate:0' shape=() dtype=float32>\n",
      "<tf.Variable 'Adam_2/learning_rate:0' shape=() dtype=float32>\n",
      "Original Data Shape (selected):  (2500, 36)\n",
      "Original Data Shape (encoded):  (2500, 36)\n",
      "Original Data Class Distribution:  1501  (true) / 999  (false)\n",
      "(1500, 36) (1500,)\n",
      "(500, 36) (500,)\n",
      "(500, 36) (500,)\n",
      "Min Ratio:  0.38133333333333336\n",
      "Min Ratio:  0.5\n",
      "Min Ratio:  0.3955\n",
      "Min Ratio:  0.5\n"
     ]
    },
    {
     "data": {
      "application/vnd.jupyter.widget-view+json": {
       "model_id": "0f7b4ca467414472bbdaa41e6a8bbbd7",
       "version_major": 2,
       "version_minor": 0
      },
      "text/plain": [
       "restarts:   0%|          | 0/1 [00:00<?, ?it/s]"
      ]
     },
     "metadata": {},
     "output_type": "display_data"
    },
    {
     "data": {
      "application/vnd.jupyter.widget-view+json": {
       "model_id": "5dc39c82634a4a0a8bdd034206674922",
       "version_major": 2,
       "version_minor": 0
      },
      "text/plain": [
       "epochs:   0%|          | 0/1 [00:00<?, ?it/s]"
      ]
     },
     "metadata": {},
     "output_type": "display_data"
    },
    {
     "name": "stdout",
     "output_type": "stream",
     "text": [
      "<tf.Variable 'Adam_2/learning_rate:0' shape=() dtype=float32>\n",
      "<tf.Variable 'Adam_2/learning_rate:0' shape=() dtype=float32>\n",
      "Original Data Shape (selected):  (2500, 36)\n",
      "Original Data Shape (encoded):  (2500, 36)\n",
      "Original Data Class Distribution:  1534  (true) / 966  (false)\n",
      "(1500, 36) (1500,)\n",
      "(500, 36) (500,)\n",
      "(500, 36) (500,)\n",
      "Min Ratio:  0.37333333333333335\n",
      "Min Ratio:  0.5\n",
      "Min Ratio:  0.383\n",
      "Min Ratio:  0.5\n"
     ]
    },
    {
     "data": {
      "application/vnd.jupyter.widget-view+json": {
       "model_id": "e9d98121751d462ba5f472169ad37053",
       "version_major": 2,
       "version_minor": 0
      },
      "text/plain": [
       "restarts:   0%|          | 0/1 [00:00<?, ?it/s]"
      ]
     },
     "metadata": {},
     "output_type": "display_data"
    },
    {
     "data": {
      "application/vnd.jupyter.widget-view+json": {
       "model_id": "a976826a71ac4934add2ca9b097d69f8",
       "version_major": 2,
       "version_minor": 0
      },
      "text/plain": [
       "epochs:   0%|          | 0/1 [00:00<?, ?it/s]"
      ]
     },
     "metadata": {},
     "output_type": "display_data"
    },
    {
     "name": "stdout",
     "output_type": "stream",
     "text": [
      "<tf.Variable 'Adam_2/learning_rate:0' shape=() dtype=float32>\n",
      "<tf.Variable 'Adam_2/learning_rate:0' shape=() dtype=float32>\n",
      "Original Data Shape (selected):  (2500, 36)\n",
      "Original Data Shape (encoded):  (2500, 36)\n",
      "Original Data Class Distribution:  1559  (true) / 941  (false)\n",
      "(1500, 36) (1500,)\n",
      "(500, 36) (500,)\n",
      "(500, 36) (500,)\n",
      "Min Ratio:  0.38533333333333336\n",
      "Min Ratio:  0.5\n",
      "Min Ratio:  0.377\n",
      "Min Ratio:  0.5\n"
     ]
    },
    {
     "data": {
      "application/vnd.jupyter.widget-view+json": {
       "model_id": "da41075426fb4cfb8b19c047a328a389",
       "version_major": 2,
       "version_minor": 0
      },
      "text/plain": [
       "restarts:   0%|          | 0/1 [00:00<?, ?it/s]"
      ]
     },
     "metadata": {},
     "output_type": "display_data"
    },
    {
     "data": {
      "application/vnd.jupyter.widget-view+json": {
       "model_id": "ff05ab122fa84de2b19edefa5a217ad4",
       "version_major": 2,
       "version_minor": 0
      },
      "text/plain": [
       "epochs:   0%|          | 0/1 [00:00<?, ?it/s]"
      ]
     },
     "metadata": {},
     "output_type": "display_data"
    },
    {
     "name": "stdout",
     "output_type": "stream",
     "text": [
      "<tf.Variable 'Adam_2/learning_rate:0' shape=() dtype=float32>\n",
      "<tf.Variable 'Adam_2/learning_rate:0' shape=() dtype=float32>\n",
      "Original Data Shape (selected):  (2500, 36)\n",
      "Original Data Shape (encoded):  (2500, 36)\n",
      "Original Data Class Distribution:  1529  (true) / 971  (false)\n",
      "(1500, 36) (1500,)\n",
      "(500, 36) (500,)\n",
      "(500, 36) (500,)\n",
      "Min Ratio:  0.38\n",
      "Min Ratio:  0.5\n",
      "Min Ratio:  0.3825\n",
      "Min Ratio:  0.5\n"
     ]
    },
    {
     "data": {
      "application/vnd.jupyter.widget-view+json": {
       "model_id": "69bf3fce5df24721bf61fa1e30af7ca5",
       "version_major": 2,
       "version_minor": 0
      },
      "text/plain": [
       "restarts:   0%|          | 0/1 [00:00<?, ?it/s]"
      ]
     },
     "metadata": {},
     "output_type": "display_data"
    },
    {
     "data": {
      "application/vnd.jupyter.widget-view+json": {
       "model_id": "1474758384ed4fe288da3332ed7cc62b",
       "version_major": 2,
       "version_minor": 0
      },
      "text/plain": [
       "epochs:   0%|          | 0/1 [00:00<?, ?it/s]"
      ]
     },
     "metadata": {},
     "output_type": "display_data"
    },
    {
     "name": "stdout",
     "output_type": "stream",
     "text": [
      "<tf.Variable 'Adam_2/learning_rate:0' shape=() dtype=float32>\n",
      "<tf.Variable 'Adam_2/learning_rate:0' shape=() dtype=float32>\n",
      "Original Data Shape (selected):  (2500, 36)\n",
      "Original Data Shape (encoded):  (2500, 36)\n",
      "Original Data Class Distribution:  1536  (true) / 964  (false)\n",
      "(1500, 36) (1500,)\n",
      "(500, 36) (500,)\n",
      "(500, 36) (500,)\n",
      "Min Ratio:  0.38866666666666666\n",
      "Min Ratio:  0.5\n",
      "Min Ratio:  0.391\n",
      "Min Ratio:  0.5\n"
     ]
    },
    {
     "data": {
      "application/vnd.jupyter.widget-view+json": {
       "model_id": "0589430812f445d9be864500adcb051f",
       "version_major": 2,
       "version_minor": 0
      },
      "text/plain": [
       "restarts:   0%|          | 0/1 [00:00<?, ?it/s]"
      ]
     },
     "metadata": {},
     "output_type": "display_data"
    },
    {
     "data": {
      "application/vnd.jupyter.widget-view+json": {
       "model_id": "6caa38c42e754f9d96b0688147eae678",
       "version_major": 2,
       "version_minor": 0
      },
      "text/plain": [
       "epochs:   0%|          | 0/1 [00:00<?, ?it/s]"
      ]
     },
     "metadata": {},
     "output_type": "display_data"
    },
    {
     "name": "stdout",
     "output_type": "stream",
     "text": [
      "<tf.Variable 'Adam_2/learning_rate:0' shape=() dtype=float32>\n",
      "<tf.Variable 'Adam_2/learning_rate:0' shape=() dtype=float32>\n",
      "Original Data Shape (selected):  (2500, 36)\n",
      "Original Data Shape (encoded):  (2500, 36)\n",
      "Original Data Class Distribution:  1583  (true) / 917  (false)\n",
      "(1500, 36) (1500,)\n",
      "(500, 36) (500,)\n",
      "(500, 36) (500,)\n",
      "Min Ratio:  0.3606666666666667\n",
      "Min Ratio:  0.5\n",
      "Min Ratio:  0.364\n",
      "Min Ratio:  0.5\n"
     ]
    },
    {
     "data": {
      "application/vnd.jupyter.widget-view+json": {
       "model_id": "59c670c693744370b2165bf2b5acf65a",
       "version_major": 2,
       "version_minor": 0
      },
      "text/plain": [
       "restarts:   0%|          | 0/1 [00:00<?, ?it/s]"
      ]
     },
     "metadata": {},
     "output_type": "display_data"
    },
    {
     "data": {
      "application/vnd.jupyter.widget-view+json": {
       "model_id": "92c8ba2ad1f845db91f61e305e30b5ff",
       "version_major": 2,
       "version_minor": 0
      },
      "text/plain": [
       "epochs:   0%|          | 0/1 [00:00<?, ?it/s]"
      ]
     },
     "metadata": {},
     "output_type": "display_data"
    },
    {
     "name": "stdout",
     "output_type": "stream",
     "text": [
      "<tf.Variable 'Adam_2/learning_rate:0' shape=() dtype=float32>\n",
      "<tf.Variable 'Adam_2/learning_rate:0' shape=() dtype=float32>\n",
      "Original Data Shape (selected):  (2500, 36)\n",
      "Original Data Shape (encoded):  (2500, 36)\n",
      "Original Data Class Distribution:  1529  (true) / 971  (false)\n",
      "(1500, 36) (1500,)\n",
      "(500, 36) (500,)\n",
      "(500, 36) (500,)\n",
      "Min Ratio:  0.4013333333333333\n",
      "Min Ratio:  0.5\n",
      "Min Ratio:  0.387\n",
      "Min Ratio:  0.5\n"
     ]
    },
    {
     "data": {
      "application/vnd.jupyter.widget-view+json": {
       "model_id": "813971c7e5ef4c6f9e813f0e656accd0",
       "version_major": 2,
       "version_minor": 0
      },
      "text/plain": [
       "restarts:   0%|          | 0/1 [00:00<?, ?it/s]"
      ]
     },
     "metadata": {},
     "output_type": "display_data"
    },
    {
     "data": {
      "application/vnd.jupyter.widget-view+json": {
       "model_id": "510ddcd1173f4d148a7e3a770febe765",
       "version_major": 2,
       "version_minor": 0
      },
      "text/plain": [
       "epochs:   0%|          | 0/1 [00:00<?, ?it/s]"
      ]
     },
     "metadata": {},
     "output_type": "display_data"
    },
    {
     "name": "stdout",
     "output_type": "stream",
     "text": [
      "<tf.Variable 'Adam_2/learning_rate:0' shape=() dtype=float32>\n",
      "<tf.Variable 'Adam_2/learning_rate:0' shape=() dtype=float32>\n",
      "Original Data Shape (selected):  (2500, 36)\n",
      "Original Data Shape (encoded):  (2500, 36)\n",
      "Original Data Class Distribution:  1532  (true) / 968  (false)\n",
      "(1500, 36) (1500,)\n",
      "(500, 36) (500,)\n",
      "(500, 36) (500,)\n",
      "Min Ratio:  0.37266666666666665\n",
      "Min Ratio:  0.5\n",
      "Min Ratio:  0.3745\n",
      "Min Ratio:  0.5\n"
     ]
    },
    {
     "data": {
      "application/vnd.jupyter.widget-view+json": {
       "model_id": "4a8c1da6312d4bc2a0443f8d15fd34cd",
       "version_major": 2,
       "version_minor": 0
      },
      "text/plain": [
       "restarts:   0%|          | 0/1 [00:00<?, ?it/s]"
      ]
     },
     "metadata": {},
     "output_type": "display_data"
    },
    {
     "data": {
      "application/vnd.jupyter.widget-view+json": {
       "model_id": "f0ad46cb07e64c75a61bc18882e6a926",
       "version_major": 2,
       "version_minor": 0
      },
      "text/plain": [
       "epochs:   0%|          | 0/1 [00:00<?, ?it/s]"
      ]
     },
     "metadata": {},
     "output_type": "display_data"
    },
    {
     "name": "stdout",
     "output_type": "stream",
     "text": [
      "<tf.Variable 'Adam_2/learning_rate:0' shape=() dtype=float32>\n",
      "<tf.Variable 'Adam_2/learning_rate:0' shape=() dtype=float32>\n",
      "Original Data Shape (selected):  (2500, 36)\n",
      "Original Data Shape (encoded):  (2500, 36)\n",
      "Original Data Class Distribution:  1518  (true) / 982  (false)\n",
      "(1500, 36) (1500,)\n",
      "(500, 36) (500,)\n",
      "(500, 36) (500,)\n",
      "Min Ratio:  0.4053333333333333\n",
      "Min Ratio:  0.5\n",
      "Min Ratio:  0.399\n",
      "Min Ratio:  0.5\n"
     ]
    },
    {
     "data": {
      "application/vnd.jupyter.widget-view+json": {
       "model_id": "75d96d12717743039dd7bd6261f3873a",
       "version_major": 2,
       "version_minor": 0
      },
      "text/plain": [
       "restarts:   0%|          | 0/1 [00:00<?, ?it/s]"
      ]
     },
     "metadata": {},
     "output_type": "display_data"
    },
    {
     "data": {
      "application/vnd.jupyter.widget-view+json": {
       "model_id": "8fefb4acf7ba451589bb86494a50ce5a",
       "version_major": 2,
       "version_minor": 0
      },
      "text/plain": [
       "epochs:   0%|          | 0/1 [00:00<?, ?it/s]"
      ]
     },
     "metadata": {},
     "output_type": "display_data"
    },
    {
     "name": "stdout",
     "output_type": "stream",
     "text": [
      "<tf.Variable 'Adam_2/learning_rate:0' shape=() dtype=float32>\n",
      "<tf.Variable 'Adam_2/learning_rate:0' shape=() dtype=float32>\n",
      "Original Data Shape (selected):  (2500, 36)\n",
      "Original Data Shape (encoded):  (2500, 36)\n",
      "Original Data Class Distribution:  1520  (true) / 980  (false)\n",
      "(1500, 36) (1500,)\n",
      "(500, 36) (500,)\n",
      "(500, 36) (500,)\n",
      "Min Ratio:  0.4046666666666667\n",
      "Min Ratio:  0.5\n",
      "Min Ratio:  0.3935\n",
      "Min Ratio:  0.5\n"
     ]
    },
    {
     "data": {
      "application/vnd.jupyter.widget-view+json": {
       "model_id": "f4d025100f8d4c7ab9000fa31aec4c13",
       "version_major": 2,
       "version_minor": 0
      },
      "text/plain": [
       "restarts:   0%|          | 0/1 [00:00<?, ?it/s]"
      ]
     },
     "metadata": {},
     "output_type": "display_data"
    },
    {
     "data": {
      "application/vnd.jupyter.widget-view+json": {
       "model_id": "b5550a2665a640b8b710550cf0a6c593",
       "version_major": 2,
       "version_minor": 0
      },
      "text/plain": [
       "epochs:   0%|          | 0/1 [00:00<?, ?it/s]"
      ]
     },
     "metadata": {},
     "output_type": "display_data"
    },
    {
     "name": "stdout",
     "output_type": "stream",
     "text": [
      "<tf.Variable 'Adam_2/learning_rate:0' shape=() dtype=float32>\n",
      "<tf.Variable 'Adam_2/learning_rate:0' shape=() dtype=float32>\n",
      "Original Data Shape (selected):  (2500, 36)\n",
      "Original Data Shape (encoded):  (2500, 36)\n",
      "Original Data Class Distribution:  1510  (true) / 990  (false)\n",
      "(1500, 36) (1500,)\n",
      "(500, 36) (500,)\n",
      "(500, 36) (500,)\n",
      "Min Ratio:  0.402\n",
      "Min Ratio:  0.5\n",
      "Min Ratio:  0.4105\n",
      "Min Ratio:  0.5\n"
     ]
    },
    {
     "data": {
      "application/vnd.jupyter.widget-view+json": {
       "model_id": "4612a6974b4d4e50aa76767b0b29e2b0",
       "version_major": 2,
       "version_minor": 0
      },
      "text/plain": [
       "restarts:   0%|          | 0/1 [00:00<?, ?it/s]"
      ]
     },
     "metadata": {},
     "output_type": "display_data"
    },
    {
     "data": {
      "application/vnd.jupyter.widget-view+json": {
       "model_id": "937c55bedb824c53917bfc5760849485",
       "version_major": 2,
       "version_minor": 0
      },
      "text/plain": [
       "epochs:   0%|          | 0/1 [00:00<?, ?it/s]"
      ]
     },
     "metadata": {},
     "output_type": "display_data"
    },
    {
     "name": "stdout",
     "output_type": "stream",
     "text": [
      "<tf.Variable 'Adam_2/learning_rate:0' shape=() dtype=float32>\n",
      "<tf.Variable 'Adam_2/learning_rate:0' shape=() dtype=float32>\n",
      "Original Data Shape (selected):  (2500, 36)\n",
      "Original Data Shape (encoded):  (2500, 36)\n",
      "Original Data Class Distribution:  1516  (true) / 984  (false)\n",
      "(1500, 36) (1500,)\n",
      "(500, 36) (500,)\n",
      "(500, 36) (500,)\n",
      "Min Ratio:  0.3873333333333333\n",
      "Min Ratio:  0.5\n",
      "Min Ratio:  0.394\n",
      "Min Ratio:  0.5\n"
     ]
    },
    {
     "data": {
      "application/vnd.jupyter.widget-view+json": {
       "model_id": "9928a3b92f8a454c8f87a1867e553ab1",
       "version_major": 2,
       "version_minor": 0
      },
      "text/plain": [
       "restarts:   0%|          | 0/1 [00:00<?, ?it/s]"
      ]
     },
     "metadata": {},
     "output_type": "display_data"
    },
    {
     "data": {
      "application/vnd.jupyter.widget-view+json": {
       "model_id": "5922cebee7ae4e4cb3a84f8d1d1bd800",
       "version_major": 2,
       "version_minor": 0
      },
      "text/plain": [
       "epochs:   0%|          | 0/1 [00:00<?, ?it/s]"
      ]
     },
     "metadata": {},
     "output_type": "display_data"
    },
    {
     "name": "stdout",
     "output_type": "stream",
     "text": [
      "<tf.Variable 'Adam_2/learning_rate:0' shape=() dtype=float32>\n",
      "<tf.Variable 'Adam_2/learning_rate:0' shape=() dtype=float32>\n",
      "Original Data Shape (selected):  (2500, 36)\n",
      "Original Data Shape (encoded):  (2500, 36)\n",
      "Original Data Class Distribution:  1597  (true) / 903  (false)\n",
      "(1500, 36) (1500,)\n",
      "(500, 36) (500,)\n",
      "(500, 36) (500,)\n",
      "Min Ratio:  0.354\n",
      "Min Ratio:  0.5\n",
      "Min Ratio:  0.3605\n",
      "Min Ratio:  0.5\n"
     ]
    },
    {
     "data": {
      "application/vnd.jupyter.widget-view+json": {
       "model_id": "f474751edca040729cd1d6f41666619a",
       "version_major": 2,
       "version_minor": 0
      },
      "text/plain": [
       "restarts:   0%|          | 0/1 [00:00<?, ?it/s]"
      ]
     },
     "metadata": {},
     "output_type": "display_data"
    },
    {
     "data": {
      "application/vnd.jupyter.widget-view+json": {
       "model_id": "32c7c00a4b924f03bfb5eed4c4794fb9",
       "version_major": 2,
       "version_minor": 0
      },
      "text/plain": [
       "epochs:   0%|          | 0/1 [00:00<?, ?it/s]"
      ]
     },
     "metadata": {},
     "output_type": "display_data"
    },
    {
     "name": "stdout",
     "output_type": "stream",
     "text": [
      "<tf.Variable 'Adam_2/learning_rate:0' shape=() dtype=float32>\n",
      "<tf.Variable 'Adam_2/learning_rate:0' shape=() dtype=float32>\n",
      "Original Data Shape (selected):  (2500, 36)\n",
      "Original Data Shape (encoded):  (2500, 36)\n",
      "Original Data Class Distribution:  1554  (true) / 946  (false)\n",
      "(1500, 36) (1500,)\n",
      "(500, 36) (500,)\n",
      "(500, 36) (500,)\n",
      "Min Ratio:  0.38333333333333336\n",
      "Min Ratio:  0.5\n",
      "Min Ratio:  0.3855\n",
      "Min Ratio:  0.5\n"
     ]
    },
    {
     "data": {
      "application/vnd.jupyter.widget-view+json": {
       "model_id": "18dd1cb4b3ee45029462ba51b8693af1",
       "version_major": 2,
       "version_minor": 0
      },
      "text/plain": [
       "restarts:   0%|          | 0/1 [00:00<?, ?it/s]"
      ]
     },
     "metadata": {},
     "output_type": "display_data"
    },
    {
     "data": {
      "application/vnd.jupyter.widget-view+json": {
       "model_id": "9f3463085e8044a0abface7c4e7e5944",
       "version_major": 2,
       "version_minor": 0
      },
      "text/plain": [
       "epochs:   0%|          | 0/1 [00:00<?, ?it/s]"
      ]
     },
     "metadata": {},
     "output_type": "display_data"
    },
    {
     "name": "stdout",
     "output_type": "stream",
     "text": [
      "<tf.Variable 'Adam_2/learning_rate:0' shape=() dtype=float32>\n",
      "<tf.Variable 'Adam_2/learning_rate:0' shape=() dtype=float32>\n",
      "Original Data Shape (selected):  (2500, 36)\n",
      "Original Data Shape (encoded):  (2500, 36)\n",
      "Original Data Class Distribution:  1524  (true) / 976  (false)\n",
      "(1500, 36) (1500,)\n",
      "(500, 36) (500,)\n",
      "(500, 36) (500,)\n",
      "Min Ratio:  0.396\n",
      "Min Ratio:  0.5\n",
      "Min Ratio:  0.394\n",
      "Min Ratio:  0.5\n"
     ]
    },
    {
     "data": {
      "application/vnd.jupyter.widget-view+json": {
       "model_id": "ffc7ab8c23f14629b55993bc80c4bf78",
       "version_major": 2,
       "version_minor": 0
      },
      "text/plain": [
       "restarts:   0%|          | 0/1 [00:00<?, ?it/s]"
      ]
     },
     "metadata": {},
     "output_type": "display_data"
    },
    {
     "data": {
      "application/vnd.jupyter.widget-view+json": {
       "model_id": "71c28ef9780e45d08a849b88d86f6bbc",
       "version_major": 2,
       "version_minor": 0
      },
      "text/plain": [
       "epochs:   0%|          | 0/1 [00:00<?, ?it/s]"
      ]
     },
     "metadata": {},
     "output_type": "display_data"
    },
    {
     "name": "stdout",
     "output_type": "stream",
     "text": [
      "<tf.Variable 'Adam_2/learning_rate:0' shape=() dtype=float32>\n",
      "<tf.Variable 'Adam_2/learning_rate:0' shape=() dtype=float32>\n",
      "Original Data Shape (selected):  (2500, 36)\n",
      "Original Data Shape (encoded):  (2500, 36)\n",
      "Original Data Class Distribution:  1554  (true) / 946  (false)\n",
      "(1500, 36) (1500,)\n",
      "(500, 36) (500,)\n",
      "(500, 36) (500,)\n",
      "Min Ratio:  0.37666666666666665\n",
      "Min Ratio:  0.5\n",
      "Min Ratio:  0.384\n",
      "Min Ratio:  0.5\n"
     ]
    },
    {
     "data": {
      "application/vnd.jupyter.widget-view+json": {
       "model_id": "f97e3be2e84f447d87bfda5f8d09691c",
       "version_major": 2,
       "version_minor": 0
      },
      "text/plain": [
       "restarts:   0%|          | 0/1 [00:00<?, ?it/s]"
      ]
     },
     "metadata": {},
     "output_type": "display_data"
    },
    {
     "data": {
      "application/vnd.jupyter.widget-view+json": {
       "model_id": "af1004c8217a4f4590ccf51c6154e446",
       "version_major": 2,
       "version_minor": 0
      },
      "text/plain": [
       "epochs:   0%|          | 0/1 [00:00<?, ?it/s]"
      ]
     },
     "metadata": {},
     "output_type": "display_data"
    },
    {
     "name": "stdout",
     "output_type": "stream",
     "text": [
      "<tf.Variable 'Adam_2/learning_rate:0' shape=() dtype=float32>\n",
      "<tf.Variable 'Adam_2/learning_rate:0' shape=() dtype=float32>\n",
      "Original Data Shape (selected):  (2500, 36)\n",
      "Original Data Shape (encoded):  (2500, 36)\n",
      "Original Data Class Distribution:  1546  (true) / 954  (false)\n",
      "(1500, 36) (1500,)\n",
      "(500, 36) (500,)\n",
      "(500, 36) (500,)\n",
      "Min Ratio:  0.38266666666666665\n",
      "Min Ratio:  0.5\n",
      "Min Ratio:  0.386\n",
      "Min Ratio:  0.5\n"
     ]
    },
    {
     "data": {
      "application/vnd.jupyter.widget-view+json": {
       "model_id": "20ec56c3b91c46e9af07f6e6ab42b105",
       "version_major": 2,
       "version_minor": 0
      },
      "text/plain": [
       "restarts:   0%|          | 0/1 [00:00<?, ?it/s]"
      ]
     },
     "metadata": {},
     "output_type": "display_data"
    },
    {
     "data": {
      "application/vnd.jupyter.widget-view+json": {
       "model_id": "8c80dc450caf456da80db674d5f084d8",
       "version_major": 2,
       "version_minor": 0
      },
      "text/plain": [
       "epochs:   0%|          | 0/1 [00:00<?, ?it/s]"
      ]
     },
     "metadata": {},
     "output_type": "display_data"
    },
    {
     "name": "stdout",
     "output_type": "stream",
     "text": [
      "<tf.Variable 'Adam_2/learning_rate:0' shape=() dtype=float32>\n",
      "<tf.Variable 'Adam_2/learning_rate:0' shape=() dtype=float32>\n",
      "Original Data Shape (selected):  (2500, 36)\n",
      "Original Data Shape (encoded):  (2500, 36)\n",
      "Original Data Class Distribution:  1512  (true) / 988  (false)\n",
      "(1500, 36) (1500,)\n",
      "(500, 36) (500,)\n",
      "(500, 36) (500,)\n",
      "Min Ratio:  0.3953333333333333\n",
      "Min Ratio:  0.5\n",
      "Min Ratio:  0.3995\n",
      "Min Ratio:  0.5\n"
     ]
    },
    {
     "data": {
      "application/vnd.jupyter.widget-view+json": {
       "model_id": "79b780b96b7c495393d79668ed7540c5",
       "version_major": 2,
       "version_minor": 0
      },
      "text/plain": [
       "restarts:   0%|          | 0/1 [00:00<?, ?it/s]"
      ]
     },
     "metadata": {},
     "output_type": "display_data"
    },
    {
     "data": {
      "application/vnd.jupyter.widget-view+json": {
       "model_id": "2145e64a8a0148a79a3505e08ddc6505",
       "version_major": 2,
       "version_minor": 0
      },
      "text/plain": [
       "epochs:   0%|          | 0/1 [00:00<?, ?it/s]"
      ]
     },
     "metadata": {},
     "output_type": "display_data"
    },
    {
     "name": "stdout",
     "output_type": "stream",
     "text": [
      "<tf.Variable 'Adam_2/learning_rate:0' shape=() dtype=float32>\n",
      "<tf.Variable 'Adam_2/learning_rate:0' shape=() dtype=float32>\n",
      "Original Data Shape (selected):  (2500, 36)\n",
      "Original Data Shape (encoded):  (2500, 36)\n",
      "Original Data Class Distribution:  1511  (true) / 989  (false)\n",
      "(1500, 36) (1500,)\n",
      "(500, 36) (500,)\n",
      "(500, 36) (500,)\n",
      "Min Ratio:  0.3993333333333333\n",
      "Min Ratio:  0.5\n",
      "Min Ratio:  0.3955\n",
      "Min Ratio:  0.5\n"
     ]
    },
    {
     "data": {
      "application/vnd.jupyter.widget-view+json": {
       "model_id": "a35fa11f1c9e4688bb7617c46e871c5d",
       "version_major": 2,
       "version_minor": 0
      },
      "text/plain": [
       "restarts:   0%|          | 0/1 [00:00<?, ?it/s]"
      ]
     },
     "metadata": {},
     "output_type": "display_data"
    },
    {
     "data": {
      "application/vnd.jupyter.widget-view+json": {
       "model_id": "93ed6ec3c02f4bb1956240b34f38fc9e",
       "version_major": 2,
       "version_minor": 0
      },
      "text/plain": [
       "epochs:   0%|          | 0/1 [00:00<?, ?it/s]"
      ]
     },
     "metadata": {},
     "output_type": "display_data"
    },
    {
     "name": "stdout",
     "output_type": "stream",
     "text": [
      "<tf.Variable 'Adam_2/learning_rate:0' shape=() dtype=float32>\n",
      "<tf.Variable 'Adam_2/learning_rate:0' shape=() dtype=float32>\n",
      "Original Data Shape (selected):  (2500, 36)\n",
      "Original Data Shape (encoded):  (2500, 36)\n",
      "Original Data Class Distribution:  1576  (true) / 924  (false)\n",
      "(1500, 36) (1500,)\n",
      "(500, 36) (500,)\n",
      "(500, 36) (500,)\n",
      "Min Ratio:  0.38666666666666666\n",
      "Min Ratio:  0.5\n",
      "Min Ratio:  0.3725\n",
      "Min Ratio:  0.5\n"
     ]
    },
    {
     "data": {
      "application/vnd.jupyter.widget-view+json": {
       "model_id": "37621a3f127f4082ad192614a8b2cc32",
       "version_major": 2,
       "version_minor": 0
      },
      "text/plain": [
       "restarts:   0%|          | 0/1 [00:00<?, ?it/s]"
      ]
     },
     "metadata": {},
     "output_type": "display_data"
    },
    {
     "data": {
      "application/vnd.jupyter.widget-view+json": {
       "model_id": "c5507d116c77486c92cf377ee4a5e0c2",
       "version_major": 2,
       "version_minor": 0
      },
      "text/plain": [
       "epochs:   0%|          | 0/1 [00:00<?, ?it/s]"
      ]
     },
     "metadata": {},
     "output_type": "display_data"
    },
    {
     "name": "stdout",
     "output_type": "stream",
     "text": [
      "<tf.Variable 'Adam_2/learning_rate:0' shape=() dtype=float32>\n",
      "<tf.Variable 'Adam_2/learning_rate:0' shape=() dtype=float32>\n",
      "Original Data Shape (selected):  (2500, 36)\n",
      "Original Data Shape (encoded):  (2500, 36)\n",
      "Original Data Class Distribution:  1534  (true) / 966  (false)\n",
      "(1500, 36) (1500,)\n",
      "(500, 36) (500,)\n",
      "(500, 36) (500,)\n",
      "Min Ratio:  0.4046666666666667\n",
      "Min Ratio:  0.5\n",
      "Min Ratio:  0.399\n",
      "Min Ratio:  0.5\n"
     ]
    },
    {
     "data": {
      "application/vnd.jupyter.widget-view+json": {
       "model_id": "5702af40af7f48e7a78efb20e2e1a12c",
       "version_major": 2,
       "version_minor": 0
      },
      "text/plain": [
       "restarts:   0%|          | 0/1 [00:00<?, ?it/s]"
      ]
     },
     "metadata": {},
     "output_type": "display_data"
    },
    {
     "data": {
      "application/vnd.jupyter.widget-view+json": {
       "model_id": "815a8714d1e3404fbc08191eaa76d965",
       "version_major": 2,
       "version_minor": 0
      },
      "text/plain": [
       "epochs:   0%|          | 0/1 [00:00<?, ?it/s]"
      ]
     },
     "metadata": {},
     "output_type": "display_data"
    },
    {
     "name": "stdout",
     "output_type": "stream",
     "text": [
      "<tf.Variable 'Adam_2/learning_rate:0' shape=() dtype=float32>\n",
      "<tf.Variable 'Adam_2/learning_rate:0' shape=() dtype=float32>\n",
      "Original Data Shape (selected):  (2500, 36)\n",
      "Original Data Shape (encoded):  (2500, 36)\n",
      "Original Data Class Distribution:  1558  (true) / 942  (false)\n",
      "(1500, 36) (1500,)\n",
      "(500, 36) (500,)\n",
      "(500, 36) (500,)\n",
      "Min Ratio:  0.378\n",
      "Min Ratio:  0.5\n",
      "Min Ratio:  0.3715\n",
      "Min Ratio:  0.5\n"
     ]
    },
    {
     "data": {
      "application/vnd.jupyter.widget-view+json": {
       "model_id": "87da390276a9423782cf0af616e80277",
       "version_major": 2,
       "version_minor": 0
      },
      "text/plain": [
       "restarts:   0%|          | 0/1 [00:00<?, ?it/s]"
      ]
     },
     "metadata": {},
     "output_type": "display_data"
    },
    {
     "data": {
      "application/vnd.jupyter.widget-view+json": {
       "model_id": "999a18789a744c86aaa9390aa0beb3cd",
       "version_major": 2,
       "version_minor": 0
      },
      "text/plain": [
       "epochs:   0%|          | 0/1 [00:00<?, ?it/s]"
      ]
     },
     "metadata": {},
     "output_type": "display_data"
    },
    {
     "name": "stdout",
     "output_type": "stream",
     "text": [
      "<tf.Variable 'Adam_2/learning_rate:0' shape=() dtype=float32>\n",
      "<tf.Variable 'Adam_2/learning_rate:0' shape=() dtype=float32>\n",
      "Original Data Shape (selected):  (2500, 36)\n",
      "Original Data Shape (encoded):  (2500, 36)\n",
      "Original Data Class Distribution:  1511  (true) / 989  (false)\n",
      "(1500, 36) (1500,)\n",
      "(500, 36) (500,)\n",
      "(500, 36) (500,)\n",
      "Min Ratio:  0.396\n",
      "Min Ratio:  0.5\n",
      "Min Ratio:  0.3985\n",
      "Min Ratio:  0.5\n"
     ]
    },
    {
     "data": {
      "application/vnd.jupyter.widget-view+json": {
       "model_id": "f41a4c8e346d44de894ead72f4b5d58f",
       "version_major": 2,
       "version_minor": 0
      },
      "text/plain": [
       "restarts:   0%|          | 0/1 [00:00<?, ?it/s]"
      ]
     },
     "metadata": {},
     "output_type": "display_data"
    },
    {
     "data": {
      "application/vnd.jupyter.widget-view+json": {
       "model_id": "71e3438ebd3140fda207ea469aa1d125",
       "version_major": 2,
       "version_minor": 0
      },
      "text/plain": [
       "epochs:   0%|          | 0/1 [00:00<?, ?it/s]"
      ]
     },
     "metadata": {},
     "output_type": "display_data"
    },
    {
     "name": "stdout",
     "output_type": "stream",
     "text": [
      "<tf.Variable 'Adam_2/learning_rate:0' shape=() dtype=float32>\n",
      "<tf.Variable 'Adam_2/learning_rate:0' shape=() dtype=float32>\n",
      "Original Data Shape (selected):  (2500, 36)\n",
      "Original Data Shape (encoded):  (2500, 36)\n",
      "Original Data Class Distribution:  1530  (true) / 970  (false)\n",
      "(1500, 36) (1500,)\n",
      "(500, 36) (500,)\n",
      "(500, 36) (500,)\n",
      "Min Ratio:  0.3973333333333333\n",
      "Min Ratio:  0.5\n",
      "Min Ratio:  0.3905\n",
      "Min Ratio:  0.5\n"
     ]
    },
    {
     "data": {
      "application/vnd.jupyter.widget-view+json": {
       "model_id": "efb717e0bc7f4623aa675b5e3d2e6b41",
       "version_major": 2,
       "version_minor": 0
      },
      "text/plain": [
       "restarts:   0%|          | 0/1 [00:00<?, ?it/s]"
      ]
     },
     "metadata": {},
     "output_type": "display_data"
    },
    {
     "data": {
      "application/vnd.jupyter.widget-view+json": {
       "model_id": "ff24dc11e2b94ec2aeafa53d615b33ce",
       "version_major": 2,
       "version_minor": 0
      },
      "text/plain": [
       "epochs:   0%|          | 0/1 [00:00<?, ?it/s]"
      ]
     },
     "metadata": {},
     "output_type": "display_data"
    },
    {
     "name": "stdout",
     "output_type": "stream",
     "text": [
      "<tf.Variable 'Adam_2/learning_rate:0' shape=() dtype=float32>\n",
      "<tf.Variable 'Adam_2/learning_rate:0' shape=() dtype=float32>\n",
      "Original Data Shape (selected):  (2500, 36)\n",
      "Original Data Shape (encoded):  (2500, 36)\n",
      "Original Data Class Distribution:  1519  (true) / 981  (false)\n",
      "(1500, 36) (1500,)\n",
      "(500, 36) (500,)\n",
      "(500, 36) (500,)\n",
      "Min Ratio:  0.38333333333333336\n",
      "Min Ratio:  0.5\n",
      "Min Ratio:  0.39\n",
      "Min Ratio:  0.5\n"
     ]
    },
    {
     "data": {
      "application/vnd.jupyter.widget-view+json": {
       "model_id": "08046129d80f4454add501fd562dd7fb",
       "version_major": 2,
       "version_minor": 0
      },
      "text/plain": [
       "restarts:   0%|          | 0/1 [00:00<?, ?it/s]"
      ]
     },
     "metadata": {},
     "output_type": "display_data"
    },
    {
     "data": {
      "application/vnd.jupyter.widget-view+json": {
       "model_id": "d1465455a47f484a80cad108937a6f98",
       "version_major": 2,
       "version_minor": 0
      },
      "text/plain": [
       "epochs:   0%|          | 0/1 [00:00<?, ?it/s]"
      ]
     },
     "metadata": {},
     "output_type": "display_data"
    },
    {
     "name": "stdout",
     "output_type": "stream",
     "text": [
      "<tf.Variable 'Adam_2/learning_rate:0' shape=() dtype=float32>\n",
      "<tf.Variable 'Adam_2/learning_rate:0' shape=() dtype=float32>\n",
      "Original Data Shape (selected):  (2500, 36)\n",
      "Original Data Shape (encoded):  (2500, 36)\n",
      "Original Data Class Distribution:  1509  (true) / 991  (false)\n",
      "(1500, 36) (1500,)\n",
      "(500, 36) (500,)\n",
      "(500, 36) (500,)\n",
      "Min Ratio:  0.38666666666666666\n",
      "Min Ratio:  0.5\n",
      "Min Ratio:  0.402\n",
      "Min Ratio:  0.5\n"
     ]
    },
    {
     "data": {
      "application/vnd.jupyter.widget-view+json": {
       "model_id": "67f80c095212435b9118e78b75d1bb96",
       "version_major": 2,
       "version_minor": 0
      },
      "text/plain": [
       "restarts:   0%|          | 0/1 [00:00<?, ?it/s]"
      ]
     },
     "metadata": {},
     "output_type": "display_data"
    },
    {
     "data": {
      "application/vnd.jupyter.widget-view+json": {
       "model_id": "f1d1e683d2e848679f957bedcccfa1af",
       "version_major": 2,
       "version_minor": 0
      },
      "text/plain": [
       "epochs:   0%|          | 0/1 [00:00<?, ?it/s]"
      ]
     },
     "metadata": {},
     "output_type": "display_data"
    },
    {
     "name": "stdout",
     "output_type": "stream",
     "text": [
      "<tf.Variable 'Adam_2/learning_rate:0' shape=() dtype=float32>\n",
      "<tf.Variable 'Adam_2/learning_rate:0' shape=() dtype=float32>\n",
      "Original Data Shape (selected):  (2500, 36)\n",
      "Original Data Shape (encoded):  (2500, 36)\n",
      "Original Data Class Distribution:  1534  (true) / 966  (false)\n",
      "(1500, 36) (1500,)\n",
      "(500, 36) (500,)\n",
      "(500, 36) (500,)\n",
      "Min Ratio:  0.38533333333333336\n",
      "Min Ratio:  0.5\n",
      "Min Ratio:  0.3895\n",
      "Min Ratio:  0.5\n"
     ]
    },
    {
     "data": {
      "application/vnd.jupyter.widget-view+json": {
       "model_id": "e3dd276d7fe34eb18912b863be79716b",
       "version_major": 2,
       "version_minor": 0
      },
      "text/plain": [
       "restarts:   0%|          | 0/1 [00:00<?, ?it/s]"
      ]
     },
     "metadata": {},
     "output_type": "display_data"
    },
    {
     "data": {
      "application/vnd.jupyter.widget-view+json": {
       "model_id": "c537bb5bdfae4854a1347a91ba2ebd7d",
       "version_major": 2,
       "version_minor": 0
      },
      "text/plain": [
       "epochs:   0%|          | 0/1 [00:00<?, ?it/s]"
      ]
     },
     "metadata": {},
     "output_type": "display_data"
    },
    {
     "name": "stdout",
     "output_type": "stream",
     "text": [
      "<tf.Variable 'Adam_2/learning_rate:0' shape=() dtype=float32>\n",
      "<tf.Variable 'Adam_2/learning_rate:0' shape=() dtype=float32>\n",
      "Original Data Shape (selected):  (2500, 36)\n",
      "Original Data Shape (encoded):  (2500, 36)\n",
      "Original Data Class Distribution:  1525  (true) / 975  (false)\n",
      "(1500, 36) (1500,)\n",
      "(500, 36) (500,)\n",
      "(500, 36) (500,)\n",
      "Min Ratio:  0.382\n",
      "Min Ratio:  0.5\n",
      "Min Ratio:  0.3815\n",
      "Min Ratio:  0.5\n"
     ]
    },
    {
     "data": {
      "application/vnd.jupyter.widget-view+json": {
       "model_id": "3385a3ffce814b909b552c0a53697ea7",
       "version_major": 2,
       "version_minor": 0
      },
      "text/plain": [
       "restarts:   0%|          | 0/1 [00:00<?, ?it/s]"
      ]
     },
     "metadata": {},
     "output_type": "display_data"
    },
    {
     "data": {
      "application/vnd.jupyter.widget-view+json": {
       "model_id": "52a88ea6c00a4296b9f3466e2e7c830b",
       "version_major": 2,
       "version_minor": 0
      },
      "text/plain": [
       "epochs:   0%|          | 0/1 [00:00<?, ?it/s]"
      ]
     },
     "metadata": {},
     "output_type": "display_data"
    },
    {
     "name": "stdout",
     "output_type": "stream",
     "text": [
      "<tf.Variable 'Adam_2/learning_rate:0' shape=() dtype=float32>\n",
      "<tf.Variable 'Adam_2/learning_rate:0' shape=() dtype=float32>\n",
      "Original Data Shape (selected):  (2500, 36)\n",
      "Original Data Shape (encoded):  (2500, 36)\n",
      "Original Data Class Distribution:  1437  (true) / 1063  (false)\n",
      "(1500, 36) (1500,)\n",
      "(500, 36) (500,)\n",
      "(500, 36) (500,)\n",
      "Min Ratio:  0.42933333333333334\n",
      "Min Ratio:  0.5\n",
      "Min Ratio:  0.432\n",
      "Min Ratio:  0.5\n"
     ]
    },
    {
     "data": {
      "application/vnd.jupyter.widget-view+json": {
       "model_id": "88b2428b99ae446da40fee22007a6d01",
       "version_major": 2,
       "version_minor": 0
      },
      "text/plain": [
       "restarts:   0%|          | 0/1 [00:00<?, ?it/s]"
      ]
     },
     "metadata": {},
     "output_type": "display_data"
    },
    {
     "data": {
      "application/vnd.jupyter.widget-view+json": {
       "model_id": "e3d5bf789f994b039da2f6e4e7059bea",
       "version_major": 2,
       "version_minor": 0
      },
      "text/plain": [
       "epochs:   0%|          | 0/1 [00:00<?, ?it/s]"
      ]
     },
     "metadata": {},
     "output_type": "display_data"
    },
    {
     "name": "stdout",
     "output_type": "stream",
     "text": [
      "<tf.Variable 'Adam_2/learning_rate:0' shape=() dtype=float32>\n",
      "<tf.Variable 'Adam_2/learning_rate:0' shape=() dtype=float32>\n",
      "Original Data Shape (selected):  (2500, 36)\n",
      "Original Data Shape (encoded):  (2500, 36)\n",
      "Original Data Class Distribution:  1451  (true) / 1049  (false)\n",
      "(1500, 36) (1500,)\n",
      "(500, 36) (500,)\n",
      "(500, 36) (500,)\n",
      "Min Ratio:  0.42866666666666664\n",
      "Min Ratio:  0.5\n",
      "Min Ratio:  0.4275\n",
      "Min Ratio:  0.5\n"
     ]
    },
    {
     "data": {
      "application/vnd.jupyter.widget-view+json": {
       "model_id": "8b3173598b914683bb503eb692465dea",
       "version_major": 2,
       "version_minor": 0
      },
      "text/plain": [
       "restarts:   0%|          | 0/1 [00:00<?, ?it/s]"
      ]
     },
     "metadata": {},
     "output_type": "display_data"
    },
    {
     "data": {
      "application/vnd.jupyter.widget-view+json": {
       "model_id": "07f3fa377fe74fe3b85f04b6bb30d31b",
       "version_major": 2,
       "version_minor": 0
      },
      "text/plain": [
       "epochs:   0%|          | 0/1 [00:00<?, ?it/s]"
      ]
     },
     "metadata": {},
     "output_type": "display_data"
    },
    {
     "name": "stdout",
     "output_type": "stream",
     "text": [
      "<tf.Variable 'Adam_2/learning_rate:0' shape=() dtype=float32>\n",
      "<tf.Variable 'Adam_2/learning_rate:0' shape=() dtype=float32>\n",
      "Original Data Shape (selected):  (2500, 36)\n",
      "Original Data Shape (encoded):  (2500, 36)\n",
      "Original Data Class Distribution:  1496  (true) / 1004  (false)\n",
      "(1500, 36) (1500,)\n",
      "(500, 36) (500,)\n",
      "(500, 36) (500,)\n",
      "Min Ratio:  0.4126666666666667\n",
      "Min Ratio:  0.5\n",
      "Min Ratio:  0.4\n",
      "Min Ratio:  0.5\n"
     ]
    },
    {
     "data": {
      "application/vnd.jupyter.widget-view+json": {
       "model_id": "218c0c29184f483c8a197535420e7f81",
       "version_major": 2,
       "version_minor": 0
      },
      "text/plain": [
       "restarts:   0%|          | 0/1 [00:00<?, ?it/s]"
      ]
     },
     "metadata": {},
     "output_type": "display_data"
    },
    {
     "data": {
      "application/vnd.jupyter.widget-view+json": {
       "model_id": "aead7f9b29b6488884cdd5b98e449a68",
       "version_major": 2,
       "version_minor": 0
      },
      "text/plain": [
       "epochs:   0%|          | 0/1 [00:00<?, ?it/s]"
      ]
     },
     "metadata": {},
     "output_type": "display_data"
    },
    {
     "name": "stdout",
     "output_type": "stream",
     "text": [
      "<tf.Variable 'Adam_2/learning_rate:0' shape=() dtype=float32>\n",
      "<tf.Variable 'Adam_2/learning_rate:0' shape=() dtype=float32>\n",
      "Original Data Shape (selected):  (2500, 36)\n",
      "Original Data Shape (encoded):  (2500, 36)\n",
      "Original Data Class Distribution:  1406  (true) / 1094  (false)\n",
      "(1500, 36) (1500,)\n",
      "(500, 36) (500,)\n",
      "(500, 36) (500,)\n",
      "Min Ratio:  0.43533333333333335\n",
      "Min Ratio:  0.5\n",
      "Min Ratio:  0.439\n",
      "Min Ratio:  0.5\n"
     ]
    },
    {
     "data": {
      "application/vnd.jupyter.widget-view+json": {
       "model_id": "57306655d9b1424ea5d91522a6a63d31",
       "version_major": 2,
       "version_minor": 0
      },
      "text/plain": [
       "restarts:   0%|          | 0/1 [00:00<?, ?it/s]"
      ]
     },
     "metadata": {},
     "output_type": "display_data"
    },
    {
     "data": {
      "application/vnd.jupyter.widget-view+json": {
       "model_id": "fe55c4a70b6b4248a001c3c9278f47d9",
       "version_major": 2,
       "version_minor": 0
      },
      "text/plain": [
       "epochs:   0%|          | 0/1 [00:00<?, ?it/s]"
      ]
     },
     "metadata": {},
     "output_type": "display_data"
    },
    {
     "name": "stdout",
     "output_type": "stream",
     "text": [
      "<tf.Variable 'Adam_2/learning_rate:0' shape=() dtype=float32>\n",
      "<tf.Variable 'Adam_2/learning_rate:0' shape=() dtype=float32>\n",
      "Original Data Shape (selected):  (2500, 36)\n",
      "Original Data Shape (encoded):  (2500, 36)\n",
      "Original Data Class Distribution:  1446  (true) / 1054  (false)\n",
      "(1500, 36) (1500,)\n",
      "(500, 36) (500,)\n",
      "(500, 36) (500,)\n",
      "Min Ratio:  0.42733333333333334\n",
      "Min Ratio:  0.5\n",
      "Min Ratio:  0.43\n",
      "Min Ratio:  0.5\n"
     ]
    },
    {
     "data": {
      "application/vnd.jupyter.widget-view+json": {
       "model_id": "aa06fd8e0fff41c5bddc926392867a55",
       "version_major": 2,
       "version_minor": 0
      },
      "text/plain": [
       "restarts:   0%|          | 0/1 [00:00<?, ?it/s]"
      ]
     },
     "metadata": {},
     "output_type": "display_data"
    },
    {
     "data": {
      "application/vnd.jupyter.widget-view+json": {
       "model_id": "25a3d685924b4634b15a5d73d83bf355",
       "version_major": 2,
       "version_minor": 0
      },
      "text/plain": [
       "epochs:   0%|          | 0/1 [00:00<?, ?it/s]"
      ]
     },
     "metadata": {},
     "output_type": "display_data"
    },
    {
     "name": "stdout",
     "output_type": "stream",
     "text": [
      "<tf.Variable 'Adam_2/learning_rate:0' shape=() dtype=float32>\n",
      "<tf.Variable 'Adam_2/learning_rate:0' shape=() dtype=float32>\n",
      "Original Data Shape (selected):  (2500, 36)\n",
      "Original Data Shape (encoded):  (2500, 36)\n",
      "Original Data Class Distribution:  1440  (true) / 1060  (false)\n",
      "(1500, 36) (1500,)\n",
      "(500, 36) (500,)\n",
      "(500, 36) (500,)\n",
      "Min Ratio:  0.43266666666666664\n",
      "Min Ratio:  0.5\n",
      "Min Ratio:  0.423\n",
      "Min Ratio:  0.5\n"
     ]
    },
    {
     "data": {
      "application/vnd.jupyter.widget-view+json": {
       "model_id": "d8d8ec22b4af42da8cdb3368c0c1cf71",
       "version_major": 2,
       "version_minor": 0
      },
      "text/plain": [
       "restarts:   0%|          | 0/1 [00:00<?, ?it/s]"
      ]
     },
     "metadata": {},
     "output_type": "display_data"
    },
    {
     "data": {
      "application/vnd.jupyter.widget-view+json": {
       "model_id": "4a1fbcaddf7c4cb9b4130ccc538379dd",
       "version_major": 2,
       "version_minor": 0
      },
      "text/plain": [
       "epochs:   0%|          | 0/1 [00:00<?, ?it/s]"
      ]
     },
     "metadata": {},
     "output_type": "display_data"
    },
    {
     "name": "stdout",
     "output_type": "stream",
     "text": [
      "<tf.Variable 'Adam_2/learning_rate:0' shape=() dtype=float32>\n",
      "<tf.Variable 'Adam_2/learning_rate:0' shape=() dtype=float32>\n",
      "Original Data Shape (selected):  (2500, 36)\n",
      "Original Data Shape (encoded):  (2500, 36)\n",
      "Original Data Class Distribution:  1410  (true) / 1090  (false)\n",
      "(1500, 36) (1500,)\n",
      "(500, 36) (500,)\n",
      "(500, 36) (500,)\n",
      "Min Ratio:  0.43133333333333335\n",
      "Min Ratio:  0.5\n",
      "Min Ratio:  0.4305\n",
      "Min Ratio:  0.5\n"
     ]
    },
    {
     "data": {
      "application/vnd.jupyter.widget-view+json": {
       "model_id": "3d095afa42134e20b5b75973bf84a34c",
       "version_major": 2,
       "version_minor": 0
      },
      "text/plain": [
       "restarts:   0%|          | 0/1 [00:00<?, ?it/s]"
      ]
     },
     "metadata": {},
     "output_type": "display_data"
    },
    {
     "data": {
      "application/vnd.jupyter.widget-view+json": {
       "model_id": "63046a2f3d314390b466f0999bdd1c11",
       "version_major": 2,
       "version_minor": 0
      },
      "text/plain": [
       "epochs:   0%|          | 0/1 [00:00<?, ?it/s]"
      ]
     },
     "metadata": {},
     "output_type": "display_data"
    },
    {
     "name": "stdout",
     "output_type": "stream",
     "text": [
      "<tf.Variable 'Adam_2/learning_rate:0' shape=() dtype=float32>\n",
      "<tf.Variable 'Adam_2/learning_rate:0' shape=() dtype=float32>\n",
      "Original Data Shape (selected):  (2500, 36)\n",
      "Original Data Shape (encoded):  (2500, 36)\n",
      "Original Data Class Distribution:  1398  (true) / 1102  (false)\n",
      "(1500, 36) (1500,)\n",
      "(500, 36) (500,)\n",
      "(500, 36) (500,)\n",
      "Min Ratio:  0.44666666666666666\n",
      "Min Ratio:  0.5\n",
      "Min Ratio:  0.442\n",
      "Min Ratio:  0.5\n"
     ]
    },
    {
     "data": {
      "application/vnd.jupyter.widget-view+json": {
       "model_id": "86420f2f892844a694efabf4d00cdc0e",
       "version_major": 2,
       "version_minor": 0
      },
      "text/plain": [
       "restarts:   0%|          | 0/1 [00:00<?, ?it/s]"
      ]
     },
     "metadata": {},
     "output_type": "display_data"
    },
    {
     "data": {
      "application/vnd.jupyter.widget-view+json": {
       "model_id": "4def879593dd4c9ba628ca5f2d9cd443",
       "version_major": 2,
       "version_minor": 0
      },
      "text/plain": [
       "epochs:   0%|          | 0/1 [00:00<?, ?it/s]"
      ]
     },
     "metadata": {},
     "output_type": "display_data"
    },
    {
     "name": "stdout",
     "output_type": "stream",
     "text": [
      "<tf.Variable 'Adam_2/learning_rate:0' shape=() dtype=float32>\n",
      "<tf.Variable 'Adam_2/learning_rate:0' shape=() dtype=float32>\n",
      "Original Data Shape (selected):  (2500, 36)\n",
      "Original Data Shape (encoded):  (2500, 36)\n",
      "Original Data Class Distribution:  1356  (true) / 1144  (false)\n",
      "(1500, 36) (1500,)\n",
      "(500, 36) (500,)\n",
      "(500, 36) (500,)\n",
      "Min Ratio:  0.4593333333333333\n",
      "Min Ratio:  0.5\n",
      "Min Ratio:  0.4595\n",
      "Min Ratio:  0.5\n"
     ]
    },
    {
     "data": {
      "application/vnd.jupyter.widget-view+json": {
       "model_id": "76fe5bf159b646a3bc76b2809c835e0e",
       "version_major": 2,
       "version_minor": 0
      },
      "text/plain": [
       "restarts:   0%|          | 0/1 [00:00<?, ?it/s]"
      ]
     },
     "metadata": {},
     "output_type": "display_data"
    },
    {
     "data": {
      "application/vnd.jupyter.widget-view+json": {
       "model_id": "a8ba72ccc69d4e19b501c6899c679000",
       "version_major": 2,
       "version_minor": 0
      },
      "text/plain": [
       "epochs:   0%|          | 0/1 [00:00<?, ?it/s]"
      ]
     },
     "metadata": {},
     "output_type": "display_data"
    },
    {
     "name": "stdout",
     "output_type": "stream",
     "text": [
      "<tf.Variable 'Adam_2/learning_rate:0' shape=() dtype=float32>\n",
      "<tf.Variable 'Adam_2/learning_rate:0' shape=() dtype=float32>\n",
      "Original Data Shape (selected):  (2500, 36)\n",
      "Original Data Shape (encoded):  (2500, 36)\n",
      "Original Data Class Distribution:  1340  (true) / 1160  (false)\n",
      "(1500, 36) (1500,)\n",
      "(500, 36) (500,)\n",
      "(500, 36) (500,)\n",
      "Min Ratio:  0.4666666666666667\n",
      "Min Ratio:  0.5\n",
      "Min Ratio:  0.4705\n",
      "Min Ratio:  0.5\n"
     ]
    },
    {
     "data": {
      "application/vnd.jupyter.widget-view+json": {
       "model_id": "1e9e33236d264aee91351cbd5cd91fba",
       "version_major": 2,
       "version_minor": 0
      },
      "text/plain": [
       "restarts:   0%|          | 0/1 [00:00<?, ?it/s]"
      ]
     },
     "metadata": {},
     "output_type": "display_data"
    },
    {
     "data": {
      "application/vnd.jupyter.widget-view+json": {
       "model_id": "0db55e2c37db42c485fda69444266407",
       "version_major": 2,
       "version_minor": 0
      },
      "text/plain": [
       "epochs:   0%|          | 0/1 [00:00<?, ?it/s]"
      ]
     },
     "metadata": {},
     "output_type": "display_data"
    },
    {
     "name": "stdout",
     "output_type": "stream",
     "text": [
      "<tf.Variable 'Adam_2/learning_rate:0' shape=() dtype=float32>\n",
      "<tf.Variable 'Adam_2/learning_rate:0' shape=() dtype=float32>\n",
      "Original Data Shape (selected):  (2500, 36)\n",
      "Original Data Shape (encoded):  (2500, 36)\n",
      "Original Data Class Distribution:  1290  (true) / 1210  (false)\n",
      "(1500, 36) (1500,)\n",
      "(500, 36) (500,)\n",
      "(500, 36) (500,)\n",
      "Min Ratio:  0.48333333333333334\n",
      "Min Ratio:  0.5\n",
      "Min Ratio:  0.4825\n",
      "Min Ratio:  0.5\n"
     ]
    },
    {
     "data": {
      "application/vnd.jupyter.widget-view+json": {
       "model_id": "9ca7751dc28a49a8b192efe5d85c32d3",
       "version_major": 2,
       "version_minor": 0
      },
      "text/plain": [
       "restarts:   0%|          | 0/1 [00:00<?, ?it/s]"
      ]
     },
     "metadata": {},
     "output_type": "display_data"
    },
    {
     "data": {
      "application/vnd.jupyter.widget-view+json": {
       "model_id": "ad08531ff67349c687b91fd29bbede0d",
       "version_major": 2,
       "version_minor": 0
      },
      "text/plain": [
       "epochs:   0%|          | 0/1 [00:00<?, ?it/s]"
      ]
     },
     "metadata": {},
     "output_type": "display_data"
    },
    {
     "name": "stdout",
     "output_type": "stream",
     "text": [
      "<tf.Variable 'Adam_2/learning_rate:0' shape=() dtype=float32>\n",
      "<tf.Variable 'Adam_2/learning_rate:0' shape=() dtype=float32>\n",
      "Original Data Shape (selected):  (2500, 36)\n",
      "Original Data Shape (encoded):  (2500, 36)\n",
      "Original Data Class Distribution:  1197  (true) / 1303  (false)\n",
      "(1500, 36) (1500,)\n",
      "(500, 36) (500,)\n",
      "(500, 36) (500,)\n",
      "Min Ratio:  0.4766666666666667\n",
      "Min Ratio:  0.5\n",
      "Min Ratio:  0.4765\n",
      "Min Ratio:  0.5\n"
     ]
    },
    {
     "data": {
      "application/vnd.jupyter.widget-view+json": {
       "model_id": "502cbf12c37842bcaec0a22a66b4c17e",
       "version_major": 2,
       "version_minor": 0
      },
      "text/plain": [
       "restarts:   0%|          | 0/1 [00:00<?, ?it/s]"
      ]
     },
     "metadata": {},
     "output_type": "display_data"
    },
    {
     "data": {
      "application/vnd.jupyter.widget-view+json": {
       "model_id": "0b41d99c0e6b4522b895abfee5cd4d11",
       "version_major": 2,
       "version_minor": 0
      },
      "text/plain": [
       "epochs:   0%|          | 0/1 [00:00<?, ?it/s]"
      ]
     },
     "metadata": {},
     "output_type": "display_data"
    },
    {
     "name": "stdout",
     "output_type": "stream",
     "text": [
      "<tf.Variable 'Adam_2/learning_rate:0' shape=() dtype=float32>\n",
      "<tf.Variable 'Adam_2/learning_rate:0' shape=() dtype=float32>\n",
      "Original Data Shape (selected):  (2500, 36)\n",
      "Original Data Shape (encoded):  (2500, 36)\n",
      "Original Data Class Distribution:  1234  (true) / 1266  (false)\n",
      "(1500, 36) (1500,)\n",
      "(500, 36) (500,)\n",
      "(500, 36) (500,)\n",
      "Min Ratio:  0.4886666666666667\n",
      "Min Ratio:  0.5\n",
      "Min Ratio:  0.4975\n",
      "Min Ratio:  0.5\n"
     ]
    },
    {
     "data": {
      "application/vnd.jupyter.widget-view+json": {
       "model_id": "2c962d3c574a4b8eb544fd9a13fd73d5",
       "version_major": 2,
       "version_minor": 0
      },
      "text/plain": [
       "restarts:   0%|          | 0/1 [00:00<?, ?it/s]"
      ]
     },
     "metadata": {},
     "output_type": "display_data"
    },
    {
     "data": {
      "application/vnd.jupyter.widget-view+json": {
       "model_id": "bd8e87e5dd9a4434958ec401d781f9df",
       "version_major": 2,
       "version_minor": 0
      },
      "text/plain": [
       "epochs:   0%|          | 0/1 [00:00<?, ?it/s]"
      ]
     },
     "metadata": {},
     "output_type": "display_data"
    },
    {
     "name": "stdout",
     "output_type": "stream",
     "text": [
      "<tf.Variable 'Adam_2/learning_rate:0' shape=() dtype=float32>\n",
      "<tf.Variable 'Adam_2/learning_rate:0' shape=() dtype=float32>\n",
      "Original Data Shape (selected):  (2500, 36)\n",
      "Original Data Shape (encoded):  (2500, 36)\n",
      "Original Data Class Distribution:  1151  (true) / 1349  (false)\n",
      "(1500, 36) (1500,)\n",
      "(500, 36) (500,)\n",
      "(500, 36) (500,)\n",
      "Min Ratio:  0.45866666666666667\n",
      "Min Ratio:  0.5\n",
      "Min Ratio:  0.462\n",
      "Min Ratio:  0.5\n"
     ]
    },
    {
     "data": {
      "application/vnd.jupyter.widget-view+json": {
       "model_id": "2b3098b009df4c249a8bc118dcbe47e2",
       "version_major": 2,
       "version_minor": 0
      },
      "text/plain": [
       "restarts:   0%|          | 0/1 [00:00<?, ?it/s]"
      ]
     },
     "metadata": {},
     "output_type": "display_data"
    },
    {
     "data": {
      "application/vnd.jupyter.widget-view+json": {
       "model_id": "66bb0e1a66ad46529a7e91894ed420ff",
       "version_major": 2,
       "version_minor": 0
      },
      "text/plain": [
       "epochs:   0%|          | 0/1 [00:00<?, ?it/s]"
      ]
     },
     "metadata": {},
     "output_type": "display_data"
    },
    {
     "name": "stdout",
     "output_type": "stream",
     "text": [
      "<tf.Variable 'Adam_2/learning_rate:0' shape=() dtype=float32>\n",
      "<tf.Variable 'Adam_2/learning_rate:0' shape=() dtype=float32>\n",
      "Original Data Shape (selected):  (2500, 36)\n",
      "Original Data Shape (encoded):  (2500, 36)\n",
      "Original Data Class Distribution:  1183  (true) / 1317  (false)\n",
      "(1500, 36) (1500,)\n",
      "(500, 36) (500,)\n",
      "(500, 36) (500,)\n",
      "Min Ratio:  0.462\n",
      "Min Ratio:  0.5\n",
      "Min Ratio:  0.468\n",
      "Min Ratio:  0.5\n"
     ]
    },
    {
     "data": {
      "application/vnd.jupyter.widget-view+json": {
       "model_id": "15e4472ce9ec4408854d9537bfc20ba8",
       "version_major": 2,
       "version_minor": 0
      },
      "text/plain": [
       "restarts:   0%|          | 0/1 [00:00<?, ?it/s]"
      ]
     },
     "metadata": {},
     "output_type": "display_data"
    },
    {
     "data": {
      "application/vnd.jupyter.widget-view+json": {
       "model_id": "4d9a30c2125b4cd5ac4df1ceb19ed952",
       "version_major": 2,
       "version_minor": 0
      },
      "text/plain": [
       "epochs:   0%|          | 0/1 [00:00<?, ?it/s]"
      ]
     },
     "metadata": {},
     "output_type": "display_data"
    },
    {
     "name": "stdout",
     "output_type": "stream",
     "text": [
      "<tf.Variable 'Adam_2/learning_rate:0' shape=() dtype=float32>\n",
      "<tf.Variable 'Adam_2/learning_rate:0' shape=() dtype=float32>\n",
      "Original Data Shape (selected):  (2500, 36)\n",
      "Original Data Shape (encoded):  (2500, 36)\n",
      "Original Data Class Distribution:  1084  (true) / 1416  (false)\n",
      "(1500, 36) (1500,)\n",
      "(500, 36) (500,)\n",
      "(500, 36) (500,)\n",
      "Min Ratio:  0.444\n",
      "Min Ratio:  0.5\n",
      "Min Ratio:  0.4375\n",
      "Min Ratio:  0.5\n"
     ]
    },
    {
     "data": {
      "application/vnd.jupyter.widget-view+json": {
       "model_id": "f478c1e3931a45819880703fe797170a",
       "version_major": 2,
       "version_minor": 0
      },
      "text/plain": [
       "restarts:   0%|          | 0/1 [00:00<?, ?it/s]"
      ]
     },
     "metadata": {},
     "output_type": "display_data"
    },
    {
     "data": {
      "application/vnd.jupyter.widget-view+json": {
       "model_id": "403f3355135642c390c52f1b9911f608",
       "version_major": 2,
       "version_minor": 0
      },
      "text/plain": [
       "epochs:   0%|          | 0/1 [00:00<?, ?it/s]"
      ]
     },
     "metadata": {},
     "output_type": "display_data"
    },
    {
     "name": "stdout",
     "output_type": "stream",
     "text": [
      "<tf.Variable 'Adam_2/learning_rate:0' shape=() dtype=float32>\n",
      "<tf.Variable 'Adam_2/learning_rate:0' shape=() dtype=float32>\n",
      "Original Data Shape (selected):  (2500, 36)\n",
      "Original Data Shape (encoded):  (2500, 36)\n",
      "Original Data Class Distribution:  1075  (true) / 1425  (false)\n",
      "(1500, 36) (1500,)\n",
      "(500, 36) (500,)\n",
      "(500, 36) (500,)\n",
      "Min Ratio:  0.42\n",
      "Min Ratio:  0.5\n",
      "Min Ratio:  0.4235\n",
      "Min Ratio:  0.5\n"
     ]
    },
    {
     "data": {
      "application/vnd.jupyter.widget-view+json": {
       "model_id": "813f3964d218486fb7cffe4432fc1a71",
       "version_major": 2,
       "version_minor": 0
      },
      "text/plain": [
       "restarts:   0%|          | 0/1 [00:00<?, ?it/s]"
      ]
     },
     "metadata": {},
     "output_type": "display_data"
    },
    {
     "data": {
      "application/vnd.jupyter.widget-view+json": {
       "model_id": "7e8998a295bb44e99c738a0e6b6c8876",
       "version_major": 2,
       "version_minor": 0
      },
      "text/plain": [
       "epochs:   0%|          | 0/1 [00:00<?, ?it/s]"
      ]
     },
     "metadata": {},
     "output_type": "display_data"
    },
    {
     "name": "stdout",
     "output_type": "stream",
     "text": [
      "<tf.Variable 'Adam_2/learning_rate:0' shape=() dtype=float32>\n",
      "<tf.Variable 'Adam_2/learning_rate:0' shape=() dtype=float32>\n",
      "Original Data Shape (selected):  (2500, 36)\n",
      "Original Data Shape (encoded):  (2500, 36)\n",
      "Original Data Class Distribution:  1023  (true) / 1477  (false)\n",
      "(1500, 36) (1500,)\n",
      "(500, 36) (500,)\n",
      "(500, 36) (500,)\n",
      "Min Ratio:  0.424\n",
      "Min Ratio:  0.5\n",
      "Min Ratio:  0.4125\n",
      "Min Ratio:  0.5\n"
     ]
    },
    {
     "data": {
      "application/vnd.jupyter.widget-view+json": {
       "model_id": "94974d4079d64fbc87b0625dbeeed47a",
       "version_major": 2,
       "version_minor": 0
      },
      "text/plain": [
       "restarts:   0%|          | 0/1 [00:00<?, ?it/s]"
      ]
     },
     "metadata": {},
     "output_type": "display_data"
    },
    {
     "data": {
      "application/vnd.jupyter.widget-view+json": {
       "model_id": "77d7895777bb43858027f6aa6b78ede2",
       "version_major": 2,
       "version_minor": 0
      },
      "text/plain": [
       "epochs:   0%|          | 0/1 [00:00<?, ?it/s]"
      ]
     },
     "metadata": {},
     "output_type": "display_data"
    },
    {
     "name": "stdout",
     "output_type": "stream",
     "text": [
      "<tf.Variable 'Adam_2/learning_rate:0' shape=() dtype=float32>\n",
      "<tf.Variable 'Adam_2/learning_rate:0' shape=() dtype=float32>\n",
      "Original Data Shape (selected):  (2500, 36)\n",
      "Original Data Shape (encoded):  (2500, 36)\n",
      "Original Data Class Distribution:  1005  (true) / 1495  (false)\n",
      "(1500, 36) (1500,)\n",
      "(500, 36) (500,)\n",
      "(500, 36) (500,)\n",
      "Min Ratio:  0.406\n",
      "Min Ratio:  0.5\n",
      "Min Ratio:  0.4115\n",
      "Min Ratio:  0.5\n"
     ]
    },
    {
     "data": {
      "application/vnd.jupyter.widget-view+json": {
       "model_id": "b20940150d674552b95157aaf8118e7b",
       "version_major": 2,
       "version_minor": 0
      },
      "text/plain": [
       "restarts:   0%|          | 0/1 [00:00<?, ?it/s]"
      ]
     },
     "metadata": {},
     "output_type": "display_data"
    },
    {
     "data": {
      "application/vnd.jupyter.widget-view+json": {
       "model_id": "bd9e981948fa4487af1d3cc0f9c0cc81",
       "version_major": 2,
       "version_minor": 0
      },
      "text/plain": [
       "epochs:   0%|          | 0/1 [00:00<?, ?it/s]"
      ]
     },
     "metadata": {},
     "output_type": "display_data"
    },
    {
     "name": "stdout",
     "output_type": "stream",
     "text": [
      "<tf.Variable 'Adam_2/learning_rate:0' shape=() dtype=float32>\n",
      "<tf.Variable 'Adam_2/learning_rate:0' shape=() dtype=float32>\n",
      "Original Data Shape (selected):  (2500, 36)\n",
      "Original Data Shape (encoded):  (2500, 36)\n",
      "Original Data Class Distribution:  1016  (true) / 1484  (false)\n",
      "(1500, 36) (1500,)\n",
      "(500, 36) (500,)\n",
      "(500, 36) (500,)\n",
      "Min Ratio:  0.3953333333333333\n",
      "Min Ratio:  0.5\n",
      "Min Ratio:  0.4075\n",
      "Min Ratio:  0.5\n"
     ]
    },
    {
     "data": {
      "application/vnd.jupyter.widget-view+json": {
       "model_id": "75c8c6905ded468fa7928dd60638217c",
       "version_major": 2,
       "version_minor": 0
      },
      "text/plain": [
       "restarts:   0%|          | 0/1 [00:00<?, ?it/s]"
      ]
     },
     "metadata": {},
     "output_type": "display_data"
    },
    {
     "data": {
      "application/vnd.jupyter.widget-view+json": {
       "model_id": "0512a7d02d6342d1ae69c3ec111516b4",
       "version_major": 2,
       "version_minor": 0
      },
      "text/plain": [
       "epochs:   0%|          | 0/1 [00:00<?, ?it/s]"
      ]
     },
     "metadata": {},
     "output_type": "display_data"
    },
    {
     "name": "stdout",
     "output_type": "stream",
     "text": [
      "<tf.Variable 'Adam_2/learning_rate:0' shape=() dtype=float32>\n",
      "<tf.Variable 'Adam_2/learning_rate:0' shape=() dtype=float32>\n",
      "Original Data Shape (selected):  (2500, 36)\n",
      "Original Data Shape (encoded):  (2500, 36)\n",
      "Original Data Class Distribution:  1001  (true) / 1499  (false)\n",
      "(1500, 36) (1500,)\n",
      "(500, 36) (500,)\n",
      "(500, 36) (500,)\n",
      "Min Ratio:  0.4\n",
      "Min Ratio:  0.5\n",
      "Min Ratio:  0.3955\n",
      "Min Ratio:  0.5\n"
     ]
    },
    {
     "data": {
      "application/vnd.jupyter.widget-view+json": {
       "model_id": "24a384c4655a487caa7a2095d75243cd",
       "version_major": 2,
       "version_minor": 0
      },
      "text/plain": [
       "restarts:   0%|          | 0/1 [00:00<?, ?it/s]"
      ]
     },
     "metadata": {},
     "output_type": "display_data"
    },
    {
     "data": {
      "application/vnd.jupyter.widget-view+json": {
       "model_id": "68270846fe8849ea9be1f0ff23a9a47a",
       "version_major": 2,
       "version_minor": 0
      },
      "text/plain": [
       "epochs:   0%|          | 0/1 [00:00<?, ?it/s]"
      ]
     },
     "metadata": {},
     "output_type": "display_data"
    },
    {
     "name": "stdout",
     "output_type": "stream",
     "text": [
      "<tf.Variable 'Adam_2/learning_rate:0' shape=() dtype=float32>\n",
      "<tf.Variable 'Adam_2/learning_rate:0' shape=() dtype=float32>\n",
      "Original Data Shape (selected):  (2500, 36)\n",
      "Original Data Shape (encoded):  (2500, 36)\n",
      "Original Data Class Distribution:  934  (true) / 1566  (false)\n",
      "(1500, 36) (1500,)\n",
      "(500, 36) (500,)\n",
      "(500, 36) (500,)\n",
      "Min Ratio:  0.37533333333333335\n",
      "Min Ratio:  0.5\n",
      "Min Ratio:  0.377\n",
      "Min Ratio:  0.5\n"
     ]
    },
    {
     "data": {
      "application/vnd.jupyter.widget-view+json": {
       "model_id": "91ac991db8b24794865d57e26e6b1d40",
       "version_major": 2,
       "version_minor": 0
      },
      "text/plain": [
       "restarts:   0%|          | 0/1 [00:00<?, ?it/s]"
      ]
     },
     "metadata": {},
     "output_type": "display_data"
    },
    {
     "data": {
      "application/vnd.jupyter.widget-view+json": {
       "model_id": "aa467e9bd43f423ba26031bf39917c2f",
       "version_major": 2,
       "version_minor": 0
      },
      "text/plain": [
       "epochs:   0%|          | 0/1 [00:00<?, ?it/s]"
      ]
     },
     "metadata": {},
     "output_type": "display_data"
    },
    {
     "name": "stdout",
     "output_type": "stream",
     "text": [
      "<tf.Variable 'Adam_2/learning_rate:0' shape=() dtype=float32>\n",
      "<tf.Variable 'Adam_2/learning_rate:0' shape=() dtype=float32>\n",
      "Original Data Shape (selected):  (2500, 36)\n",
      "Original Data Shape (encoded):  (2500, 36)\n",
      "Original Data Class Distribution:  936  (true) / 1564  (false)\n",
      "(1500, 36) (1500,)\n",
      "(500, 36) (500,)\n",
      "(500, 36) (500,)\n",
      "Min Ratio:  0.37266666666666665\n",
      "Min Ratio:  0.5\n",
      "Min Ratio:  0.3715\n",
      "Min Ratio:  0.5\n"
     ]
    },
    {
     "data": {
      "application/vnd.jupyter.widget-view+json": {
       "model_id": "9916dab4531940f6a2a720f7ef1d1d8a",
       "version_major": 2,
       "version_minor": 0
      },
      "text/plain": [
       "restarts:   0%|          | 0/1 [00:00<?, ?it/s]"
      ]
     },
     "metadata": {},
     "output_type": "display_data"
    },
    {
     "data": {
      "application/vnd.jupyter.widget-view+json": {
       "model_id": "2bfe219c64e84df79a56dc456dd9db3f",
       "version_major": 2,
       "version_minor": 0
      },
      "text/plain": [
       "epochs:   0%|          | 0/1 [00:00<?, ?it/s]"
      ]
     },
     "metadata": {},
     "output_type": "display_data"
    },
    {
     "name": "stdout",
     "output_type": "stream",
     "text": [
      "<tf.Variable 'Adam_2/learning_rate:0' shape=() dtype=float32>\n",
      "<tf.Variable 'Adam_2/learning_rate:0' shape=() dtype=float32>\n",
      "Original Data Shape (selected):  (2500, 36)\n",
      "Original Data Shape (encoded):  (2500, 36)\n",
      "Original Data Class Distribution:  934  (true) / 1566  (false)\n",
      "(1500, 36) (1500,)\n",
      "(500, 36) (500,)\n",
      "(500, 36) (500,)\n",
      "Min Ratio:  0.37066666666666664\n",
      "Min Ratio:  0.5\n",
      "Min Ratio:  0.38\n",
      "Min Ratio:  0.5\n"
     ]
    },
    {
     "data": {
      "application/vnd.jupyter.widget-view+json": {
       "model_id": "d502a04823d24a1493799c5a83ec74fe",
       "version_major": 2,
       "version_minor": 0
      },
      "text/plain": [
       "restarts:   0%|          | 0/1 [00:00<?, ?it/s]"
      ]
     },
     "metadata": {},
     "output_type": "display_data"
    },
    {
     "data": {
      "application/vnd.jupyter.widget-view+json": {
       "model_id": "2a47a8eee35b4cb196df5347bcac97be",
       "version_major": 2,
       "version_minor": 0
      },
      "text/plain": [
       "epochs:   0%|          | 0/1 [00:00<?, ?it/s]"
      ]
     },
     "metadata": {},
     "output_type": "display_data"
    },
    {
     "name": "stdout",
     "output_type": "stream",
     "text": [
      "<tf.Variable 'Adam_2/learning_rate:0' shape=() dtype=float32>\n",
      "<tf.Variable 'Adam_2/learning_rate:0' shape=() dtype=float32>\n",
      "Original Data Shape (selected):  (2500, 36)\n",
      "Original Data Shape (encoded):  (2500, 36)\n",
      "Original Data Class Distribution:  867  (true) / 1633  (false)\n",
      "(1500, 36) (1500,)\n",
      "(500, 36) (500,)\n",
      "(500, 36) (500,)\n",
      "Min Ratio:  0.344\n",
      "Min Ratio:  0.5\n",
      "Min Ratio:  0.345\n",
      "Min Ratio:  0.5\n"
     ]
    },
    {
     "data": {
      "application/vnd.jupyter.widget-view+json": {
       "model_id": "cd86425df56f4032b3ea063c8bdd25bf",
       "version_major": 2,
       "version_minor": 0
      },
      "text/plain": [
       "restarts:   0%|          | 0/1 [00:00<?, ?it/s]"
      ]
     },
     "metadata": {},
     "output_type": "display_data"
    },
    {
     "data": {
      "application/vnd.jupyter.widget-view+json": {
       "model_id": "6a7f92548fc048f79efc590ae8ce4ba8",
       "version_major": 2,
       "version_minor": 0
      },
      "text/plain": [
       "epochs:   0%|          | 0/1 [00:00<?, ?it/s]"
      ]
     },
     "metadata": {},
     "output_type": "display_data"
    },
    {
     "name": "stdout",
     "output_type": "stream",
     "text": [
      "<tf.Variable 'Adam_2/learning_rate:0' shape=() dtype=float32>\n",
      "<tf.Variable 'Adam_2/learning_rate:0' shape=() dtype=float32>\n",
      "Original Data Shape (selected):  (2500, 36)\n",
      "Original Data Shape (encoded):  (2500, 36)\n",
      "Original Data Class Distribution:  928  (true) / 1572  (false)\n",
      "(1500, 36) (1500,)\n",
      "(500, 36) (500,)\n",
      "(500, 36) (500,)\n",
      "Min Ratio:  0.36733333333333335\n",
      "Min Ratio:  0.5\n",
      "Min Ratio:  0.3715\n",
      "Min Ratio:  0.5\n"
     ]
    },
    {
     "data": {
      "application/vnd.jupyter.widget-view+json": {
       "model_id": "6102d24e38d54ecba3bc9d48bc953762",
       "version_major": 2,
       "version_minor": 0
      },
      "text/plain": [
       "restarts:   0%|          | 0/1 [00:00<?, ?it/s]"
      ]
     },
     "metadata": {},
     "output_type": "display_data"
    },
    {
     "data": {
      "application/vnd.jupyter.widget-view+json": {
       "model_id": "0818d990f3d347babdb5944946645802",
       "version_major": 2,
       "version_minor": 0
      },
      "text/plain": [
       "epochs:   0%|          | 0/1 [00:00<?, ?it/s]"
      ]
     },
     "metadata": {},
     "output_type": "display_data"
    },
    {
     "name": "stdout",
     "output_type": "stream",
     "text": [
      "<tf.Variable 'Adam_2/learning_rate:0' shape=() dtype=float32>\n",
      "<tf.Variable 'Adam_2/learning_rate:0' shape=() dtype=float32>\n",
      "Original Data Shape (selected):  (2500, 36)\n",
      "Original Data Shape (encoded):  (2500, 36)\n",
      "Original Data Class Distribution:  916  (true) / 1584  (false)\n",
      "(1500, 36) (1500,)\n",
      "(500, 36) (500,)\n",
      "(500, 36) (500,)\n",
      "Min Ratio:  0.372\n",
      "Min Ratio:  0.5\n",
      "Min Ratio:  0.37\n",
      "Min Ratio:  0.5\n"
     ]
    },
    {
     "data": {
      "application/vnd.jupyter.widget-view+json": {
       "model_id": "b590b8fc0da0416dbe575a52c159c85a",
       "version_major": 2,
       "version_minor": 0
      },
      "text/plain": [
       "restarts:   0%|          | 0/1 [00:00<?, ?it/s]"
      ]
     },
     "metadata": {},
     "output_type": "display_data"
    },
    {
     "data": {
      "application/vnd.jupyter.widget-view+json": {
       "model_id": "439bf53ec427450085c1b7e179f30416",
       "version_major": 2,
       "version_minor": 0
      },
      "text/plain": [
       "epochs:   0%|          | 0/1 [00:00<?, ?it/s]"
      ]
     },
     "metadata": {},
     "output_type": "display_data"
    },
    {
     "name": "stdout",
     "output_type": "stream",
     "text": [
      "<tf.Variable 'Adam_2/learning_rate:0' shape=() dtype=float32>\n",
      "<tf.Variable 'Adam_2/learning_rate:0' shape=() dtype=float32>\n",
      "Original Data Shape (selected):  (2500, 36)\n",
      "Original Data Shape (encoded):  (2500, 36)\n",
      "Original Data Class Distribution:  876  (true) / 1624  (false)\n",
      "(1500, 36) (1500,)\n",
      "(500, 36) (500,)\n",
      "(500, 36) (500,)\n",
      "Min Ratio:  0.3606666666666667\n",
      "Min Ratio:  0.5\n",
      "Min Ratio:  0.355\n",
      "Min Ratio:  0.5\n"
     ]
    },
    {
     "data": {
      "application/vnd.jupyter.widget-view+json": {
       "model_id": "b6079c95ed634eb3b11d2454a0c935d1",
       "version_major": 2,
       "version_minor": 0
      },
      "text/plain": [
       "restarts:   0%|          | 0/1 [00:00<?, ?it/s]"
      ]
     },
     "metadata": {},
     "output_type": "display_data"
    },
    {
     "data": {
      "application/vnd.jupyter.widget-view+json": {
       "model_id": "190d0043076540c3ac4584663e6f5232",
       "version_major": 2,
       "version_minor": 0
      },
      "text/plain": [
       "epochs:   0%|          | 0/1 [00:00<?, ?it/s]"
      ]
     },
     "metadata": {},
     "output_type": "display_data"
    },
    {
     "name": "stdout",
     "output_type": "stream",
     "text": [
      "<tf.Variable 'Adam_2/learning_rate:0' shape=() dtype=float32>\n",
      "<tf.Variable 'Adam_2/learning_rate:0' shape=() dtype=float32>\n",
      "Original Data Shape (selected):  (2500, 36)\n",
      "Original Data Shape (encoded):  (2500, 36)\n",
      "Original Data Class Distribution:  871  (true) / 1629  (false)\n",
      "(1500, 36) (1500,)\n",
      "(500, 36) (500,)\n",
      "(500, 36) (500,)\n",
      "Min Ratio:  0.354\n",
      "Min Ratio:  0.5\n",
      "Min Ratio:  0.349\n",
      "Min Ratio:  0.5\n"
     ]
    },
    {
     "data": {
      "application/vnd.jupyter.widget-view+json": {
       "model_id": "2bfe2c2bf1bf4cde9864d273abfca73d",
       "version_major": 2,
       "version_minor": 0
      },
      "text/plain": [
       "restarts:   0%|          | 0/1 [00:00<?, ?it/s]"
      ]
     },
     "metadata": {},
     "output_type": "display_data"
    },
    {
     "data": {
      "application/vnd.jupyter.widget-view+json": {
       "model_id": "3bc1edd1de894d0ca60f98bf21945cad",
       "version_major": 2,
       "version_minor": 0
      },
      "text/plain": [
       "epochs:   0%|          | 0/1 [00:00<?, ?it/s]"
      ]
     },
     "metadata": {},
     "output_type": "display_data"
    },
    {
     "name": "stdout",
     "output_type": "stream",
     "text": [
      "<tf.Variable 'Adam_2/learning_rate:0' shape=() dtype=float32>\n",
      "<tf.Variable 'Adam_2/learning_rate:0' shape=() dtype=float32>\n",
      "Original Data Shape (selected):  (2500, 36)\n",
      "Original Data Shape (encoded):  (2500, 36)\n",
      "Original Data Class Distribution:  861  (true) / 1639  (false)\n",
      "(1500, 36) (1500,)\n",
      "(500, 36) (500,)\n",
      "(500, 36) (500,)\n",
      "Min Ratio:  0.36933333333333335\n",
      "Min Ratio:  0.5\n",
      "Min Ratio:  0.352\n",
      "Min Ratio:  0.5\n"
     ]
    },
    {
     "data": {
      "application/vnd.jupyter.widget-view+json": {
       "model_id": "fd936baf33aa4c3eaa04d3a2a0920325",
       "version_major": 2,
       "version_minor": 0
      },
      "text/plain": [
       "restarts:   0%|          | 0/1 [00:00<?, ?it/s]"
      ]
     },
     "metadata": {},
     "output_type": "display_data"
    },
    {
     "data": {
      "application/vnd.jupyter.widget-view+json": {
       "model_id": "0b7ac099ff3242eb8889a8c4e0959e26",
       "version_major": 2,
       "version_minor": 0
      },
      "text/plain": [
       "epochs:   0%|          | 0/1 [00:00<?, ?it/s]"
      ]
     },
     "metadata": {},
     "output_type": "display_data"
    },
    {
     "name": "stdout",
     "output_type": "stream",
     "text": [
      "<tf.Variable 'Adam_2/learning_rate:0' shape=() dtype=float32>\n",
      "<tf.Variable 'Adam_2/learning_rate:0' shape=() dtype=float32>\n",
      "Original Data Shape (selected):  (2500, 36)\n",
      "Original Data Shape (encoded):  (2500, 36)\n",
      "Original Data Class Distribution:  860  (true) / 1640  (false)\n",
      "(1500, 36) (1500,)\n",
      "(500, 36) (500,)\n",
      "(500, 36) (500,)\n",
      "Min Ratio:  0.3506666666666667\n",
      "Min Ratio:  0.5\n",
      "Min Ratio:  0.347\n",
      "Min Ratio:  0.5\n"
     ]
    },
    {
     "data": {
      "application/vnd.jupyter.widget-view+json": {
       "model_id": "2004067d6de447cc8eebe79ea42f4fc2",
       "version_major": 2,
       "version_minor": 0
      },
      "text/plain": [
       "restarts:   0%|          | 0/1 [00:00<?, ?it/s]"
      ]
     },
     "metadata": {},
     "output_type": "display_data"
    },
    {
     "data": {
      "application/vnd.jupyter.widget-view+json": {
       "model_id": "ea0d00b5f6074a148ceb050fa86a0255",
       "version_major": 2,
       "version_minor": 0
      },
      "text/plain": [
       "epochs:   0%|          | 0/1 [00:00<?, ?it/s]"
      ]
     },
     "metadata": {},
     "output_type": "display_data"
    },
    {
     "name": "stdout",
     "output_type": "stream",
     "text": [
      "<tf.Variable 'Adam_2/learning_rate:0' shape=() dtype=float32>\n",
      "<tf.Variable 'Adam_2/learning_rate:0' shape=() dtype=float32>\n",
      "Original Data Shape (selected):  (2500, 36)\n",
      "Original Data Shape (encoded):  (2500, 36)\n",
      "Original Data Class Distribution:  807  (true) / 1693  (false)\n",
      "(1500, 36) (1500,)\n",
      "(500, 36) (500,)\n",
      "(500, 36) (500,)\n",
      "Min Ratio:  0.32866666666666666\n",
      "Min Ratio:  0.5\n",
      "Min Ratio:  0.326\n",
      "Min Ratio:  0.5\n"
     ]
    },
    {
     "data": {
      "application/vnd.jupyter.widget-view+json": {
       "model_id": "d07f020590ad4f14aa2c220d2621aa16",
       "version_major": 2,
       "version_minor": 0
      },
      "text/plain": [
       "restarts:   0%|          | 0/1 [00:00<?, ?it/s]"
      ]
     },
     "metadata": {},
     "output_type": "display_data"
    },
    {
     "data": {
      "application/vnd.jupyter.widget-view+json": {
       "model_id": "82c890dac1f74975b8bc4cc5deae3103",
       "version_major": 2,
       "version_minor": 0
      },
      "text/plain": [
       "epochs:   0%|          | 0/1 [00:00<?, ?it/s]"
      ]
     },
     "metadata": {},
     "output_type": "display_data"
    },
    {
     "name": "stdout",
     "output_type": "stream",
     "text": [
      "<tf.Variable 'Adam_2/learning_rate:0' shape=() dtype=float32>\n",
      "<tf.Variable 'Adam_2/learning_rate:0' shape=() dtype=float32>\n",
      "Original Data Shape (selected):  (2500, 36)\n",
      "Original Data Shape (encoded):  (2500, 36)\n",
      "Original Data Class Distribution:  847  (true) / 1653  (false)\n",
      "(1500, 36) (1500,)\n",
      "(500, 36) (500,)\n",
      "(500, 36) (500,)\n",
      "Min Ratio:  0.332\n",
      "Min Ratio:  0.5\n",
      "Min Ratio:  0.3385\n",
      "Min Ratio:  0.5\n"
     ]
    },
    {
     "data": {
      "application/vnd.jupyter.widget-view+json": {
       "model_id": "8748a7788a9144b7ad6e7175e26b9c25",
       "version_major": 2,
       "version_minor": 0
      },
      "text/plain": [
       "restarts:   0%|          | 0/1 [00:00<?, ?it/s]"
      ]
     },
     "metadata": {},
     "output_type": "display_data"
    },
    {
     "data": {
      "application/vnd.jupyter.widget-view+json": {
       "model_id": "9b627ba69e1647878974741036ff6d99",
       "version_major": 2,
       "version_minor": 0
      },
      "text/plain": [
       "epochs:   0%|          | 0/1 [00:00<?, ?it/s]"
      ]
     },
     "metadata": {},
     "output_type": "display_data"
    },
    {
     "name": "stdout",
     "output_type": "stream",
     "text": [
      "<tf.Variable 'Adam_2/learning_rate:0' shape=() dtype=float32>\n",
      "<tf.Variable 'Adam_2/learning_rate:0' shape=() dtype=float32>\n",
      "Original Data Shape (selected):  (2500, 36)\n",
      "Original Data Shape (encoded):  (2500, 36)\n",
      "Original Data Class Distribution:  774  (true) / 1726  (false)\n",
      "(1500, 36) (1500,)\n",
      "(500, 36) (500,)\n",
      "(500, 36) (500,)\n",
      "Min Ratio:  0.29133333333333333\n",
      "Min Ratio:  0.5\n",
      "Min Ratio:  0.3025\n",
      "Min Ratio:  0.5\n"
     ]
    },
    {
     "data": {
      "application/vnd.jupyter.widget-view+json": {
       "model_id": "fd7d4adc23fc433fb4d46620e77fd73d",
       "version_major": 2,
       "version_minor": 0
      },
      "text/plain": [
       "restarts:   0%|          | 0/1 [00:00<?, ?it/s]"
      ]
     },
     "metadata": {},
     "output_type": "display_data"
    },
    {
     "data": {
      "application/vnd.jupyter.widget-view+json": {
       "model_id": "bc63a1a8fba24799ad9786fae8fe9226",
       "version_major": 2,
       "version_minor": 0
      },
      "text/plain": [
       "epochs:   0%|          | 0/1 [00:00<?, ?it/s]"
      ]
     },
     "metadata": {},
     "output_type": "display_data"
    },
    {
     "name": "stdout",
     "output_type": "stream",
     "text": [
      "<tf.Variable 'Adam_2/learning_rate:0' shape=() dtype=float32>\n",
      "<tf.Variable 'Adam_2/learning_rate:0' shape=() dtype=float32>\n",
      "Original Data Shape (selected):  (2500, 36)\n",
      "Original Data Shape (encoded):  (2500, 36)\n",
      "Original Data Class Distribution:  822  (true) / 1678  (false)\n",
      "(1500, 36) (1500,)\n",
      "(500, 36) (500,)\n",
      "(500, 36) (500,)\n",
      "Min Ratio:  0.33666666666666667\n",
      "Min Ratio:  0.5\n",
      "Min Ratio:  0.3345\n",
      "Min Ratio:  0.5\n"
     ]
    },
    {
     "data": {
      "application/vnd.jupyter.widget-view+json": {
       "model_id": "e5176693d8174714824df56cc148dc19",
       "version_major": 2,
       "version_minor": 0
      },
      "text/plain": [
       "restarts:   0%|          | 0/1 [00:00<?, ?it/s]"
      ]
     },
     "metadata": {},
     "output_type": "display_data"
    },
    {
     "data": {
      "application/vnd.jupyter.widget-view+json": {
       "model_id": "c807eef3a94f49ac8fe2ca54d537d85c",
       "version_major": 2,
       "version_minor": 0
      },
      "text/plain": [
       "epochs:   0%|          | 0/1 [00:00<?, ?it/s]"
      ]
     },
     "metadata": {},
     "output_type": "display_data"
    },
    {
     "name": "stdout",
     "output_type": "stream",
     "text": [
      "<tf.Variable 'Adam_2/learning_rate:0' shape=() dtype=float32>\n",
      "<tf.Variable 'Adam_2/learning_rate:0' shape=() dtype=float32>\n",
      "Original Data Shape (selected):  (2500, 36)\n",
      "Original Data Shape (encoded):  (2500, 36)\n",
      "Original Data Class Distribution:  801  (true) / 1699  (false)\n",
      "(1500, 36) (1500,)\n",
      "(500, 36) (500,)\n",
      "(500, 36) (500,)\n",
      "Min Ratio:  0.3233333333333333\n",
      "Min Ratio:  0.5\n",
      "Min Ratio:  0.326\n",
      "Min Ratio:  0.5\n"
     ]
    },
    {
     "data": {
      "application/vnd.jupyter.widget-view+json": {
       "model_id": "38315a9a853e49f6b38310910394a494",
       "version_major": 2,
       "version_minor": 0
      },
      "text/plain": [
       "restarts:   0%|          | 0/1 [00:00<?, ?it/s]"
      ]
     },
     "metadata": {},
     "output_type": "display_data"
    },
    {
     "data": {
      "application/vnd.jupyter.widget-view+json": {
       "model_id": "287fea3d22ce4b0ba585e9de8120b3e9",
       "version_major": 2,
       "version_minor": 0
      },
      "text/plain": [
       "epochs:   0%|          | 0/1 [00:00<?, ?it/s]"
      ]
     },
     "metadata": {},
     "output_type": "display_data"
    },
    {
     "name": "stdout",
     "output_type": "stream",
     "text": [
      "<tf.Variable 'Adam_2/learning_rate:0' shape=() dtype=float32>\n",
      "<tf.Variable 'Adam_2/learning_rate:0' shape=() dtype=float32>\n",
      "Original Data Shape (selected):  (2500, 36)\n",
      "Original Data Shape (encoded):  (2500, 36)\n",
      "Original Data Class Distribution:  831  (true) / 1669  (false)\n",
      "(1500, 36) (1500,)\n",
      "(500, 36) (500,)\n",
      "(500, 36) (500,)\n",
      "Min Ratio:  0.318\n",
      "Min Ratio:  0.5\n",
      "Min Ratio:  0.328\n",
      "Min Ratio:  0.5\n"
     ]
    },
    {
     "data": {
      "application/vnd.jupyter.widget-view+json": {
       "model_id": "8020fae58ee84d5482c741a0da1ceca9",
       "version_major": 2,
       "version_minor": 0
      },
      "text/plain": [
       "restarts:   0%|          | 0/1 [00:00<?, ?it/s]"
      ]
     },
     "metadata": {},
     "output_type": "display_data"
    },
    {
     "data": {
      "application/vnd.jupyter.widget-view+json": {
       "model_id": "5e225e720f4347f891f5104eb5d02006",
       "version_major": 2,
       "version_minor": 0
      },
      "text/plain": [
       "epochs:   0%|          | 0/1 [00:00<?, ?it/s]"
      ]
     },
     "metadata": {},
     "output_type": "display_data"
    },
    {
     "name": "stdout",
     "output_type": "stream",
     "text": [
      "<tf.Variable 'Adam_2/learning_rate:0' shape=() dtype=float32>\n",
      "<tf.Variable 'Adam_2/learning_rate:0' shape=() dtype=float32>\n",
      "Original Data Shape (selected):  (2500, 36)\n",
      "Original Data Shape (encoded):  (2500, 36)\n",
      "Original Data Class Distribution:  830  (true) / 1670  (false)\n",
      "(1500, 36) (1500,)\n",
      "(500, 36) (500,)\n",
      "(500, 36) (500,)\n",
      "Min Ratio:  0.314\n",
      "Min Ratio:  0.5\n",
      "Min Ratio:  0.3305\n",
      "Min Ratio:  0.5\n"
     ]
    },
    {
     "data": {
      "application/vnd.jupyter.widget-view+json": {
       "model_id": "9953bb8259004a51b1d0799264dd9ae6",
       "version_major": 2,
       "version_minor": 0
      },
      "text/plain": [
       "restarts:   0%|          | 0/1 [00:00<?, ?it/s]"
      ]
     },
     "metadata": {},
     "output_type": "display_data"
    },
    {
     "data": {
      "application/vnd.jupyter.widget-view+json": {
       "model_id": "88f4504e70cb458fa40d939b9c9ea5f2",
       "version_major": 2,
       "version_minor": 0
      },
      "text/plain": [
       "epochs:   0%|          | 0/1 [00:00<?, ?it/s]"
      ]
     },
     "metadata": {},
     "output_type": "display_data"
    },
    {
     "name": "stdout",
     "output_type": "stream",
     "text": [
      "<tf.Variable 'Adam_2/learning_rate:0' shape=() dtype=float32>\n",
      "<tf.Variable 'Adam_2/learning_rate:0' shape=() dtype=float32>\n",
      "Original Data Shape (selected):  (2500, 36)\n",
      "Original Data Shape (encoded):  (2500, 36)\n",
      "Original Data Class Distribution:  822  (true) / 1678  (false)\n",
      "(1500, 36) (1500,)\n",
      "(500, 36) (500,)\n",
      "(500, 36) (500,)\n",
      "Min Ratio:  0.328\n",
      "Min Ratio:  0.5\n",
      "Min Ratio:  0.321\n",
      "Min Ratio:  0.5\n"
     ]
    },
    {
     "data": {
      "application/vnd.jupyter.widget-view+json": {
       "model_id": "c1d39dd84a9b4e1090ec634bca19292a",
       "version_major": 2,
       "version_minor": 0
      },
      "text/plain": [
       "restarts:   0%|          | 0/1 [00:00<?, ?it/s]"
      ]
     },
     "metadata": {},
     "output_type": "display_data"
    },
    {
     "data": {
      "application/vnd.jupyter.widget-view+json": {
       "model_id": "152507ac216a4f87973c2812ebd251df",
       "version_major": 2,
       "version_minor": 0
      },
      "text/plain": [
       "epochs:   0%|          | 0/1 [00:00<?, ?it/s]"
      ]
     },
     "metadata": {},
     "output_type": "display_data"
    },
    {
     "name": "stdout",
     "output_type": "stream",
     "text": [
      "<tf.Variable 'Adam_2/learning_rate:0' shape=() dtype=float32>\n",
      "<tf.Variable 'Adam_2/learning_rate:0' shape=() dtype=float32>\n",
      "Original Data Shape (selected):  (2500, 36)\n",
      "Original Data Shape (encoded):  (2500, 36)\n",
      "Original Data Class Distribution:  808  (true) / 1692  (false)\n",
      "(1500, 36) (1500,)\n",
      "(500, 36) (500,)\n",
      "(500, 36) (500,)\n",
      "Min Ratio:  0.32133333333333336\n",
      "Min Ratio:  0.5\n",
      "Min Ratio:  0.326\n",
      "Min Ratio:  0.5\n"
     ]
    },
    {
     "data": {
      "application/vnd.jupyter.widget-view+json": {
       "model_id": "e16bf9641bbe4124ae7faa49d80d002c",
       "version_major": 2,
       "version_minor": 0
      },
      "text/plain": [
       "restarts:   0%|          | 0/1 [00:00<?, ?it/s]"
      ]
     },
     "metadata": {},
     "output_type": "display_data"
    },
    {
     "data": {
      "application/vnd.jupyter.widget-view+json": {
       "model_id": "45fe913c10394e338ce55079b4b3b87d",
       "version_major": 2,
       "version_minor": 0
      },
      "text/plain": [
       "epochs:   0%|          | 0/1 [00:00<?, ?it/s]"
      ]
     },
     "metadata": {},
     "output_type": "display_data"
    },
    {
     "name": "stdout",
     "output_type": "stream",
     "text": [
      "<tf.Variable 'Adam_2/learning_rate:0' shape=() dtype=float32>\n",
      "<tf.Variable 'Adam_2/learning_rate:0' shape=() dtype=float32>\n",
      "Original Data Shape (selected):  (2500, 36)\n",
      "Original Data Shape (encoded):  (2500, 36)\n",
      "Original Data Class Distribution:  835  (true) / 1665  (false)\n",
      "(1500, 36) (1500,)\n",
      "(500, 36) (500,)\n",
      "(500, 36) (500,)\n",
      "Min Ratio:  0.336\n",
      "Min Ratio:  0.5\n",
      "Min Ratio:  0.3345\n",
      "Min Ratio:  0.5\n"
     ]
    },
    {
     "data": {
      "application/vnd.jupyter.widget-view+json": {
       "model_id": "6b481d48cc7645eba4dd437b74119d1b",
       "version_major": 2,
       "version_minor": 0
      },
      "text/plain": [
       "restarts:   0%|          | 0/1 [00:00<?, ?it/s]"
      ]
     },
     "metadata": {},
     "output_type": "display_data"
    },
    {
     "data": {
      "application/vnd.jupyter.widget-view+json": {
       "model_id": "64d71ce04b854ac8a1fd103f55a9ff42",
       "version_major": 2,
       "version_minor": 0
      },
      "text/plain": [
       "epochs:   0%|          | 0/1 [00:00<?, ?it/s]"
      ]
     },
     "metadata": {},
     "output_type": "display_data"
    },
    {
     "name": "stdout",
     "output_type": "stream",
     "text": [
      "<tf.Variable 'Adam_2/learning_rate:0' shape=() dtype=float32>\n",
      "<tf.Variable 'Adam_2/learning_rate:0' shape=() dtype=float32>\n",
      "Original Data Shape (selected):  (2500, 36)\n",
      "Original Data Shape (encoded):  (2500, 36)\n",
      "Original Data Class Distribution:  822  (true) / 1678  (false)\n",
      "(1500, 36) (1500,)\n",
      "(500, 36) (500,)\n",
      "(500, 36) (500,)\n",
      "Min Ratio:  0.3273333333333333\n",
      "Min Ratio:  0.5\n",
      "Min Ratio:  0.3225\n",
      "Min Ratio:  0.5\n"
     ]
    },
    {
     "data": {
      "application/vnd.jupyter.widget-view+json": {
       "model_id": "0f72228321df44fe819c0ae76a9a2600",
       "version_major": 2,
       "version_minor": 0
      },
      "text/plain": [
       "restarts:   0%|          | 0/1 [00:00<?, ?it/s]"
      ]
     },
     "metadata": {},
     "output_type": "display_data"
    },
    {
     "data": {
      "application/vnd.jupyter.widget-view+json": {
       "model_id": "f77a6dcdc1834879a4516b6889cbdc35",
       "version_major": 2,
       "version_minor": 0
      },
      "text/plain": [
       "epochs:   0%|          | 0/1 [00:00<?, ?it/s]"
      ]
     },
     "metadata": {},
     "output_type": "display_data"
    },
    {
     "name": "stdout",
     "output_type": "stream",
     "text": [
      "<tf.Variable 'Adam_2/learning_rate:0' shape=() dtype=float32>\n",
      "<tf.Variable 'Adam_2/learning_rate:0' shape=() dtype=float32>\n",
      "Original Data Shape (selected):  (2500, 36)\n",
      "Original Data Shape (encoded):  (2500, 36)\n",
      "Original Data Class Distribution:  789  (true) / 1711  (false)\n",
      "(1500, 36) (1500,)\n",
      "(500, 36) (500,)\n",
      "(500, 36) (500,)\n",
      "Min Ratio:  0.31466666666666665\n",
      "Min Ratio:  0.5\n",
      "Min Ratio:  0.3175\n",
      "Min Ratio:  0.5\n"
     ]
    },
    {
     "data": {
      "application/vnd.jupyter.widget-view+json": {
       "model_id": "9147a1cd9ff34ca9bc618b12e6879370",
       "version_major": 2,
       "version_minor": 0
      },
      "text/plain": [
       "restarts:   0%|          | 0/1 [00:00<?, ?it/s]"
      ]
     },
     "metadata": {},
     "output_type": "display_data"
    },
    {
     "data": {
      "application/vnd.jupyter.widget-view+json": {
       "model_id": "9558cd641b3d4e678a43c44ec15da2ad",
       "version_major": 2,
       "version_minor": 0
      },
      "text/plain": [
       "epochs:   0%|          | 0/1 [00:00<?, ?it/s]"
      ]
     },
     "metadata": {},
     "output_type": "display_data"
    },
    {
     "name": "stdout",
     "output_type": "stream",
     "text": [
      "<tf.Variable 'Adam_2/learning_rate:0' shape=() dtype=float32>\n",
      "<tf.Variable 'Adam_2/learning_rate:0' shape=() dtype=float32>\n",
      "Original Data Shape (selected):  (2500, 36)\n",
      "Original Data Shape (encoded):  (2500, 36)\n",
      "Original Data Class Distribution:  871  (true) / 1629  (false)\n",
      "(1500, 36) (1500,)\n",
      "(500, 36) (500,)\n",
      "(500, 36) (500,)\n",
      "Min Ratio:  0.358\n",
      "Min Ratio:  0.5\n",
      "Min Ratio:  0.3515\n",
      "Min Ratio:  0.5\n"
     ]
    },
    {
     "data": {
      "application/vnd.jupyter.widget-view+json": {
       "model_id": "674902b7bb4d470bb3a8843d35a21b97",
       "version_major": 2,
       "version_minor": 0
      },
      "text/plain": [
       "restarts:   0%|          | 0/1 [00:00<?, ?it/s]"
      ]
     },
     "metadata": {},
     "output_type": "display_data"
    },
    {
     "data": {
      "application/vnd.jupyter.widget-view+json": {
       "model_id": "ff8758e455324f47b893ef6877878d56",
       "version_major": 2,
       "version_minor": 0
      },
      "text/plain": [
       "epochs:   0%|          | 0/1 [00:00<?, ?it/s]"
      ]
     },
     "metadata": {},
     "output_type": "display_data"
    },
    {
     "name": "stdout",
     "output_type": "stream",
     "text": [
      "<tf.Variable 'Adam_2/learning_rate:0' shape=() dtype=float32>\n",
      "<tf.Variable 'Adam_2/learning_rate:0' shape=() dtype=float32>\n",
      "Original Data Shape (selected):  (2500, 36)\n",
      "Original Data Shape (encoded):  (2500, 36)\n",
      "Original Data Class Distribution:  849  (true) / 1651  (false)\n",
      "(1500, 36) (1500,)\n",
      "(500, 36) (500,)\n",
      "(500, 36) (500,)\n",
      "Min Ratio:  0.348\n",
      "Min Ratio:  0.5\n",
      "Min Ratio:  0.3485\n",
      "Min Ratio:  0.5\n"
     ]
    },
    {
     "data": {
      "application/vnd.jupyter.widget-view+json": {
       "model_id": "b4ca50dbf4d04e4b80ddf3d3cacdbc76",
       "version_major": 2,
       "version_minor": 0
      },
      "text/plain": [
       "restarts:   0%|          | 0/1 [00:00<?, ?it/s]"
      ]
     },
     "metadata": {},
     "output_type": "display_data"
    },
    {
     "data": {
      "application/vnd.jupyter.widget-view+json": {
       "model_id": "1456af7c47554b96933f684ea06ce997",
       "version_major": 2,
       "version_minor": 0
      },
      "text/plain": [
       "epochs:   0%|          | 0/1 [00:00<?, ?it/s]"
      ]
     },
     "metadata": {},
     "output_type": "display_data"
    },
    {
     "name": "stdout",
     "output_type": "stream",
     "text": [
      "<tf.Variable 'Adam_2/learning_rate:0' shape=() dtype=float32>\n",
      "<tf.Variable 'Adam_2/learning_rate:0' shape=() dtype=float32>\n",
      "Original Data Shape (selected):  (2500, 36)\n",
      "Original Data Shape (encoded):  (2500, 36)\n",
      "Original Data Class Distribution:  787  (true) / 1713  (false)\n",
      "(1500, 36) (1500,)\n",
      "(500, 36) (500,)\n",
      "(500, 36) (500,)\n",
      "Min Ratio:  0.31933333333333336\n",
      "Min Ratio:  0.5\n",
      "Min Ratio:  0.312\n",
      "Min Ratio:  0.5\n"
     ]
    },
    {
     "data": {
      "application/vnd.jupyter.widget-view+json": {
       "model_id": "94db07a380df4fa49aefcd6b69595ccc",
       "version_major": 2,
       "version_minor": 0
      },
      "text/plain": [
       "restarts:   0%|          | 0/1 [00:00<?, ?it/s]"
      ]
     },
     "metadata": {},
     "output_type": "display_data"
    },
    {
     "data": {
      "application/vnd.jupyter.widget-view+json": {
       "model_id": "cc3064e429da4bdea8c5858ff971d58d",
       "version_major": 2,
       "version_minor": 0
      },
      "text/plain": [
       "epochs:   0%|          | 0/1 [00:00<?, ?it/s]"
      ]
     },
     "metadata": {},
     "output_type": "display_data"
    },
    {
     "name": "stdout",
     "output_type": "stream",
     "text": [
      "<tf.Variable 'Adam_2/learning_rate:0' shape=() dtype=float32>\n",
      "<tf.Variable 'Adam_2/learning_rate:0' shape=() dtype=float32>\n",
      "Original Data Shape (selected):  (2500, 36)\n",
      "Original Data Shape (encoded):  (2500, 36)\n",
      "Original Data Class Distribution:  813  (true) / 1687  (false)\n",
      "(1500, 36) (1500,)\n",
      "(500, 36) (500,)\n",
      "(500, 36) (500,)\n",
      "Min Ratio:  0.3313333333333333\n",
      "Min Ratio:  0.5\n",
      "Min Ratio:  0.3235\n",
      "Min Ratio:  0.5\n"
     ]
    },
    {
     "data": {
      "application/vnd.jupyter.widget-view+json": {
       "model_id": "457ce45783da4736a72b533d15753764",
       "version_major": 2,
       "version_minor": 0
      },
      "text/plain": [
       "restarts:   0%|          | 0/1 [00:00<?, ?it/s]"
      ]
     },
     "metadata": {},
     "output_type": "display_data"
    },
    {
     "data": {
      "application/vnd.jupyter.widget-view+json": {
       "model_id": "b208e16027a849c1b4dc4e4ba0061563",
       "version_major": 2,
       "version_minor": 0
      },
      "text/plain": [
       "epochs:   0%|          | 0/1 [00:00<?, ?it/s]"
      ]
     },
     "metadata": {},
     "output_type": "display_data"
    },
    {
     "name": "stdout",
     "output_type": "stream",
     "text": [
      "<tf.Variable 'Adam_2/learning_rate:0' shape=() dtype=float32>\n",
      "<tf.Variable 'Adam_2/learning_rate:0' shape=() dtype=float32>\n",
      "Original Data Shape (selected):  (2500, 36)\n",
      "Original Data Shape (encoded):  (2500, 36)\n",
      "Original Data Class Distribution:  811  (true) / 1689  (false)\n",
      "(1500, 36) (1500,)\n",
      "(500, 36) (500,)\n",
      "(500, 36) (500,)\n",
      "Min Ratio:  0.318\n",
      "Min Ratio:  0.5\n",
      "Min Ratio:  0.3245\n",
      "Min Ratio:  0.5\n"
     ]
    },
    {
     "data": {
      "application/vnd.jupyter.widget-view+json": {
       "model_id": "50c16517ca274a4a94d592a3eea961aa",
       "version_major": 2,
       "version_minor": 0
      },
      "text/plain": [
       "restarts:   0%|          | 0/1 [00:00<?, ?it/s]"
      ]
     },
     "metadata": {},
     "output_type": "display_data"
    },
    {
     "data": {
      "application/vnd.jupyter.widget-view+json": {
       "model_id": "c482298d70924e9cbfb46c75d24eaf08",
       "version_major": 2,
       "version_minor": 0
      },
      "text/plain": [
       "epochs:   0%|          | 0/1 [00:00<?, ?it/s]"
      ]
     },
     "metadata": {},
     "output_type": "display_data"
    },
    {
     "name": "stdout",
     "output_type": "stream",
     "text": [
      "<tf.Variable 'Adam_2/learning_rate:0' shape=() dtype=float32>\n",
      "<tf.Variable 'Adam_2/learning_rate:0' shape=() dtype=float32>\n",
      "Original Data Shape (selected):  (2500, 36)\n",
      "Original Data Shape (encoded):  (2500, 36)\n",
      "Original Data Class Distribution:  843  (true) / 1657  (false)\n",
      "(1500, 36) (1500,)\n",
      "(500, 36) (500,)\n",
      "(500, 36) (500,)\n",
      "Min Ratio:  0.3393333333333333\n",
      "Min Ratio:  0.5\n",
      "Min Ratio:  0.3285\n",
      "Min Ratio:  0.5\n"
     ]
    },
    {
     "data": {
      "application/vnd.jupyter.widget-view+json": {
       "model_id": "c0ae21ce42ca41ed945a4fd9e2df7f28",
       "version_major": 2,
       "version_minor": 0
      },
      "text/plain": [
       "restarts:   0%|          | 0/1 [00:00<?, ?it/s]"
      ]
     },
     "metadata": {},
     "output_type": "display_data"
    },
    {
     "data": {
      "application/vnd.jupyter.widget-view+json": {
       "model_id": "db15e7a9271b4a4b83a43997eaf7efe4",
       "version_major": 2,
       "version_minor": 0
      },
      "text/plain": [
       "epochs:   0%|          | 0/1 [00:00<?, ?it/s]"
      ]
     },
     "metadata": {},
     "output_type": "display_data"
    },
    {
     "name": "stdout",
     "output_type": "stream",
     "text": [
      "<tf.Variable 'Adam_2/learning_rate:0' shape=() dtype=float32>\n",
      "<tf.Variable 'Adam_2/learning_rate:0' shape=() dtype=float32>\n",
      "Original Data Shape (selected):  (2500, 36)\n",
      "Original Data Shape (encoded):  (2500, 36)\n",
      "Original Data Class Distribution:  857  (true) / 1643  (false)\n",
      "(1500, 36) (1500,)\n",
      "(500, 36) (500,)\n",
      "(500, 36) (500,)\n",
      "Min Ratio:  0.3473333333333333\n",
      "Min Ratio:  0.5\n",
      "Min Ratio:  0.3435\n",
      "Min Ratio:  0.5\n"
     ]
    },
    {
     "data": {
      "application/vnd.jupyter.widget-view+json": {
       "model_id": "1782c9daa12a4c69a37cfed01ffa9e63",
       "version_major": 2,
       "version_minor": 0
      },
      "text/plain": [
       "restarts:   0%|          | 0/1 [00:00<?, ?it/s]"
      ]
     },
     "metadata": {},
     "output_type": "display_data"
    },
    {
     "data": {
      "application/vnd.jupyter.widget-view+json": {
       "model_id": "9b3761962dfc4a4a8b7ea548d9f7cf9e",
       "version_major": 2,
       "version_minor": 0
      },
      "text/plain": [
       "epochs:   0%|          | 0/1 [00:00<?, ?it/s]"
      ]
     },
     "metadata": {},
     "output_type": "display_data"
    },
    {
     "name": "stdout",
     "output_type": "stream",
     "text": [
      "<tf.Variable 'Adam_2/learning_rate:0' shape=() dtype=float32>\n",
      "<tf.Variable 'Adam_2/learning_rate:0' shape=() dtype=float32>\n",
      "Original Data Shape (selected):  (2500, 36)\n",
      "Original Data Shape (encoded):  (2500, 36)\n",
      "Original Data Class Distribution:  819  (true) / 1681  (false)\n",
      "(1500, 36) (1500,)\n",
      "(500, 36) (500,)\n",
      "(500, 36) (500,)\n",
      "Min Ratio:  0.31333333333333335\n",
      "Min Ratio:  0.5\n",
      "Min Ratio:  0.3195\n",
      "Min Ratio:  0.5\n"
     ]
    },
    {
     "data": {
      "application/vnd.jupyter.widget-view+json": {
       "model_id": "a8df81094cbe4f9b8a8d82e67b5977d3",
       "version_major": 2,
       "version_minor": 0
      },
      "text/plain": [
       "restarts:   0%|          | 0/1 [00:00<?, ?it/s]"
      ]
     },
     "metadata": {},
     "output_type": "display_data"
    },
    {
     "data": {
      "application/vnd.jupyter.widget-view+json": {
       "model_id": "4a029e6c2b744e89a4c7b863bbb18d49",
       "version_major": 2,
       "version_minor": 0
      },
      "text/plain": [
       "epochs:   0%|          | 0/1 [00:00<?, ?it/s]"
      ]
     },
     "metadata": {},
     "output_type": "display_data"
    },
    {
     "name": "stdout",
     "output_type": "stream",
     "text": [
      "<tf.Variable 'Adam_2/learning_rate:0' shape=() dtype=float32>\n",
      "<tf.Variable 'Adam_2/learning_rate:0' shape=() dtype=float32>\n",
      "Original Data Shape (selected):  (2500, 36)\n",
      "Original Data Shape (encoded):  (2500, 36)\n",
      "Original Data Class Distribution:  843  (true) / 1657  (false)\n",
      "(1500, 36) (1500,)\n",
      "(500, 36) (500,)\n",
      "(500, 36) (500,)\n",
      "Min Ratio:  0.326\n",
      "Min Ratio:  0.5\n",
      "Min Ratio:  0.339\n",
      "Min Ratio:  0.5\n"
     ]
    },
    {
     "data": {
      "application/vnd.jupyter.widget-view+json": {
       "model_id": "f441d840a1e942209d92f8f9ad322972",
       "version_major": 2,
       "version_minor": 0
      },
      "text/plain": [
       "restarts:   0%|          | 0/1 [00:00<?, ?it/s]"
      ]
     },
     "metadata": {},
     "output_type": "display_data"
    },
    {
     "data": {
      "application/vnd.jupyter.widget-view+json": {
       "model_id": "00365b0507ba445a9deff74be05f99b1",
       "version_major": 2,
       "version_minor": 0
      },
      "text/plain": [
       "epochs:   0%|          | 0/1 [00:00<?, ?it/s]"
      ]
     },
     "metadata": {},
     "output_type": "display_data"
    },
    {
     "name": "stdout",
     "output_type": "stream",
     "text": [
      "<tf.Variable 'Adam_2/learning_rate:0' shape=() dtype=float32>\n",
      "<tf.Variable 'Adam_2/learning_rate:0' shape=() dtype=float32>\n",
      "Original Data Shape (selected):  (2500, 36)\n",
      "Original Data Shape (encoded):  (2500, 36)\n",
      "Original Data Class Distribution:  784  (true) / 1716  (false)\n",
      "(1500, 36) (1500,)\n",
      "(500, 36) (500,)\n",
      "(500, 36) (500,)\n",
      "Min Ratio:  0.30133333333333334\n",
      "Min Ratio:  0.5\n",
      "Min Ratio:  0.3065\n",
      "Min Ratio:  0.5\n"
     ]
    },
    {
     "data": {
      "application/vnd.jupyter.widget-view+json": {
       "model_id": "530c4e6d47cd4dfd8f1cfa854692184d",
       "version_major": 2,
       "version_minor": 0
      },
      "text/plain": [
       "restarts:   0%|          | 0/1 [00:00<?, ?it/s]"
      ]
     },
     "metadata": {},
     "output_type": "display_data"
    },
    {
     "data": {
      "application/vnd.jupyter.widget-view+json": {
       "model_id": "637500ca3db647158e92298f93517e99",
       "version_major": 2,
       "version_minor": 0
      },
      "text/plain": [
       "epochs:   0%|          | 0/1 [00:00<?, ?it/s]"
      ]
     },
     "metadata": {},
     "output_type": "display_data"
    },
    {
     "name": "stdout",
     "output_type": "stream",
     "text": [
      "<tf.Variable 'Adam_2/learning_rate:0' shape=() dtype=float32>\n",
      "<tf.Variable 'Adam_2/learning_rate:0' shape=() dtype=float32>\n",
      "Original Data Shape (selected):  (2500, 36)\n",
      "Original Data Shape (encoded):  (2500, 36)\n",
      "Original Data Class Distribution:  788  (true) / 1712  (false)\n",
      "(1500, 36) (1500,)\n",
      "(500, 36) (500,)\n",
      "(500, 36) (500,)\n",
      "Min Ratio:  0.32066666666666666\n",
      "Min Ratio:  0.5\n",
      "Min Ratio:  0.313\n",
      "Min Ratio:  0.5\n"
     ]
    },
    {
     "data": {
      "application/vnd.jupyter.widget-view+json": {
       "model_id": "ab06f0a204f9421dbfc01ebc402d2159",
       "version_major": 2,
       "version_minor": 0
      },
      "text/plain": [
       "restarts:   0%|          | 0/1 [00:00<?, ?it/s]"
      ]
     },
     "metadata": {},
     "output_type": "display_data"
    },
    {
     "data": {
      "application/vnd.jupyter.widget-view+json": {
       "model_id": "163fbbea2b70431eb0dfec07d7a8ef31",
       "version_major": 2,
       "version_minor": 0
      },
      "text/plain": [
       "epochs:   0%|          | 0/1 [00:00<?, ?it/s]"
      ]
     },
     "metadata": {},
     "output_type": "display_data"
    },
    {
     "name": "stdout",
     "output_type": "stream",
     "text": [
      "<tf.Variable 'Adam_2/learning_rate:0' shape=() dtype=float32>\n",
      "<tf.Variable 'Adam_2/learning_rate:0' shape=() dtype=float32>\n",
      "Original Data Shape (selected):  (2500, 36)\n",
      "Original Data Shape (encoded):  (2500, 36)\n",
      "Original Data Class Distribution:  816  (true) / 1684  (false)\n",
      "(1500, 36) (1500,)\n",
      "(500, 36) (500,)\n",
      "(500, 36) (500,)\n",
      "Min Ratio:  0.332\n",
      "Min Ratio:  0.5\n",
      "Min Ratio:  0.3305\n",
      "Min Ratio:  0.5\n"
     ]
    },
    {
     "data": {
      "application/vnd.jupyter.widget-view+json": {
       "model_id": "9c43d8819bd441358f4ee52ea60802cc",
       "version_major": 2,
       "version_minor": 0
      },
      "text/plain": [
       "restarts:   0%|          | 0/1 [00:00<?, ?it/s]"
      ]
     },
     "metadata": {},
     "output_type": "display_data"
    },
    {
     "data": {
      "application/vnd.jupyter.widget-view+json": {
       "model_id": "f786f077b52c401eb8ad2d4641765db4",
       "version_major": 2,
       "version_minor": 0
      },
      "text/plain": [
       "epochs:   0%|          | 0/1 [00:00<?, ?it/s]"
      ]
     },
     "metadata": {},
     "output_type": "display_data"
    },
    {
     "name": "stdout",
     "output_type": "stream",
     "text": [
      "<tf.Variable 'Adam_2/learning_rate:0' shape=() dtype=float32>\n",
      "<tf.Variable 'Adam_2/learning_rate:0' shape=() dtype=float32>\n",
      "Original Data Shape (selected):  (2500, 36)\n",
      "Original Data Shape (encoded):  (2500, 36)\n",
      "Original Data Class Distribution:  795  (true) / 1705  (false)\n",
      "(1500, 36) (1500,)\n",
      "(500, 36) (500,)\n",
      "(500, 36) (500,)\n",
      "Min Ratio:  0.31333333333333335\n",
      "Min Ratio:  0.5\n",
      "Min Ratio:  0.3155\n",
      "Min Ratio:  0.5\n"
     ]
    },
    {
     "data": {
      "application/vnd.jupyter.widget-view+json": {
       "model_id": "af296338a8c54168a9f4a1798db0d6df",
       "version_major": 2,
       "version_minor": 0
      },
      "text/plain": [
       "restarts:   0%|          | 0/1 [00:00<?, ?it/s]"
      ]
     },
     "metadata": {},
     "output_type": "display_data"
    },
    {
     "data": {
      "application/vnd.jupyter.widget-view+json": {
       "model_id": "db0fcc94ddf24683bb5399cbdc646611",
       "version_major": 2,
       "version_minor": 0
      },
      "text/plain": [
       "epochs:   0%|          | 0/1 [00:00<?, ?it/s]"
      ]
     },
     "metadata": {},
     "output_type": "display_data"
    },
    {
     "name": "stdout",
     "output_type": "stream",
     "text": [
      "<tf.Variable 'Adam_2/learning_rate:0' shape=() dtype=float32>\n",
      "<tf.Variable 'Adam_2/learning_rate:0' shape=() dtype=float32>\n",
      "Original Data Shape (selected):  (2500, 36)\n",
      "Original Data Shape (encoded):  (2500, 36)\n",
      "Original Data Class Distribution:  778  (true) / 1722  (false)\n",
      "(1500, 36) (1500,)\n",
      "(500, 36) (500,)\n",
      "(500, 36) (500,)\n",
      "Min Ratio:  0.31666666666666665\n",
      "Min Ratio:  0.5\n",
      "Min Ratio:  0.3165\n",
      "Min Ratio:  0.5\n"
     ]
    },
    {
     "data": {
      "application/vnd.jupyter.widget-view+json": {
       "model_id": "acff57a607e841789d13c30362ef53a4",
       "version_major": 2,
       "version_minor": 0
      },
      "text/plain": [
       "restarts:   0%|          | 0/1 [00:00<?, ?it/s]"
      ]
     },
     "metadata": {},
     "output_type": "display_data"
    },
    {
     "data": {
      "application/vnd.jupyter.widget-view+json": {
       "model_id": "1adeb4ed6c064199b1ae556c477814e6",
       "version_major": 2,
       "version_minor": 0
      },
      "text/plain": [
       "epochs:   0%|          | 0/1 [00:00<?, ?it/s]"
      ]
     },
     "metadata": {},
     "output_type": "display_data"
    },
    {
     "name": "stdout",
     "output_type": "stream",
     "text": [
      "<tf.Variable 'Adam_2/learning_rate:0' shape=() dtype=float32>\n",
      "<tf.Variable 'Adam_2/learning_rate:0' shape=() dtype=float32>\n",
      "Original Data Shape (selected):  (2500, 36)\n",
      "Original Data Shape (encoded):  (2500, 36)\n",
      "Original Data Class Distribution:  828  (true) / 1672  (false)\n",
      "(1500, 36) (1500,)\n",
      "(500, 36) (500,)\n",
      "(500, 36) (500,)\n",
      "Min Ratio:  0.3406666666666667\n",
      "Min Ratio:  0.5\n",
      "Min Ratio:  0.337\n",
      "Min Ratio:  0.5\n"
     ]
    },
    {
     "data": {
      "application/vnd.jupyter.widget-view+json": {
       "model_id": "d2c10060a0ee4f94ba7acb8d596458a6",
       "version_major": 2,
       "version_minor": 0
      },
      "text/plain": [
       "restarts:   0%|          | 0/1 [00:00<?, ?it/s]"
      ]
     },
     "metadata": {},
     "output_type": "display_data"
    },
    {
     "data": {
      "application/vnd.jupyter.widget-view+json": {
       "model_id": "8f1f6aee89884c1897bebdd09caa680e",
       "version_major": 2,
       "version_minor": 0
      },
      "text/plain": [
       "epochs:   0%|          | 0/1 [00:00<?, ?it/s]"
      ]
     },
     "metadata": {},
     "output_type": "display_data"
    },
    {
     "name": "stdout",
     "output_type": "stream",
     "text": [
      "<tf.Variable 'Adam_2/learning_rate:0' shape=() dtype=float32>\n",
      "<tf.Variable 'Adam_2/learning_rate:0' shape=() dtype=float32>\n",
      "Original Data Shape (selected):  (2500, 36)\n",
      "Original Data Shape (encoded):  (2500, 36)\n",
      "Original Data Class Distribution:  786  (true) / 1714  (false)\n",
      "(1500, 36) (1500,)\n",
      "(500, 36) (500,)\n",
      "(500, 36) (500,)\n",
      "Min Ratio:  0.31666666666666665\n",
      "Min Ratio:  0.5\n",
      "Min Ratio:  0.318\n",
      "Min Ratio:  0.5\n"
     ]
    },
    {
     "data": {
      "application/vnd.jupyter.widget-view+json": {
       "model_id": "ac07fa17b3db486dbdac35d72d0eaccc",
       "version_major": 2,
       "version_minor": 0
      },
      "text/plain": [
       "restarts:   0%|          | 0/1 [00:00<?, ?it/s]"
      ]
     },
     "metadata": {},
     "output_type": "display_data"
    },
    {
     "data": {
      "application/vnd.jupyter.widget-view+json": {
       "model_id": "283b7ec3a12e4c0887c936e3f00c7ea7",
       "version_major": 2,
       "version_minor": 0
      },
      "text/plain": [
       "epochs:   0%|          | 0/1 [00:00<?, ?it/s]"
      ]
     },
     "metadata": {},
     "output_type": "display_data"
    },
    {
     "name": "stdout",
     "output_type": "stream",
     "text": [
      "<tf.Variable 'Adam_2/learning_rate:0' shape=() dtype=float32>\n",
      "<tf.Variable 'Adam_2/learning_rate:0' shape=() dtype=float32>\n",
      "Original Data Shape (selected):  (2500, 36)\n",
      "Original Data Shape (encoded):  (2500, 36)\n",
      "Original Data Class Distribution:  830  (true) / 1670  (false)\n",
      "(1500, 36) (1500,)\n",
      "(500, 36) (500,)\n",
      "(500, 36) (500,)\n",
      "Min Ratio:  0.33\n",
      "Min Ratio:  0.5\n",
      "Min Ratio:  0.334\n",
      "Min Ratio:  0.5\n"
     ]
    },
    {
     "data": {
      "application/vnd.jupyter.widget-view+json": {
       "model_id": "6d697c4f3e3a4979bf26fcfbdbf5f924",
       "version_major": 2,
       "version_minor": 0
      },
      "text/plain": [
       "restarts:   0%|          | 0/1 [00:00<?, ?it/s]"
      ]
     },
     "metadata": {},
     "output_type": "display_data"
    },
    {
     "data": {
      "application/vnd.jupyter.widget-view+json": {
       "model_id": "9499a85d742c432ebb509416e2c330ea",
       "version_major": 2,
       "version_minor": 0
      },
      "text/plain": [
       "epochs:   0%|          | 0/1 [00:00<?, ?it/s]"
      ]
     },
     "metadata": {},
     "output_type": "display_data"
    },
    {
     "name": "stdout",
     "output_type": "stream",
     "text": [
      "<tf.Variable 'Adam_2/learning_rate:0' shape=() dtype=float32>\n",
      "<tf.Variable 'Adam_2/learning_rate:0' shape=() dtype=float32>\n",
      "Original Data Shape (selected):  (2500, 36)\n",
      "Original Data Shape (encoded):  (2500, 36)\n",
      "Original Data Class Distribution:  825  (true) / 1675  (false)\n",
      "(1500, 36) (1500,)\n",
      "(500, 36) (500,)\n",
      "(500, 36) (500,)\n",
      "Min Ratio:  0.334\n",
      "Min Ratio:  0.5\n",
      "Min Ratio:  0.332\n",
      "Min Ratio:  0.5\n"
     ]
    },
    {
     "data": {
      "application/vnd.jupyter.widget-view+json": {
       "model_id": "0b459348b8854e538c93118b6fb5eba2",
       "version_major": 2,
       "version_minor": 0
      },
      "text/plain": [
       "restarts:   0%|          | 0/1 [00:00<?, ?it/s]"
      ]
     },
     "metadata": {},
     "output_type": "display_data"
    },
    {
     "data": {
      "application/vnd.jupyter.widget-view+json": {
       "model_id": "0ebb0c4179cc48989541785f75861bf6",
       "version_major": 2,
       "version_minor": 0
      },
      "text/plain": [
       "epochs:   0%|          | 0/1 [00:00<?, ?it/s]"
      ]
     },
     "metadata": {},
     "output_type": "display_data"
    },
    {
     "name": "stdout",
     "output_type": "stream",
     "text": [
      "<tf.Variable 'Adam_2/learning_rate:0' shape=() dtype=float32>\n",
      "<tf.Variable 'Adam_2/learning_rate:0' shape=() dtype=float32>\n",
      "Original Data Shape (selected):  (2500, 36)\n",
      "Original Data Shape (encoded):  (2500, 36)\n",
      "Original Data Class Distribution:  844  (true) / 1656  (false)\n",
      "(1500, 36) (1500,)\n",
      "(500, 36) (500,)\n",
      "(500, 36) (500,)\n",
      "Min Ratio:  0.34\n",
      "Min Ratio:  0.5\n",
      "Min Ratio:  0.339\n",
      "Min Ratio:  0.5\n"
     ]
    },
    {
     "data": {
      "application/vnd.jupyter.widget-view+json": {
       "model_id": "cb528909af454007a5d2717440567a41",
       "version_major": 2,
       "version_minor": 0
      },
      "text/plain": [
       "restarts:   0%|          | 0/1 [00:00<?, ?it/s]"
      ]
     },
     "metadata": {},
     "output_type": "display_data"
    },
    {
     "data": {
      "application/vnd.jupyter.widget-view+json": {
       "model_id": "e68db24e469f4f309f57232ebeca674e",
       "version_major": 2,
       "version_minor": 0
      },
      "text/plain": [
       "epochs:   0%|          | 0/1 [00:00<?, ?it/s]"
      ]
     },
     "metadata": {},
     "output_type": "display_data"
    },
    {
     "name": "stdout",
     "output_type": "stream",
     "text": [
      "<tf.Variable 'Adam_2/learning_rate:0' shape=() dtype=float32>\n",
      "<tf.Variable 'Adam_2/learning_rate:0' shape=() dtype=float32>\n",
      "Original Data Shape (selected):  (2500, 36)\n",
      "Original Data Shape (encoded):  (2500, 36)\n",
      "Original Data Class Distribution:  831  (true) / 1669  (false)\n",
      "(1500, 36) (1500,)\n",
      "(500, 36) (500,)\n",
      "(500, 36) (500,)\n",
      "Min Ratio:  0.3273333333333333\n",
      "Min Ratio:  0.5\n",
      "Min Ratio:  0.327\n",
      "Min Ratio:  0.5\n"
     ]
    },
    {
     "data": {
      "application/vnd.jupyter.widget-view+json": {
       "model_id": "09691d936ffb42a38131fbd60b571afc",
       "version_major": 2,
       "version_minor": 0
      },
      "text/plain": [
       "restarts:   0%|          | 0/1 [00:00<?, ?it/s]"
      ]
     },
     "metadata": {},
     "output_type": "display_data"
    },
    {
     "data": {
      "application/vnd.jupyter.widget-view+json": {
       "model_id": "37d2a9905cf54e789c791358d324c495",
       "version_major": 2,
       "version_minor": 0
      },
      "text/plain": [
       "epochs:   0%|          | 0/1 [00:00<?, ?it/s]"
      ]
     },
     "metadata": {},
     "output_type": "display_data"
    },
    {
     "name": "stdout",
     "output_type": "stream",
     "text": [
      "<tf.Variable 'Adam_2/learning_rate:0' shape=() dtype=float32>\n",
      "<tf.Variable 'Adam_2/learning_rate:0' shape=() dtype=float32>\n",
      "Original Data Shape (selected):  (2500, 36)\n",
      "Original Data Shape (encoded):  (2500, 36)\n",
      "Original Data Class Distribution:  842  (true) / 1658  (false)\n",
      "(1500, 36) (1500,)\n",
      "(500, 36) (500,)\n",
      "(500, 36) (500,)\n",
      "Min Ratio:  0.33066666666666666\n",
      "Min Ratio:  0.5\n",
      "Min Ratio:  0.338\n",
      "Min Ratio:  0.5\n"
     ]
    },
    {
     "data": {
      "application/vnd.jupyter.widget-view+json": {
       "model_id": "283915d15e74430c939532f4b918fd87",
       "version_major": 2,
       "version_minor": 0
      },
      "text/plain": [
       "restarts:   0%|          | 0/1 [00:00<?, ?it/s]"
      ]
     },
     "metadata": {},
     "output_type": "display_data"
    },
    {
     "data": {
      "application/vnd.jupyter.widget-view+json": {
       "model_id": "b563165a1d7e49d7ae22a8e003755210",
       "version_major": 2,
       "version_minor": 0
      },
      "text/plain": [
       "epochs:   0%|          | 0/1 [00:00<?, ?it/s]"
      ]
     },
     "metadata": {},
     "output_type": "display_data"
    },
    {
     "name": "stdout",
     "output_type": "stream",
     "text": [
      "<tf.Variable 'Adam_2/learning_rate:0' shape=() dtype=float32>\n",
      "<tf.Variable 'Adam_2/learning_rate:0' shape=() dtype=float32>\n",
      "Original Data Shape (selected):  (2500, 36)\n",
      "Original Data Shape (encoded):  (2500, 36)\n",
      "Original Data Class Distribution:  825  (true) / 1675  (false)\n",
      "(1500, 36) (1500,)\n",
      "(500, 36) (500,)\n",
      "(500, 36) (500,)\n",
      "Min Ratio:  0.326\n",
      "Min Ratio:  0.5\n",
      "Min Ratio:  0.333\n",
      "Min Ratio:  0.5\n"
     ]
    },
    {
     "data": {
      "application/vnd.jupyter.widget-view+json": {
       "model_id": "c23b95f844e542bb80c21f9ba31dbe5f",
       "version_major": 2,
       "version_minor": 0
      },
      "text/plain": [
       "restarts:   0%|          | 0/1 [00:00<?, ?it/s]"
      ]
     },
     "metadata": {},
     "output_type": "display_data"
    },
    {
     "data": {
      "application/vnd.jupyter.widget-view+json": {
       "model_id": "801758276af64fecbad7b42522b7bece",
       "version_major": 2,
       "version_minor": 0
      },
      "text/plain": [
       "epochs:   0%|          | 0/1 [00:00<?, ?it/s]"
      ]
     },
     "metadata": {},
     "output_type": "display_data"
    },
    {
     "name": "stdout",
     "output_type": "stream",
     "text": [
      "<tf.Variable 'Adam_2/learning_rate:0' shape=() dtype=float32>\n",
      "<tf.Variable 'Adam_2/learning_rate:0' shape=() dtype=float32>\n",
      "Original Data Shape (selected):  (2500, 36)\n",
      "Original Data Shape (encoded):  (2500, 36)\n",
      "Original Data Class Distribution:  853  (true) / 1647  (false)\n",
      "(1500, 36) (1500,)\n",
      "(500, 36) (500,)\n",
      "(500, 36) (500,)\n",
      "Min Ratio:  0.3433333333333333\n",
      "Min Ratio:  0.5\n",
      "Min Ratio:  0.348\n",
      "Min Ratio:  0.5\n"
     ]
    },
    {
     "data": {
      "application/vnd.jupyter.widget-view+json": {
       "model_id": "106ac15e52774d2daa9c50c50fab396d",
       "version_major": 2,
       "version_minor": 0
      },
      "text/plain": [
       "restarts:   0%|          | 0/1 [00:00<?, ?it/s]"
      ]
     },
     "metadata": {},
     "output_type": "display_data"
    },
    {
     "data": {
      "application/vnd.jupyter.widget-view+json": {
       "model_id": "384875faf10f4571b3758c7899ff6d21",
       "version_major": 2,
       "version_minor": 0
      },
      "text/plain": [
       "epochs:   0%|          | 0/1 [00:00<?, ?it/s]"
      ]
     },
     "metadata": {},
     "output_type": "display_data"
    },
    {
     "name": "stdout",
     "output_type": "stream",
     "text": [
      "<tf.Variable 'Adam_2/learning_rate:0' shape=() dtype=float32>\n",
      "<tf.Variable 'Adam_2/learning_rate:0' shape=() dtype=float32>\n",
      "Original Data Shape (selected):  (2500, 36)\n",
      "Original Data Shape (encoded):  (2500, 36)\n",
      "Original Data Class Distribution:  839  (true) / 1661  (false)\n",
      "(1500, 36) (1500,)\n",
      "(500, 36) (500,)\n",
      "(500, 36) (500,)\n",
      "Min Ratio:  0.33466666666666667\n",
      "Min Ratio:  0.5\n",
      "Min Ratio:  0.3385\n",
      "Min Ratio:  0.5\n"
     ]
    },
    {
     "data": {
      "application/vnd.jupyter.widget-view+json": {
       "model_id": "ae0f7f61405d4093b7ec18863284c8ce",
       "version_major": 2,
       "version_minor": 0
      },
      "text/plain": [
       "restarts:   0%|          | 0/1 [00:00<?, ?it/s]"
      ]
     },
     "metadata": {},
     "output_type": "display_data"
    },
    {
     "data": {
      "application/vnd.jupyter.widget-view+json": {
       "model_id": "56dedc79e17f4835adc7d253f5c637a0",
       "version_major": 2,
       "version_minor": 0
      },
      "text/plain": [
       "epochs:   0%|          | 0/1 [00:00<?, ?it/s]"
      ]
     },
     "metadata": {},
     "output_type": "display_data"
    },
    {
     "name": "stdout",
     "output_type": "stream",
     "text": [
      "<tf.Variable 'Adam_2/learning_rate:0' shape=() dtype=float32>\n",
      "<tf.Variable 'Adam_2/learning_rate:0' shape=() dtype=float32>\n",
      "Original Data Shape (selected):  (2500, 36)\n",
      "Original Data Shape (encoded):  (2500, 36)\n",
      "Original Data Class Distribution:  813  (true) / 1687  (false)\n",
      "(1500, 36) (1500,)\n",
      "(500, 36) (500,)\n",
      "(500, 36) (500,)\n",
      "Min Ratio:  0.324\n",
      "Min Ratio:  0.5\n",
      "Min Ratio:  0.327\n",
      "Min Ratio:  0.5\n"
     ]
    },
    {
     "data": {
      "application/vnd.jupyter.widget-view+json": {
       "model_id": "07a82725f4dd4d1bb7b4194f79c55dcd",
       "version_major": 2,
       "version_minor": 0
      },
      "text/plain": [
       "restarts:   0%|          | 0/1 [00:00<?, ?it/s]"
      ]
     },
     "metadata": {},
     "output_type": "display_data"
    },
    {
     "data": {
      "application/vnd.jupyter.widget-view+json": {
       "model_id": "c2ca5365017a4d018a1a9d0c9902ee4c",
       "version_major": 2,
       "version_minor": 0
      },
      "text/plain": [
       "epochs:   0%|          | 0/1 [00:00<?, ?it/s]"
      ]
     },
     "metadata": {},
     "output_type": "display_data"
    },
    {
     "name": "stdout",
     "output_type": "stream",
     "text": [
      "<tf.Variable 'Adam_2/learning_rate:0' shape=() dtype=float32>\n",
      "<tf.Variable 'Adam_2/learning_rate:0' shape=() dtype=float32>\n",
      "Original Data Shape (selected):  (2500, 36)\n",
      "Original Data Shape (encoded):  (2500, 36)\n",
      "Original Data Class Distribution:  827  (true) / 1673  (false)\n",
      "(1500, 36) (1500,)\n",
      "(500, 36) (500,)\n",
      "(500, 36) (500,)\n",
      "Min Ratio:  0.314\n",
      "Min Ratio:  0.5\n",
      "Min Ratio:  0.317\n",
      "Min Ratio:  0.5\n"
     ]
    },
    {
     "data": {
      "application/vnd.jupyter.widget-view+json": {
       "model_id": "c397fac573b24d908b1abe287df3d6a3",
       "version_major": 2,
       "version_minor": 0
      },
      "text/plain": [
       "restarts:   0%|          | 0/1 [00:00<?, ?it/s]"
      ]
     },
     "metadata": {},
     "output_type": "display_data"
    },
    {
     "data": {
      "application/vnd.jupyter.widget-view+json": {
       "model_id": "4471d66fbfdc43f78e15fba04b953ddb",
       "version_major": 2,
       "version_minor": 0
      },
      "text/plain": [
       "epochs:   0%|          | 0/1 [00:00<?, ?it/s]"
      ]
     },
     "metadata": {},
     "output_type": "display_data"
    },
    {
     "name": "stdout",
     "output_type": "stream",
     "text": [
      "<tf.Variable 'Adam_2/learning_rate:0' shape=() dtype=float32>\n",
      "<tf.Variable 'Adam_2/learning_rate:0' shape=() dtype=float32>\n",
      "Original Data Shape (selected):  (2500, 36)\n",
      "Original Data Shape (encoded):  (2500, 36)\n",
      "Original Data Class Distribution:  816  (true) / 1684  (false)\n",
      "(1500, 36) (1500,)\n",
      "(500, 36) (500,)\n",
      "(500, 36) (500,)\n",
      "Min Ratio:  0.32866666666666666\n",
      "Min Ratio:  0.5\n",
      "Min Ratio:  0.322\n",
      "Min Ratio:  0.5\n"
     ]
    },
    {
     "data": {
      "application/vnd.jupyter.widget-view+json": {
       "model_id": "d4a1a66414af4004aa3c5daeb2533cb1",
       "version_major": 2,
       "version_minor": 0
      },
      "text/plain": [
       "restarts:   0%|          | 0/1 [00:00<?, ?it/s]"
      ]
     },
     "metadata": {},
     "output_type": "display_data"
    },
    {
     "data": {
      "application/vnd.jupyter.widget-view+json": {
       "model_id": "a96adeb567d34f0cb25115714bfdc7b2",
       "version_major": 2,
       "version_minor": 0
      },
      "text/plain": [
       "epochs:   0%|          | 0/1 [00:00<?, ?it/s]"
      ]
     },
     "metadata": {},
     "output_type": "display_data"
    },
    {
     "name": "stdout",
     "output_type": "stream",
     "text": [
      "<tf.Variable 'Adam_2/learning_rate:0' shape=() dtype=float32>\n",
      "<tf.Variable 'Adam_2/learning_rate:0' shape=() dtype=float32>\n",
      "Original Data Shape (selected):  (2500, 36)\n",
      "Original Data Shape (encoded):  (2500, 36)\n",
      "Original Data Class Distribution:  812  (true) / 1688  (false)\n",
      "(1500, 36) (1500,)\n",
      "(500, 36) (500,)\n",
      "(500, 36) (500,)\n",
      "Min Ratio:  0.33466666666666667\n",
      "Min Ratio:  0.5\n",
      "Min Ratio:  0.3245\n",
      "Min Ratio:  0.5\n"
     ]
    },
    {
     "data": {
      "application/vnd.jupyter.widget-view+json": {
       "model_id": "bb2a5165fb3c4be08ebee53ecc0bfae6",
       "version_major": 2,
       "version_minor": 0
      },
      "text/plain": [
       "restarts:   0%|          | 0/1 [00:00<?, ?it/s]"
      ]
     },
     "metadata": {},
     "output_type": "display_data"
    },
    {
     "data": {
      "application/vnd.jupyter.widget-view+json": {
       "model_id": "39c720d5615c4e0bb15c40486ce5000a",
       "version_major": 2,
       "version_minor": 0
      },
      "text/plain": [
       "epochs:   0%|          | 0/1 [00:00<?, ?it/s]"
      ]
     },
     "metadata": {},
     "output_type": "display_data"
    },
    {
     "name": "stdout",
     "output_type": "stream",
     "text": [
      "<tf.Variable 'Adam_2/learning_rate:0' shape=() dtype=float32>\n",
      "<tf.Variable 'Adam_2/learning_rate:0' shape=() dtype=float32>\n",
      "Original Data Shape (selected):  (2500, 36)\n",
      "Original Data Shape (encoded):  (2500, 36)\n",
      "Original Data Class Distribution:  837  (true) / 1663  (false)\n",
      "(1500, 36) (1500,)\n",
      "(500, 36) (500,)\n",
      "(500, 36) (500,)\n",
      "Min Ratio:  0.32466666666666666\n",
      "Min Ratio:  0.5\n",
      "Min Ratio:  0.327\n",
      "Min Ratio:  0.5\n"
     ]
    },
    {
     "data": {
      "application/vnd.jupyter.widget-view+json": {
       "model_id": "d2b4b94223114b9b970391e083ad0aa3",
       "version_major": 2,
       "version_minor": 0
      },
      "text/plain": [
       "restarts:   0%|          | 0/1 [00:00<?, ?it/s]"
      ]
     },
     "metadata": {},
     "output_type": "display_data"
    },
    {
     "data": {
      "application/vnd.jupyter.widget-view+json": {
       "model_id": "b7a69bc81645462e9411b728bcda9924",
       "version_major": 2,
       "version_minor": 0
      },
      "text/plain": [
       "epochs:   0%|          | 0/1 [00:00<?, ?it/s]"
      ]
     },
     "metadata": {},
     "output_type": "display_data"
    },
    {
     "name": "stdout",
     "output_type": "stream",
     "text": [
      "<tf.Variable 'Adam_2/learning_rate:0' shape=() dtype=float32>\n",
      "<tf.Variable 'Adam_2/learning_rate:0' shape=() dtype=float32>\n",
      "Original Data Shape (selected):  (2500, 36)\n",
      "Original Data Shape (encoded):  (2500, 36)\n",
      "Original Data Class Distribution:  827  (true) / 1673  (false)\n",
      "(1500, 36) (1500,)\n",
      "(500, 36) (500,)\n",
      "(500, 36) (500,)\n",
      "Min Ratio:  0.31933333333333336\n",
      "Min Ratio:  0.5\n",
      "Min Ratio:  0.327\n",
      "Min Ratio:  0.5\n"
     ]
    },
    {
     "data": {
      "application/vnd.jupyter.widget-view+json": {
       "model_id": "e99b2915393a40f9b1c3f5fc42650b05",
       "version_major": 2,
       "version_minor": 0
      },
      "text/plain": [
       "restarts:   0%|          | 0/1 [00:00<?, ?it/s]"
      ]
     },
     "metadata": {},
     "output_type": "display_data"
    },
    {
     "data": {
      "application/vnd.jupyter.widget-view+json": {
       "model_id": "7b9d42f01b0545ef96ae3560d02cfc17",
       "version_major": 2,
       "version_minor": 0
      },
      "text/plain": [
       "epochs:   0%|          | 0/1 [00:00<?, ?it/s]"
      ]
     },
     "metadata": {},
     "output_type": "display_data"
    },
    {
     "name": "stdout",
     "output_type": "stream",
     "text": [
      "<tf.Variable 'Adam_2/learning_rate:0' shape=() dtype=float32>\n",
      "<tf.Variable 'Adam_2/learning_rate:0' shape=() dtype=float32>\n",
      "Original Data Shape (selected):  (2500, 36)\n",
      "Original Data Shape (encoded):  (2500, 36)\n",
      "Original Data Class Distribution:  792  (true) / 1708  (false)\n",
      "(1500, 36) (1500,)\n",
      "(500, 36) (500,)\n",
      "(500, 36) (500,)\n",
      "Min Ratio:  0.30266666666666664\n",
      "Min Ratio:  0.5\n",
      "Min Ratio:  0.3095\n",
      "Min Ratio:  0.5\n"
     ]
    },
    {
     "data": {
      "application/vnd.jupyter.widget-view+json": {
       "model_id": "8f28cd0b4a2c43b9b7eb0164fe687cc6",
       "version_major": 2,
       "version_minor": 0
      },
      "text/plain": [
       "restarts:   0%|          | 0/1 [00:00<?, ?it/s]"
      ]
     },
     "metadata": {},
     "output_type": "display_data"
    },
    {
     "data": {
      "application/vnd.jupyter.widget-view+json": {
       "model_id": "5166866c69f041aca4e97618fa37c013",
       "version_major": 2,
       "version_minor": 0
      },
      "text/plain": [
       "epochs:   0%|          | 0/1 [00:00<?, ?it/s]"
      ]
     },
     "metadata": {},
     "output_type": "display_data"
    },
    {
     "name": "stdout",
     "output_type": "stream",
     "text": [
      "<tf.Variable 'Adam_2/learning_rate:0' shape=() dtype=float32>\n",
      "<tf.Variable 'Adam_2/learning_rate:0' shape=() dtype=float32>\n",
      "Original Data Shape (selected):  (2500, 36)\n",
      "Original Data Shape (encoded):  (2500, 36)\n",
      "Original Data Class Distribution:  848  (true) / 1652  (false)\n",
      "(1500, 36) (1500,)\n",
      "(500, 36) (500,)\n",
      "(500, 36) (500,)\n",
      "Min Ratio:  0.33\n",
      "Min Ratio:  0.5\n",
      "Min Ratio:  0.3375\n",
      "Min Ratio:  0.5\n"
     ]
    },
    {
     "data": {
      "application/vnd.jupyter.widget-view+json": {
       "model_id": "699da5fec3b84acc9ed7449ab8757f45",
       "version_major": 2,
       "version_minor": 0
      },
      "text/plain": [
       "restarts:   0%|          | 0/1 [00:00<?, ?it/s]"
      ]
     },
     "metadata": {},
     "output_type": "display_data"
    },
    {
     "data": {
      "application/vnd.jupyter.widget-view+json": {
       "model_id": "4ee079b4e1ef43d8b18591e5fde73c95",
       "version_major": 2,
       "version_minor": 0
      },
      "text/plain": [
       "epochs:   0%|          | 0/1 [00:00<?, ?it/s]"
      ]
     },
     "metadata": {},
     "output_type": "display_data"
    },
    {
     "name": "stdout",
     "output_type": "stream",
     "text": [
      "<tf.Variable 'Adam_2/learning_rate:0' shape=() dtype=float32>\n",
      "<tf.Variable 'Adam_2/learning_rate:0' shape=() dtype=float32>\n",
      "Original Data Shape (selected):  (2500, 36)\n",
      "Original Data Shape (encoded):  (2500, 36)\n",
      "Original Data Class Distribution:  835  (true) / 1665  (false)\n",
      "(1500, 36) (1500,)\n",
      "(500, 36) (500,)\n",
      "(500, 36) (500,)\n",
      "Min Ratio:  0.33266666666666667\n",
      "Min Ratio:  0.5\n",
      "Min Ratio:  0.3345\n",
      "Min Ratio:  0.5\n"
     ]
    },
    {
     "data": {
      "application/vnd.jupyter.widget-view+json": {
       "model_id": "b47507f65bbc43caaca2eb2f5d1e2233",
       "version_major": 2,
       "version_minor": 0
      },
      "text/plain": [
       "restarts:   0%|          | 0/1 [00:00<?, ?it/s]"
      ]
     },
     "metadata": {},
     "output_type": "display_data"
    },
    {
     "data": {
      "application/vnd.jupyter.widget-view+json": {
       "model_id": "7a67d7d39ad146178938762e9c64f468",
       "version_major": 2,
       "version_minor": 0
      },
      "text/plain": [
       "epochs:   0%|          | 0/1 [00:00<?, ?it/s]"
      ]
     },
     "metadata": {},
     "output_type": "display_data"
    },
    {
     "name": "stdout",
     "output_type": "stream",
     "text": [
      "<tf.Variable 'Adam_2/learning_rate:0' shape=() dtype=float32>\n",
      "<tf.Variable 'Adam_2/learning_rate:0' shape=() dtype=float32>\n",
      "Original Data Shape (selected):  (2500, 36)\n",
      "Original Data Shape (encoded):  (2500, 36)\n",
      "Original Data Class Distribution:  778  (true) / 1722  (false)\n",
      "(1500, 36) (1500,)\n",
      "(500, 36) (500,)\n",
      "(500, 36) (500,)\n",
      "Min Ratio:  0.30933333333333335\n",
      "Min Ratio:  0.5\n",
      "Min Ratio:  0.3045\n",
      "Min Ratio:  0.5\n"
     ]
    },
    {
     "data": {
      "application/vnd.jupyter.widget-view+json": {
       "model_id": "a9b2b3d175ad4cb696ba9025ad71d1bb",
       "version_major": 2,
       "version_minor": 0
      },
      "text/plain": [
       "restarts:   0%|          | 0/1 [00:00<?, ?it/s]"
      ]
     },
     "metadata": {},
     "output_type": "display_data"
    },
    {
     "data": {
      "application/vnd.jupyter.widget-view+json": {
       "model_id": "f201ff1e3f1b42f1a1f308f7d2f64905",
       "version_major": 2,
       "version_minor": 0
      },
      "text/plain": [
       "epochs:   0%|          | 0/1 [00:00<?, ?it/s]"
      ]
     },
     "metadata": {},
     "output_type": "display_data"
    },
    {
     "name": "stdout",
     "output_type": "stream",
     "text": [
      "<tf.Variable 'Adam_2/learning_rate:0' shape=() dtype=float32>\n",
      "<tf.Variable 'Adam_2/learning_rate:0' shape=() dtype=float32>\n",
      "Original Data Shape (selected):  (2500, 36)\n",
      "Original Data Shape (encoded):  (2500, 36)\n",
      "Original Data Class Distribution:  798  (true) / 1702  (false)\n",
      "(1500, 36) (1500,)\n",
      "(500, 36) (500,)\n",
      "(500, 36) (500,)\n",
      "Min Ratio:  0.3253333333333333\n",
      "Min Ratio:  0.5\n",
      "Min Ratio:  0.3185\n",
      "Min Ratio:  0.5\n"
     ]
    },
    {
     "data": {
      "application/vnd.jupyter.widget-view+json": {
       "model_id": "f92ba5a5a2474d78a629295a4cf8ae52",
       "version_major": 2,
       "version_minor": 0
      },
      "text/plain": [
       "restarts:   0%|          | 0/1 [00:00<?, ?it/s]"
      ]
     },
     "metadata": {},
     "output_type": "display_data"
    },
    {
     "data": {
      "application/vnd.jupyter.widget-view+json": {
       "model_id": "d2802036e95f45ba8b911115da0cfe92",
       "version_major": 2,
       "version_minor": 0
      },
      "text/plain": [
       "epochs:   0%|          | 0/1 [00:00<?, ?it/s]"
      ]
     },
     "metadata": {},
     "output_type": "display_data"
    },
    {
     "name": "stdout",
     "output_type": "stream",
     "text": [
      "<tf.Variable 'Adam_2/learning_rate:0' shape=() dtype=float32>\n",
      "<tf.Variable 'Adam_2/learning_rate:0' shape=() dtype=float32>\n",
      "Original Data Shape (selected):  (2500, 36)\n",
      "Original Data Shape (encoded):  (2500, 36)\n",
      "Original Data Class Distribution:  785  (true) / 1715  (false)\n",
      "(1500, 36) (1500,)\n",
      "(500, 36) (500,)\n",
      "(500, 36) (500,)\n",
      "Min Ratio:  0.31\n",
      "Min Ratio:  0.5\n",
      "Min Ratio:  0.315\n",
      "Min Ratio:  0.5\n"
     ]
    },
    {
     "data": {
      "application/vnd.jupyter.widget-view+json": {
       "model_id": "d9824ce9a83f40849d1ff395acdd7e0c",
       "version_major": 2,
       "version_minor": 0
      },
      "text/plain": [
       "restarts:   0%|          | 0/1 [00:00<?, ?it/s]"
      ]
     },
     "metadata": {},
     "output_type": "display_data"
    },
    {
     "data": {
      "application/vnd.jupyter.widget-view+json": {
       "model_id": "730fd220fa7b448685b6473a001ed5a0",
       "version_major": 2,
       "version_minor": 0
      },
      "text/plain": [
       "epochs:   0%|          | 0/1 [00:00<?, ?it/s]"
      ]
     },
     "metadata": {},
     "output_type": "display_data"
    },
    {
     "name": "stdout",
     "output_type": "stream",
     "text": [
      "<tf.Variable 'Adam_2/learning_rate:0' shape=() dtype=float32>\n",
      "<tf.Variable 'Adam_2/learning_rate:0' shape=() dtype=float32>\n",
      "Original Data Shape (selected):  (2500, 36)\n",
      "Original Data Shape (encoded):  (2500, 36)\n",
      "Original Data Class Distribution:  846  (true) / 1654  (false)\n",
      "(1500, 36) (1500,)\n",
      "(500, 36) (500,)\n",
      "(500, 36) (500,)\n",
      "Min Ratio:  0.346\n",
      "Min Ratio:  0.5\n",
      "Min Ratio:  0.3455\n",
      "Min Ratio:  0.5\n"
     ]
    },
    {
     "data": {
      "application/vnd.jupyter.widget-view+json": {
       "model_id": "e1ab5e18bc9f49749e2f8749157abb49",
       "version_major": 2,
       "version_minor": 0
      },
      "text/plain": [
       "restarts:   0%|          | 0/1 [00:00<?, ?it/s]"
      ]
     },
     "metadata": {},
     "output_type": "display_data"
    },
    {
     "data": {
      "application/vnd.jupyter.widget-view+json": {
       "model_id": "e6697f8ee7874d72ba831beb95ff5027",
       "version_major": 2,
       "version_minor": 0
      },
      "text/plain": [
       "epochs:   0%|          | 0/1 [00:00<?, ?it/s]"
      ]
     },
     "metadata": {},
     "output_type": "display_data"
    },
    {
     "name": "stdout",
     "output_type": "stream",
     "text": [
      "<tf.Variable 'Adam_2/learning_rate:0' shape=() dtype=float32>\n",
      "<tf.Variable 'Adam_2/learning_rate:0' shape=() dtype=float32>\n",
      "Original Data Shape (selected):  (2500, 36)\n",
      "Original Data Shape (encoded):  (2500, 36)\n",
      "Original Data Class Distribution:  863  (true) / 1637  (false)\n",
      "(1500, 36) (1500,)\n",
      "(500, 36) (500,)\n",
      "(500, 36) (500,)\n",
      "Min Ratio:  0.3473333333333333\n",
      "Min Ratio:  0.5\n",
      "Min Ratio:  0.35\n",
      "Min Ratio:  0.5\n"
     ]
    },
    {
     "data": {
      "application/vnd.jupyter.widget-view+json": {
       "model_id": "a84f80953fbc41efa665469a0caf675b",
       "version_major": 2,
       "version_minor": 0
      },
      "text/plain": [
       "restarts:   0%|          | 0/1 [00:00<?, ?it/s]"
      ]
     },
     "metadata": {},
     "output_type": "display_data"
    },
    {
     "data": {
      "application/vnd.jupyter.widget-view+json": {
       "model_id": "1cab9055ce8c4d9096f7ca9377eb64af",
       "version_major": 2,
       "version_minor": 0
      },
      "text/plain": [
       "epochs:   0%|          | 0/1 [00:00<?, ?it/s]"
      ]
     },
     "metadata": {},
     "output_type": "display_data"
    },
    {
     "name": "stdout",
     "output_type": "stream",
     "text": [
      "<tf.Variable 'Adam_2/learning_rate:0' shape=() dtype=float32>\n",
      "<tf.Variable 'Adam_2/learning_rate:0' shape=() dtype=float32>\n",
      "Original Data Shape (selected):  (2500, 36)\n",
      "Original Data Shape (encoded):  (2500, 36)\n",
      "Original Data Class Distribution:  825  (true) / 1675  (false)\n",
      "(1500, 36) (1500,)\n",
      "(500, 36) (500,)\n",
      "(500, 36) (500,)\n",
      "Min Ratio:  0.33466666666666667\n",
      "Min Ratio:  0.5\n",
      "Min Ratio:  0.333\n",
      "Min Ratio:  0.5\n"
     ]
    },
    {
     "data": {
      "application/vnd.jupyter.widget-view+json": {
       "model_id": "bffa1f5fff3e47819c294d3d77ad2d01",
       "version_major": 2,
       "version_minor": 0
      },
      "text/plain": [
       "restarts:   0%|          | 0/1 [00:00<?, ?it/s]"
      ]
     },
     "metadata": {},
     "output_type": "display_data"
    },
    {
     "data": {
      "application/vnd.jupyter.widget-view+json": {
       "model_id": "2ee42aaf697f4e20b269aaa991cc4343",
       "version_major": 2,
       "version_minor": 0
      },
      "text/plain": [
       "epochs:   0%|          | 0/1 [00:00<?, ?it/s]"
      ]
     },
     "metadata": {},
     "output_type": "display_data"
    },
    {
     "name": "stdout",
     "output_type": "stream",
     "text": [
      "<tf.Variable 'Adam_2/learning_rate:0' shape=() dtype=float32>\n",
      "<tf.Variable 'Adam_2/learning_rate:0' shape=() dtype=float32>\n",
      "Original Data Shape (selected):  (2500, 36)\n",
      "Original Data Shape (encoded):  (2500, 36)\n",
      "Original Data Class Distribution:  783  (true) / 1717  (false)\n",
      "(1500, 36) (1500,)\n",
      "(500, 36) (500,)\n",
      "(500, 36) (500,)\n",
      "Min Ratio:  0.32133333333333336\n",
      "Min Ratio:  0.5\n",
      "Min Ratio:  0.322\n",
      "Min Ratio:  0.5\n"
     ]
    },
    {
     "data": {
      "application/vnd.jupyter.widget-view+json": {
       "model_id": "b692dab9cf534d7facfb33638775d9b3",
       "version_major": 2,
       "version_minor": 0
      },
      "text/plain": [
       "restarts:   0%|          | 0/1 [00:00<?, ?it/s]"
      ]
     },
     "metadata": {},
     "output_type": "display_data"
    },
    {
     "data": {
      "application/vnd.jupyter.widget-view+json": {
       "model_id": "945678440bfe4f02b31d5eebeca561a6",
       "version_major": 2,
       "version_minor": 0
      },
      "text/plain": [
       "epochs:   0%|          | 0/1 [00:00<?, ?it/s]"
      ]
     },
     "metadata": {},
     "output_type": "display_data"
    },
    {
     "name": "stdout",
     "output_type": "stream",
     "text": [
      "<tf.Variable 'Adam_2/learning_rate:0' shape=() dtype=float32>\n",
      "<tf.Variable 'Adam_2/learning_rate:0' shape=() dtype=float32>\n",
      "Original Data Shape (selected):  (2500, 36)\n",
      "Original Data Shape (encoded):  (2500, 36)\n",
      "Original Data Class Distribution:  814  (true) / 1686  (false)\n",
      "(1500, 36) (1500,)\n",
      "(500, 36) (500,)\n",
      "(500, 36) (500,)\n",
      "Min Ratio:  0.32466666666666666\n",
      "Min Ratio:  0.5\n",
      "Min Ratio:  0.321\n",
      "Min Ratio:  0.5\n"
     ]
    },
    {
     "data": {
      "application/vnd.jupyter.widget-view+json": {
       "model_id": "4a1bee31ea734104a7210d75a77ae31d",
       "version_major": 2,
       "version_minor": 0
      },
      "text/plain": [
       "restarts:   0%|          | 0/1 [00:00<?, ?it/s]"
      ]
     },
     "metadata": {},
     "output_type": "display_data"
    },
    {
     "data": {
      "application/vnd.jupyter.widget-view+json": {
       "model_id": "ee914fab40b844a5b2cb877714156310",
       "version_major": 2,
       "version_minor": 0
      },
      "text/plain": [
       "epochs:   0%|          | 0/1 [00:00<?, ?it/s]"
      ]
     },
     "metadata": {},
     "output_type": "display_data"
    },
    {
     "name": "stdout",
     "output_type": "stream",
     "text": [
      "<tf.Variable 'Adam_2/learning_rate:0' shape=() dtype=float32>\n",
      "<tf.Variable 'Adam_2/learning_rate:0' shape=() dtype=float32>\n",
      "Original Data Shape (selected):  (2500, 36)\n",
      "Original Data Shape (encoded):  (2500, 36)\n",
      "Original Data Class Distribution:  816  (true) / 1684  (false)\n",
      "(1500, 36) (1500,)\n",
      "(500, 36) (500,)\n",
      "(500, 36) (500,)\n",
      "Min Ratio:  0.318\n",
      "Min Ratio:  0.5\n",
      "Min Ratio:  0.3245\n",
      "Min Ratio:  0.5\n"
     ]
    },
    {
     "data": {
      "application/vnd.jupyter.widget-view+json": {
       "model_id": "55fe1ebdec3345dc972693da2419b61d",
       "version_major": 2,
       "version_minor": 0
      },
      "text/plain": [
       "restarts:   0%|          | 0/1 [00:00<?, ?it/s]"
      ]
     },
     "metadata": {},
     "output_type": "display_data"
    },
    {
     "data": {
      "application/vnd.jupyter.widget-view+json": {
       "model_id": "f43ac36fca3f421abe690df26c914eda",
       "version_major": 2,
       "version_minor": 0
      },
      "text/plain": [
       "epochs:   0%|          | 0/1 [00:00<?, ?it/s]"
      ]
     },
     "metadata": {},
     "output_type": "display_data"
    },
    {
     "name": "stdout",
     "output_type": "stream",
     "text": [
      "<tf.Variable 'Adam_2/learning_rate:0' shape=() dtype=float32>\n",
      "<tf.Variable 'Adam_2/learning_rate:0' shape=() dtype=float32>\n",
      "Original Data Shape (selected):  (2500, 36)\n",
      "Original Data Shape (encoded):  (2500, 36)\n",
      "Original Data Class Distribution:  814  (true) / 1686  (false)\n",
      "(1500, 36) (1500,)\n",
      "(500, 36) (500,)\n",
      "(500, 36) (500,)\n",
      "Min Ratio:  0.33466666666666667\n",
      "Min Ratio:  0.5\n",
      "Min Ratio:  0.323\n",
      "Min Ratio:  0.5\n"
     ]
    },
    {
     "data": {
      "application/vnd.jupyter.widget-view+json": {
       "model_id": "b9ebd1d5e4c14fbea082c4fb32b5c51d",
       "version_major": 2,
       "version_minor": 0
      },
      "text/plain": [
       "restarts:   0%|          | 0/1 [00:00<?, ?it/s]"
      ]
     },
     "metadata": {},
     "output_type": "display_data"
    },
    {
     "data": {
      "application/vnd.jupyter.widget-view+json": {
       "model_id": "28542dbba7224af8ba3b92dc9dbfdb22",
       "version_major": 2,
       "version_minor": 0
      },
      "text/plain": [
       "epochs:   0%|          | 0/1 [00:00<?, ?it/s]"
      ]
     },
     "metadata": {},
     "output_type": "display_data"
    },
    {
     "name": "stdout",
     "output_type": "stream",
     "text": [
      "<tf.Variable 'Adam_2/learning_rate:0' shape=() dtype=float32>\n",
      "<tf.Variable 'Adam_2/learning_rate:0' shape=() dtype=float32>\n",
      "Original Data Shape (selected):  (2500, 36)\n",
      "Original Data Shape (encoded):  (2500, 36)\n",
      "Original Data Class Distribution:  835  (true) / 1665  (false)\n",
      "(1500, 36) (1500,)\n",
      "(500, 36) (500,)\n",
      "(500, 36) (500,)\n",
      "Min Ratio:  0.32666666666666666\n",
      "Min Ratio:  0.5\n",
      "Min Ratio:  0.3355\n",
      "Min Ratio:  0.5\n"
     ]
    },
    {
     "data": {
      "application/vnd.jupyter.widget-view+json": {
       "model_id": "527511d791e04458a545bfe2cba6cabd",
       "version_major": 2,
       "version_minor": 0
      },
      "text/plain": [
       "restarts:   0%|          | 0/1 [00:00<?, ?it/s]"
      ]
     },
     "metadata": {},
     "output_type": "display_data"
    },
    {
     "data": {
      "application/vnd.jupyter.widget-view+json": {
       "model_id": "18c89ca77c704de68e1987a2bd344a09",
       "version_major": 2,
       "version_minor": 0
      },
      "text/plain": [
       "epochs:   0%|          | 0/1 [00:00<?, ?it/s]"
      ]
     },
     "metadata": {},
     "output_type": "display_data"
    },
    {
     "name": "stdout",
     "output_type": "stream",
     "text": [
      "<tf.Variable 'Adam_2/learning_rate:0' shape=() dtype=float32>\n",
      "<tf.Variable 'Adam_2/learning_rate:0' shape=() dtype=float32>\n",
      "Original Data Shape (selected):  (2500, 36)\n",
      "Original Data Shape (encoded):  (2500, 36)\n",
      "Original Data Class Distribution:  828  (true) / 1672  (false)\n",
      "(1500, 36) (1500,)\n",
      "(500, 36) (500,)\n",
      "(500, 36) (500,)\n",
      "Min Ratio:  0.33066666666666666\n",
      "Min Ratio:  0.5\n",
      "Min Ratio:  0.331\n",
      "Min Ratio:  0.5\n"
     ]
    },
    {
     "data": {
      "application/vnd.jupyter.widget-view+json": {
       "model_id": "f3eef41ab214484bae81a2ab3b17811a",
       "version_major": 2,
       "version_minor": 0
      },
      "text/plain": [
       "restarts:   0%|          | 0/1 [00:00<?, ?it/s]"
      ]
     },
     "metadata": {},
     "output_type": "display_data"
    },
    {
     "data": {
      "application/vnd.jupyter.widget-view+json": {
       "model_id": "5d5038d71bfd4f9cb6b5dd2ab862f88c",
       "version_major": 2,
       "version_minor": 0
      },
      "text/plain": [
       "epochs:   0%|          | 0/1 [00:00<?, ?it/s]"
      ]
     },
     "metadata": {},
     "output_type": "display_data"
    },
    {
     "name": "stdout",
     "output_type": "stream",
     "text": [
      "<tf.Variable 'Adam_2/learning_rate:0' shape=() dtype=float32>\n",
      "<tf.Variable 'Adam_2/learning_rate:0' shape=() dtype=float32>\n",
      "Original Data Shape (selected):  (2500, 36)\n",
      "Original Data Shape (encoded):  (2500, 36)\n",
      "Original Data Class Distribution:  846  (true) / 1654  (false)\n",
      "(1500, 36) (1500,)\n",
      "(500, 36) (500,)\n",
      "(500, 36) (500,)\n",
      "Min Ratio:  0.33866666666666667\n",
      "Min Ratio:  0.5\n",
      "Min Ratio:  0.3345\n",
      "Min Ratio:  0.5\n"
     ]
    },
    {
     "data": {
      "application/vnd.jupyter.widget-view+json": {
       "model_id": "a60935ee69894c4489b662bc515eed84",
       "version_major": 2,
       "version_minor": 0
      },
      "text/plain": [
       "restarts:   0%|          | 0/1 [00:00<?, ?it/s]"
      ]
     },
     "metadata": {},
     "output_type": "display_data"
    },
    {
     "data": {
      "application/vnd.jupyter.widget-view+json": {
       "model_id": "57fec00924274f0d8bd27dc2323b0bc9",
       "version_major": 2,
       "version_minor": 0
      },
      "text/plain": [
       "epochs:   0%|          | 0/1 [00:00<?, ?it/s]"
      ]
     },
     "metadata": {},
     "output_type": "display_data"
    },
    {
     "name": "stdout",
     "output_type": "stream",
     "text": [
      "<tf.Variable 'Adam_2/learning_rate:0' shape=() dtype=float32>\n",
      "<tf.Variable 'Adam_2/learning_rate:0' shape=() dtype=float32>\n",
      "Original Data Shape (selected):  (2500, 36)\n",
      "Original Data Shape (encoded):  (2500, 36)\n",
      "Original Data Class Distribution:  835  (true) / 1665  (false)\n",
      "(1500, 36) (1500,)\n",
      "(500, 36) (500,)\n",
      "(500, 36) (500,)\n",
      "Min Ratio:  0.3253333333333333\n",
      "Min Ratio:  0.5\n",
      "Min Ratio:  0.336\n",
      "Min Ratio:  0.5\n"
     ]
    },
    {
     "data": {
      "application/vnd.jupyter.widget-view+json": {
       "model_id": "cfe8a0db2c3d48eb8cbfe30c62a04882",
       "version_major": 2,
       "version_minor": 0
      },
      "text/plain": [
       "restarts:   0%|          | 0/1 [00:00<?, ?it/s]"
      ]
     },
     "metadata": {},
     "output_type": "display_data"
    },
    {
     "data": {
      "application/vnd.jupyter.widget-view+json": {
       "model_id": "1be91f58be90409e9adae28a18fa62e9",
       "version_major": 2,
       "version_minor": 0
      },
      "text/plain": [
       "epochs:   0%|          | 0/1 [00:00<?, ?it/s]"
      ]
     },
     "metadata": {},
     "output_type": "display_data"
    },
    {
     "name": "stdout",
     "output_type": "stream",
     "text": [
      "<tf.Variable 'Adam_2/learning_rate:0' shape=() dtype=float32>\n",
      "<tf.Variable 'Adam_2/learning_rate:0' shape=() dtype=float32>\n",
      "Original Data Shape (selected):  (2500, 36)\n",
      "Original Data Shape (encoded):  (2500, 36)\n",
      "Original Data Class Distribution:  790  (true) / 1710  (false)\n",
      "(1500, 36) (1500,)\n",
      "(500, 36) (500,)\n",
      "(500, 36) (500,)\n",
      "Min Ratio:  0.31\n",
      "Min Ratio:  0.5\n",
      "Min Ratio:  0.3095\n",
      "Min Ratio:  0.5\n"
     ]
    },
    {
     "data": {
      "application/vnd.jupyter.widget-view+json": {
       "model_id": "52d06536a0d24f748829410bade0aa6b",
       "version_major": 2,
       "version_minor": 0
      },
      "text/plain": [
       "restarts:   0%|          | 0/1 [00:00<?, ?it/s]"
      ]
     },
     "metadata": {},
     "output_type": "display_data"
    },
    {
     "data": {
      "application/vnd.jupyter.widget-view+json": {
       "model_id": "dc13b40233d64399a78970546e637ebe",
       "version_major": 2,
       "version_minor": 0
      },
      "text/plain": [
       "epochs:   0%|          | 0/1 [00:00<?, ?it/s]"
      ]
     },
     "metadata": {},
     "output_type": "display_data"
    },
    {
     "name": "stdout",
     "output_type": "stream",
     "text": [
      "<tf.Variable 'Adam_2/learning_rate:0' shape=() dtype=float32>\n",
      "<tf.Variable 'Adam_2/learning_rate:0' shape=() dtype=float32>\n",
      "Original Data Shape (selected):  (2500, 36)\n",
      "Original Data Shape (encoded):  (2500, 36)\n",
      "Original Data Class Distribution:  834  (true) / 1666  (false)\n",
      "(1500, 36) (1500,)\n",
      "(500, 36) (500,)\n",
      "(500, 36) (500,)\n",
      "Min Ratio:  0.34\n",
      "Min Ratio:  0.5\n",
      "Min Ratio:  0.337\n",
      "Min Ratio:  0.5\n"
     ]
    },
    {
     "data": {
      "application/vnd.jupyter.widget-view+json": {
       "model_id": "9be199ba2a2f45f89ac82e818261efc6",
       "version_major": 2,
       "version_minor": 0
      },
      "text/plain": [
       "restarts:   0%|          | 0/1 [00:00<?, ?it/s]"
      ]
     },
     "metadata": {},
     "output_type": "display_data"
    },
    {
     "data": {
      "application/vnd.jupyter.widget-view+json": {
       "model_id": "121b347acc674926bc844a9389a50a7a",
       "version_major": 2,
       "version_minor": 0
      },
      "text/plain": [
       "epochs:   0%|          | 0/1 [00:00<?, ?it/s]"
      ]
     },
     "metadata": {},
     "output_type": "display_data"
    },
    {
     "name": "stdout",
     "output_type": "stream",
     "text": [
      "<tf.Variable 'Adam_2/learning_rate:0' shape=() dtype=float32>\n",
      "<tf.Variable 'Adam_2/learning_rate:0' shape=() dtype=float32>\n",
      "Original Data Shape (selected):  (2500, 36)\n",
      "Original Data Shape (encoded):  (2500, 36)\n",
      "Original Data Class Distribution:  828  (true) / 1672  (false)\n",
      "(1500, 36) (1500,)\n",
      "(500, 36) (500,)\n",
      "(500, 36) (500,)\n",
      "Min Ratio:  0.32133333333333336\n",
      "Min Ratio:  0.5\n",
      "Min Ratio:  0.327\n",
      "Min Ratio:  0.5\n"
     ]
    },
    {
     "data": {
      "application/vnd.jupyter.widget-view+json": {
       "model_id": "9274cf632a6141c8a7bc25bc63e0b8ce",
       "version_major": 2,
       "version_minor": 0
      },
      "text/plain": [
       "restarts:   0%|          | 0/1 [00:00<?, ?it/s]"
      ]
     },
     "metadata": {},
     "output_type": "display_data"
    },
    {
     "data": {
      "application/vnd.jupyter.widget-view+json": {
       "model_id": "6453375f65e2430e8aac94a73c5c77b8",
       "version_major": 2,
       "version_minor": 0
      },
      "text/plain": [
       "epochs:   0%|          | 0/1 [00:00<?, ?it/s]"
      ]
     },
     "metadata": {},
     "output_type": "display_data"
    },
    {
     "name": "stdout",
     "output_type": "stream",
     "text": [
      "<tf.Variable 'Adam_2/learning_rate:0' shape=() dtype=float32>\n",
      "<tf.Variable 'Adam_2/learning_rate:0' shape=() dtype=float32>\n",
      "Original Data Shape (selected):  (2500, 36)\n",
      "Original Data Shape (encoded):  (2500, 36)\n",
      "Original Data Class Distribution:  830  (true) / 1670  (false)\n",
      "(1500, 36) (1500,)\n",
      "(500, 36) (500,)\n",
      "(500, 36) (500,)\n",
      "Min Ratio:  0.3273333333333333\n",
      "Min Ratio:  0.5\n",
      "Min Ratio:  0.3295\n",
      "Min Ratio:  0.5\n"
     ]
    },
    {
     "data": {
      "application/vnd.jupyter.widget-view+json": {
       "model_id": "8b9885e2bd644ceabfc99b4ecd78cf81",
       "version_major": 2,
       "version_minor": 0
      },
      "text/plain": [
       "restarts:   0%|          | 0/1 [00:00<?, ?it/s]"
      ]
     },
     "metadata": {},
     "output_type": "display_data"
    },
    {
     "data": {
      "application/vnd.jupyter.widget-view+json": {
       "model_id": "006509debb2847e0b3603f90613d403d",
       "version_major": 2,
       "version_minor": 0
      },
      "text/plain": [
       "epochs:   0%|          | 0/1 [00:00<?, ?it/s]"
      ]
     },
     "metadata": {},
     "output_type": "display_data"
    },
    {
     "name": "stdout",
     "output_type": "stream",
     "text": [
      "<tf.Variable 'Adam_2/learning_rate:0' shape=() dtype=float32>\n",
      "<tf.Variable 'Adam_2/learning_rate:0' shape=() dtype=float32>\n",
      "Original Data Shape (selected):  (2500, 36)\n",
      "Original Data Shape (encoded):  (2500, 36)\n",
      "Original Data Class Distribution:  821  (true) / 1679  (false)\n",
      "(1500, 36) (1500,)\n",
      "(500, 36) (500,)\n",
      "(500, 36) (500,)\n",
      "Min Ratio:  0.3486666666666667\n",
      "Min Ratio:  0.5\n",
      "Min Ratio:  0.3365\n",
      "Min Ratio:  0.5\n"
     ]
    },
    {
     "data": {
      "application/vnd.jupyter.widget-view+json": {
       "model_id": "1036c6a0ff344f5d87e4afcd364241af",
       "version_major": 2,
       "version_minor": 0
      },
      "text/plain": [
       "restarts:   0%|          | 0/1 [00:00<?, ?it/s]"
      ]
     },
     "metadata": {},
     "output_type": "display_data"
    },
    {
     "data": {
      "application/vnd.jupyter.widget-view+json": {
       "model_id": "a12c86bd87ef4805bb1d8bf6d130c3b4",
       "version_major": 2,
       "version_minor": 0
      },
      "text/plain": [
       "epochs:   0%|          | 0/1 [00:00<?, ?it/s]"
      ]
     },
     "metadata": {},
     "output_type": "display_data"
    },
    {
     "name": "stdout",
     "output_type": "stream",
     "text": [
      "<tf.Variable 'Adam_2/learning_rate:0' shape=() dtype=float32>\n",
      "<tf.Variable 'Adam_2/learning_rate:0' shape=() dtype=float32>\n",
      "Original Data Shape (selected):  (2500, 36)\n",
      "Original Data Shape (encoded):  (2500, 36)\n",
      "Original Data Class Distribution:  828  (true) / 1672  (false)\n",
      "(1500, 36) (1500,)\n",
      "(500, 36) (500,)\n",
      "(500, 36) (500,)\n",
      "Min Ratio:  0.3393333333333333\n",
      "Min Ratio:  0.5\n",
      "Min Ratio:  0.3325\n",
      "Min Ratio:  0.5\n"
     ]
    },
    {
     "data": {
      "application/vnd.jupyter.widget-view+json": {
       "model_id": "432aca887ec64f60b353509fd83bf0c1",
       "version_major": 2,
       "version_minor": 0
      },
      "text/plain": [
       "restarts:   0%|          | 0/1 [00:00<?, ?it/s]"
      ]
     },
     "metadata": {},
     "output_type": "display_data"
    },
    {
     "data": {
      "application/vnd.jupyter.widget-view+json": {
       "model_id": "88244bdee53449408963144614219adb",
       "version_major": 2,
       "version_minor": 0
      },
      "text/plain": [
       "epochs:   0%|          | 0/1 [00:00<?, ?it/s]"
      ]
     },
     "metadata": {},
     "output_type": "display_data"
    },
    {
     "name": "stdout",
     "output_type": "stream",
     "text": [
      "<tf.Variable 'Adam_2/learning_rate:0' shape=() dtype=float32>\n",
      "<tf.Variable 'Adam_2/learning_rate:0' shape=() dtype=float32>\n",
      "Original Data Shape (selected):  (2500, 36)\n",
      "Original Data Shape (encoded):  (2500, 36)\n",
      "Original Data Class Distribution:  832  (true) / 1668  (false)\n",
      "(1500, 36) (1500,)\n",
      "(500, 36) (500,)\n",
      "(500, 36) (500,)\n",
      "Min Ratio:  0.3273333333333333\n",
      "Min Ratio:  0.5\n",
      "Min Ratio:  0.33\n",
      "Min Ratio:  0.5\n"
     ]
    },
    {
     "data": {
      "application/vnd.jupyter.widget-view+json": {
       "model_id": "8f3de553703644aea8b489e0be3e2902",
       "version_major": 2,
       "version_minor": 0
      },
      "text/plain": [
       "restarts:   0%|          | 0/1 [00:00<?, ?it/s]"
      ]
     },
     "metadata": {},
     "output_type": "display_data"
    },
    {
     "data": {
      "application/vnd.jupyter.widget-view+json": {
       "model_id": "1fda7bcce92f41ecb49345f3fda31421",
       "version_major": 2,
       "version_minor": 0
      },
      "text/plain": [
       "epochs:   0%|          | 0/1 [00:00<?, ?it/s]"
      ]
     },
     "metadata": {},
     "output_type": "display_data"
    },
    {
     "name": "stdout",
     "output_type": "stream",
     "text": [
      "<tf.Variable 'Adam_2/learning_rate:0' shape=() dtype=float32>\n",
      "<tf.Variable 'Adam_2/learning_rate:0' shape=() dtype=float32>\n",
      "Original Data Shape (selected):  (2500, 36)\n",
      "Original Data Shape (encoded):  (2500, 36)\n",
      "Original Data Class Distribution:  833  (true) / 1667  (false)\n",
      "(1500, 36) (1500,)\n",
      "(500, 36) (500,)\n",
      "(500, 36) (500,)\n",
      "Min Ratio:  0.34\n",
      "Min Ratio:  0.5\n",
      "Min Ratio:  0.3325\n",
      "Min Ratio:  0.5\n"
     ]
    },
    {
     "data": {
      "application/vnd.jupyter.widget-view+json": {
       "model_id": "25bda42cb8654397b1ee81e3bf6b4533",
       "version_major": 2,
       "version_minor": 0
      },
      "text/plain": [
       "restarts:   0%|          | 0/1 [00:00<?, ?it/s]"
      ]
     },
     "metadata": {},
     "output_type": "display_data"
    },
    {
     "data": {
      "application/vnd.jupyter.widget-view+json": {
       "model_id": "41d07ec72b0d4a9288b82b782e366df0",
       "version_major": 2,
       "version_minor": 0
      },
      "text/plain": [
       "epochs:   0%|          | 0/1 [00:00<?, ?it/s]"
      ]
     },
     "metadata": {},
     "output_type": "display_data"
    },
    {
     "name": "stdout",
     "output_type": "stream",
     "text": [
      "<tf.Variable 'Adam_2/learning_rate:0' shape=() dtype=float32>\n",
      "<tf.Variable 'Adam_2/learning_rate:0' shape=() dtype=float32>\n",
      "Original Data Shape (selected):  (2500, 36)\n",
      "Original Data Shape (encoded):  (2500, 36)\n",
      "Original Data Class Distribution:  908  (true) / 1592  (false)\n",
      "(1500, 36) (1500,)\n",
      "(500, 36) (500,)\n",
      "(500, 36) (500,)\n",
      "Min Ratio:  0.36866666666666664\n",
      "Min Ratio:  0.5\n",
      "Min Ratio:  0.3685\n",
      "Min Ratio:  0.5\n"
     ]
    },
    {
     "data": {
      "application/vnd.jupyter.widget-view+json": {
       "model_id": "361b5e3bbc2f4e8686d629bd6194a93c",
       "version_major": 2,
       "version_minor": 0
      },
      "text/plain": [
       "restarts:   0%|          | 0/1 [00:00<?, ?it/s]"
      ]
     },
     "metadata": {},
     "output_type": "display_data"
    },
    {
     "data": {
      "application/vnd.jupyter.widget-view+json": {
       "model_id": "aeecde5e817848668b01c0690e17e228",
       "version_major": 2,
       "version_minor": 0
      },
      "text/plain": [
       "epochs:   0%|          | 0/1 [00:00<?, ?it/s]"
      ]
     },
     "metadata": {},
     "output_type": "display_data"
    },
    {
     "name": "stdout",
     "output_type": "stream",
     "text": [
      "<tf.Variable 'Adam_2/learning_rate:0' shape=() dtype=float32>\n",
      "<tf.Variable 'Adam_2/learning_rate:0' shape=() dtype=float32>\n",
      "Original Data Shape (selected):  (2500, 36)\n",
      "Original Data Shape (encoded):  (2500, 36)\n",
      "Original Data Class Distribution:  795  (true) / 1705  (false)\n",
      "(1500, 36) (1500,)\n",
      "(500, 36) (500,)\n",
      "(500, 36) (500,)\n",
      "Min Ratio:  0.328\n",
      "Min Ratio:  0.5\n",
      "Min Ratio:  0.317\n",
      "Min Ratio:  0.5\n"
     ]
    },
    {
     "data": {
      "application/vnd.jupyter.widget-view+json": {
       "model_id": "87fb76ce09ba426cbe92287ead855b2f",
       "version_major": 2,
       "version_minor": 0
      },
      "text/plain": [
       "restarts:   0%|          | 0/1 [00:00<?, ?it/s]"
      ]
     },
     "metadata": {},
     "output_type": "display_data"
    },
    {
     "data": {
      "application/vnd.jupyter.widget-view+json": {
       "model_id": "14054f2301e042e2927bd99208a91dbd",
       "version_major": 2,
       "version_minor": 0
      },
      "text/plain": [
       "epochs:   0%|          | 0/1 [00:00<?, ?it/s]"
      ]
     },
     "metadata": {},
     "output_type": "display_data"
    },
    {
     "name": "stdout",
     "output_type": "stream",
     "text": [
      "<tf.Variable 'Adam_2/learning_rate:0' shape=() dtype=float32>\n",
      "<tf.Variable 'Adam_2/learning_rate:0' shape=() dtype=float32>\n",
      "Original Data Shape (selected):  (2500, 36)\n",
      "Original Data Shape (encoded):  (2500, 36)\n",
      "Original Data Class Distribution:  857  (true) / 1643  (false)\n",
      "(1500, 36) (1500,)\n",
      "(500, 36) (500,)\n",
      "(500, 36) (500,)\n",
      "Min Ratio:  0.35133333333333333\n",
      "Min Ratio:  0.5\n",
      "Min Ratio:  0.349\n",
      "Min Ratio:  0.5\n"
     ]
    },
    {
     "data": {
      "application/vnd.jupyter.widget-view+json": {
       "model_id": "70107d82cfde489080fc1eec578f5baa",
       "version_major": 2,
       "version_minor": 0
      },
      "text/plain": [
       "restarts:   0%|          | 0/1 [00:00<?, ?it/s]"
      ]
     },
     "metadata": {},
     "output_type": "display_data"
    },
    {
     "data": {
      "application/vnd.jupyter.widget-view+json": {
       "model_id": "f43b622d94a94736b1325e1b3f9811dc",
       "version_major": 2,
       "version_minor": 0
      },
      "text/plain": [
       "epochs:   0%|          | 0/1 [00:00<?, ?it/s]"
      ]
     },
     "metadata": {},
     "output_type": "display_data"
    },
    {
     "name": "stdout",
     "output_type": "stream",
     "text": [
      "<tf.Variable 'Adam_2/learning_rate:0' shape=() dtype=float32>\n",
      "<tf.Variable 'Adam_2/learning_rate:0' shape=() dtype=float32>\n",
      "Original Data Shape (selected):  (2500, 36)\n",
      "Original Data Shape (encoded):  (2500, 36)\n",
      "Original Data Class Distribution:  894  (true) / 1606  (false)\n",
      "(1500, 36) (1500,)\n",
      "(500, 36) (500,)\n",
      "(500, 36) (500,)\n",
      "Min Ratio:  0.3626666666666667\n",
      "Min Ratio:  0.5\n",
      "Min Ratio:  0.3635\n",
      "Min Ratio:  0.5\n"
     ]
    },
    {
     "data": {
      "application/vnd.jupyter.widget-view+json": {
       "model_id": "4e91de539c134af9b4ef98f3b025ffef",
       "version_major": 2,
       "version_minor": 0
      },
      "text/plain": [
       "restarts:   0%|          | 0/1 [00:00<?, ?it/s]"
      ]
     },
     "metadata": {},
     "output_type": "display_data"
    },
    {
     "data": {
      "application/vnd.jupyter.widget-view+json": {
       "model_id": "32e7a785ca2a4a81aee25ef940f7459a",
       "version_major": 2,
       "version_minor": 0
      },
      "text/plain": [
       "epochs:   0%|          | 0/1 [00:00<?, ?it/s]"
      ]
     },
     "metadata": {},
     "output_type": "display_data"
    },
    {
     "name": "stdout",
     "output_type": "stream",
     "text": [
      "<tf.Variable 'Adam_2/learning_rate:0' shape=() dtype=float32>\n",
      "<tf.Variable 'Adam_2/learning_rate:0' shape=() dtype=float32>\n",
      "Original Data Shape (selected):  (2500, 36)\n",
      "Original Data Shape (encoded):  (2500, 36)\n",
      "Original Data Class Distribution:  896  (true) / 1604  (false)\n",
      "(1500, 36) (1500,)\n",
      "(500, 36) (500,)\n",
      "(500, 36) (500,)\n",
      "Min Ratio:  0.3466666666666667\n",
      "Min Ratio:  0.5\n",
      "Min Ratio:  0.349\n",
      "Min Ratio:  0.5\n"
     ]
    },
    {
     "data": {
      "application/vnd.jupyter.widget-view+json": {
       "model_id": "7abbc1e4471e4b7d8eafb1bdd419e5a4",
       "version_major": 2,
       "version_minor": 0
      },
      "text/plain": [
       "restarts:   0%|          | 0/1 [00:00<?, ?it/s]"
      ]
     },
     "metadata": {},
     "output_type": "display_data"
    },
    {
     "data": {
      "application/vnd.jupyter.widget-view+json": {
       "model_id": "6a1bb1d2be2f4ad6ac0cbfa1906ed9e3",
       "version_major": 2,
       "version_minor": 0
      },
      "text/plain": [
       "epochs:   0%|          | 0/1 [00:00<?, ?it/s]"
      ]
     },
     "metadata": {},
     "output_type": "display_data"
    },
    {
     "name": "stdout",
     "output_type": "stream",
     "text": [
      "<tf.Variable 'Adam_2/learning_rate:0' shape=() dtype=float32>\n",
      "<tf.Variable 'Adam_2/learning_rate:0' shape=() dtype=float32>\n",
      "Original Data Shape (selected):  (2500, 36)\n",
      "Original Data Shape (encoded):  (2500, 36)\n",
      "Original Data Class Distribution:  882  (true) / 1618  (false)\n",
      "(1500, 36) (1500,)\n",
      "(500, 36) (500,)\n",
      "(500, 36) (500,)\n",
      "Min Ratio:  0.3566666666666667\n",
      "Min Ratio:  0.5\n",
      "Min Ratio:  0.354\n",
      "Min Ratio:  0.5\n"
     ]
    },
    {
     "data": {
      "application/vnd.jupyter.widget-view+json": {
       "model_id": "f41ca526f6b34783a0e2987d996e66c2",
       "version_major": 2,
       "version_minor": 0
      },
      "text/plain": [
       "restarts:   0%|          | 0/1 [00:00<?, ?it/s]"
      ]
     },
     "metadata": {},
     "output_type": "display_data"
    },
    {
     "data": {
      "application/vnd.jupyter.widget-view+json": {
       "model_id": "4ec41e91c6524aae9b4391ca9aa21460",
       "version_major": 2,
       "version_minor": 0
      },
      "text/plain": [
       "epochs:   0%|          | 0/1 [00:00<?, ?it/s]"
      ]
     },
     "metadata": {},
     "output_type": "display_data"
    },
    {
     "name": "stdout",
     "output_type": "stream",
     "text": [
      "<tf.Variable 'Adam_2/learning_rate:0' shape=() dtype=float32>\n",
      "<tf.Variable 'Adam_2/learning_rate:0' shape=() dtype=float32>\n",
      "Original Data Shape (selected):  (2500, 36)\n",
      "Original Data Shape (encoded):  (2500, 36)\n",
      "Original Data Class Distribution:  936  (true) / 1564  (false)\n",
      "(1500, 36) (1500,)\n",
      "(500, 36) (500,)\n",
      "(500, 36) (500,)\n",
      "Min Ratio:  0.378\n",
      "Min Ratio:  0.5\n",
      "Min Ratio:  0.378\n",
      "Min Ratio:  0.5\n"
     ]
    },
    {
     "data": {
      "application/vnd.jupyter.widget-view+json": {
       "model_id": "2f02aa2968c947f5add6bbaa683ddb01",
       "version_major": 2,
       "version_minor": 0
      },
      "text/plain": [
       "restarts:   0%|          | 0/1 [00:00<?, ?it/s]"
      ]
     },
     "metadata": {},
     "output_type": "display_data"
    },
    {
     "data": {
      "application/vnd.jupyter.widget-view+json": {
       "model_id": "327fa2a3430740379f15dd9a9245673d",
       "version_major": 2,
       "version_minor": 0
      },
      "text/plain": [
       "epochs:   0%|          | 0/1 [00:00<?, ?it/s]"
      ]
     },
     "metadata": {},
     "output_type": "display_data"
    },
    {
     "name": "stdout",
     "output_type": "stream",
     "text": [
      "<tf.Variable 'Adam_2/learning_rate:0' shape=() dtype=float32>\n",
      "<tf.Variable 'Adam_2/learning_rate:0' shape=() dtype=float32>\n",
      "Original Data Shape (selected):  (2500, 36)\n",
      "Original Data Shape (encoded):  (2500, 36)\n",
      "Original Data Class Distribution:  907  (true) / 1593  (false)\n",
      "(1500, 36) (1500,)\n",
      "(500, 36) (500,)\n",
      "(500, 36) (500,)\n",
      "Min Ratio:  0.35733333333333334\n",
      "Min Ratio:  0.5\n",
      "Min Ratio:  0.357\n",
      "Min Ratio:  0.5\n"
     ]
    },
    {
     "data": {
      "application/vnd.jupyter.widget-view+json": {
       "model_id": "9bd16529c3cc4d60b8c691f32a8cc3ec",
       "version_major": 2,
       "version_minor": 0
      },
      "text/plain": [
       "restarts:   0%|          | 0/1 [00:00<?, ?it/s]"
      ]
     },
     "metadata": {},
     "output_type": "display_data"
    },
    {
     "data": {
      "application/vnd.jupyter.widget-view+json": {
       "model_id": "83e725db5897446b959848935ee8a900",
       "version_major": 2,
       "version_minor": 0
      },
      "text/plain": [
       "epochs:   0%|          | 0/1 [00:00<?, ?it/s]"
      ]
     },
     "metadata": {},
     "output_type": "display_data"
    },
    {
     "name": "stdout",
     "output_type": "stream",
     "text": [
      "<tf.Variable 'Adam_2/learning_rate:0' shape=() dtype=float32>\n",
      "<tf.Variable 'Adam_2/learning_rate:0' shape=() dtype=float32>\n",
      "Original Data Shape (selected):  (2500, 36)\n",
      "Original Data Shape (encoded):  (2500, 36)\n",
      "Original Data Class Distribution:  968  (true) / 1532  (false)\n",
      "(1500, 36) (1500,)\n",
      "(500, 36) (500,)\n",
      "(500, 36) (500,)\n",
      "Min Ratio:  0.386\n",
      "Min Ratio:  0.5\n",
      "Min Ratio:  0.38\n",
      "Min Ratio:  0.5\n"
     ]
    },
    {
     "data": {
      "application/vnd.jupyter.widget-view+json": {
       "model_id": "9fcb6fc7816148719b1ea53fcc4a51a0",
       "version_major": 2,
       "version_minor": 0
      },
      "text/plain": [
       "restarts:   0%|          | 0/1 [00:00<?, ?it/s]"
      ]
     },
     "metadata": {},
     "output_type": "display_data"
    },
    {
     "data": {
      "application/vnd.jupyter.widget-view+json": {
       "model_id": "2b15052716e44c7eba5f3329b5f9f68f",
       "version_major": 2,
       "version_minor": 0
      },
      "text/plain": [
       "epochs:   0%|          | 0/1 [00:00<?, ?it/s]"
      ]
     },
     "metadata": {},
     "output_type": "display_data"
    },
    {
     "name": "stdout",
     "output_type": "stream",
     "text": [
      "<tf.Variable 'Adam_2/learning_rate:0' shape=() dtype=float32>\n",
      "<tf.Variable 'Adam_2/learning_rate:0' shape=() dtype=float32>\n",
      "Original Data Shape (selected):  (2500, 36)\n",
      "Original Data Shape (encoded):  (2500, 36)\n",
      "Original Data Class Distribution:  984  (true) / 1516  (false)\n",
      "(1500, 36) (1500,)\n",
      "(500, 36) (500,)\n",
      "(500, 36) (500,)\n",
      "Min Ratio:  0.39266666666666666\n",
      "Min Ratio:  0.5\n",
      "Min Ratio:  0.39\n",
      "Min Ratio:  0.5\n"
     ]
    },
    {
     "data": {
      "application/vnd.jupyter.widget-view+json": {
       "model_id": "32f72fccc2984fa085b0c40ca958f091",
       "version_major": 2,
       "version_minor": 0
      },
      "text/plain": [
       "restarts:   0%|          | 0/1 [00:00<?, ?it/s]"
      ]
     },
     "metadata": {},
     "output_type": "display_data"
    },
    {
     "data": {
      "application/vnd.jupyter.widget-view+json": {
       "model_id": "b4ad681fd9344e269e82413f2923ba1a",
       "version_major": 2,
       "version_minor": 0
      },
      "text/plain": [
       "epochs:   0%|          | 0/1 [00:00<?, ?it/s]"
      ]
     },
     "metadata": {},
     "output_type": "display_data"
    },
    {
     "name": "stdout",
     "output_type": "stream",
     "text": [
      "<tf.Variable 'Adam_2/learning_rate:0' shape=() dtype=float32>\n",
      "<tf.Variable 'Adam_2/learning_rate:0' shape=() dtype=float32>\n",
      "Original Data Shape (selected):  (2500, 36)\n",
      "Original Data Shape (encoded):  (2500, 36)\n",
      "Original Data Class Distribution:  984  (true) / 1516  (false)\n",
      "(1500, 36) (1500,)\n",
      "(500, 36) (500,)\n",
      "(500, 36) (500,)\n",
      "Min Ratio:  0.39066666666666666\n",
      "Min Ratio:  0.5\n",
      "Min Ratio:  0.402\n",
      "Min Ratio:  0.5\n"
     ]
    },
    {
     "data": {
      "application/vnd.jupyter.widget-view+json": {
       "model_id": "8de04e50ef55483b9d2ebf50d1791138",
       "version_major": 2,
       "version_minor": 0
      },
      "text/plain": [
       "restarts:   0%|          | 0/1 [00:00<?, ?it/s]"
      ]
     },
     "metadata": {},
     "output_type": "display_data"
    },
    {
     "data": {
      "application/vnd.jupyter.widget-view+json": {
       "model_id": "7737cda3adc14ec1afae8061d1e65932",
       "version_major": 2,
       "version_minor": 0
      },
      "text/plain": [
       "epochs:   0%|          | 0/1 [00:00<?, ?it/s]"
      ]
     },
     "metadata": {},
     "output_type": "display_data"
    },
    {
     "name": "stdout",
     "output_type": "stream",
     "text": [
      "<tf.Variable 'Adam_2/learning_rate:0' shape=() dtype=float32>\n",
      "<tf.Variable 'Adam_2/learning_rate:0' shape=() dtype=float32>\n",
      "Original Data Shape (selected):  (2500, 36)\n",
      "Original Data Shape (encoded):  (2500, 36)\n",
      "Original Data Class Distribution:  1046  (true) / 1454  (false)\n",
      "(1500, 36) (1500,)\n",
      "(500, 36) (500,)\n",
      "(500, 36) (500,)\n",
      "Min Ratio:  0.4226666666666667\n",
      "Min Ratio:  0.5\n",
      "Min Ratio:  0.4255\n",
      "Min Ratio:  0.5\n"
     ]
    },
    {
     "data": {
      "application/vnd.jupyter.widget-view+json": {
       "model_id": "105b6e45d1364534a70ee6771eb84f62",
       "version_major": 2,
       "version_minor": 0
      },
      "text/plain": [
       "restarts:   0%|          | 0/1 [00:00<?, ?it/s]"
      ]
     },
     "metadata": {},
     "output_type": "display_data"
    },
    {
     "data": {
      "application/vnd.jupyter.widget-view+json": {
       "model_id": "8ceb3808cbb44d4d966a6a23282d2df4",
       "version_major": 2,
       "version_minor": 0
      },
      "text/plain": [
       "epochs:   0%|          | 0/1 [00:00<?, ?it/s]"
      ]
     },
     "metadata": {},
     "output_type": "display_data"
    },
    {
     "name": "stdout",
     "output_type": "stream",
     "text": [
      "<tf.Variable 'Adam_2/learning_rate:0' shape=() dtype=float32>\n",
      "<tf.Variable 'Adam_2/learning_rate:0' shape=() dtype=float32>\n",
      "Original Data Shape (selected):  (2500, 36)\n",
      "Original Data Shape (encoded):  (2500, 36)\n",
      "Original Data Class Distribution:  1049  (true) / 1451  (false)\n",
      "(1500, 36) (1500,)\n",
      "(500, 36) (500,)\n",
      "(500, 36) (500,)\n",
      "Min Ratio:  0.408\n",
      "Min Ratio:  0.5\n",
      "Min Ratio:  0.4085\n",
      "Min Ratio:  0.5\n"
     ]
    },
    {
     "data": {
      "application/vnd.jupyter.widget-view+json": {
       "model_id": "c83fdba04540492d9f131cc1f3b286be",
       "version_major": 2,
       "version_minor": 0
      },
      "text/plain": [
       "restarts:   0%|          | 0/1 [00:00<?, ?it/s]"
      ]
     },
     "metadata": {},
     "output_type": "display_data"
    },
    {
     "data": {
      "application/vnd.jupyter.widget-view+json": {
       "model_id": "1bd5a6d10567406abb5853eadeefb086",
       "version_major": 2,
       "version_minor": 0
      },
      "text/plain": [
       "epochs:   0%|          | 0/1 [00:00<?, ?it/s]"
      ]
     },
     "metadata": {},
     "output_type": "display_data"
    },
    {
     "name": "stdout",
     "output_type": "stream",
     "text": [
      "<tf.Variable 'Adam_2/learning_rate:0' shape=() dtype=float32>\n",
      "<tf.Variable 'Adam_2/learning_rate:0' shape=() dtype=float32>\n",
      "Original Data Shape (selected):  (2500, 36)\n",
      "Original Data Shape (encoded):  (2500, 36)\n",
      "Original Data Class Distribution:  1148  (true) / 1352  (false)\n",
      "(1500, 36) (1500,)\n",
      "(500, 36) (500,)\n",
      "(500, 36) (500,)\n",
      "Min Ratio:  0.44466666666666665\n",
      "Min Ratio:  0.5\n",
      "Min Ratio:  0.454\n",
      "Min Ratio:  0.5\n"
     ]
    },
    {
     "data": {
      "application/vnd.jupyter.widget-view+json": {
       "model_id": "538d780814cc4a749c16a4ce03f4d1d3",
       "version_major": 2,
       "version_minor": 0
      },
      "text/plain": [
       "restarts:   0%|          | 0/1 [00:00<?, ?it/s]"
      ]
     },
     "metadata": {},
     "output_type": "display_data"
    },
    {
     "data": {
      "application/vnd.jupyter.widget-view+json": {
       "model_id": "13163e8f07ae4e5baba4702d03c4a9c1",
       "version_major": 2,
       "version_minor": 0
      },
      "text/plain": [
       "epochs:   0%|          | 0/1 [00:00<?, ?it/s]"
      ]
     },
     "metadata": {},
     "output_type": "display_data"
    },
    {
     "name": "stdout",
     "output_type": "stream",
     "text": [
      "<tf.Variable 'Adam_2/learning_rate:0' shape=() dtype=float32>\n",
      "<tf.Variable 'Adam_2/learning_rate:0' shape=() dtype=float32>\n",
      "Original Data Shape (selected):  (2500, 36)\n",
      "Original Data Shape (encoded):  (2500, 36)\n",
      "Original Data Class Distribution:  1079  (true) / 1421  (false)\n",
      "(1500, 36) (1500,)\n",
      "(500, 36) (500,)\n",
      "(500, 36) (500,)\n",
      "Min Ratio:  0.43133333333333335\n",
      "Min Ratio:  0.5\n",
      "Min Ratio:  0.432\n",
      "Min Ratio:  0.5\n"
     ]
    },
    {
     "data": {
      "application/vnd.jupyter.widget-view+json": {
       "model_id": "56edc75bb559467cba3f79d408104eff",
       "version_major": 2,
       "version_minor": 0
      },
      "text/plain": [
       "restarts:   0%|          | 0/1 [00:00<?, ?it/s]"
      ]
     },
     "metadata": {},
     "output_type": "display_data"
    },
    {
     "data": {
      "application/vnd.jupyter.widget-view+json": {
       "model_id": "678b0de6362b4d7b8a3122fe2d1cd475",
       "version_major": 2,
       "version_minor": 0
      },
      "text/plain": [
       "epochs:   0%|          | 0/1 [00:00<?, ?it/s]"
      ]
     },
     "metadata": {},
     "output_type": "display_data"
    },
    {
     "name": "stdout",
     "output_type": "stream",
     "text": [
      "<tf.Variable 'Adam_2/learning_rate:0' shape=() dtype=float32>\n",
      "<tf.Variable 'Adam_2/learning_rate:0' shape=() dtype=float32>\n",
      "Original Data Shape (selected):  (2500, 36)\n",
      "Original Data Shape (encoded):  (2500, 36)\n",
      "Original Data Class Distribution:  1172  (true) / 1328  (false)\n",
      "(1500, 36) (1500,)\n",
      "(500, 36) (500,)\n",
      "(500, 36) (500,)\n",
      "Min Ratio:  0.4673333333333333\n",
      "Min Ratio:  0.5\n",
      "Min Ratio:  0.466\n",
      "Min Ratio:  0.5\n"
     ]
    },
    {
     "data": {
      "application/vnd.jupyter.widget-view+json": {
       "model_id": "317dd6944b584e819b440e30c2714701",
       "version_major": 2,
       "version_minor": 0
      },
      "text/plain": [
       "restarts:   0%|          | 0/1 [00:00<?, ?it/s]"
      ]
     },
     "metadata": {},
     "output_type": "display_data"
    },
    {
     "data": {
      "application/vnd.jupyter.widget-view+json": {
       "model_id": "6c12eb1d026c4008be48b3d2b3ec95b2",
       "version_major": 2,
       "version_minor": 0
      },
      "text/plain": [
       "epochs:   0%|          | 0/1 [00:00<?, ?it/s]"
      ]
     },
     "metadata": {},
     "output_type": "display_data"
    },
    {
     "name": "stdout",
     "output_type": "stream",
     "text": [
      "<tf.Variable 'Adam_2/learning_rate:0' shape=() dtype=float32>\n",
      "<tf.Variable 'Adam_2/learning_rate:0' shape=() dtype=float32>\n",
      "Original Data Shape (selected):  (2500, 36)\n",
      "Original Data Shape (encoded):  (2500, 36)\n",
      "Original Data Class Distribution:  1203  (true) / 1297  (false)\n",
      "(1500, 36) (1500,)\n",
      "(500, 36) (500,)\n",
      "(500, 36) (500,)\n",
      "Min Ratio:  0.48333333333333334\n",
      "Min Ratio:  0.5\n",
      "Min Ratio:  0.4855\n",
      "Min Ratio:  0.5\n"
     ]
    },
    {
     "data": {
      "application/vnd.jupyter.widget-view+json": {
       "model_id": "6ebbc129e99a435e85c079d4c801dba4",
       "version_major": 2,
       "version_minor": 0
      },
      "text/plain": [
       "restarts:   0%|          | 0/1 [00:00<?, ?it/s]"
      ]
     },
     "metadata": {},
     "output_type": "display_data"
    },
    {
     "data": {
      "application/vnd.jupyter.widget-view+json": {
       "model_id": "3d90b3fdc8f0456fbc51ff585a32a7b9",
       "version_major": 2,
       "version_minor": 0
      },
      "text/plain": [
       "epochs:   0%|          | 0/1 [00:00<?, ?it/s]"
      ]
     },
     "metadata": {},
     "output_type": "display_data"
    },
    {
     "name": "stdout",
     "output_type": "stream",
     "text": [
      "<tf.Variable 'Adam_2/learning_rate:0' shape=() dtype=float32>\n",
      "<tf.Variable 'Adam_2/learning_rate:0' shape=() dtype=float32>\n",
      "Original Data Shape (selected):  (2500, 36)\n",
      "Original Data Shape (encoded):  (2500, 36)\n",
      "Original Data Class Distribution:  1253  (true) / 1247  (false)\n",
      "(1500, 36) (1500,)\n",
      "(500, 36) (500,)\n",
      "(500, 36) (500,)\n",
      "Min Ratio:  0.484\n",
      "Min Ratio:  0.5\n",
      "Min Ratio:  0.499\n",
      "Min Ratio:  0.5\n"
     ]
    },
    {
     "data": {
      "application/vnd.jupyter.widget-view+json": {
       "model_id": "f57807998ce24a77b195255431748cfc",
       "version_major": 2,
       "version_minor": 0
      },
      "text/plain": [
       "restarts:   0%|          | 0/1 [00:00<?, ?it/s]"
      ]
     },
     "metadata": {},
     "output_type": "display_data"
    },
    {
     "data": {
      "application/vnd.jupyter.widget-view+json": {
       "model_id": "66e142a5ea1040b7ba10e4d101f86bc9",
       "version_major": 2,
       "version_minor": 0
      },
      "text/plain": [
       "epochs:   0%|          | 0/1 [00:00<?, ?it/s]"
      ]
     },
     "metadata": {},
     "output_type": "display_data"
    },
    {
     "name": "stdout",
     "output_type": "stream",
     "text": [
      "<tf.Variable 'Adam_2/learning_rate:0' shape=() dtype=float32>\n",
      "<tf.Variable 'Adam_2/learning_rate:0' shape=() dtype=float32>\n",
      "Original Data Shape (selected):  (2500, 36)\n",
      "Original Data Shape (encoded):  (2500, 36)\n",
      "Original Data Class Distribution:  1257  (true) / 1243  (false)\n",
      "(1500, 36) (1500,)\n",
      "(500, 36) (500,)\n",
      "(500, 36) (500,)\n",
      "Min Ratio:  0.49866666666666665\n",
      "Min Ratio:  0.5\n",
      "Min Ratio:  0.4955\n",
      "Min Ratio:  0.5\n"
     ]
    },
    {
     "data": {
      "application/vnd.jupyter.widget-view+json": {
       "model_id": "a350578cd06d4a5eb830430dda080d4c",
       "version_major": 2,
       "version_minor": 0
      },
      "text/plain": [
       "restarts:   0%|          | 0/1 [00:00<?, ?it/s]"
      ]
     },
     "metadata": {},
     "output_type": "display_data"
    },
    {
     "data": {
      "application/vnd.jupyter.widget-view+json": {
       "model_id": "fed59a4b0aaa4c24b326b4127d6f47ee",
       "version_major": 2,
       "version_minor": 0
      },
      "text/plain": [
       "epochs:   0%|          | 0/1 [00:00<?, ?it/s]"
      ]
     },
     "metadata": {},
     "output_type": "display_data"
    },
    {
     "name": "stdout",
     "output_type": "stream",
     "text": [
      "<tf.Variable 'Adam_2/learning_rate:0' shape=() dtype=float32>\n",
      "<tf.Variable 'Adam_2/learning_rate:0' shape=() dtype=float32>\n",
      "Original Data Shape (selected):  (2500, 36)\n",
      "Original Data Shape (encoded):  (2500, 36)\n",
      "Original Data Class Distribution:  1320  (true) / 1180  (false)\n",
      "(1500, 36) (1500,)\n",
      "(500, 36) (500,)\n",
      "(500, 36) (500,)\n",
      "Min Ratio:  0.4746666666666667\n",
      "Min Ratio:  0.5\n",
      "Min Ratio:  0.4685\n",
      "Min Ratio:  0.5\n"
     ]
    },
    {
     "data": {
      "application/vnd.jupyter.widget-view+json": {
       "model_id": "7f09c292e4a84e59814ee39f89e7083d",
       "version_major": 2,
       "version_minor": 0
      },
      "text/plain": [
       "restarts:   0%|          | 0/1 [00:00<?, ?it/s]"
      ]
     },
     "metadata": {},
     "output_type": "display_data"
    },
    {
     "data": {
      "application/vnd.jupyter.widget-view+json": {
       "model_id": "52d78d45214d4bcfb2b59bc8ee82e8fa",
       "version_major": 2,
       "version_minor": 0
      },
      "text/plain": [
       "epochs:   0%|          | 0/1 [00:00<?, ?it/s]"
      ]
     },
     "metadata": {},
     "output_type": "display_data"
    },
    {
     "name": "stdout",
     "output_type": "stream",
     "text": [
      "<tf.Variable 'Adam_2/learning_rate:0' shape=() dtype=float32>\n",
      "<tf.Variable 'Adam_2/learning_rate:0' shape=() dtype=float32>\n",
      "Original Data Shape (selected):  (2500, 36)\n",
      "Original Data Shape (encoded):  (2500, 36)\n",
      "Original Data Class Distribution:  1311  (true) / 1189  (false)\n",
      "(1500, 36) (1500,)\n",
      "(500, 36) (500,)\n",
      "(500, 36) (500,)\n",
      "Min Ratio:  0.478\n",
      "Min Ratio:  0.5\n",
      "Min Ratio:  0.4735\n",
      "Min Ratio:  0.5\n"
     ]
    },
    {
     "data": {
      "application/vnd.jupyter.widget-view+json": {
       "model_id": "87db39042b0046b599078f3c7c917123",
       "version_major": 2,
       "version_minor": 0
      },
      "text/plain": [
       "restarts:   0%|          | 0/1 [00:00<?, ?it/s]"
      ]
     },
     "metadata": {},
     "output_type": "display_data"
    },
    {
     "data": {
      "application/vnd.jupyter.widget-view+json": {
       "model_id": "0a5c08c221b448afb938e70d30446498",
       "version_major": 2,
       "version_minor": 0
      },
      "text/plain": [
       "epochs:   0%|          | 0/1 [00:00<?, ?it/s]"
      ]
     },
     "metadata": {},
     "output_type": "display_data"
    },
    {
     "name": "stdout",
     "output_type": "stream",
     "text": [
      "<tf.Variable 'Adam_2/learning_rate:0' shape=() dtype=float32>\n",
      "<tf.Variable 'Adam_2/learning_rate:0' shape=() dtype=float32>\n",
      "Original Data Shape (selected):  (2500, 36)\n",
      "Original Data Shape (encoded):  (2500, 36)\n",
      "Original Data Class Distribution:  1365  (true) / 1135  (false)\n",
      "(1500, 36) (1500,)\n",
      "(500, 36) (500,)\n",
      "(500, 36) (500,)\n",
      "Min Ratio:  0.454\n",
      "Min Ratio:  0.5\n",
      "Min Ratio:  0.449\n",
      "Min Ratio:  0.5\n"
     ]
    },
    {
     "data": {
      "application/vnd.jupyter.widget-view+json": {
       "model_id": "b9d11b9d1d2140a3bebc604570c7607b",
       "version_major": 2,
       "version_minor": 0
      },
      "text/plain": [
       "restarts:   0%|          | 0/1 [00:00<?, ?it/s]"
      ]
     },
     "metadata": {},
     "output_type": "display_data"
    },
    {
     "data": {
      "application/vnd.jupyter.widget-view+json": {
       "model_id": "c43ea6aec615415d89cc02a810b8a0bc",
       "version_major": 2,
       "version_minor": 0
      },
      "text/plain": [
       "epochs:   0%|          | 0/1 [00:00<?, ?it/s]"
      ]
     },
     "metadata": {},
     "output_type": "display_data"
    },
    {
     "name": "stdout",
     "output_type": "stream",
     "text": [
      "<tf.Variable 'Adam_2/learning_rate:0' shape=() dtype=float32>\n",
      "<tf.Variable 'Adam_2/learning_rate:0' shape=() dtype=float32>\n",
      "Original Data Shape (selected):  (2500, 36)\n",
      "Original Data Shape (encoded):  (2500, 36)\n",
      "Original Data Class Distribution:  1375  (true) / 1125  (false)\n",
      "(1500, 36) (1500,)\n",
      "(500, 36) (500,)\n",
      "(500, 36) (500,)\n",
      "Min Ratio:  0.4673333333333333\n",
      "Min Ratio:  0.5\n",
      "Min Ratio:  0.458\n",
      "Min Ratio:  0.5\n"
     ]
    },
    {
     "data": {
      "application/vnd.jupyter.widget-view+json": {
       "model_id": "418300e6b3664cf281520b25422627d2",
       "version_major": 2,
       "version_minor": 0
      },
      "text/plain": [
       "restarts:   0%|          | 0/1 [00:00<?, ?it/s]"
      ]
     },
     "metadata": {},
     "output_type": "display_data"
    },
    {
     "data": {
      "application/vnd.jupyter.widget-view+json": {
       "model_id": "70d70c19f3fb499593c3abaedb4dddc7",
       "version_major": 2,
       "version_minor": 0
      },
      "text/plain": [
       "epochs:   0%|          | 0/1 [00:00<?, ?it/s]"
      ]
     },
     "metadata": {},
     "output_type": "display_data"
    },
    {
     "name": "stdout",
     "output_type": "stream",
     "text": [
      "<tf.Variable 'Adam_2/learning_rate:0' shape=() dtype=float32>\n",
      "<tf.Variable 'Adam_2/learning_rate:0' shape=() dtype=float32>\n",
      "Original Data Shape (selected):  (2500, 36)\n",
      "Original Data Shape (encoded):  (2500, 36)\n",
      "Original Data Class Distribution:  1406  (true) / 1094  (false)\n",
      "(1500, 36) (1500,)\n",
      "(500, 36) (500,)\n",
      "(500, 36) (500,)\n",
      "Min Ratio:  0.43866666666666665\n",
      "Min Ratio:  0.5\n",
      "Min Ratio:  0.444\n",
      "Min Ratio:  0.5\n"
     ]
    },
    {
     "data": {
      "application/vnd.jupyter.widget-view+json": {
       "model_id": "08f3610509d743e099702acc39679958",
       "version_major": 2,
       "version_minor": 0
      },
      "text/plain": [
       "restarts:   0%|          | 0/1 [00:00<?, ?it/s]"
      ]
     },
     "metadata": {},
     "output_type": "display_data"
    },
    {
     "data": {
      "application/vnd.jupyter.widget-view+json": {
       "model_id": "aba66532b7624e9382b1e9c3fafa07bc",
       "version_major": 2,
       "version_minor": 0
      },
      "text/plain": [
       "epochs:   0%|          | 0/1 [00:00<?, ?it/s]"
      ]
     },
     "metadata": {},
     "output_type": "display_data"
    },
    {
     "name": "stdout",
     "output_type": "stream",
     "text": [
      "<tf.Variable 'Adam_2/learning_rate:0' shape=() dtype=float32>\n",
      "<tf.Variable 'Adam_2/learning_rate:0' shape=() dtype=float32>\n",
      "Original Data Shape (selected):  (2500, 36)\n",
      "Original Data Shape (encoded):  (2500, 36)\n",
      "Original Data Class Distribution:  1440  (true) / 1060  (false)\n",
      "(1500, 36) (1500,)\n",
      "(500, 36) (500,)\n",
      "(500, 36) (500,)\n",
      "Min Ratio:  0.4226666666666667\n",
      "Min Ratio:  0.5\n",
      "Min Ratio:  0.4155\n",
      "Min Ratio:  0.5\n"
     ]
    },
    {
     "data": {
      "application/vnd.jupyter.widget-view+json": {
       "model_id": "3d4d1fbe1e3c46579244e8bd6783ca80",
       "version_major": 2,
       "version_minor": 0
      },
      "text/plain": [
       "restarts:   0%|          | 0/1 [00:00<?, ?it/s]"
      ]
     },
     "metadata": {},
     "output_type": "display_data"
    },
    {
     "data": {
      "application/vnd.jupyter.widget-view+json": {
       "model_id": "cf668766483941729890ef7b26ca6481",
       "version_major": 2,
       "version_minor": 0
      },
      "text/plain": [
       "epochs:   0%|          | 0/1 [00:00<?, ?it/s]"
      ]
     },
     "metadata": {},
     "output_type": "display_data"
    },
    {
     "name": "stdout",
     "output_type": "stream",
     "text": [
      "<tf.Variable 'Adam_2/learning_rate:0' shape=() dtype=float32>\n",
      "<tf.Variable 'Adam_2/learning_rate:0' shape=() dtype=float32>\n",
      "Original Data Shape (selected):  (2500, 36)\n",
      "Original Data Shape (encoded):  (2500, 36)\n",
      "Original Data Class Distribution:  1491  (true) / 1009  (false)\n",
      "(1500, 36) (1500,)\n",
      "(500, 36) (500,)\n",
      "(500, 36) (500,)\n",
      "Min Ratio:  0.4053333333333333\n",
      "Min Ratio:  0.5\n",
      "Min Ratio:  0.406\n",
      "Min Ratio:  0.5\n"
     ]
    },
    {
     "data": {
      "application/vnd.jupyter.widget-view+json": {
       "model_id": "7c01f19b1ab64890b27e08f9570f7f40",
       "version_major": 2,
       "version_minor": 0
      },
      "text/plain": [
       "restarts:   0%|          | 0/1 [00:00<?, ?it/s]"
      ]
     },
     "metadata": {},
     "output_type": "display_data"
    },
    {
     "data": {
      "application/vnd.jupyter.widget-view+json": {
       "model_id": "a8758219e4e74b7aba41dd4374d394d9",
       "version_major": 2,
       "version_minor": 0
      },
      "text/plain": [
       "epochs:   0%|          | 0/1 [00:00<?, ?it/s]"
      ]
     },
     "metadata": {},
     "output_type": "display_data"
    },
    {
     "name": "stdout",
     "output_type": "stream",
     "text": [
      "<tf.Variable 'Adam_2/learning_rate:0' shape=() dtype=float32>\n",
      "<tf.Variable 'Adam_2/learning_rate:0' shape=() dtype=float32>\n",
      "Original Data Shape (selected):  (2500, 36)\n",
      "Original Data Shape (encoded):  (2500, 36)\n",
      "Original Data Class Distribution:  1463  (true) / 1037  (false)\n",
      "(1500, 36) (1500,)\n",
      "(500, 36) (500,)\n",
      "(500, 36) (500,)\n",
      "Min Ratio:  0.42133333333333334\n",
      "Min Ratio:  0.5\n",
      "Min Ratio:  0.4145\n",
      "Min Ratio:  0.5\n"
     ]
    },
    {
     "data": {
      "application/vnd.jupyter.widget-view+json": {
       "model_id": "7650224f05df4d2e8f07b5dfd121191d",
       "version_major": 2,
       "version_minor": 0
      },
      "text/plain": [
       "restarts:   0%|          | 0/1 [00:00<?, ?it/s]"
      ]
     },
     "metadata": {},
     "output_type": "display_data"
    },
    {
     "data": {
      "application/vnd.jupyter.widget-view+json": {
       "model_id": "a286de21fe484dfb9f50124b5785d714",
       "version_major": 2,
       "version_minor": 0
      },
      "text/plain": [
       "epochs:   0%|          | 0/1 [00:00<?, ?it/s]"
      ]
     },
     "metadata": {},
     "output_type": "display_data"
    },
    {
     "name": "stdout",
     "output_type": "stream",
     "text": [
      "<tf.Variable 'Adam_2/learning_rate:0' shape=() dtype=float32>\n",
      "<tf.Variable 'Adam_2/learning_rate:0' shape=() dtype=float32>\n",
      "Original Data Shape (selected):  (2500, 36)\n",
      "Original Data Shape (encoded):  (2500, 36)\n",
      "Original Data Class Distribution:  1485  (true) / 1015  (false)\n",
      "(1500, 36) (1500,)\n",
      "(500, 36) (500,)\n",
      "(500, 36) (500,)\n",
      "Min Ratio:  0.4106666666666667\n",
      "Min Ratio:  0.5\n",
      "Min Ratio:  0.4065\n",
      "Min Ratio:  0.5\n"
     ]
    },
    {
     "data": {
      "application/vnd.jupyter.widget-view+json": {
       "model_id": "dbb89836b42a42a3aa52a163048d5412",
       "version_major": 2,
       "version_minor": 0
      },
      "text/plain": [
       "restarts:   0%|          | 0/1 [00:00<?, ?it/s]"
      ]
     },
     "metadata": {},
     "output_type": "display_data"
    },
    {
     "data": {
      "application/vnd.jupyter.widget-view+json": {
       "model_id": "2c1b5004d25f4bb2802bd53ba97933cb",
       "version_major": 2,
       "version_minor": 0
      },
      "text/plain": [
       "epochs:   0%|          | 0/1 [00:00<?, ?it/s]"
      ]
     },
     "metadata": {},
     "output_type": "display_data"
    },
    {
     "name": "stdout",
     "output_type": "stream",
     "text": [
      "<tf.Variable 'Adam_2/learning_rate:0' shape=() dtype=float32>\n",
      "<tf.Variable 'Adam_2/learning_rate:0' shape=() dtype=float32>\n",
      "Original Data Shape (selected):  (2500, 36)\n",
      "Original Data Shape (encoded):  (2500, 36)\n",
      "Original Data Class Distribution:  1490  (true) / 1010  (false)\n",
      "(1500, 36) (1500,)\n",
      "(500, 36) (500,)\n",
      "(500, 36) (500,)\n",
      "Min Ratio:  0.4026666666666667\n",
      "Min Ratio:  0.5\n",
      "Min Ratio:  0.4035\n",
      "Min Ratio:  0.5\n"
     ]
    },
    {
     "data": {
      "application/vnd.jupyter.widget-view+json": {
       "model_id": "2068bbaf5c544b3280e183d8654e7e20",
       "version_major": 2,
       "version_minor": 0
      },
      "text/plain": [
       "restarts:   0%|          | 0/1 [00:00<?, ?it/s]"
      ]
     },
     "metadata": {},
     "output_type": "display_data"
    },
    {
     "data": {
      "application/vnd.jupyter.widget-view+json": {
       "model_id": "79e0cd4bdb8b45579b80008f57b7bb7d",
       "version_major": 2,
       "version_minor": 0
      },
      "text/plain": [
       "epochs:   0%|          | 0/1 [00:00<?, ?it/s]"
      ]
     },
     "metadata": {},
     "output_type": "display_data"
    },
    {
     "name": "stdout",
     "output_type": "stream",
     "text": [
      "<tf.Variable 'Adam_2/learning_rate:0' shape=() dtype=float32>\n",
      "Original Data Shape (selected):  (2500, 36)\n",
      "Original Data Shape (encoded):  (2500, 36)\n",
      "Original Data Class Distribution:  1478  (true) / 1022  (false)\n",
      "(1500, 36) (1500,)\n",
      "(500, 36) (500,)\n",
      "(500, 36) (500,)\n",
      "Min Ratio:  0.4146666666666667\n",
      "Min Ratio:  0.5\n",
      "Min Ratio:  0.4095\n",
      "Min Ratio:  0.5\n"
     ]
    },
    {
     "data": {
      "application/vnd.jupyter.widget-view+json": {
       "model_id": "25d0e8171a57490d899d98376e91cd83",
       "version_major": 2,
       "version_minor": 0
      },
      "text/plain": [
       "restarts:   0%|          | 0/1 [00:00<?, ?it/s]"
      ]
     },
     "metadata": {},
     "output_type": "display_data"
    },
    {
     "data": {
      "application/vnd.jupyter.widget-view+json": {
       "model_id": "a64757b7a38f48319a1524ceb77a3b4d",
       "version_major": 2,
       "version_minor": 0
      },
      "text/plain": [
       "epochs:   0%|          | 0/1 [00:00<?, ?it/s]"
      ]
     },
     "metadata": {},
     "output_type": "display_data"
    },
    {
     "name": "stdout",
     "output_type": "stream",
     "text": [
      "<tf.Variable 'Adam_2/learning_rate:0' shape=() dtype=float32>\n",
      "<tf.Variable 'Adam_2/learning_rate:0' shape=() dtype=float32>\n",
      "Original Data Shape (selected):  (2500, 36)\n",
      "Original Data Shape (encoded):  (2500, 36)\n",
      "Original Data Class Distribution:  1499  (true) / 1001  (false)\n",
      "(1500, 36) (1500,)\n",
      "(500, 36) (500,)\n",
      "(500, 36) (500,)\n",
      "Min Ratio:  0.3973333333333333\n",
      "Min Ratio:  0.5\n",
      "Min Ratio:  0.4\n",
      "Min Ratio:  0.5\n"
     ]
    },
    {
     "data": {
      "application/vnd.jupyter.widget-view+json": {
       "model_id": "3f893d3e38c7498e84c284d54f1ac21c",
       "version_major": 2,
       "version_minor": 0
      },
      "text/plain": [
       "restarts:   0%|          | 0/1 [00:00<?, ?it/s]"
      ]
     },
     "metadata": {},
     "output_type": "display_data"
    },
    {
     "data": {
      "application/vnd.jupyter.widget-view+json": {
       "model_id": "0b33de45f34542c8adb3f0df2a325a46",
       "version_major": 2,
       "version_minor": 0
      },
      "text/plain": [
       "epochs:   0%|          | 0/1 [00:00<?, ?it/s]"
      ]
     },
     "metadata": {},
     "output_type": "display_data"
    },
    {
     "name": "stdout",
     "output_type": "stream",
     "text": [
      "<tf.Variable 'Adam_2/learning_rate:0' shape=() dtype=float32>\n",
      "<tf.Variable 'Adam_2/learning_rate:0' shape=() dtype=float32>\n",
      "Original Data Shape (selected):  (2500, 36)\n",
      "Original Data Shape (encoded):  (2500, 36)\n",
      "Original Data Class Distribution:  1517  (true) / 983  (false)\n",
      "(1500, 36) (1500,)\n",
      "(500, 36) (500,)\n",
      "(500, 36) (500,)\n",
      "Min Ratio:  0.3913333333333333\n",
      "Min Ratio:  0.5\n",
      "Min Ratio:  0.3875\n",
      "Min Ratio:  0.5\n"
     ]
    },
    {
     "data": {
      "application/vnd.jupyter.widget-view+json": {
       "model_id": "61192f935f6245299810274d878706eb",
       "version_major": 2,
       "version_minor": 0
      },
      "text/plain": [
       "restarts:   0%|          | 0/1 [00:00<?, ?it/s]"
      ]
     },
     "metadata": {},
     "output_type": "display_data"
    },
    {
     "data": {
      "application/vnd.jupyter.widget-view+json": {
       "model_id": "27c36904f6114b089708ec867beb93f5",
       "version_major": 2,
       "version_minor": 0
      },
      "text/plain": [
       "epochs:   0%|          | 0/1 [00:00<?, ?it/s]"
      ]
     },
     "metadata": {},
     "output_type": "display_data"
    },
    {
     "name": "stdout",
     "output_type": "stream",
     "text": [
      "<tf.Variable 'Adam_2/learning_rate:0' shape=() dtype=float32>\n",
      "<tf.Variable 'Adam_2/learning_rate:0' shape=() dtype=float32>\n",
      "Original Data Shape (selected):  (2500, 36)\n",
      "Original Data Shape (encoded):  (2500, 36)\n",
      "Original Data Class Distribution:  1486  (true) / 1014  (false)\n",
      "(1500, 36) (1500,)\n",
      "(500, 36) (500,)\n",
      "(500, 36) (500,)\n",
      "Min Ratio:  0.3993333333333333\n",
      "Min Ratio:  0.5\n",
      "Min Ratio:  0.4025\n",
      "Min Ratio:  0.5\n"
     ]
    },
    {
     "data": {
      "application/vnd.jupyter.widget-view+json": {
       "model_id": "5267d54b8ad54b27b100bac417fc08dd",
       "version_major": 2,
       "version_minor": 0
      },
      "text/plain": [
       "restarts:   0%|          | 0/1 [00:00<?, ?it/s]"
      ]
     },
     "metadata": {},
     "output_type": "display_data"
    },
    {
     "data": {
      "application/vnd.jupyter.widget-view+json": {
       "model_id": "08b37a1b99464ef68b11c6137df64ac0",
       "version_major": 2,
       "version_minor": 0
      },
      "text/plain": [
       "epochs:   0%|          | 0/1 [00:00<?, ?it/s]"
      ]
     },
     "metadata": {},
     "output_type": "display_data"
    },
    {
     "name": "stdout",
     "output_type": "stream",
     "text": [
      "<tf.Variable 'Adam_2/learning_rate:0' shape=() dtype=float32>\n",
      "<tf.Variable 'Adam_2/learning_rate:0' shape=() dtype=float32>\n",
      "Original Data Shape (selected):  (2500, 36)\n",
      "Original Data Shape (encoded):  (2500, 36)\n",
      "Original Data Class Distribution:  1479  (true) / 1021  (false)\n",
      "(1500, 36) (1500,)\n",
      "(500, 36) (500,)\n",
      "(500, 36) (500,)\n",
      "Min Ratio:  0.402\n",
      "Min Ratio:  0.5\n",
      "Min Ratio:  0.408\n",
      "Min Ratio:  0.5\n"
     ]
    },
    {
     "data": {
      "application/vnd.jupyter.widget-view+json": {
       "model_id": "083dbf4264184869902a680a0f73822a",
       "version_major": 2,
       "version_minor": 0
      },
      "text/plain": [
       "restarts:   0%|          | 0/1 [00:00<?, ?it/s]"
      ]
     },
     "metadata": {},
     "output_type": "display_data"
    },
    {
     "data": {
      "application/vnd.jupyter.widget-view+json": {
       "model_id": "bd9d75f7d2374b05ad3e0f722676d4a5",
       "version_major": 2,
       "version_minor": 0
      },
      "text/plain": [
       "epochs:   0%|          | 0/1 [00:00<?, ?it/s]"
      ]
     },
     "metadata": {},
     "output_type": "display_data"
    },
    {
     "name": "stdout",
     "output_type": "stream",
     "text": [
      "<tf.Variable 'Adam_2/learning_rate:0' shape=() dtype=float32>\n",
      "<tf.Variable 'Adam_2/learning_rate:0' shape=() dtype=float32>\n",
      "Original Data Shape (selected):  (2500, 36)\n",
      "Original Data Shape (encoded):  (2500, 36)\n",
      "Original Data Class Distribution:  1499  (true) / 1001  (false)\n",
      "(1500, 36) (1500,)\n",
      "(500, 36) (500,)\n",
      "(500, 36) (500,)\n",
      "Min Ratio:  0.39666666666666667\n",
      "Min Ratio:  0.5\n",
      "Min Ratio:  0.402\n",
      "Min Ratio:  0.5\n"
     ]
    },
    {
     "data": {
      "application/vnd.jupyter.widget-view+json": {
       "model_id": "cb3001c45fb447d098487add14a1ea94",
       "version_major": 2,
       "version_minor": 0
      },
      "text/plain": [
       "restarts:   0%|          | 0/1 [00:00<?, ?it/s]"
      ]
     },
     "metadata": {},
     "output_type": "display_data"
    },
    {
     "data": {
      "application/vnd.jupyter.widget-view+json": {
       "model_id": "8247ab5c55444cef88127984ed6fc1f6",
       "version_major": 2,
       "version_minor": 0
      },
      "text/plain": [
       "epochs:   0%|          | 0/1 [00:00<?, ?it/s]"
      ]
     },
     "metadata": {},
     "output_type": "display_data"
    },
    {
     "name": "stdout",
     "output_type": "stream",
     "text": [
      "<tf.Variable 'Adam_2/learning_rate:0' shape=() dtype=float32>\n",
      "<tf.Variable 'Adam_2/learning_rate:0' shape=() dtype=float32>\n",
      "Original Data Shape (selected):  (2500, 36)\n",
      "Original Data Shape (encoded):  (2500, 36)\n",
      "Original Data Class Distribution:  1537  (true) / 963  (false)\n",
      "(1500, 36) (1500,)\n",
      "(500, 36) (500,)\n",
      "(500, 36) (500,)\n",
      "Min Ratio:  0.38466666666666666\n",
      "Min Ratio:  0.5\n",
      "Min Ratio:  0.384\n",
      "Min Ratio:  0.5\n"
     ]
    },
    {
     "data": {
      "application/vnd.jupyter.widget-view+json": {
       "model_id": "1d46b89970324a02ab846148c2d23bcb",
       "version_major": 2,
       "version_minor": 0
      },
      "text/plain": [
       "restarts:   0%|          | 0/1 [00:00<?, ?it/s]"
      ]
     },
     "metadata": {},
     "output_type": "display_data"
    },
    {
     "data": {
      "application/vnd.jupyter.widget-view+json": {
       "model_id": "2e167025500448cabefec695a7135cbd",
       "version_major": 2,
       "version_minor": 0
      },
      "text/plain": [
       "epochs:   0%|          | 0/1 [00:00<?, ?it/s]"
      ]
     },
     "metadata": {},
     "output_type": "display_data"
    },
    {
     "name": "stdout",
     "output_type": "stream",
     "text": [
      "<tf.Variable 'Adam_2/learning_rate:0' shape=() dtype=float32>\n",
      "<tf.Variable 'Adam_2/learning_rate:0' shape=() dtype=float32>\n",
      "Original Data Shape (selected):  (2500, 36)\n",
      "Original Data Shape (encoded):  (2500, 36)\n",
      "Original Data Class Distribution:  1573  (true) / 927  (false)\n",
      "(1500, 36) (1500,)\n",
      "(500, 36) (500,)\n",
      "(500, 36) (500,)\n",
      "Min Ratio:  0.35933333333333334\n",
      "Min Ratio:  0.5\n",
      "Min Ratio:  0.3685\n",
      "Min Ratio:  0.5\n"
     ]
    },
    {
     "data": {
      "application/vnd.jupyter.widget-view+json": {
       "model_id": "dd33841afba043ad9b0f40e4266182ea",
       "version_major": 2,
       "version_minor": 0
      },
      "text/plain": [
       "restarts:   0%|          | 0/1 [00:00<?, ?it/s]"
      ]
     },
     "metadata": {},
     "output_type": "display_data"
    },
    {
     "data": {
      "application/vnd.jupyter.widget-view+json": {
       "model_id": "782b2eaf5604480d8705858ac75f3058",
       "version_major": 2,
       "version_minor": 0
      },
      "text/plain": [
       "epochs:   0%|          | 0/1 [00:00<?, ?it/s]"
      ]
     },
     "metadata": {},
     "output_type": "display_data"
    },
    {
     "name": "stdout",
     "output_type": "stream",
     "text": [
      "<tf.Variable 'Adam_2/learning_rate:0' shape=() dtype=float32>\n",
      "<tf.Variable 'Adam_2/learning_rate:0' shape=() dtype=float32>\n",
      "Original Data Shape (selected):  (2500, 36)\n",
      "Original Data Shape (encoded):  (2500, 36)\n",
      "Original Data Class Distribution:  1532  (true) / 968  (false)\n",
      "(1500, 36) (1500,)\n",
      "(500, 36) (500,)\n",
      "(500, 36) (500,)\n",
      "Min Ratio:  0.38466666666666666\n",
      "Min Ratio:  0.5\n",
      "Min Ratio:  0.384\n",
      "Min Ratio:  0.5\n"
     ]
    },
    {
     "data": {
      "application/vnd.jupyter.widget-view+json": {
       "model_id": "b0c61492d22048b794299f02fc9b7603",
       "version_major": 2,
       "version_minor": 0
      },
      "text/plain": [
       "restarts:   0%|          | 0/1 [00:00<?, ?it/s]"
      ]
     },
     "metadata": {},
     "output_type": "display_data"
    },
    {
     "data": {
      "application/vnd.jupyter.widget-view+json": {
       "model_id": "81d67fe064fb4eca9783c4a8ae0d751c",
       "version_major": 2,
       "version_minor": 0
      },
      "text/plain": [
       "epochs:   0%|          | 0/1 [00:00<?, ?it/s]"
      ]
     },
     "metadata": {},
     "output_type": "display_data"
    },
    {
     "name": "stdout",
     "output_type": "stream",
     "text": [
      "<tf.Variable 'Adam_2/learning_rate:0' shape=() dtype=float32>\n",
      "<tf.Variable 'Adam_2/learning_rate:0' shape=() dtype=float32>\n",
      "Original Data Shape (selected):  (2500, 36)\n",
      "Original Data Shape (encoded):  (2500, 36)\n",
      "Original Data Class Distribution:  1534  (true) / 966  (false)\n",
      "(1500, 36) (1500,)\n",
      "(500, 36) (500,)\n",
      "(500, 36) (500,)\n",
      "Min Ratio:  0.382\n",
      "Min Ratio:  0.5\n",
      "Min Ratio:  0.3845\n",
      "Min Ratio:  0.5\n"
     ]
    },
    {
     "data": {
      "application/vnd.jupyter.widget-view+json": {
       "model_id": "0b2f854cc4a749299310120f801c11ed",
       "version_major": 2,
       "version_minor": 0
      },
      "text/plain": [
       "restarts:   0%|          | 0/1 [00:00<?, ?it/s]"
      ]
     },
     "metadata": {},
     "output_type": "display_data"
    },
    {
     "data": {
      "application/vnd.jupyter.widget-view+json": {
       "model_id": "debe2aad5c0b48d081c56b7f4ee14941",
       "version_major": 2,
       "version_minor": 0
      },
      "text/plain": [
       "epochs:   0%|          | 0/1 [00:00<?, ?it/s]"
      ]
     },
     "metadata": {},
     "output_type": "display_data"
    },
    {
     "name": "stdout",
     "output_type": "stream",
     "text": [
      "<tf.Variable 'Adam_2/learning_rate:0' shape=() dtype=float32>\n",
      "<tf.Variable 'Adam_2/learning_rate:0' shape=() dtype=float32>\n",
      "Original Data Shape (selected):  (2500, 36)\n",
      "Original Data Shape (encoded):  (2500, 36)\n",
      "Original Data Class Distribution:  1553  (true) / 947  (false)\n",
      "(1500, 36) (1500,)\n",
      "(500, 36) (500,)\n",
      "(500, 36) (500,)\n",
      "Min Ratio:  0.37066666666666664\n",
      "Min Ratio:  0.5\n",
      "Min Ratio:  0.379\n",
      "Min Ratio:  0.5\n"
     ]
    },
    {
     "data": {
      "application/vnd.jupyter.widget-view+json": {
       "model_id": "fdc3679155734e78a61fcb1dc784744a",
       "version_major": 2,
       "version_minor": 0
      },
      "text/plain": [
       "restarts:   0%|          | 0/1 [00:00<?, ?it/s]"
      ]
     },
     "metadata": {},
     "output_type": "display_data"
    },
    {
     "data": {
      "application/vnd.jupyter.widget-view+json": {
       "model_id": "3ce0070a4833400db50a3322bc4c9775",
       "version_major": 2,
       "version_minor": 0
      },
      "text/plain": [
       "epochs:   0%|          | 0/1 [00:00<?, ?it/s]"
      ]
     },
     "metadata": {},
     "output_type": "display_data"
    },
    {
     "name": "stdout",
     "output_type": "stream",
     "text": [
      "<tf.Variable 'Adam_2/learning_rate:0' shape=() dtype=float32>\n",
      "<tf.Variable 'Adam_2/learning_rate:0' shape=() dtype=float32>\n",
      "Original Data Shape (selected):  (2500, 36)\n",
      "Original Data Shape (encoded):  (2500, 36)\n",
      "Original Data Class Distribution:  1515  (true) / 985  (false)\n",
      "(1500, 36) (1500,)\n",
      "(500, 36) (500,)\n",
      "(500, 36) (500,)\n",
      "Min Ratio:  0.402\n",
      "Min Ratio:  0.5\n",
      "Min Ratio:  0.403\n",
      "Min Ratio:  0.5\n"
     ]
    },
    {
     "data": {
      "application/vnd.jupyter.widget-view+json": {
       "model_id": "63dbc15ecafa468e80fe50ead72f1fb2",
       "version_major": 2,
       "version_minor": 0
      },
      "text/plain": [
       "restarts:   0%|          | 0/1 [00:00<?, ?it/s]"
      ]
     },
     "metadata": {},
     "output_type": "display_data"
    },
    {
     "data": {
      "application/vnd.jupyter.widget-view+json": {
       "model_id": "3513365503484422ac710176c00dbb40",
       "version_major": 2,
       "version_minor": 0
      },
      "text/plain": [
       "epochs:   0%|          | 0/1 [00:00<?, ?it/s]"
      ]
     },
     "metadata": {},
     "output_type": "display_data"
    },
    {
     "name": "stdout",
     "output_type": "stream",
     "text": [
      "<tf.Variable 'Adam_2/learning_rate:0' shape=() dtype=float32>\n",
      "<tf.Variable 'Adam_2/learning_rate:0' shape=() dtype=float32>\n",
      "Original Data Shape (selected):  (2500, 36)\n",
      "Original Data Shape (encoded):  (2500, 36)\n",
      "Original Data Class Distribution:  1489  (true) / 1011  (false)\n",
      "(1500, 36) (1500,)\n",
      "(500, 36) (500,)\n",
      "(500, 36) (500,)\n",
      "Min Ratio:  0.404\n",
      "Min Ratio:  0.5\n",
      "Min Ratio:  0.413\n",
      "Min Ratio:  0.5\n"
     ]
    },
    {
     "data": {
      "application/vnd.jupyter.widget-view+json": {
       "model_id": "83c4f62cf156474981521fc9fb66b401",
       "version_major": 2,
       "version_minor": 0
      },
      "text/plain": [
       "restarts:   0%|          | 0/1 [00:00<?, ?it/s]"
      ]
     },
     "metadata": {},
     "output_type": "display_data"
    },
    {
     "data": {
      "application/vnd.jupyter.widget-view+json": {
       "model_id": "ba7ac77c16c347df9aab1b193726bf05",
       "version_major": 2,
       "version_minor": 0
      },
      "text/plain": [
       "epochs:   0%|          | 0/1 [00:00<?, ?it/s]"
      ]
     },
     "metadata": {},
     "output_type": "display_data"
    },
    {
     "name": "stdout",
     "output_type": "stream",
     "text": [
      "<tf.Variable 'Adam_2/learning_rate:0' shape=() dtype=float32>\n",
      "<tf.Variable 'Adam_2/learning_rate:0' shape=() dtype=float32>\n",
      "Original Data Shape (selected):  (2500, 36)\n",
      "Original Data Shape (encoded):  (2500, 36)\n",
      "Original Data Class Distribution:  1522  (true) / 978  (false)\n",
      "(1500, 36) (1500,)\n",
      "(500, 36) (500,)\n",
      "(500, 36) (500,)\n",
      "Min Ratio:  0.39466666666666667\n",
      "Min Ratio:  0.5\n",
      "Min Ratio:  0.392\n",
      "Min Ratio:  0.5\n"
     ]
    },
    {
     "data": {
      "application/vnd.jupyter.widget-view+json": {
       "model_id": "bb78d84a615e4225a572d623e4b51867",
       "version_major": 2,
       "version_minor": 0
      },
      "text/plain": [
       "restarts:   0%|          | 0/1 [00:00<?, ?it/s]"
      ]
     },
     "metadata": {},
     "output_type": "display_data"
    },
    {
     "data": {
      "application/vnd.jupyter.widget-view+json": {
       "model_id": "ec0cb56302f34e25ab1759bb69821a93",
       "version_major": 2,
       "version_minor": 0
      },
      "text/plain": [
       "epochs:   0%|          | 0/1 [00:00<?, ?it/s]"
      ]
     },
     "metadata": {},
     "output_type": "display_data"
    },
    {
     "name": "stdout",
     "output_type": "stream",
     "text": [
      "<tf.Variable 'Adam_2/learning_rate:0' shape=() dtype=float32>\n",
      "<tf.Variable 'Adam_2/learning_rate:0' shape=() dtype=float32>\n",
      "Original Data Shape (selected):  (2500, 36)\n",
      "Original Data Shape (encoded):  (2500, 36)\n",
      "Original Data Class Distribution:  1544  (true) / 956  (false)\n",
      "(1500, 36) (1500,)\n",
      "(500, 36) (500,)\n",
      "(500, 36) (500,)\n",
      "Min Ratio:  0.39\n",
      "Min Ratio:  0.5\n",
      "Min Ratio:  0.379\n",
      "Min Ratio:  0.5\n"
     ]
    },
    {
     "data": {
      "application/vnd.jupyter.widget-view+json": {
       "model_id": "cada28256845483c975a7742b16a7eba",
       "version_major": 2,
       "version_minor": 0
      },
      "text/plain": [
       "restarts:   0%|          | 0/1 [00:00<?, ?it/s]"
      ]
     },
     "metadata": {},
     "output_type": "display_data"
    },
    {
     "data": {
      "application/vnd.jupyter.widget-view+json": {
       "model_id": "e66315715bb345bda19f7ed936483113",
       "version_major": 2,
       "version_minor": 0
      },
      "text/plain": [
       "epochs:   0%|          | 0/1 [00:00<?, ?it/s]"
      ]
     },
     "metadata": {},
     "output_type": "display_data"
    },
    {
     "name": "stdout",
     "output_type": "stream",
     "text": [
      "<tf.Variable 'Adam_2/learning_rate:0' shape=() dtype=float32>\n",
      "<tf.Variable 'Adam_2/learning_rate:0' shape=() dtype=float32>\n",
      "Original Data Shape (selected):  (2500, 36)\n",
      "Original Data Shape (encoded):  (2500, 36)\n",
      "Original Data Class Distribution:  1553  (true) / 947  (false)\n",
      "(1500, 36) (1500,)\n",
      "(500, 36) (500,)\n",
      "(500, 36) (500,)\n",
      "Min Ratio:  0.38333333333333336\n",
      "Min Ratio:  0.5\n",
      "Min Ratio:  0.3815\n",
      "Min Ratio:  0.5\n"
     ]
    },
    {
     "data": {
      "application/vnd.jupyter.widget-view+json": {
       "model_id": "164074acbe59449d961a3ac83496cb4f",
       "version_major": 2,
       "version_minor": 0
      },
      "text/plain": [
       "restarts:   0%|          | 0/1 [00:00<?, ?it/s]"
      ]
     },
     "metadata": {},
     "output_type": "display_data"
    },
    {
     "data": {
      "application/vnd.jupyter.widget-view+json": {
       "model_id": "1c918b0c16564f5791621627d3381e1e",
       "version_major": 2,
       "version_minor": 0
      },
      "text/plain": [
       "epochs:   0%|          | 0/1 [00:00<?, ?it/s]"
      ]
     },
     "metadata": {},
     "output_type": "display_data"
    },
    {
     "name": "stdout",
     "output_type": "stream",
     "text": [
      "<tf.Variable 'Adam_2/learning_rate:0' shape=() dtype=float32>\n",
      "<tf.Variable 'Adam_2/learning_rate:0' shape=() dtype=float32>\n",
      "Original Data Shape (selected):  (2500, 36)\n",
      "Original Data Shape (encoded):  (2500, 36)\n",
      "Original Data Class Distribution:  1513  (true) / 987  (false)\n",
      "(1500, 36) (1500,)\n",
      "(500, 36) (500,)\n",
      "(500, 36) (500,)\n",
      "Min Ratio:  0.40066666666666667\n",
      "Min Ratio:  0.5\n",
      "Min Ratio:  0.394\n",
      "Min Ratio:  0.5\n"
     ]
    },
    {
     "data": {
      "application/vnd.jupyter.widget-view+json": {
       "model_id": "4a0b2749507e4413b511472b0367ed7a",
       "version_major": 2,
       "version_minor": 0
      },
      "text/plain": [
       "restarts:   0%|          | 0/1 [00:00<?, ?it/s]"
      ]
     },
     "metadata": {},
     "output_type": "display_data"
    },
    {
     "data": {
      "application/vnd.jupyter.widget-view+json": {
       "model_id": "dfa2c0f6f2064e0594884149adaf639e",
       "version_major": 2,
       "version_minor": 0
      },
      "text/plain": [
       "epochs:   0%|          | 0/1 [00:00<?, ?it/s]"
      ]
     },
     "metadata": {},
     "output_type": "display_data"
    },
    {
     "name": "stdout",
     "output_type": "stream",
     "text": [
      "<tf.Variable 'Adam_2/learning_rate:0' shape=() dtype=float32>\n",
      "<tf.Variable 'Adam_2/learning_rate:0' shape=() dtype=float32>\n",
      "Original Data Shape (selected):  (2500, 36)\n",
      "Original Data Shape (encoded):  (2500, 36)\n",
      "Original Data Class Distribution:  1525  (true) / 975  (false)\n",
      "(1500, 36) (1500,)\n",
      "(500, 36) (500,)\n",
      "(500, 36) (500,)\n",
      "Min Ratio:  0.39866666666666667\n",
      "Min Ratio:  0.5\n",
      "Min Ratio:  0.388\n",
      "Min Ratio:  0.5\n"
     ]
    },
    {
     "data": {
      "application/vnd.jupyter.widget-view+json": {
       "model_id": "516cf193e75c41c9944225006f2d53d8",
       "version_major": 2,
       "version_minor": 0
      },
      "text/plain": [
       "restarts:   0%|          | 0/1 [00:00<?, ?it/s]"
      ]
     },
     "metadata": {},
     "output_type": "display_data"
    },
    {
     "data": {
      "application/vnd.jupyter.widget-view+json": {
       "model_id": "7fdee471055045e5a67b63ab0bfda1fe",
       "version_major": 2,
       "version_minor": 0
      },
      "text/plain": [
       "epochs:   0%|          | 0/1 [00:00<?, ?it/s]"
      ]
     },
     "metadata": {},
     "output_type": "display_data"
    },
    {
     "name": "stdout",
     "output_type": "stream",
     "text": [
      "<tf.Variable 'Adam_2/learning_rate:0' shape=() dtype=float32>\n",
      "<tf.Variable 'Adam_2/learning_rate:0' shape=() dtype=float32>\n",
      "Original Data Shape (selected):  (2500, 36)\n",
      "Original Data Shape (encoded):  (2500, 36)\n",
      "Original Data Class Distribution:  1538  (true) / 962  (false)\n",
      "(1500, 36) (1500,)\n",
      "(500, 36) (500,)\n",
      "(500, 36) (500,)\n",
      "Min Ratio:  0.39266666666666666\n",
      "Min Ratio:  0.5\n",
      "Min Ratio:  0.386\n",
      "Min Ratio:  0.5\n"
     ]
    },
    {
     "data": {
      "application/vnd.jupyter.widget-view+json": {
       "model_id": "55e4182b5d68474aaa6913aa0cad2585",
       "version_major": 2,
       "version_minor": 0
      },
      "text/plain": [
       "restarts:   0%|          | 0/1 [00:00<?, ?it/s]"
      ]
     },
     "metadata": {},
     "output_type": "display_data"
    },
    {
     "data": {
      "application/vnd.jupyter.widget-view+json": {
       "model_id": "f86fecc79c7649d7a5e92f707c9a7f69",
       "version_major": 2,
       "version_minor": 0
      },
      "text/plain": [
       "epochs:   0%|          | 0/1 [00:00<?, ?it/s]"
      ]
     },
     "metadata": {},
     "output_type": "display_data"
    },
    {
     "name": "stdout",
     "output_type": "stream",
     "text": [
      "<tf.Variable 'Adam_2/learning_rate:0' shape=() dtype=float32>\n",
      "<tf.Variable 'Adam_2/learning_rate:0' shape=() dtype=float32>\n",
      "Original Data Shape (selected):  (2500, 36)\n",
      "Original Data Shape (encoded):  (2500, 36)\n",
      "Original Data Class Distribution:  1526  (true) / 974  (false)\n",
      "(1500, 36) (1500,)\n",
      "(500, 36) (500,)\n",
      "(500, 36) (500,)\n",
      "Min Ratio:  0.384\n",
      "Min Ratio:  0.5\n",
      "Min Ratio:  0.3895\n",
      "Min Ratio:  0.5\n"
     ]
    },
    {
     "data": {
      "application/vnd.jupyter.widget-view+json": {
       "model_id": "58df5627a7b3406692569fe32f13f97c",
       "version_major": 2,
       "version_minor": 0
      },
      "text/plain": [
       "restarts:   0%|          | 0/1 [00:00<?, ?it/s]"
      ]
     },
     "metadata": {},
     "output_type": "display_data"
    },
    {
     "data": {
      "application/vnd.jupyter.widget-view+json": {
       "model_id": "e11340b838d44573bdf62b7d16110571",
       "version_major": 2,
       "version_minor": 0
      },
      "text/plain": [
       "epochs:   0%|          | 0/1 [00:00<?, ?it/s]"
      ]
     },
     "metadata": {},
     "output_type": "display_data"
    },
    {
     "name": "stdout",
     "output_type": "stream",
     "text": [
      "<tf.Variable 'Adam_2/learning_rate:0' shape=() dtype=float32>\n",
      "<tf.Variable 'Adam_2/learning_rate:0' shape=() dtype=float32>\n",
      "Original Data Shape (selected):  (2500, 36)\n",
      "Original Data Shape (encoded):  (2500, 36)\n",
      "Original Data Class Distribution:  1555  (true) / 945  (false)\n",
      "(1500, 36) (1500,)\n",
      "(500, 36) (500,)\n",
      "(500, 36) (500,)\n",
      "Min Ratio:  0.37266666666666665\n",
      "Min Ratio:  0.5\n",
      "Min Ratio:  0.375\n",
      "Min Ratio:  0.5\n"
     ]
    },
    {
     "data": {
      "application/vnd.jupyter.widget-view+json": {
       "model_id": "fefcf932e5d14aa2b03252bb80eb146e",
       "version_major": 2,
       "version_minor": 0
      },
      "text/plain": [
       "restarts:   0%|          | 0/1 [00:00<?, ?it/s]"
      ]
     },
     "metadata": {},
     "output_type": "display_data"
    },
    {
     "data": {
      "application/vnd.jupyter.widget-view+json": {
       "model_id": "12baad0f077d484a8dd6ddc58eb2c1b2",
       "version_major": 2,
       "version_minor": 0
      },
      "text/plain": [
       "epochs:   0%|          | 0/1 [00:00<?, ?it/s]"
      ]
     },
     "metadata": {},
     "output_type": "display_data"
    },
    {
     "name": "stdout",
     "output_type": "stream",
     "text": [
      "<tf.Variable 'Adam_2/learning_rate:0' shape=() dtype=float32>\n",
      "<tf.Variable 'Adam_2/learning_rate:0' shape=() dtype=float32>\n",
      "Original Data Shape (selected):  (2500, 36)\n",
      "Original Data Shape (encoded):  (2500, 36)\n",
      "Original Data Class Distribution:  1483  (true) / 1017  (false)\n",
      "(1500, 36) (1500,)\n",
      "(500, 36) (500,)\n",
      "(500, 36) (500,)\n",
      "Min Ratio:  0.4\n",
      "Min Ratio:  0.5\n",
      "Min Ratio:  0.4045\n",
      "Min Ratio:  0.5\n"
     ]
    },
    {
     "data": {
      "application/vnd.jupyter.widget-view+json": {
       "model_id": "417a72ef53ae47618a0527cd3a850e80",
       "version_major": 2,
       "version_minor": 0
      },
      "text/plain": [
       "restarts:   0%|          | 0/1 [00:00<?, ?it/s]"
      ]
     },
     "metadata": {},
     "output_type": "display_data"
    },
    {
     "data": {
      "application/vnd.jupyter.widget-view+json": {
       "model_id": "c43399752b8547f287711bf45217c1a0",
       "version_major": 2,
       "version_minor": 0
      },
      "text/plain": [
       "epochs:   0%|          | 0/1 [00:00<?, ?it/s]"
      ]
     },
     "metadata": {},
     "output_type": "display_data"
    },
    {
     "name": "stdout",
     "output_type": "stream",
     "text": [
      "<tf.Variable 'Adam_2/learning_rate:0' shape=() dtype=float32>\n",
      "<tf.Variable 'Adam_2/learning_rate:0' shape=() dtype=float32>\n",
      "Original Data Shape (selected):  (2500, 36)\n",
      "Original Data Shape (encoded):  (2500, 36)\n",
      "Original Data Class Distribution:  1527  (true) / 973  (false)\n",
      "(1500, 36) (1500,)\n",
      "(500, 36) (500,)\n",
      "(500, 36) (500,)\n",
      "Min Ratio:  0.3953333333333333\n",
      "Min Ratio:  0.5\n",
      "Min Ratio:  0.395\n",
      "Min Ratio:  0.5\n"
     ]
    },
    {
     "data": {
      "application/vnd.jupyter.widget-view+json": {
       "model_id": "c340589371d64c73b7a9c2a46f1ca1b5",
       "version_major": 2,
       "version_minor": 0
      },
      "text/plain": [
       "restarts:   0%|          | 0/1 [00:00<?, ?it/s]"
      ]
     },
     "metadata": {},
     "output_type": "display_data"
    },
    {
     "data": {
      "application/vnd.jupyter.widget-view+json": {
       "model_id": "dc7dbaa1cff24e95a1610b1daf892d97",
       "version_major": 2,
       "version_minor": 0
      },
      "text/plain": [
       "epochs:   0%|          | 0/1 [00:00<?, ?it/s]"
      ]
     },
     "metadata": {},
     "output_type": "display_data"
    },
    {
     "name": "stdout",
     "output_type": "stream",
     "text": [
      "<tf.Variable 'Adam_2/learning_rate:0' shape=() dtype=float32>\n",
      "<tf.Variable 'Adam_2/learning_rate:0' shape=() dtype=float32>\n",
      "Original Data Shape (selected):  (2500, 36)\n",
      "Original Data Shape (encoded):  (2500, 36)\n",
      "Original Data Class Distribution:  1541  (true) / 959  (false)\n",
      "(1500, 36) (1500,)\n",
      "(500, 36) (500,)\n",
      "(500, 36) (500,)\n",
      "Min Ratio:  0.392\n",
      "Min Ratio:  0.5\n",
      "Min Ratio:  0.386\n",
      "Min Ratio:  0.5\n"
     ]
    },
    {
     "data": {
      "application/vnd.jupyter.widget-view+json": {
       "model_id": "7e07b3ae7acc45a09d3327ad8615c31e",
       "version_major": 2,
       "version_minor": 0
      },
      "text/plain": [
       "restarts:   0%|          | 0/1 [00:00<?, ?it/s]"
      ]
     },
     "metadata": {},
     "output_type": "display_data"
    },
    {
     "data": {
      "application/vnd.jupyter.widget-view+json": {
       "model_id": "2a2464b5ec9e421f9356cfa1088e4b92",
       "version_major": 2,
       "version_minor": 0
      },
      "text/plain": [
       "epochs:   0%|          | 0/1 [00:00<?, ?it/s]"
      ]
     },
     "metadata": {},
     "output_type": "display_data"
    },
    {
     "name": "stdout",
     "output_type": "stream",
     "text": [
      "<tf.Variable 'Adam_2/learning_rate:0' shape=() dtype=float32>\n",
      "<tf.Variable 'Adam_2/learning_rate:0' shape=() dtype=float32>\n",
      "Original Data Shape (selected):  (2500, 36)\n",
      "Original Data Shape (encoded):  (2500, 36)\n",
      "Original Data Class Distribution:  1506  (true) / 994  (false)\n",
      "(1500, 36) (1500,)\n",
      "(500, 36) (500,)\n",
      "(500, 36) (500,)\n",
      "Min Ratio:  0.3873333333333333\n",
      "Min Ratio:  0.5\n",
      "Min Ratio:  0.3945\n",
      "Min Ratio:  0.5\n"
     ]
    },
    {
     "data": {
      "application/vnd.jupyter.widget-view+json": {
       "model_id": "d009833ad73b402fb26e3ff7635cc59e",
       "version_major": 2,
       "version_minor": 0
      },
      "text/plain": [
       "restarts:   0%|          | 0/1 [00:00<?, ?it/s]"
      ]
     },
     "metadata": {},
     "output_type": "display_data"
    },
    {
     "data": {
      "application/vnd.jupyter.widget-view+json": {
       "model_id": "9df242ee38654f8a8e71f1d968a2801e",
       "version_major": 2,
       "version_minor": 0
      },
      "text/plain": [
       "epochs:   0%|          | 0/1 [00:00<?, ?it/s]"
      ]
     },
     "metadata": {},
     "output_type": "display_data"
    },
    {
     "name": "stdout",
     "output_type": "stream",
     "text": [
      "<tf.Variable 'Adam_2/learning_rate:0' shape=() dtype=float32>\n",
      "<tf.Variable 'Adam_2/learning_rate:0' shape=() dtype=float32>\n",
      "Original Data Shape (selected):  (2500, 36)\n",
      "Original Data Shape (encoded):  (2500, 36)\n",
      "Original Data Class Distribution:  1540  (true) / 960  (false)\n",
      "(1500, 36) (1500,)\n",
      "(500, 36) (500,)\n",
      "(500, 36) (500,)\n",
      "Min Ratio:  0.38333333333333336\n",
      "Min Ratio:  0.5\n",
      "Min Ratio:  0.3795\n",
      "Min Ratio:  0.5\n"
     ]
    },
    {
     "data": {
      "application/vnd.jupyter.widget-view+json": {
       "model_id": "f4b705d082f84c3595f8cb9f30b7fe2b",
       "version_major": 2,
       "version_minor": 0
      },
      "text/plain": [
       "restarts:   0%|          | 0/1 [00:00<?, ?it/s]"
      ]
     },
     "metadata": {},
     "output_type": "display_data"
    },
    {
     "data": {
      "application/vnd.jupyter.widget-view+json": {
       "model_id": "d466a9d7beb74e6581eaf8f0bdf41b7e",
       "version_major": 2,
       "version_minor": 0
      },
      "text/plain": [
       "epochs:   0%|          | 0/1 [00:00<?, ?it/s]"
      ]
     },
     "metadata": {},
     "output_type": "display_data"
    },
    {
     "name": "stdout",
     "output_type": "stream",
     "text": [
      "<tf.Variable 'Adam_2/learning_rate:0' shape=() dtype=float32>\n",
      "<tf.Variable 'Adam_2/learning_rate:0' shape=() dtype=float32>\n",
      "Original Data Shape (selected):  (2500, 36)\n",
      "Original Data Shape (encoded):  (2500, 36)\n",
      "Original Data Class Distribution:  1587  (true) / 913  (false)\n",
      "(1500, 36) (1500,)\n",
      "(500, 36) (500,)\n",
      "(500, 36) (500,)\n",
      "Min Ratio:  0.388\n",
      "Min Ratio:  0.5\n",
      "Min Ratio:  0.371\n",
      "Min Ratio:  0.5\n"
     ]
    },
    {
     "data": {
      "application/vnd.jupyter.widget-view+json": {
       "model_id": "d0f4c63a53824f99b04520f0df3e06a6",
       "version_major": 2,
       "version_minor": 0
      },
      "text/plain": [
       "restarts:   0%|          | 0/1 [00:00<?, ?it/s]"
      ]
     },
     "metadata": {},
     "output_type": "display_data"
    },
    {
     "data": {
      "application/vnd.jupyter.widget-view+json": {
       "model_id": "7fc3416c0eba40dbad96bd218d95ef43",
       "version_major": 2,
       "version_minor": 0
      },
      "text/plain": [
       "epochs:   0%|          | 0/1 [00:00<?, ?it/s]"
      ]
     },
     "metadata": {},
     "output_type": "display_data"
    },
    {
     "name": "stdout",
     "output_type": "stream",
     "text": [
      "<tf.Variable 'Adam_2/learning_rate:0' shape=() dtype=float32>\n",
      "<tf.Variable 'Adam_2/learning_rate:0' shape=() dtype=float32>\n",
      "Original Data Shape (selected):  (2500, 36)\n",
      "Original Data Shape (encoded):  (2500, 36)\n",
      "Original Data Class Distribution:  1561  (true) / 939  (false)\n",
      "(1500, 36) (1500,)\n",
      "(500, 36) (500,)\n",
      "(500, 36) (500,)\n",
      "Min Ratio:  0.386\n",
      "Min Ratio:  0.5\n",
      "Min Ratio:  0.3755\n",
      "Min Ratio:  0.5\n"
     ]
    },
    {
     "data": {
      "application/vnd.jupyter.widget-view+json": {
       "model_id": "1324c6346257494181eb1c247900d633",
       "version_major": 2,
       "version_minor": 0
      },
      "text/plain": [
       "restarts:   0%|          | 0/1 [00:00<?, ?it/s]"
      ]
     },
     "metadata": {},
     "output_type": "display_data"
    },
    {
     "data": {
      "application/vnd.jupyter.widget-view+json": {
       "model_id": "1d7b75ab0728450bb3c5409c67dcca90",
       "version_major": 2,
       "version_minor": 0
      },
      "text/plain": [
       "epochs:   0%|          | 0/1 [00:00<?, ?it/s]"
      ]
     },
     "metadata": {},
     "output_type": "display_data"
    },
    {
     "name": "stdout",
     "output_type": "stream",
     "text": [
      "<tf.Variable 'Adam_2/learning_rate:0' shape=() dtype=float32>\n",
      "<tf.Variable 'Adam_2/learning_rate:0' shape=() dtype=float32>\n",
      "Original Data Shape (selected):  (2500, 36)\n",
      "Original Data Shape (encoded):  (2500, 36)\n",
      "Original Data Class Distribution:  1528  (true) / 972  (false)\n",
      "(1500, 36) (1500,)\n",
      "(500, 36) (500,)\n",
      "(500, 36) (500,)\n",
      "Min Ratio:  0.38866666666666666\n",
      "Min Ratio:  0.5\n",
      "Min Ratio:  0.3815\n",
      "Min Ratio:  0.5\n"
     ]
    },
    {
     "data": {
      "application/vnd.jupyter.widget-view+json": {
       "model_id": "784ec80b39bb4bcfa3b897e5c58d37d3",
       "version_major": 2,
       "version_minor": 0
      },
      "text/plain": [
       "restarts:   0%|          | 0/1 [00:00<?, ?it/s]"
      ]
     },
     "metadata": {},
     "output_type": "display_data"
    },
    {
     "data": {
      "application/vnd.jupyter.widget-view+json": {
       "model_id": "ac39d42676374c50ae86be88fffd7676",
       "version_major": 2,
       "version_minor": 0
      },
      "text/plain": [
       "epochs:   0%|          | 0/1 [00:00<?, ?it/s]"
      ]
     },
     "metadata": {},
     "output_type": "display_data"
    },
    {
     "name": "stdout",
     "output_type": "stream",
     "text": [
      "<tf.Variable 'Adam_2/learning_rate:0' shape=() dtype=float32>\n",
      "<tf.Variable 'Adam_2/learning_rate:0' shape=() dtype=float32>\n",
      "Original Data Shape (selected):  (2500, 36)\n",
      "Original Data Shape (encoded):  (2500, 36)\n",
      "Original Data Class Distribution:  1570  (true) / 930  (false)\n",
      "(1500, 36) (1500,)\n",
      "(500, 36) (500,)\n",
      "(500, 36) (500,)\n",
      "Min Ratio:  0.368\n",
      "Min Ratio:  0.5\n",
      "Min Ratio:  0.3725\n",
      "Min Ratio:  0.5\n"
     ]
    },
    {
     "data": {
      "application/vnd.jupyter.widget-view+json": {
       "model_id": "1c6b8a8fa99643798bc3e2c4c1490d45",
       "version_major": 2,
       "version_minor": 0
      },
      "text/plain": [
       "restarts:   0%|          | 0/1 [00:00<?, ?it/s]"
      ]
     },
     "metadata": {},
     "output_type": "display_data"
    },
    {
     "data": {
      "application/vnd.jupyter.widget-view+json": {
       "model_id": "59e46c6b810c4d8c9c2514d93eb77552",
       "version_major": 2,
       "version_minor": 0
      },
      "text/plain": [
       "epochs:   0%|          | 0/1 [00:00<?, ?it/s]"
      ]
     },
     "metadata": {},
     "output_type": "display_data"
    },
    {
     "name": "stdout",
     "output_type": "stream",
     "text": [
      "<tf.Variable 'Adam_2/learning_rate:0' shape=() dtype=float32>\n",
      "<tf.Variable 'Adam_2/learning_rate:0' shape=() dtype=float32>\n",
      "Original Data Shape (selected):  (2500, 36)\n",
      "Original Data Shape (encoded):  (2500, 36)\n",
      "Original Data Class Distribution:  1491  (true) / 1009  (false)\n",
      "(1500, 36) (1500,)\n",
      "(500, 36) (500,)\n",
      "(500, 36) (500,)\n",
      "Min Ratio:  0.4073333333333333\n",
      "Min Ratio:  0.5\n",
      "Min Ratio:  0.403\n",
      "Min Ratio:  0.5\n"
     ]
    },
    {
     "data": {
      "application/vnd.jupyter.widget-view+json": {
       "model_id": "d9f554774b0447ec9a7b198959556b19",
       "version_major": 2,
       "version_minor": 0
      },
      "text/plain": [
       "restarts:   0%|          | 0/1 [00:00<?, ?it/s]"
      ]
     },
     "metadata": {},
     "output_type": "display_data"
    },
    {
     "data": {
      "application/vnd.jupyter.widget-view+json": {
       "model_id": "500cc8f7beb74da0ae57ef6439d071e3",
       "version_major": 2,
       "version_minor": 0
      },
      "text/plain": [
       "epochs:   0%|          | 0/1 [00:00<?, ?it/s]"
      ]
     },
     "metadata": {},
     "output_type": "display_data"
    },
    {
     "name": "stdout",
     "output_type": "stream",
     "text": [
      "<tf.Variable 'Adam_2/learning_rate:0' shape=() dtype=float32>\n",
      "<tf.Variable 'Adam_2/learning_rate:0' shape=() dtype=float32>\n",
      "Original Data Shape (selected):  (2500, 36)\n",
      "Original Data Shape (encoded):  (2500, 36)\n",
      "Original Data Class Distribution:  1540  (true) / 960  (false)\n",
      "(1500, 36) (1500,)\n",
      "(500, 36) (500,)\n",
      "(500, 36) (500,)\n",
      "Min Ratio:  0.38533333333333336\n",
      "Min Ratio:  0.5\n",
      "Min Ratio:  0.381\n",
      "Min Ratio:  0.5\n"
     ]
    },
    {
     "data": {
      "application/vnd.jupyter.widget-view+json": {
       "model_id": "705390afaaf249a58cb4d8f43e4e5d56",
       "version_major": 2,
       "version_minor": 0
      },
      "text/plain": [
       "restarts:   0%|          | 0/1 [00:00<?, ?it/s]"
      ]
     },
     "metadata": {},
     "output_type": "display_data"
    },
    {
     "data": {
      "application/vnd.jupyter.widget-view+json": {
       "model_id": "223c924b3f7743cfa29730b45d7ae9ff",
       "version_major": 2,
       "version_minor": 0
      },
      "text/plain": [
       "epochs:   0%|          | 0/1 [00:00<?, ?it/s]"
      ]
     },
     "metadata": {},
     "output_type": "display_data"
    },
    {
     "name": "stdout",
     "output_type": "stream",
     "text": [
      "<tf.Variable 'Adam_2/learning_rate:0' shape=() dtype=float32>\n",
      "<tf.Variable 'Adam_2/learning_rate:0' shape=() dtype=float32>\n",
      "Original Data Shape (selected):  (2500, 36)\n",
      "Original Data Shape (encoded):  (2500, 36)\n",
      "Original Data Class Distribution:  1546  (true) / 954  (false)\n",
      "(1500, 36) (1500,)\n",
      "(500, 36) (500,)\n",
      "(500, 36) (500,)\n",
      "Min Ratio:  0.364\n",
      "Min Ratio:  0.5\n",
      "Min Ratio:  0.372\n",
      "Min Ratio:  0.5\n"
     ]
    },
    {
     "data": {
      "application/vnd.jupyter.widget-view+json": {
       "model_id": "9b95bc7bd4624e55be1aee4574a2c199",
       "version_major": 2,
       "version_minor": 0
      },
      "text/plain": [
       "restarts:   0%|          | 0/1 [00:00<?, ?it/s]"
      ]
     },
     "metadata": {},
     "output_type": "display_data"
    },
    {
     "data": {
      "application/vnd.jupyter.widget-view+json": {
       "model_id": "aceb1188b4404b2e9a81031e52b4dbca",
       "version_major": 2,
       "version_minor": 0
      },
      "text/plain": [
       "epochs:   0%|          | 0/1 [00:00<?, ?it/s]"
      ]
     },
     "metadata": {},
     "output_type": "display_data"
    },
    {
     "name": "stdout",
     "output_type": "stream",
     "text": [
      "<tf.Variable 'Adam_2/learning_rate:0' shape=() dtype=float32>\n",
      "<tf.Variable 'Adam_2/learning_rate:0' shape=() dtype=float32>\n",
      "Original Data Shape (selected):  (2500, 36)\n",
      "Original Data Shape (encoded):  (2500, 36)\n",
      "Original Data Class Distribution:  1561  (true) / 939  (false)\n",
      "(1500, 36) (1500,)\n",
      "(500, 36) (500,)\n",
      "(500, 36) (500,)\n",
      "Min Ratio:  0.37333333333333335\n",
      "Min Ratio:  0.5\n",
      "Min Ratio:  0.376\n",
      "Min Ratio:  0.5\n"
     ]
    },
    {
     "data": {
      "application/vnd.jupyter.widget-view+json": {
       "model_id": "617109a9c7fe42dc937c01d40eaa08e0",
       "version_major": 2,
       "version_minor": 0
      },
      "text/plain": [
       "restarts:   0%|          | 0/1 [00:00<?, ?it/s]"
      ]
     },
     "metadata": {},
     "output_type": "display_data"
    },
    {
     "data": {
      "application/vnd.jupyter.widget-view+json": {
       "model_id": "c58109bcd4464604afecd3fd9f635a7f",
       "version_major": 2,
       "version_minor": 0
      },
      "text/plain": [
       "epochs:   0%|          | 0/1 [00:00<?, ?it/s]"
      ]
     },
     "metadata": {},
     "output_type": "display_data"
    },
    {
     "name": "stdout",
     "output_type": "stream",
     "text": [
      "<tf.Variable 'Adam_2/learning_rate:0' shape=() dtype=float32>\n",
      "<tf.Variable 'Adam_2/learning_rate:0' shape=() dtype=float32>\n",
      "Original Data Shape (selected):  (2500, 36)\n",
      "Original Data Shape (encoded):  (2500, 36)\n",
      "Original Data Class Distribution:  1551  (true) / 949  (false)\n",
      "(1500, 36) (1500,)\n",
      "(500, 36) (500,)\n",
      "(500, 36) (500,)\n",
      "Min Ratio:  0.376\n",
      "Min Ratio:  0.5\n",
      "Min Ratio:  0.38\n",
      "Min Ratio:  0.5\n"
     ]
    },
    {
     "data": {
      "application/vnd.jupyter.widget-view+json": {
       "model_id": "ebc13d535e924c0e9436e19ff009d000",
       "version_major": 2,
       "version_minor": 0
      },
      "text/plain": [
       "restarts:   0%|          | 0/1 [00:00<?, ?it/s]"
      ]
     },
     "metadata": {},
     "output_type": "display_data"
    },
    {
     "data": {
      "application/vnd.jupyter.widget-view+json": {
       "model_id": "ddf19dc0fb1444b89273b44288d58f2d",
       "version_major": 2,
       "version_minor": 0
      },
      "text/plain": [
       "epochs:   0%|          | 0/1 [00:00<?, ?it/s]"
      ]
     },
     "metadata": {},
     "output_type": "display_data"
    },
    {
     "name": "stdout",
     "output_type": "stream",
     "text": [
      "<tf.Variable 'Adam_2/learning_rate:0' shape=() dtype=float32>\n",
      "<tf.Variable 'Adam_2/learning_rate:0' shape=() dtype=float32>\n",
      "Original Data Shape (selected):  (2500, 36)\n",
      "Original Data Shape (encoded):  (2500, 36)\n",
      "Original Data Class Distribution:  1557  (true) / 943  (false)\n",
      "(1500, 36) (1500,)\n",
      "(500, 36) (500,)\n",
      "(500, 36) (500,)\n",
      "Min Ratio:  0.36933333333333335\n",
      "Min Ratio:  0.5\n",
      "Min Ratio:  0.3725\n",
      "Min Ratio:  0.5\n"
     ]
    },
    {
     "data": {
      "application/vnd.jupyter.widget-view+json": {
       "model_id": "9ff65e5969234c56834b0beba354685e",
       "version_major": 2,
       "version_minor": 0
      },
      "text/plain": [
       "restarts:   0%|          | 0/1 [00:00<?, ?it/s]"
      ]
     },
     "metadata": {},
     "output_type": "display_data"
    },
    {
     "data": {
      "application/vnd.jupyter.widget-view+json": {
       "model_id": "922166f736e946089b5c8967263f6269",
       "version_major": 2,
       "version_minor": 0
      },
      "text/plain": [
       "epochs:   0%|          | 0/1 [00:00<?, ?it/s]"
      ]
     },
     "metadata": {},
     "output_type": "display_data"
    },
    {
     "name": "stdout",
     "output_type": "stream",
     "text": [
      "<tf.Variable 'Adam_2/learning_rate:0' shape=() dtype=float32>\n",
      "<tf.Variable 'Adam_2/learning_rate:0' shape=() dtype=float32>\n",
      "Original Data Shape (selected):  (2500, 36)\n",
      "Original Data Shape (encoded):  (2500, 36)\n",
      "Original Data Class Distribution:  1564  (true) / 936  (false)\n",
      "(1500, 36) (1500,)\n",
      "(500, 36) (500,)\n",
      "(500, 36) (500,)\n",
      "Min Ratio:  0.38533333333333336\n",
      "Min Ratio:  0.5\n",
      "Min Ratio:  0.376\n",
      "Min Ratio:  0.5\n"
     ]
    },
    {
     "data": {
      "application/vnd.jupyter.widget-view+json": {
       "model_id": "6903a20b40204313a1b6df757d1de969",
       "version_major": 2,
       "version_minor": 0
      },
      "text/plain": [
       "restarts:   0%|          | 0/1 [00:00<?, ?it/s]"
      ]
     },
     "metadata": {},
     "output_type": "display_data"
    },
    {
     "data": {
      "application/vnd.jupyter.widget-view+json": {
       "model_id": "ff0990a5e09147fb9eacfee6f3eaacd2",
       "version_major": 2,
       "version_minor": 0
      },
      "text/plain": [
       "epochs:   0%|          | 0/1 [00:00<?, ?it/s]"
      ]
     },
     "metadata": {},
     "output_type": "display_data"
    },
    {
     "name": "stdout",
     "output_type": "stream",
     "text": [
      "<tf.Variable 'Adam_2/learning_rate:0' shape=() dtype=float32>\n",
      "<tf.Variable 'Adam_2/learning_rate:0' shape=() dtype=float32>\n",
      "Original Data Shape (selected):  (2500, 36)\n",
      "Original Data Shape (encoded):  (2500, 36)\n",
      "Original Data Class Distribution:  1489  (true) / 1011  (false)\n",
      "(1500, 36) (1500,)\n",
      "(500, 36) (500,)\n",
      "(500, 36) (500,)\n",
      "Min Ratio:  0.4066666666666667\n",
      "Min Ratio:  0.5\n",
      "Min Ratio:  0.3985\n",
      "Min Ratio:  0.5\n"
     ]
    },
    {
     "data": {
      "application/vnd.jupyter.widget-view+json": {
       "model_id": "4e34d266a33842699fad96141efea237",
       "version_major": 2,
       "version_minor": 0
      },
      "text/plain": [
       "restarts:   0%|          | 0/1 [00:00<?, ?it/s]"
      ]
     },
     "metadata": {},
     "output_type": "display_data"
    },
    {
     "data": {
      "application/vnd.jupyter.widget-view+json": {
       "model_id": "9608b17b3042405b907b0aa41c02d2a1",
       "version_major": 2,
       "version_minor": 0
      },
      "text/plain": [
       "epochs:   0%|          | 0/1 [00:00<?, ?it/s]"
      ]
     },
     "metadata": {},
     "output_type": "display_data"
    },
    {
     "name": "stdout",
     "output_type": "stream",
     "text": [
      "<tf.Variable 'Adam_2/learning_rate:0' shape=() dtype=float32>\n",
      "<tf.Variable 'Adam_2/learning_rate:0' shape=() dtype=float32>\n",
      "Original Data Shape (selected):  (2500, 36)\n",
      "Original Data Shape (encoded):  (2500, 36)\n",
      "Original Data Class Distribution:  1561  (true) / 939  (false)\n",
      "(1500, 36) (1500,)\n",
      "(500, 36) (500,)\n",
      "(500, 36) (500,)\n",
      "Min Ratio:  0.38333333333333336\n",
      "Min Ratio:  0.5\n",
      "Min Ratio:  0.3825\n",
      "Min Ratio:  0.5\n"
     ]
    },
    {
     "data": {
      "application/vnd.jupyter.widget-view+json": {
       "model_id": "2e080e0b48fa45338e96b66594215524",
       "version_major": 2,
       "version_minor": 0
      },
      "text/plain": [
       "restarts:   0%|          | 0/1 [00:00<?, ?it/s]"
      ]
     },
     "metadata": {},
     "output_type": "display_data"
    },
    {
     "data": {
      "application/vnd.jupyter.widget-view+json": {
       "model_id": "7eae74fc3fcb4987b202e6f09faa8df7",
       "version_major": 2,
       "version_minor": 0
      },
      "text/plain": [
       "epochs:   0%|          | 0/1 [00:00<?, ?it/s]"
      ]
     },
     "metadata": {},
     "output_type": "display_data"
    },
    {
     "name": "stdout",
     "output_type": "stream",
     "text": [
      "<tf.Variable 'Adam_2/learning_rate:0' shape=() dtype=float32>\n",
      "<tf.Variable 'Adam_2/learning_rate:0' shape=() dtype=float32>\n",
      "Original Data Shape (selected):  (2500, 36)\n",
      "Original Data Shape (encoded):  (2500, 36)\n",
      "Original Data Class Distribution:  1509  (true) / 991  (false)\n",
      "(1500, 36) (1500,)\n",
      "(500, 36) (500,)\n",
      "(500, 36) (500,)\n",
      "Min Ratio:  0.39866666666666667\n",
      "Min Ratio:  0.5\n",
      "Min Ratio:  0.4\n",
      "Min Ratio:  0.5\n"
     ]
    },
    {
     "data": {
      "application/vnd.jupyter.widget-view+json": {
       "model_id": "74589269d7b742fb90878d2c5e3211d6",
       "version_major": 2,
       "version_minor": 0
      },
      "text/plain": [
       "restarts:   0%|          | 0/1 [00:00<?, ?it/s]"
      ]
     },
     "metadata": {},
     "output_type": "display_data"
    },
    {
     "data": {
      "application/vnd.jupyter.widget-view+json": {
       "model_id": "b6dbd0f01d1f473383c12a94de3c9982",
       "version_major": 2,
       "version_minor": 0
      },
      "text/plain": [
       "epochs:   0%|          | 0/1 [00:00<?, ?it/s]"
      ]
     },
     "metadata": {},
     "output_type": "display_data"
    },
    {
     "name": "stdout",
     "output_type": "stream",
     "text": [
      "<tf.Variable 'Adam_2/learning_rate:0' shape=() dtype=float32>\n",
      "<tf.Variable 'Adam_2/learning_rate:0' shape=() dtype=float32>\n",
      "Original Data Shape (selected):  (2500, 36)\n",
      "Original Data Shape (encoded):  (2500, 36)\n",
      "Original Data Class Distribution:  1497  (true) / 1003  (false)\n",
      "(1500, 36) (1500,)\n",
      "(500, 36) (500,)\n",
      "(500, 36) (500,)\n",
      "Min Ratio:  0.394\n",
      "Min Ratio:  0.5\n",
      "Min Ratio:  0.395\n",
      "Min Ratio:  0.5\n"
     ]
    },
    {
     "data": {
      "application/vnd.jupyter.widget-view+json": {
       "model_id": "c22fb236f6644844a90641c85d2f174b",
       "version_major": 2,
       "version_minor": 0
      },
      "text/plain": [
       "restarts:   0%|          | 0/1 [00:00<?, ?it/s]"
      ]
     },
     "metadata": {},
     "output_type": "display_data"
    },
    {
     "data": {
      "application/vnd.jupyter.widget-view+json": {
       "model_id": "9ff52979668c4d2cb29155fbba3066c7",
       "version_major": 2,
       "version_minor": 0
      },
      "text/plain": [
       "epochs:   0%|          | 0/1 [00:00<?, ?it/s]"
      ]
     },
     "metadata": {},
     "output_type": "display_data"
    },
    {
     "name": "stdout",
     "output_type": "stream",
     "text": [
      "<tf.Variable 'Adam_2/learning_rate:0' shape=() dtype=float32>\n",
      "<tf.Variable 'Adam_2/learning_rate:0' shape=() dtype=float32>\n",
      "Original Data Shape (selected):  (2500, 36)\n",
      "Original Data Shape (encoded):  (2500, 36)\n",
      "Original Data Class Distribution:  1561  (true) / 939  (false)\n",
      "(1500, 36) (1500,)\n",
      "(500, 36) (500,)\n",
      "(500, 36) (500,)\n",
      "Min Ratio:  0.36533333333333334\n",
      "Min Ratio:  0.5\n",
      "Min Ratio:  0.376\n",
      "Min Ratio:  0.5\n"
     ]
    },
    {
     "data": {
      "application/vnd.jupyter.widget-view+json": {
       "model_id": "a798285861fd471584b715efd9430f53",
       "version_major": 2,
       "version_minor": 0
      },
      "text/plain": [
       "restarts:   0%|          | 0/1 [00:00<?, ?it/s]"
      ]
     },
     "metadata": {},
     "output_type": "display_data"
    },
    {
     "data": {
      "application/vnd.jupyter.widget-view+json": {
       "model_id": "db48cdb8bcc144b7939895be34edf884",
       "version_major": 2,
       "version_minor": 0
      },
      "text/plain": [
       "epochs:   0%|          | 0/1 [00:00<?, ?it/s]"
      ]
     },
     "metadata": {},
     "output_type": "display_data"
    },
    {
     "name": "stdout",
     "output_type": "stream",
     "text": [
      "<tf.Variable 'Adam_2/learning_rate:0' shape=() dtype=float32>\n",
      "<tf.Variable 'Adam_2/learning_rate:0' shape=() dtype=float32>\n",
      "Original Data Shape (selected):  (2500, 36)\n",
      "Original Data Shape (encoded):  (2500, 36)\n",
      "Original Data Class Distribution:  1539  (true) / 961  (false)\n",
      "(1500, 36) (1500,)\n",
      "(500, 36) (500,)\n",
      "(500, 36) (500,)\n",
      "Min Ratio:  0.39466666666666667\n",
      "Min Ratio:  0.5\n",
      "Min Ratio:  0.3885\n",
      "Min Ratio:  0.5\n"
     ]
    },
    {
     "data": {
      "application/vnd.jupyter.widget-view+json": {
       "model_id": "a74d81da30a0408f91f4d087cba62d70",
       "version_major": 2,
       "version_minor": 0
      },
      "text/plain": [
       "restarts:   0%|          | 0/1 [00:00<?, ?it/s]"
      ]
     },
     "metadata": {},
     "output_type": "display_data"
    },
    {
     "data": {
      "application/vnd.jupyter.widget-view+json": {
       "model_id": "8cee5675535e4fc383546f8a303d45b1",
       "version_major": 2,
       "version_minor": 0
      },
      "text/plain": [
       "epochs:   0%|          | 0/1 [00:00<?, ?it/s]"
      ]
     },
     "metadata": {},
     "output_type": "display_data"
    },
    {
     "name": "stdout",
     "output_type": "stream",
     "text": [
      "<tf.Variable 'Adam_2/learning_rate:0' shape=() dtype=float32>\n",
      "<tf.Variable 'Adam_2/learning_rate:0' shape=() dtype=float32>\n",
      "Original Data Shape (selected):  (2500, 36)\n",
      "Original Data Shape (encoded):  (2500, 36)\n",
      "Original Data Class Distribution:  1600  (true) / 900  (false)\n",
      "(1500, 36) (1500,)\n",
      "(500, 36) (500,)\n",
      "(500, 36) (500,)\n",
      "Min Ratio:  0.36866666666666664\n",
      "Min Ratio:  0.5\n",
      "Min Ratio:  0.3665\n",
      "Min Ratio:  0.5\n"
     ]
    },
    {
     "data": {
      "application/vnd.jupyter.widget-view+json": {
       "model_id": "dd9c32a7e04142349d03518f4c175e43",
       "version_major": 2,
       "version_minor": 0
      },
      "text/plain": [
       "restarts:   0%|          | 0/1 [00:00<?, ?it/s]"
      ]
     },
     "metadata": {},
     "output_type": "display_data"
    },
    {
     "data": {
      "application/vnd.jupyter.widget-view+json": {
       "model_id": "c81888ccfd87437dbb1bb36becf6a942",
       "version_major": 2,
       "version_minor": 0
      },
      "text/plain": [
       "epochs:   0%|          | 0/1 [00:00<?, ?it/s]"
      ]
     },
     "metadata": {},
     "output_type": "display_data"
    },
    {
     "name": "stdout",
     "output_type": "stream",
     "text": [
      "<tf.Variable 'Adam_2/learning_rate:0' shape=() dtype=float32>\n",
      "<tf.Variable 'Adam_2/learning_rate:0' shape=() dtype=float32>\n",
      "Original Data Shape (selected):  (2500, 36)\n",
      "Original Data Shape (encoded):  (2500, 36)\n",
      "Original Data Class Distribution:  1557  (true) / 943  (false)\n",
      "(1500, 36) (1500,)\n",
      "(500, 36) (500,)\n",
      "(500, 36) (500,)\n",
      "Min Ratio:  0.384\n",
      "Min Ratio:  0.5\n",
      "Min Ratio:  0.3815\n",
      "Min Ratio:  0.5\n"
     ]
    },
    {
     "data": {
      "application/vnd.jupyter.widget-view+json": {
       "model_id": "fb506becc527443ea6bc8af0f2760d7e",
       "version_major": 2,
       "version_minor": 0
      },
      "text/plain": [
       "restarts:   0%|          | 0/1 [00:00<?, ?it/s]"
      ]
     },
     "metadata": {},
     "output_type": "display_data"
    },
    {
     "data": {
      "application/vnd.jupyter.widget-view+json": {
       "model_id": "b7cce4c0b1cd4cfba1bf0ee1d6bd1dac",
       "version_major": 2,
       "version_minor": 0
      },
      "text/plain": [
       "epochs:   0%|          | 0/1 [00:00<?, ?it/s]"
      ]
     },
     "metadata": {},
     "output_type": "display_data"
    },
    {
     "name": "stdout",
     "output_type": "stream",
     "text": [
      "<tf.Variable 'Adam_2/learning_rate:0' shape=() dtype=float32>\n",
      "<tf.Variable 'Adam_2/learning_rate:0' shape=() dtype=float32>\n",
      "Original Data Shape (selected):  (2500, 36)\n",
      "Original Data Shape (encoded):  (2500, 36)\n",
      "Original Data Class Distribution:  1522  (true) / 978  (false)\n",
      "(1500, 36) (1500,)\n",
      "(500, 36) (500,)\n",
      "(500, 36) (500,)\n",
      "Min Ratio:  0.404\n",
      "Min Ratio:  0.5\n",
      "Min Ratio:  0.3895\n",
      "Min Ratio:  0.5\n"
     ]
    },
    {
     "data": {
      "application/vnd.jupyter.widget-view+json": {
       "model_id": "3ec3e7d7afd54960803b55911015a207",
       "version_major": 2,
       "version_minor": 0
      },
      "text/plain": [
       "restarts:   0%|          | 0/1 [00:00<?, ?it/s]"
      ]
     },
     "metadata": {},
     "output_type": "display_data"
    },
    {
     "data": {
      "application/vnd.jupyter.widget-view+json": {
       "model_id": "b8f61285ce894d5db37bb71eba7f6257",
       "version_major": 2,
       "version_minor": 0
      },
      "text/plain": [
       "epochs:   0%|          | 0/1 [00:00<?, ?it/s]"
      ]
     },
     "metadata": {},
     "output_type": "display_data"
    },
    {
     "name": "stdout",
     "output_type": "stream",
     "text": [
      "<tf.Variable 'Adam_2/learning_rate:0' shape=() dtype=float32>\n",
      "<tf.Variable 'Adam_2/learning_rate:0' shape=() dtype=float32>\n",
      "Original Data Shape (selected):  (2500, 36)\n",
      "Original Data Shape (encoded):  (2500, 36)\n",
      "Original Data Class Distribution:  1563  (true) / 937  (false)\n",
      "(1500, 36) (1500,)\n",
      "(500, 36) (500,)\n",
      "(500, 36) (500,)\n",
      "Min Ratio:  0.39\n",
      "Min Ratio:  0.5\n",
      "Min Ratio:  0.379\n",
      "Min Ratio:  0.5\n"
     ]
    },
    {
     "data": {
      "application/vnd.jupyter.widget-view+json": {
       "model_id": "c55c83667b614ec79f2d10651dd0c2e5",
       "version_major": 2,
       "version_minor": 0
      },
      "text/plain": [
       "restarts:   0%|          | 0/1 [00:00<?, ?it/s]"
      ]
     },
     "metadata": {},
     "output_type": "display_data"
    },
    {
     "data": {
      "application/vnd.jupyter.widget-view+json": {
       "model_id": "a2028f04a1e144b89b0c24ba411f605e",
       "version_major": 2,
       "version_minor": 0
      },
      "text/plain": [
       "epochs:   0%|          | 0/1 [00:00<?, ?it/s]"
      ]
     },
     "metadata": {},
     "output_type": "display_data"
    },
    {
     "name": "stdout",
     "output_type": "stream",
     "text": [
      "<tf.Variable 'Adam_2/learning_rate:0' shape=() dtype=float32>\n",
      "<tf.Variable 'Adam_2/learning_rate:0' shape=() dtype=float32>\n",
      "Original Data Shape (selected):  (2500, 36)\n",
      "Original Data Shape (encoded):  (2500, 36)\n",
      "Original Data Class Distribution:  1546  (true) / 954  (false)\n",
      "(1500, 36) (1500,)\n",
      "(500, 36) (500,)\n",
      "(500, 36) (500,)\n",
      "Min Ratio:  0.39266666666666666\n",
      "Min Ratio:  0.5\n",
      "Min Ratio:  0.3805\n",
      "Min Ratio:  0.5\n"
     ]
    },
    {
     "data": {
      "application/vnd.jupyter.widget-view+json": {
       "model_id": "877ada9263dd47f583f4777b77b7e61c",
       "version_major": 2,
       "version_minor": 0
      },
      "text/plain": [
       "restarts:   0%|          | 0/1 [00:00<?, ?it/s]"
      ]
     },
     "metadata": {},
     "output_type": "display_data"
    },
    {
     "data": {
      "application/vnd.jupyter.widget-view+json": {
       "model_id": "f4cc8efd114741d7bcf4be231e5e538c",
       "version_major": 2,
       "version_minor": 0
      },
      "text/plain": [
       "epochs:   0%|          | 0/1 [00:00<?, ?it/s]"
      ]
     },
     "metadata": {},
     "output_type": "display_data"
    },
    {
     "name": "stdout",
     "output_type": "stream",
     "text": [
      "<tf.Variable 'Adam_2/learning_rate:0' shape=() dtype=float32>\n",
      "<tf.Variable 'Adam_2/learning_rate:0' shape=() dtype=float32>\n",
      "Original Data Shape (selected):  (2500, 36)\n",
      "Original Data Shape (encoded):  (2500, 36)\n",
      "Original Data Class Distribution:  1583  (true) / 917  (false)\n",
      "(1500, 36) (1500,)\n",
      "(500, 36) (500,)\n",
      "(500, 36) (500,)\n",
      "Min Ratio:  0.36866666666666664\n",
      "Min Ratio:  0.5\n",
      "Min Ratio:  0.369\n",
      "Min Ratio:  0.5\n"
     ]
    },
    {
     "data": {
      "application/vnd.jupyter.widget-view+json": {
       "model_id": "8961aca46f584184b998af83ec0a6844",
       "version_major": 2,
       "version_minor": 0
      },
      "text/plain": [
       "restarts:   0%|          | 0/1 [00:00<?, ?it/s]"
      ]
     },
     "metadata": {},
     "output_type": "display_data"
    },
    {
     "data": {
      "application/vnd.jupyter.widget-view+json": {
       "model_id": "9b12801a566e412f8267aef02c6e6e06",
       "version_major": 2,
       "version_minor": 0
      },
      "text/plain": [
       "epochs:   0%|          | 0/1 [00:00<?, ?it/s]"
      ]
     },
     "metadata": {},
     "output_type": "display_data"
    },
    {
     "name": "stdout",
     "output_type": "stream",
     "text": [
      "<tf.Variable 'Adam_2/learning_rate:0' shape=() dtype=float32>\n",
      "<tf.Variable 'Adam_2/learning_rate:0' shape=() dtype=float32>\n",
      "Original Data Shape (selected):  (2500, 36)\n",
      "Original Data Shape (encoded):  (2500, 36)\n",
      "Original Data Class Distribution:  1513  (true) / 987  (false)\n",
      "(1500, 36) (1500,)\n",
      "(500, 36) (500,)\n",
      "(500, 36) (500,)\n",
      "Min Ratio:  0.38533333333333336\n",
      "Min Ratio:  0.5\n",
      "Min Ratio:  0.399\n",
      "Min Ratio:  0.5\n"
     ]
    },
    {
     "data": {
      "application/vnd.jupyter.widget-view+json": {
       "model_id": "5da6ee5c9dba40b38c548f6f4548a0b5",
       "version_major": 2,
       "version_minor": 0
      },
      "text/plain": [
       "restarts:   0%|          | 0/1 [00:00<?, ?it/s]"
      ]
     },
     "metadata": {},
     "output_type": "display_data"
    },
    {
     "data": {
      "application/vnd.jupyter.widget-view+json": {
       "model_id": "461be268d8514072a440a0c9f2674326",
       "version_major": 2,
       "version_minor": 0
      },
      "text/plain": [
       "epochs:   0%|          | 0/1 [00:00<?, ?it/s]"
      ]
     },
     "metadata": {},
     "output_type": "display_data"
    },
    {
     "name": "stdout",
     "output_type": "stream",
     "text": [
      "<tf.Variable 'Adam_2/learning_rate:0' shape=() dtype=float32>\n",
      "<tf.Variable 'Adam_2/learning_rate:0' shape=() dtype=float32>\n",
      "Original Data Shape (selected):  (2500, 36)\n",
      "Original Data Shape (encoded):  (2500, 36)\n",
      "Original Data Class Distribution:  1607  (true) / 893  (false)\n",
      "(1500, 36) (1500,)\n",
      "(500, 36) (500,)\n",
      "(500, 36) (500,)\n",
      "Min Ratio:  0.36466666666666664\n",
      "Min Ratio:  0.5\n",
      "Min Ratio:  0.3605\n",
      "Min Ratio:  0.5\n"
     ]
    },
    {
     "data": {
      "application/vnd.jupyter.widget-view+json": {
       "model_id": "701c2b97e7b84ca3a7846c06f7cece12",
       "version_major": 2,
       "version_minor": 0
      },
      "text/plain": [
       "restarts:   0%|          | 0/1 [00:00<?, ?it/s]"
      ]
     },
     "metadata": {},
     "output_type": "display_data"
    },
    {
     "data": {
      "application/vnd.jupyter.widget-view+json": {
       "model_id": "20766b822f8f4210893ac9989d75cbd9",
       "version_major": 2,
       "version_minor": 0
      },
      "text/plain": [
       "epochs:   0%|          | 0/1 [00:00<?, ?it/s]"
      ]
     },
     "metadata": {},
     "output_type": "display_data"
    },
    {
     "name": "stdout",
     "output_type": "stream",
     "text": [
      "<tf.Variable 'Adam_2/learning_rate:0' shape=() dtype=float32>\n",
      "<tf.Variable 'Adam_2/learning_rate:0' shape=() dtype=float32>\n",
      "Original Data Shape (selected):  (2500, 36)\n",
      "Original Data Shape (encoded):  (2500, 36)\n",
      "Original Data Class Distribution:  1567  (true) / 933  (false)\n",
      "(1500, 36) (1500,)\n",
      "(500, 36) (500,)\n",
      "(500, 36) (500,)\n",
      "Min Ratio:  0.36733333333333335\n",
      "Min Ratio:  0.5\n",
      "Min Ratio:  0.372\n",
      "Min Ratio:  0.5\n"
     ]
    },
    {
     "data": {
      "application/vnd.jupyter.widget-view+json": {
       "model_id": "10db84614329427880d5d843248ada4d",
       "version_major": 2,
       "version_minor": 0
      },
      "text/plain": [
       "restarts:   0%|          | 0/1 [00:00<?, ?it/s]"
      ]
     },
     "metadata": {},
     "output_type": "display_data"
    },
    {
     "data": {
      "application/vnd.jupyter.widget-view+json": {
       "model_id": "e55557d6e7d5497a8ea01cb5a88b6417",
       "version_major": 2,
       "version_minor": 0
      },
      "text/plain": [
       "epochs:   0%|          | 0/1 [00:00<?, ?it/s]"
      ]
     },
     "metadata": {},
     "output_type": "display_data"
    },
    {
     "name": "stdout",
     "output_type": "stream",
     "text": [
      "<tf.Variable 'Adam_2/learning_rate:0' shape=() dtype=float32>\n",
      "<tf.Variable 'Adam_2/learning_rate:0' shape=() dtype=float32>\n",
      "Original Data Shape (selected):  (2500, 36)\n",
      "Original Data Shape (encoded):  (2500, 36)\n",
      "Original Data Class Distribution:  1589  (true) / 911  (false)\n",
      "(1500, 36) (1500,)\n",
      "(500, 36) (500,)\n",
      "(500, 36) (500,)\n",
      "Min Ratio:  0.35533333333333333\n",
      "Min Ratio:  0.5\n",
      "Min Ratio:  0.3605\n",
      "Min Ratio:  0.5\n"
     ]
    },
    {
     "data": {
      "application/vnd.jupyter.widget-view+json": {
       "model_id": "6ddfac09c57840018e19e8b24a5b9831",
       "version_major": 2,
       "version_minor": 0
      },
      "text/plain": [
       "restarts:   0%|          | 0/1 [00:00<?, ?it/s]"
      ]
     },
     "metadata": {},
     "output_type": "display_data"
    },
    {
     "data": {
      "application/vnd.jupyter.widget-view+json": {
       "model_id": "6cdb925cfa344372829a26fa370e070f",
       "version_major": 2,
       "version_minor": 0
      },
      "text/plain": [
       "epochs:   0%|          | 0/1 [00:00<?, ?it/s]"
      ]
     },
     "metadata": {},
     "output_type": "display_data"
    },
    {
     "name": "stdout",
     "output_type": "stream",
     "text": [
      "<tf.Variable 'Adam_2/learning_rate:0' shape=() dtype=float32>\n",
      "<tf.Variable 'Adam_2/learning_rate:0' shape=() dtype=float32>\n",
      "Original Data Shape (selected):  (2500, 36)\n",
      "Original Data Shape (encoded):  (2500, 36)\n",
      "Original Data Class Distribution:  1537  (true) / 963  (false)\n",
      "(1500, 36) (1500,)\n",
      "(500, 36) (500,)\n",
      "(500, 36) (500,)\n",
      "Min Ratio:  0.39066666666666666\n",
      "Min Ratio:  0.5\n",
      "Min Ratio:  0.38\n",
      "Min Ratio:  0.5\n"
     ]
    },
    {
     "data": {
      "application/vnd.jupyter.widget-view+json": {
       "model_id": "ff560a1a5bc34b57b71450ca1e6178c6",
       "version_major": 2,
       "version_minor": 0
      },
      "text/plain": [
       "restarts:   0%|          | 0/1 [00:00<?, ?it/s]"
      ]
     },
     "metadata": {},
     "output_type": "display_data"
    },
    {
     "data": {
      "application/vnd.jupyter.widget-view+json": {
       "model_id": "9df5755bead7421890f6e155b167e4a9",
       "version_major": 2,
       "version_minor": 0
      },
      "text/plain": [
       "epochs:   0%|          | 0/1 [00:00<?, ?it/s]"
      ]
     },
     "metadata": {},
     "output_type": "display_data"
    },
    {
     "name": "stdout",
     "output_type": "stream",
     "text": [
      "<tf.Variable 'Adam_2/learning_rate:0' shape=() dtype=float32>\n",
      "<tf.Variable 'Adam_2/learning_rate:0' shape=() dtype=float32>\n",
      "Original Data Shape (selected):  (2500, 36)\n",
      "Original Data Shape (encoded):  (2500, 36)\n",
      "Original Data Class Distribution:  1594  (true) / 906  (false)\n",
      "(1500, 36) (1500,)\n",
      "(500, 36) (500,)\n",
      "(500, 36) (500,)\n",
      "Min Ratio:  0.36466666666666664\n",
      "Min Ratio:  0.5\n",
      "Min Ratio:  0.362\n",
      "Min Ratio:  0.5\n"
     ]
    },
    {
     "data": {
      "application/vnd.jupyter.widget-view+json": {
       "model_id": "ffcb2b5a09fe4b049fe785cbe0df3609",
       "version_major": 2,
       "version_minor": 0
      },
      "text/plain": [
       "restarts:   0%|          | 0/1 [00:00<?, ?it/s]"
      ]
     },
     "metadata": {},
     "output_type": "display_data"
    },
    {
     "data": {
      "application/vnd.jupyter.widget-view+json": {
       "model_id": "5b3d6190834d4ca4a7d3e5c9e5d9ac4b",
       "version_major": 2,
       "version_minor": 0
      },
      "text/plain": [
       "epochs:   0%|          | 0/1 [00:00<?, ?it/s]"
      ]
     },
     "metadata": {},
     "output_type": "display_data"
    },
    {
     "name": "stdout",
     "output_type": "stream",
     "text": [
      "<tf.Variable 'Adam_2/learning_rate:0' shape=() dtype=float32>\n",
      "<tf.Variable 'Adam_2/learning_rate:0' shape=() dtype=float32>\n",
      "Original Data Shape (selected):  (2500, 36)\n",
      "Original Data Shape (encoded):  (2500, 36)\n",
      "Original Data Class Distribution:  1546  (true) / 954  (false)\n",
      "(1500, 36) (1500,)\n",
      "(500, 36) (500,)\n",
      "(500, 36) (500,)\n",
      "Min Ratio:  0.36466666666666664\n",
      "Min Ratio:  0.5\n",
      "Min Ratio:  0.3765\n",
      "Min Ratio:  0.5\n"
     ]
    },
    {
     "data": {
      "application/vnd.jupyter.widget-view+json": {
       "model_id": "50a19c5e585240309dcafef3c96f8784",
       "version_major": 2,
       "version_minor": 0
      },
      "text/plain": [
       "restarts:   0%|          | 0/1 [00:00<?, ?it/s]"
      ]
     },
     "metadata": {},
     "output_type": "display_data"
    },
    {
     "data": {
      "application/vnd.jupyter.widget-view+json": {
       "model_id": "f10a9d5cf0544ad4ba80feef5b20701d",
       "version_major": 2,
       "version_minor": 0
      },
      "text/plain": [
       "epochs:   0%|          | 0/1 [00:00<?, ?it/s]"
      ]
     },
     "metadata": {},
     "output_type": "display_data"
    },
    {
     "name": "stdout",
     "output_type": "stream",
     "text": [
      "<tf.Variable 'Adam_2/learning_rate:0' shape=() dtype=float32>\n",
      "<tf.Variable 'Adam_2/learning_rate:0' shape=() dtype=float32>\n",
      "Original Data Shape (selected):  (2500, 36)\n",
      "Original Data Shape (encoded):  (2500, 36)\n",
      "Original Data Class Distribution:  1532  (true) / 968  (false)\n",
      "(1500, 36) (1500,)\n",
      "(500, 36) (500,)\n",
      "(500, 36) (500,)\n",
      "Min Ratio:  0.38466666666666666\n",
      "Min Ratio:  0.5\n",
      "Min Ratio:  0.39\n",
      "Min Ratio:  0.5\n"
     ]
    },
    {
     "data": {
      "application/vnd.jupyter.widget-view+json": {
       "model_id": "5106d247e6bf43e68275b246f6f11b42",
       "version_major": 2,
       "version_minor": 0
      },
      "text/plain": [
       "restarts:   0%|          | 0/1 [00:00<?, ?it/s]"
      ]
     },
     "metadata": {},
     "output_type": "display_data"
    },
    {
     "data": {
      "application/vnd.jupyter.widget-view+json": {
       "model_id": "412590220ccc4f99b1498d92b6d339bd",
       "version_major": 2,
       "version_minor": 0
      },
      "text/plain": [
       "epochs:   0%|          | 0/1 [00:00<?, ?it/s]"
      ]
     },
     "metadata": {},
     "output_type": "display_data"
    },
    {
     "name": "stdout",
     "output_type": "stream",
     "text": [
      "<tf.Variable 'Adam_2/learning_rate:0' shape=() dtype=float32>\n",
      "<tf.Variable 'Adam_2/learning_rate:0' shape=() dtype=float32>\n",
      "Original Data Shape (selected):  (2500, 36)\n",
      "Original Data Shape (encoded):  (2500, 36)\n",
      "Original Data Class Distribution:  1542  (true) / 958  (false)\n",
      "(1500, 36) (1500,)\n",
      "(500, 36) (500,)\n",
      "(500, 36) (500,)\n",
      "Min Ratio:  0.394\n",
      "Min Ratio:  0.5\n",
      "Min Ratio:  0.3845\n",
      "Min Ratio:  0.5\n"
     ]
    },
    {
     "data": {
      "application/vnd.jupyter.widget-view+json": {
       "model_id": "d6c0011e52464bc2bb533c573e117eee",
       "version_major": 2,
       "version_minor": 0
      },
      "text/plain": [
       "restarts:   0%|          | 0/1 [00:00<?, ?it/s]"
      ]
     },
     "metadata": {},
     "output_type": "display_data"
    },
    {
     "data": {
      "application/vnd.jupyter.widget-view+json": {
       "model_id": "4a87830cdeb84b018b5e4e7a3558a294",
       "version_major": 2,
       "version_minor": 0
      },
      "text/plain": [
       "epochs:   0%|          | 0/1 [00:00<?, ?it/s]"
      ]
     },
     "metadata": {},
     "output_type": "display_data"
    },
    {
     "name": "stdout",
     "output_type": "stream",
     "text": [
      "<tf.Variable 'Adam_2/learning_rate:0' shape=() dtype=float32>\n",
      "<tf.Variable 'Adam_2/learning_rate:0' shape=() dtype=float32>\n",
      "Original Data Shape (selected):  (2500, 36)\n",
      "Original Data Shape (encoded):  (2500, 36)\n",
      "Original Data Class Distribution:  1522  (true) / 978  (false)\n",
      "(1500, 36) (1500,)\n",
      "(500, 36) (500,)\n",
      "(500, 36) (500,)\n",
      "Min Ratio:  0.4046666666666667\n",
      "Min Ratio:  0.5\n",
      "Min Ratio:  0.402\n",
      "Min Ratio:  0.5\n"
     ]
    },
    {
     "data": {
      "application/vnd.jupyter.widget-view+json": {
       "model_id": "de2abe0c789348e78083b045e6842a41",
       "version_major": 2,
       "version_minor": 0
      },
      "text/plain": [
       "restarts:   0%|          | 0/1 [00:00<?, ?it/s]"
      ]
     },
     "metadata": {},
     "output_type": "display_data"
    },
    {
     "data": {
      "application/vnd.jupyter.widget-view+json": {
       "model_id": "95b692f6993c473d9d0678439d23ba00",
       "version_major": 2,
       "version_minor": 0
      },
      "text/plain": [
       "epochs:   0%|          | 0/1 [00:00<?, ?it/s]"
      ]
     },
     "metadata": {},
     "output_type": "display_data"
    },
    {
     "name": "stdout",
     "output_type": "stream",
     "text": [
      "<tf.Variable 'Adam_2/learning_rate:0' shape=() dtype=float32>\n",
      "<tf.Variable 'Adam_2/learning_rate:0' shape=() dtype=float32>\n",
      "Original Data Shape (selected):  (2500, 36)\n",
      "Original Data Shape (encoded):  (2500, 36)\n",
      "Original Data Class Distribution:  1548  (true) / 952  (false)\n",
      "(1500, 36) (1500,)\n",
      "(500, 36) (500,)\n",
      "(500, 36) (500,)\n",
      "Min Ratio:  0.37266666666666665\n",
      "Min Ratio:  0.5\n",
      "Min Ratio:  0.377\n",
      "Min Ratio:  0.5\n"
     ]
    },
    {
     "data": {
      "application/vnd.jupyter.widget-view+json": {
       "model_id": "3848a313444042758ffe37de797a75a0",
       "version_major": 2,
       "version_minor": 0
      },
      "text/plain": [
       "restarts:   0%|          | 0/1 [00:00<?, ?it/s]"
      ]
     },
     "metadata": {},
     "output_type": "display_data"
    },
    {
     "data": {
      "application/vnd.jupyter.widget-view+json": {
       "model_id": "2136ee6939494011ad8053e71d737e3e",
       "version_major": 2,
       "version_minor": 0
      },
      "text/plain": [
       "epochs:   0%|          | 0/1 [00:00<?, ?it/s]"
      ]
     },
     "metadata": {},
     "output_type": "display_data"
    },
    {
     "name": "stdout",
     "output_type": "stream",
     "text": [
      "<tf.Variable 'Adam_2/learning_rate:0' shape=() dtype=float32>\n",
      "<tf.Variable 'Adam_2/learning_rate:0' shape=() dtype=float32>\n",
      "Original Data Shape (selected):  (2500, 36)\n",
      "Original Data Shape (encoded):  (2500, 36)\n",
      "Original Data Class Distribution:  1543  (true) / 957  (false)\n",
      "(1500, 36) (1500,)\n",
      "(500, 36) (500,)\n",
      "(500, 36) (500,)\n",
      "Min Ratio:  0.3893333333333333\n",
      "Min Ratio:  0.5\n",
      "Min Ratio:  0.3875\n",
      "Min Ratio:  0.5\n"
     ]
    },
    {
     "data": {
      "application/vnd.jupyter.widget-view+json": {
       "model_id": "c115325532b4499694711dd264d47d2e",
       "version_major": 2,
       "version_minor": 0
      },
      "text/plain": [
       "restarts:   0%|          | 0/1 [00:00<?, ?it/s]"
      ]
     },
     "metadata": {},
     "output_type": "display_data"
    },
    {
     "data": {
      "application/vnd.jupyter.widget-view+json": {
       "model_id": "d46f541373e646449d2bb9e2c9daccef",
       "version_major": 2,
       "version_minor": 0
      },
      "text/plain": [
       "epochs:   0%|          | 0/1 [00:00<?, ?it/s]"
      ]
     },
     "metadata": {},
     "output_type": "display_data"
    },
    {
     "name": "stdout",
     "output_type": "stream",
     "text": [
      "<tf.Variable 'Adam_2/learning_rate:0' shape=() dtype=float32>\n",
      "<tf.Variable 'Adam_2/learning_rate:0' shape=() dtype=float32>\n",
      "Original Data Shape (selected):  (2500, 36)\n",
      "Original Data Shape (encoded):  (2500, 36)\n",
      "Original Data Class Distribution:  1550  (true) / 950  (false)\n",
      "(1500, 36) (1500,)\n",
      "(500, 36) (500,)\n",
      "(500, 36) (500,)\n",
      "Min Ratio:  0.386\n",
      "Min Ratio:  0.5\n",
      "Min Ratio:  0.38\n",
      "Min Ratio:  0.5\n"
     ]
    },
    {
     "data": {
      "application/vnd.jupyter.widget-view+json": {
       "model_id": "aa79c4bd4270403790f60d726699a97b",
       "version_major": 2,
       "version_minor": 0
      },
      "text/plain": [
       "restarts:   0%|          | 0/1 [00:00<?, ?it/s]"
      ]
     },
     "metadata": {},
     "output_type": "display_data"
    },
    {
     "data": {
      "application/vnd.jupyter.widget-view+json": {
       "model_id": "09f5979e039a451d8ca3fa926dbbadc8",
       "version_major": 2,
       "version_minor": 0
      },
      "text/plain": [
       "epochs:   0%|          | 0/1 [00:00<?, ?it/s]"
      ]
     },
     "metadata": {},
     "output_type": "display_data"
    },
    {
     "name": "stdout",
     "output_type": "stream",
     "text": [
      "<tf.Variable 'Adam_2/learning_rate:0' shape=() dtype=float32>\n",
      "<tf.Variable 'Adam_2/learning_rate:0' shape=() dtype=float32>\n",
      "Original Data Shape (selected):  (2500, 36)\n",
      "Original Data Shape (encoded):  (2500, 36)\n",
      "Original Data Class Distribution:  1486  (true) / 1014  (false)\n",
      "(1500, 36) (1500,)\n",
      "(500, 36) (500,)\n",
      "(500, 36) (500,)\n",
      "Min Ratio:  0.39666666666666667\n",
      "Min Ratio:  0.5\n",
      "Min Ratio:  0.3975\n",
      "Min Ratio:  0.5\n"
     ]
    },
    {
     "data": {
      "application/vnd.jupyter.widget-view+json": {
       "model_id": "1b1cf27c07bb46a0a1391042c01b534d",
       "version_major": 2,
       "version_minor": 0
      },
      "text/plain": [
       "restarts:   0%|          | 0/1 [00:00<?, ?it/s]"
      ]
     },
     "metadata": {},
     "output_type": "display_data"
    },
    {
     "data": {
      "application/vnd.jupyter.widget-view+json": {
       "model_id": "5967a6f8ae8e40048560cb8d06ab4fc4",
       "version_major": 2,
       "version_minor": 0
      },
      "text/plain": [
       "epochs:   0%|          | 0/1 [00:00<?, ?it/s]"
      ]
     },
     "metadata": {},
     "output_type": "display_data"
    },
    {
     "name": "stdout",
     "output_type": "stream",
     "text": [
      "<tf.Variable 'Adam_2/learning_rate:0' shape=() dtype=float32>\n",
      "<tf.Variable 'Adam_2/learning_rate:0' shape=() dtype=float32>\n",
      "Original Data Shape (selected):  (2500, 36)\n",
      "Original Data Shape (encoded):  (2500, 36)\n",
      "Original Data Class Distribution:  1505  (true) / 995  (false)\n",
      "(1500, 36) (1500,)\n",
      "(500, 36) (500,)\n",
      "(500, 36) (500,)\n",
      "Min Ratio:  0.39\n",
      "Min Ratio:  0.5\n",
      "Min Ratio:  0.3945\n",
      "Min Ratio:  0.5\n"
     ]
    },
    {
     "data": {
      "application/vnd.jupyter.widget-view+json": {
       "model_id": "0c75f1dc2cd74e3e93ed7f88701365bd",
       "version_major": 2,
       "version_minor": 0
      },
      "text/plain": [
       "restarts:   0%|          | 0/1 [00:00<?, ?it/s]"
      ]
     },
     "metadata": {},
     "output_type": "display_data"
    },
    {
     "data": {
      "application/vnd.jupyter.widget-view+json": {
       "model_id": "c7f5ca0f26b34fd7b43180d41495119f",
       "version_major": 2,
       "version_minor": 0
      },
      "text/plain": [
       "epochs:   0%|          | 0/1 [00:00<?, ?it/s]"
      ]
     },
     "metadata": {},
     "output_type": "display_data"
    },
    {
     "name": "stdout",
     "output_type": "stream",
     "text": [
      "<tf.Variable 'Adam_2/learning_rate:0' shape=() dtype=float32>\n",
      "<tf.Variable 'Adam_2/learning_rate:0' shape=() dtype=float32>\n",
      "Original Data Shape (selected):  (2500, 36)\n",
      "Original Data Shape (encoded):  (2500, 36)\n",
      "Original Data Class Distribution:  1589  (true) / 911  (false)\n",
      "(1500, 36) (1500,)\n",
      "(500, 36) (500,)\n",
      "(500, 36) (500,)\n",
      "Min Ratio:  0.36866666666666664\n",
      "Min Ratio:  0.5\n",
      "Min Ratio:  0.367\n",
      "Min Ratio:  0.5\n"
     ]
    },
    {
     "data": {
      "application/vnd.jupyter.widget-view+json": {
       "model_id": "a7f740fc094944de9aedbd93e1f5e286",
       "version_major": 2,
       "version_minor": 0
      },
      "text/plain": [
       "restarts:   0%|          | 0/1 [00:00<?, ?it/s]"
      ]
     },
     "metadata": {},
     "output_type": "display_data"
    },
    {
     "data": {
      "application/vnd.jupyter.widget-view+json": {
       "model_id": "d9c9e20c79f3470cb0dc8d1eab95e9e5",
       "version_major": 2,
       "version_minor": 0
      },
      "text/plain": [
       "epochs:   0%|          | 0/1 [00:00<?, ?it/s]"
      ]
     },
     "metadata": {},
     "output_type": "display_data"
    },
    {
     "name": "stdout",
     "output_type": "stream",
     "text": [
      "<tf.Variable 'Adam_2/learning_rate:0' shape=() dtype=float32>\n",
      "<tf.Variable 'Adam_2/learning_rate:0' shape=() dtype=float32>\n",
      "Original Data Shape (selected):  (2500, 36)\n",
      "Original Data Shape (encoded):  (2500, 36)\n",
      "Original Data Class Distribution:  1547  (true) / 953  (false)\n",
      "(1500, 36) (1500,)\n",
      "(500, 36) (500,)\n",
      "(500, 36) (500,)\n",
      "Min Ratio:  0.37933333333333336\n",
      "Min Ratio:  0.5\n",
      "Min Ratio:  0.38\n",
      "Min Ratio:  0.5\n"
     ]
    },
    {
     "data": {
      "application/vnd.jupyter.widget-view+json": {
       "model_id": "0fdfff5fbf0b43cbb4a386a0b0af1435",
       "version_major": 2,
       "version_minor": 0
      },
      "text/plain": [
       "restarts:   0%|          | 0/1 [00:00<?, ?it/s]"
      ]
     },
     "metadata": {},
     "output_type": "display_data"
    },
    {
     "data": {
      "application/vnd.jupyter.widget-view+json": {
       "model_id": "7bf9306a23bc40edbf66e3e52b429edb",
       "version_major": 2,
       "version_minor": 0
      },
      "text/plain": [
       "epochs:   0%|          | 0/1 [00:00<?, ?it/s]"
      ]
     },
     "metadata": {},
     "output_type": "display_data"
    },
    {
     "name": "stdout",
     "output_type": "stream",
     "text": [
      "<tf.Variable 'Adam_2/learning_rate:0' shape=() dtype=float32>\n",
      "<tf.Variable 'Adam_2/learning_rate:0' shape=() dtype=float32>\n",
      "Original Data Shape (selected):  (2500, 36)\n",
      "Original Data Shape (encoded):  (2500, 36)\n",
      "Original Data Class Distribution:  1527  (true) / 973  (false)\n",
      "(1500, 36) (1500,)\n",
      "(500, 36) (500,)\n",
      "(500, 36) (500,)\n",
      "Min Ratio:  0.38666666666666666\n",
      "Min Ratio:  0.5\n",
      "Min Ratio:  0.3875\n",
      "Min Ratio:  0.5\n"
     ]
    },
    {
     "data": {
      "application/vnd.jupyter.widget-view+json": {
       "model_id": "44420f70dede4b849bc69fecaa12802b",
       "version_major": 2,
       "version_minor": 0
      },
      "text/plain": [
       "restarts:   0%|          | 0/1 [00:00<?, ?it/s]"
      ]
     },
     "metadata": {},
     "output_type": "display_data"
    },
    {
     "data": {
      "application/vnd.jupyter.widget-view+json": {
       "model_id": "b33aa8fe998543dc81400aa827c18478",
       "version_major": 2,
       "version_minor": 0
      },
      "text/plain": [
       "epochs:   0%|          | 0/1 [00:00<?, ?it/s]"
      ]
     },
     "metadata": {},
     "output_type": "display_data"
    },
    {
     "name": "stdout",
     "output_type": "stream",
     "text": [
      "<tf.Variable 'Adam_2/learning_rate:0' shape=() dtype=float32>\n",
      "<tf.Variable 'Adam_2/learning_rate:0' shape=() dtype=float32>\n",
      "Original Data Shape (selected):  (2500, 36)\n",
      "Original Data Shape (encoded):  (2500, 36)\n",
      "Original Data Class Distribution:  1520  (true) / 980  (false)\n",
      "(1500, 36) (1500,)\n",
      "(500, 36) (500,)\n",
      "(500, 36) (500,)\n",
      "Min Ratio:  0.3953333333333333\n",
      "Min Ratio:  0.5\n",
      "Min Ratio:  0.389\n",
      "Min Ratio:  0.5\n"
     ]
    },
    {
     "data": {
      "application/vnd.jupyter.widget-view+json": {
       "model_id": "8a2f5fdb79514a0ea2567d69ead545d3",
       "version_major": 2,
       "version_minor": 0
      },
      "text/plain": [
       "restarts:   0%|          | 0/1 [00:00<?, ?it/s]"
      ]
     },
     "metadata": {},
     "output_type": "display_data"
    },
    {
     "data": {
      "application/vnd.jupyter.widget-view+json": {
       "model_id": "efa822feda4b45e8a36460665a8490e1",
       "version_major": 2,
       "version_minor": 0
      },
      "text/plain": [
       "epochs:   0%|          | 0/1 [00:00<?, ?it/s]"
      ]
     },
     "metadata": {},
     "output_type": "display_data"
    },
    {
     "name": "stdout",
     "output_type": "stream",
     "text": [
      "<tf.Variable 'Adam_2/learning_rate:0' shape=() dtype=float32>\n",
      "<tf.Variable 'Adam_2/learning_rate:0' shape=() dtype=float32>\n",
      "Original Data Shape (selected):  (2500, 36)\n",
      "Original Data Shape (encoded):  (2500, 36)\n",
      "Original Data Class Distribution:  1538  (true) / 962  (false)\n",
      "(1500, 36) (1500,)\n",
      "(500, 36) (500,)\n",
      "(500, 36) (500,)\n",
      "Min Ratio:  0.38266666666666665\n",
      "Min Ratio:  0.5\n",
      "Min Ratio:  0.3905\n",
      "Min Ratio:  0.5\n"
     ]
    },
    {
     "data": {
      "application/vnd.jupyter.widget-view+json": {
       "model_id": "0eb59cd2c73b444394e472a1e79b672a",
       "version_major": 2,
       "version_minor": 0
      },
      "text/plain": [
       "restarts:   0%|          | 0/1 [00:00<?, ?it/s]"
      ]
     },
     "metadata": {},
     "output_type": "display_data"
    },
    {
     "data": {
      "application/vnd.jupyter.widget-view+json": {
       "model_id": "9d8bcd36f88e4b75a86b03f2954ba85d",
       "version_major": 2,
       "version_minor": 0
      },
      "text/plain": [
       "epochs:   0%|          | 0/1 [00:00<?, ?it/s]"
      ]
     },
     "metadata": {},
     "output_type": "display_data"
    },
    {
     "name": "stdout",
     "output_type": "stream",
     "text": [
      "<tf.Variable 'Adam_2/learning_rate:0' shape=() dtype=float32>\n",
      "<tf.Variable 'Adam_2/learning_rate:0' shape=() dtype=float32>\n",
      "Original Data Shape (selected):  (2500, 36)\n",
      "Original Data Shape (encoded):  (2500, 36)\n",
      "Original Data Class Distribution:  1504  (true) / 996  (false)\n",
      "(1500, 36) (1500,)\n",
      "(500, 36) (500,)\n",
      "(500, 36) (500,)\n",
      "Min Ratio:  0.39666666666666667\n",
      "Min Ratio:  0.5\n",
      "Min Ratio:  0.4045\n",
      "Min Ratio:  0.5\n"
     ]
    },
    {
     "data": {
      "application/vnd.jupyter.widget-view+json": {
       "model_id": "4d28b03e87774a3da9edcd2a01f1c41b",
       "version_major": 2,
       "version_minor": 0
      },
      "text/plain": [
       "restarts:   0%|          | 0/1 [00:00<?, ?it/s]"
      ]
     },
     "metadata": {},
     "output_type": "display_data"
    },
    {
     "data": {
      "application/vnd.jupyter.widget-view+json": {
       "model_id": "64012d99208d495ca4c1cd90eb1c85f2",
       "version_major": 2,
       "version_minor": 0
      },
      "text/plain": [
       "epochs:   0%|          | 0/1 [00:00<?, ?it/s]"
      ]
     },
     "metadata": {},
     "output_type": "display_data"
    },
    {
     "name": "stdout",
     "output_type": "stream",
     "text": [
      "<tf.Variable 'Adam_2/learning_rate:0' shape=() dtype=float32>\n",
      "<tf.Variable 'Adam_2/learning_rate:0' shape=() dtype=float32>\n",
      "Original Data Shape (selected):  (2500, 36)\n",
      "Original Data Shape (encoded):  (2500, 36)\n",
      "Original Data Class Distribution:  1501  (true) / 999  (false)\n",
      "(1500, 36) (1500,)\n",
      "(500, 36) (500,)\n",
      "(500, 36) (500,)\n",
      "Min Ratio:  0.402\n",
      "Min Ratio:  0.5\n",
      "Min Ratio:  0.408\n",
      "Min Ratio:  0.5\n"
     ]
    },
    {
     "data": {
      "application/vnd.jupyter.widget-view+json": {
       "model_id": "30b2841ced8646608f7946839057598e",
       "version_major": 2,
       "version_minor": 0
      },
      "text/plain": [
       "restarts:   0%|          | 0/1 [00:00<?, ?it/s]"
      ]
     },
     "metadata": {},
     "output_type": "display_data"
    },
    {
     "data": {
      "application/vnd.jupyter.widget-view+json": {
       "model_id": "4296d0e5475e4b438d1a613ef7b29a92",
       "version_major": 2,
       "version_minor": 0
      },
      "text/plain": [
       "epochs:   0%|          | 0/1 [00:00<?, ?it/s]"
      ]
     },
     "metadata": {},
     "output_type": "display_data"
    },
    {
     "name": "stdout",
     "output_type": "stream",
     "text": [
      "<tf.Variable 'Adam_2/learning_rate:0' shape=() dtype=float32>\n",
      "<tf.Variable 'Adam_2/learning_rate:0' shape=() dtype=float32>\n",
      "Original Data Shape (selected):  (2500, 36)\n",
      "Original Data Shape (encoded):  (2500, 36)\n",
      "Original Data Class Distribution:  1552  (true) / 948  (false)\n",
      "(1500, 36) (1500,)\n",
      "(500, 36) (500,)\n",
      "(500, 36) (500,)\n",
      "Min Ratio:  0.384\n",
      "Min Ratio:  0.5\n",
      "Min Ratio:  0.377\n",
      "Min Ratio:  0.5\n"
     ]
    },
    {
     "data": {
      "application/vnd.jupyter.widget-view+json": {
       "model_id": "213839640dce4b97bb9d52e9d6c1bb39",
       "version_major": 2,
       "version_minor": 0
      },
      "text/plain": [
       "restarts:   0%|          | 0/1 [00:00<?, ?it/s]"
      ]
     },
     "metadata": {},
     "output_type": "display_data"
    },
    {
     "data": {
      "application/vnd.jupyter.widget-view+json": {
       "model_id": "9438dcab2e704947af8dd4ae8be81647",
       "version_major": 2,
       "version_minor": 0
      },
      "text/plain": [
       "epochs:   0%|          | 0/1 [00:00<?, ?it/s]"
      ]
     },
     "metadata": {},
     "output_type": "display_data"
    },
    {
     "name": "stdout",
     "output_type": "stream",
     "text": [
      "<tf.Variable 'Adam_2/learning_rate:0' shape=() dtype=float32>\n",
      "<tf.Variable 'Adam_2/learning_rate:0' shape=() dtype=float32>\n",
      "Original Data Shape (selected):  (2500, 36)\n",
      "Original Data Shape (encoded):  (2500, 36)\n",
      "Original Data Class Distribution:  1558  (true) / 942  (false)\n",
      "(1500, 36) (1500,)\n",
      "(500, 36) (500,)\n",
      "(500, 36) (500,)\n",
      "Min Ratio:  0.38133333333333336\n",
      "Min Ratio:  0.5\n",
      "Min Ratio:  0.381\n",
      "Min Ratio:  0.5\n"
     ]
    },
    {
     "data": {
      "application/vnd.jupyter.widget-view+json": {
       "model_id": "2523b583319b4efc97903771941faa48",
       "version_major": 2,
       "version_minor": 0
      },
      "text/plain": [
       "restarts:   0%|          | 0/1 [00:00<?, ?it/s]"
      ]
     },
     "metadata": {},
     "output_type": "display_data"
    },
    {
     "data": {
      "application/vnd.jupyter.widget-view+json": {
       "model_id": "a11ae685688e4ae6b040b447ae4d0a79",
       "version_major": 2,
       "version_minor": 0
      },
      "text/plain": [
       "epochs:   0%|          | 0/1 [00:00<?, ?it/s]"
      ]
     },
     "metadata": {},
     "output_type": "display_data"
    },
    {
     "name": "stdout",
     "output_type": "stream",
     "text": [
      "<tf.Variable 'Adam_2/learning_rate:0' shape=() dtype=float32>\n",
      "<tf.Variable 'Adam_2/learning_rate:0' shape=() dtype=float32>\n",
      "Original Data Shape (selected):  (2500, 36)\n",
      "Original Data Shape (encoded):  (2500, 36)\n",
      "Original Data Class Distribution:  1481  (true) / 1019  (false)\n",
      "(1500, 36) (1500,)\n",
      "(500, 36) (500,)\n",
      "(500, 36) (500,)\n",
      "Min Ratio:  0.3973333333333333\n",
      "Min Ratio:  0.5\n",
      "Min Ratio:  0.403\n",
      "Min Ratio:  0.5\n"
     ]
    },
    {
     "data": {
      "application/vnd.jupyter.widget-view+json": {
       "model_id": "8a1fd87252984b34b4c3bf5df236593b",
       "version_major": 2,
       "version_minor": 0
      },
      "text/plain": [
       "restarts:   0%|          | 0/1 [00:00<?, ?it/s]"
      ]
     },
     "metadata": {},
     "output_type": "display_data"
    },
    {
     "data": {
      "application/vnd.jupyter.widget-view+json": {
       "model_id": "9272550dda0e47d1a0cf6e7c06834ad8",
       "version_major": 2,
       "version_minor": 0
      },
      "text/plain": [
       "epochs:   0%|          | 0/1 [00:00<?, ?it/s]"
      ]
     },
     "metadata": {},
     "output_type": "display_data"
    },
    {
     "name": "stdout",
     "output_type": "stream",
     "text": [
      "<tf.Variable 'Adam_2/learning_rate:0' shape=() dtype=float32>\n",
      "<tf.Variable 'Adam_2/learning_rate:0' shape=() dtype=float32>\n",
      "Original Data Shape (selected):  (2500, 36)\n",
      "Original Data Shape (encoded):  (2500, 36)\n",
      "Original Data Class Distribution:  1508  (true) / 992  (false)\n",
      "(1500, 36) (1500,)\n",
      "(500, 36) (500,)\n",
      "(500, 36) (500,)\n",
      "Min Ratio:  0.396\n",
      "Min Ratio:  0.5\n",
      "Min Ratio:  0.403\n",
      "Min Ratio:  0.5\n"
     ]
    },
    {
     "data": {
      "application/vnd.jupyter.widget-view+json": {
       "model_id": "ec4e6fe3792a48b2affaf383d91ad0a1",
       "version_major": 2,
       "version_minor": 0
      },
      "text/plain": [
       "restarts:   0%|          | 0/1 [00:00<?, ?it/s]"
      ]
     },
     "metadata": {},
     "output_type": "display_data"
    },
    {
     "data": {
      "application/vnd.jupyter.widget-view+json": {
       "model_id": "3dfc1f5da7ee4bc18d0d8d72ee6a2c1f",
       "version_major": 2,
       "version_minor": 0
      },
      "text/plain": [
       "epochs:   0%|          | 0/1 [00:00<?, ?it/s]"
      ]
     },
     "metadata": {},
     "output_type": "display_data"
    },
    {
     "name": "stdout",
     "output_type": "stream",
     "text": [
      "<tf.Variable 'Adam_2/learning_rate:0' shape=() dtype=float32>\n",
      "<tf.Variable 'Adam_2/learning_rate:0' shape=() dtype=float32>\n",
      "Original Data Shape (selected):  (2500, 36)\n",
      "Original Data Shape (encoded):  (2500, 36)\n",
      "Original Data Class Distribution:  1530  (true) / 970  (false)\n",
      "(1500, 36) (1500,)\n",
      "(500, 36) (500,)\n",
      "(500, 36) (500,)\n",
      "Min Ratio:  0.39066666666666666\n",
      "Min Ratio:  0.5\n",
      "Min Ratio:  0.3885\n",
      "Min Ratio:  0.5\n"
     ]
    },
    {
     "data": {
      "application/vnd.jupyter.widget-view+json": {
       "model_id": "e8c70142c8824a3ab980fb3f8bd99e84",
       "version_major": 2,
       "version_minor": 0
      },
      "text/plain": [
       "restarts:   0%|          | 0/1 [00:00<?, ?it/s]"
      ]
     },
     "metadata": {},
     "output_type": "display_data"
    },
    {
     "data": {
      "application/vnd.jupyter.widget-view+json": {
       "model_id": "0c90b44a9c584e74a2173e9a7315dc40",
       "version_major": 2,
       "version_minor": 0
      },
      "text/plain": [
       "epochs:   0%|          | 0/1 [00:00<?, ?it/s]"
      ]
     },
     "metadata": {},
     "output_type": "display_data"
    },
    {
     "name": "stdout",
     "output_type": "stream",
     "text": [
      "<tf.Variable 'Adam_2/learning_rate:0' shape=() dtype=float32>\n",
      "<tf.Variable 'Adam_2/learning_rate:0' shape=() dtype=float32>\n",
      "Original Data Shape (selected):  (2500, 36)\n",
      "Original Data Shape (encoded):  (2500, 36)\n",
      "Original Data Class Distribution:  1531  (true) / 969  (false)\n",
      "(1500, 36) (1500,)\n",
      "(500, 36) (500,)\n",
      "(500, 36) (500,)\n",
      "Min Ratio:  0.37533333333333335\n",
      "Min Ratio:  0.5\n",
      "Min Ratio:  0.382\n",
      "Min Ratio:  0.5\n"
     ]
    },
    {
     "data": {
      "application/vnd.jupyter.widget-view+json": {
       "model_id": "d70e323a102e411d9d0dbead11ac275e",
       "version_major": 2,
       "version_minor": 0
      },
      "text/plain": [
       "restarts:   0%|          | 0/1 [00:00<?, ?it/s]"
      ]
     },
     "metadata": {},
     "output_type": "display_data"
    },
    {
     "data": {
      "application/vnd.jupyter.widget-view+json": {
       "model_id": "db106814add24e1c8092ed25e97f4962",
       "version_major": 2,
       "version_minor": 0
      },
      "text/plain": [
       "epochs:   0%|          | 0/1 [00:00<?, ?it/s]"
      ]
     },
     "metadata": {},
     "output_type": "display_data"
    },
    {
     "name": "stdout",
     "output_type": "stream",
     "text": [
      "<tf.Variable 'Adam_2/learning_rate:0' shape=() dtype=float32>\n",
      "<tf.Variable 'Adam_2/learning_rate:0' shape=() dtype=float32>\n",
      "Original Data Shape (selected):  (2500, 36)\n",
      "Original Data Shape (encoded):  (2500, 36)\n",
      "Original Data Class Distribution:  1564  (true) / 936  (false)\n",
      "(1500, 36) (1500,)\n",
      "(500, 36) (500,)\n",
      "(500, 36) (500,)\n",
      "Min Ratio:  0.378\n",
      "Min Ratio:  0.5\n",
      "Min Ratio:  0.376\n",
      "Min Ratio:  0.5\n"
     ]
    },
    {
     "data": {
      "application/vnd.jupyter.widget-view+json": {
       "model_id": "69f3f772ca0c46eaafc7c7c6482f0f3e",
       "version_major": 2,
       "version_minor": 0
      },
      "text/plain": [
       "restarts:   0%|          | 0/1 [00:00<?, ?it/s]"
      ]
     },
     "metadata": {},
     "output_type": "display_data"
    },
    {
     "data": {
      "application/vnd.jupyter.widget-view+json": {
       "model_id": "da633e3351514772b69b685b7639c1b7",
       "version_major": 2,
       "version_minor": 0
      },
      "text/plain": [
       "epochs:   0%|          | 0/1 [00:00<?, ?it/s]"
      ]
     },
     "metadata": {},
     "output_type": "display_data"
    },
    {
     "name": "stdout",
     "output_type": "stream",
     "text": [
      "<tf.Variable 'Adam_2/learning_rate:0' shape=() dtype=float32>\n",
      "<tf.Variable 'Adam_2/learning_rate:0' shape=() dtype=float32>\n",
      "Original Data Shape (selected):  (2500, 36)\n",
      "Original Data Shape (encoded):  (2500, 36)\n",
      "Original Data Class Distribution:  1566  (true) / 934  (false)\n",
      "(1500, 36) (1500,)\n",
      "(500, 36) (500,)\n",
      "(500, 36) (500,)\n",
      "Min Ratio:  0.3606666666666667\n",
      "Min Ratio:  0.5\n",
      "Min Ratio:  0.3705\n",
      "Min Ratio:  0.5\n"
     ]
    },
    {
     "data": {
      "application/vnd.jupyter.widget-view+json": {
       "model_id": "93de8ac4b905465fb9f29a3d130f9001",
       "version_major": 2,
       "version_minor": 0
      },
      "text/plain": [
       "restarts:   0%|          | 0/1 [00:00<?, ?it/s]"
      ]
     },
     "metadata": {},
     "output_type": "display_data"
    },
    {
     "data": {
      "application/vnd.jupyter.widget-view+json": {
       "model_id": "69fc05fb1d744d8c93a3c4db6f372c37",
       "version_major": 2,
       "version_minor": 0
      },
      "text/plain": [
       "epochs:   0%|          | 0/1 [00:00<?, ?it/s]"
      ]
     },
     "metadata": {},
     "output_type": "display_data"
    },
    {
     "name": "stdout",
     "output_type": "stream",
     "text": [
      "<tf.Variable 'Adam_2/learning_rate:0' shape=() dtype=float32>\n",
      "<tf.Variable 'Adam_2/learning_rate:0' shape=() dtype=float32>\n",
      "Original Data Shape (selected):  (2500, 36)\n",
      "Original Data Shape (encoded):  (2500, 36)\n",
      "Original Data Class Distribution:  1544  (true) / 956  (false)\n",
      "(1500, 36) (1500,)\n",
      "(500, 36) (500,)\n",
      "(500, 36) (500,)\n",
      "Min Ratio:  0.38\n",
      "Min Ratio:  0.5\n",
      "Min Ratio:  0.3805\n",
      "Min Ratio:  0.5\n"
     ]
    },
    {
     "data": {
      "application/vnd.jupyter.widget-view+json": {
       "model_id": "a1e1d9b53b18409f8f86ebf82c1b94f7",
       "version_major": 2,
       "version_minor": 0
      },
      "text/plain": [
       "restarts:   0%|          | 0/1 [00:00<?, ?it/s]"
      ]
     },
     "metadata": {},
     "output_type": "display_data"
    },
    {
     "data": {
      "application/vnd.jupyter.widget-view+json": {
       "model_id": "371062f552114479b247139f8350adb6",
       "version_major": 2,
       "version_minor": 0
      },
      "text/plain": [
       "epochs:   0%|          | 0/1 [00:00<?, ?it/s]"
      ]
     },
     "metadata": {},
     "output_type": "display_data"
    },
    {
     "name": "stdout",
     "output_type": "stream",
     "text": [
      "<tf.Variable 'Adam_2/learning_rate:0' shape=() dtype=float32>\n",
      "<tf.Variable 'Adam_2/learning_rate:0' shape=() dtype=float32>\n",
      "Original Data Shape (selected):  (2500, 36)\n",
      "Original Data Shape (encoded):  (2500, 36)\n",
      "Original Data Class Distribution:  1568  (true) / 932  (false)\n",
      "(1500, 36) (1500,)\n",
      "(500, 36) (500,)\n",
      "(500, 36) (500,)\n",
      "Min Ratio:  0.376\n",
      "Min Ratio:  0.5\n",
      "Min Ratio:  0.378\n",
      "Min Ratio:  0.5\n"
     ]
    },
    {
     "data": {
      "application/vnd.jupyter.widget-view+json": {
       "model_id": "f488dab6f18e455dbb12c3e04c44aece",
       "version_major": 2,
       "version_minor": 0
      },
      "text/plain": [
       "restarts:   0%|          | 0/1 [00:00<?, ?it/s]"
      ]
     },
     "metadata": {},
     "output_type": "display_data"
    },
    {
     "data": {
      "application/vnd.jupyter.widget-view+json": {
       "model_id": "680c38ca7b6846aab7a4b732d756ff53",
       "version_major": 2,
       "version_minor": 0
      },
      "text/plain": [
       "epochs:   0%|          | 0/1 [00:00<?, ?it/s]"
      ]
     },
     "metadata": {},
     "output_type": "display_data"
    },
    {
     "name": "stdout",
     "output_type": "stream",
     "text": [
      "<tf.Variable 'Adam_2/learning_rate:0' shape=() dtype=float32>\n",
      "<tf.Variable 'Adam_2/learning_rate:0' shape=() dtype=float32>\n",
      "Original Data Shape (selected):  (2500, 36)\n",
      "Original Data Shape (encoded):  (2500, 36)\n",
      "Original Data Class Distribution:  1489  (true) / 1011  (false)\n",
      "(1500, 36) (1500,)\n",
      "(500, 36) (500,)\n",
      "(500, 36) (500,)\n",
      "Min Ratio:  0.41333333333333333\n",
      "Min Ratio:  0.5\n",
      "Min Ratio:  0.417\n",
      "Min Ratio:  0.5\n"
     ]
    },
    {
     "data": {
      "application/vnd.jupyter.widget-view+json": {
       "model_id": "4a4da35e2c024dcc8996f0554b36a32f",
       "version_major": 2,
       "version_minor": 0
      },
      "text/plain": [
       "restarts:   0%|          | 0/1 [00:00<?, ?it/s]"
      ]
     },
     "metadata": {},
     "output_type": "display_data"
    },
    {
     "data": {
      "application/vnd.jupyter.widget-view+json": {
       "model_id": "1aa345eddab9407cb1a3572ad160c0ad",
       "version_major": 2,
       "version_minor": 0
      },
      "text/plain": [
       "epochs:   0%|          | 0/1 [00:00<?, ?it/s]"
      ]
     },
     "metadata": {},
     "output_type": "display_data"
    },
    {
     "name": "stdout",
     "output_type": "stream",
     "text": [
      "<tf.Variable 'Adam_2/learning_rate:0' shape=() dtype=float32>\n",
      "<tf.Variable 'Adam_2/learning_rate:0' shape=() dtype=float32>\n",
      "Original Data Shape (selected):  (2500, 36)\n",
      "Original Data Shape (encoded):  (2500, 36)\n",
      "Original Data Class Distribution:  1543  (true) / 957  (false)\n",
      "(1500, 36) (1500,)\n",
      "(500, 36) (500,)\n",
      "(500, 36) (500,)\n",
      "Min Ratio:  0.38266666666666665\n",
      "Min Ratio:  0.5\n",
      "Min Ratio:  0.375\n",
      "Min Ratio:  0.5\n"
     ]
    },
    {
     "data": {
      "application/vnd.jupyter.widget-view+json": {
       "model_id": "30adbb88885e4e71a23ffdb50896cd93",
       "version_major": 2,
       "version_minor": 0
      },
      "text/plain": [
       "restarts:   0%|          | 0/1 [00:00<?, ?it/s]"
      ]
     },
     "metadata": {},
     "output_type": "display_data"
    },
    {
     "data": {
      "application/vnd.jupyter.widget-view+json": {
       "model_id": "ca3b7927dd164ade8d5d1ed0f9d8ce4a",
       "version_major": 2,
       "version_minor": 0
      },
      "text/plain": [
       "epochs:   0%|          | 0/1 [00:00<?, ?it/s]"
      ]
     },
     "metadata": {},
     "output_type": "display_data"
    },
    {
     "name": "stdout",
     "output_type": "stream",
     "text": [
      "<tf.Variable 'Adam_2/learning_rate:0' shape=() dtype=float32>\n",
      "<tf.Variable 'Adam_2/learning_rate:0' shape=() dtype=float32>\n",
      "Original Data Shape (selected):  (2500, 36)\n",
      "Original Data Shape (encoded):  (2500, 36)\n",
      "Original Data Class Distribution:  1536  (true) / 964  (false)\n",
      "(1500, 36) (1500,)\n",
      "(500, 36) (500,)\n",
      "(500, 36) (500,)\n",
      "Min Ratio:  0.36933333333333335\n",
      "Min Ratio:  0.5\n",
      "Min Ratio:  0.382\n",
      "Min Ratio:  0.5\n"
     ]
    },
    {
     "data": {
      "application/vnd.jupyter.widget-view+json": {
       "model_id": "d11d68f819704659813623fd5cb61fee",
       "version_major": 2,
       "version_minor": 0
      },
      "text/plain": [
       "restarts:   0%|          | 0/1 [00:00<?, ?it/s]"
      ]
     },
     "metadata": {},
     "output_type": "display_data"
    },
    {
     "data": {
      "application/vnd.jupyter.widget-view+json": {
       "model_id": "a48e09a1b5644f82b411e75ddd1adc84",
       "version_major": 2,
       "version_minor": 0
      },
      "text/plain": [
       "epochs:   0%|          | 0/1 [00:00<?, ?it/s]"
      ]
     },
     "metadata": {},
     "output_type": "display_data"
    },
    {
     "name": "stdout",
     "output_type": "stream",
     "text": [
      "<tf.Variable 'Adam_2/learning_rate:0' shape=() dtype=float32>\n",
      "<tf.Variable 'Adam_2/learning_rate:0' shape=() dtype=float32>\n",
      "Original Data Shape (selected):  (2500, 36)\n",
      "Original Data Shape (encoded):  (2500, 36)\n",
      "Original Data Class Distribution:  1544  (true) / 956  (false)\n",
      "(1500, 36) (1500,)\n",
      "(500, 36) (500,)\n",
      "(500, 36) (500,)\n",
      "Min Ratio:  0.37533333333333335\n",
      "Min Ratio:  0.5\n",
      "Min Ratio:  0.3815\n",
      "Min Ratio:  0.5\n"
     ]
    },
    {
     "data": {
      "application/vnd.jupyter.widget-view+json": {
       "model_id": "fb01f6c9f8324a41946651b535528b54",
       "version_major": 2,
       "version_minor": 0
      },
      "text/plain": [
       "restarts:   0%|          | 0/1 [00:00<?, ?it/s]"
      ]
     },
     "metadata": {},
     "output_type": "display_data"
    },
    {
     "data": {
      "application/vnd.jupyter.widget-view+json": {
       "model_id": "ff0a4eac8d1849a2bfcb650b0bc2f8ce",
       "version_major": 2,
       "version_minor": 0
      },
      "text/plain": [
       "epochs:   0%|          | 0/1 [00:00<?, ?it/s]"
      ]
     },
     "metadata": {},
     "output_type": "display_data"
    },
    {
     "name": "stdout",
     "output_type": "stream",
     "text": [
      "<tf.Variable 'Adam_2/learning_rate:0' shape=() dtype=float32>\n",
      "<tf.Variable 'Adam_2/learning_rate:0' shape=() dtype=float32>\n",
      "Original Data Shape (selected):  (2500, 36)\n",
      "Original Data Shape (encoded):  (2500, 36)\n",
      "Original Data Class Distribution:  1508  (true) / 992  (false)\n",
      "(1500, 36) (1500,)\n",
      "(500, 36) (500,)\n",
      "(500, 36) (500,)\n",
      "Min Ratio:  0.4046666666666667\n",
      "Min Ratio:  0.5\n",
      "Min Ratio:  0.399\n",
      "Min Ratio:  0.5\n"
     ]
    },
    {
     "data": {
      "application/vnd.jupyter.widget-view+json": {
       "model_id": "da091b075dc749e69ed921d4ebdc8ec1",
       "version_major": 2,
       "version_minor": 0
      },
      "text/plain": [
       "restarts:   0%|          | 0/1 [00:00<?, ?it/s]"
      ]
     },
     "metadata": {},
     "output_type": "display_data"
    },
    {
     "data": {
      "application/vnd.jupyter.widget-view+json": {
       "model_id": "05e8a3251dba424f8353eb39785e44e3",
       "version_major": 2,
       "version_minor": 0
      },
      "text/plain": [
       "epochs:   0%|          | 0/1 [00:00<?, ?it/s]"
      ]
     },
     "metadata": {},
     "output_type": "display_data"
    },
    {
     "name": "stdout",
     "output_type": "stream",
     "text": [
      "<tf.Variable 'Adam_2/learning_rate:0' shape=() dtype=float32>\n",
      "<tf.Variable 'Adam_2/learning_rate:0' shape=() dtype=float32>\n",
      "Original Data Shape (selected):  (2500, 36)\n",
      "Original Data Shape (encoded):  (2500, 36)\n",
      "Original Data Class Distribution:  1570  (true) / 930  (false)\n",
      "(1500, 36) (1500,)\n",
      "(500, 36) (500,)\n",
      "(500, 36) (500,)\n",
      "Min Ratio:  0.362\n",
      "Min Ratio:  0.5\n",
      "Min Ratio:  0.3765\n",
      "Min Ratio:  0.5\n"
     ]
    },
    {
     "data": {
      "application/vnd.jupyter.widget-view+json": {
       "model_id": "a8b7410f30ea46e0a9e7e8d110709b8d",
       "version_major": 2,
       "version_minor": 0
      },
      "text/plain": [
       "restarts:   0%|          | 0/1 [00:00<?, ?it/s]"
      ]
     },
     "metadata": {},
     "output_type": "display_data"
    },
    {
     "data": {
      "application/vnd.jupyter.widget-view+json": {
       "model_id": "19c27f27a0674397b64a5a7943cdd357",
       "version_major": 2,
       "version_minor": 0
      },
      "text/plain": [
       "epochs:   0%|          | 0/1 [00:00<?, ?it/s]"
      ]
     },
     "metadata": {},
     "output_type": "display_data"
    },
    {
     "name": "stdout",
     "output_type": "stream",
     "text": [
      "<tf.Variable 'Adam_2/learning_rate:0' shape=() dtype=float32>\n",
      "<tf.Variable 'Adam_2/learning_rate:0' shape=() dtype=float32>\n"
     ]
    }
   ],
   "source": [
    "#'NOAA_Weather','agr_a','agr_g','airlines','electricity','hyperplane','rbf_f','rbf_m','sea_a','sea_g\n",
    "dataset_names = ['electricity']\n",
    "for dataset_name in dataset_names:\n",
    "    VFDT_classifier = HoeffdingTreeClassifier()\n",
    "    CVFDT_classifier = HoeffdingAdaptiveTreeClassifier(split_confidence = 0.001)\n",
    "    config = get_config_for_dataset(dataset_name)\n",
    "\n",
    "    from sklearn.metrics import cohen_kappa_score\n",
    "\n",
    "    config_training, metrics = prepare_training_for_streams(identifier = 'BIN:'+dataset_name, config = config)\n",
    "    #load Dataset\n",
    "    X_data, y_data, nominal_features, ordinal_features = load_dataset_for_streams(identifier = 'BIN:'+dataset_name, \n",
    "                                                                                  max_total_samples = config['computation']['max_total_samples'])\n",
    "\n",
    "    model_dict = {}\n",
    "    scores_dict = {}\n",
    "    normalizer_list = []\n",
    "    plotlosses_benchmark = PlotLosses()\n",
    "    verbosity = 1\n",
    "    model_dict['GDT'] = GDT(number_of_variables = len(X_data.columns),\n",
    "                number_of_classes = len(np.unique(y_data)),#dataset_dict['number_of_classes'],\n",
    "\n",
    "                objective = config_training['gdt']['objective'],\n",
    "\n",
    "                depth = config_training['gdt']['depth'],\n",
    "\n",
    "                learning_rate_index = config_training['gdt']['learning_rate_index'],\n",
    "                learning_rate_values = config_training['gdt']['learning_rate_values'],\n",
    "                learning_rate_leaf = config_training['gdt']['learning_rate_leaf'],\n",
    "\n",
    "                optimizer = config_training['gdt']['optimizer'],\n",
    "\n",
    "                loss = 'crossentropy',\n",
    "\n",
    "                initializer_values = config_training['gdt']['initializer_values'],\n",
    "                initializer_index = config_training['gdt']['initializer_index'],\n",
    "                initializer_leaf = config_training['gdt']['initializer_leaf'],        \n",
    "\n",
    "                random_seed = config_training['computation']['random_seed'],\n",
    "                verbosity = verbosity)  \n",
    "\n",
    "\n",
    "    #Pretraing\n",
    "    if(config_training['computation']['pretrain_size']>0 and len(X_data) > config_training['computation']['pretrain_size']):\n",
    "        X_pretrain_data = X_data.iloc[:config_training['computation']['pretrain_size'],:]\n",
    "        X_data = X_data.iloc[config_training['computation']['pretrain_size']:,:]\n",
    "        y_pretrain_data = y_data.iloc[:config_training['computation']['pretrain_size']]\n",
    "        y_data = y_data.iloc[config_training['computation']['pretrain_size']:]\n",
    "\n",
    "        ((X_train, y_train),\n",
    "         (X_valid, y_valid),\n",
    "         (X_test, y_test),\n",
    "         (X_train_with_valid, y_train_with_valid),\n",
    "         normalizer_list) = preprocess_data(X_pretrain_data, \n",
    "                                           y_pretrain_data,\n",
    "                                           nominal_features,\n",
    "                                           ordinal_features,\n",
    "                                           config_training,\n",
    "                                           normalizer_list,\n",
    "                                           random_seed= 42,#random_seed,\n",
    "                                           verbosity=1)#verbosity)  \n",
    "        dataset_dict = {\n",
    "               'X_train': X_train,\n",
    "               'y_train': y_train,\n",
    "               'X_valid': X_valid,\n",
    "               'y_valid': y_valid,\n",
    "               'X_test': X_test,\n",
    "               'y_test': y_test,\n",
    "               'normalizer_list': normalizer_list\n",
    "               }\n",
    "\n",
    "\n",
    "\n",
    "        model_dict['GDT'].partial_fit(dataset_dict['X_train'],\n",
    "                  dataset_dict['y_train'],\n",
    "\n",
    "                  batch_size=config_training['gdt']['batch_size'], \n",
    "                  epochs=config_training['gdt']['pretrain_epochs'], \n",
    "\n",
    "                  restarts = 0,#config_test['gdt']['restarts'], \n",
    "                  #restart_type=config_test['gdt']['restart_type'], \n",
    "\n",
    "                  #early_stopping_epochs=config_training['gdt']['early_stopping_epochs'], \n",
    "                  #early_stopping_type=config_test['gdt']['early_stopping_type'],\n",
    "\n",
    "                  valid_data=(dataset_dict['X_valid'],dataset_dict['y_valid']))\n",
    "        \n",
    "        #pretrain benchmarks\n",
    "        #(X_train_with_valid, y_train_with_valid)\n",
    "        temp_X_train =X_train_with_valid.values\n",
    "        temp_y_train =y_train_with_valid.values\n",
    "        for i in range(0, len(dataset_dict['X_train'])):\n",
    "            VFDT_classifier.partial_fit(np.array([temp_X_train[i]], np.float64), np.array([temp_y_train[i]], np.float64)) \n",
    "            CVFDT_classifier.partial_fit(np.array([temp_X_train[i]], np.float64), np.array([temp_y_train[i]], np.float64))\n",
    "\n",
    "\n",
    "\n",
    "\n",
    "\n",
    "\n",
    "\n",
    "    #Start Stream\n",
    "    X_data_stream = split_df_chunks(X_data, config['computation']['chunk_size'])\n",
    "    y_data_stream = split_df_chunks(y_data, config['computation']['chunk_size'])\n",
    "\n",
    "    scores_GDT = {'train':np.array([]),\n",
    "                  'valid':np.array([]),\n",
    "                  'test':np.array([])\n",
    "                 }\n",
    "    scores_VFDT = {'train':np.array([]),\n",
    "              'test':np.array([])\n",
    "             }\n",
    "    scores_CVFDT = {'train':np.array([]),\n",
    "                  'test':np.array([])\n",
    "                 }\n",
    "    \n",
    "    timer = {'training':{\n",
    "                'GDT':0.0,\n",
    "                'VFDT':0.0,\n",
    "                'CVFDT':0.0,\n",
    "             },\n",
    "             'prediction':{\n",
    "                'GDT':0.0,\n",
    "                'VFDT':0.0,\n",
    "                'CVFDT':0.0,\n",
    "             }\n",
    "            }\n",
    "    flag = False;\n",
    "\n",
    "    for i in range(len(X_data_stream)):\n",
    "        normalizer_list=[]\n",
    "        t0 = time.time()\n",
    "        ((X_train, y_train),\n",
    "         (X_valid, y_valid),\n",
    "         (X_test, y_test),\n",
    "         (X_train_with_valid, y_train_with_valid),\n",
    "         normalizer_list) = preprocess_data(X_data_stream[i], \n",
    "                                           y_data_stream[i],\n",
    "                                           nominal_features,\n",
    "                                           ordinal_features,\n",
    "                                           config_training,\n",
    "                                           normalizer_list,\n",
    "                                           random_seed= 42,#random_seed,\n",
    "                                           verbosity=1)#verbosity)  \n",
    "        dataset_dict = {\n",
    "               'X_train': X_train,\n",
    "               'y_train': y_train,\n",
    "               'X_valid': X_valid,\n",
    "               'y_valid': y_valid,\n",
    "               'X_test': X_test,\n",
    "               'y_test': y_test,\n",
    "               'normalizer_list': normalizer_list\n",
    "               } \n",
    "\n",
    "        t1 = time.time()\n",
    "\n",
    "        t0 = time.time()\n",
    "        history = model_dict['GDT'].partial_fit(dataset_dict['X_train'],\n",
    "                  dataset_dict['y_train'],\n",
    "\n",
    "                  batch_size=config_training['gdt']['batch_size'], \n",
    "                  epochs=config_training['gdt']['epochs'], \n",
    "\n",
    "                  restarts = 0,\n",
    "                  drift_flag = flag,\n",
    "                  #config_test['gdt']['restarts'], \n",
    "                  #restart_type=config_test['gdt']['restart_type'], \n",
    "\n",
    "                  #early_stopping_epochs=config_training['gdt']['early_stopping_epochs'], \n",
    "                  #early_stopping_type=config_test['gdt']['early_stopping_type'],\n",
    "\n",
    "                  valid_data=(dataset_dict['X_valid'],dataset_dict['y_valid']))\n",
    "\n",
    "        flag=False\n",
    "        t1 = time.time()\n",
    "        timer['training']['GDT'] = timer['training']['GDT']+t1-t0\n",
    "\n",
    "\n",
    "        ###EVALUATION\n",
    "        y_test_data =dataset_dict['y_test'].values\n",
    "        temp_X_test = dataset_dict['X_test'].values\n",
    "        temp_X_train =X_train_with_valid.values\n",
    "        temp_y_train =y_train_with_valid.values\n",
    "\n",
    "\n",
    "        t0 = time.time()\n",
    "        #GDT\n",
    "        metric = \"f1\"\n",
    "       # y_test_data = dataset_dict['y_test']\n",
    "        y_pred_GDT_train = model_dict['GDT'].predict(enforce_numpy(dataset_dict['X_train'].values))\n",
    "        y_pred_GDT_train = np.nan_to_num(y_pred_GDT_train)\n",
    "        y_pred_GDT_train = np.round(y_pred_GDT_train)\n",
    "    \n",
    "        y_pred_GDT_valid = model_dict['GDT'].predict(enforce_numpy(dataset_dict['X_valid'].values))\n",
    "        y_pred_GDT_valid = np.nan_to_num(y_pred_GDT_valid)\n",
    "        y_pred_GDT_valid = np.round(y_pred_GDT_valid)    \n",
    "    \n",
    "        y_pred_GDT_test = model_dict['GDT'].predict(enforce_numpy(temp_X_test))\n",
    "        y_pred_GDT_test = np.nan_to_num(y_pred_GDT_test)\n",
    "        y_pred_GDT_test = np.round(y_pred_GDT_test)\n",
    "        \n",
    "     \n",
    "        GDT_f1_train = f1_score(dataset_dict['y_train'], y_pred_GDT_train)\n",
    "        GDT_f1_valid = f1_score(dataset_dict['y_valid'], y_pred_GDT_valid)\n",
    "        GDT_f1_test = f1_score(dataset_dict['y_test'], y_pred_GDT_test)\n",
    "\n",
    "        t1 = time.time()\n",
    "        timer['prediction']['GDT'] = timer['prediction']['GDT']+t1-t0\n",
    "        \n",
    "        \n",
    "        \n",
    "        \n",
    "        #VFDT\n",
    "        y_pred_VFDT_train = []\n",
    "        y_pred_VFDT_test = []\n",
    "        for i in range(0, len(temp_X_train)):\n",
    "            VFDT_classifier.partial_fit(np.array([temp_X_train[i]], np.float64), np.array([temp_y_train[i]], np.float64))\n",
    "        \n",
    "        for i in range(0, len(temp_X_train)):\n",
    "            y_pred_VFDT_train.append(VFDT_classifier.predict(np.array([temp_X_train[i]], np.float64))[0]) \n",
    "        for i in range(0, len(dataset_dict['X_test'])): \n",
    "            y_pred_VFDT_test.append(VFDT_classifier.predict(np.array([temp_X_test[i]], np.float64))[0])  \n",
    "        \n",
    "        VFDT_train = f1_score(temp_y_train, y_pred_VFDT_train)\n",
    "        VFDT_test = f1_score(y_test_data, y_pred_VFDT_test)\n",
    "\n",
    "\n",
    "        #CVFDT\n",
    "        y_pred_CVFDT_train = []\n",
    "        y_pred_CVFDT_test = []\n",
    "        for i in range(0, len(dataset_dict['X_train'])):\n",
    "            CVFDT_classifier.partial_fit(np.array([temp_X_train[i]], np.float64), np.array([temp_y_train[i]], np.float64))\n",
    "\n",
    "        for i in range(0, len(temp_X_train)):\n",
    "            y_pred_CVFDT_train.append(CVFDT_classifier.predict(np.array([temp_X_train[i]], np.float64))[0])    \n",
    "        for i in range(0, len(dataset_dict['X_test'])):\n",
    "            y_pred_CVFDT_test.append(CVFDT_classifier.predict(np.array([temp_X_test[i]], np.float64))[0])  \n",
    "        \n",
    "        CVFDT_train = f1_score(temp_y_train, y_pred_CVFDT_train)\n",
    "        CVFDT_test = f1_score(y_test_data,y_pred_CVFDT_test)\n",
    "                                        \n",
    "\n",
    "\n",
    "    \n",
    "        scores_GDT['train'] = np.append(scores_GDT['train'], GDT_f1_train)\n",
    "        scores_GDT['valid'] = np.append(scores_GDT['valid'], GDT_f1_valid)\n",
    "        scores_GDT['test'] = np.append(scores_GDT['test'], GDT_f1_test)\n",
    "                                        \n",
    "        scores_VFDT['train'] = np.append(scores_VFDT['train'], VFDT_train)\n",
    "        scores_VFDT['test'] = np.append(scores_VFDT['test'], VFDT_test)\n",
    "                                        \n",
    "        scores_CVFDT['train'] = np.append(scores_CVFDT['train'], CVFDT_train)\n",
    "        scores_CVFDT['test'] = np.append(scores_CVFDT['test'], CVFDT_test)\n",
    "                                        \n",
    "                                        \n",
    "       \n",
    "    results = pd.DataFrame(columns=['metric','train','validation','test'])\n",
    "    results.loc[len(results)] = ['f1',round(np.average(scores_GDT['train']),4),round(np.average(scores_GDT['valid']),4),round(np.average(scores_GDT['test']),4)]\n",
    "    results.loc[len(results)] = ['f1',round(np.average(scores_VFDT['train']),4),0,round(np.average(scores_VFDT['test']),4)]\n",
    "    results.loc[len(results)] = ['f1',round(np.average(scores_CVFDT['train']),4),0,round(np.average(scores_CVFDT['test']),4)]\n",
    "    results.to_csv('overfitting_results/'+dataset_name+'.csv')"
   ]
  },
  {
   "cell_type": "code",
   "execution_count": null,
   "id": "d8183a72-d7a4-4365-94e4-27e95007ff10",
   "metadata": {},
   "outputs": [],
   "source": [
    "#train, validation, test \n"
   ]
  },
  {
   "cell_type": "code",
   "execution_count": null,
   "id": "67f2c67f-108e-4407-9e68-e0d5da780e59",
   "metadata": {},
   "outputs": [],
   "source": []
  }
 ],
 "metadata": {
  "kernelspec": {
   "display_name": "env",
   "language": "python",
   "name": "env"
  },
  "language_info": {
   "codemirror_mode": {
    "name": "ipython",
    "version": 3
   },
   "file_extension": ".py",
   "mimetype": "text/x-python",
   "name": "python",
   "nbconvert_exporter": "python",
   "pygments_lexer": "ipython3",
   "version": "3.9.2"
  }
 },
 "nbformat": 4,
 "nbformat_minor": 5
}
