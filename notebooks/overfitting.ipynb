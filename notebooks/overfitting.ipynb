{
 "cells": [
  {
   "cell_type": "markdown",
   "id": "cc898a64-7f5e-4dd4-8c36-8a84c9c23cc6",
   "metadata": {},
   "source": [
    "<h1>Imports<h1>"
   ]
  },
  {
   "cell_type": "code",
   "execution_count": 1,
   "id": "dd07edfa-1d08-45b5-8dfc-b1e139a14099",
   "metadata": {},
   "outputs": [
    {
     "name": "stdout",
     "output_type": "stream",
     "text": [
      "/work/lurny/files/Thesis\n"
     ]
    }
   ],
   "source": [
    "#setting rood directory into ../NeuralPowerDisaggregation\n",
    "import os\n",
    "os.chdir(\"..\")\n",
    "print(os.getcwd())"
   ]
  },
  {
   "cell_type": "code",
   "execution_count": 2,
   "id": "d1c25207-6a37-4b41-8a97-0fe4a877110b",
   "metadata": {},
   "outputs": [],
   "source": [
    "from utilities.configs import *\n",
    "config1 = get_config_for_dataset('NOAA_Weather')"
   ]
  },
  {
   "cell_type": "code",
   "execution_count": 3,
   "id": "ed67d911-f7f1-4738-8bbd-1c5c20c7d417",
   "metadata": {},
   "outputs": [
    {
     "name": "stdout",
     "output_type": "stream",
     "text": [
      "2023-01-22--07-39-53326636\n"
     ]
    }
   ],
   "source": [
    "import numpy as np\n",
    "np.set_printoptions(suppress=True)\n",
    "\n",
    "import sklearn\n",
    "from sklearn.datasets import make_classification\n",
    "from sklearn.model_selection import train_test_split, ParameterGrid, ParameterSampler, GridSearchCV, RandomizedSearchCV, StratifiedKFold\n",
    "from sklearn.tree import DecisionTreeClassifier, plot_tree, DecisionTreeRegressor\n",
    "from sklearn.metrics import accuracy_score, f1_score, make_scorer\n",
    "from sklearn.compose import ColumnTransformer\n",
    "from sklearn.preprocessing import OneHotEncoder, MinMaxScaler, LabelEncoder, OrdinalEncoder\n",
    "#from pydl85 import DL85Classifier\n",
    "\n",
    "from livelossplot import PlotLosses\n",
    "\n",
    "import os\n",
    "from tqdm.notebook import tqdm\n",
    "from matplotlib import pyplot as plt\n",
    "\n",
    "from IPython.display import Image\n",
    "from IPython.display import display, clear_output\n",
    "\n",
    "import pandas as pd\n",
    "\n",
    "if config1['computation']['use_gpu']:\n",
    "    os.environ['CUDA_VISIBLE_DEVICES'] = str(config1['computation']['gpu_numbers'])\n",
    "    os.environ['TF_FORCE_GPU_ALLOW_GROWTH'] = 'true'\n",
    "    os.environ['XLA_FLAGS'] = \"--xla_gpu_cuda_data_dir=/usr/local/cuda-11.6\"\n",
    "    os.environ['TF_XLA_FLAGS'] = \"--tf_xla_enable_xla_devices --tf_xla_auto_jit=2\"    \n",
    "else:\n",
    "    os.environ['CUDA_VISIBLE_DEVICES'] = ''\n",
    "    os.environ['TF_FORCE_GPU_ALLOW_GROWTH'] = 'false' \n",
    "#os.environ['TF_XLA_FLAGS'] = \"--tf_xla_auto_jit=2 --tf_xla_cpu_global_jit\" \n",
    "\n",
    "\n",
    "import warnings\n",
    "warnings.filterwarnings('ignore')\n",
    "os.environ['TF_CPP_MIN_LOG_LEVEL'] = '3' \n",
    "os.environ[\"PYTHONWARNINGS\"] = \"ignore\"\n",
    "import logging\n",
    "\n",
    "import tensorflow as tf\n",
    "import tensorflow_addons as tfa\n",
    "\n",
    "tf.get_logger().setLevel('ERROR')\n",
    "tf.autograph.set_verbosity(3)\n",
    "\n",
    "np.seterr(all=\"ignore\")\n",
    "\n",
    "from keras import backend as K\n",
    "from keras.utils.generic_utils import get_custom_objects\n",
    "\n",
    "\n",
    "import seaborn as sns\n",
    "sns.set_style(\"darkgrid\")\n",
    "\n",
    "import time\n",
    "import random\n",
    "\n",
    "from utilities.utilities_GDT import *\n",
    "from utilities.GDT_for_streams import *\n",
    "\n",
    "from joblib import Parallel, delayed\n",
    "\n",
    "from itertools import product\n",
    "from collections.abc import Iterable\n",
    "\n",
    "from copy import deepcopy\n",
    "from pathlib import Path\n",
    "import pickle\n",
    "import dill\n",
    "\n",
    "from skmultiflow.trees import HoeffdingTreeClassifier\n",
    "from skmultiflow.trees import HoeffdingAdaptiveTreeClassifier\n",
    "from sklearn.metrics import f1_score\n",
    "from sklearn.metrics import accuracy_score\n",
    "from livelossplot import PlotLosses\n",
    "import time\n",
    "\n",
    "tf.random.set_seed(config1['computation']['random_seed'])\n",
    "np.random.seed(config1['computation']['random_seed'])\n",
    "random.seed(config1['computation']['random_seed'])\n",
    "\n",
    "from datetime import datetime\n",
    "timestr = datetime.utcnow().strftime('%Y-%m-%d--%H-%M-%S%f')\n",
    "print(timestr)\n",
    "os.makedirs(os.path.dirname(\"./evaluation_results/latex_tables/\" + timestr +\"/\"), exist_ok=True)\n",
    "\n",
    "filepath = './evaluation_results/depth' + str(config1['gdt']['depth']) + '/' + timestr + '/'\n",
    "Path(filepath).mkdir(parents=True, exist_ok=True)    \n",
    "\n",
    "\n",
    "pd.set_option('display.max_rows', 100)\n",
    "pd.set_option('display.max_columns', 100)"
   ]
  },
  {
   "cell_type": "code",
   "execution_count": 4,
   "id": "a6027aa6-692d-468d-a6a4-93b4f414a1ed",
   "metadata": {},
   "outputs": [
    {
     "name": "stdout",
     "output_type": "stream",
     "text": [
      "Num GPUs Available:  1\n",
      "Num XLA-GPUs Available:  1\n"
     ]
    }
   ],
   "source": [
    "print(\"Num GPUs Available: \", len(tf.config.experimental.list_physical_devices('GPU')))\n",
    "print(\"Num XLA-GPUs Available: \", len(tf.config.experimental.list_physical_devices('XLA_GPU')))"
   ]
  },
  {
   "cell_type": "code",
   "execution_count": 5,
   "id": "6664e044-346a-432c-b863-c757829efa1c",
   "metadata": {},
   "outputs": [],
   "source": [
    "import math\n",
    "def split_df_chunks(data_df,chunk_size):\n",
    "    total_length     = len(data_df)\n",
    "    normal_chunk_num = math.floor(total_length/chunk_size)\n",
    "    chunks = []\n",
    "    for i in range(normal_chunk_num):\n",
    "        chunk = data_df[(i*chunk_size):((i+1)*chunk_size)]\n",
    "        chunks.append(chunk)\n",
    "\n",
    "    return chunks"
   ]
  },
  {
   "cell_type": "markdown",
   "id": "9a71fa12-9914-4f47-a2e5-68a8751c8ce3",
   "metadata": {},
   "source": [
    "# Evaluation of agr_a dataset"
   ]
  },
  {
   "cell_type": "code",
   "execution_count": 6,
   "id": "b2eec461-b6f2-488d-9069-a548d8f91a97",
   "metadata": {},
   "outputs": [
    {
     "name": "stdout",
     "output_type": "stream",
     "text": [
      "Original Data Shape (selected):  (1000, 12)\n",
      "Original Data Shape (encoded):  (1000, 12)\n",
      "Original Data Class Distribution:  506  (true) / 494  (false)\n",
      "(600, 12) (600,)\n",
      "(200, 12) (200,)\n",
      "(200, 12) (200,)\n",
      "Min Ratio:  0.49\n",
      "Min Ratio:  0.5\n",
      "Min Ratio:  0.49\n",
      "Min Ratio:  0.5\n"
     ]
    },
    {
     "data": {
      "application/vnd.jupyter.widget-view+json": {
       "model_id": "ed2b508a374f4275b5efdda50cca6ab5",
       "version_major": 2,
       "version_minor": 0
      },
      "text/plain": [
       "restarts:   0%|          | 0/1 [00:00<?, ?it/s]"
      ]
     },
     "metadata": {},
     "output_type": "display_data"
    },
    {
     "data": {
      "application/vnd.jupyter.widget-view+json": {
       "model_id": "bc76566259d24148b6799e873db687ae",
       "version_major": 2,
       "version_minor": 0
      },
      "text/plain": [
       "epochs:   0%|          | 0/30 [00:00<?, ?it/s]"
      ]
     },
     "metadata": {},
     "output_type": "display_data"
    },
    {
     "name": "stdout",
     "output_type": "stream",
     "text": [
      "<tf.Variable 'Adam_2/learning_rate:0' shape=() dtype=float32>\n",
      "<tf.Variable 'Adam_2/learning_rate:0' shape=() dtype=float32>\n",
      "<tf.Variable 'Adam_2/learning_rate:0' shape=() dtype=float32>\n",
      "Original Data Shape (selected):  (1000, 12)\n",
      "Original Data Shape (encoded):  (1000, 12)\n",
      "Original Data Class Distribution:  702  (true) / 298  (false)\n",
      "(600, 12) (600,)\n",
      "(200, 12) (200,)\n",
      "(200, 12) (200,)\n",
      "Min Ratio:  0.2816666666666667\n",
      "Min Ratio:  0.5\n",
      "Min Ratio:  0.28875\n",
      "Min Ratio:  0.5\n"
     ]
    },
    {
     "data": {
      "application/vnd.jupyter.widget-view+json": {
       "model_id": "cff0d3e583ad4f198394e40f0e487aee",
       "version_major": 2,
       "version_minor": 0
      },
      "text/plain": [
       "restarts:   0%|          | 0/1 [00:00<?, ?it/s]"
      ]
     },
     "metadata": {},
     "output_type": "display_data"
    },
    {
     "data": {
      "application/vnd.jupyter.widget-view+json": {
       "model_id": "7e58fd92535d4ff0a3751716615def38",
       "version_major": 2,
       "version_minor": 0
      },
      "text/plain": [
       "epochs:   0%|          | 0/1 [00:00<?, ?it/s]"
      ]
     },
     "metadata": {},
     "output_type": "display_data"
    },
    {
     "name": "stdout",
     "output_type": "stream",
     "text": [
      "<tf.Variable 'Adam_2/learning_rate:0' shape=() dtype=float32>\n",
      "<tf.Variable 'Adam_2/learning_rate:0' shape=() dtype=float32>\n",
      "Original Data Shape (selected):  (1000, 12)\n",
      "Original Data Shape (encoded):  (1000, 12)\n",
      "Original Data Class Distribution:  589  (true) / 411  (false)\n",
      "(600, 12) (600,)\n",
      "(200, 12) (200,)\n",
      "(200, 12) (200,)\n",
      "Min Ratio:  0.4166666666666667\n",
      "Min Ratio:  0.5\n",
      "Min Ratio:  0.4125\n",
      "Min Ratio:  0.5\n"
     ]
    },
    {
     "data": {
      "application/vnd.jupyter.widget-view+json": {
       "model_id": "8a7d4e839a6f4356a881110a91de1e1c",
       "version_major": 2,
       "version_minor": 0
      },
      "text/plain": [
       "restarts:   0%|          | 0/1 [00:00<?, ?it/s]"
      ]
     },
     "metadata": {},
     "output_type": "display_data"
    },
    {
     "data": {
      "application/vnd.jupyter.widget-view+json": {
       "model_id": "cb3607d22348485ab044a41d2d4dd183",
       "version_major": 2,
       "version_minor": 0
      },
      "text/plain": [
       "epochs:   0%|          | 0/1 [00:00<?, ?it/s]"
      ]
     },
     "metadata": {},
     "output_type": "display_data"
    },
    {
     "name": "stdout",
     "output_type": "stream",
     "text": [
      "<tf.Variable 'Adam_2/learning_rate:0' shape=() dtype=float32>\n",
      "<tf.Variable 'Adam_2/learning_rate:0' shape=() dtype=float32>\n",
      "Original Data Shape (selected):  (1000, 12)\n",
      "Original Data Shape (encoded):  (1000, 12)\n",
      "Original Data Class Distribution:  610  (true) / 390  (false)\n",
      "(600, 12) (600,)\n",
      "(200, 12) (200,)\n",
      "(200, 12) (200,)\n",
      "Min Ratio:  0.415\n",
      "Min Ratio:  0.5\n",
      "Min Ratio:  0.395\n",
      "Min Ratio:  0.5\n"
     ]
    },
    {
     "data": {
      "application/vnd.jupyter.widget-view+json": {
       "model_id": "d643c900f2664af1885b8d418ddee93b",
       "version_major": 2,
       "version_minor": 0
      },
      "text/plain": [
       "restarts:   0%|          | 0/1 [00:00<?, ?it/s]"
      ]
     },
     "metadata": {},
     "output_type": "display_data"
    },
    {
     "data": {
      "application/vnd.jupyter.widget-view+json": {
       "model_id": "4112040f430a496f8c1ae3e11da6b615",
       "version_major": 2,
       "version_minor": 0
      },
      "text/plain": [
       "epochs:   0%|          | 0/1 [00:00<?, ?it/s]"
      ]
     },
     "metadata": {},
     "output_type": "display_data"
    },
    {
     "name": "stdout",
     "output_type": "stream",
     "text": [
      "<tf.Variable 'Adam_2/learning_rate:0' shape=() dtype=float32>\n",
      "<tf.Variable 'Adam_2/learning_rate:0' shape=() dtype=float32>\n",
      "Original Data Shape (selected):  (1000, 12)\n",
      "Original Data Shape (encoded):  (1000, 12)\n",
      "Original Data Class Distribution:  646  (true) / 354  (false)\n",
      "(600, 12) (600,)\n",
      "(200, 12) (200,)\n",
      "(200, 12) (200,)\n",
      "Min Ratio:  0.3566666666666667\n",
      "Min Ratio:  0.5\n",
      "Min Ratio:  0.3525\n",
      "Min Ratio:  0.5\n"
     ]
    },
    {
     "data": {
      "application/vnd.jupyter.widget-view+json": {
       "model_id": "74b5fc810fd0446492dd620ed0ea8577",
       "version_major": 2,
       "version_minor": 0
      },
      "text/plain": [
       "restarts:   0%|          | 0/1 [00:00<?, ?it/s]"
      ]
     },
     "metadata": {},
     "output_type": "display_data"
    },
    {
     "data": {
      "application/vnd.jupyter.widget-view+json": {
       "model_id": "4fe0a162a3614d2dac723c4e84081223",
       "version_major": 2,
       "version_minor": 0
      },
      "text/plain": [
       "epochs:   0%|          | 0/1 [00:00<?, ?it/s]"
      ]
     },
     "metadata": {},
     "output_type": "display_data"
    },
    {
     "name": "stdout",
     "output_type": "stream",
     "text": [
      "<tf.Variable 'Adam_2/learning_rate:0' shape=() dtype=float32>\n",
      "<tf.Variable 'Adam_2/learning_rate:0' shape=() dtype=float32>\n",
      "Original Data Shape (selected):  (1000, 12)\n",
      "Original Data Shape (encoded):  (1000, 12)\n",
      "Original Data Class Distribution:  582  (true) / 418  (false)\n",
      "(600, 12) (600,)\n",
      "(200, 12) (200,)\n",
      "(200, 12) (200,)\n",
      "Min Ratio:  0.435\n",
      "Min Ratio:  0.5\n",
      "Min Ratio:  0.43625\n",
      "Min Ratio:  0.5\n"
     ]
    },
    {
     "data": {
      "application/vnd.jupyter.widget-view+json": {
       "model_id": "1eb96b4a45634db0914f97bc271ec29e",
       "version_major": 2,
       "version_minor": 0
      },
      "text/plain": [
       "restarts:   0%|          | 0/1 [00:00<?, ?it/s]"
      ]
     },
     "metadata": {},
     "output_type": "display_data"
    },
    {
     "data": {
      "application/vnd.jupyter.widget-view+json": {
       "model_id": "0f8cf77278f44e9bb439fd890d748a89",
       "version_major": 2,
       "version_minor": 0
      },
      "text/plain": [
       "epochs:   0%|          | 0/1 [00:00<?, ?it/s]"
      ]
     },
     "metadata": {},
     "output_type": "display_data"
    },
    {
     "name": "stdout",
     "output_type": "stream",
     "text": [
      "<tf.Variable 'Adam_2/learning_rate:0' shape=() dtype=float32>\n",
      "<tf.Variable 'Adam_2/learning_rate:0' shape=() dtype=float32>\n",
      "Original Data Shape (selected):  (1000, 12)\n",
      "Original Data Shape (encoded):  (1000, 12)\n",
      "Original Data Class Distribution:  579  (true) / 421  (false)\n",
      "(600, 12) (600,)\n",
      "(200, 12) (200,)\n",
      "(200, 12) (200,)\n",
      "Min Ratio:  0.43333333333333335\n",
      "Min Ratio:  0.5\n",
      "Min Ratio:  0.42\n",
      "Min Ratio:  0.5\n"
     ]
    },
    {
     "data": {
      "application/vnd.jupyter.widget-view+json": {
       "model_id": "b12e3a2ccd3c4516bf7cfa7a61e055c4",
       "version_major": 2,
       "version_minor": 0
      },
      "text/plain": [
       "restarts:   0%|          | 0/1 [00:00<?, ?it/s]"
      ]
     },
     "metadata": {},
     "output_type": "display_data"
    },
    {
     "data": {
      "application/vnd.jupyter.widget-view+json": {
       "model_id": "067d552b71494026902c91ea84b3477e",
       "version_major": 2,
       "version_minor": 0
      },
      "text/plain": [
       "epochs:   0%|          | 0/1 [00:00<?, ?it/s]"
      ]
     },
     "metadata": {},
     "output_type": "display_data"
    },
    {
     "name": "stdout",
     "output_type": "stream",
     "text": [
      "<tf.Variable 'Adam_2/learning_rate:0' shape=() dtype=float32>\n",
      "<tf.Variable 'Adam_2/learning_rate:0' shape=() dtype=float32>\n",
      "Original Data Shape (selected):  (1000, 12)\n",
      "Original Data Shape (encoded):  (1000, 12)\n",
      "Original Data Class Distribution:  474  (true) / 526  (false)\n",
      "(600, 12) (600,)\n",
      "(200, 12) (200,)\n",
      "(200, 12) (200,)\n",
      "Min Ratio:  0.49166666666666664\n",
      "Min Ratio:  0.5\n",
      "Min Ratio:  0.48625\n",
      "Min Ratio:  0.5\n"
     ]
    },
    {
     "data": {
      "application/vnd.jupyter.widget-view+json": {
       "model_id": "f8e830b418124544a5eb88f0858f0707",
       "version_major": 2,
       "version_minor": 0
      },
      "text/plain": [
       "restarts:   0%|          | 0/1 [00:00<?, ?it/s]"
      ]
     },
     "metadata": {},
     "output_type": "display_data"
    },
    {
     "data": {
      "application/vnd.jupyter.widget-view+json": {
       "model_id": "162fc515ec9b475cbf38acc0e1549ecc",
       "version_major": 2,
       "version_minor": 0
      },
      "text/plain": [
       "epochs:   0%|          | 0/1 [00:00<?, ?it/s]"
      ]
     },
     "metadata": {},
     "output_type": "display_data"
    },
    {
     "name": "stdout",
     "output_type": "stream",
     "text": [
      "<tf.Variable 'Adam_2/learning_rate:0' shape=() dtype=float32>\n",
      "<tf.Variable 'Adam_2/learning_rate:0' shape=() dtype=float32>\n",
      "Original Data Shape (selected):  (1000, 12)\n",
      "Original Data Shape (encoded):  (1000, 12)\n",
      "Original Data Class Distribution:  475  (true) / 525  (false)\n",
      "(600, 12) (600,)\n",
      "(200, 12) (200,)\n",
      "(200, 12) (200,)\n",
      "Min Ratio:  0.45166666666666666\n",
      "Min Ratio:  0.5\n",
      "Min Ratio:  0.46875\n",
      "Min Ratio:  0.5\n"
     ]
    },
    {
     "data": {
      "application/vnd.jupyter.widget-view+json": {
       "model_id": "696df16a6c7a4eef8b16f6d51cdd9f08",
       "version_major": 2,
       "version_minor": 0
      },
      "text/plain": [
       "restarts:   0%|          | 0/1 [00:00<?, ?it/s]"
      ]
     },
     "metadata": {},
     "output_type": "display_data"
    },
    {
     "data": {
      "application/vnd.jupyter.widget-view+json": {
       "model_id": "65e04c5e07294243b772ac3dae15b372",
       "version_major": 2,
       "version_minor": 0
      },
      "text/plain": [
       "epochs:   0%|          | 0/1 [00:00<?, ?it/s]"
      ]
     },
     "metadata": {},
     "output_type": "display_data"
    },
    {
     "name": "stdout",
     "output_type": "stream",
     "text": [
      "<tf.Variable 'Adam_2/learning_rate:0' shape=() dtype=float32>\n",
      "<tf.Variable 'Adam_2/learning_rate:0' shape=() dtype=float32>\n",
      "Original Data Shape (selected):  (1000, 12)\n",
      "Original Data Shape (encoded):  (1000, 12)\n",
      "Original Data Class Distribution:  504  (true) / 496  (false)\n",
      "(600, 12) (600,)\n",
      "(200, 12) (200,)\n",
      "(200, 12) (200,)\n",
      "Min Ratio:  0.48333333333333334\n",
      "Min Ratio:  0.5\n",
      "Min Ratio:  0.49625\n",
      "Min Ratio:  0.5\n"
     ]
    },
    {
     "data": {
      "application/vnd.jupyter.widget-view+json": {
       "model_id": "07d801652bc3400bbd65f72709c94494",
       "version_major": 2,
       "version_minor": 0
      },
      "text/plain": [
       "restarts:   0%|          | 0/1 [00:00<?, ?it/s]"
      ]
     },
     "metadata": {},
     "output_type": "display_data"
    },
    {
     "data": {
      "application/vnd.jupyter.widget-view+json": {
       "model_id": "d67951a553274f5db480b6f17d9af541",
       "version_major": 2,
       "version_minor": 0
      },
      "text/plain": [
       "epochs:   0%|          | 0/1 [00:00<?, ?it/s]"
      ]
     },
     "metadata": {},
     "output_type": "display_data"
    },
    {
     "name": "stdout",
     "output_type": "stream",
     "text": [
      "<tf.Variable 'Adam_2/learning_rate:0' shape=() dtype=float32>\n",
      "<tf.Variable 'Adam_2/learning_rate:0' shape=() dtype=float32>\n",
      "Original Data Shape (selected):  (1000, 12)\n",
      "Original Data Shape (encoded):  (1000, 12)\n",
      "Original Data Class Distribution:  520  (true) / 480  (false)\n",
      "(600, 12) (600,)\n",
      "(200, 12) (200,)\n",
      "(200, 12) (200,)\n",
      "Min Ratio:  0.455\n",
      "Min Ratio:  0.5\n",
      "Min Ratio:  0.46625\n",
      "Min Ratio:  0.5\n"
     ]
    },
    {
     "data": {
      "application/vnd.jupyter.widget-view+json": {
       "model_id": "dd87c85fcacb4503a32ef8cfe8810894",
       "version_major": 2,
       "version_minor": 0
      },
      "text/plain": [
       "restarts:   0%|          | 0/1 [00:00<?, ?it/s]"
      ]
     },
     "metadata": {},
     "output_type": "display_data"
    },
    {
     "data": {
      "application/vnd.jupyter.widget-view+json": {
       "model_id": "150f4f97c20749debdd5d1e696736ebc",
       "version_major": 2,
       "version_minor": 0
      },
      "text/plain": [
       "epochs:   0%|          | 0/1 [00:00<?, ?it/s]"
      ]
     },
     "metadata": {},
     "output_type": "display_data"
    },
    {
     "name": "stdout",
     "output_type": "stream",
     "text": [
      "<tf.Variable 'Adam_2/learning_rate:0' shape=() dtype=float32>\n",
      "<tf.Variable 'Adam_2/learning_rate:0' shape=() dtype=float32>\n",
      "Original Data Shape (selected):  (1000, 12)\n",
      "Original Data Shape (encoded):  (1000, 12)\n",
      "Original Data Class Distribution:  551  (true) / 449  (false)\n",
      "(600, 12) (600,)\n",
      "(200, 12) (200,)\n",
      "(200, 12) (200,)\n",
      "Min Ratio:  0.455\n",
      "Min Ratio:  0.5\n",
      "Min Ratio:  0.4575\n",
      "Min Ratio:  0.5\n"
     ]
    },
    {
     "data": {
      "application/vnd.jupyter.widget-view+json": {
       "model_id": "1be9328cd29b45d2b2d573fa9cc2c7b2",
       "version_major": 2,
       "version_minor": 0
      },
      "text/plain": [
       "restarts:   0%|          | 0/1 [00:00<?, ?it/s]"
      ]
     },
     "metadata": {},
     "output_type": "display_data"
    },
    {
     "data": {
      "application/vnd.jupyter.widget-view+json": {
       "model_id": "2304687241324f2cba7809fed6120ca7",
       "version_major": 2,
       "version_minor": 0
      },
      "text/plain": [
       "epochs:   0%|          | 0/1 [00:00<?, ?it/s]"
      ]
     },
     "metadata": {},
     "output_type": "display_data"
    },
    {
     "name": "stdout",
     "output_type": "stream",
     "text": [
      "<tf.Variable 'Adam_2/learning_rate:0' shape=() dtype=float32>\n",
      "<tf.Variable 'Adam_2/learning_rate:0' shape=() dtype=float32>\n",
      "Original Data Shape (selected):  (1000, 12)\n",
      "Original Data Shape (encoded):  (1000, 12)\n",
      "Original Data Class Distribution:  502  (true) / 498  (false)\n",
      "(600, 12) (600,)\n",
      "(200, 12) (200,)\n",
      "(200, 12) (200,)\n",
      "Min Ratio:  0.49333333333333335\n",
      "Min Ratio:  0.5\n",
      "Min Ratio:  0.49625\n",
      "Min Ratio:  0.5\n"
     ]
    },
    {
     "data": {
      "application/vnd.jupyter.widget-view+json": {
       "model_id": "4e4559eccf054686837574967f4bda3c",
       "version_major": 2,
       "version_minor": 0
      },
      "text/plain": [
       "restarts:   0%|          | 0/1 [00:00<?, ?it/s]"
      ]
     },
     "metadata": {},
     "output_type": "display_data"
    },
    {
     "data": {
      "application/vnd.jupyter.widget-view+json": {
       "model_id": "6ce0aeaad3ba457fb51aebed1864f599",
       "version_major": 2,
       "version_minor": 0
      },
      "text/plain": [
       "epochs:   0%|          | 0/1 [00:00<?, ?it/s]"
      ]
     },
     "metadata": {},
     "output_type": "display_data"
    },
    {
     "name": "stdout",
     "output_type": "stream",
     "text": [
      "<tf.Variable 'Adam_2/learning_rate:0' shape=() dtype=float32>\n",
      "<tf.Variable 'Adam_2/learning_rate:0' shape=() dtype=float32>\n",
      "Original Data Shape (selected):  (1000, 12)\n",
      "Original Data Shape (encoded):  (1000, 12)\n",
      "Original Data Class Distribution:  498  (true) / 502  (false)\n",
      "(600, 12) (600,)\n",
      "(200, 12) (200,)\n",
      "(200, 12) (200,)\n",
      "Min Ratio:  0.49833333333333335\n",
      "Min Ratio:  0.5\n",
      "Min Ratio:  0.4975\n",
      "Min Ratio:  0.5\n"
     ]
    },
    {
     "data": {
      "application/vnd.jupyter.widget-view+json": {
       "model_id": "e5bb6e787b5c4f609edd423fc9e1544b",
       "version_major": 2,
       "version_minor": 0
      },
      "text/plain": [
       "restarts:   0%|          | 0/1 [00:00<?, ?it/s]"
      ]
     },
     "metadata": {},
     "output_type": "display_data"
    },
    {
     "data": {
      "application/vnd.jupyter.widget-view+json": {
       "model_id": "e922d21b203b4523a747540a5643bd9b",
       "version_major": 2,
       "version_minor": 0
      },
      "text/plain": [
       "epochs:   0%|          | 0/1 [00:00<?, ?it/s]"
      ]
     },
     "metadata": {},
     "output_type": "display_data"
    },
    {
     "name": "stdout",
     "output_type": "stream",
     "text": [
      "<tf.Variable 'Adam_2/learning_rate:0' shape=() dtype=float32>\n",
      "<tf.Variable 'Adam_2/learning_rate:0' shape=() dtype=float32>\n",
      "Original Data Shape (selected):  (1000, 12)\n",
      "Original Data Shape (encoded):  (1000, 12)\n",
      "Original Data Class Distribution:  575  (true) / 425  (false)\n",
      "(600, 12) (600,)\n",
      "(200, 12) (200,)\n",
      "(200, 12) (200,)\n",
      "Min Ratio:  0.43666666666666665\n",
      "Min Ratio:  0.5\n",
      "Min Ratio:  0.44125\n",
      "Min Ratio:  0.5\n"
     ]
    },
    {
     "data": {
      "application/vnd.jupyter.widget-view+json": {
       "model_id": "154996b263aa43b88d85ec38c8a2f470",
       "version_major": 2,
       "version_minor": 0
      },
      "text/plain": [
       "restarts:   0%|          | 0/1 [00:00<?, ?it/s]"
      ]
     },
     "metadata": {},
     "output_type": "display_data"
    },
    {
     "data": {
      "application/vnd.jupyter.widget-view+json": {
       "model_id": "8603a9b70268486ba7ae4c1cad330c7a",
       "version_major": 2,
       "version_minor": 0
      },
      "text/plain": [
       "epochs:   0%|          | 0/1 [00:00<?, ?it/s]"
      ]
     },
     "metadata": {},
     "output_type": "display_data"
    },
    {
     "name": "stdout",
     "output_type": "stream",
     "text": [
      "<tf.Variable 'Adam_2/learning_rate:0' shape=() dtype=float32>\n",
      "<tf.Variable 'Adam_2/learning_rate:0' shape=() dtype=float32>\n",
      "Original Data Shape (selected):  (1000, 12)\n",
      "Original Data Shape (encoded):  (1000, 12)\n",
      "Original Data Class Distribution:  579  (true) / 421  (false)\n",
      "(600, 12) (600,)\n",
      "(200, 12) (200,)\n",
      "(200, 12) (200,)\n",
      "Min Ratio:  0.4166666666666667\n",
      "Min Ratio:  0.5\n",
      "Min Ratio:  0.42625\n",
      "Min Ratio:  0.5\n"
     ]
    },
    {
     "data": {
      "application/vnd.jupyter.widget-view+json": {
       "model_id": "d9106eeade644aeeaa518468971b7958",
       "version_major": 2,
       "version_minor": 0
      },
      "text/plain": [
       "restarts:   0%|          | 0/1 [00:00<?, ?it/s]"
      ]
     },
     "metadata": {},
     "output_type": "display_data"
    },
    {
     "data": {
      "application/vnd.jupyter.widget-view+json": {
       "model_id": "f1c16c9224c042eb87421da82111860d",
       "version_major": 2,
       "version_minor": 0
      },
      "text/plain": [
       "epochs:   0%|          | 0/1 [00:00<?, ?it/s]"
      ]
     },
     "metadata": {},
     "output_type": "display_data"
    },
    {
     "name": "stdout",
     "output_type": "stream",
     "text": [
      "<tf.Variable 'Adam_2/learning_rate:0' shape=() dtype=float32>\n",
      "<tf.Variable 'Adam_2/learning_rate:0' shape=() dtype=float32>\n",
      "Original Data Shape (selected):  (1000, 12)\n",
      "Original Data Shape (encoded):  (1000, 12)\n",
      "Original Data Class Distribution:  640  (true) / 360  (false)\n",
      "(600, 12) (600,)\n",
      "(200, 12) (200,)\n",
      "(200, 12) (200,)\n",
      "Min Ratio:  0.35\n",
      "Min Ratio:  0.5\n",
      "Min Ratio:  0.34625\n",
      "Min Ratio:  0.5\n"
     ]
    },
    {
     "data": {
      "application/vnd.jupyter.widget-view+json": {
       "model_id": "9fec4c69e4244c1599c0ad40149576bb",
       "version_major": 2,
       "version_minor": 0
      },
      "text/plain": [
       "restarts:   0%|          | 0/1 [00:00<?, ?it/s]"
      ]
     },
     "metadata": {},
     "output_type": "display_data"
    },
    {
     "data": {
      "application/vnd.jupyter.widget-view+json": {
       "model_id": "63a35bbb8fb94677a90a48f7b198a4e1",
       "version_major": 2,
       "version_minor": 0
      },
      "text/plain": [
       "epochs:   0%|          | 0/1 [00:00<?, ?it/s]"
      ]
     },
     "metadata": {},
     "output_type": "display_data"
    },
    {
     "name": "stdout",
     "output_type": "stream",
     "text": [
      "<tf.Variable 'Adam_2/learning_rate:0' shape=() dtype=float32>\n",
      "<tf.Variable 'Adam_2/learning_rate:0' shape=() dtype=float32>\n",
      "Original Data Shape (selected):  (1000, 12)\n",
      "Original Data Shape (encoded):  (1000, 12)\n",
      "Original Data Class Distribution:  585  (true) / 415  (false)\n",
      "(600, 12) (600,)\n",
      "(200, 12) (200,)\n",
      "(200, 12) (200,)\n",
      "Min Ratio:  0.3983333333333333\n",
      "Min Ratio:  0.5\n",
      "Min Ratio:  0.4125\n",
      "Min Ratio:  0.5\n"
     ]
    },
    {
     "data": {
      "application/vnd.jupyter.widget-view+json": {
       "model_id": "ecbc388df35549c99296b8998f99423b",
       "version_major": 2,
       "version_minor": 0
      },
      "text/plain": [
       "restarts:   0%|          | 0/1 [00:00<?, ?it/s]"
      ]
     },
     "metadata": {},
     "output_type": "display_data"
    },
    {
     "data": {
      "application/vnd.jupyter.widget-view+json": {
       "model_id": "171d4312996a403da76f65348d794ec9",
       "version_major": 2,
       "version_minor": 0
      },
      "text/plain": [
       "epochs:   0%|          | 0/1 [00:00<?, ?it/s]"
      ]
     },
     "metadata": {},
     "output_type": "display_data"
    },
    {
     "name": "stdout",
     "output_type": "stream",
     "text": [
      "<tf.Variable 'Adam_2/learning_rate:0' shape=() dtype=float32>\n",
      "<tf.Variable 'Adam_2/learning_rate:0' shape=() dtype=float32>\n",
      "Original Data Shape (selected):  (1000, 12)\n",
      "Original Data Shape (encoded):  (1000, 12)\n",
      "Original Data Class Distribution:  646  (true) / 354  (false)\n",
      "(600, 12) (600,)\n",
      "(200, 12) (200,)\n",
      "(200, 12) (200,)\n",
      "Min Ratio:  0.36833333333333335\n",
      "Min Ratio:  0.5\n",
      "Min Ratio:  0.355\n",
      "Min Ratio:  0.5\n"
     ]
    },
    {
     "data": {
      "application/vnd.jupyter.widget-view+json": {
       "model_id": "c07fae7e8ddb488db54c5fff56263103",
       "version_major": 2,
       "version_minor": 0
      },
      "text/plain": [
       "restarts:   0%|          | 0/1 [00:00<?, ?it/s]"
      ]
     },
     "metadata": {},
     "output_type": "display_data"
    },
    {
     "data": {
      "application/vnd.jupyter.widget-view+json": {
       "model_id": "009c10dbdadb4e8a9deb571cf74d1003",
       "version_major": 2,
       "version_minor": 0
      },
      "text/plain": [
       "epochs:   0%|          | 0/1 [00:00<?, ?it/s]"
      ]
     },
     "metadata": {},
     "output_type": "display_data"
    },
    {
     "name": "stdout",
     "output_type": "stream",
     "text": [
      "<tf.Variable 'Adam_2/learning_rate:0' shape=() dtype=float32>\n",
      "<tf.Variable 'Adam_2/learning_rate:0' shape=() dtype=float32>\n",
      "Original Data Shape (selected):  (1000, 12)\n",
      "Original Data Shape (encoded):  (1000, 12)\n",
      "Original Data Class Distribution:  492  (true) / 508  (false)\n",
      "(600, 12) (600,)\n",
      "(200, 12) (200,)\n",
      "(200, 12) (200,)\n",
      "Min Ratio:  0.49833333333333335\n",
      "Min Ratio:  0.5\n",
      "Min Ratio:  0.4875\n",
      "Min Ratio:  0.5\n"
     ]
    },
    {
     "data": {
      "application/vnd.jupyter.widget-view+json": {
       "model_id": "b9f9e9bfec364bdba2f99dcb0d2d5943",
       "version_major": 2,
       "version_minor": 0
      },
      "text/plain": [
       "restarts:   0%|          | 0/1 [00:00<?, ?it/s]"
      ]
     },
     "metadata": {},
     "output_type": "display_data"
    },
    {
     "data": {
      "application/vnd.jupyter.widget-view+json": {
       "model_id": "e56e8b1d7f3b421390c8f813af0758bd",
       "version_major": 2,
       "version_minor": 0
      },
      "text/plain": [
       "epochs:   0%|          | 0/1 [00:00<?, ?it/s]"
      ]
     },
     "metadata": {},
     "output_type": "display_data"
    },
    {
     "name": "stdout",
     "output_type": "stream",
     "text": [
      "<tf.Variable 'Adam_2/learning_rate:0' shape=() dtype=float32>\n",
      "<tf.Variable 'Adam_2/learning_rate:0' shape=() dtype=float32>\n",
      "Original Data Shape (selected):  (1000, 12)\n",
      "Original Data Shape (encoded):  (1000, 12)\n",
      "Original Data Class Distribution:  556  (true) / 444  (false)\n",
      "(600, 12) (600,)\n",
      "(200, 12) (200,)\n",
      "(200, 12) (200,)\n",
      "Min Ratio:  0.445\n",
      "Min Ratio:  0.5\n",
      "Min Ratio:  0.44375\n",
      "Min Ratio:  0.5\n"
     ]
    },
    {
     "data": {
      "application/vnd.jupyter.widget-view+json": {
       "model_id": "9a3011fc98e94c4a8d85d2093f02ab71",
       "version_major": 2,
       "version_minor": 0
      },
      "text/plain": [
       "restarts:   0%|          | 0/1 [00:00<?, ?it/s]"
      ]
     },
     "metadata": {},
     "output_type": "display_data"
    },
    {
     "data": {
      "application/vnd.jupyter.widget-view+json": {
       "model_id": "3a800e8bfc964e8baa69d39a1adaaa6e",
       "version_major": 2,
       "version_minor": 0
      },
      "text/plain": [
       "epochs:   0%|          | 0/1 [00:00<?, ?it/s]"
      ]
     },
     "metadata": {},
     "output_type": "display_data"
    },
    {
     "name": "stdout",
     "output_type": "stream",
     "text": [
      "<tf.Variable 'Adam_2/learning_rate:0' shape=() dtype=float32>\n",
      "<tf.Variable 'Adam_2/learning_rate:0' shape=() dtype=float32>\n",
      "Original Data Shape (selected):  (1000, 12)\n",
      "Original Data Shape (encoded):  (1000, 12)\n",
      "Original Data Class Distribution:  726  (true) / 274  (false)\n",
      "(600, 12) (600,)\n",
      "(200, 12) (200,)\n",
      "(200, 12) (200,)\n",
      "Min Ratio:  0.27166666666666667\n",
      "Min Ratio:  0.5\n",
      "Min Ratio:  0.2675\n",
      "Min Ratio:  0.5\n"
     ]
    },
    {
     "data": {
      "application/vnd.jupyter.widget-view+json": {
       "model_id": "893f7d1b15a34bb2b1cd853f8653e6fb",
       "version_major": 2,
       "version_minor": 0
      },
      "text/plain": [
       "restarts:   0%|          | 0/1 [00:00<?, ?it/s]"
      ]
     },
     "metadata": {},
     "output_type": "display_data"
    },
    {
     "data": {
      "application/vnd.jupyter.widget-view+json": {
       "model_id": "931813c89f934744bfd1270644e0564d",
       "version_major": 2,
       "version_minor": 0
      },
      "text/plain": [
       "epochs:   0%|          | 0/1 [00:00<?, ?it/s]"
      ]
     },
     "metadata": {},
     "output_type": "display_data"
    },
    {
     "name": "stdout",
     "output_type": "stream",
     "text": [
      "<tf.Variable 'Adam_2/learning_rate:0' shape=() dtype=float32>\n",
      "<tf.Variable 'Adam_2/learning_rate:0' shape=() dtype=float32>\n",
      "Original Data Shape (selected):  (1000, 12)\n",
      "Original Data Shape (encoded):  (1000, 12)\n",
      "Original Data Class Distribution:  573  (true) / 427  (false)\n",
      "(600, 12) (600,)\n",
      "(200, 12) (200,)\n",
      "(200, 12) (200,)\n",
      "Min Ratio:  0.4066666666666667\n",
      "Min Ratio:  0.5\n",
      "Min Ratio:  0.40875\n",
      "Min Ratio:  0.5\n"
     ]
    },
    {
     "data": {
      "application/vnd.jupyter.widget-view+json": {
       "model_id": "c67435ab25cd41c9bd8b70b93a7d41ba",
       "version_major": 2,
       "version_minor": 0
      },
      "text/plain": [
       "restarts:   0%|          | 0/1 [00:00<?, ?it/s]"
      ]
     },
     "metadata": {},
     "output_type": "display_data"
    },
    {
     "data": {
      "application/vnd.jupyter.widget-view+json": {
       "model_id": "64520c4e8aac41f388344276718114ed",
       "version_major": 2,
       "version_minor": 0
      },
      "text/plain": [
       "epochs:   0%|          | 0/1 [00:00<?, ?it/s]"
      ]
     },
     "metadata": {},
     "output_type": "display_data"
    },
    {
     "name": "stdout",
     "output_type": "stream",
     "text": [
      "<tf.Variable 'Adam_2/learning_rate:0' shape=() dtype=float32>\n",
      "<tf.Variable 'Adam_2/learning_rate:0' shape=() dtype=float32>\n",
      "Original Data Shape (selected):  (1000, 12)\n",
      "Original Data Shape (encoded):  (1000, 12)\n",
      "Original Data Class Distribution:  604  (true) / 396  (false)\n",
      "(600, 12) (600,)\n",
      "(200, 12) (200,)\n",
      "(200, 12) (200,)\n",
      "Min Ratio:  0.385\n",
      "Min Ratio:  0.5\n",
      "Min Ratio:  0.39375\n",
      "Min Ratio:  0.5\n"
     ]
    },
    {
     "data": {
      "application/vnd.jupyter.widget-view+json": {
       "model_id": "2eae10f241f24c35a200421b46f7288c",
       "version_major": 2,
       "version_minor": 0
      },
      "text/plain": [
       "restarts:   0%|          | 0/1 [00:00<?, ?it/s]"
      ]
     },
     "metadata": {},
     "output_type": "display_data"
    },
    {
     "data": {
      "application/vnd.jupyter.widget-view+json": {
       "model_id": "ea3a0af358504eff8d87a1b7fe1b476c",
       "version_major": 2,
       "version_minor": 0
      },
      "text/plain": [
       "epochs:   0%|          | 0/1 [00:00<?, ?it/s]"
      ]
     },
     "metadata": {},
     "output_type": "display_data"
    },
    {
     "name": "stdout",
     "output_type": "stream",
     "text": [
      "<tf.Variable 'Adam_2/learning_rate:0' shape=() dtype=float32>\n",
      "<tf.Variable 'Adam_2/learning_rate:0' shape=() dtype=float32>\n",
      "Original Data Shape (selected):  (1000, 12)\n",
      "Original Data Shape (encoded):  (1000, 12)\n",
      "Original Data Class Distribution:  623  (true) / 377  (false)\n",
      "(600, 12) (600,)\n",
      "(200, 12) (200,)\n",
      "(200, 12) (200,)\n",
      "Min Ratio:  0.37166666666666665\n",
      "Min Ratio:  0.5\n",
      "Min Ratio:  0.36125\n",
      "Min Ratio:  0.5\n"
     ]
    },
    {
     "data": {
      "application/vnd.jupyter.widget-view+json": {
       "model_id": "0d77919c131e474bb60f9a105992b895",
       "version_major": 2,
       "version_minor": 0
      },
      "text/plain": [
       "restarts:   0%|          | 0/1 [00:00<?, ?it/s]"
      ]
     },
     "metadata": {},
     "output_type": "display_data"
    },
    {
     "data": {
      "application/vnd.jupyter.widget-view+json": {
       "model_id": "78399a3aaa954ba2811c57c8bc6c28d1",
       "version_major": 2,
       "version_minor": 0
      },
      "text/plain": [
       "epochs:   0%|          | 0/1 [00:00<?, ?it/s]"
      ]
     },
     "metadata": {},
     "output_type": "display_data"
    },
    {
     "name": "stdout",
     "output_type": "stream",
     "text": [
      "<tf.Variable 'Adam_2/learning_rate:0' shape=() dtype=float32>\n",
      "<tf.Variable 'Adam_2/learning_rate:0' shape=() dtype=float32>\n",
      "Original Data Shape (selected):  (1000, 12)\n",
      "Original Data Shape (encoded):  (1000, 12)\n",
      "Original Data Class Distribution:  558  (true) / 442  (false)\n",
      "(600, 12) (600,)\n",
      "(200, 12) (200,)\n",
      "(200, 12) (200,)\n",
      "Min Ratio:  0.4216666666666667\n",
      "Min Ratio:  0.5\n",
      "Min Ratio:  0.42625\n",
      "Min Ratio:  0.5\n"
     ]
    },
    {
     "data": {
      "application/vnd.jupyter.widget-view+json": {
       "model_id": "29c283464b744e289d9ec99a5725f319",
       "version_major": 2,
       "version_minor": 0
      },
      "text/plain": [
       "restarts:   0%|          | 0/1 [00:00<?, ?it/s]"
      ]
     },
     "metadata": {},
     "output_type": "display_data"
    },
    {
     "data": {
      "application/vnd.jupyter.widget-view+json": {
       "model_id": "50e7a7fd50174cf1ab05f3294f963119",
       "version_major": 2,
       "version_minor": 0
      },
      "text/plain": [
       "epochs:   0%|          | 0/1 [00:00<?, ?it/s]"
      ]
     },
     "metadata": {},
     "output_type": "display_data"
    },
    {
     "name": "stdout",
     "output_type": "stream",
     "text": [
      "<tf.Variable 'Adam_2/learning_rate:0' shape=() dtype=float32>\n",
      "<tf.Variable 'Adam_2/learning_rate:0' shape=() dtype=float32>\n",
      "Original Data Shape (selected):  (1000, 12)\n",
      "Original Data Shape (encoded):  (1000, 12)\n",
      "Original Data Class Distribution:  589  (true) / 411  (false)\n",
      "(600, 12) (600,)\n",
      "(200, 12) (200,)\n",
      "(200, 12) (200,)\n",
      "Min Ratio:  0.41833333333333333\n",
      "Min Ratio:  0.5\n",
      "Min Ratio:  0.40625\n",
      "Min Ratio:  0.5\n"
     ]
    },
    {
     "data": {
      "application/vnd.jupyter.widget-view+json": {
       "model_id": "a0da56b853074e5e9f9dc8485dab1d9c",
       "version_major": 2,
       "version_minor": 0
      },
      "text/plain": [
       "restarts:   0%|          | 0/1 [00:00<?, ?it/s]"
      ]
     },
     "metadata": {},
     "output_type": "display_data"
    },
    {
     "data": {
      "application/vnd.jupyter.widget-view+json": {
       "model_id": "9355406a090545fa8ed9b6a0ff36e94e",
       "version_major": 2,
       "version_minor": 0
      },
      "text/plain": [
       "epochs:   0%|          | 0/1 [00:00<?, ?it/s]"
      ]
     },
     "metadata": {},
     "output_type": "display_data"
    },
    {
     "name": "stdout",
     "output_type": "stream",
     "text": [
      "<tf.Variable 'Adam_2/learning_rate:0' shape=() dtype=float32>\n",
      "<tf.Variable 'Adam_2/learning_rate:0' shape=() dtype=float32>\n",
      "Original Data Shape (selected):  (1000, 12)\n",
      "Original Data Shape (encoded):  (1000, 12)\n",
      "Original Data Class Distribution:  590  (true) / 410  (false)\n",
      "(600, 12) (600,)\n",
      "(200, 12) (200,)\n",
      "(200, 12) (200,)\n",
      "Min Ratio:  0.39666666666666667\n",
      "Min Ratio:  0.5\n",
      "Min Ratio:  0.40625\n",
      "Min Ratio:  0.5\n"
     ]
    },
    {
     "data": {
      "application/vnd.jupyter.widget-view+json": {
       "model_id": "a5fbd6530b814d78a880a0feef8f411e",
       "version_major": 2,
       "version_minor": 0
      },
      "text/plain": [
       "restarts:   0%|          | 0/1 [00:00<?, ?it/s]"
      ]
     },
     "metadata": {},
     "output_type": "display_data"
    },
    {
     "data": {
      "application/vnd.jupyter.widget-view+json": {
       "model_id": "6223b65d51b04bbe93189fdc669a96d9",
       "version_major": 2,
       "version_minor": 0
      },
      "text/plain": [
       "epochs:   0%|          | 0/1 [00:00<?, ?it/s]"
      ]
     },
     "metadata": {},
     "output_type": "display_data"
    },
    {
     "name": "stdout",
     "output_type": "stream",
     "text": [
      "<tf.Variable 'Adam_2/learning_rate:0' shape=() dtype=float32>\n",
      "<tf.Variable 'Adam_2/learning_rate:0' shape=() dtype=float32>\n",
      "Original Data Shape (selected):  (1000, 12)\n",
      "Original Data Shape (encoded):  (1000, 12)\n",
      "Original Data Class Distribution:  620  (true) / 380  (false)\n",
      "(600, 12) (600,)\n",
      "(200, 12) (200,)\n",
      "(200, 12) (200,)\n",
      "Min Ratio:  0.37166666666666665\n",
      "Min Ratio:  0.5\n",
      "Min Ratio:  0.37875\n",
      "Min Ratio:  0.5\n"
     ]
    },
    {
     "data": {
      "application/vnd.jupyter.widget-view+json": {
       "model_id": "e393edd887d04a0b85edd50bfe1ba96b",
       "version_major": 2,
       "version_minor": 0
      },
      "text/plain": [
       "restarts:   0%|          | 0/1 [00:00<?, ?it/s]"
      ]
     },
     "metadata": {},
     "output_type": "display_data"
    },
    {
     "data": {
      "application/vnd.jupyter.widget-view+json": {
       "model_id": "cc0d21642bfa461aa8f856def6e6f63c",
       "version_major": 2,
       "version_minor": 0
      },
      "text/plain": [
       "epochs:   0%|          | 0/1 [00:00<?, ?it/s]"
      ]
     },
     "metadata": {},
     "output_type": "display_data"
    },
    {
     "name": "stdout",
     "output_type": "stream",
     "text": [
      "<tf.Variable 'Adam_2/learning_rate:0' shape=() dtype=float32>\n",
      "<tf.Variable 'Adam_2/learning_rate:0' shape=() dtype=float32>\n",
      "Original Data Shape (selected):  (1000, 12)\n",
      "Original Data Shape (encoded):  (1000, 12)\n",
      "Original Data Class Distribution:  604  (true) / 396  (false)\n",
      "(600, 12) (600,)\n",
      "(200, 12) (200,)\n",
      "(200, 12) (200,)\n",
      "Min Ratio:  0.41\n",
      "Min Ratio:  0.5\n",
      "Min Ratio:  0.4\n",
      "Min Ratio:  0.5\n"
     ]
    },
    {
     "data": {
      "application/vnd.jupyter.widget-view+json": {
       "model_id": "d90734f6299340d1b4fe9b6971f24afc",
       "version_major": 2,
       "version_minor": 0
      },
      "text/plain": [
       "restarts:   0%|          | 0/1 [00:00<?, ?it/s]"
      ]
     },
     "metadata": {},
     "output_type": "display_data"
    },
    {
     "data": {
      "application/vnd.jupyter.widget-view+json": {
       "model_id": "b42a7df9d9fe4edb890079c4a691367a",
       "version_major": 2,
       "version_minor": 0
      },
      "text/plain": [
       "epochs:   0%|          | 0/1 [00:00<?, ?it/s]"
      ]
     },
     "metadata": {},
     "output_type": "display_data"
    },
    {
     "name": "stdout",
     "output_type": "stream",
     "text": [
      "<tf.Variable 'Adam_2/learning_rate:0' shape=() dtype=float32>\n",
      "<tf.Variable 'Adam_2/learning_rate:0' shape=() dtype=float32>\n",
      "Original Data Shape (selected):  (1000, 12)\n",
      "Original Data Shape (encoded):  (1000, 12)\n",
      "Original Data Class Distribution:  621  (true) / 379  (false)\n",
      "(600, 12) (600,)\n",
      "(200, 12) (200,)\n",
      "(200, 12) (200,)\n",
      "Min Ratio:  0.34833333333333333\n",
      "Min Ratio:  0.5\n",
      "Min Ratio:  0.3675\n",
      "Min Ratio:  0.5\n"
     ]
    },
    {
     "data": {
      "application/vnd.jupyter.widget-view+json": {
       "model_id": "1ed2f0ed03934ffbad28f5fc6605b2ac",
       "version_major": 2,
       "version_minor": 0
      },
      "text/plain": [
       "restarts:   0%|          | 0/1 [00:00<?, ?it/s]"
      ]
     },
     "metadata": {},
     "output_type": "display_data"
    },
    {
     "data": {
      "application/vnd.jupyter.widget-view+json": {
       "model_id": "a19c6574a5344c139566189143af3209",
       "version_major": 2,
       "version_minor": 0
      },
      "text/plain": [
       "epochs:   0%|          | 0/1 [00:00<?, ?it/s]"
      ]
     },
     "metadata": {},
     "output_type": "display_data"
    },
    {
     "name": "stdout",
     "output_type": "stream",
     "text": [
      "<tf.Variable 'Adam_2/learning_rate:0' shape=() dtype=float32>\n",
      "<tf.Variable 'Adam_2/learning_rate:0' shape=() dtype=float32>\n",
      "Original Data Shape (selected):  (1000, 12)\n",
      "Original Data Shape (encoded):  (1000, 12)\n",
      "Original Data Class Distribution:  580  (true) / 420  (false)\n",
      "(600, 12) (600,)\n",
      "(200, 12) (200,)\n",
      "(200, 12) (200,)\n",
      "Min Ratio:  0.41833333333333333\n",
      "Min Ratio:  0.5\n",
      "Min Ratio:  0.4225\n",
      "Min Ratio:  0.5\n"
     ]
    },
    {
     "data": {
      "application/vnd.jupyter.widget-view+json": {
       "model_id": "8cd082ae044748fc9c2553fe4debff9f",
       "version_major": 2,
       "version_minor": 0
      },
      "text/plain": [
       "restarts:   0%|          | 0/1 [00:00<?, ?it/s]"
      ]
     },
     "metadata": {},
     "output_type": "display_data"
    },
    {
     "data": {
      "application/vnd.jupyter.widget-view+json": {
       "model_id": "8d7370b42a4f45d6959c77f152885eb6",
       "version_major": 2,
       "version_minor": 0
      },
      "text/plain": [
       "epochs:   0%|          | 0/1 [00:00<?, ?it/s]"
      ]
     },
     "metadata": {},
     "output_type": "display_data"
    },
    {
     "name": "stdout",
     "output_type": "stream",
     "text": [
      "<tf.Variable 'Adam_2/learning_rate:0' shape=() dtype=float32>\n",
      "<tf.Variable 'Adam_2/learning_rate:0' shape=() dtype=float32>\n",
      "Original Data Shape (selected):  (1000, 12)\n",
      "Original Data Shape (encoded):  (1000, 12)\n",
      "Original Data Class Distribution:  546  (true) / 454  (false)\n",
      "(600, 12) (600,)\n",
      "(200, 12) (200,)\n",
      "(200, 12) (200,)\n",
      "Min Ratio:  0.45666666666666667\n",
      "Min Ratio:  0.5\n",
      "Min Ratio:  0.4575\n",
      "Min Ratio:  0.5\n"
     ]
    },
    {
     "data": {
      "application/vnd.jupyter.widget-view+json": {
       "model_id": "59a27468d87e46dd83c3c85bb36195e0",
       "version_major": 2,
       "version_minor": 0
      },
      "text/plain": [
       "restarts:   0%|          | 0/1 [00:00<?, ?it/s]"
      ]
     },
     "metadata": {},
     "output_type": "display_data"
    },
    {
     "data": {
      "application/vnd.jupyter.widget-view+json": {
       "model_id": "2eae0e04e06f4ed9b29b1b3f3789545f",
       "version_major": 2,
       "version_minor": 0
      },
      "text/plain": [
       "epochs:   0%|          | 0/1 [00:00<?, ?it/s]"
      ]
     },
     "metadata": {},
     "output_type": "display_data"
    },
    {
     "name": "stdout",
     "output_type": "stream",
     "text": [
      "<tf.Variable 'Adam_2/learning_rate:0' shape=() dtype=float32>\n",
      "<tf.Variable 'Adam_2/learning_rate:0' shape=() dtype=float32>\n",
      "Original Data Shape (selected):  (1000, 12)\n",
      "Original Data Shape (encoded):  (1000, 12)\n",
      "Original Data Class Distribution:  614  (true) / 386  (false)\n",
      "(600, 12) (600,)\n",
      "(200, 12) (200,)\n",
      "(200, 12) (200,)\n",
      "Min Ratio:  0.39\n",
      "Min Ratio:  0.5\n",
      "Min Ratio:  0.385\n",
      "Min Ratio:  0.5\n"
     ]
    },
    {
     "data": {
      "application/vnd.jupyter.widget-view+json": {
       "model_id": "d1b79d8df8564753af64dd01c8f776dd",
       "version_major": 2,
       "version_minor": 0
      },
      "text/plain": [
       "restarts:   0%|          | 0/1 [00:00<?, ?it/s]"
      ]
     },
     "metadata": {},
     "output_type": "display_data"
    },
    {
     "data": {
      "application/vnd.jupyter.widget-view+json": {
       "model_id": "00bbaa4c38e943a4a245478936e2d6d8",
       "version_major": 2,
       "version_minor": 0
      },
      "text/plain": [
       "epochs:   0%|          | 0/1 [00:00<?, ?it/s]"
      ]
     },
     "metadata": {},
     "output_type": "display_data"
    },
    {
     "name": "stdout",
     "output_type": "stream",
     "text": [
      "<tf.Variable 'Adam_2/learning_rate:0' shape=() dtype=float32>\n",
      "<tf.Variable 'Adam_2/learning_rate:0' shape=() dtype=float32>\n",
      "Original Data Shape (selected):  (1000, 12)\n",
      "Original Data Shape (encoded):  (1000, 12)\n",
      "Original Data Class Distribution:  580  (true) / 420  (false)\n",
      "(600, 12) (600,)\n",
      "(200, 12) (200,)\n",
      "(200, 12) (200,)\n",
      "Min Ratio:  0.4066666666666667\n",
      "Min Ratio:  0.5\n",
      "Min Ratio:  0.4\n",
      "Min Ratio:  0.5\n"
     ]
    },
    {
     "data": {
      "application/vnd.jupyter.widget-view+json": {
       "model_id": "ed45b352d7be440b8eaa83ead6215fd3",
       "version_major": 2,
       "version_minor": 0
      },
      "text/plain": [
       "restarts:   0%|          | 0/1 [00:00<?, ?it/s]"
      ]
     },
     "metadata": {},
     "output_type": "display_data"
    },
    {
     "data": {
      "application/vnd.jupyter.widget-view+json": {
       "model_id": "8ad46e1bb8f74088b05795c412b2c789",
       "version_major": 2,
       "version_minor": 0
      },
      "text/plain": [
       "epochs:   0%|          | 0/1 [00:00<?, ?it/s]"
      ]
     },
     "metadata": {},
     "output_type": "display_data"
    },
    {
     "name": "stdout",
     "output_type": "stream",
     "text": [
      "<tf.Variable 'Adam_2/learning_rate:0' shape=() dtype=float32>\n",
      "<tf.Variable 'Adam_2/learning_rate:0' shape=() dtype=float32>\n",
      "Original Data Shape (selected):  (1000, 12)\n",
      "Original Data Shape (encoded):  (1000, 12)\n",
      "Original Data Class Distribution:  693  (true) / 307  (false)\n",
      "(600, 12) (600,)\n",
      "(200, 12) (200,)\n",
      "(200, 12) (200,)\n",
      "Min Ratio:  0.29333333333333333\n",
      "Min Ratio:  0.5\n",
      "Min Ratio:  0.30375\n",
      "Min Ratio:  0.5\n"
     ]
    },
    {
     "data": {
      "application/vnd.jupyter.widget-view+json": {
       "model_id": "2fe55d232ea2411190f8158bf3959b79",
       "version_major": 2,
       "version_minor": 0
      },
      "text/plain": [
       "restarts:   0%|          | 0/1 [00:00<?, ?it/s]"
      ]
     },
     "metadata": {},
     "output_type": "display_data"
    },
    {
     "data": {
      "application/vnd.jupyter.widget-view+json": {
       "model_id": "c56282df07524e119479c40a62e8f00d",
       "version_major": 2,
       "version_minor": 0
      },
      "text/plain": [
       "epochs:   0%|          | 0/1 [00:00<?, ?it/s]"
      ]
     },
     "metadata": {},
     "output_type": "display_data"
    },
    {
     "name": "stdout",
     "output_type": "stream",
     "text": [
      "<tf.Variable 'Adam_2/learning_rate:0' shape=() dtype=float32>\n",
      "<tf.Variable 'Adam_2/learning_rate:0' shape=() dtype=float32>\n",
      "Original Data Shape (selected):  (1000, 12)\n",
      "Original Data Shape (encoded):  (1000, 12)\n",
      "Original Data Class Distribution:  650  (true) / 350  (false)\n",
      "(600, 12) (600,)\n",
      "(200, 12) (200,)\n",
      "(200, 12) (200,)\n",
      "Min Ratio:  0.36\n",
      "Min Ratio:  0.5\n",
      "Min Ratio:  0.34625\n",
      "Min Ratio:  0.5\n"
     ]
    },
    {
     "data": {
      "application/vnd.jupyter.widget-view+json": {
       "model_id": "e433d87282a3402d8c2ae9f405ec3ec9",
       "version_major": 2,
       "version_minor": 0
      },
      "text/plain": [
       "restarts:   0%|          | 0/1 [00:00<?, ?it/s]"
      ]
     },
     "metadata": {},
     "output_type": "display_data"
    },
    {
     "data": {
      "application/vnd.jupyter.widget-view+json": {
       "model_id": "101949208c1d4fb685bc17d4f3a7e439",
       "version_major": 2,
       "version_minor": 0
      },
      "text/plain": [
       "epochs:   0%|          | 0/1 [00:00<?, ?it/s]"
      ]
     },
     "metadata": {},
     "output_type": "display_data"
    },
    {
     "name": "stdout",
     "output_type": "stream",
     "text": [
      "<tf.Variable 'Adam_2/learning_rate:0' shape=() dtype=float32>\n",
      "Original Data Shape (selected):  (1000, 12)\n",
      "Original Data Shape (encoded):  (1000, 12)\n",
      "Original Data Class Distribution:  661  (true) / 339  (false)\n",
      "(600, 12) (600,)\n",
      "(200, 12) (200,)\n",
      "(200, 12) (200,)\n",
      "Min Ratio:  0.3433333333333333\n",
      "Min Ratio:  0.5\n",
      "Min Ratio:  0.33875\n",
      "Min Ratio:  0.5\n"
     ]
    },
    {
     "data": {
      "application/vnd.jupyter.widget-view+json": {
       "model_id": "65e05cbb7c234248b1d54c55d9f5d1eb",
       "version_major": 2,
       "version_minor": 0
      },
      "text/plain": [
       "restarts:   0%|          | 0/1 [00:00<?, ?it/s]"
      ]
     },
     "metadata": {},
     "output_type": "display_data"
    },
    {
     "data": {
      "application/vnd.jupyter.widget-view+json": {
       "model_id": "0c18e25be8e64d46ab3600d3d0894089",
       "version_major": 2,
       "version_minor": 0
      },
      "text/plain": [
       "epochs:   0%|          | 0/1 [00:00<?, ?it/s]"
      ]
     },
     "metadata": {},
     "output_type": "display_data"
    },
    {
     "name": "stdout",
     "output_type": "stream",
     "text": [
      "<tf.Variable 'Adam_2/learning_rate:0' shape=() dtype=float32>\n",
      "<tf.Variable 'Adam_2/learning_rate:0' shape=() dtype=float32>\n",
      "Original Data Shape (selected):  (1000, 12)\n",
      "Original Data Shape (encoded):  (1000, 12)\n",
      "Original Data Class Distribution:  531  (true) / 469  (false)\n",
      "(600, 12) (600,)\n",
      "(200, 12) (200,)\n",
      "(200, 12) (200,)\n",
      "Min Ratio:  0.47833333333333333\n",
      "Min Ratio:  0.5\n",
      "Min Ratio:  0.4825\n",
      "Min Ratio:  0.5\n"
     ]
    },
    {
     "data": {
      "application/vnd.jupyter.widget-view+json": {
       "model_id": "d3f2a185055c46f89b8471544dd71669",
       "version_major": 2,
       "version_minor": 0
      },
      "text/plain": [
       "restarts:   0%|          | 0/1 [00:00<?, ?it/s]"
      ]
     },
     "metadata": {},
     "output_type": "display_data"
    },
    {
     "data": {
      "application/vnd.jupyter.widget-view+json": {
       "model_id": "884a9b32fd3c4872b02787c4ca00bd72",
       "version_major": 2,
       "version_minor": 0
      },
      "text/plain": [
       "epochs:   0%|          | 0/1 [00:00<?, ?it/s]"
      ]
     },
     "metadata": {},
     "output_type": "display_data"
    },
    {
     "name": "stdout",
     "output_type": "stream",
     "text": [
      "<tf.Variable 'Adam_2/learning_rate:0' shape=() dtype=float32>\n",
      "<tf.Variable 'Adam_2/learning_rate:0' shape=() dtype=float32>\n",
      "Original Data Shape (selected):  (1000, 12)\n",
      "Original Data Shape (encoded):  (1000, 12)\n",
      "Original Data Class Distribution:  446  (true) / 554  (false)\n",
      "(600, 12) (600,)\n",
      "(200, 12) (200,)\n",
      "(200, 12) (200,)\n",
      "Min Ratio:  0.44333333333333336\n",
      "Min Ratio:  0.5\n",
      "Min Ratio:  0.45875\n",
      "Min Ratio:  0.5\n"
     ]
    },
    {
     "data": {
      "application/vnd.jupyter.widget-view+json": {
       "model_id": "0b1df60d0cb6400e8585e46a235aab49",
       "version_major": 2,
       "version_minor": 0
      },
      "text/plain": [
       "restarts:   0%|          | 0/1 [00:00<?, ?it/s]"
      ]
     },
     "metadata": {},
     "output_type": "display_data"
    },
    {
     "data": {
      "application/vnd.jupyter.widget-view+json": {
       "model_id": "eda9e84aed7c43b59398ad5e53208210",
       "version_major": 2,
       "version_minor": 0
      },
      "text/plain": [
       "epochs:   0%|          | 0/1 [00:00<?, ?it/s]"
      ]
     },
     "metadata": {},
     "output_type": "display_data"
    },
    {
     "name": "stdout",
     "output_type": "stream",
     "text": [
      "<tf.Variable 'Adam_2/learning_rate:0' shape=() dtype=float32>\n",
      "<tf.Variable 'Adam_2/learning_rate:0' shape=() dtype=float32>\n",
      "Original Data Shape (selected):  (1000, 12)\n",
      "Original Data Shape (encoded):  (1000, 12)\n",
      "Original Data Class Distribution:  470  (true) / 530  (false)\n",
      "(600, 12) (600,)\n",
      "(200, 12) (200,)\n",
      "(200, 12) (200,)\n",
      "Min Ratio:  0.475\n",
      "Min Ratio:  0.5\n",
      "Min Ratio:  0.47375\n",
      "Min Ratio:  0.5\n"
     ]
    },
    {
     "data": {
      "application/vnd.jupyter.widget-view+json": {
       "model_id": "aef84e29f2544feab04a57dffb395354",
       "version_major": 2,
       "version_minor": 0
      },
      "text/plain": [
       "restarts:   0%|          | 0/1 [00:00<?, ?it/s]"
      ]
     },
     "metadata": {},
     "output_type": "display_data"
    },
    {
     "data": {
      "application/vnd.jupyter.widget-view+json": {
       "model_id": "6ba10274febe4e00b20d3c1d36a3d8a2",
       "version_major": 2,
       "version_minor": 0
      },
      "text/plain": [
       "epochs:   0%|          | 0/1 [00:00<?, ?it/s]"
      ]
     },
     "metadata": {},
     "output_type": "display_data"
    },
    {
     "name": "stdout",
     "output_type": "stream",
     "text": [
      "<tf.Variable 'Adam_2/learning_rate:0' shape=() dtype=float32>\n",
      "<tf.Variable 'Adam_2/learning_rate:0' shape=() dtype=float32>\n",
      "Original Data Shape (selected):  (1000, 12)\n",
      "Original Data Shape (encoded):  (1000, 12)\n",
      "Original Data Class Distribution:  493  (true) / 507  (false)\n",
      "(600, 12) (600,)\n",
      "(200, 12) (200,)\n",
      "(200, 12) (200,)\n",
      "Min Ratio:  0.4866666666666667\n",
      "Min Ratio:  0.5\n",
      "Min Ratio:  0.495\n",
      "Min Ratio:  0.5\n"
     ]
    },
    {
     "data": {
      "application/vnd.jupyter.widget-view+json": {
       "model_id": "9ccf2733b6cd44a3b5a9b91cae54f0bf",
       "version_major": 2,
       "version_minor": 0
      },
      "text/plain": [
       "restarts:   0%|          | 0/1 [00:00<?, ?it/s]"
      ]
     },
     "metadata": {},
     "output_type": "display_data"
    },
    {
     "data": {
      "application/vnd.jupyter.widget-view+json": {
       "model_id": "b70172bb568d4f1a81d650c86497ab37",
       "version_major": 2,
       "version_minor": 0
      },
      "text/plain": [
       "epochs:   0%|          | 0/1 [00:00<?, ?it/s]"
      ]
     },
     "metadata": {},
     "output_type": "display_data"
    },
    {
     "name": "stdout",
     "output_type": "stream",
     "text": [
      "<tf.Variable 'Adam_2/learning_rate:0' shape=() dtype=float32>\n",
      "<tf.Variable 'Adam_2/learning_rate:0' shape=() dtype=float32>\n",
      "Original Data Shape (selected):  (1000, 12)\n",
      "Original Data Shape (encoded):  (1000, 12)\n",
      "Original Data Class Distribution:  535  (true) / 465  (false)\n",
      "(600, 12) (600,)\n",
      "(200, 12) (200,)\n",
      "(200, 12) (200,)\n",
      "Min Ratio:  0.49333333333333335\n",
      "Min Ratio:  0.5\n",
      "Min Ratio:  0.4775\n",
      "Min Ratio:  0.5\n"
     ]
    },
    {
     "data": {
      "application/vnd.jupyter.widget-view+json": {
       "model_id": "117c3093b32b4e4cad63a31ce760ec3c",
       "version_major": 2,
       "version_minor": 0
      },
      "text/plain": [
       "restarts:   0%|          | 0/1 [00:00<?, ?it/s]"
      ]
     },
     "metadata": {},
     "output_type": "display_data"
    },
    {
     "data": {
      "application/vnd.jupyter.widget-view+json": {
       "model_id": "710beccaff064a94931282749f59196d",
       "version_major": 2,
       "version_minor": 0
      },
      "text/plain": [
       "epochs:   0%|          | 0/1 [00:00<?, ?it/s]"
      ]
     },
     "metadata": {},
     "output_type": "display_data"
    },
    {
     "name": "stdout",
     "output_type": "stream",
     "text": [
      "<tf.Variable 'Adam_2/learning_rate:0' shape=() dtype=float32>\n",
      "<tf.Variable 'Adam_2/learning_rate:0' shape=() dtype=float32>\n",
      "Original Data Shape (selected):  (1000, 12)\n",
      "Original Data Shape (encoded):  (1000, 12)\n",
      "Original Data Class Distribution:  633  (true) / 367  (false)\n",
      "(600, 12) (600,)\n",
      "(200, 12) (200,)\n",
      "(200, 12) (200,)\n",
      "Min Ratio:  0.36333333333333334\n",
      "Min Ratio:  0.5\n",
      "Min Ratio:  0.36125\n",
      "Min Ratio:  0.5\n"
     ]
    },
    {
     "data": {
      "application/vnd.jupyter.widget-view+json": {
       "model_id": "a9bd59e63bab496a80a44553a8353697",
       "version_major": 2,
       "version_minor": 0
      },
      "text/plain": [
       "restarts:   0%|          | 0/1 [00:00<?, ?it/s]"
      ]
     },
     "metadata": {},
     "output_type": "display_data"
    },
    {
     "data": {
      "application/vnd.jupyter.widget-view+json": {
       "model_id": "8c963bff53a542aca9797f7c7af3a2e2",
       "version_major": 2,
       "version_minor": 0
      },
      "text/plain": [
       "epochs:   0%|          | 0/1 [00:00<?, ?it/s]"
      ]
     },
     "metadata": {},
     "output_type": "display_data"
    },
    {
     "name": "stdout",
     "output_type": "stream",
     "text": [
      "<tf.Variable 'Adam_2/learning_rate:0' shape=() dtype=float32>\n",
      "<tf.Variable 'Adam_2/learning_rate:0' shape=() dtype=float32>\n",
      "Original Data Shape (selected):  (1000, 12)\n",
      "Original Data Shape (encoded):  (1000, 12)\n",
      "Original Data Class Distribution:  576  (true) / 424  (false)\n",
      "(600, 12) (600,)\n",
      "(200, 12) (200,)\n",
      "(200, 12) (200,)\n",
      "Min Ratio:  0.44166666666666665\n",
      "Min Ratio:  0.5\n",
      "Min Ratio:  0.43625\n",
      "Min Ratio:  0.5\n"
     ]
    },
    {
     "data": {
      "application/vnd.jupyter.widget-view+json": {
       "model_id": "79237765221048a6af2ca63678a9ba20",
       "version_major": 2,
       "version_minor": 0
      },
      "text/plain": [
       "restarts:   0%|          | 0/1 [00:00<?, ?it/s]"
      ]
     },
     "metadata": {},
     "output_type": "display_data"
    },
    {
     "data": {
      "application/vnd.jupyter.widget-view+json": {
       "model_id": "2d937d7da68540d797849e8df509cfaa",
       "version_major": 2,
       "version_minor": 0
      },
      "text/plain": [
       "epochs:   0%|          | 0/1 [00:00<?, ?it/s]"
      ]
     },
     "metadata": {},
     "output_type": "display_data"
    },
    {
     "name": "stdout",
     "output_type": "stream",
     "text": [
      "<tf.Variable 'Adam_2/learning_rate:0' shape=() dtype=float32>\n",
      "<tf.Variable 'Adam_2/learning_rate:0' shape=() dtype=float32>\n"
     ]
    }
   ],
   "source": [
    "#'NOAA_Weather','agr_a','agr_g','airlines','electricity','hyperplane','rbf_f','rbf_m','sea_a','sea_g\n",
    "dataset_names = ['electricity']\n",
    "for dataset_name in dataset_names:\n",
    "    VFDT_classifier = HoeffdingTreeClassifier()\n",
    "    CVFDT_classifier = HoeffdingAdaptiveTreeClassifier(split_confidence = 0.001)\n",
    "    config = get_config_for_dataset(dataset_name)\n",
    "\n",
    "    from sklearn.metrics import cohen_kappa_score\n",
    "\n",
    "    config_training, metrics = prepare_training_for_streams(identifier = 'BIN:'+dataset_name, config = config)\n",
    "    #load Dataset\n",
    "    X_data, y_data, nominal_features, ordinal_features = load_dataset_for_streams(identifier = 'BIN:'+dataset_name, \n",
    "                                                                                  max_total_samples = config['computation']['max_total_samples'])\n",
    "\n",
    "    model_dict = {}\n",
    "    scores_dict = {}\n",
    "    normalizer_list = []\n",
    "    plotlosses_benchmark = PlotLosses()\n",
    "    verbosity = 1\n",
    "    model_dict['GDT'] = GDT(number_of_variables = len(X_data.columns),\n",
    "                number_of_classes = len(np.unique(y_data)),#dataset_dict['number_of_classes'],\n",
    "\n",
    "                objective = config_training['gdt']['objective'],\n",
    "\n",
    "                depth = config_training['gdt']['depth'],\n",
    "\n",
    "                learning_rate_index = config_training['gdt']['learning_rate_index'],\n",
    "                learning_rate_values = config_training['gdt']['learning_rate_values'],\n",
    "                learning_rate_leaf = config_training['gdt']['learning_rate_leaf'],\n",
    "\n",
    "                optimizer = config_training['gdt']['optimizer'],\n",
    "\n",
    "                loss = 'crossentropy',\n",
    "\n",
    "                initializer_values = config_training['gdt']['initializer_values'],\n",
    "                initializer_index = config_training['gdt']['initializer_index'],\n",
    "                initializer_leaf = config_training['gdt']['initializer_leaf'],        \n",
    "\n",
    "                random_seed = config_training['computation']['random_seed'],\n",
    "                verbosity = verbosity)  \n",
    "\n",
    "\n",
    "    #Pretraing\n",
    "    if(config_training['computation']['pretrain_size']>0 and len(X_data) > config_training['computation']['pretrain_size']):\n",
    "        X_pretrain_data = X_data.iloc[:config_training['computation']['pretrain_size'],:]\n",
    "        X_data = X_data.iloc[config_training['computation']['pretrain_size']:,:]\n",
    "        y_pretrain_data = y_data.iloc[:config_training['computation']['pretrain_size']]\n",
    "        y_data = y_data.iloc[config_training['computation']['pretrain_size']:]\n",
    "\n",
    "        ((X_train, y_train),\n",
    "         (X_valid, y_valid),\n",
    "         (X_test, y_test),\n",
    "         (X_train_with_valid, y_train_with_valid),\n",
    "         normalizer_list) = preprocess_data(X_pretrain_data, \n",
    "                                           y_pretrain_data,\n",
    "                                           nominal_features,\n",
    "                                           ordinal_features,\n",
    "                                           config_training,\n",
    "                                           normalizer_list,\n",
    "                                           random_seed= 42,#random_seed,\n",
    "                                           verbosity=1)#verbosity)  \n",
    "        dataset_dict = {\n",
    "               'X_train': X_train,\n",
    "               'y_train': y_train,\n",
    "               'X_valid': X_valid,\n",
    "               'y_valid': y_valid,\n",
    "               'X_test': X_test,\n",
    "               'y_test': y_test,\n",
    "               'normalizer_list': normalizer_list\n",
    "               }\n",
    "\n",
    "\n",
    "\n",
    "        model_dict['GDT'].partial_fit(dataset_dict['X_train'],\n",
    "                  dataset_dict['y_train'],\n",
    "\n",
    "                  batch_size=config_training['gdt']['batch_size'], \n",
    "                  epochs=config_training['gdt']['pretrain_epochs'], \n",
    "\n",
    "                  restarts = 0,#config_test['gdt']['restarts'], \n",
    "                  #restart_type=config_test['gdt']['restart_type'], \n",
    "\n",
    "                  #early_stopping_epochs=config_training['gdt']['early_stopping_epochs'], \n",
    "                  #early_stopping_type=config_test['gdt']['early_stopping_type'],\n",
    "\n",
    "                  valid_data=(dataset_dict['X_valid'],dataset_dict['y_valid']))\n",
    "        \n",
    "        #pretrain benchmarks\n",
    "        #(X_train_with_valid, y_train_with_valid)\n",
    "        temp_X_train =X_train_with_valid.values\n",
    "        temp_y_train =y_train_with_valid.values\n",
    "        for i in range(0, len(dataset_dict['X_train'])):\n",
    "            VFDT_classifier.partial_fit(np.array([temp_X_train[i]], np.float64), np.array([temp_y_train[i]], np.float64)) \n",
    "            CVFDT_classifier.partial_fit(np.array([temp_X_train[i]], np.float64), np.array([temp_y_train[i]], np.float64))\n",
    "\n",
    "\n",
    "\n",
    "\n",
    "\n",
    "\n",
    "\n",
    "    #Start Stream\n",
    "    X_data_stream = split_df_chunks(X_data, config['computation']['chunk_size'])\n",
    "    y_data_stream = split_df_chunks(y_data, config['computation']['chunk_size'])\n",
    "\n",
    "    scores_GDT = {'train':np.array([]),\n",
    "                  'valid':np.array([]),\n",
    "                  'test':np.array([])\n",
    "                 }\n",
    "    scores_VFDT = {'train':np.array([]),\n",
    "              'test':np.array([])\n",
    "             }\n",
    "    scores_CVFDT = {'train':np.array([]),\n",
    "                  'test':np.array([])\n",
    "                 }\n",
    "    \n",
    "    timer = {'training':{\n",
    "                'GDT':0.0,\n",
    "                'VFDT':0.0,\n",
    "                'CVFDT':0.0,\n",
    "             },\n",
    "             'prediction':{\n",
    "                'GDT':0.0,\n",
    "                'VFDT':0.0,\n",
    "                'CVFDT':0.0,\n",
    "             }\n",
    "            }\n",
    "    flag = False;\n",
    "\n",
    "    for i in range(len(X_data_stream)):\n",
    "        normalizer_list=[]\n",
    "        t0 = time.time()\n",
    "        ((X_train, y_train),\n",
    "         (X_valid, y_valid),\n",
    "         (X_test, y_test),\n",
    "         (X_train_with_valid, y_train_with_valid),\n",
    "         normalizer_list) = preprocess_data(X_data_stream[i], \n",
    "                                           y_data_stream[i],\n",
    "                                           nominal_features,\n",
    "                                           ordinal_features,\n",
    "                                           config_training,\n",
    "                                           normalizer_list,\n",
    "                                           random_seed= 42,#random_seed,\n",
    "                                           verbosity=1)#verbosity)  \n",
    "        dataset_dict = {\n",
    "               'X_train': X_train,\n",
    "               'y_train': y_train,\n",
    "               'X_valid': X_valid,\n",
    "               'y_valid': y_valid,\n",
    "               'X_test': X_test,\n",
    "               'y_test': y_test,\n",
    "               'normalizer_list': normalizer_list\n",
    "               } \n",
    "\n",
    "        t1 = time.time()\n",
    "\n",
    "        t0 = time.time()\n",
    "        history = model_dict['GDT'].partial_fit(dataset_dict['X_train'],\n",
    "                  dataset_dict['y_train'],\n",
    "\n",
    "                  batch_size=config_training['gdt']['batch_size'], \n",
    "                  epochs=config_training['gdt']['epochs'], \n",
    "\n",
    "                  restarts = 0,\n",
    "                  drift_flag = flag,\n",
    "                  #config_test['gdt']['restarts'], \n",
    "                  #restart_type=config_test['gdt']['restart_type'], \n",
    "\n",
    "                  #early_stopping_epochs=config_training['gdt']['early_stopping_epochs'], \n",
    "                  #early_stopping_type=config_test['gdt']['early_stopping_type'],\n",
    "\n",
    "                  valid_data=(dataset_dict['X_valid'],dataset_dict['y_valid']))\n",
    "\n",
    "        flag=False\n",
    "        t1 = time.time()\n",
    "        timer['training']['GDT'] = timer['training']['GDT']+t1-t0\n",
    "\n",
    "\n",
    "        ###EVALUATION\n",
    "        y_test_data =dataset_dict['y_test'].values\n",
    "        temp_X_test = dataset_dict['X_test'].values\n",
    "        temp_X_train =X_train_with_valid.values\n",
    "        temp_y_train =y_train_with_valid.values\n",
    "\n",
    "\n",
    "        t0 = time.time()\n",
    "        #GDT\n",
    "        metric = \"f1\"\n",
    "       # y_test_data = dataset_dict['y_test']\n",
    "        y_pred_GDT_train = model_dict['GDT'].predict(enforce_numpy(dataset_dict['X_train'].values))\n",
    "        y_pred_GDT_train = np.nan_to_num(y_pred_GDT_train)\n",
    "        y_pred_GDT_train = np.round(y_pred_GDT_train)\n",
    "    \n",
    "        y_pred_GDT_valid = model_dict['GDT'].predict(enforce_numpy(dataset_dict['X_valid'].values))\n",
    "        y_pred_GDT_valid = np.nan_to_num(y_pred_GDT_valid)\n",
    "        y_pred_GDT_valid = np.round(y_pred_GDT_valid)    \n",
    "    \n",
    "        y_pred_GDT_test = model_dict['GDT'].predict(enforce_numpy(temp_X_test))\n",
    "        y_pred_GDT_test = np.nan_to_num(y_pred_GDT_test)\n",
    "        y_pred_GDT_test = np.round(y_pred_GDT_test)\n",
    "        \n",
    "     \n",
    "        GDT_f1_train = f1_score(dataset_dict['y_train'], y_pred_GDT_train)\n",
    "        GDT_f1_valid = f1_score(dataset_dict['y_valid'], y_pred_GDT_valid)\n",
    "        GDT_f1_test = f1_score(dataset_dict['y_test'], y_pred_GDT_test)\n",
    "\n",
    "        t1 = time.time()\n",
    "        timer['prediction']['GDT'] = timer['prediction']['GDT']+t1-t0\n",
    "        \n",
    "        \n",
    "        \n",
    "        \n",
    "        #VFDT\n",
    "        y_pred_VFDT_train = []\n",
    "        y_pred_VFDT_test = []\n",
    "        for i in range(0, len(temp_X_train)):\n",
    "            VFDT_classifier.partial_fit(np.array([temp_X_train[i]], np.float64), np.array([temp_y_train[i]], np.float64))\n",
    "        \n",
    "        for i in range(0, len(temp_X_train)):\n",
    "            y_pred_VFDT_train.append(VFDT_classifier.predict(np.array([temp_X_train[i]], np.float64))[0]) \n",
    "        for i in range(0, len(dataset_dict['X_test'])): \n",
    "            y_pred_VFDT_test.append(VFDT_classifier.predict(np.array([temp_X_test[i]], np.float64))[0])  \n",
    "        \n",
    "        VFDT_train = f1_score(temp_y_train, y_pred_VFDT_train)\n",
    "        VFDT_test = f1_score(y_test_data, y_pred_VFDT_test)\n",
    "\n",
    "\n",
    "        #CVFDT\n",
    "        y_pred_CVFDT_train = []\n",
    "        y_pred_CVFDT_test = []\n",
    "        for i in range(0, len(dataset_dict['X_train'])):\n",
    "            CVFDT_classifier.partial_fit(np.array([temp_X_train[i]], np.float64), np.array([temp_y_train[i]], np.float64))\n",
    "\n",
    "        for i in range(0, len(temp_X_train)):\n",
    "            y_pred_CVFDT_train.append(CVFDT_classifier.predict(np.array([temp_X_train[i]], np.float64))[0])    \n",
    "        for i in range(0, len(dataset_dict['X_test'])):\n",
    "            y_pred_CVFDT_test.append(CVFDT_classifier.predict(np.array([temp_X_test[i]], np.float64))[0])  \n",
    "        \n",
    "        CVFDT_train = f1_score(temp_y_train, y_pred_CVFDT_train)\n",
    "        CVFDT_test = f1_score(y_test_data,y_pred_CVFDT_test)\n",
    "                                        \n",
    "\n",
    "\n",
    "    \n",
    "        scores_GDT['train'] = np.append(scores_GDT['train'], GDT_f1_train)\n",
    "        scores_GDT['valid'] = np.append(scores_GDT['valid'], GDT_f1_valid)\n",
    "        scores_GDT['test'] = np.append(scores_GDT['test'], GDT_f1_test)\n",
    "                                        \n",
    "        scores_VFDT['train'] = np.append(scores_VFDT['train'], VFDT_train)\n",
    "        scores_VFDT['test'] = np.append(scores_VFDT['test'], VFDT_test)\n",
    "                                        \n",
    "        scores_CVFDT['train'] = np.append(scores_CVFDT['train'], CVFDT_train)\n",
    "        scores_CVFDT['test'] = np.append(scores_CVFDT['test'], CVFDT_test)\n",
    "                                        \n",
    "                                        \n",
    "       \n",
    "    results = pd.DataFrame(columns=['metric','train','validation','test'])\n",
    "    results.loc[len(results)] = ['f1',round(np.average(scores_GDT['train']),4),round(np.average(scores_GDT['valid']),4),round(np.average(scores_GDT['test']),4)]\n",
    "    results.loc[len(results)] = ['f1',round(np.average(scores_VFDT['train']),4),0,round(np.average(scores_VFDT['test']),4)]\n",
    "    results.loc[len(results)] = ['f1',round(np.average(scores_CVFDT['train']),4),0,round(np.average(scores_CVFDT['test']),4)]\n",
    "    results.to_csv('overfitting_results/'+dataset_name+'.csv')"
   ]
  },
  {
   "cell_type": "code",
   "execution_count": null,
   "id": "d8183a72-d7a4-4365-94e4-27e95007ff10",
   "metadata": {},
   "outputs": [],
   "source": [
    "#train, validation, test \n"
   ]
  },
  {
   "cell_type": "code",
   "execution_count": null,
   "id": "67f2c67f-108e-4407-9e68-e0d5da780e59",
   "metadata": {},
   "outputs": [],
   "source": []
  }
 ],
 "metadata": {
  "kernelspec": {
   "display_name": "env",
   "language": "python",
   "name": "env"
  },
  "language_info": {
   "codemirror_mode": {
    "name": "ipython",
    "version": 3
   },
   "file_extension": ".py",
   "mimetype": "text/x-python",
   "name": "python",
   "nbconvert_exporter": "python",
   "pygments_lexer": "ipython3",
   "version": "3.9.2"
  }
 },
 "nbformat": 4,
 "nbformat_minor": 5
}
