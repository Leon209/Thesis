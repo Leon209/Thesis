{
 "cells": [
  {
   "cell_type": "markdown",
   "id": "cc898a64-7f5e-4dd4-8c36-8a84c9c23cc6",
   "metadata": {},
   "source": [
    "<h1>Imports<h1>"
   ]
  },
  {
   "cell_type": "code",
   "execution_count": 1,
   "id": "dd07edfa-1d08-45b5-8dfc-b1e139a14099",
   "metadata": {},
   "outputs": [
    {
     "name": "stdout",
     "output_type": "stream",
     "text": [
      "/work/lurny/files/Thesis\n"
     ]
    }
   ],
   "source": [
    "#setting rood directory into ../NeuralPowerDisaggregation\n",
    "import os\n",
    "os.chdir(\"..\")\n",
    "print(os.getcwd())"
   ]
  },
  {
   "cell_type": "code",
   "execution_count": 2,
   "id": "d1c25207-6a37-4b41-8a97-0fe4a877110b",
   "metadata": {},
   "outputs": [],
   "source": [
    "from utilities.configs import *\n",
    "config1 = get_config_for_dataset('NOAA_Weather')"
   ]
  },
  {
   "cell_type": "code",
   "execution_count": 3,
   "id": "ed67d911-f7f1-4738-8bbd-1c5c20c7d417",
   "metadata": {},
   "outputs": [
    {
     "name": "stdout",
     "output_type": "stream",
     "text": [
      "2023-01-20--07-22-46110847\n"
     ]
    }
   ],
   "source": [
    "import numpy as np\n",
    "np.set_printoptions(suppress=True)\n",
    "\n",
    "import sklearn\n",
    "from sklearn.datasets import make_classification\n",
    "from sklearn.model_selection import train_test_split, ParameterGrid, ParameterSampler, GridSearchCV, RandomizedSearchCV, StratifiedKFold\n",
    "from sklearn.tree import DecisionTreeClassifier, plot_tree, DecisionTreeRegressor\n",
    "from sklearn.metrics import accuracy_score, f1_score, make_scorer\n",
    "from sklearn.compose import ColumnTransformer\n",
    "from sklearn.preprocessing import OneHotEncoder, MinMaxScaler, LabelEncoder, OrdinalEncoder\n",
    "#from pydl85 import DL85Classifier\n",
    "\n",
    "from livelossplot import PlotLosses\n",
    "\n",
    "import os\n",
    "from tqdm.notebook import tqdm\n",
    "from matplotlib import pyplot as plt\n",
    "\n",
    "from IPython.display import Image\n",
    "from IPython.display import display, clear_output\n",
    "\n",
    "import pandas as pd\n",
    "\n",
    "if config1['computation']['use_gpu']:\n",
    "    os.environ['CUDA_VISIBLE_DEVICES'] = str(config1['computation']['gpu_numbers'])\n",
    "    os.environ['TF_FORCE_GPU_ALLOW_GROWTH'] = 'true'\n",
    "    os.environ['XLA_FLAGS'] = \"--xla_gpu_cuda_data_dir=/usr/local/cuda-11.6\"\n",
    "    os.environ['TF_XLA_FLAGS'] = \"--tf_xla_enable_xla_devices --tf_xla_auto_jit=2\"    \n",
    "else:\n",
    "    os.environ['CUDA_VISIBLE_DEVICES'] = ''\n",
    "    os.environ['TF_FORCE_GPU_ALLOW_GROWTH'] = 'false' \n",
    "#os.environ['TF_XLA_FLAGS'] = \"--tf_xla_auto_jit=2 --tf_xla_cpu_global_jit\" \n",
    "\n",
    "\n",
    "import warnings\n",
    "warnings.filterwarnings('ignore')\n",
    "os.environ['TF_CPP_MIN_LOG_LEVEL'] = '3' \n",
    "os.environ[\"PYTHONWARNINGS\"] = \"ignore\"\n",
    "import logging\n",
    "\n",
    "import tensorflow as tf\n",
    "import tensorflow_addons as tfa\n",
    "\n",
    "tf.get_logger().setLevel('ERROR')\n",
    "tf.autograph.set_verbosity(3)\n",
    "\n",
    "np.seterr(all=\"ignore\")\n",
    "\n",
    "from keras import backend as K\n",
    "from keras.utils.generic_utils import get_custom_objects\n",
    "\n",
    "\n",
    "import seaborn as sns\n",
    "sns.set_style(\"darkgrid\")\n",
    "\n",
    "import time\n",
    "import random\n",
    "\n",
    "from utilities.utilities_GDT import *\n",
    "from utilities.GDT_for_streams import *\n",
    "\n",
    "from joblib import Parallel, delayed\n",
    "\n",
    "from itertools import product\n",
    "from collections.abc import Iterable\n",
    "\n",
    "from copy import deepcopy\n",
    "from pathlib import Path\n",
    "import pickle\n",
    "import dill\n",
    "\n",
    "from skmultiflow.trees import HoeffdingTreeClassifier\n",
    "from skmultiflow.trees import HoeffdingAdaptiveTreeClassifier\n",
    "from sklearn.metrics import f1_score\n",
    "from sklearn.metrics import accuracy_score\n",
    "from livelossplot import PlotLosses\n",
    "import time\n",
    "\n",
    "tf.random.set_seed(config1['computation']['random_seed'])\n",
    "np.random.seed(config1['computation']['random_seed'])\n",
    "random.seed(config1['computation']['random_seed'])\n",
    "\n",
    "from datetime import datetime\n",
    "timestr = datetime.utcnow().strftime('%Y-%m-%d--%H-%M-%S%f')\n",
    "print(timestr)\n",
    "os.makedirs(os.path.dirname(\"./evaluation_results/latex_tables/\" + timestr +\"/\"), exist_ok=True)\n",
    "\n",
    "filepath = './evaluation_results/depth' + str(config1['gdt']['depth']) + '/' + timestr + '/'\n",
    "Path(filepath).mkdir(parents=True, exist_ok=True)    \n",
    "\n",
    "\n",
    "pd.set_option('display.max_rows', 100)\n",
    "pd.set_option('display.max_columns', 100)"
   ]
  },
  {
   "cell_type": "code",
   "execution_count": 4,
   "id": "a6027aa6-692d-468d-a6a4-93b4f414a1ed",
   "metadata": {},
   "outputs": [
    {
     "name": "stdout",
     "output_type": "stream",
     "text": [
      "Num GPUs Available:  1\n",
      "Num XLA-GPUs Available:  1\n"
     ]
    }
   ],
   "source": [
    "print(\"Num GPUs Available: \", len(tf.config.experimental.list_physical_devices('GPU')))\n",
    "print(\"Num XLA-GPUs Available: \", len(tf.config.experimental.list_physical_devices('XLA_GPU')))"
   ]
  },
  {
   "cell_type": "code",
   "execution_count": 5,
   "id": "6664e044-346a-432c-b863-c757829efa1c",
   "metadata": {},
   "outputs": [],
   "source": [
    "import math\n",
    "def split_df_chunks(data_df,chunk_size):\n",
    "    total_length     = len(data_df)\n",
    "    normal_chunk_num = math.floor(total_length/chunk_size)\n",
    "    chunks = []\n",
    "    for i in range(normal_chunk_num):\n",
    "        chunk = data_df[(i*chunk_size):((i+1)*chunk_size)]\n",
    "        chunks.append(chunk)\n",
    "\n",
    "    return chunks"
   ]
  },
  {
   "cell_type": "markdown",
   "id": "9a71fa12-9914-4f47-a2e5-68a8751c8ce3",
   "metadata": {},
   "source": [
    "# Evaluation of agr_a dataset"
   ]
  },
  {
   "cell_type": "code",
   "execution_count": 6,
   "id": "b2eec461-b6f2-488d-9069-a548d8f91a97",
   "metadata": {},
   "outputs": [
    {
     "name": "stdout",
     "output_type": "stream",
     "text": [
      "Original Data Shape (selected):  (1000, 8)\n",
      "Original Data Shape (encoded):  (1000, 8)\n",
      "Original Data Class Distribution:  326  (true) / 674  (false)\n",
      "(600, 8) (600,)\n",
      "(200, 8) (200,)\n",
      "(200, 8) (200,)\n",
      "Min Ratio:  0.31\n",
      "Min Ratio:  0.5\n",
      "Min Ratio:  0.32125\n",
      "Min Ratio:  0.5\n"
     ]
    },
    {
     "data": {
      "application/vnd.jupyter.widget-view+json": {
       "model_id": "23b64ed51e1c490191ebd3b5a84440c1",
       "version_major": 2,
       "version_minor": 0
      },
      "text/plain": [
       "restarts:   0%|          | 0/1 [00:00<?, ?it/s]"
      ]
     },
     "metadata": {},
     "output_type": "display_data"
    },
    {
     "data": {
      "application/vnd.jupyter.widget-view+json": {
       "model_id": "a4cd4ccc5d6743fe9efcec2a068801cf",
       "version_major": 2,
       "version_minor": 0
      },
      "text/plain": [
       "epochs:   0%|          | 0/20 [00:00<?, ?it/s]"
      ]
     },
     "metadata": {},
     "output_type": "display_data"
    },
    {
     "name": "stdout",
     "output_type": "stream",
     "text": [
      "<tf.Variable 'Adam_2/learning_rate:0' shape=() dtype=float32>\n",
      "<tf.Variable 'Adam_2/learning_rate:0' shape=() dtype=float32>\n",
      "<tf.Variable 'Adam_2/learning_rate:0' shape=() dtype=float32>\n",
      "Original Data Shape (selected):  (1000, 8)\n",
      "Original Data Shape (encoded):  (1000, 8)\n",
      "Original Data Class Distribution:  273  (true) / 727  (false)\n",
      "(600, 8) (600,)\n",
      "(200, 8) (200,)\n",
      "(200, 8) (200,)\n",
      "Min Ratio:  0.265\n",
      "Min Ratio:  0.5\n",
      "Min Ratio:  0.27\n",
      "Min Ratio:  0.5\n"
     ]
    },
    {
     "data": {
      "application/vnd.jupyter.widget-view+json": {
       "model_id": "cfe3e1402a274f9f890b426e39676d7f",
       "version_major": 2,
       "version_minor": 0
      },
      "text/plain": [
       "restarts:   0%|          | 0/1 [00:00<?, ?it/s]"
      ]
     },
     "metadata": {},
     "output_type": "display_data"
    },
    {
     "data": {
      "application/vnd.jupyter.widget-view+json": {
       "model_id": "7cf42964d8b246e1b824b213103fb8d1",
       "version_major": 2,
       "version_minor": 0
      },
      "text/plain": [
       "epochs:   0%|          | 0/1 [00:00<?, ?it/s]"
      ]
     },
     "metadata": {},
     "output_type": "display_data"
    },
    {
     "name": "stdout",
     "output_type": "stream",
     "text": [
      "<tf.Variable 'Adam_2/learning_rate:0' shape=() dtype=float32>\n",
      "<tf.Variable 'Adam_2/learning_rate:0' shape=() dtype=float32>\n",
      "Original Data Shape (selected):  (1000, 8)\n",
      "Original Data Shape (encoded):  (1000, 8)\n",
      "Original Data Class Distribution:  268  (true) / 732  (false)\n",
      "(600, 8) (600,)\n",
      "(200, 8) (200,)\n",
      "(200, 8) (200,)\n",
      "Min Ratio:  0.2733333333333333\n",
      "Min Ratio:  0.5\n",
      "Min Ratio:  0.27625\n",
      "Min Ratio:  0.5\n"
     ]
    },
    {
     "data": {
      "application/vnd.jupyter.widget-view+json": {
       "model_id": "324eb20c4f004ceb9ed38d2383b25c8c",
       "version_major": 2,
       "version_minor": 0
      },
      "text/plain": [
       "restarts:   0%|          | 0/1 [00:00<?, ?it/s]"
      ]
     },
     "metadata": {},
     "output_type": "display_data"
    },
    {
     "data": {
      "application/vnd.jupyter.widget-view+json": {
       "model_id": "22c972bc72444a00a8adff569699dc94",
       "version_major": 2,
       "version_minor": 0
      },
      "text/plain": [
       "epochs:   0%|          | 0/1 [00:00<?, ?it/s]"
      ]
     },
     "metadata": {},
     "output_type": "display_data"
    },
    {
     "name": "stdout",
     "output_type": "stream",
     "text": [
      "<tf.Variable 'Adam_2/learning_rate:0' shape=() dtype=float32>\n",
      "<tf.Variable 'Adam_2/learning_rate:0' shape=() dtype=float32>\n",
      "Original Data Shape (selected):  (1000, 8)\n",
      "Original Data Shape (encoded):  (1000, 8)\n",
      "Original Data Class Distribution:  313  (true) / 687  (false)\n",
      "(600, 8) (600,)\n",
      "(200, 8) (200,)\n",
      "(200, 8) (200,)\n",
      "Min Ratio:  0.32166666666666666\n",
      "Min Ratio:  0.5\n",
      "Min Ratio:  0.32125\n",
      "Min Ratio:  0.5\n"
     ]
    },
    {
     "data": {
      "application/vnd.jupyter.widget-view+json": {
       "model_id": "66de00b4ea35495892cdc2e40dfd7059",
       "version_major": 2,
       "version_minor": 0
      },
      "text/plain": [
       "restarts:   0%|          | 0/1 [00:00<?, ?it/s]"
      ]
     },
     "metadata": {},
     "output_type": "display_data"
    },
    {
     "data": {
      "application/vnd.jupyter.widget-view+json": {
       "model_id": "dffb79c8a06241f6bf7f2c5aa88402de",
       "version_major": 2,
       "version_minor": 0
      },
      "text/plain": [
       "epochs:   0%|          | 0/1 [00:00<?, ?it/s]"
      ]
     },
     "metadata": {},
     "output_type": "display_data"
    },
    {
     "name": "stdout",
     "output_type": "stream",
     "text": [
      "<tf.Variable 'Adam_2/learning_rate:0' shape=() dtype=float32>\n",
      "<tf.Variable 'Adam_2/learning_rate:0' shape=() dtype=float32>\n",
      "Original Data Shape (selected):  (1000, 8)\n",
      "Original Data Shape (encoded):  (1000, 8)\n",
      "Original Data Class Distribution:  306  (true) / 694  (false)\n",
      "(600, 8) (600,)\n",
      "(200, 8) (200,)\n",
      "(200, 8) (200,)\n",
      "Min Ratio:  0.31833333333333336\n",
      "Min Ratio:  0.5\n",
      "Min Ratio:  0.31375\n",
      "Min Ratio:  0.5\n"
     ]
    },
    {
     "data": {
      "application/vnd.jupyter.widget-view+json": {
       "model_id": "bed9a83d357446e98cb615a203cdc8b6",
       "version_major": 2,
       "version_minor": 0
      },
      "text/plain": [
       "restarts:   0%|          | 0/1 [00:00<?, ?it/s]"
      ]
     },
     "metadata": {},
     "output_type": "display_data"
    },
    {
     "data": {
      "application/vnd.jupyter.widget-view+json": {
       "model_id": "b372ec4637a74adcb22f9db76ebc0c65",
       "version_major": 2,
       "version_minor": 0
      },
      "text/plain": [
       "epochs:   0%|          | 0/1 [00:00<?, ?it/s]"
      ]
     },
     "metadata": {},
     "output_type": "display_data"
    },
    {
     "name": "stdout",
     "output_type": "stream",
     "text": [
      "<tf.Variable 'Adam_2/learning_rate:0' shape=() dtype=float32>\n",
      "<tf.Variable 'Adam_2/learning_rate:0' shape=() dtype=float32>\n",
      "Original Data Shape (selected):  (1000, 8)\n",
      "Original Data Shape (encoded):  (1000, 8)\n",
      "Original Data Class Distribution:  305  (true) / 695  (false)\n",
      "(600, 8) (600,)\n",
      "(200, 8) (200,)\n",
      "(200, 8) (200,)\n",
      "Min Ratio:  0.29833333333333334\n",
      "Min Ratio:  0.5\n",
      "Min Ratio:  0.29875\n",
      "Min Ratio:  0.5\n"
     ]
    },
    {
     "data": {
      "application/vnd.jupyter.widget-view+json": {
       "model_id": "f6d781b94ed74baa80d19e4acf21472e",
       "version_major": 2,
       "version_minor": 0
      },
      "text/plain": [
       "restarts:   0%|          | 0/1 [00:00<?, ?it/s]"
      ]
     },
     "metadata": {},
     "output_type": "display_data"
    },
    {
     "data": {
      "application/vnd.jupyter.widget-view+json": {
       "model_id": "5f94ba02270647dda376eb041abb4235",
       "version_major": 2,
       "version_minor": 0
      },
      "text/plain": [
       "epochs:   0%|          | 0/1 [00:00<?, ?it/s]"
      ]
     },
     "metadata": {},
     "output_type": "display_data"
    },
    {
     "name": "stdout",
     "output_type": "stream",
     "text": [
      "<tf.Variable 'Adam_2/learning_rate:0' shape=() dtype=float32>\n",
      "<tf.Variable 'Adam_2/learning_rate:0' shape=() dtype=float32>\n",
      "Original Data Shape (selected):  (1000, 8)\n",
      "Original Data Shape (encoded):  (1000, 8)\n",
      "Original Data Class Distribution:  285  (true) / 715  (false)\n",
      "(600, 8) (600,)\n",
      "(200, 8) (200,)\n",
      "(200, 8) (200,)\n",
      "Min Ratio:  0.2916666666666667\n",
      "Min Ratio:  0.5\n",
      "Min Ratio:  0.2925\n",
      "Min Ratio:  0.5\n"
     ]
    },
    {
     "data": {
      "application/vnd.jupyter.widget-view+json": {
       "model_id": "0c53b1ac32e84775a27759d981010132",
       "version_major": 2,
       "version_minor": 0
      },
      "text/plain": [
       "restarts:   0%|          | 0/1 [00:00<?, ?it/s]"
      ]
     },
     "metadata": {},
     "output_type": "display_data"
    },
    {
     "data": {
      "application/vnd.jupyter.widget-view+json": {
       "model_id": "cfae31d0c4f047bba1ff0fe8ae6789e2",
       "version_major": 2,
       "version_minor": 0
      },
      "text/plain": [
       "epochs:   0%|          | 0/1 [00:00<?, ?it/s]"
      ]
     },
     "metadata": {},
     "output_type": "display_data"
    },
    {
     "name": "stdout",
     "output_type": "stream",
     "text": [
      "<tf.Variable 'Adam_2/learning_rate:0' shape=() dtype=float32>\n",
      "<tf.Variable 'Adam_2/learning_rate:0' shape=() dtype=float32>\n",
      "Original Data Shape (selected):  (1000, 8)\n",
      "Original Data Shape (encoded):  (1000, 8)\n",
      "Original Data Class Distribution:  320  (true) / 680  (false)\n",
      "(600, 8) (600,)\n",
      "(200, 8) (200,)\n",
      "(200, 8) (200,)\n",
      "Min Ratio:  0.32\n",
      "Min Ratio:  0.5\n",
      "Min Ratio:  0.31625\n",
      "Min Ratio:  0.5\n"
     ]
    },
    {
     "data": {
      "application/vnd.jupyter.widget-view+json": {
       "model_id": "675f32572e934fdbb4633787b24c3606",
       "version_major": 2,
       "version_minor": 0
      },
      "text/plain": [
       "restarts:   0%|          | 0/1 [00:00<?, ?it/s]"
      ]
     },
     "metadata": {},
     "output_type": "display_data"
    },
    {
     "data": {
      "application/vnd.jupyter.widget-view+json": {
       "model_id": "ba3e6587894347cbac7b6f8d36b60aad",
       "version_major": 2,
       "version_minor": 0
      },
      "text/plain": [
       "epochs:   0%|          | 0/1 [00:00<?, ?it/s]"
      ]
     },
     "metadata": {},
     "output_type": "display_data"
    },
    {
     "name": "stdout",
     "output_type": "stream",
     "text": [
      "<tf.Variable 'Adam_2/learning_rate:0' shape=() dtype=float32>\n",
      "<tf.Variable 'Adam_2/learning_rate:0' shape=() dtype=float32>\n",
      "Original Data Shape (selected):  (1000, 8)\n",
      "Original Data Shape (encoded):  (1000, 8)\n",
      "Original Data Class Distribution:  319  (true) / 681  (false)\n",
      "(600, 8) (600,)\n",
      "(200, 8) (200,)\n",
      "(200, 8) (200,)\n",
      "Min Ratio:  0.3233333333333333\n",
      "Min Ratio:  0.5\n",
      "Min Ratio:  0.32875\n",
      "Min Ratio:  0.5\n"
     ]
    },
    {
     "data": {
      "application/vnd.jupyter.widget-view+json": {
       "model_id": "b5505b5c80584fffaf4eee0f67078eed",
       "version_major": 2,
       "version_minor": 0
      },
      "text/plain": [
       "restarts:   0%|          | 0/1 [00:00<?, ?it/s]"
      ]
     },
     "metadata": {},
     "output_type": "display_data"
    },
    {
     "data": {
      "application/vnd.jupyter.widget-view+json": {
       "model_id": "c80a289db1204345a88a265b628fec6d",
       "version_major": 2,
       "version_minor": 0
      },
      "text/plain": [
       "epochs:   0%|          | 0/1 [00:00<?, ?it/s]"
      ]
     },
     "metadata": {},
     "output_type": "display_data"
    },
    {
     "name": "stdout",
     "output_type": "stream",
     "text": [
      "<tf.Variable 'Adam_2/learning_rate:0' shape=() dtype=float32>\n",
      "<tf.Variable 'Adam_2/learning_rate:0' shape=() dtype=float32>\n",
      "Original Data Shape (selected):  (1000, 8)\n",
      "Original Data Shape (encoded):  (1000, 8)\n",
      "Original Data Class Distribution:  288  (true) / 712  (false)\n",
      "(600, 8) (600,)\n",
      "(200, 8) (200,)\n",
      "(200, 8) (200,)\n",
      "Min Ratio:  0.2733333333333333\n",
      "Min Ratio:  0.5\n",
      "Min Ratio:  0.27875\n",
      "Min Ratio:  0.5\n"
     ]
    },
    {
     "data": {
      "application/vnd.jupyter.widget-view+json": {
       "model_id": "414b3695bc2f46eba1961cc3a45987ec",
       "version_major": 2,
       "version_minor": 0
      },
      "text/plain": [
       "restarts:   0%|          | 0/1 [00:00<?, ?it/s]"
      ]
     },
     "metadata": {},
     "output_type": "display_data"
    },
    {
     "data": {
      "application/vnd.jupyter.widget-view+json": {
       "model_id": "60ce5e2423164737a5828e1ba14009e9",
       "version_major": 2,
       "version_minor": 0
      },
      "text/plain": [
       "epochs:   0%|          | 0/1 [00:00<?, ?it/s]"
      ]
     },
     "metadata": {},
     "output_type": "display_data"
    },
    {
     "name": "stdout",
     "output_type": "stream",
     "text": [
      "<tf.Variable 'Adam_2/learning_rate:0' shape=() dtype=float32>\n",
      "<tf.Variable 'Adam_2/learning_rate:0' shape=() dtype=float32>\n",
      "Original Data Shape (selected):  (1000, 8)\n",
      "Original Data Shape (encoded):  (1000, 8)\n",
      "Original Data Class Distribution:  265  (true) / 735  (false)\n",
      "(600, 8) (600,)\n",
      "(200, 8) (200,)\n",
      "(200, 8) (200,)\n",
      "Min Ratio:  0.24166666666666667\n",
      "Min Ratio:  0.5\n",
      "Min Ratio:  0.255\n",
      "Min Ratio:  0.5\n"
     ]
    },
    {
     "data": {
      "application/vnd.jupyter.widget-view+json": {
       "model_id": "8d4b16462b464f75839b9024a3506605",
       "version_major": 2,
       "version_minor": 0
      },
      "text/plain": [
       "restarts:   0%|          | 0/1 [00:00<?, ?it/s]"
      ]
     },
     "metadata": {},
     "output_type": "display_data"
    },
    {
     "data": {
      "application/vnd.jupyter.widget-view+json": {
       "model_id": "9e22a635fccf4a38a51e29d114d79c06",
       "version_major": 2,
       "version_minor": 0
      },
      "text/plain": [
       "epochs:   0%|          | 0/1 [00:00<?, ?it/s]"
      ]
     },
     "metadata": {},
     "output_type": "display_data"
    },
    {
     "name": "stdout",
     "output_type": "stream",
     "text": [
      "<tf.Variable 'Adam_2/learning_rate:0' shape=() dtype=float32>\n",
      "<tf.Variable 'Adam_2/learning_rate:0' shape=() dtype=float32>\n",
      "Original Data Shape (selected):  (1000, 8)\n",
      "Original Data Shape (encoded):  (1000, 8)\n",
      "Original Data Class Distribution:  257  (true) / 743  (false)\n",
      "(600, 8) (600,)\n",
      "(200, 8) (200,)\n",
      "(200, 8) (200,)\n",
      "Min Ratio:  0.27166666666666667\n",
      "Min Ratio:  0.5\n",
      "Min Ratio:  0.26625\n",
      "Min Ratio:  0.5\n"
     ]
    },
    {
     "data": {
      "application/vnd.jupyter.widget-view+json": {
       "model_id": "f8bf3775a08a4e20b74b9452d04de765",
       "version_major": 2,
       "version_minor": 0
      },
      "text/plain": [
       "restarts:   0%|          | 0/1 [00:00<?, ?it/s]"
      ]
     },
     "metadata": {},
     "output_type": "display_data"
    },
    {
     "data": {
      "application/vnd.jupyter.widget-view+json": {
       "model_id": "111a38f7f01845f4b8b7f766330b89e3",
       "version_major": 2,
       "version_minor": 0
      },
      "text/plain": [
       "epochs:   0%|          | 0/1 [00:00<?, ?it/s]"
      ]
     },
     "metadata": {},
     "output_type": "display_data"
    },
    {
     "name": "stdout",
     "output_type": "stream",
     "text": [
      "<tf.Variable 'Adam_2/learning_rate:0' shape=() dtype=float32>\n",
      "<tf.Variable 'Adam_2/learning_rate:0' shape=() dtype=float32>\n",
      "Original Data Shape (selected):  (1000, 8)\n",
      "Original Data Shape (encoded):  (1000, 8)\n",
      "Original Data Class Distribution:  335  (true) / 665  (false)\n",
      "(600, 8) (600,)\n",
      "(200, 8) (200,)\n",
      "(200, 8) (200,)\n",
      "Min Ratio:  0.315\n",
      "Min Ratio:  0.5\n",
      "Min Ratio:  0.33375\n",
      "Min Ratio:  0.5\n"
     ]
    },
    {
     "data": {
      "application/vnd.jupyter.widget-view+json": {
       "model_id": "6f2ecaa2a4214f7ca66b05826f766a30",
       "version_major": 2,
       "version_minor": 0
      },
      "text/plain": [
       "restarts:   0%|          | 0/1 [00:00<?, ?it/s]"
      ]
     },
     "metadata": {},
     "output_type": "display_data"
    },
    {
     "data": {
      "application/vnd.jupyter.widget-view+json": {
       "model_id": "1baa9787d37041d3a3a8e1d51dd65666",
       "version_major": 2,
       "version_minor": 0
      },
      "text/plain": [
       "epochs:   0%|          | 0/1 [00:00<?, ?it/s]"
      ]
     },
     "metadata": {},
     "output_type": "display_data"
    },
    {
     "name": "stdout",
     "output_type": "stream",
     "text": [
      "<tf.Variable 'Adam_2/learning_rate:0' shape=() dtype=float32>\n",
      "<tf.Variable 'Adam_2/learning_rate:0' shape=() dtype=float32>\n",
      "Original Data Shape (selected):  (1000, 8)\n",
      "Original Data Shape (encoded):  (1000, 8)\n",
      "Original Data Class Distribution:  394  (true) / 606  (false)\n",
      "(600, 8) (600,)\n",
      "(200, 8) (200,)\n",
      "(200, 8) (200,)\n",
      "Min Ratio:  0.39666666666666667\n",
      "Min Ratio:  0.5\n",
      "Min Ratio:  0.39125\n",
      "Min Ratio:  0.5\n"
     ]
    },
    {
     "data": {
      "application/vnd.jupyter.widget-view+json": {
       "model_id": "423ec1ef123e4939bbde6309e5d23539",
       "version_major": 2,
       "version_minor": 0
      },
      "text/plain": [
       "restarts:   0%|          | 0/1 [00:00<?, ?it/s]"
      ]
     },
     "metadata": {},
     "output_type": "display_data"
    },
    {
     "data": {
      "application/vnd.jupyter.widget-view+json": {
       "model_id": "b8382e5f1a714c7e9a7c72a5275668d8",
       "version_major": 2,
       "version_minor": 0
      },
      "text/plain": [
       "epochs:   0%|          | 0/1 [00:00<?, ?it/s]"
      ]
     },
     "metadata": {},
     "output_type": "display_data"
    },
    {
     "name": "stdout",
     "output_type": "stream",
     "text": [
      "<tf.Variable 'Adam_2/learning_rate:0' shape=() dtype=float32>\n",
      "<tf.Variable 'Adam_2/learning_rate:0' shape=() dtype=float32>\n",
      "Original Data Shape (selected):  (1000, 8)\n",
      "Original Data Shape (encoded):  (1000, 8)\n",
      "Original Data Class Distribution:  309  (true) / 691  (false)\n",
      "(600, 8) (600,)\n",
      "(200, 8) (200,)\n",
      "(200, 8) (200,)\n",
      "Min Ratio:  0.3016666666666667\n",
      "Min Ratio:  0.5\n",
      "Min Ratio:  0.30375\n",
      "Min Ratio:  0.5\n"
     ]
    },
    {
     "data": {
      "application/vnd.jupyter.widget-view+json": {
       "model_id": "03b9368867344930a25a6cb9cd3c4a0d",
       "version_major": 2,
       "version_minor": 0
      },
      "text/plain": [
       "restarts:   0%|          | 0/1 [00:00<?, ?it/s]"
      ]
     },
     "metadata": {},
     "output_type": "display_data"
    },
    {
     "data": {
      "application/vnd.jupyter.widget-view+json": {
       "model_id": "c4ac013ed2e74476bfb234c010574dd1",
       "version_major": 2,
       "version_minor": 0
      },
      "text/plain": [
       "epochs:   0%|          | 0/1 [00:00<?, ?it/s]"
      ]
     },
     "metadata": {},
     "output_type": "display_data"
    },
    {
     "name": "stdout",
     "output_type": "stream",
     "text": [
      "<tf.Variable 'Adam_2/learning_rate:0' shape=() dtype=float32>\n",
      "<tf.Variable 'Adam_2/learning_rate:0' shape=() dtype=float32>\n",
      "Original Data Shape (selected):  (1000, 8)\n",
      "Original Data Shape (encoded):  (1000, 8)\n",
      "Original Data Class Distribution:  398  (true) / 602  (false)\n",
      "(600, 8) (600,)\n",
      "(200, 8) (200,)\n",
      "(200, 8) (200,)\n",
      "Min Ratio:  0.4066666666666667\n",
      "Min Ratio:  0.5\n",
      "Min Ratio:  0.395\n",
      "Min Ratio:  0.5\n"
     ]
    },
    {
     "data": {
      "application/vnd.jupyter.widget-view+json": {
       "model_id": "3f1c8f63854e489c96038eaf7b804485",
       "version_major": 2,
       "version_minor": 0
      },
      "text/plain": [
       "restarts:   0%|          | 0/1 [00:00<?, ?it/s]"
      ]
     },
     "metadata": {},
     "output_type": "display_data"
    },
    {
     "data": {
      "application/vnd.jupyter.widget-view+json": {
       "model_id": "7aaee93e8a52456ea895c5d28330b3f2",
       "version_major": 2,
       "version_minor": 0
      },
      "text/plain": [
       "epochs:   0%|          | 0/1 [00:00<?, ?it/s]"
      ]
     },
     "metadata": {},
     "output_type": "display_data"
    },
    {
     "name": "stdout",
     "output_type": "stream",
     "text": [
      "<tf.Variable 'Adam_2/learning_rate:0' shape=() dtype=float32>\n",
      "<tf.Variable 'Adam_2/learning_rate:0' shape=() dtype=float32>\n",
      "Original Data Shape (selected):  (1000, 8)\n",
      "Original Data Shape (encoded):  (1000, 8)\n",
      "Original Data Class Distribution:  331  (true) / 669  (false)\n",
      "(600, 8) (600,)\n",
      "(200, 8) (200,)\n",
      "(200, 8) (200,)\n",
      "Min Ratio:  0.315\n",
      "Min Ratio:  0.5\n",
      "Min Ratio:  0.3275\n",
      "Min Ratio:  0.5\n"
     ]
    },
    {
     "data": {
      "application/vnd.jupyter.widget-view+json": {
       "model_id": "96fdbcb6df2c449191c5f786464aff58",
       "version_major": 2,
       "version_minor": 0
      },
      "text/plain": [
       "restarts:   0%|          | 0/1 [00:00<?, ?it/s]"
      ]
     },
     "metadata": {},
     "output_type": "display_data"
    },
    {
     "data": {
      "application/vnd.jupyter.widget-view+json": {
       "model_id": "7f5ce60a7a6248ae94311580871a859c",
       "version_major": 2,
       "version_minor": 0
      },
      "text/plain": [
       "epochs:   0%|          | 0/1 [00:00<?, ?it/s]"
      ]
     },
     "metadata": {},
     "output_type": "display_data"
    },
    {
     "name": "stdout",
     "output_type": "stream",
     "text": [
      "<tf.Variable 'Adam_2/learning_rate:0' shape=() dtype=float32>\n",
      "<tf.Variable 'Adam_2/learning_rate:0' shape=() dtype=float32>\n",
      "Original Data Shape (selected):  (1000, 8)\n",
      "Original Data Shape (encoded):  (1000, 8)\n",
      "Original Data Class Distribution:  373  (true) / 627  (false)\n",
      "(600, 8) (600,)\n",
      "(200, 8) (200,)\n",
      "(200, 8) (200,)\n",
      "Min Ratio:  0.375\n",
      "Min Ratio:  0.5\n",
      "Min Ratio:  0.365\n",
      "Min Ratio:  0.5\n"
     ]
    },
    {
     "data": {
      "application/vnd.jupyter.widget-view+json": {
       "model_id": "0675cc80d4754fa29586d1f99745ccf1",
       "version_major": 2,
       "version_minor": 0
      },
      "text/plain": [
       "restarts:   0%|          | 0/1 [00:00<?, ?it/s]"
      ]
     },
     "metadata": {},
     "output_type": "display_data"
    },
    {
     "data": {
      "application/vnd.jupyter.widget-view+json": {
       "model_id": "8dc430c0b7ce4467a3d32bce40fdf801",
       "version_major": 2,
       "version_minor": 0
      },
      "text/plain": [
       "epochs:   0%|          | 0/1 [00:00<?, ?it/s]"
      ]
     },
     "metadata": {},
     "output_type": "display_data"
    },
    {
     "name": "stdout",
     "output_type": "stream",
     "text": [
      "<tf.Variable 'Adam_2/learning_rate:0' shape=() dtype=float32>\n",
      "<tf.Variable 'Adam_2/learning_rate:0' shape=() dtype=float32>\n",
      "Original Data Shape (selected):  (10000, 36)\n",
      "Original Data Shape (encoded):  (10000, 36)\n",
      "Original Data Class Distribution:  3246  (true) / 6754  (false)\n",
      "(6000, 36) (6000,)\n",
      "(2000, 36) (2000,)\n",
      "(2000, 36) (2000,)\n",
      "Min Ratio:  0.322\n",
      "Min Ratio:  0.5\n",
      "Min Ratio:  0.32475\n",
      "Min Ratio:  0.5\n"
     ]
    },
    {
     "data": {
      "application/vnd.jupyter.widget-view+json": {
       "model_id": "df2d7129b3a2495fb5f3d8494c5a649b",
       "version_major": 2,
       "version_minor": 0
      },
      "text/plain": [
       "restarts:   0%|          | 0/1 [00:00<?, ?it/s]"
      ]
     },
     "metadata": {},
     "output_type": "display_data"
    },
    {
     "data": {
      "application/vnd.jupyter.widget-view+json": {
       "model_id": "1f2606b2039e4f78a86b40900ba04860",
       "version_major": 2,
       "version_minor": 0
      },
      "text/plain": [
       "epochs:   0%|          | 0/30 [00:00<?, ?it/s]"
      ]
     },
     "metadata": {},
     "output_type": "display_data"
    },
    {
     "name": "stdout",
     "output_type": "stream",
     "text": [
      "<tf.Variable 'Adam_2/learning_rate:0' shape=() dtype=float32>\n",
      "<tf.Variable 'Adam_2/learning_rate:0' shape=() dtype=float32>\n",
      "<tf.Variable 'Adam_2/learning_rate:0' shape=() dtype=float32>\n",
      "Original Data Shape (selected):  (2500, 36)\n",
      "Original Data Shape (encoded):  (2500, 36)\n",
      "Original Data Class Distribution:  790  (true) / 1710  (false)\n",
      "(1500, 36) (1500,)\n",
      "(500, 36) (500,)\n",
      "(500, 36) (500,)\n",
      "Min Ratio:  0.314\n",
      "Min Ratio:  0.5\n",
      "Min Ratio:  0.3145\n",
      "Min Ratio:  0.5\n"
     ]
    },
    {
     "data": {
      "application/vnd.jupyter.widget-view+json": {
       "model_id": "a588ab38c5704706bde7c195b0c14b3e",
       "version_major": 2,
       "version_minor": 0
      },
      "text/plain": [
       "restarts:   0%|          | 0/1 [00:00<?, ?it/s]"
      ]
     },
     "metadata": {},
     "output_type": "display_data"
    },
    {
     "data": {
      "application/vnd.jupyter.widget-view+json": {
       "model_id": "518eb81c0a17483583d8d7c2750a61c1",
       "version_major": 2,
       "version_minor": 0
      },
      "text/plain": [
       "epochs:   0%|          | 0/1 [00:00<?, ?it/s]"
      ]
     },
     "metadata": {},
     "output_type": "display_data"
    },
    {
     "name": "stdout",
     "output_type": "stream",
     "text": [
      "<tf.Variable 'Adam_2/learning_rate:0' shape=() dtype=float32>\n",
      "<tf.Variable 'Adam_2/learning_rate:0' shape=() dtype=float32>\n",
      "Original Data Shape (selected):  (2500, 36)\n",
      "Original Data Shape (encoded):  (2500, 36)\n",
      "Original Data Class Distribution:  755  (true) / 1745  (false)\n",
      "(1500, 36) (1500,)\n",
      "(500, 36) (500,)\n",
      "(500, 36) (500,)\n",
      "Min Ratio:  0.29933333333333334\n",
      "Min Ratio:  0.5\n",
      "Min Ratio:  0.3025\n",
      "Min Ratio:  0.5\n"
     ]
    },
    {
     "data": {
      "application/vnd.jupyter.widget-view+json": {
       "model_id": "573c14bdf1a9438491cd95ff839a45ff",
       "version_major": 2,
       "version_minor": 0
      },
      "text/plain": [
       "restarts:   0%|          | 0/1 [00:00<?, ?it/s]"
      ]
     },
     "metadata": {},
     "output_type": "display_data"
    },
    {
     "data": {
      "application/vnd.jupyter.widget-view+json": {
       "model_id": "fd6d32a365044d7aae9bd9a4a5f83a4b",
       "version_major": 2,
       "version_minor": 0
      },
      "text/plain": [
       "epochs:   0%|          | 0/1 [00:00<?, ?it/s]"
      ]
     },
     "metadata": {},
     "output_type": "display_data"
    },
    {
     "name": "stdout",
     "output_type": "stream",
     "text": [
      "<tf.Variable 'Adam_2/learning_rate:0' shape=() dtype=float32>\n",
      "<tf.Variable 'Adam_2/learning_rate:0' shape=() dtype=float32>\n",
      "Original Data Shape (selected):  (2500, 36)\n",
      "Original Data Shape (encoded):  (2500, 36)\n",
      "Original Data Class Distribution:  818  (true) / 1682  (false)\n",
      "(1500, 36) (1500,)\n",
      "(500, 36) (500,)\n",
      "(500, 36) (500,)\n",
      "Min Ratio:  0.32466666666666666\n",
      "Min Ratio:  0.5\n",
      "Min Ratio:  0.324\n",
      "Min Ratio:  0.5\n"
     ]
    },
    {
     "data": {
      "application/vnd.jupyter.widget-view+json": {
       "model_id": "f93ce3ab38ed435192f93bc81d304629",
       "version_major": 2,
       "version_minor": 0
      },
      "text/plain": [
       "restarts:   0%|          | 0/1 [00:00<?, ?it/s]"
      ]
     },
     "metadata": {},
     "output_type": "display_data"
    },
    {
     "data": {
      "application/vnd.jupyter.widget-view+json": {
       "model_id": "2dca1b8ba8cd46d687e22054581dab73",
       "version_major": 2,
       "version_minor": 0
      },
      "text/plain": [
       "epochs:   0%|          | 0/1 [00:00<?, ?it/s]"
      ]
     },
     "metadata": {},
     "output_type": "display_data"
    },
    {
     "name": "stdout",
     "output_type": "stream",
     "text": [
      "<tf.Variable 'Adam_2/learning_rate:0' shape=() dtype=float32>\n",
      "<tf.Variable 'Adam_2/learning_rate:0' shape=() dtype=float32>\n",
      "Original Data Shape (selected):  (2500, 36)\n",
      "Original Data Shape (encoded):  (2500, 36)\n",
      "Original Data Class Distribution:  862  (true) / 1638  (false)\n",
      "(1500, 36) (1500,)\n",
      "(500, 36) (500,)\n",
      "(500, 36) (500,)\n",
      "Min Ratio:  0.3586666666666667\n",
      "Min Ratio:  0.5\n",
      "Min Ratio:  0.3515\n",
      "Min Ratio:  0.5\n"
     ]
    },
    {
     "data": {
      "application/vnd.jupyter.widget-view+json": {
       "model_id": "42f2aaeb3d1341298e5ef52ce7808039",
       "version_major": 2,
       "version_minor": 0
      },
      "text/plain": [
       "restarts:   0%|          | 0/1 [00:00<?, ?it/s]"
      ]
     },
     "metadata": {},
     "output_type": "display_data"
    },
    {
     "data": {
      "application/vnd.jupyter.widget-view+json": {
       "model_id": "68460bb3177f401084072b3cf99957c5",
       "version_major": 2,
       "version_minor": 0
      },
      "text/plain": [
       "epochs:   0%|          | 0/1 [00:00<?, ?it/s]"
      ]
     },
     "metadata": {},
     "output_type": "display_data"
    },
    {
     "name": "stdout",
     "output_type": "stream",
     "text": [
      "<tf.Variable 'Adam_2/learning_rate:0' shape=() dtype=float32>\n",
      "<tf.Variable 'Adam_2/learning_rate:0' shape=() dtype=float32>\n",
      "Original Data Shape (selected):  (2500, 36)\n",
      "Original Data Shape (encoded):  (2500, 36)\n",
      "Original Data Class Distribution:  797  (true) / 1703  (false)\n",
      "(1500, 36) (1500,)\n",
      "(500, 36) (500,)\n",
      "(500, 36) (500,)\n",
      "Min Ratio:  0.3233333333333333\n",
      "Min Ratio:  0.5\n",
      "Min Ratio:  0.316\n",
      "Min Ratio:  0.5\n"
     ]
    },
    {
     "data": {
      "application/vnd.jupyter.widget-view+json": {
       "model_id": "b00b3c27b53b4e5ab5196ab4525a1381",
       "version_major": 2,
       "version_minor": 0
      },
      "text/plain": [
       "restarts:   0%|          | 0/1 [00:00<?, ?it/s]"
      ]
     },
     "metadata": {},
     "output_type": "display_data"
    },
    {
     "data": {
      "application/vnd.jupyter.widget-view+json": {
       "model_id": "439428a0958a4f59bc9b823c3b381f12",
       "version_major": 2,
       "version_minor": 0
      },
      "text/plain": [
       "epochs:   0%|          | 0/1 [00:00<?, ?it/s]"
      ]
     },
     "metadata": {},
     "output_type": "display_data"
    },
    {
     "name": "stdout",
     "output_type": "stream",
     "text": [
      "<tf.Variable 'Adam_2/learning_rate:0' shape=() dtype=float32>\n",
      "<tf.Variable 'Adam_2/learning_rate:0' shape=() dtype=float32>\n",
      "Original Data Shape (selected):  (2500, 36)\n",
      "Original Data Shape (encoded):  (2500, 36)\n",
      "Original Data Class Distribution:  815  (true) / 1685  (false)\n",
      "(1500, 36) (1500,)\n",
      "(500, 36) (500,)\n",
      "(500, 36) (500,)\n",
      "Min Ratio:  0.32466666666666666\n",
      "Min Ratio:  0.5\n",
      "Min Ratio:  0.33\n",
      "Min Ratio:  0.5\n"
     ]
    },
    {
     "data": {
      "application/vnd.jupyter.widget-view+json": {
       "model_id": "974ee341b1bd4a298a516a8a96b164b3",
       "version_major": 2,
       "version_minor": 0
      },
      "text/plain": [
       "restarts:   0%|          | 0/1 [00:00<?, ?it/s]"
      ]
     },
     "metadata": {},
     "output_type": "display_data"
    },
    {
     "data": {
      "application/vnd.jupyter.widget-view+json": {
       "model_id": "d8c7e41d6a734ba48bcc937c5a11a4d3",
       "version_major": 2,
       "version_minor": 0
      },
      "text/plain": [
       "epochs:   0%|          | 0/1 [00:00<?, ?it/s]"
      ]
     },
     "metadata": {},
     "output_type": "display_data"
    },
    {
     "name": "stdout",
     "output_type": "stream",
     "text": [
      "<tf.Variable 'Adam_2/learning_rate:0' shape=() dtype=float32>\n",
      "<tf.Variable 'Adam_2/learning_rate:0' shape=() dtype=float32>\n",
      "Original Data Shape (selected):  (2500, 36)\n",
      "Original Data Shape (encoded):  (2500, 36)\n",
      "Original Data Class Distribution:  829  (true) / 1671  (false)\n",
      "(1500, 36) (1500,)\n",
      "(500, 36) (500,)\n",
      "(500, 36) (500,)\n",
      "Min Ratio:  0.32866666666666666\n",
      "Min Ratio:  0.5\n",
      "Min Ratio:  0.333\n",
      "Min Ratio:  0.5\n"
     ]
    },
    {
     "data": {
      "application/vnd.jupyter.widget-view+json": {
       "model_id": "acf9d28f6b934e75ae3fb0c491799559",
       "version_major": 2,
       "version_minor": 0
      },
      "text/plain": [
       "restarts:   0%|          | 0/1 [00:00<?, ?it/s]"
      ]
     },
     "metadata": {},
     "output_type": "display_data"
    },
    {
     "data": {
      "application/vnd.jupyter.widget-view+json": {
       "model_id": "70172cc45d084470995896eeb16df460",
       "version_major": 2,
       "version_minor": 0
      },
      "text/plain": [
       "epochs:   0%|          | 0/1 [00:00<?, ?it/s]"
      ]
     },
     "metadata": {},
     "output_type": "display_data"
    },
    {
     "name": "stdout",
     "output_type": "stream",
     "text": [
      "<tf.Variable 'Adam_2/learning_rate:0' shape=() dtype=float32>\n",
      "<tf.Variable 'Adam_2/learning_rate:0' shape=() dtype=float32>\n",
      "Original Data Shape (selected):  (2500, 36)\n",
      "Original Data Shape (encoded):  (2500, 36)\n",
      "Original Data Class Distribution:  806  (true) / 1694  (false)\n",
      "(1500, 36) (1500,)\n",
      "(500, 36) (500,)\n",
      "(500, 36) (500,)\n",
      "Min Ratio:  0.30466666666666664\n",
      "Min Ratio:  0.5\n",
      "Min Ratio:  0.3145\n",
      "Min Ratio:  0.5\n"
     ]
    },
    {
     "data": {
      "application/vnd.jupyter.widget-view+json": {
       "model_id": "c271ba82221045ed83d4ce627212dcf0",
       "version_major": 2,
       "version_minor": 0
      },
      "text/plain": [
       "restarts:   0%|          | 0/1 [00:00<?, ?it/s]"
      ]
     },
     "metadata": {},
     "output_type": "display_data"
    },
    {
     "data": {
      "application/vnd.jupyter.widget-view+json": {
       "model_id": "3962eb67d53e4e4caf5973655dd11c02",
       "version_major": 2,
       "version_minor": 0
      },
      "text/plain": [
       "epochs:   0%|          | 0/1 [00:00<?, ?it/s]"
      ]
     },
     "metadata": {},
     "output_type": "display_data"
    },
    {
     "name": "stdout",
     "output_type": "stream",
     "text": [
      "<tf.Variable 'Adam_2/learning_rate:0' shape=() dtype=float32>\n",
      "<tf.Variable 'Adam_2/learning_rate:0' shape=() dtype=float32>\n",
      "Original Data Shape (selected):  (2500, 36)\n",
      "Original Data Shape (encoded):  (2500, 36)\n",
      "Original Data Class Distribution:  850  (true) / 1650  (false)\n",
      "(1500, 36) (1500,)\n",
      "(500, 36) (500,)\n",
      "(500, 36) (500,)\n",
      "Min Ratio:  0.3486666666666667\n",
      "Min Ratio:  0.5\n",
      "Min Ratio:  0.344\n",
      "Min Ratio:  0.5\n"
     ]
    },
    {
     "data": {
      "application/vnd.jupyter.widget-view+json": {
       "model_id": "72016c1d36f1484f984d21bc04d1bc3b",
       "version_major": 2,
       "version_minor": 0
      },
      "text/plain": [
       "restarts:   0%|          | 0/1 [00:00<?, ?it/s]"
      ]
     },
     "metadata": {},
     "output_type": "display_data"
    },
    {
     "data": {
      "application/vnd.jupyter.widget-view+json": {
       "model_id": "af85b2576f404ece8b12153b7fb5c0b9",
       "version_major": 2,
       "version_minor": 0
      },
      "text/plain": [
       "epochs:   0%|          | 0/1 [00:00<?, ?it/s]"
      ]
     },
     "metadata": {},
     "output_type": "display_data"
    },
    {
     "name": "stdout",
     "output_type": "stream",
     "text": [
      "<tf.Variable 'Adam_2/learning_rate:0' shape=() dtype=float32>\n",
      "<tf.Variable 'Adam_2/learning_rate:0' shape=() dtype=float32>\n",
      "Original Data Shape (selected):  (2500, 36)\n",
      "Original Data Shape (encoded):  (2500, 36)\n",
      "Original Data Class Distribution:  853  (true) / 1647  (false)\n",
      "(1500, 36) (1500,)\n",
      "(500, 36) (500,)\n",
      "(500, 36) (500,)\n",
      "Min Ratio:  0.3373333333333333\n",
      "Min Ratio:  0.5\n",
      "Min Ratio:  0.342\n",
      "Min Ratio:  0.5\n"
     ]
    },
    {
     "data": {
      "application/vnd.jupyter.widget-view+json": {
       "model_id": "8b30bf4e64d94791ba1c9d65475d50d3",
       "version_major": 2,
       "version_minor": 0
      },
      "text/plain": [
       "restarts:   0%|          | 0/1 [00:00<?, ?it/s]"
      ]
     },
     "metadata": {},
     "output_type": "display_data"
    },
    {
     "data": {
      "application/vnd.jupyter.widget-view+json": {
       "model_id": "f5cb76b5c2b64091b7cb5883de0fb15d",
       "version_major": 2,
       "version_minor": 0
      },
      "text/plain": [
       "epochs:   0%|          | 0/1 [00:00<?, ?it/s]"
      ]
     },
     "metadata": {},
     "output_type": "display_data"
    },
    {
     "name": "stdout",
     "output_type": "stream",
     "text": [
      "<tf.Variable 'Adam_2/learning_rate:0' shape=() dtype=float32>\n",
      "<tf.Variable 'Adam_2/learning_rate:0' shape=() dtype=float32>\n",
      "Original Data Shape (selected):  (2500, 36)\n",
      "Original Data Shape (encoded):  (2500, 36)\n",
      "Original Data Class Distribution:  842  (true) / 1658  (false)\n",
      "(1500, 36) (1500,)\n",
      "(500, 36) (500,)\n",
      "(500, 36) (500,)\n",
      "Min Ratio:  0.34\n",
      "Min Ratio:  0.5\n",
      "Min Ratio:  0.3395\n",
      "Min Ratio:  0.5\n"
     ]
    },
    {
     "data": {
      "application/vnd.jupyter.widget-view+json": {
       "model_id": "4887d07d919848e8ae054a346c1e246c",
       "version_major": 2,
       "version_minor": 0
      },
      "text/plain": [
       "restarts:   0%|          | 0/1 [00:00<?, ?it/s]"
      ]
     },
     "metadata": {},
     "output_type": "display_data"
    },
    {
     "data": {
      "application/vnd.jupyter.widget-view+json": {
       "model_id": "bde9c919d0e04157b8cbc8e7b8f1b662",
       "version_major": 2,
       "version_minor": 0
      },
      "text/plain": [
       "epochs:   0%|          | 0/1 [00:00<?, ?it/s]"
      ]
     },
     "metadata": {},
     "output_type": "display_data"
    },
    {
     "name": "stdout",
     "output_type": "stream",
     "text": [
      "<tf.Variable 'Adam_2/learning_rate:0' shape=() dtype=float32>\n",
      "<tf.Variable 'Adam_2/learning_rate:0' shape=() dtype=float32>\n",
      "Original Data Shape (selected):  (2500, 36)\n",
      "Original Data Shape (encoded):  (2500, 36)\n",
      "Original Data Class Distribution:  818  (true) / 1682  (false)\n",
      "(1500, 36) (1500,)\n",
      "(500, 36) (500,)\n",
      "(500, 36) (500,)\n",
      "Min Ratio:  0.32133333333333336\n",
      "Min Ratio:  0.5\n",
      "Min Ratio:  0.33\n",
      "Min Ratio:  0.5\n"
     ]
    },
    {
     "data": {
      "application/vnd.jupyter.widget-view+json": {
       "model_id": "65e86bda977b42ec880e0425d2a74124",
       "version_major": 2,
       "version_minor": 0
      },
      "text/plain": [
       "restarts:   0%|          | 0/1 [00:00<?, ?it/s]"
      ]
     },
     "metadata": {},
     "output_type": "display_data"
    },
    {
     "data": {
      "application/vnd.jupyter.widget-view+json": {
       "model_id": "1f5f55d3fc914fedb3e3222dc422cdf3",
       "version_major": 2,
       "version_minor": 0
      },
      "text/plain": [
       "epochs:   0%|          | 0/1 [00:00<?, ?it/s]"
      ]
     },
     "metadata": {},
     "output_type": "display_data"
    },
    {
     "name": "stdout",
     "output_type": "stream",
     "text": [
      "<tf.Variable 'Adam_2/learning_rate:0' shape=() dtype=float32>\n",
      "<tf.Variable 'Adam_2/learning_rate:0' shape=() dtype=float32>\n",
      "Original Data Shape (selected):  (2500, 36)\n",
      "Original Data Shape (encoded):  (2500, 36)\n",
      "Original Data Class Distribution:  863  (true) / 1637  (false)\n",
      "(1500, 36) (1500,)\n",
      "(500, 36) (500,)\n",
      "(500, 36) (500,)\n",
      "Min Ratio:  0.3546666666666667\n",
      "Min Ratio:  0.5\n",
      "Min Ratio:  0.347\n",
      "Min Ratio:  0.5\n"
     ]
    },
    {
     "data": {
      "application/vnd.jupyter.widget-view+json": {
       "model_id": "a4307bb9e01946cfa00c66fabfa87f0e",
       "version_major": 2,
       "version_minor": 0
      },
      "text/plain": [
       "restarts:   0%|          | 0/1 [00:00<?, ?it/s]"
      ]
     },
     "metadata": {},
     "output_type": "display_data"
    },
    {
     "data": {
      "application/vnd.jupyter.widget-view+json": {
       "model_id": "632ba06f99b34b04bda2f266e6188716",
       "version_major": 2,
       "version_minor": 0
      },
      "text/plain": [
       "epochs:   0%|          | 0/1 [00:00<?, ?it/s]"
      ]
     },
     "metadata": {},
     "output_type": "display_data"
    },
    {
     "name": "stdout",
     "output_type": "stream",
     "text": [
      "<tf.Variable 'Adam_2/learning_rate:0' shape=() dtype=float32>\n",
      "<tf.Variable 'Adam_2/learning_rate:0' shape=() dtype=float32>\n",
      "Original Data Shape (selected):  (2500, 36)\n",
      "Original Data Shape (encoded):  (2500, 36)\n",
      "Original Data Class Distribution:  763  (true) / 1737  (false)\n",
      "(1500, 36) (1500,)\n",
      "(500, 36) (500,)\n",
      "(500, 36) (500,)\n",
      "Min Ratio:  0.304\n",
      "Min Ratio:  0.5\n",
      "Min Ratio:  0.303\n",
      "Min Ratio:  0.5\n"
     ]
    },
    {
     "data": {
      "application/vnd.jupyter.widget-view+json": {
       "model_id": "0a2928c8139e419f912549a04bcd4ba2",
       "version_major": 2,
       "version_minor": 0
      },
      "text/plain": [
       "restarts:   0%|          | 0/1 [00:00<?, ?it/s]"
      ]
     },
     "metadata": {},
     "output_type": "display_data"
    },
    {
     "data": {
      "application/vnd.jupyter.widget-view+json": {
       "model_id": "2fff258f2d6442d69b2363649defcdcd",
       "version_major": 2,
       "version_minor": 0
      },
      "text/plain": [
       "epochs:   0%|          | 0/1 [00:00<?, ?it/s]"
      ]
     },
     "metadata": {},
     "output_type": "display_data"
    },
    {
     "name": "stdout",
     "output_type": "stream",
     "text": [
      "<tf.Variable 'Adam_2/learning_rate:0' shape=() dtype=float32>\n",
      "<tf.Variable 'Adam_2/learning_rate:0' shape=() dtype=float32>\n",
      "Original Data Shape (selected):  (2500, 36)\n",
      "Original Data Shape (encoded):  (2500, 36)\n",
      "Original Data Class Distribution:  835  (true) / 1665  (false)\n",
      "(1500, 36) (1500,)\n",
      "(500, 36) (500,)\n",
      "(500, 36) (500,)\n",
      "Min Ratio:  0.332\n",
      "Min Ratio:  0.5\n",
      "Min Ratio:  0.3295\n",
      "Min Ratio:  0.5\n"
     ]
    },
    {
     "data": {
      "application/vnd.jupyter.widget-view+json": {
       "model_id": "4e32081e047d4dfb8d6016deaa040c73",
       "version_major": 2,
       "version_minor": 0
      },
      "text/plain": [
       "restarts:   0%|          | 0/1 [00:00<?, ?it/s]"
      ]
     },
     "metadata": {},
     "output_type": "display_data"
    },
    {
     "data": {
      "application/vnd.jupyter.widget-view+json": {
       "model_id": "b7a31b94be5e49749e4d24dfe41ab41a",
       "version_major": 2,
       "version_minor": 0
      },
      "text/plain": [
       "epochs:   0%|          | 0/1 [00:00<?, ?it/s]"
      ]
     },
     "metadata": {},
     "output_type": "display_data"
    },
    {
     "name": "stdout",
     "output_type": "stream",
     "text": [
      "<tf.Variable 'Adam_2/learning_rate:0' shape=() dtype=float32>\n",
      "<tf.Variable 'Adam_2/learning_rate:0' shape=() dtype=float32>\n",
      "Original Data Shape (selected):  (2500, 36)\n",
      "Original Data Shape (encoded):  (2500, 36)\n",
      "Original Data Class Distribution:  745  (true) / 1755  (false)\n",
      "(1500, 36) (1500,)\n",
      "(500, 36) (500,)\n",
      "(500, 36) (500,)\n",
      "Min Ratio:  0.29533333333333334\n",
      "Min Ratio:  0.5\n",
      "Min Ratio:  0.3005\n",
      "Min Ratio:  0.5\n"
     ]
    },
    {
     "data": {
      "application/vnd.jupyter.widget-view+json": {
       "model_id": "3516698753cf4e08b395635671372f53",
       "version_major": 2,
       "version_minor": 0
      },
      "text/plain": [
       "restarts:   0%|          | 0/1 [00:00<?, ?it/s]"
      ]
     },
     "metadata": {},
     "output_type": "display_data"
    },
    {
     "data": {
      "application/vnd.jupyter.widget-view+json": {
       "model_id": "4b4c75d0667446c1ab78c07ca0fe1fe9",
       "version_major": 2,
       "version_minor": 0
      },
      "text/plain": [
       "epochs:   0%|          | 0/1 [00:00<?, ?it/s]"
      ]
     },
     "metadata": {},
     "output_type": "display_data"
    },
    {
     "name": "stdout",
     "output_type": "stream",
     "text": [
      "<tf.Variable 'Adam_2/learning_rate:0' shape=() dtype=float32>\n",
      "<tf.Variable 'Adam_2/learning_rate:0' shape=() dtype=float32>\n",
      "Original Data Shape (selected):  (2500, 36)\n",
      "Original Data Shape (encoded):  (2500, 36)\n",
      "Original Data Class Distribution:  830  (true) / 1670  (false)\n",
      "(1500, 36) (1500,)\n",
      "(500, 36) (500,)\n",
      "(500, 36) (500,)\n",
      "Min Ratio:  0.33866666666666667\n",
      "Min Ratio:  0.5\n",
      "Min Ratio:  0.3325\n",
      "Min Ratio:  0.5\n"
     ]
    },
    {
     "data": {
      "application/vnd.jupyter.widget-view+json": {
       "model_id": "b53787b2c51a467b8f4d3c6f7ff2204c",
       "version_major": 2,
       "version_minor": 0
      },
      "text/plain": [
       "restarts:   0%|          | 0/1 [00:00<?, ?it/s]"
      ]
     },
     "metadata": {},
     "output_type": "display_data"
    },
    {
     "data": {
      "application/vnd.jupyter.widget-view+json": {
       "model_id": "0688801a6443408c82eb0c2deb8830e5",
       "version_major": 2,
       "version_minor": 0
      },
      "text/plain": [
       "epochs:   0%|          | 0/1 [00:00<?, ?it/s]"
      ]
     },
     "metadata": {},
     "output_type": "display_data"
    },
    {
     "name": "stdout",
     "output_type": "stream",
     "text": [
      "<tf.Variable 'Adam_2/learning_rate:0' shape=() dtype=float32>\n",
      "<tf.Variable 'Adam_2/learning_rate:0' shape=() dtype=float32>\n",
      "Original Data Shape (selected):  (2500, 36)\n",
      "Original Data Shape (encoded):  (2500, 36)\n",
      "Original Data Class Distribution:  782  (true) / 1718  (false)\n",
      "(1500, 36) (1500,)\n",
      "(500, 36) (500,)\n",
      "(500, 36) (500,)\n",
      "Min Ratio:  0.31533333333333335\n",
      "Min Ratio:  0.5\n",
      "Min Ratio:  0.3145\n",
      "Min Ratio:  0.5\n"
     ]
    },
    {
     "data": {
      "application/vnd.jupyter.widget-view+json": {
       "model_id": "7f8da83451e44f9da5f88a996d429f97",
       "version_major": 2,
       "version_minor": 0
      },
      "text/plain": [
       "restarts:   0%|          | 0/1 [00:00<?, ?it/s]"
      ]
     },
     "metadata": {},
     "output_type": "display_data"
    },
    {
     "data": {
      "application/vnd.jupyter.widget-view+json": {
       "model_id": "def9762b02a74b149383a9c21c9cb41c",
       "version_major": 2,
       "version_minor": 0
      },
      "text/plain": [
       "epochs:   0%|          | 0/1 [00:00<?, ?it/s]"
      ]
     },
     "metadata": {},
     "output_type": "display_data"
    },
    {
     "name": "stdout",
     "output_type": "stream",
     "text": [
      "<tf.Variable 'Adam_2/learning_rate:0' shape=() dtype=float32>\n",
      "<tf.Variable 'Adam_2/learning_rate:0' shape=() dtype=float32>\n",
      "Original Data Shape (selected):  (2500, 36)\n",
      "Original Data Shape (encoded):  (2500, 36)\n",
      "Original Data Class Distribution:  819  (true) / 1681  (false)\n",
      "(1500, 36) (1500,)\n",
      "(500, 36) (500,)\n",
      "(500, 36) (500,)\n",
      "Min Ratio:  0.32133333333333336\n",
      "Min Ratio:  0.5\n",
      "Min Ratio:  0.324\n",
      "Min Ratio:  0.5\n"
     ]
    },
    {
     "data": {
      "application/vnd.jupyter.widget-view+json": {
       "model_id": "89da550d0ea94baca83795c770584e9b",
       "version_major": 2,
       "version_minor": 0
      },
      "text/plain": [
       "restarts:   0%|          | 0/1 [00:00<?, ?it/s]"
      ]
     },
     "metadata": {},
     "output_type": "display_data"
    },
    {
     "data": {
      "application/vnd.jupyter.widget-view+json": {
       "model_id": "75f02b986f7246f783183cd6312cf21b",
       "version_major": 2,
       "version_minor": 0
      },
      "text/plain": [
       "epochs:   0%|          | 0/1 [00:00<?, ?it/s]"
      ]
     },
     "metadata": {},
     "output_type": "display_data"
    },
    {
     "name": "stdout",
     "output_type": "stream",
     "text": [
      "<tf.Variable 'Adam_2/learning_rate:0' shape=() dtype=float32>\n",
      "<tf.Variable 'Adam_2/learning_rate:0' shape=() dtype=float32>\n",
      "Original Data Shape (selected):  (2500, 36)\n",
      "Original Data Shape (encoded):  (2500, 36)\n",
      "Original Data Class Distribution:  816  (true) / 1684  (false)\n",
      "(1500, 36) (1500,)\n",
      "(500, 36) (500,)\n",
      "(500, 36) (500,)\n",
      "Min Ratio:  0.32266666666666666\n",
      "Min Ratio:  0.5\n",
      "Min Ratio:  0.329\n",
      "Min Ratio:  0.5\n"
     ]
    },
    {
     "data": {
      "application/vnd.jupyter.widget-view+json": {
       "model_id": "3856071b04774c11a0fe792ff0be0f72",
       "version_major": 2,
       "version_minor": 0
      },
      "text/plain": [
       "restarts:   0%|          | 0/1 [00:00<?, ?it/s]"
      ]
     },
     "metadata": {},
     "output_type": "display_data"
    },
    {
     "data": {
      "application/vnd.jupyter.widget-view+json": {
       "model_id": "3f79de420a7344ecbff3ffe008c25cc0",
       "version_major": 2,
       "version_minor": 0
      },
      "text/plain": [
       "epochs:   0%|          | 0/1 [00:00<?, ?it/s]"
      ]
     },
     "metadata": {},
     "output_type": "display_data"
    },
    {
     "name": "stdout",
     "output_type": "stream",
     "text": [
      "<tf.Variable 'Adam_2/learning_rate:0' shape=() dtype=float32>\n",
      "<tf.Variable 'Adam_2/learning_rate:0' shape=() dtype=float32>\n",
      "Original Data Shape (selected):  (2500, 36)\n",
      "Original Data Shape (encoded):  (2500, 36)\n",
      "Original Data Class Distribution:  824  (true) / 1676  (false)\n",
      "(1500, 36) (1500,)\n",
      "(500, 36) (500,)\n",
      "(500, 36) (500,)\n",
      "Min Ratio:  0.3353333333333333\n",
      "Min Ratio:  0.5\n",
      "Min Ratio:  0.329\n",
      "Min Ratio:  0.5\n"
     ]
    },
    {
     "data": {
      "application/vnd.jupyter.widget-view+json": {
       "model_id": "2504e89aaeeb42528c8d6743be85aace",
       "version_major": 2,
       "version_minor": 0
      },
      "text/plain": [
       "restarts:   0%|          | 0/1 [00:00<?, ?it/s]"
      ]
     },
     "metadata": {},
     "output_type": "display_data"
    },
    {
     "data": {
      "application/vnd.jupyter.widget-view+json": {
       "model_id": "5b79e8c2aa29404caa402b2ca0571393",
       "version_major": 2,
       "version_minor": 0
      },
      "text/plain": [
       "epochs:   0%|          | 0/1 [00:00<?, ?it/s]"
      ]
     },
     "metadata": {},
     "output_type": "display_data"
    },
    {
     "name": "stdout",
     "output_type": "stream",
     "text": [
      "<tf.Variable 'Adam_2/learning_rate:0' shape=() dtype=float32>\n",
      "<tf.Variable 'Adam_2/learning_rate:0' shape=() dtype=float32>\n",
      "Original Data Shape (selected):  (2500, 36)\n",
      "Original Data Shape (encoded):  (2500, 36)\n",
      "Original Data Class Distribution:  818  (true) / 1682  (false)\n",
      "(1500, 36) (1500,)\n",
      "(500, 36) (500,)\n",
      "(500, 36) (500,)\n",
      "Min Ratio:  0.328\n",
      "Min Ratio:  0.5\n",
      "Min Ratio:  0.331\n",
      "Min Ratio:  0.5\n"
     ]
    },
    {
     "data": {
      "application/vnd.jupyter.widget-view+json": {
       "model_id": "8d6123483b7d4544a85503ec39ba3572",
       "version_major": 2,
       "version_minor": 0
      },
      "text/plain": [
       "restarts:   0%|          | 0/1 [00:00<?, ?it/s]"
      ]
     },
     "metadata": {},
     "output_type": "display_data"
    },
    {
     "data": {
      "application/vnd.jupyter.widget-view+json": {
       "model_id": "60e9bb06e10d4c55968f74029993c78e",
       "version_major": 2,
       "version_minor": 0
      },
      "text/plain": [
       "epochs:   0%|          | 0/1 [00:00<?, ?it/s]"
      ]
     },
     "metadata": {},
     "output_type": "display_data"
    },
    {
     "name": "stdout",
     "output_type": "stream",
     "text": [
      "<tf.Variable 'Adam_2/learning_rate:0' shape=() dtype=float32>\n",
      "<tf.Variable 'Adam_2/learning_rate:0' shape=() dtype=float32>\n",
      "Original Data Shape (selected):  (2500, 36)\n",
      "Original Data Shape (encoded):  (2500, 36)\n",
      "Original Data Class Distribution:  826  (true) / 1674  (false)\n",
      "(1500, 36) (1500,)\n",
      "(500, 36) (500,)\n",
      "(500, 36) (500,)\n",
      "Min Ratio:  0.32266666666666666\n",
      "Min Ratio:  0.5\n",
      "Min Ratio:  0.3315\n",
      "Min Ratio:  0.5\n"
     ]
    },
    {
     "data": {
      "application/vnd.jupyter.widget-view+json": {
       "model_id": "c34e7696d7ce476b8b07a5317ac8486c",
       "version_major": 2,
       "version_minor": 0
      },
      "text/plain": [
       "restarts:   0%|          | 0/1 [00:00<?, ?it/s]"
      ]
     },
     "metadata": {},
     "output_type": "display_data"
    },
    {
     "data": {
      "application/vnd.jupyter.widget-view+json": {
       "model_id": "828ec081f22b4bfaa4fed7865def81a7",
       "version_major": 2,
       "version_minor": 0
      },
      "text/plain": [
       "epochs:   0%|          | 0/1 [00:00<?, ?it/s]"
      ]
     },
     "metadata": {},
     "output_type": "display_data"
    },
    {
     "name": "stdout",
     "output_type": "stream",
     "text": [
      "<tf.Variable 'Adam_2/learning_rate:0' shape=() dtype=float32>\n",
      "<tf.Variable 'Adam_2/learning_rate:0' shape=() dtype=float32>\n",
      "Original Data Shape (selected):  (2500, 36)\n",
      "Original Data Shape (encoded):  (2500, 36)\n",
      "Original Data Class Distribution:  817  (true) / 1683  (false)\n",
      "(1500, 36) (1500,)\n",
      "(500, 36) (500,)\n",
      "(500, 36) (500,)\n",
      "Min Ratio:  0.32266666666666666\n",
      "Min Ratio:  0.5\n",
      "Min Ratio:  0.3245\n",
      "Min Ratio:  0.5\n"
     ]
    },
    {
     "data": {
      "application/vnd.jupyter.widget-view+json": {
       "model_id": "e43df05d578442f0b6b4dff32324b298",
       "version_major": 2,
       "version_minor": 0
      },
      "text/plain": [
       "restarts:   0%|          | 0/1 [00:00<?, ?it/s]"
      ]
     },
     "metadata": {},
     "output_type": "display_data"
    },
    {
     "data": {
      "application/vnd.jupyter.widget-view+json": {
       "model_id": "3908341ad4ea435b8468036c054b6a9c",
       "version_major": 2,
       "version_minor": 0
      },
      "text/plain": [
       "epochs:   0%|          | 0/1 [00:00<?, ?it/s]"
      ]
     },
     "metadata": {},
     "output_type": "display_data"
    },
    {
     "name": "stdout",
     "output_type": "stream",
     "text": [
      "<tf.Variable 'Adam_2/learning_rate:0' shape=() dtype=float32>\n",
      "<tf.Variable 'Adam_2/learning_rate:0' shape=() dtype=float32>\n",
      "Original Data Shape (selected):  (2500, 36)\n",
      "Original Data Shape (encoded):  (2500, 36)\n",
      "Original Data Class Distribution:  795  (true) / 1705  (false)\n",
      "(1500, 36) (1500,)\n",
      "(500, 36) (500,)\n",
      "(500, 36) (500,)\n",
      "Min Ratio:  0.31266666666666665\n",
      "Min Ratio:  0.5\n",
      "Min Ratio:  0.3205\n",
      "Min Ratio:  0.5\n"
     ]
    },
    {
     "data": {
      "application/vnd.jupyter.widget-view+json": {
       "model_id": "f076b497f22d42a0a2c6980f45f5b07b",
       "version_major": 2,
       "version_minor": 0
      },
      "text/plain": [
       "restarts:   0%|          | 0/1 [00:00<?, ?it/s]"
      ]
     },
     "metadata": {},
     "output_type": "display_data"
    },
    {
     "data": {
      "application/vnd.jupyter.widget-view+json": {
       "model_id": "7bac9d7f7fdf47a591f2ddb3474c0e73",
       "version_major": 2,
       "version_minor": 0
      },
      "text/plain": [
       "epochs:   0%|          | 0/1 [00:00<?, ?it/s]"
      ]
     },
     "metadata": {},
     "output_type": "display_data"
    },
    {
     "name": "stdout",
     "output_type": "stream",
     "text": [
      "<tf.Variable 'Adam_2/learning_rate:0' shape=() dtype=float32>\n",
      "<tf.Variable 'Adam_2/learning_rate:0' shape=() dtype=float32>\n",
      "Original Data Shape (selected):  (2500, 36)\n",
      "Original Data Shape (encoded):  (2500, 36)\n",
      "Original Data Class Distribution:  859  (true) / 1641  (false)\n",
      "(1500, 36) (1500,)\n",
      "(500, 36) (500,)\n",
      "(500, 36) (500,)\n",
      "Min Ratio:  0.33866666666666667\n",
      "Min Ratio:  0.5\n",
      "Min Ratio:  0.3465\n",
      "Min Ratio:  0.5\n"
     ]
    },
    {
     "data": {
      "application/vnd.jupyter.widget-view+json": {
       "model_id": "e6ff9c94ed1a49f59dfe3bae740b3070",
       "version_major": 2,
       "version_minor": 0
      },
      "text/plain": [
       "restarts:   0%|          | 0/1 [00:00<?, ?it/s]"
      ]
     },
     "metadata": {},
     "output_type": "display_data"
    },
    {
     "data": {
      "application/vnd.jupyter.widget-view+json": {
       "model_id": "df59fb9bf72f47e9a06be948fdb168da",
       "version_major": 2,
       "version_minor": 0
      },
      "text/plain": [
       "epochs:   0%|          | 0/1 [00:00<?, ?it/s]"
      ]
     },
     "metadata": {},
     "output_type": "display_data"
    },
    {
     "name": "stdout",
     "output_type": "stream",
     "text": [
      "<tf.Variable 'Adam_2/learning_rate:0' shape=() dtype=float32>\n",
      "<tf.Variable 'Adam_2/learning_rate:0' shape=() dtype=float32>\n",
      "Original Data Shape (selected):  (2500, 36)\n",
      "Original Data Shape (encoded):  (2500, 36)\n",
      "Original Data Class Distribution:  839  (true) / 1661  (false)\n",
      "(1500, 36) (1500,)\n",
      "(500, 36) (500,)\n",
      "(500, 36) (500,)\n",
      "Min Ratio:  0.342\n",
      "Min Ratio:  0.5\n",
      "Min Ratio:  0.335\n",
      "Min Ratio:  0.5\n"
     ]
    },
    {
     "data": {
      "application/vnd.jupyter.widget-view+json": {
       "model_id": "085dcc6f40d140808bea891518bae121",
       "version_major": 2,
       "version_minor": 0
      },
      "text/plain": [
       "restarts:   0%|          | 0/1 [00:00<?, ?it/s]"
      ]
     },
     "metadata": {},
     "output_type": "display_data"
    },
    {
     "data": {
      "application/vnd.jupyter.widget-view+json": {
       "model_id": "cbac4c06510e4fc3beea8ee2ab18c57a",
       "version_major": 2,
       "version_minor": 0
      },
      "text/plain": [
       "epochs:   0%|          | 0/1 [00:00<?, ?it/s]"
      ]
     },
     "metadata": {},
     "output_type": "display_data"
    },
    {
     "name": "stdout",
     "output_type": "stream",
     "text": [
      "<tf.Variable 'Adam_2/learning_rate:0' shape=() dtype=float32>\n",
      "<tf.Variable 'Adam_2/learning_rate:0' shape=() dtype=float32>\n",
      "Original Data Shape (selected):  (2500, 36)\n",
      "Original Data Shape (encoded):  (2500, 36)\n",
      "Original Data Class Distribution:  786  (true) / 1714  (false)\n",
      "(1500, 36) (1500,)\n",
      "(500, 36) (500,)\n",
      "(500, 36) (500,)\n",
      "Min Ratio:  0.32133333333333336\n",
      "Min Ratio:  0.5\n",
      "Min Ratio:  0.3105\n",
      "Min Ratio:  0.5\n"
     ]
    },
    {
     "data": {
      "application/vnd.jupyter.widget-view+json": {
       "model_id": "e6bd31ca0fa54016b2e7172af9b1fa14",
       "version_major": 2,
       "version_minor": 0
      },
      "text/plain": [
       "restarts:   0%|          | 0/1 [00:00<?, ?it/s]"
      ]
     },
     "metadata": {},
     "output_type": "display_data"
    },
    {
     "data": {
      "application/vnd.jupyter.widget-view+json": {
       "model_id": "ce1b6eb33b284de9b02f6dffd9931c3f",
       "version_major": 2,
       "version_minor": 0
      },
      "text/plain": [
       "epochs:   0%|          | 0/1 [00:00<?, ?it/s]"
      ]
     },
     "metadata": {},
     "output_type": "display_data"
    },
    {
     "name": "stdout",
     "output_type": "stream",
     "text": [
      "<tf.Variable 'Adam_2/learning_rate:0' shape=() dtype=float32>\n",
      "<tf.Variable 'Adam_2/learning_rate:0' shape=() dtype=float32>\n",
      "Original Data Shape (selected):  (2500, 36)\n",
      "Original Data Shape (encoded):  (2500, 36)\n",
      "Original Data Class Distribution:  819  (true) / 1681  (false)\n",
      "(1500, 36) (1500,)\n",
      "(500, 36) (500,)\n",
      "(500, 36) (500,)\n",
      "Min Ratio:  0.3253333333333333\n",
      "Min Ratio:  0.5\n",
      "Min Ratio:  0.329\n",
      "Min Ratio:  0.5\n"
     ]
    },
    {
     "data": {
      "application/vnd.jupyter.widget-view+json": {
       "model_id": "8cd7e3e408104ba4bdd37f19870ee01e",
       "version_major": 2,
       "version_minor": 0
      },
      "text/plain": [
       "restarts:   0%|          | 0/1 [00:00<?, ?it/s]"
      ]
     },
     "metadata": {},
     "output_type": "display_data"
    },
    {
     "data": {
      "application/vnd.jupyter.widget-view+json": {
       "model_id": "241dcc4ea2044a01bef6dae727b38151",
       "version_major": 2,
       "version_minor": 0
      },
      "text/plain": [
       "epochs:   0%|          | 0/1 [00:00<?, ?it/s]"
      ]
     },
     "metadata": {},
     "output_type": "display_data"
    },
    {
     "name": "stdout",
     "output_type": "stream",
     "text": [
      "<tf.Variable 'Adam_2/learning_rate:0' shape=() dtype=float32>\n",
      "<tf.Variable 'Adam_2/learning_rate:0' shape=() dtype=float32>\n",
      "Original Data Shape (selected):  (2500, 36)\n",
      "Original Data Shape (encoded):  (2500, 36)\n",
      "Original Data Class Distribution:  809  (true) / 1691  (false)\n",
      "(1500, 36) (1500,)\n",
      "(500, 36) (500,)\n",
      "(500, 36) (500,)\n",
      "Min Ratio:  0.33266666666666667\n",
      "Min Ratio:  0.5\n",
      "Min Ratio:  0.3235\n",
      "Min Ratio:  0.5\n"
     ]
    },
    {
     "data": {
      "application/vnd.jupyter.widget-view+json": {
       "model_id": "39a484a145c44e569a5174cf38508df0",
       "version_major": 2,
       "version_minor": 0
      },
      "text/plain": [
       "restarts:   0%|          | 0/1 [00:00<?, ?it/s]"
      ]
     },
     "metadata": {},
     "output_type": "display_data"
    },
    {
     "data": {
      "application/vnd.jupyter.widget-view+json": {
       "model_id": "3bbb4fa0255140c1939b9d7dc81eab3c",
       "version_major": 2,
       "version_minor": 0
      },
      "text/plain": [
       "epochs:   0%|          | 0/1 [00:00<?, ?it/s]"
      ]
     },
     "metadata": {},
     "output_type": "display_data"
    },
    {
     "name": "stdout",
     "output_type": "stream",
     "text": [
      "<tf.Variable 'Adam_2/learning_rate:0' shape=() dtype=float32>\n",
      "<tf.Variable 'Adam_2/learning_rate:0' shape=() dtype=float32>\n",
      "Original Data Shape (selected):  (2500, 36)\n",
      "Original Data Shape (encoded):  (2500, 36)\n",
      "Original Data Class Distribution:  841  (true) / 1659  (false)\n",
      "(1500, 36) (1500,)\n",
      "(500, 36) (500,)\n",
      "(500, 36) (500,)\n",
      "Min Ratio:  0.334\n",
      "Min Ratio:  0.5\n",
      "Min Ratio:  0.3315\n",
      "Min Ratio:  0.5\n"
     ]
    },
    {
     "data": {
      "application/vnd.jupyter.widget-view+json": {
       "model_id": "488cf4c142f84b9aa18c9631e8b1e043",
       "version_major": 2,
       "version_minor": 0
      },
      "text/plain": [
       "restarts:   0%|          | 0/1 [00:00<?, ?it/s]"
      ]
     },
     "metadata": {},
     "output_type": "display_data"
    },
    {
     "data": {
      "application/vnd.jupyter.widget-view+json": {
       "model_id": "ad038924a4cd4e73a7949776a4da8447",
       "version_major": 2,
       "version_minor": 0
      },
      "text/plain": [
       "epochs:   0%|          | 0/1 [00:00<?, ?it/s]"
      ]
     },
     "metadata": {},
     "output_type": "display_data"
    },
    {
     "name": "stdout",
     "output_type": "stream",
     "text": [
      "<tf.Variable 'Adam_2/learning_rate:0' shape=() dtype=float32>\n",
      "<tf.Variable 'Adam_2/learning_rate:0' shape=() dtype=float32>\n",
      "Original Data Shape (selected):  (2500, 36)\n",
      "Original Data Shape (encoded):  (2500, 36)\n",
      "Original Data Class Distribution:  848  (true) / 1652  (false)\n",
      "(1500, 36) (1500,)\n",
      "(500, 36) (500,)\n",
      "(500, 36) (500,)\n",
      "Min Ratio:  0.3446666666666667\n",
      "Min Ratio:  0.5\n",
      "Min Ratio:  0.3405\n",
      "Min Ratio:  0.5\n"
     ]
    },
    {
     "data": {
      "application/vnd.jupyter.widget-view+json": {
       "model_id": "c95e622d16114e5aa6702bc96b9a588e",
       "version_major": 2,
       "version_minor": 0
      },
      "text/plain": [
       "restarts:   0%|          | 0/1 [00:00<?, ?it/s]"
      ]
     },
     "metadata": {},
     "output_type": "display_data"
    },
    {
     "data": {
      "application/vnd.jupyter.widget-view+json": {
       "model_id": "9d0a4ebb3db9435da1653545e6b6478b",
       "version_major": 2,
       "version_minor": 0
      },
      "text/plain": [
       "epochs:   0%|          | 0/1 [00:00<?, ?it/s]"
      ]
     },
     "metadata": {},
     "output_type": "display_data"
    },
    {
     "name": "stdout",
     "output_type": "stream",
     "text": [
      "<tf.Variable 'Adam_2/learning_rate:0' shape=() dtype=float32>\n",
      "<tf.Variable 'Adam_2/learning_rate:0' shape=() dtype=float32>\n",
      "Original Data Shape (selected):  (2500, 36)\n",
      "Original Data Shape (encoded):  (2500, 36)\n",
      "Original Data Class Distribution:  827  (true) / 1673  (false)\n",
      "(1500, 36) (1500,)\n",
      "(500, 36) (500,)\n",
      "(500, 36) (500,)\n",
      "Min Ratio:  0.33866666666666667\n",
      "Min Ratio:  0.5\n",
      "Min Ratio:  0.3325\n",
      "Min Ratio:  0.5\n"
     ]
    },
    {
     "data": {
      "application/vnd.jupyter.widget-view+json": {
       "model_id": "56bb722c3f4849bf833c792b27671945",
       "version_major": 2,
       "version_minor": 0
      },
      "text/plain": [
       "restarts:   0%|          | 0/1 [00:00<?, ?it/s]"
      ]
     },
     "metadata": {},
     "output_type": "display_data"
    },
    {
     "data": {
      "application/vnd.jupyter.widget-view+json": {
       "model_id": "6104131e798743fb9eddd25d12abe35c",
       "version_major": 2,
       "version_minor": 0
      },
      "text/plain": [
       "epochs:   0%|          | 0/1 [00:00<?, ?it/s]"
      ]
     },
     "metadata": {},
     "output_type": "display_data"
    },
    {
     "name": "stdout",
     "output_type": "stream",
     "text": [
      "<tf.Variable 'Adam_2/learning_rate:0' shape=() dtype=float32>\n",
      "<tf.Variable 'Adam_2/learning_rate:0' shape=() dtype=float32>\n",
      "Original Data Shape (selected):  (2500, 36)\n",
      "Original Data Shape (encoded):  (2500, 36)\n",
      "Original Data Class Distribution:  835  (true) / 1665  (false)\n",
      "(1500, 36) (1500,)\n",
      "(500, 36) (500,)\n",
      "(500, 36) (500,)\n",
      "Min Ratio:  0.33866666666666667\n",
      "Min Ratio:  0.5\n",
      "Min Ratio:  0.331\n",
      "Min Ratio:  0.5\n"
     ]
    },
    {
     "data": {
      "application/vnd.jupyter.widget-view+json": {
       "model_id": "e83eeda476264842a0525601ab652d85",
       "version_major": 2,
       "version_minor": 0
      },
      "text/plain": [
       "restarts:   0%|          | 0/1 [00:00<?, ?it/s]"
      ]
     },
     "metadata": {},
     "output_type": "display_data"
    },
    {
     "data": {
      "application/vnd.jupyter.widget-view+json": {
       "model_id": "042dfe35cee34658b75dadd827c03caa",
       "version_major": 2,
       "version_minor": 0
      },
      "text/plain": [
       "epochs:   0%|          | 0/1 [00:00<?, ?it/s]"
      ]
     },
     "metadata": {},
     "output_type": "display_data"
    },
    {
     "name": "stdout",
     "output_type": "stream",
     "text": [
      "<tf.Variable 'Adam_2/learning_rate:0' shape=() dtype=float32>\n",
      "<tf.Variable 'Adam_2/learning_rate:0' shape=() dtype=float32>\n",
      "Original Data Shape (selected):  (2500, 36)\n",
      "Original Data Shape (encoded):  (2500, 36)\n",
      "Original Data Class Distribution:  794  (true) / 1706  (false)\n",
      "(1500, 36) (1500,)\n",
      "(500, 36) (500,)\n",
      "(500, 36) (500,)\n",
      "Min Ratio:  0.32066666666666666\n",
      "Min Ratio:  0.5\n",
      "Min Ratio:  0.308\n",
      "Min Ratio:  0.5\n"
     ]
    },
    {
     "data": {
      "application/vnd.jupyter.widget-view+json": {
       "model_id": "36af718936cf4688a674e945dcd28415",
       "version_major": 2,
       "version_minor": 0
      },
      "text/plain": [
       "restarts:   0%|          | 0/1 [00:00<?, ?it/s]"
      ]
     },
     "metadata": {},
     "output_type": "display_data"
    },
    {
     "data": {
      "application/vnd.jupyter.widget-view+json": {
       "model_id": "af67b43a9e8f41769565fcb5a0c810af",
       "version_major": 2,
       "version_minor": 0
      },
      "text/plain": [
       "epochs:   0%|          | 0/1 [00:00<?, ?it/s]"
      ]
     },
     "metadata": {},
     "output_type": "display_data"
    },
    {
     "name": "stdout",
     "output_type": "stream",
     "text": [
      "<tf.Variable 'Adam_2/learning_rate:0' shape=() dtype=float32>\n",
      "<tf.Variable 'Adam_2/learning_rate:0' shape=() dtype=float32>\n",
      "Original Data Shape (selected):  (2500, 36)\n",
      "Original Data Shape (encoded):  (2500, 36)\n",
      "Original Data Class Distribution:  785  (true) / 1715  (false)\n",
      "(1500, 36) (1500,)\n",
      "(500, 36) (500,)\n",
      "(500, 36) (500,)\n",
      "Min Ratio:  0.312\n",
      "Min Ratio:  0.5\n",
      "Min Ratio:  0.3145\n",
      "Min Ratio:  0.5\n"
     ]
    },
    {
     "data": {
      "application/vnd.jupyter.widget-view+json": {
       "model_id": "1d1bf642581c4265b46f6dba2c8699d4",
       "version_major": 2,
       "version_minor": 0
      },
      "text/plain": [
       "restarts:   0%|          | 0/1 [00:00<?, ?it/s]"
      ]
     },
     "metadata": {},
     "output_type": "display_data"
    },
    {
     "data": {
      "application/vnd.jupyter.widget-view+json": {
       "model_id": "42256b4d62fe4d8c8841d859e600243a",
       "version_major": 2,
       "version_minor": 0
      },
      "text/plain": [
       "epochs:   0%|          | 0/1 [00:00<?, ?it/s]"
      ]
     },
     "metadata": {},
     "output_type": "display_data"
    },
    {
     "name": "stdout",
     "output_type": "stream",
     "text": [
      "<tf.Variable 'Adam_2/learning_rate:0' shape=() dtype=float32>\n",
      "<tf.Variable 'Adam_2/learning_rate:0' shape=() dtype=float32>\n",
      "Original Data Shape (selected):  (2500, 36)\n",
      "Original Data Shape (encoded):  (2500, 36)\n",
      "Original Data Class Distribution:  810  (true) / 1690  (false)\n",
      "(1500, 36) (1500,)\n",
      "(500, 36) (500,)\n",
      "(500, 36) (500,)\n",
      "Min Ratio:  0.31933333333333336\n",
      "Min Ratio:  0.5\n",
      "Min Ratio:  0.3255\n",
      "Min Ratio:  0.5\n"
     ]
    },
    {
     "data": {
      "application/vnd.jupyter.widget-view+json": {
       "model_id": "6689b988825b447499eb9d915c4e6488",
       "version_major": 2,
       "version_minor": 0
      },
      "text/plain": [
       "restarts:   0%|          | 0/1 [00:00<?, ?it/s]"
      ]
     },
     "metadata": {},
     "output_type": "display_data"
    },
    {
     "data": {
      "application/vnd.jupyter.widget-view+json": {
       "model_id": "889e11f43b3a487c8cd43d89a071b9d0",
       "version_major": 2,
       "version_minor": 0
      },
      "text/plain": [
       "epochs:   0%|          | 0/1 [00:00<?, ?it/s]"
      ]
     },
     "metadata": {},
     "output_type": "display_data"
    },
    {
     "name": "stdout",
     "output_type": "stream",
     "text": [
      "<tf.Variable 'Adam_2/learning_rate:0' shape=() dtype=float32>\n",
      "<tf.Variable 'Adam_2/learning_rate:0' shape=() dtype=float32>\n",
      "Original Data Shape (selected):  (2500, 36)\n",
      "Original Data Shape (encoded):  (2500, 36)\n",
      "Original Data Class Distribution:  796  (true) / 1704  (false)\n",
      "(1500, 36) (1500,)\n",
      "(500, 36) (500,)\n",
      "(500, 36) (500,)\n",
      "Min Ratio:  0.312\n",
      "Min Ratio:  0.5\n",
      "Min Ratio:  0.32\n",
      "Min Ratio:  0.5\n"
     ]
    },
    {
     "data": {
      "application/vnd.jupyter.widget-view+json": {
       "model_id": "e011fe6389334d8bb2502faa33b83a9d",
       "version_major": 2,
       "version_minor": 0
      },
      "text/plain": [
       "restarts:   0%|          | 0/1 [00:00<?, ?it/s]"
      ]
     },
     "metadata": {},
     "output_type": "display_data"
    },
    {
     "data": {
      "application/vnd.jupyter.widget-view+json": {
       "model_id": "d78845a90ca943a3b782077d99c2bf72",
       "version_major": 2,
       "version_minor": 0
      },
      "text/plain": [
       "epochs:   0%|          | 0/1 [00:00<?, ?it/s]"
      ]
     },
     "metadata": {},
     "output_type": "display_data"
    },
    {
     "name": "stdout",
     "output_type": "stream",
     "text": [
      "<tf.Variable 'Adam_2/learning_rate:0' shape=() dtype=float32>\n",
      "<tf.Variable 'Adam_2/learning_rate:0' shape=() dtype=float32>\n",
      "Original Data Shape (selected):  (2500, 36)\n",
      "Original Data Shape (encoded):  (2500, 36)\n",
      "Original Data Class Distribution:  778  (true) / 1722  (false)\n",
      "(1500, 36) (1500,)\n",
      "(500, 36) (500,)\n",
      "(500, 36) (500,)\n",
      "Min Ratio:  0.31333333333333335\n",
      "Min Ratio:  0.5\n",
      "Min Ratio:  0.313\n",
      "Min Ratio:  0.5\n"
     ]
    },
    {
     "data": {
      "application/vnd.jupyter.widget-view+json": {
       "model_id": "b67d35ff9c214b579dfbf70fa3794608",
       "version_major": 2,
       "version_minor": 0
      },
      "text/plain": [
       "restarts:   0%|          | 0/1 [00:00<?, ?it/s]"
      ]
     },
     "metadata": {},
     "output_type": "display_data"
    },
    {
     "data": {
      "application/vnd.jupyter.widget-view+json": {
       "model_id": "35ed5ddd7163443383a3c76a8be3ce99",
       "version_major": 2,
       "version_minor": 0
      },
      "text/plain": [
       "epochs:   0%|          | 0/1 [00:00<?, ?it/s]"
      ]
     },
     "metadata": {},
     "output_type": "display_data"
    },
    {
     "name": "stdout",
     "output_type": "stream",
     "text": [
      "<tf.Variable 'Adam_2/learning_rate:0' shape=() dtype=float32>\n",
      "<tf.Variable 'Adam_2/learning_rate:0' shape=() dtype=float32>\n",
      "Original Data Shape (selected):  (2500, 36)\n",
      "Original Data Shape (encoded):  (2500, 36)\n",
      "Original Data Class Distribution:  827  (true) / 1673  (false)\n",
      "(1500, 36) (1500,)\n",
      "(500, 36) (500,)\n",
      "(500, 36) (500,)\n",
      "Min Ratio:  0.3253333333333333\n",
      "Min Ratio:  0.5\n",
      "Min Ratio:  0.3245\n",
      "Min Ratio:  0.5\n"
     ]
    },
    {
     "data": {
      "application/vnd.jupyter.widget-view+json": {
       "model_id": "86da70dc549e4dcdb167560ba9175a69",
       "version_major": 2,
       "version_minor": 0
      },
      "text/plain": [
       "restarts:   0%|          | 0/1 [00:00<?, ?it/s]"
      ]
     },
     "metadata": {},
     "output_type": "display_data"
    },
    {
     "data": {
      "application/vnd.jupyter.widget-view+json": {
       "model_id": "820b4769417a4a29bf28872545dcdc34",
       "version_major": 2,
       "version_minor": 0
      },
      "text/plain": [
       "epochs:   0%|          | 0/1 [00:00<?, ?it/s]"
      ]
     },
     "metadata": {},
     "output_type": "display_data"
    },
    {
     "name": "stdout",
     "output_type": "stream",
     "text": [
      "<tf.Variable 'Adam_2/learning_rate:0' shape=() dtype=float32>\n",
      "<tf.Variable 'Adam_2/learning_rate:0' shape=() dtype=float32>\n",
      "Original Data Shape (selected):  (2500, 36)\n",
      "Original Data Shape (encoded):  (2500, 36)\n",
      "Original Data Class Distribution:  791  (true) / 1709  (false)\n",
      "(1500, 36) (1500,)\n",
      "(500, 36) (500,)\n",
      "(500, 36) (500,)\n",
      "Min Ratio:  0.312\n",
      "Min Ratio:  0.5\n",
      "Min Ratio:  0.315\n",
      "Min Ratio:  0.5\n"
     ]
    },
    {
     "data": {
      "application/vnd.jupyter.widget-view+json": {
       "model_id": "1be394b1e2ff492eb759e9eb57e7f0ab",
       "version_major": 2,
       "version_minor": 0
      },
      "text/plain": [
       "restarts:   0%|          | 0/1 [00:00<?, ?it/s]"
      ]
     },
     "metadata": {},
     "output_type": "display_data"
    },
    {
     "data": {
      "application/vnd.jupyter.widget-view+json": {
       "model_id": "68ef19c85f634a8b920ecdd7a9c73606",
       "version_major": 2,
       "version_minor": 0
      },
      "text/plain": [
       "epochs:   0%|          | 0/1 [00:00<?, ?it/s]"
      ]
     },
     "metadata": {},
     "output_type": "display_data"
    },
    {
     "name": "stdout",
     "output_type": "stream",
     "text": [
      "<tf.Variable 'Adam_2/learning_rate:0' shape=() dtype=float32>\n",
      "<tf.Variable 'Adam_2/learning_rate:0' shape=() dtype=float32>\n",
      "Original Data Shape (selected):  (2500, 36)\n",
      "Original Data Shape (encoded):  (2500, 36)\n",
      "Original Data Class Distribution:  821  (true) / 1679  (false)\n",
      "(1500, 36) (1500,)\n",
      "(500, 36) (500,)\n",
      "(500, 36) (500,)\n",
      "Min Ratio:  0.32066666666666666\n",
      "Min Ratio:  0.5\n",
      "Min Ratio:  0.3195\n",
      "Min Ratio:  0.5\n"
     ]
    },
    {
     "data": {
      "application/vnd.jupyter.widget-view+json": {
       "model_id": "6f7b41a89ab549cab530b537936ea401",
       "version_major": 2,
       "version_minor": 0
      },
      "text/plain": [
       "restarts:   0%|          | 0/1 [00:00<?, ?it/s]"
      ]
     },
     "metadata": {},
     "output_type": "display_data"
    },
    {
     "data": {
      "application/vnd.jupyter.widget-view+json": {
       "model_id": "196f659fdc63454e9a66daf7ea282542",
       "version_major": 2,
       "version_minor": 0
      },
      "text/plain": [
       "epochs:   0%|          | 0/1 [00:00<?, ?it/s]"
      ]
     },
     "metadata": {},
     "output_type": "display_data"
    },
    {
     "name": "stdout",
     "output_type": "stream",
     "text": [
      "<tf.Variable 'Adam_2/learning_rate:0' shape=() dtype=float32>\n",
      "<tf.Variable 'Adam_2/learning_rate:0' shape=() dtype=float32>\n",
      "Original Data Shape (selected):  (2500, 36)\n",
      "Original Data Shape (encoded):  (2500, 36)\n",
      "Original Data Class Distribution:  838  (true) / 1662  (false)\n",
      "(1500, 36) (1500,)\n",
      "(500, 36) (500,)\n",
      "(500, 36) (500,)\n",
      "Min Ratio:  0.3253333333333333\n",
      "Min Ratio:  0.5\n",
      "Min Ratio:  0.336\n",
      "Min Ratio:  0.5\n"
     ]
    },
    {
     "data": {
      "application/vnd.jupyter.widget-view+json": {
       "model_id": "2bb07619f2824ad4a68bcb6b9a3d7c8b",
       "version_major": 2,
       "version_minor": 0
      },
      "text/plain": [
       "restarts:   0%|          | 0/1 [00:00<?, ?it/s]"
      ]
     },
     "metadata": {},
     "output_type": "display_data"
    },
    {
     "data": {
      "application/vnd.jupyter.widget-view+json": {
       "model_id": "25c66301a67e41f791d1c9b6ee23f460",
       "version_major": 2,
       "version_minor": 0
      },
      "text/plain": [
       "epochs:   0%|          | 0/1 [00:00<?, ?it/s]"
      ]
     },
     "metadata": {},
     "output_type": "display_data"
    },
    {
     "name": "stdout",
     "output_type": "stream",
     "text": [
      "<tf.Variable 'Adam_2/learning_rate:0' shape=() dtype=float32>\n",
      "<tf.Variable 'Adam_2/learning_rate:0' shape=() dtype=float32>\n",
      "Original Data Shape (selected):  (2500, 36)\n",
      "Original Data Shape (encoded):  (2500, 36)\n",
      "Original Data Class Distribution:  836  (true) / 1664  (false)\n",
      "(1500, 36) (1500,)\n",
      "(500, 36) (500,)\n",
      "(500, 36) (500,)\n",
      "Min Ratio:  0.3473333333333333\n",
      "Min Ratio:  0.5\n",
      "Min Ratio:  0.3405\n",
      "Min Ratio:  0.5\n"
     ]
    },
    {
     "data": {
      "application/vnd.jupyter.widget-view+json": {
       "model_id": "6a037c9ed23542b8be5e1c7829096df7",
       "version_major": 2,
       "version_minor": 0
      },
      "text/plain": [
       "restarts:   0%|          | 0/1 [00:00<?, ?it/s]"
      ]
     },
     "metadata": {},
     "output_type": "display_data"
    },
    {
     "data": {
      "application/vnd.jupyter.widget-view+json": {
       "model_id": "ed1aa1425704443ab6257a3207006dd5",
       "version_major": 2,
       "version_minor": 0
      },
      "text/plain": [
       "epochs:   0%|          | 0/1 [00:00<?, ?it/s]"
      ]
     },
     "metadata": {},
     "output_type": "display_data"
    },
    {
     "name": "stdout",
     "output_type": "stream",
     "text": [
      "<tf.Variable 'Adam_2/learning_rate:0' shape=() dtype=float32>\n",
      "<tf.Variable 'Adam_2/learning_rate:0' shape=() dtype=float32>\n",
      "Original Data Shape (selected):  (2500, 36)\n",
      "Original Data Shape (encoded):  (2500, 36)\n",
      "Original Data Class Distribution:  832  (true) / 1668  (false)\n",
      "(1500, 36) (1500,)\n",
      "(500, 36) (500,)\n",
      "(500, 36) (500,)\n",
      "Min Ratio:  0.33\n",
      "Min Ratio:  0.5\n",
      "Min Ratio:  0.335\n",
      "Min Ratio:  0.5\n"
     ]
    },
    {
     "data": {
      "application/vnd.jupyter.widget-view+json": {
       "model_id": "d2672927d3d04e42995379680221f412",
       "version_major": 2,
       "version_minor": 0
      },
      "text/plain": [
       "restarts:   0%|          | 0/1 [00:00<?, ?it/s]"
      ]
     },
     "metadata": {},
     "output_type": "display_data"
    },
    {
     "data": {
      "application/vnd.jupyter.widget-view+json": {
       "model_id": "9b26897801734e1b9926621f662400ab",
       "version_major": 2,
       "version_minor": 0
      },
      "text/plain": [
       "epochs:   0%|          | 0/1 [00:00<?, ?it/s]"
      ]
     },
     "metadata": {},
     "output_type": "display_data"
    },
    {
     "name": "stdout",
     "output_type": "stream",
     "text": [
      "<tf.Variable 'Adam_2/learning_rate:0' shape=() dtype=float32>\n",
      "<tf.Variable 'Adam_2/learning_rate:0' shape=() dtype=float32>\n",
      "Original Data Shape (selected):  (2500, 36)\n",
      "Original Data Shape (encoded):  (2500, 36)\n",
      "Original Data Class Distribution:  847  (true) / 1653  (false)\n",
      "(1500, 36) (1500,)\n",
      "(500, 36) (500,)\n",
      "(500, 36) (500,)\n",
      "Min Ratio:  0.346\n",
      "Min Ratio:  0.5\n",
      "Min Ratio:  0.338\n",
      "Min Ratio:  0.5\n"
     ]
    },
    {
     "data": {
      "application/vnd.jupyter.widget-view+json": {
       "model_id": "18dc3d512ad444eca250476f43b3bcc7",
       "version_major": 2,
       "version_minor": 0
      },
      "text/plain": [
       "restarts:   0%|          | 0/1 [00:00<?, ?it/s]"
      ]
     },
     "metadata": {},
     "output_type": "display_data"
    },
    {
     "data": {
      "application/vnd.jupyter.widget-view+json": {
       "model_id": "e24de309e5714577bdba6ea9945e4e65",
       "version_major": 2,
       "version_minor": 0
      },
      "text/plain": [
       "epochs:   0%|          | 0/1 [00:00<?, ?it/s]"
      ]
     },
     "metadata": {},
     "output_type": "display_data"
    },
    {
     "name": "stdout",
     "output_type": "stream",
     "text": [
      "<tf.Variable 'Adam_2/learning_rate:0' shape=() dtype=float32>\n",
      "<tf.Variable 'Adam_2/learning_rate:0' shape=() dtype=float32>\n",
      "Original Data Shape (selected):  (2500, 36)\n",
      "Original Data Shape (encoded):  (2500, 36)\n",
      "Original Data Class Distribution:  820  (true) / 1680  (false)\n",
      "(1500, 36) (1500,)\n",
      "(500, 36) (500,)\n",
      "(500, 36) (500,)\n",
      "Min Ratio:  0.32866666666666666\n",
      "Min Ratio:  0.5\n",
      "Min Ratio:  0.325\n",
      "Min Ratio:  0.5\n"
     ]
    },
    {
     "data": {
      "application/vnd.jupyter.widget-view+json": {
       "model_id": "e2f2667cc137448783ec0e8e58986836",
       "version_major": 2,
       "version_minor": 0
      },
      "text/plain": [
       "restarts:   0%|          | 0/1 [00:00<?, ?it/s]"
      ]
     },
     "metadata": {},
     "output_type": "display_data"
    },
    {
     "data": {
      "application/vnd.jupyter.widget-view+json": {
       "model_id": "f0879920af92466ebe1ac6133864bdc8",
       "version_major": 2,
       "version_minor": 0
      },
      "text/plain": [
       "epochs:   0%|          | 0/1 [00:00<?, ?it/s]"
      ]
     },
     "metadata": {},
     "output_type": "display_data"
    },
    {
     "name": "stdout",
     "output_type": "stream",
     "text": [
      "<tf.Variable 'Adam_2/learning_rate:0' shape=() dtype=float32>\n",
      "<tf.Variable 'Adam_2/learning_rate:0' shape=() dtype=float32>\n",
      "Original Data Shape (selected):  (2500, 36)\n",
      "Original Data Shape (encoded):  (2500, 36)\n",
      "Original Data Class Distribution:  849  (true) / 1651  (false)\n",
      "(1500, 36) (1500,)\n",
      "(500, 36) (500,)\n",
      "(500, 36) (500,)\n",
      "Min Ratio:  0.3353333333333333\n",
      "Min Ratio:  0.5\n",
      "Min Ratio:  0.341\n",
      "Min Ratio:  0.5\n"
     ]
    },
    {
     "data": {
      "application/vnd.jupyter.widget-view+json": {
       "model_id": "d7d8afe625c9425ca7678553b59e00c0",
       "version_major": 2,
       "version_minor": 0
      },
      "text/plain": [
       "restarts:   0%|          | 0/1 [00:00<?, ?it/s]"
      ]
     },
     "metadata": {},
     "output_type": "display_data"
    },
    {
     "data": {
      "application/vnd.jupyter.widget-view+json": {
       "model_id": "72030558bd6e413caa8b7e0832a99afa",
       "version_major": 2,
       "version_minor": 0
      },
      "text/plain": [
       "epochs:   0%|          | 0/1 [00:00<?, ?it/s]"
      ]
     },
     "metadata": {},
     "output_type": "display_data"
    },
    {
     "name": "stdout",
     "output_type": "stream",
     "text": [
      "<tf.Variable 'Adam_2/learning_rate:0' shape=() dtype=float32>\n",
      "<tf.Variable 'Adam_2/learning_rate:0' shape=() dtype=float32>\n",
      "Original Data Shape (selected):  (2500, 36)\n",
      "Original Data Shape (encoded):  (2500, 36)\n",
      "Original Data Class Distribution:  842  (true) / 1658  (false)\n",
      "(1500, 36) (1500,)\n",
      "(500, 36) (500,)\n",
      "(500, 36) (500,)\n",
      "Min Ratio:  0.33466666666666667\n",
      "Min Ratio:  0.5\n",
      "Min Ratio:  0.337\n",
      "Min Ratio:  0.5\n"
     ]
    },
    {
     "data": {
      "application/vnd.jupyter.widget-view+json": {
       "model_id": "40a4b78af3dd4050890c7f3d462abf75",
       "version_major": 2,
       "version_minor": 0
      },
      "text/plain": [
       "restarts:   0%|          | 0/1 [00:00<?, ?it/s]"
      ]
     },
     "metadata": {},
     "output_type": "display_data"
    },
    {
     "data": {
      "application/vnd.jupyter.widget-view+json": {
       "model_id": "a44247cdb4e84d74b1d66f404ebbeffe",
       "version_major": 2,
       "version_minor": 0
      },
      "text/plain": [
       "epochs:   0%|          | 0/1 [00:00<?, ?it/s]"
      ]
     },
     "metadata": {},
     "output_type": "display_data"
    },
    {
     "name": "stdout",
     "output_type": "stream",
     "text": [
      "<tf.Variable 'Adam_2/learning_rate:0' shape=() dtype=float32>\n",
      "<tf.Variable 'Adam_2/learning_rate:0' shape=() dtype=float32>\n",
      "Original Data Shape (selected):  (2500, 36)\n",
      "Original Data Shape (encoded):  (2500, 36)\n",
      "Original Data Class Distribution:  807  (true) / 1693  (false)\n",
      "(1500, 36) (1500,)\n",
      "(500, 36) (500,)\n",
      "(500, 36) (500,)\n",
      "Min Ratio:  0.33066666666666666\n",
      "Min Ratio:  0.5\n",
      "Min Ratio:  0.3255\n",
      "Min Ratio:  0.5\n"
     ]
    },
    {
     "data": {
      "application/vnd.jupyter.widget-view+json": {
       "model_id": "b5a6cf8ab39f46898699426bc4500415",
       "version_major": 2,
       "version_minor": 0
      },
      "text/plain": [
       "restarts:   0%|          | 0/1 [00:00<?, ?it/s]"
      ]
     },
     "metadata": {},
     "output_type": "display_data"
    },
    {
     "data": {
      "application/vnd.jupyter.widget-view+json": {
       "model_id": "75d7eeec9192480dbdcde7c65a494273",
       "version_major": 2,
       "version_minor": 0
      },
      "text/plain": [
       "epochs:   0%|          | 0/1 [00:00<?, ?it/s]"
      ]
     },
     "metadata": {},
     "output_type": "display_data"
    },
    {
     "name": "stdout",
     "output_type": "stream",
     "text": [
      "<tf.Variable 'Adam_2/learning_rate:0' shape=() dtype=float32>\n",
      "<tf.Variable 'Adam_2/learning_rate:0' shape=() dtype=float32>\n",
      "Original Data Shape (selected):  (2500, 36)\n",
      "Original Data Shape (encoded):  (2500, 36)\n",
      "Original Data Class Distribution:  833  (true) / 1667  (false)\n",
      "(1500, 36) (1500,)\n",
      "(500, 36) (500,)\n",
      "(500, 36) (500,)\n",
      "Min Ratio:  0.3373333333333333\n",
      "Min Ratio:  0.5\n",
      "Min Ratio:  0.3265\n",
      "Min Ratio:  0.5\n"
     ]
    },
    {
     "data": {
      "application/vnd.jupyter.widget-view+json": {
       "model_id": "2c5b28990a174d62b52f48dd323e588a",
       "version_major": 2,
       "version_minor": 0
      },
      "text/plain": [
       "restarts:   0%|          | 0/1 [00:00<?, ?it/s]"
      ]
     },
     "metadata": {},
     "output_type": "display_data"
    },
    {
     "data": {
      "application/vnd.jupyter.widget-view+json": {
       "model_id": "a88fe4696e824512a25aaaaf7ff5a9c5",
       "version_major": 2,
       "version_minor": 0
      },
      "text/plain": [
       "epochs:   0%|          | 0/1 [00:00<?, ?it/s]"
      ]
     },
     "metadata": {},
     "output_type": "display_data"
    },
    {
     "name": "stdout",
     "output_type": "stream",
     "text": [
      "<tf.Variable 'Adam_2/learning_rate:0' shape=() dtype=float32>\n",
      "<tf.Variable 'Adam_2/learning_rate:0' shape=() dtype=float32>\n",
      "Original Data Shape (selected):  (2500, 36)\n",
      "Original Data Shape (encoded):  (2500, 36)\n",
      "Original Data Class Distribution:  811  (true) / 1689  (false)\n",
      "(1500, 36) (1500,)\n",
      "(500, 36) (500,)\n",
      "(500, 36) (500,)\n",
      "Min Ratio:  0.31733333333333336\n",
      "Min Ratio:  0.5\n",
      "Min Ratio:  0.3235\n",
      "Min Ratio:  0.5\n"
     ]
    },
    {
     "data": {
      "application/vnd.jupyter.widget-view+json": {
       "model_id": "1475c2c0319c463a8376ca55d3cdfded",
       "version_major": 2,
       "version_minor": 0
      },
      "text/plain": [
       "restarts:   0%|          | 0/1 [00:00<?, ?it/s]"
      ]
     },
     "metadata": {},
     "output_type": "display_data"
    },
    {
     "data": {
      "application/vnd.jupyter.widget-view+json": {
       "model_id": "7eff7d64e54544b5bbf5301703759b4d",
       "version_major": 2,
       "version_minor": 0
      },
      "text/plain": [
       "epochs:   0%|          | 0/1 [00:00<?, ?it/s]"
      ]
     },
     "metadata": {},
     "output_type": "display_data"
    },
    {
     "name": "stdout",
     "output_type": "stream",
     "text": [
      "<tf.Variable 'Adam_2/learning_rate:0' shape=() dtype=float32>\n",
      "Original Data Shape (selected):  (2500, 36)\n",
      "Original Data Shape (encoded):  (2500, 36)\n",
      "Original Data Class Distribution:  822  (true) / 1678  (false)\n",
      "(1500, 36) (1500,)\n",
      "(500, 36) (500,)\n",
      "(500, 36) (500,)\n",
      "Min Ratio:  0.32666666666666666\n",
      "Min Ratio:  0.5\n",
      "Min Ratio:  0.333\n",
      "Min Ratio:  0.5\n"
     ]
    },
    {
     "data": {
      "application/vnd.jupyter.widget-view+json": {
       "model_id": "8af9a368b01e4f53ad59a693ac6a0223",
       "version_major": 2,
       "version_minor": 0
      },
      "text/plain": [
       "restarts:   0%|          | 0/1 [00:00<?, ?it/s]"
      ]
     },
     "metadata": {},
     "output_type": "display_data"
    },
    {
     "data": {
      "application/vnd.jupyter.widget-view+json": {
       "model_id": "e7ed684c325a477fae3edc57b2d736ce",
       "version_major": 2,
       "version_minor": 0
      },
      "text/plain": [
       "epochs:   0%|          | 0/1 [00:00<?, ?it/s]"
      ]
     },
     "metadata": {},
     "output_type": "display_data"
    },
    {
     "name": "stdout",
     "output_type": "stream",
     "text": [
      "<tf.Variable 'Adam_2/learning_rate:0' shape=() dtype=float32>\n",
      "<tf.Variable 'Adam_2/learning_rate:0' shape=() dtype=float32>\n",
      "Original Data Shape (selected):  (2500, 36)\n",
      "Original Data Shape (encoded):  (2500, 36)\n",
      "Original Data Class Distribution:  823  (true) / 1677  (false)\n",
      "(1500, 36) (1500,)\n",
      "(500, 36) (500,)\n",
      "(500, 36) (500,)\n",
      "Min Ratio:  0.32466666666666666\n",
      "Min Ratio:  0.5\n",
      "Min Ratio:  0.3265\n",
      "Min Ratio:  0.5\n"
     ]
    },
    {
     "data": {
      "application/vnd.jupyter.widget-view+json": {
       "model_id": "1b48f3aa2e6b4786ae5255425e39d36d",
       "version_major": 2,
       "version_minor": 0
      },
      "text/plain": [
       "restarts:   0%|          | 0/1 [00:00<?, ?it/s]"
      ]
     },
     "metadata": {},
     "output_type": "display_data"
    },
    {
     "data": {
      "application/vnd.jupyter.widget-view+json": {
       "model_id": "e2a16b0d770341e697ecb8a9b14f9075",
       "version_major": 2,
       "version_minor": 0
      },
      "text/plain": [
       "epochs:   0%|          | 0/1 [00:00<?, ?it/s]"
      ]
     },
     "metadata": {},
     "output_type": "display_data"
    },
    {
     "name": "stdout",
     "output_type": "stream",
     "text": [
      "<tf.Variable 'Adam_2/learning_rate:0' shape=() dtype=float32>\n",
      "<tf.Variable 'Adam_2/learning_rate:0' shape=() dtype=float32>\n",
      "Original Data Shape (selected):  (2500, 36)\n",
      "Original Data Shape (encoded):  (2500, 36)\n",
      "Original Data Class Distribution:  824  (true) / 1676  (false)\n",
      "(1500, 36) (1500,)\n",
      "(500, 36) (500,)\n",
      "(500, 36) (500,)\n",
      "Min Ratio:  0.33266666666666667\n",
      "Min Ratio:  0.5\n",
      "Min Ratio:  0.3305\n",
      "Min Ratio:  0.5\n"
     ]
    },
    {
     "data": {
      "application/vnd.jupyter.widget-view+json": {
       "model_id": "1d3b4f9abd4b4116b79cefc455d26c89",
       "version_major": 2,
       "version_minor": 0
      },
      "text/plain": [
       "restarts:   0%|          | 0/1 [00:00<?, ?it/s]"
      ]
     },
     "metadata": {},
     "output_type": "display_data"
    },
    {
     "data": {
      "application/vnd.jupyter.widget-view+json": {
       "model_id": "477af08b713a450d8dbb30ed3218a085",
       "version_major": 2,
       "version_minor": 0
      },
      "text/plain": [
       "epochs:   0%|          | 0/1 [00:00<?, ?it/s]"
      ]
     },
     "metadata": {},
     "output_type": "display_data"
    },
    {
     "name": "stdout",
     "output_type": "stream",
     "text": [
      "<tf.Variable 'Adam_2/learning_rate:0' shape=() dtype=float32>\n",
      "<tf.Variable 'Adam_2/learning_rate:0' shape=() dtype=float32>\n",
      "Original Data Shape (selected):  (2500, 36)\n",
      "Original Data Shape (encoded):  (2500, 36)\n",
      "Original Data Class Distribution:  801  (true) / 1699  (false)\n",
      "(1500, 36) (1500,)\n",
      "(500, 36) (500,)\n",
      "(500, 36) (500,)\n",
      "Min Ratio:  0.31733333333333336\n",
      "Min Ratio:  0.5\n",
      "Min Ratio:  0.3115\n",
      "Min Ratio:  0.5\n"
     ]
    },
    {
     "data": {
      "application/vnd.jupyter.widget-view+json": {
       "model_id": "d21640f212b548de93dd407ab8b72b57",
       "version_major": 2,
       "version_minor": 0
      },
      "text/plain": [
       "restarts:   0%|          | 0/1 [00:00<?, ?it/s]"
      ]
     },
     "metadata": {},
     "output_type": "display_data"
    },
    {
     "data": {
      "application/vnd.jupyter.widget-view+json": {
       "model_id": "0128e7f9412048d49a9bd944d42dc044",
       "version_major": 2,
       "version_minor": 0
      },
      "text/plain": [
       "epochs:   0%|          | 0/1 [00:00<?, ?it/s]"
      ]
     },
     "metadata": {},
     "output_type": "display_data"
    },
    {
     "name": "stdout",
     "output_type": "stream",
     "text": [
      "<tf.Variable 'Adam_2/learning_rate:0' shape=() dtype=float32>\n",
      "Original Data Shape (selected):  (2500, 36)\n",
      "Original Data Shape (encoded):  (2500, 36)\n",
      "Original Data Class Distribution:  848  (true) / 1652  (false)\n",
      "(1500, 36) (1500,)\n",
      "(500, 36) (500,)\n",
      "(500, 36) (500,)\n",
      "Min Ratio:  0.3373333333333333\n",
      "Min Ratio:  0.5\n",
      "Min Ratio:  0.3405\n",
      "Min Ratio:  0.5\n"
     ]
    },
    {
     "data": {
      "application/vnd.jupyter.widget-view+json": {
       "model_id": "c66bbf0c2cc74494898b2d07fa4764fa",
       "version_major": 2,
       "version_minor": 0
      },
      "text/plain": [
       "restarts:   0%|          | 0/1 [00:00<?, ?it/s]"
      ]
     },
     "metadata": {},
     "output_type": "display_data"
    },
    {
     "data": {
      "application/vnd.jupyter.widget-view+json": {
       "model_id": "196de3536f0946a0aaa543b1fdd43627",
       "version_major": 2,
       "version_minor": 0
      },
      "text/plain": [
       "epochs:   0%|          | 0/1 [00:00<?, ?it/s]"
      ]
     },
     "metadata": {},
     "output_type": "display_data"
    },
    {
     "name": "stdout",
     "output_type": "stream",
     "text": [
      "<tf.Variable 'Adam_2/learning_rate:0' shape=() dtype=float32>\n",
      "<tf.Variable 'Adam_2/learning_rate:0' shape=() dtype=float32>\n",
      "Original Data Shape (selected):  (2500, 36)\n",
      "Original Data Shape (encoded):  (2500, 36)\n",
      "Original Data Class Distribution:  832  (true) / 1668  (false)\n",
      "(1500, 36) (1500,)\n",
      "(500, 36) (500,)\n",
      "(500, 36) (500,)\n",
      "Min Ratio:  0.3293333333333333\n",
      "Min Ratio:  0.5\n",
      "Min Ratio:  0.329\n",
      "Min Ratio:  0.5\n"
     ]
    },
    {
     "data": {
      "application/vnd.jupyter.widget-view+json": {
       "model_id": "9117b1205d0944e5b95df1496d557248",
       "version_major": 2,
       "version_minor": 0
      },
      "text/plain": [
       "restarts:   0%|          | 0/1 [00:00<?, ?it/s]"
      ]
     },
     "metadata": {},
     "output_type": "display_data"
    },
    {
     "data": {
      "application/vnd.jupyter.widget-view+json": {
       "model_id": "872d752ed3e845f78b918e3ad974eeea",
       "version_major": 2,
       "version_minor": 0
      },
      "text/plain": [
       "epochs:   0%|          | 0/1 [00:00<?, ?it/s]"
      ]
     },
     "metadata": {},
     "output_type": "display_data"
    },
    {
     "name": "stdout",
     "output_type": "stream",
     "text": [
      "<tf.Variable 'Adam_2/learning_rate:0' shape=() dtype=float32>\n",
      "<tf.Variable 'Adam_2/learning_rate:0' shape=() dtype=float32>\n",
      "Original Data Shape (selected):  (2500, 36)\n",
      "Original Data Shape (encoded):  (2500, 36)\n",
      "Original Data Class Distribution:  776  (true) / 1724  (false)\n",
      "(1500, 36) (1500,)\n",
      "(500, 36) (500,)\n",
      "(500, 36) (500,)\n",
      "Min Ratio:  0.30466666666666664\n",
      "Min Ratio:  0.5\n",
      "Min Ratio:  0.311\n",
      "Min Ratio:  0.5\n"
     ]
    },
    {
     "data": {
      "application/vnd.jupyter.widget-view+json": {
       "model_id": "66091fcdc95948e49f7a0f5259c56735",
       "version_major": 2,
       "version_minor": 0
      },
      "text/plain": [
       "restarts:   0%|          | 0/1 [00:00<?, ?it/s]"
      ]
     },
     "metadata": {},
     "output_type": "display_data"
    },
    {
     "data": {
      "application/vnd.jupyter.widget-view+json": {
       "model_id": "efc3a192338044f0b8fc936f0bb44003",
       "version_major": 2,
       "version_minor": 0
      },
      "text/plain": [
       "epochs:   0%|          | 0/1 [00:00<?, ?it/s]"
      ]
     },
     "metadata": {},
     "output_type": "display_data"
    },
    {
     "name": "stdout",
     "output_type": "stream",
     "text": [
      "<tf.Variable 'Adam_2/learning_rate:0' shape=() dtype=float32>\n",
      "<tf.Variable 'Adam_2/learning_rate:0' shape=() dtype=float32>\n",
      "Original Data Shape (selected):  (2500, 36)\n",
      "Original Data Shape (encoded):  (2500, 36)\n",
      "Original Data Class Distribution:  806  (true) / 1694  (false)\n",
      "(1500, 36) (1500,)\n",
      "(500, 36) (500,)\n",
      "(500, 36) (500,)\n",
      "Min Ratio:  0.33266666666666667\n",
      "Min Ratio:  0.5\n",
      "Min Ratio:  0.3245\n",
      "Min Ratio:  0.5\n"
     ]
    },
    {
     "data": {
      "application/vnd.jupyter.widget-view+json": {
       "model_id": "f91f6dc8e3be46f8ba249802f5679960",
       "version_major": 2,
       "version_minor": 0
      },
      "text/plain": [
       "restarts:   0%|          | 0/1 [00:00<?, ?it/s]"
      ]
     },
     "metadata": {},
     "output_type": "display_data"
    },
    {
     "data": {
      "application/vnd.jupyter.widget-view+json": {
       "model_id": "e891ea25a4a848e6853abb2fde570489",
       "version_major": 2,
       "version_minor": 0
      },
      "text/plain": [
       "epochs:   0%|          | 0/1 [00:00<?, ?it/s]"
      ]
     },
     "metadata": {},
     "output_type": "display_data"
    },
    {
     "name": "stdout",
     "output_type": "stream",
     "text": [
      "<tf.Variable 'Adam_2/learning_rate:0' shape=() dtype=float32>\n",
      "<tf.Variable 'Adam_2/learning_rate:0' shape=() dtype=float32>\n",
      "Original Data Shape (selected):  (2500, 36)\n",
      "Original Data Shape (encoded):  (2500, 36)\n",
      "Original Data Class Distribution:  774  (true) / 1726  (false)\n",
      "(1500, 36) (1500,)\n",
      "(500, 36) (500,)\n",
      "(500, 36) (500,)\n",
      "Min Ratio:  0.312\n",
      "Min Ratio:  0.5\n",
      "Min Ratio:  0.308\n",
      "Min Ratio:  0.5\n"
     ]
    },
    {
     "data": {
      "application/vnd.jupyter.widget-view+json": {
       "model_id": "8e90b2018539489db394e1d53c46fac0",
       "version_major": 2,
       "version_minor": 0
      },
      "text/plain": [
       "restarts:   0%|          | 0/1 [00:00<?, ?it/s]"
      ]
     },
     "metadata": {},
     "output_type": "display_data"
    },
    {
     "data": {
      "application/vnd.jupyter.widget-view+json": {
       "model_id": "43fcfd0ed2f94d4e82be5b8bc1352ea5",
       "version_major": 2,
       "version_minor": 0
      },
      "text/plain": [
       "epochs:   0%|          | 0/1 [00:00<?, ?it/s]"
      ]
     },
     "metadata": {},
     "output_type": "display_data"
    },
    {
     "name": "stdout",
     "output_type": "stream",
     "text": [
      "<tf.Variable 'Adam_2/learning_rate:0' shape=() dtype=float32>\n",
      "<tf.Variable 'Adam_2/learning_rate:0' shape=() dtype=float32>\n",
      "Original Data Shape (selected):  (2500, 36)\n",
      "Original Data Shape (encoded):  (2500, 36)\n",
      "Original Data Class Distribution:  848  (true) / 1652  (false)\n",
      "(1500, 36) (1500,)\n",
      "(500, 36) (500,)\n",
      "(500, 36) (500,)\n",
      "Min Ratio:  0.3333333333333333\n",
      "Min Ratio:  0.5\n",
      "Min Ratio:  0.3415\n",
      "Min Ratio:  0.5\n"
     ]
    },
    {
     "data": {
      "application/vnd.jupyter.widget-view+json": {
       "model_id": "b4f81a11b6d64792a11008473eb4afdc",
       "version_major": 2,
       "version_minor": 0
      },
      "text/plain": [
       "restarts:   0%|          | 0/1 [00:00<?, ?it/s]"
      ]
     },
     "metadata": {},
     "output_type": "display_data"
    },
    {
     "data": {
      "application/vnd.jupyter.widget-view+json": {
       "model_id": "f57794612235484598a35a2407bc0e86",
       "version_major": 2,
       "version_minor": 0
      },
      "text/plain": [
       "epochs:   0%|          | 0/1 [00:00<?, ?it/s]"
      ]
     },
     "metadata": {},
     "output_type": "display_data"
    },
    {
     "name": "stdout",
     "output_type": "stream",
     "text": [
      "<tf.Variable 'Adam_2/learning_rate:0' shape=() dtype=float32>\n",
      "<tf.Variable 'Adam_2/learning_rate:0' shape=() dtype=float32>\n",
      "Original Data Shape (selected):  (2500, 36)\n",
      "Original Data Shape (encoded):  (2500, 36)\n",
      "Original Data Class Distribution:  870  (true) / 1630  (false)\n",
      "(1500, 36) (1500,)\n",
      "(500, 36) (500,)\n",
      "(500, 36) (500,)\n",
      "Min Ratio:  0.3433333333333333\n",
      "Min Ratio:  0.5\n",
      "Min Ratio:  0.34\n",
      "Min Ratio:  0.5\n"
     ]
    },
    {
     "data": {
      "application/vnd.jupyter.widget-view+json": {
       "model_id": "ad1b688d35a14f789870a92595355209",
       "version_major": 2,
       "version_minor": 0
      },
      "text/plain": [
       "restarts:   0%|          | 0/1 [00:00<?, ?it/s]"
      ]
     },
     "metadata": {},
     "output_type": "display_data"
    },
    {
     "data": {
      "application/vnd.jupyter.widget-view+json": {
       "model_id": "eaaaaa2e15b5455f85e5938e5a3e3484",
       "version_major": 2,
       "version_minor": 0
      },
      "text/plain": [
       "epochs:   0%|          | 0/1 [00:00<?, ?it/s]"
      ]
     },
     "metadata": {},
     "output_type": "display_data"
    },
    {
     "name": "stdout",
     "output_type": "stream",
     "text": [
      "<tf.Variable 'Adam_2/learning_rate:0' shape=() dtype=float32>\n",
      "<tf.Variable 'Adam_2/learning_rate:0' shape=() dtype=float32>\n",
      "Original Data Shape (selected):  (2500, 36)\n",
      "Original Data Shape (encoded):  (2500, 36)\n",
      "Original Data Class Distribution:  815  (true) / 1685  (false)\n",
      "(1500, 36) (1500,)\n",
      "(500, 36) (500,)\n",
      "(500, 36) (500,)\n",
      "Min Ratio:  0.32466666666666666\n",
      "Min Ratio:  0.5\n",
      "Min Ratio:  0.3285\n",
      "Min Ratio:  0.5\n"
     ]
    },
    {
     "data": {
      "application/vnd.jupyter.widget-view+json": {
       "model_id": "2aa46e639b5a4d41b030b72f8393a620",
       "version_major": 2,
       "version_minor": 0
      },
      "text/plain": [
       "restarts:   0%|          | 0/1 [00:00<?, ?it/s]"
      ]
     },
     "metadata": {},
     "output_type": "display_data"
    },
    {
     "data": {
      "application/vnd.jupyter.widget-view+json": {
       "model_id": "f0cd90aa8e3c4218bf8465163db87481",
       "version_major": 2,
       "version_minor": 0
      },
      "text/plain": [
       "epochs:   0%|          | 0/1 [00:00<?, ?it/s]"
      ]
     },
     "metadata": {},
     "output_type": "display_data"
    },
    {
     "name": "stdout",
     "output_type": "stream",
     "text": [
      "<tf.Variable 'Adam_2/learning_rate:0' shape=() dtype=float32>\n",
      "<tf.Variable 'Adam_2/learning_rate:0' shape=() dtype=float32>\n",
      "Original Data Shape (selected):  (2500, 36)\n",
      "Original Data Shape (encoded):  (2500, 36)\n",
      "Original Data Class Distribution:  780  (true) / 1720  (false)\n",
      "(1500, 36) (1500,)\n",
      "(500, 36) (500,)\n",
      "(500, 36) (500,)\n",
      "Min Ratio:  0.3333333333333333\n",
      "Min Ratio:  0.5\n",
      "Min Ratio:  0.3175\n",
      "Min Ratio:  0.5\n"
     ]
    },
    {
     "data": {
      "application/vnd.jupyter.widget-view+json": {
       "model_id": "1956bff8ffb04ef99d9028912d476f31",
       "version_major": 2,
       "version_minor": 0
      },
      "text/plain": [
       "restarts:   0%|          | 0/1 [00:00<?, ?it/s]"
      ]
     },
     "metadata": {},
     "output_type": "display_data"
    },
    {
     "data": {
      "application/vnd.jupyter.widget-view+json": {
       "model_id": "1e25df4ffb564663b934d05f99467acc",
       "version_major": 2,
       "version_minor": 0
      },
      "text/plain": [
       "epochs:   0%|          | 0/1 [00:00<?, ?it/s]"
      ]
     },
     "metadata": {},
     "output_type": "display_data"
    },
    {
     "name": "stdout",
     "output_type": "stream",
     "text": [
      "<tf.Variable 'Adam_2/learning_rate:0' shape=() dtype=float32>\n",
      "<tf.Variable 'Adam_2/learning_rate:0' shape=() dtype=float32>\n",
      "Original Data Shape (selected):  (2500, 36)\n",
      "Original Data Shape (encoded):  (2500, 36)\n",
      "Original Data Class Distribution:  817  (true) / 1683  (false)\n",
      "(1500, 36) (1500,)\n",
      "(500, 36) (500,)\n",
      "(500, 36) (500,)\n",
      "Min Ratio:  0.31733333333333336\n",
      "Min Ratio:  0.5\n",
      "Min Ratio:  0.3285\n",
      "Min Ratio:  0.5\n"
     ]
    },
    {
     "data": {
      "application/vnd.jupyter.widget-view+json": {
       "model_id": "a214e15097c94a97bffe95258d6fac87",
       "version_major": 2,
       "version_minor": 0
      },
      "text/plain": [
       "restarts:   0%|          | 0/1 [00:00<?, ?it/s]"
      ]
     },
     "metadata": {},
     "output_type": "display_data"
    },
    {
     "data": {
      "application/vnd.jupyter.widget-view+json": {
       "model_id": "d8090df42dfd41c3a536f7f3f18a84db",
       "version_major": 2,
       "version_minor": 0
      },
      "text/plain": [
       "epochs:   0%|          | 0/1 [00:00<?, ?it/s]"
      ]
     },
     "metadata": {},
     "output_type": "display_data"
    },
    {
     "name": "stdout",
     "output_type": "stream",
     "text": [
      "<tf.Variable 'Adam_2/learning_rate:0' shape=() dtype=float32>\n",
      "Original Data Shape (selected):  (2500, 36)\n",
      "Original Data Shape (encoded):  (2500, 36)\n",
      "Original Data Class Distribution:  820  (true) / 1680  (false)\n",
      "(1500, 36) (1500,)\n",
      "(500, 36) (500,)\n",
      "(500, 36) (500,)\n",
      "Min Ratio:  0.332\n",
      "Min Ratio:  0.5\n",
      "Min Ratio:  0.328\n",
      "Min Ratio:  0.5\n"
     ]
    },
    {
     "data": {
      "application/vnd.jupyter.widget-view+json": {
       "model_id": "929bf2bd14474773989cb0803e314593",
       "version_major": 2,
       "version_minor": 0
      },
      "text/plain": [
       "restarts:   0%|          | 0/1 [00:00<?, ?it/s]"
      ]
     },
     "metadata": {},
     "output_type": "display_data"
    },
    {
     "data": {
      "application/vnd.jupyter.widget-view+json": {
       "model_id": "0385ac08a2874ca9984b85e5ca3e903c",
       "version_major": 2,
       "version_minor": 0
      },
      "text/plain": [
       "epochs:   0%|          | 0/1 [00:00<?, ?it/s]"
      ]
     },
     "metadata": {},
     "output_type": "display_data"
    },
    {
     "name": "stdout",
     "output_type": "stream",
     "text": [
      "<tf.Variable 'Adam_2/learning_rate:0' shape=() dtype=float32>\n",
      "<tf.Variable 'Adam_2/learning_rate:0' shape=() dtype=float32>\n",
      "Original Data Shape (selected):  (2500, 36)\n",
      "Original Data Shape (encoded):  (2500, 36)\n",
      "Original Data Class Distribution:  806  (true) / 1694  (false)\n",
      "(1500, 36) (1500,)\n",
      "(500, 36) (500,)\n",
      "(500, 36) (500,)\n",
      "Min Ratio:  0.318\n",
      "Min Ratio:  0.5\n",
      "Min Ratio:  0.3175\n",
      "Min Ratio:  0.5\n"
     ]
    },
    {
     "data": {
      "application/vnd.jupyter.widget-view+json": {
       "model_id": "e8e8232c7ab64895b82687852753f037",
       "version_major": 2,
       "version_minor": 0
      },
      "text/plain": [
       "restarts:   0%|          | 0/1 [00:00<?, ?it/s]"
      ]
     },
     "metadata": {},
     "output_type": "display_data"
    },
    {
     "data": {
      "application/vnd.jupyter.widget-view+json": {
       "model_id": "d2ac368534d34a6ab914639f002ee8d2",
       "version_major": 2,
       "version_minor": 0
      },
      "text/plain": [
       "epochs:   0%|          | 0/1 [00:00<?, ?it/s]"
      ]
     },
     "metadata": {},
     "output_type": "display_data"
    },
    {
     "name": "stdout",
     "output_type": "stream",
     "text": [
      "<tf.Variable 'Adam_2/learning_rate:0' shape=() dtype=float32>\n",
      "<tf.Variable 'Adam_2/learning_rate:0' shape=() dtype=float32>\n",
      "Original Data Shape (selected):  (2500, 36)\n",
      "Original Data Shape (encoded):  (2500, 36)\n",
      "Original Data Class Distribution:  835  (true) / 1665  (false)\n",
      "(1500, 36) (1500,)\n",
      "(500, 36) (500,)\n",
      "(500, 36) (500,)\n",
      "Min Ratio:  0.3333333333333333\n",
      "Min Ratio:  0.5\n",
      "Min Ratio:  0.3245\n",
      "Min Ratio:  0.5\n"
     ]
    },
    {
     "data": {
      "application/vnd.jupyter.widget-view+json": {
       "model_id": "ee58f43638c24e0e99ce26203b8da2ae",
       "version_major": 2,
       "version_minor": 0
      },
      "text/plain": [
       "restarts:   0%|          | 0/1 [00:00<?, ?it/s]"
      ]
     },
     "metadata": {},
     "output_type": "display_data"
    },
    {
     "data": {
      "application/vnd.jupyter.widget-view+json": {
       "model_id": "4960a7088b884589adaf88b09328945f",
       "version_major": 2,
       "version_minor": 0
      },
      "text/plain": [
       "epochs:   0%|          | 0/1 [00:00<?, ?it/s]"
      ]
     },
     "metadata": {},
     "output_type": "display_data"
    },
    {
     "name": "stdout",
     "output_type": "stream",
     "text": [
      "<tf.Variable 'Adam_2/learning_rate:0' shape=() dtype=float32>\n",
      "<tf.Variable 'Adam_2/learning_rate:0' shape=() dtype=float32>\n",
      "Original Data Shape (selected):  (2500, 36)\n",
      "Original Data Shape (encoded):  (2500, 36)\n",
      "Original Data Class Distribution:  827  (true) / 1673  (false)\n",
      "(1500, 36) (1500,)\n",
      "(500, 36) (500,)\n",
      "(500, 36) (500,)\n",
      "Min Ratio:  0.34\n",
      "Min Ratio:  0.5\n",
      "Min Ratio:  0.3315\n",
      "Min Ratio:  0.5\n"
     ]
    },
    {
     "data": {
      "application/vnd.jupyter.widget-view+json": {
       "model_id": "844611c983cd44cb8fdb56bbfc26123c",
       "version_major": 2,
       "version_minor": 0
      },
      "text/plain": [
       "restarts:   0%|          | 0/1 [00:00<?, ?it/s]"
      ]
     },
     "metadata": {},
     "output_type": "display_data"
    },
    {
     "data": {
      "application/vnd.jupyter.widget-view+json": {
       "model_id": "576106bb1e5445838101c8c1673d20da",
       "version_major": 2,
       "version_minor": 0
      },
      "text/plain": [
       "epochs:   0%|          | 0/1 [00:00<?, ?it/s]"
      ]
     },
     "metadata": {},
     "output_type": "display_data"
    },
    {
     "name": "stdout",
     "output_type": "stream",
     "text": [
      "<tf.Variable 'Adam_2/learning_rate:0' shape=() dtype=float32>\n",
      "<tf.Variable 'Adam_2/learning_rate:0' shape=() dtype=float32>\n",
      "Original Data Shape (selected):  (2500, 36)\n",
      "Original Data Shape (encoded):  (2500, 36)\n",
      "Original Data Class Distribution:  839  (true) / 1661  (false)\n",
      "(1500, 36) (1500,)\n",
      "(500, 36) (500,)\n",
      "(500, 36) (500,)\n",
      "Min Ratio:  0.328\n",
      "Min Ratio:  0.5\n",
      "Min Ratio:  0.331\n",
      "Min Ratio:  0.5\n"
     ]
    },
    {
     "data": {
      "application/vnd.jupyter.widget-view+json": {
       "model_id": "339b99f1a5054010b5673646c793e7c2",
       "version_major": 2,
       "version_minor": 0
      },
      "text/plain": [
       "restarts:   0%|          | 0/1 [00:00<?, ?it/s]"
      ]
     },
     "metadata": {},
     "output_type": "display_data"
    },
    {
     "data": {
      "application/vnd.jupyter.widget-view+json": {
       "model_id": "9488fcdd0eb24ab49498ff496ed8b60c",
       "version_major": 2,
       "version_minor": 0
      },
      "text/plain": [
       "epochs:   0%|          | 0/1 [00:00<?, ?it/s]"
      ]
     },
     "metadata": {},
     "output_type": "display_data"
    },
    {
     "name": "stdout",
     "output_type": "stream",
     "text": [
      "<tf.Variable 'Adam_2/learning_rate:0' shape=() dtype=float32>\n",
      "<tf.Variable 'Adam_2/learning_rate:0' shape=() dtype=float32>\n",
      "Original Data Shape (selected):  (2500, 36)\n",
      "Original Data Shape (encoded):  (2500, 36)\n",
      "Original Data Class Distribution:  824  (true) / 1676  (false)\n",
      "(1500, 36) (1500,)\n",
      "(500, 36) (500,)\n",
      "(500, 36) (500,)\n",
      "Min Ratio:  0.32666666666666666\n",
      "Min Ratio:  0.5\n",
      "Min Ratio:  0.3315\n",
      "Min Ratio:  0.5\n"
     ]
    },
    {
     "data": {
      "application/vnd.jupyter.widget-view+json": {
       "model_id": "fcd4e82e4c9e4c3c9e1fc00aa4f925dd",
       "version_major": 2,
       "version_minor": 0
      },
      "text/plain": [
       "restarts:   0%|          | 0/1 [00:00<?, ?it/s]"
      ]
     },
     "metadata": {},
     "output_type": "display_data"
    },
    {
     "data": {
      "application/vnd.jupyter.widget-view+json": {
       "model_id": "4fc469022e5e4f63864b0c48367fa864",
       "version_major": 2,
       "version_minor": 0
      },
      "text/plain": [
       "epochs:   0%|          | 0/1 [00:00<?, ?it/s]"
      ]
     },
     "metadata": {},
     "output_type": "display_data"
    },
    {
     "name": "stdout",
     "output_type": "stream",
     "text": [
      "<tf.Variable 'Adam_2/learning_rate:0' shape=() dtype=float32>\n",
      "<tf.Variable 'Adam_2/learning_rate:0' shape=() dtype=float32>\n",
      "Original Data Shape (selected):  (2500, 36)\n",
      "Original Data Shape (encoded):  (2500, 36)\n",
      "Original Data Class Distribution:  789  (true) / 1711  (false)\n",
      "(1500, 36) (1500,)\n",
      "(500, 36) (500,)\n",
      "(500, 36) (500,)\n",
      "Min Ratio:  0.318\n",
      "Min Ratio:  0.5\n",
      "Min Ratio:  0.321\n",
      "Min Ratio:  0.5\n"
     ]
    },
    {
     "data": {
      "application/vnd.jupyter.widget-view+json": {
       "model_id": "c196c7df09cf49df8b06818d9e6b0634",
       "version_major": 2,
       "version_minor": 0
      },
      "text/plain": [
       "restarts:   0%|          | 0/1 [00:00<?, ?it/s]"
      ]
     },
     "metadata": {},
     "output_type": "display_data"
    },
    {
     "data": {
      "application/vnd.jupyter.widget-view+json": {
       "model_id": "72d9c8cf897b4534bbf6f84b585a05de",
       "version_major": 2,
       "version_minor": 0
      },
      "text/plain": [
       "epochs:   0%|          | 0/1 [00:00<?, ?it/s]"
      ]
     },
     "metadata": {},
     "output_type": "display_data"
    },
    {
     "name": "stdout",
     "output_type": "stream",
     "text": [
      "<tf.Variable 'Adam_2/learning_rate:0' shape=() dtype=float32>\n"
     ]
    },
    {
     "ename": "KeyboardInterrupt",
     "evalue": "",
     "output_type": "error",
     "traceback": [
      "\u001b[0;31m---------------------------------------------------------------------------\u001b[0m",
      "\u001b[0;31mKeyboardInterrupt\u001b[0m                         Traceback (most recent call last)",
      "Cell \u001b[0;32mIn [6], line 158\u001b[0m\n\u001b[1;32m    155\u001b[0m t1 \u001b[38;5;241m=\u001b[39m time\u001b[38;5;241m.\u001b[39mtime()\n\u001b[1;32m    157\u001b[0m t0 \u001b[38;5;241m=\u001b[39m time\u001b[38;5;241m.\u001b[39mtime()\n\u001b[0;32m--> 158\u001b[0m history \u001b[38;5;241m=\u001b[39m \u001b[43mmodel_dict\u001b[49m\u001b[43m[\u001b[49m\u001b[38;5;124;43m'\u001b[39;49m\u001b[38;5;124;43mGDT\u001b[39;49m\u001b[38;5;124;43m'\u001b[39;49m\u001b[43m]\u001b[49m\u001b[38;5;241;43m.\u001b[39;49m\u001b[43mpartial_fit\u001b[49m\u001b[43m(\u001b[49m\u001b[43mdataset_dict\u001b[49m\u001b[43m[\u001b[49m\u001b[38;5;124;43m'\u001b[39;49m\u001b[38;5;124;43mX_train\u001b[39;49m\u001b[38;5;124;43m'\u001b[39;49m\u001b[43m]\u001b[49m\u001b[43m,\u001b[49m\n\u001b[1;32m    159\u001b[0m \u001b[43m          \u001b[49m\u001b[43mdataset_dict\u001b[49m\u001b[43m[\u001b[49m\u001b[38;5;124;43m'\u001b[39;49m\u001b[38;5;124;43my_train\u001b[39;49m\u001b[38;5;124;43m'\u001b[39;49m\u001b[43m]\u001b[49m\u001b[43m,\u001b[49m\n\u001b[1;32m    160\u001b[0m \n\u001b[1;32m    161\u001b[0m \u001b[43m          \u001b[49m\u001b[43mbatch_size\u001b[49m\u001b[38;5;241;43m=\u001b[39;49m\u001b[43mconfig_training\u001b[49m\u001b[43m[\u001b[49m\u001b[38;5;124;43m'\u001b[39;49m\u001b[38;5;124;43mgdt\u001b[39;49m\u001b[38;5;124;43m'\u001b[39;49m\u001b[43m]\u001b[49m\u001b[43m[\u001b[49m\u001b[38;5;124;43m'\u001b[39;49m\u001b[38;5;124;43mbatch_size\u001b[39;49m\u001b[38;5;124;43m'\u001b[39;49m\u001b[43m]\u001b[49m\u001b[43m,\u001b[49m\u001b[43m \u001b[49m\n\u001b[1;32m    162\u001b[0m \u001b[43m          \u001b[49m\u001b[43mepochs\u001b[49m\u001b[38;5;241;43m=\u001b[39;49m\u001b[43mconfig_training\u001b[49m\u001b[43m[\u001b[49m\u001b[38;5;124;43m'\u001b[39;49m\u001b[38;5;124;43mgdt\u001b[39;49m\u001b[38;5;124;43m'\u001b[39;49m\u001b[43m]\u001b[49m\u001b[43m[\u001b[49m\u001b[38;5;124;43m'\u001b[39;49m\u001b[38;5;124;43mepochs\u001b[39;49m\u001b[38;5;124;43m'\u001b[39;49m\u001b[43m]\u001b[49m\u001b[43m,\u001b[49m\u001b[43m \u001b[49m\n\u001b[1;32m    163\u001b[0m \n\u001b[1;32m    164\u001b[0m \u001b[43m          \u001b[49m\u001b[43mrestarts\u001b[49m\u001b[43m \u001b[49m\u001b[38;5;241;43m=\u001b[39;49m\u001b[43m \u001b[49m\u001b[38;5;241;43m0\u001b[39;49m\u001b[43m,\u001b[49m\n\u001b[1;32m    165\u001b[0m \u001b[43m          \u001b[49m\u001b[43mdrift_flag\u001b[49m\u001b[43m \u001b[49m\u001b[38;5;241;43m=\u001b[39;49m\u001b[43m \u001b[49m\u001b[43mflag\u001b[49m\u001b[43m,\u001b[49m\n\u001b[1;32m    166\u001b[0m \u001b[43m          \u001b[49m\u001b[38;5;66;43;03m#config_test['gdt']['restarts'], \u001b[39;49;00m\n\u001b[1;32m    167\u001b[0m \u001b[43m          \u001b[49m\u001b[38;5;66;43;03m#restart_type=config_test['gdt']['restart_type'], \u001b[39;49;00m\n\u001b[1;32m    168\u001b[0m \n\u001b[1;32m    169\u001b[0m \u001b[43m          \u001b[49m\u001b[38;5;66;43;03m#early_stopping_epochs=config_training['gdt']['early_stopping_epochs'], \u001b[39;49;00m\n\u001b[1;32m    170\u001b[0m \u001b[43m          \u001b[49m\u001b[38;5;66;43;03m#early_stopping_type=config_test['gdt']['early_stopping_type'],\u001b[39;49;00m\n\u001b[1;32m    171\u001b[0m \n\u001b[1;32m    172\u001b[0m \u001b[43m          \u001b[49m\u001b[43mvalid_data\u001b[49m\u001b[38;5;241;43m=\u001b[39;49m\u001b[43m(\u001b[49m\u001b[43mdataset_dict\u001b[49m\u001b[43m[\u001b[49m\u001b[38;5;124;43m'\u001b[39;49m\u001b[38;5;124;43mX_valid\u001b[39;49m\u001b[38;5;124;43m'\u001b[39;49m\u001b[43m]\u001b[49m\u001b[43m,\u001b[49m\u001b[43mdataset_dict\u001b[49m\u001b[43m[\u001b[49m\u001b[38;5;124;43m'\u001b[39;49m\u001b[38;5;124;43my_valid\u001b[39;49m\u001b[38;5;124;43m'\u001b[39;49m\u001b[43m]\u001b[49m\u001b[43m)\u001b[49m\u001b[43m)\u001b[49m\n\u001b[1;32m    174\u001b[0m flag\u001b[38;5;241m=\u001b[39m\u001b[38;5;28;01mFalse\u001b[39;00m\n\u001b[1;32m    175\u001b[0m t1 \u001b[38;5;241m=\u001b[39m time\u001b[38;5;241m.\u001b[39mtime()\n",
      "File \u001b[0;32m/work/lurny/files/Thesis/utilities/GDT_for_streams.py:483\u001b[0m, in \u001b[0;36mGDT.partial_fit\u001b[0;34m(self, X_train, y_train, batch_size, epochs, restarts, restart_type, early_stopping_epochs, early_stopping_type, early_stopping_epsilon, valid_data, drift_flag)\u001b[0m\n\u001b[1;32m    479\u001b[0m preds_list \u001b[38;5;241m=\u001b[39m []\n\u001b[1;32m    482\u001b[0m \u001b[38;5;28;01mfor\u001b[39;00m index, (X_batch, y_batch) \u001b[38;5;129;01min\u001b[39;00m \u001b[38;5;28menumerate\u001b[39m(\u001b[38;5;28mzip\u001b[39m(make_batch_det(X_train_epoch, batch_size), make_batch_det(y_train_epoch, batch_size))):\n\u001b[0;32m--> 483\u001b[0m     current_loss, preds_batch \u001b[38;5;241m=\u001b[39m \u001b[43mbackward_function\u001b[49m\u001b[43m(\u001b[49m\u001b[43mX_batch\u001b[49m\u001b[43m,\u001b[49m\u001b[43m \u001b[49m\u001b[43my_batch\u001b[49m\u001b[43m,\u001b[49m\u001b[43m \u001b[49m\u001b[43mdrift_flag\u001b[49m\u001b[43m)\u001b[49m\u001b[38;5;66;03m#self.backward(X_batch, y_batch)\u001b[39;00m\n\u001b[1;32m    484\u001b[0m     loss_list\u001b[38;5;241m.\u001b[39mappend(\u001b[38;5;28mfloat\u001b[39m(current_loss))\n\u001b[1;32m    485\u001b[0m     preds_list\u001b[38;5;241m.\u001b[39mappend(preds_batch)\n",
      "File \u001b[0;32m~/.local/lib/python3.9/site-packages/tensorflow/python/util/traceback_utils.py:150\u001b[0m, in \u001b[0;36mfilter_traceback.<locals>.error_handler\u001b[0;34m(*args, **kwargs)\u001b[0m\n\u001b[1;32m    148\u001b[0m filtered_tb \u001b[38;5;241m=\u001b[39m \u001b[38;5;28;01mNone\u001b[39;00m\n\u001b[1;32m    149\u001b[0m \u001b[38;5;28;01mtry\u001b[39;00m:\n\u001b[0;32m--> 150\u001b[0m   \u001b[38;5;28;01mreturn\u001b[39;00m \u001b[43mfn\u001b[49m\u001b[43m(\u001b[49m\u001b[38;5;241;43m*\u001b[39;49m\u001b[43margs\u001b[49m\u001b[43m,\u001b[49m\u001b[43m \u001b[49m\u001b[38;5;241;43m*\u001b[39;49m\u001b[38;5;241;43m*\u001b[39;49m\u001b[43mkwargs\u001b[49m\u001b[43m)\u001b[49m\n\u001b[1;32m    151\u001b[0m \u001b[38;5;28;01mexcept\u001b[39;00m \u001b[38;5;167;01mException\u001b[39;00m \u001b[38;5;28;01mas\u001b[39;00m e:\n\u001b[1;32m    152\u001b[0m   filtered_tb \u001b[38;5;241m=\u001b[39m _process_traceback_frames(e\u001b[38;5;241m.\u001b[39m__traceback__)\n",
      "File \u001b[0;32m~/.local/lib/python3.9/site-packages/tensorflow/python/eager/def_function.py:915\u001b[0m, in \u001b[0;36mFunction.__call__\u001b[0;34m(self, *args, **kwds)\u001b[0m\n\u001b[1;32m    912\u001b[0m compiler \u001b[38;5;241m=\u001b[39m \u001b[38;5;124m\"\u001b[39m\u001b[38;5;124mxla\u001b[39m\u001b[38;5;124m\"\u001b[39m \u001b[38;5;28;01mif\u001b[39;00m \u001b[38;5;28mself\u001b[39m\u001b[38;5;241m.\u001b[39m_jit_compile \u001b[38;5;28;01melse\u001b[39;00m \u001b[38;5;124m\"\u001b[39m\u001b[38;5;124mnonXla\u001b[39m\u001b[38;5;124m\"\u001b[39m\n\u001b[1;32m    914\u001b[0m \u001b[38;5;28;01mwith\u001b[39;00m OptionalXlaContext(\u001b[38;5;28mself\u001b[39m\u001b[38;5;241m.\u001b[39m_jit_compile):\n\u001b[0;32m--> 915\u001b[0m   result \u001b[38;5;241m=\u001b[39m \u001b[38;5;28;43mself\u001b[39;49m\u001b[38;5;241;43m.\u001b[39;49m\u001b[43m_call\u001b[49m\u001b[43m(\u001b[49m\u001b[38;5;241;43m*\u001b[39;49m\u001b[43margs\u001b[49m\u001b[43m,\u001b[49m\u001b[43m \u001b[49m\u001b[38;5;241;43m*\u001b[39;49m\u001b[38;5;241;43m*\u001b[39;49m\u001b[43mkwds\u001b[49m\u001b[43m)\u001b[49m\n\u001b[1;32m    917\u001b[0m new_tracing_count \u001b[38;5;241m=\u001b[39m \u001b[38;5;28mself\u001b[39m\u001b[38;5;241m.\u001b[39mexperimental_get_tracing_count()\n\u001b[1;32m    918\u001b[0m without_tracing \u001b[38;5;241m=\u001b[39m (tracing_count \u001b[38;5;241m==\u001b[39m new_tracing_count)\n",
      "File \u001b[0;32m~/.local/lib/python3.9/site-packages/tensorflow/python/eager/def_function.py:954\u001b[0m, in \u001b[0;36mFunction._call\u001b[0;34m(self, *args, **kwds)\u001b[0m\n\u001b[1;32m    951\u001b[0m \u001b[38;5;28mself\u001b[39m\u001b[38;5;241m.\u001b[39m_lock\u001b[38;5;241m.\u001b[39mrelease()\n\u001b[1;32m    952\u001b[0m \u001b[38;5;66;03m# In this case we have not created variables on the first call. So we can\u001b[39;00m\n\u001b[1;32m    953\u001b[0m \u001b[38;5;66;03m# run the first trace but we should fail if variables are created.\u001b[39;00m\n\u001b[0;32m--> 954\u001b[0m results \u001b[38;5;241m=\u001b[39m \u001b[38;5;28;43mself\u001b[39;49m\u001b[38;5;241;43m.\u001b[39;49m\u001b[43m_stateful_fn\u001b[49m\u001b[43m(\u001b[49m\u001b[38;5;241;43m*\u001b[39;49m\u001b[43margs\u001b[49m\u001b[43m,\u001b[49m\u001b[43m \u001b[49m\u001b[38;5;241;43m*\u001b[39;49m\u001b[38;5;241;43m*\u001b[39;49m\u001b[43mkwds\u001b[49m\u001b[43m)\u001b[49m\n\u001b[1;32m    955\u001b[0m \u001b[38;5;28;01mif\u001b[39;00m \u001b[38;5;28mself\u001b[39m\u001b[38;5;241m.\u001b[39m_created_variables \u001b[38;5;129;01mand\u001b[39;00m \u001b[38;5;129;01mnot\u001b[39;00m ALLOW_DYNAMIC_VARIABLE_CREATION:\n\u001b[1;32m    956\u001b[0m   \u001b[38;5;28;01mraise\u001b[39;00m \u001b[38;5;167;01mValueError\u001b[39;00m(\u001b[38;5;124m\"\u001b[39m\u001b[38;5;124mCreating variables on a non-first call to a function\u001b[39m\u001b[38;5;124m\"\u001b[39m\n\u001b[1;32m    957\u001b[0m                    \u001b[38;5;124m\"\u001b[39m\u001b[38;5;124m decorated with tf.function.\u001b[39m\u001b[38;5;124m\"\u001b[39m)\n",
      "File \u001b[0;32m~/.local/lib/python3.9/site-packages/tensorflow/python/eager/function.py:2495\u001b[0m, in \u001b[0;36mFunction.__call__\u001b[0;34m(self, *args, **kwargs)\u001b[0m\n\u001b[1;32m   2492\u001b[0m \u001b[38;5;124;03m\"\"\"Calls a graph function specialized to the inputs.\"\"\"\u001b[39;00m\n\u001b[1;32m   2493\u001b[0m \u001b[38;5;28;01mwith\u001b[39;00m \u001b[38;5;28mself\u001b[39m\u001b[38;5;241m.\u001b[39m_lock:\n\u001b[1;32m   2494\u001b[0m   (graph_function,\n\u001b[0;32m-> 2495\u001b[0m    filtered_flat_args) \u001b[38;5;241m=\u001b[39m \u001b[38;5;28;43mself\u001b[39;49m\u001b[38;5;241;43m.\u001b[39;49m\u001b[43m_maybe_define_function\u001b[49m\u001b[43m(\u001b[49m\u001b[43margs\u001b[49m\u001b[43m,\u001b[49m\u001b[43m \u001b[49m\u001b[43mkwargs\u001b[49m\u001b[43m)\u001b[49m\n\u001b[1;32m   2496\u001b[0m \u001b[38;5;28;01mreturn\u001b[39;00m graph_function\u001b[38;5;241m.\u001b[39m_call_flat(\n\u001b[1;32m   2497\u001b[0m     filtered_flat_args, captured_inputs\u001b[38;5;241m=\u001b[39mgraph_function\u001b[38;5;241m.\u001b[39mcaptured_inputs)\n",
      "File \u001b[0;32m~/.local/lib/python3.9/site-packages/tensorflow/python/eager/function.py:2760\u001b[0m, in \u001b[0;36mFunction._maybe_define_function\u001b[0;34m(self, args, kwargs)\u001b[0m\n\u001b[1;32m   2758\u001b[0m   \u001b[38;5;66;03m# Only get placeholders for arguments, not captures\u001b[39;00m\n\u001b[1;32m   2759\u001b[0m   args, kwargs \u001b[38;5;241m=\u001b[39m placeholder_dict[\u001b[38;5;124m\"\u001b[39m\u001b[38;5;124margs\u001b[39m\u001b[38;5;124m\"\u001b[39m]\n\u001b[0;32m-> 2760\u001b[0m graph_function \u001b[38;5;241m=\u001b[39m \u001b[38;5;28;43mself\u001b[39;49m\u001b[38;5;241;43m.\u001b[39;49m\u001b[43m_create_graph_function\u001b[49m\u001b[43m(\u001b[49m\u001b[43margs\u001b[49m\u001b[43m,\u001b[49m\u001b[43m \u001b[49m\u001b[43mkwargs\u001b[49m\u001b[43m)\u001b[49m\n\u001b[1;32m   2762\u001b[0m graph_capture_container \u001b[38;5;241m=\u001b[39m graph_function\u001b[38;5;241m.\u001b[39mgraph\u001b[38;5;241m.\u001b[39m_capture_func_lib  \u001b[38;5;66;03m# pylint: disable=protected-access\u001b[39;00m\n\u001b[1;32m   2763\u001b[0m \u001b[38;5;66;03m# Maintain the list of all captures\u001b[39;00m\n",
      "File \u001b[0;32m~/.local/lib/python3.9/site-packages/tensorflow/python/eager/function.py:2670\u001b[0m, in \u001b[0;36mFunction._create_graph_function\u001b[0;34m(self, args, kwargs)\u001b[0m\n\u001b[1;32m   2665\u001b[0m missing_arg_names \u001b[38;5;241m=\u001b[39m [\n\u001b[1;32m   2666\u001b[0m     \u001b[38;5;124m\"\u001b[39m\u001b[38;5;132;01m%s\u001b[39;00m\u001b[38;5;124m_\u001b[39m\u001b[38;5;132;01m%d\u001b[39;00m\u001b[38;5;124m\"\u001b[39m \u001b[38;5;241m%\u001b[39m (arg, i) \u001b[38;5;28;01mfor\u001b[39;00m i, arg \u001b[38;5;129;01min\u001b[39;00m \u001b[38;5;28menumerate\u001b[39m(missing_arg_names)\n\u001b[1;32m   2667\u001b[0m ]\n\u001b[1;32m   2668\u001b[0m arg_names \u001b[38;5;241m=\u001b[39m base_arg_names \u001b[38;5;241m+\u001b[39m missing_arg_names\n\u001b[1;32m   2669\u001b[0m graph_function \u001b[38;5;241m=\u001b[39m ConcreteFunction(\n\u001b[0;32m-> 2670\u001b[0m     \u001b[43mfunc_graph_module\u001b[49m\u001b[38;5;241;43m.\u001b[39;49m\u001b[43mfunc_graph_from_py_func\u001b[49m\u001b[43m(\u001b[49m\n\u001b[1;32m   2671\u001b[0m \u001b[43m        \u001b[49m\u001b[38;5;28;43mself\u001b[39;49m\u001b[38;5;241;43m.\u001b[39;49m\u001b[43m_name\u001b[49m\u001b[43m,\u001b[49m\n\u001b[1;32m   2672\u001b[0m \u001b[43m        \u001b[49m\u001b[38;5;28;43mself\u001b[39;49m\u001b[38;5;241;43m.\u001b[39;49m\u001b[43m_python_function\u001b[49m\u001b[43m,\u001b[49m\n\u001b[1;32m   2673\u001b[0m \u001b[43m        \u001b[49m\u001b[43margs\u001b[49m\u001b[43m,\u001b[49m\n\u001b[1;32m   2674\u001b[0m \u001b[43m        \u001b[49m\u001b[43mkwargs\u001b[49m\u001b[43m,\u001b[49m\n\u001b[1;32m   2675\u001b[0m \u001b[43m        \u001b[49m\u001b[38;5;28;43mself\u001b[39;49m\u001b[38;5;241;43m.\u001b[39;49m\u001b[43minput_signature\u001b[49m\u001b[43m,\u001b[49m\n\u001b[1;32m   2676\u001b[0m \u001b[43m        \u001b[49m\u001b[43mautograph\u001b[49m\u001b[38;5;241;43m=\u001b[39;49m\u001b[38;5;28;43mself\u001b[39;49m\u001b[38;5;241;43m.\u001b[39;49m\u001b[43m_autograph\u001b[49m\u001b[43m,\u001b[49m\n\u001b[1;32m   2677\u001b[0m \u001b[43m        \u001b[49m\u001b[43mautograph_options\u001b[49m\u001b[38;5;241;43m=\u001b[39;49m\u001b[38;5;28;43mself\u001b[39;49m\u001b[38;5;241;43m.\u001b[39;49m\u001b[43m_autograph_options\u001b[49m\u001b[43m,\u001b[49m\n\u001b[1;32m   2678\u001b[0m \u001b[43m        \u001b[49m\u001b[43marg_names\u001b[49m\u001b[38;5;241;43m=\u001b[39;49m\u001b[43marg_names\u001b[49m\u001b[43m,\u001b[49m\n\u001b[1;32m   2679\u001b[0m \u001b[43m        \u001b[49m\u001b[43mcapture_by_value\u001b[49m\u001b[38;5;241;43m=\u001b[39;49m\u001b[38;5;28;43mself\u001b[39;49m\u001b[38;5;241;43m.\u001b[39;49m\u001b[43m_capture_by_value\u001b[49m\u001b[43m)\u001b[49m,\n\u001b[1;32m   2680\u001b[0m     \u001b[38;5;28mself\u001b[39m\u001b[38;5;241m.\u001b[39m_function_attributes,\n\u001b[1;32m   2681\u001b[0m     spec\u001b[38;5;241m=\u001b[39m\u001b[38;5;28mself\u001b[39m\u001b[38;5;241m.\u001b[39mfunction_spec,\n\u001b[1;32m   2682\u001b[0m     \u001b[38;5;66;03m# Tell the ConcreteFunction to clean up its graph once it goes out of\u001b[39;00m\n\u001b[1;32m   2683\u001b[0m     \u001b[38;5;66;03m# scope. This is not the default behavior since it gets used in some\u001b[39;00m\n\u001b[1;32m   2684\u001b[0m     \u001b[38;5;66;03m# places (like Keras) where the FuncGraph lives longer than the\u001b[39;00m\n\u001b[1;32m   2685\u001b[0m     \u001b[38;5;66;03m# ConcreteFunction.\u001b[39;00m\n\u001b[1;32m   2686\u001b[0m     shared_func_graph\u001b[38;5;241m=\u001b[39m\u001b[38;5;28;01mFalse\u001b[39;00m)\n\u001b[1;32m   2687\u001b[0m \u001b[38;5;28;01mreturn\u001b[39;00m graph_function\n",
      "File \u001b[0;32m~/.local/lib/python3.9/site-packages/tensorflow/python/framework/func_graph.py:1247\u001b[0m, in \u001b[0;36mfunc_graph_from_py_func\u001b[0;34m(name, python_func, args, kwargs, signature, func_graph, autograph, autograph_options, add_control_dependencies, arg_names, op_return_value, collections, capture_by_value, acd_record_initial_resource_uses)\u001b[0m\n\u001b[1;32m   1244\u001b[0m \u001b[38;5;28;01melse\u001b[39;00m:\n\u001b[1;32m   1245\u001b[0m   _, original_func \u001b[38;5;241m=\u001b[39m tf_decorator\u001b[38;5;241m.\u001b[39munwrap(python_func)\n\u001b[0;32m-> 1247\u001b[0m func_outputs \u001b[38;5;241m=\u001b[39m \u001b[43mpython_func\u001b[49m\u001b[43m(\u001b[49m\u001b[38;5;241;43m*\u001b[39;49m\u001b[43mfunc_args\u001b[49m\u001b[43m,\u001b[49m\u001b[43m \u001b[49m\u001b[38;5;241;43m*\u001b[39;49m\u001b[38;5;241;43m*\u001b[39;49m\u001b[43mfunc_kwargs\u001b[49m\u001b[43m)\u001b[49m\n\u001b[1;32m   1249\u001b[0m \u001b[38;5;66;03m# invariant: `func_outputs` contains only Tensors, CompositeTensors,\u001b[39;00m\n\u001b[1;32m   1250\u001b[0m \u001b[38;5;66;03m# TensorArrays and `None`s.\u001b[39;00m\n\u001b[1;32m   1251\u001b[0m func_outputs \u001b[38;5;241m=\u001b[39m nest\u001b[38;5;241m.\u001b[39mmap_structure(\n\u001b[1;32m   1252\u001b[0m     convert, func_outputs, expand_composites\u001b[38;5;241m=\u001b[39m\u001b[38;5;28;01mTrue\u001b[39;00m)\n",
      "File \u001b[0;32m~/.local/lib/python3.9/site-packages/tensorflow/python/eager/def_function.py:677\u001b[0m, in \u001b[0;36mFunction._defun_with_scope.<locals>.wrapped_fn\u001b[0;34m(*args, **kwds)\u001b[0m\n\u001b[1;32m    673\u001b[0m \u001b[38;5;28;01mwith\u001b[39;00m default_graph\u001b[38;5;241m.\u001b[39m_variable_creator_scope(scope, priority\u001b[38;5;241m=\u001b[39m\u001b[38;5;241m50\u001b[39m):  \u001b[38;5;66;03m# pylint: disable=protected-access\u001b[39;00m\n\u001b[1;32m    674\u001b[0m   \u001b[38;5;66;03m# __wrapped__ allows AutoGraph to swap in a converted function. We give\u001b[39;00m\n\u001b[1;32m    675\u001b[0m   \u001b[38;5;66;03m# the function a weak reference to itself to avoid a reference cycle.\u001b[39;00m\n\u001b[1;32m    676\u001b[0m   \u001b[38;5;28;01mwith\u001b[39;00m OptionalXlaContext(compile_with_xla):\n\u001b[0;32m--> 677\u001b[0m     out \u001b[38;5;241m=\u001b[39m \u001b[43mweak_wrapped_fn\u001b[49m\u001b[43m(\u001b[49m\u001b[43m)\u001b[49m\u001b[38;5;241;43m.\u001b[39;49m\u001b[43m__wrapped__\u001b[49m\u001b[43m(\u001b[49m\u001b[38;5;241;43m*\u001b[39;49m\u001b[43margs\u001b[49m\u001b[43m,\u001b[49m\u001b[43m \u001b[49m\u001b[38;5;241;43m*\u001b[39;49m\u001b[38;5;241;43m*\u001b[39;49m\u001b[43mkwds\u001b[49m\u001b[43m)\u001b[49m\n\u001b[1;32m    678\u001b[0m   \u001b[38;5;28;01mreturn\u001b[39;00m out\n",
      "File \u001b[0;32m~/.local/lib/python3.9/site-packages/tensorflow/python/framework/func_graph.py:1222\u001b[0m, in \u001b[0;36mfunc_graph_from_py_func.<locals>.autograph_handler\u001b[0;34m(*args, **kwargs)\u001b[0m\n\u001b[1;32m   1220\u001b[0m \u001b[38;5;66;03m# TODO(mdan): Push this block higher in tf.function's call stack.\u001b[39;00m\n\u001b[1;32m   1221\u001b[0m \u001b[38;5;28;01mtry\u001b[39;00m:\n\u001b[0;32m-> 1222\u001b[0m   \u001b[38;5;28;01mreturn\u001b[39;00m \u001b[43mautograph\u001b[49m\u001b[38;5;241;43m.\u001b[39;49m\u001b[43mconverted_call\u001b[49m\u001b[43m(\u001b[49m\n\u001b[1;32m   1223\u001b[0m \u001b[43m      \u001b[49m\u001b[43moriginal_func\u001b[49m\u001b[43m,\u001b[49m\n\u001b[1;32m   1224\u001b[0m \u001b[43m      \u001b[49m\u001b[43margs\u001b[49m\u001b[43m,\u001b[49m\n\u001b[1;32m   1225\u001b[0m \u001b[43m      \u001b[49m\u001b[43mkwargs\u001b[49m\u001b[43m,\u001b[49m\n\u001b[1;32m   1226\u001b[0m \u001b[43m      \u001b[49m\u001b[43moptions\u001b[49m\u001b[38;5;241;43m=\u001b[39;49m\u001b[43mautograph\u001b[49m\u001b[38;5;241;43m.\u001b[39;49m\u001b[43mConversionOptions\u001b[49m\u001b[43m(\u001b[49m\n\u001b[1;32m   1227\u001b[0m \u001b[43m          \u001b[49m\u001b[43mrecursive\u001b[49m\u001b[38;5;241;43m=\u001b[39;49m\u001b[38;5;28;43;01mTrue\u001b[39;49;00m\u001b[43m,\u001b[49m\n\u001b[1;32m   1228\u001b[0m \u001b[43m          \u001b[49m\u001b[43moptional_features\u001b[49m\u001b[38;5;241;43m=\u001b[39;49m\u001b[43mautograph_options\u001b[49m\u001b[43m,\u001b[49m\n\u001b[1;32m   1229\u001b[0m \u001b[43m          \u001b[49m\u001b[43muser_requested\u001b[49m\u001b[38;5;241;43m=\u001b[39;49m\u001b[38;5;28;43;01mTrue\u001b[39;49;00m\u001b[43m,\u001b[49m\n\u001b[1;32m   1230\u001b[0m \u001b[43m      \u001b[49m\u001b[43m)\u001b[49m\u001b[43m)\u001b[49m\n\u001b[1;32m   1231\u001b[0m \u001b[38;5;28;01mexcept\u001b[39;00m \u001b[38;5;167;01mException\u001b[39;00m \u001b[38;5;28;01mas\u001b[39;00m e:  \u001b[38;5;66;03m# pylint:disable=broad-except\u001b[39;00m\n\u001b[1;32m   1232\u001b[0m   \u001b[38;5;28;01mif\u001b[39;00m \u001b[38;5;28mhasattr\u001b[39m(e, \u001b[38;5;124m\"\u001b[39m\u001b[38;5;124mag_error_metadata\u001b[39m\u001b[38;5;124m\"\u001b[39m):\n",
      "File \u001b[0;32m~/.local/lib/python3.9/site-packages/tensorflow/python/autograph/impl/api.py:439\u001b[0m, in \u001b[0;36mconverted_call\u001b[0;34m(f, args, kwargs, caller_fn_scope, options)\u001b[0m\n\u001b[1;32m    437\u001b[0m \u001b[38;5;28;01mtry\u001b[39;00m:\n\u001b[1;32m    438\u001b[0m   \u001b[38;5;28;01mif\u001b[39;00m kwargs \u001b[38;5;129;01mis\u001b[39;00m \u001b[38;5;129;01mnot\u001b[39;00m \u001b[38;5;28;01mNone\u001b[39;00m:\n\u001b[0;32m--> 439\u001b[0m     result \u001b[38;5;241m=\u001b[39m \u001b[43mconverted_f\u001b[49m\u001b[43m(\u001b[49m\u001b[38;5;241;43m*\u001b[39;49m\u001b[43meffective_args\u001b[49m\u001b[43m,\u001b[49m\u001b[43m \u001b[49m\u001b[38;5;241;43m*\u001b[39;49m\u001b[38;5;241;43m*\u001b[39;49m\u001b[43mkwargs\u001b[49m\u001b[43m)\u001b[49m\n\u001b[1;32m    440\u001b[0m   \u001b[38;5;28;01melse\u001b[39;00m:\n\u001b[1;32m    441\u001b[0m     result \u001b[38;5;241m=\u001b[39m converted_f(\u001b[38;5;241m*\u001b[39meffective_args)\n",
      "File \u001b[0;32m/tmp/__autograph_generated_filef1a3xddj.py:117\u001b[0m, in \u001b[0;36mouter_factory.<locals>.inner_factory.<locals>.tf__backward\u001b[0;34m(self, x, y, drift_flag)\u001b[0m\n\u001b[1;32m    115\u001b[0m grads2 \u001b[38;5;241m=\u001b[39m ag__\u001b[38;5;241m.\u001b[39mconverted_call(ag__\u001b[38;5;241m.\u001b[39mld(tape2)\u001b[38;5;241m.\u001b[39mgradient, (ag__\u001b[38;5;241m.\u001b[39mld(current_loss), ag__\u001b[38;5;241m.\u001b[39mld(\u001b[38;5;28mself\u001b[39m)\u001b[38;5;241m.\u001b[39msplit_values), \u001b[38;5;28;01mNone\u001b[39;00m, fscope)\n\u001b[1;32m    116\u001b[0m ag__\u001b[38;5;241m.\u001b[39mconverted_call(ag__\u001b[38;5;241m.\u001b[39mld(\u001b[38;5;28mself\u001b[39m)\u001b[38;5;241m.\u001b[39moptimizer_values\u001b[38;5;241m.\u001b[39mapply_gradients, (ag__\u001b[38;5;241m.\u001b[39mconverted_call(ag__\u001b[38;5;241m.\u001b[39mld(\u001b[38;5;28mzip\u001b[39m), ([ag__\u001b[38;5;241m.\u001b[39mld(grads2)], [ag__\u001b[38;5;241m.\u001b[39mld(\u001b[38;5;28mself\u001b[39m)\u001b[38;5;241m.\u001b[39msplit_values]), \u001b[38;5;28;01mNone\u001b[39;00m, fscope),), \u001b[38;5;28;01mNone\u001b[39;00m, fscope)\n\u001b[0;32m--> 117\u001b[0m grads3 \u001b[38;5;241m=\u001b[39m \u001b[43mag__\u001b[49m\u001b[38;5;241;43m.\u001b[39;49m\u001b[43mconverted_call\u001b[49m\u001b[43m(\u001b[49m\u001b[43mag__\u001b[49m\u001b[38;5;241;43m.\u001b[39;49m\u001b[43mld\u001b[49m\u001b[43m(\u001b[49m\u001b[43mtape3\u001b[49m\u001b[43m)\u001b[49m\u001b[38;5;241;43m.\u001b[39;49m\u001b[43mgradient\u001b[49m\u001b[43m,\u001b[49m\u001b[43m \u001b[49m\u001b[43m(\u001b[49m\u001b[43mag__\u001b[49m\u001b[38;5;241;43m.\u001b[39;49m\u001b[43mld\u001b[49m\u001b[43m(\u001b[49m\u001b[43mcurrent_loss\u001b[49m\u001b[43m)\u001b[49m\u001b[43m,\u001b[49m\u001b[43m \u001b[49m\u001b[43mag__\u001b[49m\u001b[38;5;241;43m.\u001b[39;49m\u001b[43mld\u001b[49m\u001b[43m(\u001b[49m\u001b[38;5;28;43mself\u001b[39;49m\u001b[43m)\u001b[49m\u001b[38;5;241;43m.\u001b[39;49m\u001b[43msplit_index_array\u001b[49m\u001b[43m)\u001b[49m\u001b[43m,\u001b[49m\u001b[43m \u001b[49m\u001b[38;5;28;43;01mNone\u001b[39;49;00m\u001b[43m,\u001b[49m\u001b[43m \u001b[49m\u001b[43mfscope\u001b[49m\u001b[43m)\u001b[49m\n\u001b[1;32m    118\u001b[0m ag__\u001b[38;5;241m.\u001b[39mconverted_call(ag__\u001b[38;5;241m.\u001b[39mld(\u001b[38;5;28mself\u001b[39m)\u001b[38;5;241m.\u001b[39moptimizer_index\u001b[38;5;241m.\u001b[39mapply_gradients, (ag__\u001b[38;5;241m.\u001b[39mconverted_call(ag__\u001b[38;5;241m.\u001b[39mld(\u001b[38;5;28mzip\u001b[39m), ([ag__\u001b[38;5;241m.\u001b[39mld(grads3)], [ag__\u001b[38;5;241m.\u001b[39mld(\u001b[38;5;28mself\u001b[39m)\u001b[38;5;241m.\u001b[39msplit_index_array]), \u001b[38;5;28;01mNone\u001b[39;00m, fscope),), \u001b[38;5;28;01mNone\u001b[39;00m, fscope)\n\u001b[1;32m    119\u001b[0m ag__\u001b[38;5;241m.\u001b[39mld(\u001b[38;5;28mprint\u001b[39m)(ag__\u001b[38;5;241m.\u001b[39mconverted_call(ag__\u001b[38;5;241m.\u001b[39mld(\u001b[38;5;28mstr\u001b[39m), (ag__\u001b[38;5;241m.\u001b[39mld(\u001b[38;5;28mself\u001b[39m)\u001b[38;5;241m.\u001b[39moptimizer_index\u001b[38;5;241m.\u001b[39mlearning_rate,), \u001b[38;5;28;01mNone\u001b[39;00m, fscope))\n",
      "File \u001b[0;32m~/.local/lib/python3.9/site-packages/tensorflow/python/autograph/impl/api.py:331\u001b[0m, in \u001b[0;36mconverted_call\u001b[0;34m(f, args, kwargs, caller_fn_scope, options)\u001b[0m\n\u001b[1;32m    329\u001b[0m \u001b[38;5;28;01mif\u001b[39;00m conversion\u001b[38;5;241m.\u001b[39mis_in_allowlist_cache(f, options):\n\u001b[1;32m    330\u001b[0m   logging\u001b[38;5;241m.\u001b[39mlog(\u001b[38;5;241m2\u001b[39m, \u001b[38;5;124m'\u001b[39m\u001b[38;5;124mAllowlisted \u001b[39m\u001b[38;5;132;01m%s\u001b[39;00m\u001b[38;5;124m: from cache\u001b[39m\u001b[38;5;124m'\u001b[39m, f)\n\u001b[0;32m--> 331\u001b[0m   \u001b[38;5;28;01mreturn\u001b[39;00m \u001b[43m_call_unconverted\u001b[49m\u001b[43m(\u001b[49m\u001b[43mf\u001b[49m\u001b[43m,\u001b[49m\u001b[43m \u001b[49m\u001b[43margs\u001b[49m\u001b[43m,\u001b[49m\u001b[43m \u001b[49m\u001b[43mkwargs\u001b[49m\u001b[43m,\u001b[49m\u001b[43m \u001b[49m\u001b[43moptions\u001b[49m\u001b[43m,\u001b[49m\u001b[43m \u001b[49m\u001b[38;5;28;43;01mFalse\u001b[39;49;00m\u001b[43m)\u001b[49m\n\u001b[1;32m    333\u001b[0m \u001b[38;5;28;01mif\u001b[39;00m ag_ctx\u001b[38;5;241m.\u001b[39mcontrol_status_ctx()\u001b[38;5;241m.\u001b[39mstatus \u001b[38;5;241m==\u001b[39m ag_ctx\u001b[38;5;241m.\u001b[39mStatus\u001b[38;5;241m.\u001b[39mDISABLED:\n\u001b[1;32m    334\u001b[0m   logging\u001b[38;5;241m.\u001b[39mlog(\u001b[38;5;241m2\u001b[39m, \u001b[38;5;124m'\u001b[39m\u001b[38;5;124mAllowlisted: \u001b[39m\u001b[38;5;132;01m%s\u001b[39;00m\u001b[38;5;124m: AutoGraph is disabled in context\u001b[39m\u001b[38;5;124m'\u001b[39m, f)\n",
      "File \u001b[0;32m~/.local/lib/python3.9/site-packages/tensorflow/python/autograph/impl/api.py:459\u001b[0m, in \u001b[0;36m_call_unconverted\u001b[0;34m(f, args, kwargs, options, update_cache)\u001b[0m\n\u001b[1;32m    457\u001b[0m \u001b[38;5;28;01mif\u001b[39;00m kwargs \u001b[38;5;129;01mis\u001b[39;00m \u001b[38;5;129;01mnot\u001b[39;00m \u001b[38;5;28;01mNone\u001b[39;00m:\n\u001b[1;32m    458\u001b[0m   \u001b[38;5;28;01mreturn\u001b[39;00m f(\u001b[38;5;241m*\u001b[39margs, \u001b[38;5;241m*\u001b[39m\u001b[38;5;241m*\u001b[39mkwargs)\n\u001b[0;32m--> 459\u001b[0m \u001b[38;5;28;01mreturn\u001b[39;00m \u001b[43mf\u001b[49m\u001b[43m(\u001b[49m\u001b[38;5;241;43m*\u001b[39;49m\u001b[43margs\u001b[49m\u001b[43m)\u001b[49m\n",
      "File \u001b[0;32m~/.local/lib/python3.9/site-packages/tensorflow/python/eager/backprop.py:1113\u001b[0m, in \u001b[0;36mGradientTape.gradient\u001b[0;34m(self, target, sources, output_gradients, unconnected_gradients)\u001b[0m\n\u001b[1;32m   1107\u001b[0m   output_gradients \u001b[38;5;241m=\u001b[39m (\n\u001b[1;32m   1108\u001b[0m       composite_tensor_gradient\u001b[38;5;241m.\u001b[39mget_flat_tensors_for_gradients(\n\u001b[1;32m   1109\u001b[0m           output_gradients))\n\u001b[1;32m   1110\u001b[0m   output_gradients \u001b[38;5;241m=\u001b[39m [\u001b[38;5;28;01mNone\u001b[39;00m \u001b[38;5;28;01mif\u001b[39;00m x \u001b[38;5;129;01mis\u001b[39;00m \u001b[38;5;28;01mNone\u001b[39;00m \u001b[38;5;28;01melse\u001b[39;00m ops\u001b[38;5;241m.\u001b[39mconvert_to_tensor(x)\n\u001b[1;32m   1111\u001b[0m                       \u001b[38;5;28;01mfor\u001b[39;00m x \u001b[38;5;129;01min\u001b[39;00m output_gradients]\n\u001b[0;32m-> 1113\u001b[0m flat_grad \u001b[38;5;241m=\u001b[39m \u001b[43mimperative_grad\u001b[49m\u001b[38;5;241;43m.\u001b[39;49m\u001b[43mimperative_grad\u001b[49m\u001b[43m(\u001b[49m\n\u001b[1;32m   1114\u001b[0m \u001b[43m    \u001b[49m\u001b[38;5;28;43mself\u001b[39;49m\u001b[38;5;241;43m.\u001b[39;49m\u001b[43m_tape\u001b[49m\u001b[43m,\u001b[49m\n\u001b[1;32m   1115\u001b[0m \u001b[43m    \u001b[49m\u001b[43mflat_targets\u001b[49m\u001b[43m,\u001b[49m\n\u001b[1;32m   1116\u001b[0m \u001b[43m    \u001b[49m\u001b[43mflat_sources\u001b[49m\u001b[43m,\u001b[49m\n\u001b[1;32m   1117\u001b[0m \u001b[43m    \u001b[49m\u001b[43moutput_gradients\u001b[49m\u001b[38;5;241;43m=\u001b[39;49m\u001b[43moutput_gradients\u001b[49m\u001b[43m,\u001b[49m\n\u001b[1;32m   1118\u001b[0m \u001b[43m    \u001b[49m\u001b[43msources_raw\u001b[49m\u001b[38;5;241;43m=\u001b[39;49m\u001b[43mflat_sources_raw\u001b[49m\u001b[43m,\u001b[49m\n\u001b[1;32m   1119\u001b[0m \u001b[43m    \u001b[49m\u001b[43munconnected_gradients\u001b[49m\u001b[38;5;241;43m=\u001b[39;49m\u001b[43munconnected_gradients\u001b[49m\u001b[43m)\u001b[49m\n\u001b[1;32m   1121\u001b[0m \u001b[38;5;28;01mif\u001b[39;00m \u001b[38;5;129;01mnot\u001b[39;00m \u001b[38;5;28mself\u001b[39m\u001b[38;5;241m.\u001b[39m_persistent:\n\u001b[1;32m   1122\u001b[0m   \u001b[38;5;66;03m# Keep track of watched variables before setting tape to None\u001b[39;00m\n\u001b[1;32m   1123\u001b[0m   \u001b[38;5;28mself\u001b[39m\u001b[38;5;241m.\u001b[39m_watched_variables \u001b[38;5;241m=\u001b[39m \u001b[38;5;28mself\u001b[39m\u001b[38;5;241m.\u001b[39m_tape\u001b[38;5;241m.\u001b[39mwatched_variables()\n",
      "File \u001b[0;32m~/.local/lib/python3.9/site-packages/tensorflow/python/eager/imperative_grad.py:67\u001b[0m, in \u001b[0;36mimperative_grad\u001b[0;34m(tape, target, sources, output_gradients, sources_raw, unconnected_gradients)\u001b[0m\n\u001b[1;32m     63\u001b[0m \u001b[38;5;28;01mexcept\u001b[39;00m \u001b[38;5;167;01mValueError\u001b[39;00m:\n\u001b[1;32m     64\u001b[0m   \u001b[38;5;28;01mraise\u001b[39;00m \u001b[38;5;167;01mValueError\u001b[39;00m(\n\u001b[1;32m     65\u001b[0m       \u001b[38;5;124m\"\u001b[39m\u001b[38;5;124mUnknown value for unconnected_gradients: \u001b[39m\u001b[38;5;132;01m%r\u001b[39;00m\u001b[38;5;124m\"\u001b[39m \u001b[38;5;241m%\u001b[39m unconnected_gradients)\n\u001b[0;32m---> 67\u001b[0m \u001b[38;5;28;01mreturn\u001b[39;00m \u001b[43mpywrap_tfe\u001b[49m\u001b[38;5;241;43m.\u001b[39;49m\u001b[43mTFE_Py_TapeGradient\u001b[49m\u001b[43m(\u001b[49m\n\u001b[1;32m     68\u001b[0m \u001b[43m    \u001b[49m\u001b[43mtape\u001b[49m\u001b[38;5;241;43m.\u001b[39;49m\u001b[43m_tape\u001b[49m\u001b[43m,\u001b[49m\u001b[43m  \u001b[49m\u001b[38;5;66;43;03m# pylint: disable=protected-access\u001b[39;49;00m\n\u001b[1;32m     69\u001b[0m \u001b[43m    \u001b[49m\u001b[43mtarget\u001b[49m\u001b[43m,\u001b[49m\n\u001b[1;32m     70\u001b[0m \u001b[43m    \u001b[49m\u001b[43msources\u001b[49m\u001b[43m,\u001b[49m\n\u001b[1;32m     71\u001b[0m \u001b[43m    \u001b[49m\u001b[43moutput_gradients\u001b[49m\u001b[43m,\u001b[49m\n\u001b[1;32m     72\u001b[0m \u001b[43m    \u001b[49m\u001b[43msources_raw\u001b[49m\u001b[43m,\u001b[49m\n\u001b[1;32m     73\u001b[0m \u001b[43m    \u001b[49m\u001b[43mcompat\u001b[49m\u001b[38;5;241;43m.\u001b[39;49m\u001b[43mas_str\u001b[49m\u001b[43m(\u001b[49m\u001b[43munconnected_gradients\u001b[49m\u001b[38;5;241;43m.\u001b[39;49m\u001b[43mvalue\u001b[49m\u001b[43m)\u001b[49m\u001b[43m)\u001b[49m\n",
      "File \u001b[0;32m~/.local/lib/python3.9/site-packages/tensorflow/python/eager/backprop.py:160\u001b[0m, in \u001b[0;36m_gradient_function\u001b[0;34m(op_name, attr_tuple, num_inputs, inputs, outputs, out_grads, skip_input_indices, forward_pass_name_scope)\u001b[0m\n\u001b[1;32m    158\u001b[0m     gradient_name_scope \u001b[38;5;241m+\u001b[39m\u001b[38;5;241m=\u001b[39m forward_pass_name_scope \u001b[38;5;241m+\u001b[39m \u001b[38;5;124m\"\u001b[39m\u001b[38;5;124m/\u001b[39m\u001b[38;5;124m\"\u001b[39m\n\u001b[1;32m    159\u001b[0m   \u001b[38;5;28;01mwith\u001b[39;00m ops\u001b[38;5;241m.\u001b[39mname_scope(gradient_name_scope):\n\u001b[0;32m--> 160\u001b[0m     \u001b[38;5;28;01mreturn\u001b[39;00m \u001b[43mgrad_fn\u001b[49m\u001b[43m(\u001b[49m\u001b[43mmock_op\u001b[49m\u001b[43m,\u001b[49m\u001b[43m \u001b[49m\u001b[38;5;241;43m*\u001b[39;49m\u001b[43mout_grads\u001b[49m\u001b[43m)\u001b[49m\n\u001b[1;32m    161\u001b[0m \u001b[38;5;28;01melse\u001b[39;00m:\n\u001b[1;32m    162\u001b[0m   \u001b[38;5;28;01mreturn\u001b[39;00m grad_fn(mock_op, \u001b[38;5;241m*\u001b[39mout_grads)\n",
      "File \u001b[0;32m~/.local/lib/python3.9/site-packages/tensorflow/python/ops/math_grad.py:248\u001b[0m, in \u001b[0;36m_MeanGrad\u001b[0;34m(op, grad)\u001b[0m\n\u001b[1;32m    245\u001b[0m \u001b[38;5;129m@ops\u001b[39m\u001b[38;5;241m.\u001b[39mRegisterGradient(\u001b[38;5;124m\"\u001b[39m\u001b[38;5;124mMean\u001b[39m\u001b[38;5;124m\"\u001b[39m)\n\u001b[1;32m    246\u001b[0m \u001b[38;5;28;01mdef\u001b[39;00m \u001b[38;5;21m_MeanGrad\u001b[39m(op, grad):\n\u001b[1;32m    247\u001b[0m   \u001b[38;5;124;03m\"\"\"Gradient for Mean.\"\"\"\u001b[39;00m\n\u001b[0;32m--> 248\u001b[0m   sum_grad \u001b[38;5;241m=\u001b[39m \u001b[43m_SumGrad\u001b[49m\u001b[43m(\u001b[49m\u001b[43mop\u001b[49m\u001b[43m,\u001b[49m\u001b[43m \u001b[49m\u001b[43mgrad\u001b[49m\u001b[43m)\u001b[49m[\u001b[38;5;241m0\u001b[39m]\n\u001b[1;32m    249\u001b[0m   input_shape \u001b[38;5;241m=\u001b[39m op\u001b[38;5;241m.\u001b[39minputs[\u001b[38;5;241m0\u001b[39m]\u001b[38;5;241m.\u001b[39m_shape_tuple()  \u001b[38;5;66;03m# pylint: disable=protected-access\u001b[39;00m\n\u001b[1;32m    250\u001b[0m   output_shape \u001b[38;5;241m=\u001b[39m op\u001b[38;5;241m.\u001b[39moutputs[\u001b[38;5;241m0\u001b[39m]\u001b[38;5;241m.\u001b[39m_shape_tuple()  \u001b[38;5;66;03m# pylint: disable=protected-access\u001b[39;00m\n",
      "File \u001b[0;32m~/.local/lib/python3.9/site-packages/tensorflow/python/ops/math_grad.py:160\u001b[0m, in \u001b[0;36m_SumGrad\u001b[0;34m(op, grad)\u001b[0m\n\u001b[1;32m    158\u001b[0m \u001b[38;5;28;01melse\u001b[39;00m:\n\u001b[1;32m    159\u001b[0m   new_shape \u001b[38;5;241m=\u001b[39m [\u001b[38;5;241m1\u001b[39m] \u001b[38;5;241m*\u001b[39m rank\n\u001b[0;32m--> 160\u001b[0m grad \u001b[38;5;241m=\u001b[39m \u001b[43marray_ops\u001b[49m\u001b[38;5;241;43m.\u001b[39;49m\u001b[43mreshape\u001b[49m\u001b[43m(\u001b[49m\u001b[43mgrad\u001b[49m\u001b[43m,\u001b[49m\u001b[43m \u001b[49m\u001b[43mnew_shape\u001b[49m\u001b[43m)\u001b[49m\n\u001b[1;32m    161\u001b[0m \u001b[38;5;66;03m# If shape is not fully defined (but rank is), we use Shape.\u001b[39;00m\n\u001b[1;32m    162\u001b[0m \u001b[38;5;28;01mif\u001b[39;00m \u001b[38;5;28;01mNone\u001b[39;00m \u001b[38;5;129;01mnot\u001b[39;00m \u001b[38;5;129;01min\u001b[39;00m input_0_shape:\n",
      "File \u001b[0;32m~/.local/lib/python3.9/site-packages/tensorflow/python/util/traceback_utils.py:150\u001b[0m, in \u001b[0;36mfilter_traceback.<locals>.error_handler\u001b[0;34m(*args, **kwargs)\u001b[0m\n\u001b[1;32m    148\u001b[0m filtered_tb \u001b[38;5;241m=\u001b[39m \u001b[38;5;28;01mNone\u001b[39;00m\n\u001b[1;32m    149\u001b[0m \u001b[38;5;28;01mtry\u001b[39;00m:\n\u001b[0;32m--> 150\u001b[0m   \u001b[38;5;28;01mreturn\u001b[39;00m \u001b[43mfn\u001b[49m\u001b[43m(\u001b[49m\u001b[38;5;241;43m*\u001b[39;49m\u001b[43margs\u001b[49m\u001b[43m,\u001b[49m\u001b[43m \u001b[49m\u001b[38;5;241;43m*\u001b[39;49m\u001b[38;5;241;43m*\u001b[39;49m\u001b[43mkwargs\u001b[49m\u001b[43m)\u001b[49m\n\u001b[1;32m    151\u001b[0m \u001b[38;5;28;01mexcept\u001b[39;00m \u001b[38;5;167;01mException\u001b[39;00m \u001b[38;5;28;01mas\u001b[39;00m e:\n\u001b[1;32m    152\u001b[0m   filtered_tb \u001b[38;5;241m=\u001b[39m _process_traceback_frames(e\u001b[38;5;241m.\u001b[39m__traceback__)\n",
      "File \u001b[0;32m~/.local/lib/python3.9/site-packages/tensorflow/python/util/dispatch.py:1176\u001b[0m, in \u001b[0;36madd_dispatch_support.<locals>.decorator.<locals>.op_dispatch_handler\u001b[0;34m(*args, **kwargs)\u001b[0m\n\u001b[1;32m   1174\u001b[0m \u001b[38;5;66;03m# Fallback dispatch system (dispatch v1):\u001b[39;00m\n\u001b[1;32m   1175\u001b[0m \u001b[38;5;28;01mtry\u001b[39;00m:\n\u001b[0;32m-> 1176\u001b[0m   \u001b[38;5;28;01mreturn\u001b[39;00m \u001b[43mdispatch_target\u001b[49m\u001b[43m(\u001b[49m\u001b[38;5;241;43m*\u001b[39;49m\u001b[43margs\u001b[49m\u001b[43m,\u001b[49m\u001b[43m \u001b[49m\u001b[38;5;241;43m*\u001b[39;49m\u001b[38;5;241;43m*\u001b[39;49m\u001b[43mkwargs\u001b[49m\u001b[43m)\u001b[49m\n\u001b[1;32m   1177\u001b[0m \u001b[38;5;28;01mexcept\u001b[39;00m (\u001b[38;5;167;01mTypeError\u001b[39;00m, \u001b[38;5;167;01mValueError\u001b[39;00m):\n\u001b[1;32m   1178\u001b[0m   \u001b[38;5;66;03m# Note: convert_to_eager_tensor currently raises a ValueError, not a\u001b[39;00m\n\u001b[1;32m   1179\u001b[0m   \u001b[38;5;66;03m# TypeError, when given unexpected types.  So we need to catch both.\u001b[39;00m\n\u001b[1;32m   1180\u001b[0m   result \u001b[38;5;241m=\u001b[39m dispatch(op_dispatch_handler, args, kwargs)\n",
      "File \u001b[0;32m~/.local/lib/python3.9/site-packages/tensorflow/python/ops/array_ops.py:199\u001b[0m, in \u001b[0;36mreshape\u001b[0;34m(tensor, shape, name)\u001b[0m\n\u001b[1;32m     63\u001b[0m \u001b[38;5;129m@tf_export\u001b[39m(\u001b[38;5;124m\"\u001b[39m\u001b[38;5;124mreshape\u001b[39m\u001b[38;5;124m\"\u001b[39m, v1\u001b[38;5;241m=\u001b[39m[\u001b[38;5;124m\"\u001b[39m\u001b[38;5;124mreshape\u001b[39m\u001b[38;5;124m\"\u001b[39m, \u001b[38;5;124m\"\u001b[39m\u001b[38;5;124mmanip.reshape\u001b[39m\u001b[38;5;124m\"\u001b[39m])\n\u001b[1;32m     64\u001b[0m \u001b[38;5;129m@dispatch\u001b[39m\u001b[38;5;241m.\u001b[39madd_dispatch_support\n\u001b[1;32m     65\u001b[0m \u001b[38;5;28;01mdef\u001b[39;00m \u001b[38;5;21mreshape\u001b[39m(tensor, shape, name\u001b[38;5;241m=\u001b[39m\u001b[38;5;28;01mNone\u001b[39;00m):  \u001b[38;5;66;03m# pylint: disable=redefined-outer-name\u001b[39;00m\n\u001b[1;32m     66\u001b[0m   \u001b[38;5;124mr\u001b[39m\u001b[38;5;124;03m\"\"\"Reshapes a tensor.\u001b[39;00m\n\u001b[1;32m     67\u001b[0m \n\u001b[1;32m     68\u001b[0m \u001b[38;5;124;03m  Given `tensor`, this operation returns a new `tf.Tensor` that has the same\u001b[39;00m\n\u001b[0;32m   (...)\u001b[0m\n\u001b[1;32m    197\u001b[0m \u001b[38;5;124;03m    A `Tensor`. Has the same type as `tensor`.\u001b[39;00m\n\u001b[1;32m    198\u001b[0m \u001b[38;5;124;03m  \"\"\"\u001b[39;00m\n\u001b[0;32m--> 199\u001b[0m   result \u001b[38;5;241m=\u001b[39m \u001b[43mgen_array_ops\u001b[49m\u001b[38;5;241;43m.\u001b[39;49m\u001b[43mreshape\u001b[49m\u001b[43m(\u001b[49m\u001b[43mtensor\u001b[49m\u001b[43m,\u001b[49m\u001b[43m \u001b[49m\u001b[43mshape\u001b[49m\u001b[43m,\u001b[49m\u001b[43m \u001b[49m\u001b[43mname\u001b[49m\u001b[43m)\u001b[49m\n\u001b[1;32m    200\u001b[0m   tensor_util\u001b[38;5;241m.\u001b[39mmaybe_set_static_shape(result, shape)\n\u001b[1;32m    201\u001b[0m   \u001b[38;5;28;01mreturn\u001b[39;00m result\n",
      "File \u001b[0;32m~/.local/lib/python3.9/site-packages/tensorflow/python/ops/gen_array_ops.py:8551\u001b[0m, in \u001b[0;36mreshape\u001b[0;34m(tensor, shape, name)\u001b[0m\n\u001b[1;32m   8549\u001b[0m     \u001b[38;5;28;01mpass\u001b[39;00m  \u001b[38;5;66;03m# Add nodes to the TensorFlow graph.\u001b[39;00m\n\u001b[1;32m   8550\u001b[0m \u001b[38;5;66;03m# Add nodes to the TensorFlow graph.\u001b[39;00m\n\u001b[0;32m-> 8551\u001b[0m _, _, _op, _outputs \u001b[38;5;241m=\u001b[39m \u001b[43m_op_def_library\u001b[49m\u001b[38;5;241;43m.\u001b[39;49m\u001b[43m_apply_op_helper\u001b[49m\u001b[43m(\u001b[49m\n\u001b[1;32m   8552\u001b[0m \u001b[43m      \u001b[49m\u001b[38;5;124;43m\"\u001b[39;49m\u001b[38;5;124;43mReshape\u001b[39;49m\u001b[38;5;124;43m\"\u001b[39;49m\u001b[43m,\u001b[49m\u001b[43m \u001b[49m\u001b[43mtensor\u001b[49m\u001b[38;5;241;43m=\u001b[39;49m\u001b[43mtensor\u001b[49m\u001b[43m,\u001b[49m\u001b[43m \u001b[49m\u001b[43mshape\u001b[49m\u001b[38;5;241;43m=\u001b[39;49m\u001b[43mshape\u001b[49m\u001b[43m,\u001b[49m\u001b[43m \u001b[49m\u001b[43mname\u001b[49m\u001b[38;5;241;43m=\u001b[39;49m\u001b[43mname\u001b[49m\u001b[43m)\u001b[49m\n\u001b[1;32m   8553\u001b[0m _result \u001b[38;5;241m=\u001b[39m _outputs[:]\n\u001b[1;32m   8554\u001b[0m \u001b[38;5;28;01mif\u001b[39;00m _execute\u001b[38;5;241m.\u001b[39mmust_record_gradient():\n",
      "File \u001b[0;32m~/.local/lib/python3.9/site-packages/tensorflow/python/framework/op_def_library.py:779\u001b[0m, in \u001b[0;36m_apply_op_helper\u001b[0;34m(op_type_name, name, **keywords)\u001b[0m\n\u001b[1;32m    777\u001b[0m \u001b[38;5;28;01mwith\u001b[39;00m g\u001b[38;5;241m.\u001b[39mas_default(), ops\u001b[38;5;241m.\u001b[39mname_scope(name) \u001b[38;5;28;01mas\u001b[39;00m scope:\n\u001b[1;32m    778\u001b[0m   \u001b[38;5;28;01mif\u001b[39;00m fallback:\n\u001b[0;32m--> 779\u001b[0m     \u001b[43m_ExtractInputsAndAttrs\u001b[49m\u001b[43m(\u001b[49m\u001b[43mop_type_name\u001b[49m\u001b[43m,\u001b[49m\u001b[43m \u001b[49m\u001b[43mop_def\u001b[49m\u001b[43m,\u001b[49m\u001b[43m \u001b[49m\u001b[43mallowed_list_attr_map\u001b[49m\u001b[43m,\u001b[49m\n\u001b[1;32m    780\u001b[0m \u001b[43m                           \u001b[49m\u001b[43mkeywords\u001b[49m\u001b[43m,\u001b[49m\u001b[43m \u001b[49m\u001b[43mdefault_type_attr_map\u001b[49m\u001b[43m,\u001b[49m\u001b[43m \u001b[49m\u001b[43mattrs\u001b[49m\u001b[43m,\u001b[49m\u001b[43m \u001b[49m\u001b[43minputs\u001b[49m\u001b[43m,\u001b[49m\n\u001b[1;32m    781\u001b[0m \u001b[43m                           \u001b[49m\u001b[43minput_types\u001b[49m\u001b[43m)\u001b[49m\n\u001b[1;32m    782\u001b[0m     _ExtractRemainingAttrs(op_type_name, op_def, keywords,\n\u001b[1;32m    783\u001b[0m                            default_type_attr_map, attrs)\n\u001b[1;32m    784\u001b[0m     _ExtractAttrProto(op_type_name, op_def, attrs, attr_protos)\n",
      "File \u001b[0;32m~/.local/lib/python3.9/site-packages/tensorflow/python/framework/op_def_library.py:546\u001b[0m, in \u001b[0;36m_ExtractInputsAndAttrs\u001b[0;34m(op_type_name, op_def, allowed_list_attr_map, keywords, default_type_attr_map, attrs, inputs, input_types)\u001b[0m\n\u001b[1;32m    544\u001b[0m     values \u001b[38;5;241m=\u001b[39m inferred\n\u001b[1;32m    545\u001b[0m   \u001b[38;5;28;01melse\u001b[39;00m:\n\u001b[0;32m--> 546\u001b[0m     values \u001b[38;5;241m=\u001b[39m \u001b[43mops\u001b[49m\u001b[38;5;241;43m.\u001b[39;49m\u001b[43mconvert_to_tensor\u001b[49m\u001b[43m(\u001b[49m\n\u001b[1;32m    547\u001b[0m \u001b[43m        \u001b[49m\u001b[43mvalues\u001b[49m\u001b[43m,\u001b[49m\n\u001b[1;32m    548\u001b[0m \u001b[43m        \u001b[49m\u001b[43mname\u001b[49m\u001b[38;5;241;43m=\u001b[39;49m\u001b[43minput_arg\u001b[49m\u001b[38;5;241;43m.\u001b[39;49m\u001b[43mname\u001b[49m\u001b[43m,\u001b[49m\n\u001b[1;32m    549\u001b[0m \u001b[43m        \u001b[49m\u001b[43mas_ref\u001b[49m\u001b[38;5;241;43m=\u001b[39;49m\u001b[43minput_arg\u001b[49m\u001b[38;5;241;43m.\u001b[39;49m\u001b[43mis_ref\u001b[49m\u001b[43m,\u001b[49m\n\u001b[1;32m    550\u001b[0m \u001b[43m        \u001b[49m\u001b[43mpreferred_dtype\u001b[49m\u001b[38;5;241;43m=\u001b[39;49m\u001b[43mdefault_dtype\u001b[49m\u001b[43m)\u001b[49m\n\u001b[1;32m    551\u001b[0m \u001b[38;5;28;01melse\u001b[39;00m:\n\u001b[1;32m    552\u001b[0m   values \u001b[38;5;241m=\u001b[39m ops\u001b[38;5;241m.\u001b[39mconvert_to_tensor(\n\u001b[1;32m    553\u001b[0m       values,\n\u001b[1;32m    554\u001b[0m       name\u001b[38;5;241m=\u001b[39minput_arg\u001b[38;5;241m.\u001b[39mname,\n\u001b[1;32m    555\u001b[0m       dtype\u001b[38;5;241m=\u001b[39mdtype,\n\u001b[1;32m    556\u001b[0m       as_ref\u001b[38;5;241m=\u001b[39minput_arg\u001b[38;5;241m.\u001b[39mis_ref,\n\u001b[1;32m    557\u001b[0m       preferred_dtype\u001b[38;5;241m=\u001b[39mdefault_dtype)\n",
      "File \u001b[0;32m~/.local/lib/python3.9/site-packages/tensorflow/python/profiler/trace.py:183\u001b[0m, in \u001b[0;36mtrace_wrapper.<locals>.inner_wrapper.<locals>.wrapped\u001b[0;34m(*args, **kwargs)\u001b[0m\n\u001b[1;32m    181\u001b[0m   \u001b[38;5;28;01mwith\u001b[39;00m Trace(trace_name, \u001b[38;5;241m*\u001b[39m\u001b[38;5;241m*\u001b[39mtrace_kwargs):\n\u001b[1;32m    182\u001b[0m     \u001b[38;5;28;01mreturn\u001b[39;00m func(\u001b[38;5;241m*\u001b[39margs, \u001b[38;5;241m*\u001b[39m\u001b[38;5;241m*\u001b[39mkwargs)\n\u001b[0;32m--> 183\u001b[0m \u001b[38;5;28;01mreturn\u001b[39;00m \u001b[43mfunc\u001b[49m\u001b[43m(\u001b[49m\u001b[38;5;241;43m*\u001b[39;49m\u001b[43margs\u001b[49m\u001b[43m,\u001b[49m\u001b[43m \u001b[49m\u001b[38;5;241;43m*\u001b[39;49m\u001b[38;5;241;43m*\u001b[39;49m\u001b[43mkwargs\u001b[49m\u001b[43m)\u001b[49m\n",
      "File \u001b[0;32m~/.local/lib/python3.9/site-packages/tensorflow/python/framework/ops.py:1621\u001b[0m, in \u001b[0;36mconvert_to_tensor\u001b[0;34m(value, dtype, name, as_ref, preferred_dtype, dtype_hint, ctx, accepted_result_types)\u001b[0m\n\u001b[1;32m   1619\u001b[0m \u001b[38;5;28;01mif\u001b[39;00m dtype \u001b[38;5;129;01mis\u001b[39;00m \u001b[38;5;28;01mNone\u001b[39;00m \u001b[38;5;129;01mand\u001b[39;00m preferred_dtype \u001b[38;5;129;01mis\u001b[39;00m \u001b[38;5;129;01mnot\u001b[39;00m \u001b[38;5;28;01mNone\u001b[39;00m:\n\u001b[1;32m   1620\u001b[0m   \u001b[38;5;28;01mtry\u001b[39;00m:\n\u001b[0;32m-> 1621\u001b[0m     ret \u001b[38;5;241m=\u001b[39m \u001b[43mconversion_func\u001b[49m\u001b[43m(\u001b[49m\n\u001b[1;32m   1622\u001b[0m \u001b[43m        \u001b[49m\u001b[43mvalue\u001b[49m\u001b[43m,\u001b[49m\u001b[43m \u001b[49m\u001b[43mdtype\u001b[49m\u001b[38;5;241;43m=\u001b[39;49m\u001b[43mpreferred_dtype\u001b[49m\u001b[43m,\u001b[49m\u001b[43m \u001b[49m\u001b[43mname\u001b[49m\u001b[38;5;241;43m=\u001b[39;49m\u001b[43mname\u001b[49m\u001b[43m,\u001b[49m\u001b[43m \u001b[49m\u001b[43mas_ref\u001b[49m\u001b[38;5;241;43m=\u001b[39;49m\u001b[43mas_ref\u001b[49m\u001b[43m)\u001b[49m\n\u001b[1;32m   1623\u001b[0m   \u001b[38;5;28;01mexcept\u001b[39;00m (\u001b[38;5;167;01mTypeError\u001b[39;00m, \u001b[38;5;167;01mValueError\u001b[39;00m):\n\u001b[1;32m   1624\u001b[0m     \u001b[38;5;66;03m# Could not coerce the conversion to use the preferred dtype.\u001b[39;00m\n\u001b[1;32m   1625\u001b[0m     \u001b[38;5;28;01mpass\u001b[39;00m\n",
      "File \u001b[0;32m~/.local/lib/python3.9/site-packages/tensorflow/python/framework/constant_op.py:343\u001b[0m, in \u001b[0;36m_constant_tensor_conversion_function\u001b[0;34m(v, dtype, name, as_ref)\u001b[0m\n\u001b[1;32m    340\u001b[0m \u001b[38;5;28;01mdef\u001b[39;00m \u001b[38;5;21m_constant_tensor_conversion_function\u001b[39m(v, dtype\u001b[38;5;241m=\u001b[39m\u001b[38;5;28;01mNone\u001b[39;00m, name\u001b[38;5;241m=\u001b[39m\u001b[38;5;28;01mNone\u001b[39;00m,\n\u001b[1;32m    341\u001b[0m                                          as_ref\u001b[38;5;241m=\u001b[39m\u001b[38;5;28;01mFalse\u001b[39;00m):\n\u001b[1;32m    342\u001b[0m   _ \u001b[38;5;241m=\u001b[39m as_ref\n\u001b[0;32m--> 343\u001b[0m   \u001b[38;5;28;01mreturn\u001b[39;00m \u001b[43mconstant\u001b[49m\u001b[43m(\u001b[49m\u001b[43mv\u001b[49m\u001b[43m,\u001b[49m\u001b[43m \u001b[49m\u001b[43mdtype\u001b[49m\u001b[38;5;241;43m=\u001b[39;49m\u001b[43mdtype\u001b[49m\u001b[43m,\u001b[49m\u001b[43m \u001b[49m\u001b[43mname\u001b[49m\u001b[38;5;241;43m=\u001b[39;49m\u001b[43mname\u001b[49m\u001b[43m)\u001b[49m\n",
      "File \u001b[0;32m~/.local/lib/python3.9/site-packages/tensorflow/python/framework/constant_op.py:267\u001b[0m, in \u001b[0;36mconstant\u001b[0;34m(value, dtype, shape, name)\u001b[0m\n\u001b[1;32m    170\u001b[0m \u001b[38;5;129m@tf_export\u001b[39m(\u001b[38;5;124m\"\u001b[39m\u001b[38;5;124mconstant\u001b[39m\u001b[38;5;124m\"\u001b[39m, v1\u001b[38;5;241m=\u001b[39m[])\n\u001b[1;32m    171\u001b[0m \u001b[38;5;28;01mdef\u001b[39;00m \u001b[38;5;21mconstant\u001b[39m(value, dtype\u001b[38;5;241m=\u001b[39m\u001b[38;5;28;01mNone\u001b[39;00m, shape\u001b[38;5;241m=\u001b[39m\u001b[38;5;28;01mNone\u001b[39;00m, name\u001b[38;5;241m=\u001b[39m\u001b[38;5;124m\"\u001b[39m\u001b[38;5;124mConst\u001b[39m\u001b[38;5;124m\"\u001b[39m):\n\u001b[1;32m    172\u001b[0m   \u001b[38;5;124;03m\"\"\"Creates a constant tensor from a tensor-like object.\u001b[39;00m\n\u001b[1;32m    173\u001b[0m \n\u001b[1;32m    174\u001b[0m \u001b[38;5;124;03m  Note: All eager `tf.Tensor` values are immutable (in contrast to\u001b[39;00m\n\u001b[0;32m   (...)\u001b[0m\n\u001b[1;32m    265\u001b[0m \u001b[38;5;124;03m    ValueError: if called on a symbolic tensor.\u001b[39;00m\n\u001b[1;32m    266\u001b[0m \u001b[38;5;124;03m  \"\"\"\u001b[39;00m\n\u001b[0;32m--> 267\u001b[0m   \u001b[38;5;28;01mreturn\u001b[39;00m \u001b[43m_constant_impl\u001b[49m\u001b[43m(\u001b[49m\u001b[43mvalue\u001b[49m\u001b[43m,\u001b[49m\u001b[43m \u001b[49m\u001b[43mdtype\u001b[49m\u001b[43m,\u001b[49m\u001b[43m \u001b[49m\u001b[43mshape\u001b[49m\u001b[43m,\u001b[49m\u001b[43m \u001b[49m\u001b[43mname\u001b[49m\u001b[43m,\u001b[49m\u001b[43m \u001b[49m\u001b[43mverify_shape\u001b[49m\u001b[38;5;241;43m=\u001b[39;49m\u001b[38;5;28;43;01mFalse\u001b[39;49;00m\u001b[43m,\u001b[49m\n\u001b[1;32m    268\u001b[0m \u001b[43m                        \u001b[49m\u001b[43mallow_broadcast\u001b[49m\u001b[38;5;241;43m=\u001b[39;49m\u001b[38;5;28;43;01mTrue\u001b[39;49;00m\u001b[43m)\u001b[49m\n",
      "File \u001b[0;32m~/.local/lib/python3.9/site-packages/tensorflow/python/framework/constant_op.py:289\u001b[0m, in \u001b[0;36m_constant_impl\u001b[0;34m(value, dtype, shape, name, verify_shape, allow_broadcast)\u001b[0m\n\u001b[1;32m    287\u001b[0m dtype_value \u001b[38;5;241m=\u001b[39m attr_value_pb2\u001b[38;5;241m.\u001b[39mAttrValue(\u001b[38;5;28mtype\u001b[39m\u001b[38;5;241m=\u001b[39mtensor_value\u001b[38;5;241m.\u001b[39mtensor\u001b[38;5;241m.\u001b[39mdtype)\n\u001b[1;32m    288\u001b[0m attrs \u001b[38;5;241m=\u001b[39m {\u001b[38;5;124m\"\u001b[39m\u001b[38;5;124mvalue\u001b[39m\u001b[38;5;124m\"\u001b[39m: tensor_value, \u001b[38;5;124m\"\u001b[39m\u001b[38;5;124mdtype\u001b[39m\u001b[38;5;124m\"\u001b[39m: dtype_value}\n\u001b[0;32m--> 289\u001b[0m const_tensor \u001b[38;5;241m=\u001b[39m \u001b[43mg\u001b[49m\u001b[38;5;241;43m.\u001b[39;49m\u001b[43m_create_op_internal\u001b[49m\u001b[43m(\u001b[49m\u001b[43m  \u001b[49m\u001b[38;5;66;43;03m# pylint: disable=protected-access\u001b[39;49;00m\n\u001b[1;32m    290\u001b[0m \u001b[43m    \u001b[49m\u001b[38;5;124;43m\"\u001b[39;49m\u001b[38;5;124;43mConst\u001b[39;49m\u001b[38;5;124;43m\"\u001b[39;49m\u001b[43m,\u001b[49m\u001b[43m \u001b[49m\u001b[43m[\u001b[49m\u001b[43m]\u001b[49m\u001b[43m,\u001b[49m\u001b[43m \u001b[49m\u001b[43m[\u001b[49m\u001b[43mdtype_value\u001b[49m\u001b[38;5;241;43m.\u001b[39;49m\u001b[43mtype\u001b[49m\u001b[43m]\u001b[49m\u001b[43m,\u001b[49m\u001b[43m \u001b[49m\u001b[43mattrs\u001b[49m\u001b[38;5;241;43m=\u001b[39;49m\u001b[43mattrs\u001b[49m\u001b[43m,\u001b[49m\u001b[43m \u001b[49m\u001b[43mname\u001b[49m\u001b[38;5;241;43m=\u001b[39;49m\u001b[43mname\u001b[49m\u001b[43m)\u001b[49m\u001b[38;5;241m.\u001b[39moutputs[\u001b[38;5;241m0\u001b[39m]\n\u001b[1;32m    292\u001b[0m \u001b[38;5;28;01mif\u001b[39;00m op_callbacks\u001b[38;5;241m.\u001b[39mshould_invoke_op_callbacks():\n\u001b[1;32m    293\u001b[0m   \u001b[38;5;66;03m# TODO(b/147670703): Once the special-op creation code paths\u001b[39;00m\n\u001b[1;32m    294\u001b[0m   \u001b[38;5;66;03m# are unified. Remove this `if` block.\u001b[39;00m\n\u001b[1;32m    295\u001b[0m   callback_outputs \u001b[38;5;241m=\u001b[39m op_callbacks\u001b[38;5;241m.\u001b[39minvoke_op_callbacks(\n\u001b[1;32m    296\u001b[0m       \u001b[38;5;124m\"\u001b[39m\u001b[38;5;124mConst\u001b[39m\u001b[38;5;124m\"\u001b[39m, \u001b[38;5;28mtuple\u001b[39m(), attrs, (const_tensor,), op_name\u001b[38;5;241m=\u001b[39mname, graph\u001b[38;5;241m=\u001b[39mg)\n",
      "File \u001b[0;32m~/.local/lib/python3.9/site-packages/tensorflow/python/framework/func_graph.py:735\u001b[0m, in \u001b[0;36mFuncGraph._create_op_internal\u001b[0;34m(self, op_type, inputs, dtypes, input_types, name, attrs, op_def, compute_device)\u001b[0m\n\u001b[1;32m    733\u001b[0m   inp \u001b[38;5;241m=\u001b[39m \u001b[38;5;28mself\u001b[39m\u001b[38;5;241m.\u001b[39mcapture(inp)\n\u001b[1;32m    734\u001b[0m   captured_inputs\u001b[38;5;241m.\u001b[39mappend(inp)\n\u001b[0;32m--> 735\u001b[0m \u001b[38;5;28;01mreturn\u001b[39;00m \u001b[38;5;28;43msuper\u001b[39;49m\u001b[43m(\u001b[49m\u001b[43mFuncGraph\u001b[49m\u001b[43m,\u001b[49m\u001b[43m \u001b[49m\u001b[38;5;28;43mself\u001b[39;49m\u001b[43m)\u001b[49m\u001b[38;5;241;43m.\u001b[39;49m\u001b[43m_create_op_internal\u001b[49m\u001b[43m(\u001b[49m\u001b[43m  \u001b[49m\u001b[38;5;66;43;03m# pylint: disable=protected-access\u001b[39;49;00m\n\u001b[1;32m    736\u001b[0m \u001b[43m    \u001b[49m\u001b[43mop_type\u001b[49m\u001b[43m,\u001b[49m\u001b[43m \u001b[49m\u001b[43mcaptured_inputs\u001b[49m\u001b[43m,\u001b[49m\u001b[43m \u001b[49m\u001b[43mdtypes\u001b[49m\u001b[43m,\u001b[49m\u001b[43m \u001b[49m\u001b[43minput_types\u001b[49m\u001b[43m,\u001b[49m\u001b[43m \u001b[49m\u001b[43mname\u001b[49m\u001b[43m,\u001b[49m\u001b[43m \u001b[49m\u001b[43mattrs\u001b[49m\u001b[43m,\u001b[49m\u001b[43m \u001b[49m\u001b[43mop_def\u001b[49m\u001b[43m,\u001b[49m\n\u001b[1;32m    737\u001b[0m \u001b[43m    \u001b[49m\u001b[43mcompute_device\u001b[49m\u001b[43m)\u001b[49m\n",
      "File \u001b[0;32m~/.local/lib/python3.9/site-packages/tensorflow/python/framework/ops.py:3800\u001b[0m, in \u001b[0;36mGraph._create_op_internal\u001b[0;34m(self, op_type, inputs, dtypes, input_types, name, attrs, op_def, compute_device)\u001b[0m\n\u001b[1;32m   3797\u001b[0m \u001b[38;5;66;03m# _create_op_helper mutates the new Operation. `_mutation_lock` ensures a\u001b[39;00m\n\u001b[1;32m   3798\u001b[0m \u001b[38;5;66;03m# Session.run call cannot occur between creating and mutating the op.\u001b[39;00m\n\u001b[1;32m   3799\u001b[0m \u001b[38;5;28;01mwith\u001b[39;00m \u001b[38;5;28mself\u001b[39m\u001b[38;5;241m.\u001b[39m_mutation_lock():\n\u001b[0;32m-> 3800\u001b[0m   ret \u001b[38;5;241m=\u001b[39m \u001b[43mOperation\u001b[49m\u001b[43m(\u001b[49m\n\u001b[1;32m   3801\u001b[0m \u001b[43m      \u001b[49m\u001b[43mnode_def\u001b[49m\u001b[43m,\u001b[49m\n\u001b[1;32m   3802\u001b[0m \u001b[43m      \u001b[49m\u001b[38;5;28;43mself\u001b[39;49m\u001b[43m,\u001b[49m\n\u001b[1;32m   3803\u001b[0m \u001b[43m      \u001b[49m\u001b[43minputs\u001b[49m\u001b[38;5;241;43m=\u001b[39;49m\u001b[43minputs\u001b[49m\u001b[43m,\u001b[49m\n\u001b[1;32m   3804\u001b[0m \u001b[43m      \u001b[49m\u001b[43moutput_types\u001b[49m\u001b[38;5;241;43m=\u001b[39;49m\u001b[43mdtypes\u001b[49m\u001b[43m,\u001b[49m\n\u001b[1;32m   3805\u001b[0m \u001b[43m      \u001b[49m\u001b[43mcontrol_inputs\u001b[49m\u001b[38;5;241;43m=\u001b[39;49m\u001b[43mcontrol_inputs\u001b[49m\u001b[43m,\u001b[49m\n\u001b[1;32m   3806\u001b[0m \u001b[43m      \u001b[49m\u001b[43minput_types\u001b[49m\u001b[38;5;241;43m=\u001b[39;49m\u001b[43minput_types\u001b[49m\u001b[43m,\u001b[49m\n\u001b[1;32m   3807\u001b[0m \u001b[43m      \u001b[49m\u001b[43moriginal_op\u001b[49m\u001b[38;5;241;43m=\u001b[39;49m\u001b[38;5;28;43mself\u001b[39;49m\u001b[38;5;241;43m.\u001b[39;49m\u001b[43m_default_original_op\u001b[49m\u001b[43m,\u001b[49m\n\u001b[1;32m   3808\u001b[0m \u001b[43m      \u001b[49m\u001b[43mop_def\u001b[49m\u001b[38;5;241;43m=\u001b[39;49m\u001b[43mop_def\u001b[49m\u001b[43m)\u001b[49m\n\u001b[1;32m   3809\u001b[0m   \u001b[38;5;28mself\u001b[39m\u001b[38;5;241m.\u001b[39m_create_op_helper(ret, compute_device\u001b[38;5;241m=\u001b[39mcompute_device)\n\u001b[1;32m   3810\u001b[0m \u001b[38;5;28;01mreturn\u001b[39;00m ret\n",
      "File \u001b[0;32m~/.local/lib/python3.9/site-packages/tensorflow/python/framework/ops.py:2065\u001b[0m, in \u001b[0;36mOperation.__init__\u001b[0;34m(self, node_def, g, inputs, output_types, control_inputs, input_types, original_op, op_def)\u001b[0m\n\u001b[1;32m   2060\u001b[0m   \u001b[38;5;28;01mraise\u001b[39;00m \u001b[38;5;167;01mValueError\u001b[39;00m(\n\u001b[1;32m   2061\u001b[0m       \u001b[38;5;124mf\u001b[39m\u001b[38;5;124m\"\u001b[39m\u001b[38;5;124mCannot create a tensor proto whose content is larger than 2GB. \u001b[39m\u001b[38;5;124m\"\u001b[39m\n\u001b[1;32m   2062\u001b[0m       \u001b[38;5;124mf\u001b[39m\u001b[38;5;124m\"\u001b[39m\u001b[38;5;124mSize of tensor is \u001b[39m\u001b[38;5;132;01m{\u001b[39;00mnode_def\u001b[38;5;241m.\u001b[39mByteSize()\u001b[38;5;132;01m}\u001b[39;00m\u001b[38;5;124m bytes.\u001b[39m\u001b[38;5;124m\"\u001b[39m)\n\u001b[1;32m   2064\u001b[0m \u001b[38;5;66;03m# TODO(mdan): This does not belong here. Graph::AddNode should handle it.\u001b[39;00m\n\u001b[0;32m-> 2065\u001b[0m \u001b[38;5;28;01mif\u001b[39;00m \u001b[38;5;129;01mnot\u001b[39;00m \u001b[43m_VALID_OP_NAME_REGEX\u001b[49m\u001b[38;5;241;43m.\u001b[39;49m\u001b[43mmatch\u001b[49m\u001b[43m(\u001b[49m\u001b[43mnode_def\u001b[49m\u001b[38;5;241;43m.\u001b[39;49m\u001b[43mname\u001b[49m\u001b[43m)\u001b[49m:\n\u001b[1;32m   2066\u001b[0m   \u001b[38;5;28;01mraise\u001b[39;00m \u001b[38;5;167;01mValueError\u001b[39;00m(\n\u001b[1;32m   2067\u001b[0m       \u001b[38;5;124mf\u001b[39m\u001b[38;5;124m\"\u001b[39m\u001b[38;5;124m`\u001b[39m\u001b[38;5;132;01m{\u001b[39;00mnode_def\u001b[38;5;241m.\u001b[39mname\u001b[38;5;132;01m}\u001b[39;00m\u001b[38;5;124m` is not a valid node name. \u001b[39m\u001b[38;5;124m\"\u001b[39m\n\u001b[1;32m   2068\u001b[0m       \u001b[38;5;124mf\u001b[39m\u001b[38;5;124m\"\u001b[39m\u001b[38;5;124mAccepted names conform to Regex /\u001b[39m\u001b[38;5;132;01m{\u001b[39;00m_VALID_OP_NAME_REGEX\u001b[38;5;132;01m}\u001b[39;00m\u001b[38;5;124m/\u001b[39m\u001b[38;5;124m\"\u001b[39m)\n\u001b[1;32m   2070\u001b[0m \u001b[38;5;66;03m# FIXME(b/225400189): output_types is unused. Consider remove it from\u001b[39;00m\n\u001b[1;32m   2071\u001b[0m \u001b[38;5;66;03m# the argument list.\u001b[39;00m\n",
      "\u001b[0;31mKeyboardInterrupt\u001b[0m: "
     ]
    }
   ],
   "source": [
    "#'NOAA_Weather','agr_a','agr_g','airlines','electricity','hyperplane','rbf_f',\n",
    "dataset_names = ['NOAA_Weather','agr_a','agr_g','airlines','electricity','hyperplane','rbf_f','rbf_m','sea_a','sea_g']\n",
    "for dataset_name in dataset_names:\n",
    "    VFDT_classifier = HoeffdingTreeClassifier()\n",
    "    CVFDT_classifier = HoeffdingAdaptiveTreeClassifier(split_confidence = 0.001)\n",
    "    config = get_config_for_dataset(dataset_name)\n",
    "\n",
    "    from sklearn.metrics import cohen_kappa_score\n",
    "\n",
    "    config_training, metrics = prepare_training_for_streams(identifier = 'BIN:'+dataset_name, config = config)\n",
    "    #load Dataset\n",
    "    X_data, y_data, nominal_features, ordinal_features = load_dataset_for_streams(identifier = 'BIN:'+dataset_name, \n",
    "                                                                                  max_total_samples = config['computation']['max_total_samples'])\n",
    "\n",
    "    model_dict = {}\n",
    "    scores_dict = {}\n",
    "    normalizer_list = []\n",
    "    plotlosses_benchmark = PlotLosses()\n",
    "    verbosity = 1\n",
    "    model_dict['GDT'] = GDT(number_of_variables = len(X_data.columns),\n",
    "                number_of_classes = len(np.unique(y_data)),#dataset_dict['number_of_classes'],\n",
    "\n",
    "                objective = config_training['gdt']['objective'],\n",
    "\n",
    "                depth = config_training['gdt']['depth'],\n",
    "\n",
    "                learning_rate_index = config_training['gdt']['learning_rate_index'],\n",
    "                learning_rate_values = config_training['gdt']['learning_rate_values'],\n",
    "                learning_rate_leaf = config_training['gdt']['learning_rate_leaf'],\n",
    "\n",
    "                optimizer = config_training['gdt']['optimizer'],\n",
    "\n",
    "                loss = 'crossentropy',\n",
    "\n",
    "                initializer_values = config_training['gdt']['initializer_values'],\n",
    "                initializer_index = config_training['gdt']['initializer_index'],\n",
    "                initializer_leaf = config_training['gdt']['initializer_leaf'],        \n",
    "\n",
    "                random_seed = config_training['computation']['random_seed'],\n",
    "                verbosity = verbosity)  \n",
    "\n",
    "\n",
    "    #Pretraing\n",
    "    if(config_training['computation']['pretrain_size']>0 and len(X_data) > config_training['computation']['pretrain_size']):\n",
    "        X_pretrain_data = X_data.iloc[:config_training['computation']['pretrain_size'],:]\n",
    "        X_data = X_data.iloc[config_training['computation']['pretrain_size']:,:]\n",
    "        y_pretrain_data = y_data.iloc[:config_training['computation']['pretrain_size']]\n",
    "        y_data = y_data.iloc[config_training['computation']['pretrain_size']:]\n",
    "\n",
    "        ((X_train, y_train),\n",
    "         (X_valid, y_valid),\n",
    "         (X_test, y_test),\n",
    "         (X_train_with_valid, y_train_with_valid),\n",
    "         normalizer_list) = preprocess_data(X_pretrain_data, \n",
    "                                           y_pretrain_data,\n",
    "                                           nominal_features,\n",
    "                                           ordinal_features,\n",
    "                                           config_training,\n",
    "                                           normalizer_list,\n",
    "                                           random_seed= 42,#random_seed,\n",
    "                                           verbosity=1)#verbosity)  \n",
    "        dataset_dict = {\n",
    "               'X_train': X_train,\n",
    "               'y_train': y_train,\n",
    "               'X_valid': X_valid,\n",
    "               'y_valid': y_valid,\n",
    "               'X_test': X_test,\n",
    "               'y_test': y_test,\n",
    "               'normalizer_list': normalizer_list\n",
    "               }\n",
    "\n",
    "\n",
    "\n",
    "        model_dict['GDT'].partial_fit(dataset_dict['X_train'],\n",
    "                  dataset_dict['y_train'],\n",
    "\n",
    "                  batch_size=config_training['gdt']['batch_size'], \n",
    "                  epochs=config_training['gdt']['pretrain_epochs'], \n",
    "\n",
    "                  restarts = 0,#config_test['gdt']['restarts'], \n",
    "                  #restart_type=config_test['gdt']['restart_type'], \n",
    "\n",
    "                  #early_stopping_epochs=config_training['gdt']['early_stopping_epochs'], \n",
    "                  #early_stopping_type=config_test['gdt']['early_stopping_type'],\n",
    "\n",
    "                  valid_data=(dataset_dict['X_valid'],dataset_dict['y_valid']))\n",
    "        \n",
    "        #pretrain benchmarks\n",
    "        #(X_train_with_valid, y_train_with_valid)\n",
    "        temp_X_train =X_train_with_valid.values\n",
    "        temp_y_train =y_train_with_valid.values\n",
    "        for i in range(0, len(dataset_dict['X_train'])):\n",
    "            VFDT_classifier.partial_fit(np.array([temp_X_train[i]], np.float64), np.array([temp_y_train[i]], np.float64)) \n",
    "            CVFDT_classifier.partial_fit(np.array([temp_X_train[i]], np.float64), np.array([temp_y_train[i]], np.float64))\n",
    "\n",
    "\n",
    "\n",
    "\n",
    "\n",
    "\n",
    "\n",
    "    #Start Stream\n",
    "    X_data_stream = split_df_chunks(X_data, config['computation']['chunk_size'])\n",
    "    y_data_stream = split_df_chunks(y_data, config['computation']['chunk_size'])\n",
    "\n",
    "    scores_GDT = {'train':np.array([]),\n",
    "                  'valid':np.array([]),\n",
    "                  'test':np.array([])\n",
    "                 }\n",
    "    scores_VFDT = {'train':np.array([]),\n",
    "              'test':np.array([])\n",
    "             }\n",
    "    scores_CVFDT = {'train':np.array([]),\n",
    "                  'test':np.array([])\n",
    "                 }\n",
    "    \n",
    "    timer = {'training':{\n",
    "                'GDT':0.0,\n",
    "                'VFDT':0.0,\n",
    "                'CVFDT':0.0,\n",
    "             },\n",
    "             'prediction':{\n",
    "                'GDT':0.0,\n",
    "                'VFDT':0.0,\n",
    "                'CVFDT':0.0,\n",
    "             }\n",
    "            }\n",
    "    flag = False;\n",
    "\n",
    "    for i in range(len(X_data_stream)):\n",
    "        normalizer_list=[]\n",
    "        t0 = time.time()\n",
    "        ((X_train, y_train),\n",
    "         (X_valid, y_valid),\n",
    "         (X_test, y_test),\n",
    "         (X_train_with_valid, y_train_with_valid),\n",
    "         normalizer_list) = preprocess_data(X_data_stream[i], \n",
    "                                           y_data_stream[i],\n",
    "                                           nominal_features,\n",
    "                                           ordinal_features,\n",
    "                                           config_training,\n",
    "                                           normalizer_list,\n",
    "                                           random_seed= 42,#random_seed,\n",
    "                                           verbosity=1)#verbosity)  \n",
    "        dataset_dict = {\n",
    "               'X_train': X_train,\n",
    "               'y_train': y_train,\n",
    "               'X_valid': X_valid,\n",
    "               'y_valid': y_valid,\n",
    "               'X_test': X_test,\n",
    "               'y_test': y_test,\n",
    "               'normalizer_list': normalizer_list\n",
    "               } \n",
    "\n",
    "        t1 = time.time()\n",
    "\n",
    "        t0 = time.time()\n",
    "        history = model_dict['GDT'].partial_fit(dataset_dict['X_train'],\n",
    "                  dataset_dict['y_train'],\n",
    "\n",
    "                  batch_size=config_training['gdt']['batch_size'], \n",
    "                  epochs=config_training['gdt']['epochs'], \n",
    "\n",
    "                  restarts = 0,\n",
    "                  drift_flag = flag,\n",
    "                  #config_test['gdt']['restarts'], \n",
    "                  #restart_type=config_test['gdt']['restart_type'], \n",
    "\n",
    "                  #early_stopping_epochs=config_training['gdt']['early_stopping_epochs'], \n",
    "                  #early_stopping_type=config_test['gdt']['early_stopping_type'],\n",
    "\n",
    "                  valid_data=(dataset_dict['X_valid'],dataset_dict['y_valid']))\n",
    "\n",
    "        flag=False\n",
    "        t1 = time.time()\n",
    "        timer['training']['GDT'] = timer['training']['GDT']+t1-t0\n",
    "\n",
    "\n",
    "        ###EVALUATION\n",
    "        y_test_data =dataset_dict['y_test'].values\n",
    "        temp_X_test = dataset_dict['X_test'].values\n",
    "        temp_X_train =X_train_with_valid.values\n",
    "        temp_y_train =y_train_with_valid.values\n",
    "\n",
    "\n",
    "        t0 = time.time()\n",
    "        #GDT\n",
    "        metric = \"f1\"\n",
    "       # y_test_data = dataset_dict['y_test']\n",
    "        y_pred_GDT_train = model_dict['GDT'].predict(enforce_numpy(dataset_dict['X_train'].values))\n",
    "        y_pred_GDT_train = np.nan_to_num(y_pred_GDT_train)\n",
    "        y_pred_GDT_train = np.round(y_pred_GDT_train)\n",
    "    \n",
    "        y_pred_GDT_valid = model_dict['GDT'].predict(enforce_numpy(dataset_dict['X_valid'].values))\n",
    "        y_pred_GDT_valid = np.nan_to_num(y_pred_GDT_valid)\n",
    "        y_pred_GDT_valid = np.round(y_pred_GDT_valid)    \n",
    "    \n",
    "        y_pred_GDT_test = model_dict['GDT'].predict(enforce_numpy(temp_X_test))\n",
    "        y_pred_GDT_test = np.nan_to_num(y_pred_GDT_test)\n",
    "        y_pred_GDT_test = np.round(y_pred_GDT_test)\n",
    "        \n",
    "     \n",
    "        GDT_f1_train = f1_score(dataset_dict['y_train'], y_pred_GDT_train)\n",
    "        GDT_f1_valid = f1_score(dataset_dict['y_valid'], y_pred_GDT_valid)\n",
    "        GDT_f1_test = f1_score(dataset_dict['y_test'], y_pred_GDT_test)\n",
    "\n",
    "        t1 = time.time()\n",
    "        timer['prediction']['GDT'] = timer['prediction']['GDT']+t1-t0\n",
    "        \n",
    "        \n",
    "        \n",
    "        \n",
    "        #VFDT\n",
    "        y_pred_VFDT_train = []\n",
    "        y_pred_VFDT_test = []\n",
    "        for i in range(0, len(temp_X_train)):\n",
    "            VFDT_classifier.partial_fit(np.array([temp_X_train[i]], np.float64), np.array([temp_y_train[i]], np.float64))\n",
    "        \n",
    "        for i in range(0, len(temp_X_train)):\n",
    "            y_pred_VFDT_train.append(VFDT_classifier.predict(np.array([temp_X_train[i]], np.float64))[0]) \n",
    "        for i in range(0, len(dataset_dict['X_test'])): \n",
    "            y_pred_VFDT_test.append(VFDT_classifier.predict(np.array([temp_X_test[i]], np.float64))[0])  \n",
    "        \n",
    "        VFDT_train = f1_score(temp_y_train, y_pred_VFDT_train)\n",
    "        VFDT_test = f1_score(y_test_data, y_pred_VFDT_test)\n",
    "\n",
    "\n",
    "        #CVFDT\n",
    "        y_pred_CVFDT_train = []\n",
    "        y_pred_CVFDT_test = []\n",
    "        for i in range(0, len(dataset_dict['X_train'])):\n",
    "            CVFDT_classifier.partial_fit(np.array([temp_X_train[i]], np.float64), np.array([temp_y_train[i]], np.float64))\n",
    "\n",
    "        for i in range(0, len(temp_X_train)):\n",
    "            y_pred_CVFDT_train.append(CVFDT_classifier.predict(np.array([temp_X_train[i]], np.float64))[0])    \n",
    "        for i in range(0, len(dataset_dict['X_test'])):\n",
    "            y_pred_CVFDT_test.append(CVFDT_classifier.predict(np.array([temp_X_test[i]], np.float64))[0])  \n",
    "        \n",
    "        CVFDT_train = f1_score(temp_y_train, y_pred_CVFDT_train)\n",
    "        CVFDT_test = f1_score(y_test_data,y_pred_CVFDT_test)\n",
    "                                        \n",
    "\n",
    "\n",
    "    \n",
    "        scores_GDT['train'] = np.append(scores_GDT['train'], GDT_f1_train)\n",
    "        scores_GDT['valid'] = np.append(scores_GDT['valid'], GDT_f1_valid)\n",
    "        scores_GDT['test'] = np.append(scores_GDT['test'], GDT_f1_test)\n",
    "                                        \n",
    "        scores_VFDT['train'] = np.append(scores_VFDT['train'], VFDT_train)\n",
    "        scores_VFDT['test'] = np.append(scores_VFDT['test'], VFDT_test)\n",
    "                                        \n",
    "        scores_CVFDT['train'] = np.append(scores_CVFDT['train'], CVFDT_train)\n",
    "        scores_CVFDT['test'] = np.append(scores_CVFDT['test'], CVFDT_test)\n",
    "                                        \n",
    "                                        \n",
    "       \n",
    "    results = pd.DataFrame(columns=['metric','train','validation','test'])\n",
    "    results.loc[len(results)] = ['f1',round(np.average(scores_GDT['train']),4),round(np.average(scores_GDT['valid']),4),round(np.average(scores_GDT['test']),4)]\n",
    "    results.loc[len(results)] = ['f1',round(np.average(scores_VFDT['train']),4),0,round(np.average(scores_VFDT['test']),4)]\n",
    "    results.loc[len(results)] = ['f1',round(np.average(scores_CVFDT['train']),4),0,round(np.average(scores_CVFDT['test']),4)]\n",
    "    results.to_csv('overfitting_results/'+dataset_name+'.csv')"
   ]
  },
  {
   "cell_type": "code",
   "execution_count": null,
   "id": "d8183a72-d7a4-4365-94e4-27e95007ff10",
   "metadata": {},
   "outputs": [],
   "source": [
    "#train, validation, test \n"
   ]
  },
  {
   "cell_type": "code",
   "execution_count": null,
   "id": "67f2c67f-108e-4407-9e68-e0d5da780e59",
   "metadata": {},
   "outputs": [],
   "source": []
  }
 ],
 "metadata": {
  "kernelspec": {
   "display_name": "env",
   "language": "python",
   "name": "env"
  },
  "language_info": {
   "codemirror_mode": {
    "name": "ipython",
    "version": 3
   },
   "file_extension": ".py",
   "mimetype": "text/x-python",
   "name": "python",
   "nbconvert_exporter": "python",
   "pygments_lexer": "ipython3",
   "version": "3.9.2"
  }
 },
 "nbformat": 4,
 "nbformat_minor": 5
}
